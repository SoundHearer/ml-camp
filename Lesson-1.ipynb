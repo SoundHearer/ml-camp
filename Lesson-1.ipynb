{
 "cells": [
  {
   "cell_type": "markdown",
   "metadata": {},
   "source": [
    "# 机器学习集训营3 @Julyedu.com七月在线 \n",
    "## 第一阶段：零基础快速上手编程\n",
    "### 第一课  基本python类型、判断与循环流程等\n",
    "\n",
    "##### David@七月在线 2018-1-22"
   ]
  },
  {
   "cell_type": "markdown",
   "metadata": {
    "collapsed": true
   },
   "source": [
    "\n",
    "## 整体课程路径介绍 \n",
    "\n",
    "1. Python编程基础\n",
    "- 数据爬取和存储管理\n",
    "- 数据处理和数据分析\n",
    "- 数据可视化\n",
    "- 大数据生态(Hadoop/Spark)\n",
    "- 机器学习\n",
    "- 深度学习\n",
    "- 项目"
   ]
  },
  {
   "cell_type": "markdown",
   "metadata": {},
   "source": [
    "### 本节课程目标\n",
    "\n",
    "#### 环境\n",
    "1. Anaconda本地环境搭建\n",
    "- Jupyter notebook及云平台的使用\n",
    "***\n",
    "#### Python基础\n",
    "1. Python简介与运行方式\n",
    "- Python基础语法，帮助（dir,help，以及tab的使用）\n",
    "- 标识符与操作符(赋值)\n",
    "- 基本数据类型\n",
    "- 数据类型与字符串类型\n",
    "- 列表/list 集合/set, 元组/tuple, 字典/dictionary\n",
    "- 变量和表达式\n",
    "- 判断与循环\n",
    "- BIFs 自带电池\n",
    "***\n",
    "#### 作业\n",
    "1. 完成本节课程留下的作业"
   ]
  },
  {
   "cell_type": "markdown",
   "metadata": {},
   "source": [
    "### Python 基础语法"
   ]
  },
  {
   "cell_type": "code",
   "execution_count": 23,
   "metadata": {},
   "outputs": [
    {
     "name": "stdout",
     "output_type": "stream",
     "text": [
      "hello,python\n",
      "hello!\n",
      "hello!\n",
      "hello,\n",
      " python\n",
      "在线课程：1-基本python类型、判断与循环流程等\n",
      "在线实训：2-python基本练习题\n",
      "在线课程：3-文件/数据读写、面向对象、第三方库等\n",
      "在线实训：4-多种数据读写与面向对象练习\n",
      "线下实训：5-python基本练习题 与 google python实战题\n",
      "hello\n",
      "python!\n",
      "welcome to julyedu.com\n"
     ]
    }
   ],
   "source": [
    "#notebook的使用小抄\n",
    "\n",
    "# 注释与多行注释\n",
    "print('hello,python')\n",
    "print('hello!')\n",
    "\n",
    "\n",
    "#代码分隔\\\n",
    "prin\\\n",
    "t('hello!')\n",
    "\n",
    "#文本换行\n",
    "print('hello,\\n python')\n",
    "\n",
    "#单行与多行文本的初始化\n",
    "str1='julyedu.com'\n",
    "\n",
    "\n",
    "str2='''在线课程：1-基本python类型、判断与循环流程等\n",
    "在线实训：2-python基本练习题\n",
    "在线课程：3-文件/数据读写、面向对象、第三方库等\n",
    "在线实训：4-多种数据读写与面向对象练习\n",
    "线下实训：5-python基本练习题 与 google python实战题'''\n",
    "\n",
    "print(str2)\n",
    "\n",
    "\n",
    "#一行写多行python代码;\n",
    "print('hello');print('python!')\n",
    "\n",
    "\n",
    "# 缩进\n",
    "title='Julyedu.com'\n",
    "score=61\n",
    "\n",
    "if title=='Julyedu.com':\n",
    "    print('welcome to julyedu.com')\n",
    "    if score<60:\n",
    "        pass\n",
    "\n",
    "#分隔代码块:\n",
    "\n",
    "#空行 pass\n",
    "def myfunc():\n",
    "    pass"
   ]
  },
  {
   "cell_type": "markdown",
   "metadata": {},
   "source": [
    "### 标识符的命名"
   ]
  },
  {
   "cell_type": "code",
   "execution_count": 19,
   "metadata": {
    "collapsed": true,
    "scrolled": true
   },
   "outputs": [],
   "source": [
    "#数字，下划线，字母构成\n",
    "\n",
    "#避开关键字，以及不能用数字开头\n",
    "# for='julyedu.com'\n",
    "# 1a=8\n",
    "\n",
    "#标识符命名更有效率\n",
    "student_name='david'\n",
    "\n",
    "#骆峰命名法\n",
    "WebsiteUrl='http://www.julyedu.com'"
   ]
  },
  {
   "cell_type": "markdown",
   "metadata": {},
   "source": [
    "### 标准操作符"
   ]
  },
  {
   "cell_type": "code",
   "execution_count": 47,
   "metadata": {
    "scrolled": true
   },
   "outputs": [
    {
     "name": "stdout",
     "output_type": "stream",
     "text": [
      "a not equal b\n",
      "a is grater than 50\n",
      ".net not in it\n",
      "200 100\n"
     ]
    }
   ],
   "source": [
    "#算术运算符\n",
    "a=100;b=3\n",
    "a+b;a-b;a*b;a/b\n",
    "a//b #取商\n",
    "a%b #取余\n",
    "a**2\n",
    "a**0.5\n",
    "\n",
    "\n",
    "#比较运算符\n",
    "if a==b:\n",
    "    print ('a equal b')\n",
    "\n",
    "if a!=b:\n",
    "    print ('a not equal b')\n",
    "    \n",
    "#逻辑运算符><>=,\n",
    "if a>=50:\n",
    "    print('a is grater than 50')\n",
    "    \n",
    "#成员运算符 in,not in\n",
    "websiteUrl='julyedu.com'\n",
    "if '.net' not in websiteUrl:\n",
    "    print ('.net not in it')\n",
    "    \n",
    "    \n",
    "#赋值\n",
    "\n",
    "#多重赋值\n",
    "#a=100;b=100\n",
    "a=b=100\n",
    "\n",
    "#多元赋值\n",
    "#a=100;b=200\n",
    "a,b=100,200\n",
    "\n",
    "#赋值赋值\n",
    "a,b=b,a\n",
    "print(a,b)"
   ]
  },
  {
   "cell_type": "markdown",
   "metadata": {},
   "source": [
    "### Python基本数据类型\n",
    "\n",
    "#### 数值型，字符型，列表，元组，集合,字典"
   ]
  },
  {
   "cell_type": "code",
   "execution_count": 18,
   "metadata": {
    "scrolled": false
   },
   "outputs": [
    {
     "name": "stdout",
     "output_type": "stream",
     "text": [
      "50000000.0\n",
      "you win!\n"
     ]
    }
   ],
   "source": [
    "#数值整形\n",
    "a=100;b=200\n",
    "\n",
    "#进制转换\n",
    "a=0b0101001#bin()\n",
    "b=0o4#oct()\n",
    "c=0x28#hex()\n",
    "\n",
    "#浮点型\n",
    "a=3.1415\n",
    "\n",
    "#科学计算法\n",
    "c=5e7\n",
    "print(c)\n",
    "\n",
    "#数字的正负无穷\n",
    "#float('inf')正无穷\n",
    "#float('-inf')负无穷\n",
    "if 99999999999999999<float('inf'):\n",
    "    print('you win!')\n",
    "\n",
    "#复数\n",
    "a=4.3+22j\n",
    "type(a)\n",
    "\n",
    "\n",
    "#数值类型转换\n",
    "a=4.48\n",
    "b=8\n",
    "int(a)\n",
    "\n",
    "round(a,1)   \n",
    "\n",
    "##字符串型\n",
    "#初始化及转义\n",
    "str1='''AI'''\n",
    "str2='Julyedu.com'\n",
    "\n",
    "\n",
    "#访问,索引及切片访问\n",
    "str2[-1]\n",
    "#str2[start:end:stried]\n",
    "#切片访问的特点：左闭右开[)\n",
    "str2[0:4]\n",
    "\n",
    "#格式化访问\n",
    "str3='http://{}.com'\n",
    "companyName='julyedu'\n",
    "str3.format(companyName)\n",
    "\n",
    "#查找与替换\n",
    "str3.find('o')\n",
    "str3.replace('.com','.net')\n",
    "\n",
    "#统计\n",
    "str3.count('com')\n",
    "\n",
    "#列表[]\n",
    "l1=[1,'china',['AI','julyedu.com']]\n",
    "l1.append('机器学习集训营第三期')\n",
    "\n",
    "\n",
    "###重要点：tab键与使用帮助\n",
    "#help(l1.extend)\n",
    "\n",
    "\n",
    "#元组tuple,只读列表\n",
    "t1=(1,2,3,4)\n",
    "dir(t1)\n",
    "\n",
    "\n",
    "#集合set 无序的不重复元素,集合中的对象，通常叫key\n",
    "\n",
    "s1={1,1,1,2,3,4,5,2,4,234}\n",
    "l2=[1,1,1,2,3,4,5,2,4,234]\n",
    "set(s1)\n",
    "\n",
    "\n",
    "#字典：KV对应型{}dict\n",
    "d1={'name':'david','gender':'male'}"
   ]
  },
  {
   "cell_type": "markdown",
   "metadata": {},
   "source": [
    "### statement声明与expression表达式"
   ]
  },
  {
   "cell_type": "code",
   "execution_count": 19,
   "metadata": {
    "scrolled": true
   },
   "outputs": [
    {
     "data": {
      "text/plain": [
       "7"
      ]
     },
     "execution_count": 19,
     "metadata": {},
     "output_type": "execute_result"
    }
   ],
   "source": [
    "#statement声明\n",
    "a='julyedu.com'#statement\n",
    "\n",
    "#expression表达式（通常有返回结果 ）\n",
    "a\n",
    "\n",
    "#exec执行一个声明语句,eval执行一个表达式\n",
    "exec('aaa=7')#从字符串里执行一个声明语句\n",
    "eval('aaa')#从字符串里执行一个表达式"
   ]
  },
  {
   "cell_type": "markdown",
   "metadata": {},
   "source": [
    "### 判断与循环\n",
    "#### if else elif，与三元表达式\n",
    "#### for 与while  continue与break"
   ]
  },
  {
   "cell_type": "code",
   "execution_count": 22,
   "metadata": {},
   "outputs": [
    {
     "name": "stdout",
     "output_type": "stream",
     "text": [
      "adult\n",
      "0\n",
      "1\n",
      "2\n",
      "3\n",
      "4\n",
      "5\n",
      "6\n"
     ]
    }
   ],
   "source": [
    "#单if\n",
    "\n",
    "age=25\n",
    "if age<18:\n",
    "    print('teenage')\n",
    "    \n",
    "#if else\n",
    "if age<18:\n",
    "    print('teenage')\n",
    "else:\n",
    "    print('adult')\n",
    "    \n",
    "#if elif\n",
    "\n",
    "a=44\n",
    "#三元表达式\n",
    "'a' if a>50 else 'b'\n",
    "\n",
    "\n",
    "\n",
    "#For循环与While循环\n",
    "# str1='julyedu.com'\n",
    "# for item in str1:\n",
    "#     print(item)\n",
    "    \n",
    "for item in range(7):\n",
    "    print (item)\n",
    "    \n",
    "##break与continue循环控制 "
   ]
  },
  {
   "cell_type": "code",
   "execution_count": 8,
   "metadata": {},
   "outputs": [
    {
     "name": "stdout",
     "output_type": "stream",
     "text": [
      "1\n",
      "2\n",
      "4\n",
      "5\n"
     ]
    }
   ],
   "source": [
    "i=0\n",
    "while True:\n",
    "    i+=1\n",
    "    if i==3:\n",
    "        continue\n",
    "    if i>5:\n",
    "        break\n",
    "    print(i)"
   ]
  },
  {
   "cell_type": "markdown",
   "metadata": {},
   "source": [
    "## Bifs 内置电池 Built-in Functions"
   ]
  },
  {
   "cell_type": "code",
   "execution_count": 10,
   "metadata": {},
   "outputs": [
    {
     "data": {
      "text/plain": [
       "['ArithmeticError',\n",
       " 'AssertionError',\n",
       " 'AttributeError',\n",
       " 'BaseException',\n",
       " 'BlockingIOError',\n",
       " 'BrokenPipeError',\n",
       " 'BufferError',\n",
       " 'BytesWarning',\n",
       " 'ChildProcessError',\n",
       " 'ConnectionAbortedError',\n",
       " 'ConnectionError',\n",
       " 'ConnectionRefusedError',\n",
       " 'ConnectionResetError',\n",
       " 'DeprecationWarning',\n",
       " 'EOFError',\n",
       " 'Ellipsis',\n",
       " 'EnvironmentError',\n",
       " 'Exception',\n",
       " 'False',\n",
       " 'FileExistsError',\n",
       " 'FileNotFoundError',\n",
       " 'FloatingPointError',\n",
       " 'FutureWarning',\n",
       " 'GeneratorExit',\n",
       " 'IOError',\n",
       " 'ImportError',\n",
       " 'ImportWarning',\n",
       " 'IndentationError',\n",
       " 'IndexError',\n",
       " 'InterruptedError',\n",
       " 'IsADirectoryError',\n",
       " 'KeyError',\n",
       " 'KeyboardInterrupt',\n",
       " 'LookupError',\n",
       " 'MemoryError',\n",
       " 'NameError',\n",
       " 'None',\n",
       " 'NotADirectoryError',\n",
       " 'NotImplemented',\n",
       " 'NotImplementedError',\n",
       " 'OSError',\n",
       " 'OverflowError',\n",
       " 'PendingDeprecationWarning',\n",
       " 'PermissionError',\n",
       " 'ProcessLookupError',\n",
       " 'RecursionError',\n",
       " 'ReferenceError',\n",
       " 'ResourceWarning',\n",
       " 'RuntimeError',\n",
       " 'RuntimeWarning',\n",
       " 'StopAsyncIteration',\n",
       " 'StopIteration',\n",
       " 'SyntaxError',\n",
       " 'SyntaxWarning',\n",
       " 'SystemError',\n",
       " 'SystemExit',\n",
       " 'TabError',\n",
       " 'TimeoutError',\n",
       " 'True',\n",
       " 'TypeError',\n",
       " 'UnboundLocalError',\n",
       " 'UnicodeDecodeError',\n",
       " 'UnicodeEncodeError',\n",
       " 'UnicodeError',\n",
       " 'UnicodeTranslateError',\n",
       " 'UnicodeWarning',\n",
       " 'UserWarning',\n",
       " 'ValueError',\n",
       " 'Warning',\n",
       " 'ZeroDivisionError',\n",
       " '__IPYTHON__',\n",
       " '__build_class__',\n",
       " '__debug__',\n",
       " '__doc__',\n",
       " '__import__',\n",
       " '__loader__',\n",
       " '__name__',\n",
       " '__package__',\n",
       " '__spec__',\n",
       " 'abs',\n",
       " 'all',\n",
       " 'any',\n",
       " 'ascii',\n",
       " 'bin',\n",
       " 'bool',\n",
       " 'bytearray',\n",
       " 'bytes',\n",
       " 'callable',\n",
       " 'chr',\n",
       " 'classmethod',\n",
       " 'compile',\n",
       " 'complex',\n",
       " 'copyright',\n",
       " 'credits',\n",
       " 'delattr',\n",
       " 'dict',\n",
       " 'dir',\n",
       " 'display',\n",
       " 'divmod',\n",
       " 'enumerate',\n",
       " 'eval',\n",
       " 'exec',\n",
       " 'filter',\n",
       " 'float',\n",
       " 'format',\n",
       " 'frozenset',\n",
       " 'get_ipython',\n",
       " 'getattr',\n",
       " 'globals',\n",
       " 'hasattr',\n",
       " 'hash',\n",
       " 'help',\n",
       " 'hex',\n",
       " 'id',\n",
       " 'input',\n",
       " 'int',\n",
       " 'isinstance',\n",
       " 'issubclass',\n",
       " 'iter',\n",
       " 'len',\n",
       " 'license',\n",
       " 'list',\n",
       " 'locals',\n",
       " 'map',\n",
       " 'max',\n",
       " 'memoryview',\n",
       " 'min',\n",
       " 'next',\n",
       " 'object',\n",
       " 'oct',\n",
       " 'open',\n",
       " 'ord',\n",
       " 'pow',\n",
       " 'print',\n",
       " 'property',\n",
       " 'range',\n",
       " 'repr',\n",
       " 'reversed',\n",
       " 'round',\n",
       " 'set',\n",
       " 'setattr',\n",
       " 'slice',\n",
       " 'sorted',\n",
       " 'staticmethod',\n",
       " 'str',\n",
       " 'sum',\n",
       " 'super',\n",
       " 'tuple',\n",
       " 'type',\n",
       " 'vars',\n",
       " 'zip']"
      ]
     },
     "execution_count": 10,
     "metadata": {},
     "output_type": "execute_result"
    }
   ],
   "source": [
    "dir(__builtins__)"
   ]
  },
  {
   "cell_type": "code",
   "execution_count": null,
   "metadata": {
    "collapsed": true
   },
   "outputs": [],
   "source": []
  },
  {
   "cell_type": "markdown",
   "metadata": {},
   "source": [
    "## 作业"
   ]
  },
  {
   "cell_type": "markdown",
   "metadata": {},
   "source": [
    "- 求从1到100的数字中所有既能被3整除又能被5整除的数字的有哪些"
   ]
  },
  {
   "cell_type": "code",
   "execution_count": null,
   "metadata": {
    "collapsed": true
   },
   "outputs": [],
   "source": [
    "- 输入一个字符串返回满足以下条件的字符串\n",
    " 1. 如果字符串长度大等于3，添加 'ing' 到字符串的末尾\n",
    " 2. 如果字符串是以 'ing' 结尾的，就在末尾添加 'ly'\n",
    " 3. 如果字符串长度小于3，返回原字符串"
   ]
  },
  {
   "cell_type": "code",
   "execution_count": null,
   "metadata": {
    "collapsed": true
   },
   "outputs": [],
   "source": [
    "# - 判断是否为回文\n",
    " - 提示：回文：62426是回文数字"
   ]
  },
  {
   "cell_type": "markdown",
   "metadata": {},
   "source": [
    "- 输入一个字符串，返回满足以下条件字符串\n",
    "\n",
    " - 找到字符串中的子串 'not' 和 'bad’\n",
    " - 如果 'bad' 出现在 'not' 后面，就把 'not' ... 'bad' 之间包含的所有字符串替换成 'good'"
   ]
  },
  {
   "cell_type": "markdown",
   "metadata": {},
   "source": [
    "- 输入一个字符串，把字符串拆分成两个等分\n",
    "\n",
    " - 如果字符串长度是偶数，前一半和后一半的长度是相同的\n",
    " - 如果字符串长度是奇数，则多出的一个字符加到前一半，如：'abcde'，前一半是'abc'，后一半是'de'"
   ]
  },
  {
   "cell_type": "markdown",
   "metadata": {},
   "source": [
    "- 输入一个字符串返回满足以下条件的字符串\n",
    "\n",
    " - 找出与字符串的第一个字母相同的字母，把它们替换成 '*'，除了第一个字母本身以外\n",
    " - 例如: 输入'babble'， 返回 'ba**le'"
   ]
  },
  {
   "cell_type": "markdown",
   "metadata": {},
   "source": [
    "- 输入一个字符串 返回满足以下条件的字符串\n",
    "\n",
    " - 由字符串的最前面两个字母和最后两个字母组成的字符串。\n",
    " - 例如： 'spring' 返回 'spng'， 'is' 返回 'is’\n",
    " - 当输入的字符串长度小于2时，返回空字符串"
   ]
  },
  {
   "cell_type": "markdown",
   "metadata": {},
   "source": [
    "- 落球计算\n",
    "\n",
    " - 一球从100米高度自由落下，假设每次落地后反跳回原高度的一半；再落下，再弹起。请问第6次落地后会弹起多少米？\n",
    " - 使用for与while循环完成"
   ]
  },
  {
   "cell_type": "markdown",
   "metadata": {},
   "source": [
    "- 求两个数字之间的素数\n",
    " - 素数：只能被1及自己整除的数，如3，7，13，23等"
   ]
  }
 ],
 "metadata": {
  "kernelspec": {
   "display_name": "Python 3",
   "language": "python",
   "name": "python3"
  },
  "language_info": {
   "codemirror_mode": {
    "name": "ipython",
    "version": 3
   },
   "file_extension": ".py",
   "mimetype": "text/x-python",
   "name": "python",
   "nbconvert_exporter": "python",
   "pygments_lexer": "ipython3",
   "version": "3.5.2"
  }
 },
 "nbformat": 4,
 "nbformat_minor": 2
}
