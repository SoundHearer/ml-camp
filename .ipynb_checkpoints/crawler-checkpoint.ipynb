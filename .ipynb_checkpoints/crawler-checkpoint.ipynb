{
 "cells": [
  {
   "cell_type": "markdown",
   "metadata": {},
   "source": [
    "ctrl+f 调出search框，用于检查xpath所定位的元素正确与否\n",
    "xpath 路径表达式 ：\n",
    "                / 搜索根节点\n",
    "                // 全局搜索\n",
    "                @ 用于限定[@  ]  ,  用于查找元素\n",
    "xpath 搜索有两种结果：1、获取节点下的文本内容 text（） ex：//div[@class = '  ']/a/text()\n",
    "                   2、获取节点下的属性 @ ex：//div[@class = '  ']/a/@href"
   ]
  },
  {
   "cell_type": "markdown",
   "metadata": {
    "collapsed": true
   },
   "source": [
    "要做数据解析，先获取数据，要获取数据，先（向网页通常是）发起请求，今天主要用到两个库：request ， lxml ，time（用于刷新请求动作）"
   ]
  },
  {
   "cell_type": "code",
   "execution_count": 3,
   "metadata": {},
   "outputs": [],
   "source": [
    "import requests\n",
    "import time\n",
    "import lxml"
   ]
  },
  {
   "cell_type": "code",
   "execution_count": 9,
   "metadata": {},
   "outputs": [],
   "source": [
    "url = \"https://movie.douban.com/subject/26388908/episode/1/\"\n",
    "r = requests.get(url,headers)"
   ]
  },
  {
   "cell_type": "code",
   "execution_count": 10,
   "metadata": {},
   "outputs": [
    {
     "data": {
      "text/plain": [
       "requests.models.Response"
      ]
     },
     "execution_count": 10,
     "metadata": {},
     "output_type": "execute_result"
    }
   ],
   "source": [
    "type(r)"
   ]
  },
  {
   "cell_type": "markdown",
   "metadata": {},
   "source": [
    "编码问题获取内容用text"
   ]
  },
  {
   "cell_type": "code",
   "execution_count": 11,
   "metadata": {},
   "outputs": [
    {
     "data": {
      "text/plain": [
       "'检测到有异常请求从你的 IP 发出，请 <a href=\"https://www.douban.com/accounts/login?redir=https%3A%2F%2Fmovie.douban.com%2Fsubject%2F26388908%2Fepisode%2F1%2F%3FUser-Agent%3DMozilla%252F5.0%2B%2528Windows%2BNT%2B10.0%253B%2BWin64%253B%2Bx64%2529%26Referer%3Dhttp%253A%252F%252Fwww.zhihu.com%252Farticles\">登录</a> 使用豆瓣。\\n'"
      ]
     },
     "execution_count": 11,
     "metadata": {},
     "output_type": "execute_result"
    }
   ],
   "source": [
    "r.text"
   ]
  },
  {
   "cell_type": "code",
   "execution_count": 7,
   "metadata": {},
   "outputs": [
    {
     "data": {
      "text/plain": [
       "b'\\xe6\\xa3\\x80\\xe6\\xb5\\x8b\\xe5\\x88\\xb0\\xe6\\x9c\\x89\\xe5\\xbc\\x82\\xe5\\xb8\\xb8\\xe8\\xaf\\xb7\\xe6\\xb1\\x82\\xe4\\xbb\\x8e\\xe4\\xbd\\xa0\\xe7\\x9a\\x84 IP \\xe5\\x8f\\x91\\xe5\\x87\\xba\\xef\\xbc\\x8c\\xe8\\xaf\\xb7 <a href=\"https://www.douban.com/accounts/login?redir=https%3A%2F%2Fmovie.douban.com%2Fsubject%2F26388908%2Fepisode%2F1%2F%3FUser-Agent%3DMozilla%252F5.0%2B%2528Windows%2BNT%2B10.0%253B%2BWin64%253B%2Bx64%2529%26Referer%3Dhttp%253A%252F%252Fwww.zhihu.com%252Farticles\">\\xe7\\x99\\xbb\\xe5\\xbd\\x95</a> \\xe4\\xbd\\xbf\\xe7\\x94\\xa8\\xe8\\xb1\\x86\\xe7\\x93\\xa3\\xe3\\x80\\x82\\n'"
      ]
     },
     "execution_count": 7,
     "metadata": {},
     "output_type": "execute_result"
    }
   ],
   "source": [
    "r.content"
   ]
  },
  {
   "cell_type": "code",
   "execution_count": 8,
   "metadata": {},
   "outputs": [],
   "source": [
    "from lxml import etree\n",
    "selector = etree.HTML(r.text)"
   ]
  },
  {
   "cell_type": "code",
   "execution_count": 8,
   "metadata": {},
   "outputs": [
    {
     "data": {
      "text/plain": [
       "lxml.etree._Element"
      ]
     },
     "execution_count": 8,
     "metadata": {},
     "output_type": "execute_result"
    }
   ],
   "source": [
    "type(selector)"
   ]
  },
  {
   "cell_type": "code",
   "execution_count": 9,
   "metadata": {
    "collapsed": true
   },
   "outputs": [],
   "source": [
    "users = selector.xpath(\"//div[@class='bd']/h4/a/text()\")"
   ]
  },
  {
   "cell_type": "code",
   "execution_count": 10,
   "metadata": {},
   "outputs": [
    {
     "name": "stdout",
     "output_type": "stream",
     "text": [
      "['董小姐', 'Sincerely', 'D', '诚诚carrie', 'gavin', '你一定撩不动我', '从头来过', '回音', 'J.', '二月半']\n"
     ]
    }
   ],
   "source": [
    "print (users)"
   ]
  },
  {
   "cell_type": "code",
   "execution_count": 19,
   "metadata": {},
   "outputs": [],
   "source": [
    "comments = selector.xpath(\"//div[@class='bd']\")"
   ]
  },
  {
   "cell_type": "code",
   "execution_count": 20,
   "metadata": {},
   "outputs": [
    {
     "name": "stdout",
     "output_type": "stream",
     "text": [
      "[<Element div at 0x7fba999ee5c8>, <Element div at 0x7fba999eef48>, <Element div at 0x7fba999eef08>, <Element div at 0x7fba999eeec8>, <Element div at 0x7fba999f4188>, <Element div at 0x7fba999f41c8>, <Element div at 0x7fba999f4208>, <Element div at 0x7fba999f4248>, <Element div at 0x7fba999f4288>, <Element div at 0x7fba999f42c8>, <Element div at 0x7fba999f4308>, <Element div at 0x7fba999f4348>, <Element div at 0x7fba999f4388>]\n"
     ]
    }
   ],
   "source": [
    "print (comments)"
   ]
  },
  {
   "cell_type": "code",
   "execution_count": 13,
   "metadata": {},
   "outputs": [
    {
     "data": {
      "text/plain": [
       "list"
      ]
     },
     "execution_count": 13,
     "metadata": {},
     "output_type": "execute_result"
    }
   ],
   "source": [
    "type(comments)"
   ]
  },
  {
   "cell_type": "code",
   "execution_count": 14,
   "metadata": {
    "collapsed": true
   },
   "outputs": [],
   "source": [
    "users = []"
   ]
  },
  {
   "cell_type": "code",
   "execution_count": 21,
   "metadata": {},
   "outputs": [
    {
     "name": "stdout",
     "output_type": "stream",
     "text": [
      "[]\n",
      "[]\n",
      "['董小姐']\n",
      "['Sincerely']\n",
      "['D']\n",
      "['诚诚carrie']\n",
      "['gavin']\n",
      "['你一定撩不动我']\n",
      "['从头来过']\n",
      "['回音']\n",
      "['J.']\n",
      "['二月半']\n",
      "[]\n"
     ]
    }
   ],
   "source": [
    "for comment in comments:\n",
    "    #print (comment)\n",
    "    user = comment.xpath(\"./h4/a/text()\")\n",
    "    #print (type(user))\n",
    "    #print (user)\n",
    "    print (str(user))\n",
    "    #users.append(str(user))\n",
    "    #print (users)\n",
    "#print (users)"
   ]
  },
  {
   "cell_type": "code",
   "execution_count": 36,
   "metadata": {},
   "outputs": [
    {
     "name": "stdout",
     "output_type": "stream",
     "text": [
      "[]\n"
     ]
    }
   ],
   "source": [
    "print (users)"
   ]
  }
 ],
 "metadata": {
  "kernelspec": {
   "display_name": "Python 3",
   "language": "python",
   "name": "python3"
  },
  "language_info": {
   "codemirror_mode": {
    "name": "ipython",
    "version": 3
   },
   "file_extension": ".py",
   "mimetype": "text/x-python",
   "name": "python",
   "nbconvert_exporter": "python",
   "pygments_lexer": "ipython3",
   "version": "3.6.1"
  }
 },
 "nbformat": 4,
 "nbformat_minor": 2
}
