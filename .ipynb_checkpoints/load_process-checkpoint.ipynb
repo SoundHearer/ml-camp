{
 "cells": [
  {
   "cell_type": "code",
   "execution_count": 21,
   "metadata": {
    "collapsed": true
   },
   "outputs": [],
   "source": [
    "import pandas as pd\n",
    "\n",
    "loan_total = pd.DataFrame({\"ln_no\":['10001', '10001', '10001', '10001', '10001','10002', '10002', '10002', '10002', '10002'],\n",
    "                         \"check_date\":[\"20171021\",\"20171121\",\"20171221\",\"20180121\",\"20180221\"]*2,\n",
    "                         \"yuqi_status\":[\"M1\",\"C\",\"M1\",\"M2\",\"C\",\"M1\",\"C\",\"M1\",\"C\",\"C\"],\n",
    "                         \"yue\":[10000,9900,9900,9900,9700,50000,49900,49900,49800,49700]})"
   ]
  },
  {
   "cell_type": "code",
   "execution_count": 22,
   "metadata": {},
   "outputs": [
    {
     "data": {
      "text/html": [
       "<div>\n",
       "<style scoped>\n",
       "    .dataframe tbody tr th:only-of-type {\n",
       "        vertical-align: middle;\n",
       "    }\n",
       "\n",
       "    .dataframe tbody tr th {\n",
       "        vertical-align: top;\n",
       "    }\n",
       "\n",
       "    .dataframe thead th {\n",
       "        text-align: right;\n",
       "    }\n",
       "</style>\n",
       "<table border=\"1\" class=\"dataframe\">\n",
       "  <thead>\n",
       "    <tr style=\"text-align: right;\">\n",
       "      <th></th>\n",
       "      <th>check_date</th>\n",
       "      <th>ln_no</th>\n",
       "      <th>yue</th>\n",
       "      <th>yuqi_status</th>\n",
       "    </tr>\n",
       "  </thead>\n",
       "  <tbody>\n",
       "    <tr>\n",
       "      <th>0</th>\n",
       "      <td>20171021</td>\n",
       "      <td>10001</td>\n",
       "      <td>10000</td>\n",
       "      <td>M1</td>\n",
       "    </tr>\n",
       "    <tr>\n",
       "      <th>1</th>\n",
       "      <td>20171121</td>\n",
       "      <td>10001</td>\n",
       "      <td>9900</td>\n",
       "      <td>C</td>\n",
       "    </tr>\n",
       "    <tr>\n",
       "      <th>2</th>\n",
       "      <td>20171221</td>\n",
       "      <td>10001</td>\n",
       "      <td>9900</td>\n",
       "      <td>M1</td>\n",
       "    </tr>\n",
       "    <tr>\n",
       "      <th>3</th>\n",
       "      <td>20180121</td>\n",
       "      <td>10001</td>\n",
       "      <td>9900</td>\n",
       "      <td>M2</td>\n",
       "    </tr>\n",
       "    <tr>\n",
       "      <th>4</th>\n",
       "      <td>20180221</td>\n",
       "      <td>10001</td>\n",
       "      <td>9700</td>\n",
       "      <td>C</td>\n",
       "    </tr>\n",
       "    <tr>\n",
       "      <th>5</th>\n",
       "      <td>20171021</td>\n",
       "      <td>10002</td>\n",
       "      <td>50000</td>\n",
       "      <td>M1</td>\n",
       "    </tr>\n",
       "    <tr>\n",
       "      <th>6</th>\n",
       "      <td>20171121</td>\n",
       "      <td>10002</td>\n",
       "      <td>49900</td>\n",
       "      <td>C</td>\n",
       "    </tr>\n",
       "    <tr>\n",
       "      <th>7</th>\n",
       "      <td>20171221</td>\n",
       "      <td>10002</td>\n",
       "      <td>49900</td>\n",
       "      <td>M1</td>\n",
       "    </tr>\n",
       "    <tr>\n",
       "      <th>8</th>\n",
       "      <td>20180121</td>\n",
       "      <td>10002</td>\n",
       "      <td>49800</td>\n",
       "      <td>C</td>\n",
       "    </tr>\n",
       "    <tr>\n",
       "      <th>9</th>\n",
       "      <td>20180221</td>\n",
       "      <td>10002</td>\n",
       "      <td>49700</td>\n",
       "      <td>C</td>\n",
       "    </tr>\n",
       "  </tbody>\n",
       "</table>\n",
       "</div>"
      ],
      "text/plain": [
       "  check_date  ln_no    yue yuqi_status\n",
       "0   20171021  10001  10000          M1\n",
       "1   20171121  10001   9900           C\n",
       "2   20171221  10001   9900          M1\n",
       "3   20180121  10001   9900          M2\n",
       "4   20180221  10001   9700           C\n",
       "5   20171021  10002  50000          M1\n",
       "6   20171121  10002  49900           C\n",
       "7   20171221  10002  49900          M1\n",
       "8   20180121  10002  49800           C\n",
       "9   20180221  10002  49700           C"
      ]
     },
     "execution_count": 22,
     "metadata": {},
     "output_type": "execute_result"
    }
   ],
   "source": [
    "loan_total"
   ]
  },
  {
   "cell_type": "code",
   "execution_count": 23,
   "metadata": {
    "collapsed": true
   },
   "outputs": [],
   "source": [
    "loan_total.loc[:,'yuqi_shift'] = loan_total['yuqi_status'].shift(1)\n",
    "loan_total.loc[:,'yuqi_combine'] = loan_total['yuqi_shift']+\"_\"+loan_total['yuqi_status']\n",
    "loan_total.loc[:,'yue_shift'] = loan_total['yue'].shift(1)\n",
    "loan_total.dropna(inplace=True)\n",
    "rule = (loan_total.yuqi_combine.str.contains(\"_C\"))&(loan_total.yuqi_combine.str.contains(\"M\"))\n",
    "loan_result = loan_total.loc[rule,:][['ln_no','check_date','yuqi_combine','yue_shift']]"
   ]
  },
  {
   "cell_type": "code",
   "execution_count": 26,
   "metadata": {},
   "outputs": [
    {
     "data": {
      "text/html": [
       "<div>\n",
       "<style scoped>\n",
       "    .dataframe tbody tr th:only-of-type {\n",
       "        vertical-align: middle;\n",
       "    }\n",
       "\n",
       "    .dataframe tbody tr th {\n",
       "        vertical-align: top;\n",
       "    }\n",
       "\n",
       "    .dataframe thead th {\n",
       "        text-align: right;\n",
       "    }\n",
       "</style>\n",
       "<table border=\"1\" class=\"dataframe\">\n",
       "  <thead>\n",
       "    <tr style=\"text-align: right;\">\n",
       "      <th></th>\n",
       "      <th>ln_no</th>\n",
       "    </tr>\n",
       "  </thead>\n",
       "  <tbody>\n",
       "    <tr>\n",
       "      <th>1</th>\n",
       "      <td>10001</td>\n",
       "    </tr>\n",
       "    <tr>\n",
       "      <th>4</th>\n",
       "      <td>10001</td>\n",
       "    </tr>\n",
       "    <tr>\n",
       "      <th>6</th>\n",
       "      <td>10002</td>\n",
       "    </tr>\n",
       "    <tr>\n",
       "      <th>8</th>\n",
       "      <td>10002</td>\n",
       "    </tr>\n",
       "  </tbody>\n",
       "</table>\n",
       "</div>"
      ],
      "text/plain": [
       "   ln_no\n",
       "1  10001\n",
       "4  10001\n",
       "6  10002\n",
       "8  10002"
      ]
     },
     "execution_count": 26,
     "metadata": {},
     "output_type": "execute_result"
    }
   ],
   "source": [
    "loan_result"
   ]
  },
  {
   "cell_type": "code",
   "execution_count": null,
   "metadata": {
    "collapsed": true
   },
   "outputs": [],
   "source": []
  }
 ],
 "metadata": {
  "kernelspec": {
   "display_name": "Python 3",
   "language": "python",
   "name": "python3"
  },
  "language_info": {
   "codemirror_mode": {
    "name": "ipython",
    "version": 3
   },
   "file_extension": ".py",
   "mimetype": "text/x-python",
   "name": "python",
   "nbconvert_exporter": "python",
   "pygments_lexer": "ipython3",
   "version": "3.5.2"
  }
 },
 "nbformat": 4,
 "nbformat_minor": 2
}
