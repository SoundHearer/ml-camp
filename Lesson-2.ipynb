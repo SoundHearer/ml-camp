{
 "cells": [
  {
   "cell_type": "markdown",
   "metadata": {},
   "source": [
    "# 机器学习集训营3 @Julyedu.com七月在线 \n",
    "## 第一阶段：零基础快速上手编程\n",
    "### 第二课  函数与面向对象、文件/目录操作与第三方库\n",
    "\n",
    "##### David@七月在线 2018-1-24"
   ]
  },
  {
   "cell_type": "markdown",
   "metadata": {},
   "source": [
    "### 上节课程复习\n",
    "- 快速复习"
   ]
  },
  {
   "cell_type": "markdown",
   "metadata": {},
   "source": [
    "### 本节课程目标\n",
    "\n",
    "1. 函数\n",
    " - 函数意义\n",
    " - 参数(定长与不定长参数)，偏函数\n",
    " - 返回值 return\n",
    " - 高阶函数与匿名函数\n",
    "- 面向对象\n",
    " - 面向对象思想\n",
    "   - Python中一切皆对象\n",
    "   - 类是封装了数据与方法\n",
    " - 类成员\n",
    "   - 数据成员\n",
    "     - 类变量与实例变量\n",
    "   - 方法成员\n",
    "     - 类方法与实例方法\n",
    " - 继承与多态\n",
    "- 其它小点\n",
    "   - Python运行方式\n",
    "   - 列表推导式List Comprehension\n",
    "   - 可变对象与不可变 \n",
    " *** \n",
    "- 文件读写\n",
    "- os,sys,random,re等Python内置库其它第三方库(如requests,scrapy,numpy,pandas)\n",
    "***\n",
    "#### 作业\n",
    "- 完成本节课程作业"
   ]
  },
  {
   "cell_type": "markdown",
   "metadata": {},
   "source": [
    "### 函数"
   ]
  },
  {
   "cell_type": "code",
   "execution_count": 1,
   "metadata": {
    "scrolled": true
   },
   "outputs": [
    {
     "name": "stdout",
     "output_type": "stream",
     "text": [
      "<class 'dict'>\n"
     ]
    },
    {
     "data": {
      "text/plain": [
       "[0, 'david', 'male']"
      ]
     },
     "execution_count": 1,
     "metadata": {},
     "output_type": "execute_result"
    }
   ],
   "source": [
    "###### def printhello():#定义\n",
    "#     #函数体\n",
    "    \n",
    "#     for i in range(6):\n",
    "#         print('hello!')\n",
    "\n",
    "\n",
    "def printhello1(num,strcontent):#参数\n",
    "    for i in range(num):\n",
    "        print(strcontent)\n",
    "        \n",
    "#有返回值 与无返回值  None\n",
    "\n",
    "\n",
    "#参数,位置参数（定位参数）\n",
    "def myadd2(a,b):\n",
    "    return a+b\n",
    "\n",
    "def myadd3(a,b,c):\n",
    "    return a+b+c\n",
    "\n",
    "def myadd4(a,b,c,d):\n",
    "    print(d)\n",
    "\n",
    "\n",
    "def myadd(arg,*args):\n",
    "    print(type(args))\n",
    "    print(args)\n",
    "    return sum(args)\n",
    "\n",
    "# myadd4(6,3,5,3)\n",
    "\n",
    "# myadd4(3,4,5,5)\n",
    "\n",
    "# myadd(1,3,7,7,7,7,7,7,7,7,5,7,7,7,7,77,8,2)\n",
    "\n",
    "#关键字参数\n",
    "def myadd0(args,lastnum=1000):\n",
    "    return args+lastnum\n",
    "\n",
    "def myaddkw(**names):\n",
    "    print(type(names))\n",
    "    return list(names.values())\n",
    "    \n",
    "myaddkw(name='david',gender='male',age=0)"
   ]
  },
  {
   "cell_type": "code",
   "execution_count": 195,
   "metadata": {},
   "outputs": [
    {
     "data": {
      "text/plain": [
       "54"
      ]
     },
     "execution_count": 195,
     "metadata": {},
     "output_type": "execute_result"
    }
   ],
   "source": [
    "#偏函数\n",
    "#设置了一部分参数的函数\n",
    "\n",
    "import functools\n",
    "\n",
    "a=0x24\n",
    "int(str(a),base=16)\n",
    "\n",
    "hex2int=functools.partial(int,base=16)\n",
    "\n",
    "type(hex2int)\n",
    "\n",
    "hex2int(str(a))"
   ]
  },
  {
   "cell_type": "markdown",
   "metadata": {},
   "source": [
    "## 高阶函数与匿名函数"
   ]
  },
  {
   "cell_type": "code",
   "execution_count": 196,
   "metadata": {},
   "outputs": [
    {
     "data": {
      "text/plain": [
       "[1, 2]"
      ]
     },
     "execution_count": 196,
     "metadata": {},
     "output_type": "execute_result"
    }
   ],
   "source": [
    "type(lambda a,b:a-b)\n",
    "#定义，lambda\n",
    "#函数体不用写return\n",
    "\n",
    "#map,reduce,filter\n",
    "l1=[1,2,3,4,5,6,7]\n",
    "\n",
    "list(map(lambda x:x**2,l1))\n",
    "\n",
    "#Reduce\n",
    "from functools import reduce\n",
    "\n",
    "def func1(a,b):\n",
    "    return a-b\n",
    "\n",
    "\n",
    "reduce(func1,l1)\n",
    "\n",
    "\n",
    "## filter\n",
    "# help(filter)\n",
    "\n",
    "list(filter(lambda x:True if x<3 else False,l1))\n",
    "\n",
    "\n",
    "#到底什么是高阶函数\n",
    "# def"
   ]
  },
  {
   "cell_type": "markdown",
   "metadata": {},
   "source": [
    "### 面向对象思想\n",
    "#### Python中一切皆对象\n",
    "   \n",
    "   "
   ]
  },
  {
   "cell_type": "code",
   "execution_count": 198,
   "metadata": {},
   "outputs": [
    {
     "name": "stdout",
     "output_type": "stream",
     "text": [
      "140376007445088 140376013637152\n"
     ]
    }
   ],
   "source": [
    "#type()，返回对象类型\n",
    "#id\n",
    "#dir\n",
    "\n",
    "def a():\n",
    "    pass\n",
    "def b():\n",
    "    pass\n",
    "\n",
    "print(id(a),id(b))\n",
    "\n",
    "# dir(__builtin__)"
   ]
  },
  {
   "cell_type": "markdown",
   "metadata": {},
   "source": [
    "### 面向对象\n",
    "\n"
   ]
  },
  {
   "cell_type": "code",
   "execution_count": 1,
   "metadata": {},
   "outputs": [
    {
     "name": "stdout",
     "output_type": "stream",
     "text": [
      "sorry\n"
     ]
    },
    {
     "data": {
      "text/plain": [
       "0"
      ]
     },
     "execution_count": 1,
     "metadata": {},
     "output_type": "execute_result"
    }
   ],
   "source": [
    "### 类的创建与对象的初始化\n",
    "\n",
    "#学生类设计\n",
    "#总学生的人数，全部学生的姓名，已经毕业的学生的数量\n",
    "#考试功能，分数大于60分，pass,，计入总分，否则 fail\n",
    "#查分功能，如果某位学员的总分大于500分，代表您可以毕业。\n",
    "#查所有已经毕业学员的姓名。\n",
    "\n",
    "\n",
    "class Student():\n",
    "    student_total=0\n",
    "    student_namelist=[]\n",
    "    student_graduated=0\n",
    "    student_graduated_name_list=[]\n",
    "    pass_score=500\n",
    "    \n",
    "    def __init__(self,name,age,gender):\n",
    "        self.name=name\n",
    "        self.age=age\n",
    "        self.gender=gender\n",
    "        self.score=0\n",
    "        Student.student_total+=1\n",
    "        Student.student_namelist.append(name)\n",
    "        \n",
    " \n",
    "        \n",
    "    def exam(self,examscore):\n",
    "        if examscore<60:\n",
    "            print('sorry')\n",
    "        else:\n",
    "            self.score+=examscore\n",
    "            if self.score>500:\n",
    "                Student.student_graduated+=1\n",
    "                Student.student_graduated_name_list.append(self.name)\n",
    "    \n",
    "    def check(self,):\n",
    "        if self.score<500:\n",
    "            return '还差',500-self.score\n",
    "        else:\n",
    "            return '您已经毕业'\n",
    "\n",
    "    @classmethod\n",
    "    def get_graducated_student(cls,):\n",
    "        return Student.student_graduated\n",
    "    \n",
    "    @classmethod\n",
    "    def get_graducated_student_list(cls,):\n",
    "        return Student.student_graduated_name_list    \n",
    "\n",
    "no21=Student('shengli',22,'male')\n",
    "no22=Student('liment',23,'male')\n",
    "no23=Student('haoting',24,'male')\n",
    "\n",
    "# type(no21)\n",
    "# print(id(no22),id(no23))\n",
    "\n",
    "no23.exam(600)\n",
    "no21.exam(600)\n",
    "no22.exam(59)\n",
    "\n",
    "no22.score"
   ]
  },
  {
   "cell_type": "code",
   "execution_count": 201,
   "metadata": {},
   "outputs": [
    {
     "data": {
      "text/plain": [
       "['haoting', 'shengli']"
      ]
     },
     "execution_count": 201,
     "metadata": {},
     "output_type": "execute_result"
    }
   ],
   "source": [
    "no23.check()\n",
    "no23.get_graducated_student_list()"
   ]
  },
  {
   "cell_type": "code",
   "execution_count": 202,
   "metadata": {
    "collapsed": true
   },
   "outputs": [],
   "source": [
    "#继承\n",
    "class student1(Student):\n",
    "    pass"
   ]
  },
  {
   "cell_type": "code",
   "execution_count": 175,
   "metadata": {},
   "outputs": [
    {
     "data": {
      "text/plain": [
       "[5, 6, 7]"
      ]
     },
     "execution_count": 175,
     "metadata": {},
     "output_type": "execute_result"
    }
   ],
   "source": [
    "#列表推导式\n",
    "\n",
    "\n",
    "l1=[1,2,3,4,5,6]\n",
    "\n",
    "[x+1 for x in l1 if x>3]"
   ]
  },
  {
   "cell_type": "code",
   "execution_count": 203,
   "metadata": {
    "collapsed": true
   },
   "outputs": [],
   "source": [
    "#不可变对象\n",
    "a=b=c=99\n",
    "c=98\n",
    "\n",
    "\n",
    "#可变对象\n",
    "l1=[1,2,3,4,5]\n",
    "\n",
    "l2=l1\n",
    "\n",
    "l1.append(6)"
   ]
  },
  {
   "cell_type": "code",
   "execution_count": 205,
   "metadata": {
    "collapsed": true
   },
   "outputs": [],
   "source": [
    "#文件读写\n",
    "file=open('list.txt','wb')\n",
    "# dir(file)\n"
   ]
  },
  {
   "cell_type": "markdown",
   "metadata": {},
   "source": [
    "### 作业"
   ]
  },
  {
   "cell_type": "markdown",
   "metadata": {},
   "source": [
    "- 使用列表推导式实现行列互转\n",
    "  - arr= [[1, 2, 3], [4, 5, 6], [7,8, 9], [10, 11, 12]]\n",
    "  - zip"
   ]
  },
  {
   "cell_type": "markdown",
   "metadata": {},
   "source": [
    "- 用户名密码对应\n",
    " - 给定两个列表，一个存放用户名，一个 存放密码。请将用户名和密码按顺序进行对应为一个元素。\n",
    " - Username=['jack','bob','john']\n",
    " - Password=['123','859','hello']"
   ]
  },
  {
   "cell_type": "markdown",
   "metadata": {},
   "source": [
    "- 词频统计\n",
    " - l1=['sklearn','AI','julyedu.com','Caffe','AI','sklearn']\n",
    " - 对l1包含的单词，利用dict统计词频\n",
    " - 对每个参数进行判断，若在则对应的value+1\n",
    " - 否则根据该字符创建一个key并且value设置 为1\n",
    " - 最后输出该词典"
   ]
  },
  {
   "cell_type": "markdown",
   "metadata": {},
   "source": [
    "- 要求创建一个函数，它可以接收，位置参数，不定长位置参数，不定长关键词参数，并按要求输出 。\n",
    "  - 输入班级名，班级特色（如’勤奋’,’颜值高’ ）等等不同特色，班级不同同学的姓名与年龄。\n",
    "  - 要求输出，班级名，班级特色，班级成员，班级成员的平均年龄。\n",
    "\n",
    "\n"
   ]
  },
  {
   "cell_type": "markdown",
   "metadata": {},
   "source": [
    "- 使用reduce函数实现找出一组数字列表中的最大值"
   ]
  },
  {
   "cell_type": "markdown",
   "metadata": {},
   "source": [
    "- 请以sorted()函数，定义一个偏函数sortedDESC，结果为输入一个序列，返回为按降序排列后序列。"
   ]
  },
  {
   "cell_type": "markdown",
   "metadata": {},
   "source": [
    "- 按要求设计一个名为phone的类\n",
    " - 类实例成员变量有screeen_size、price、brand\n",
    " - 给成员变量创建 访问及设置 方法\n",
    " - 定义play方法，功能为打印:play game\n",
    " - 定义sendMessage方法，功能为打印:text message\n",
    " - 定义powerOff方法，功能为打印:power off\n",
    " - 创建get_info方法，打印对象的相关信息\n",
    " - 实例化类phone()，对象名为phone1, 屏幕尺寸为5.5,价格为6288, 品牌为apple\n",
    " - 调用3，4，5，6方法，查看结果\n",
    " - 实例化类phone()，对象名为phone2, 屏幕尺寸为5,价格为1999,品\n",
    "牌为mi.\n",
    " - 调用3，4，5，6方法，查看结果"
   ]
  },
  {
   "cell_type": "markdown",
   "metadata": {},
   "source": [
    "- 设计一个叫cinema的电影院的类，包含：\n",
    " - 类方法：\n",
    "   - 初始化方法，并初始相应的类变量实例变量\n",
    "   - getSales（获取全部电影院实际销售的方法）的电影院\n",
    " - 实例方法：\n",
    "   - saleTickets方法，要求更新实例的销售总额及类的销售总额\n",
    "   - 类变量：\n",
    "   - g，销售额总和\n",
    " - 实例变量：\n",
    "   - 电影院名称，位置，销售额   \n",
    "- 创建一个miniCinema迷你电影院的类，继承自cinema类\n",
    "  - 重写卖票方法，大于100元的票价加入打9折扣的功能。\n",
    "  - 对miniCinema实例进行调用体现多态性\n"
   ]
  },
  {
   "cell_type": "markdown",
   "metadata": {},
   "source": []
  }
 ],
 "metadata": {
  "kernelspec": {
   "display_name": "Python 3",
   "language": "python",
   "name": "python3"
  },
  "language_info": {
   "codemirror_mode": {
    "name": "ipython",
    "version": 3
   },
   "file_extension": ".py",
   "mimetype": "text/x-python",
   "name": "python",
   "nbconvert_exporter": "python",
   "pygments_lexer": "ipython3",
   "version": "3.5.2"
  }
 },
 "nbformat": 4,
 "nbformat_minor": 2
}
