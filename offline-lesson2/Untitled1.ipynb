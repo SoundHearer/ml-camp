{
 "cells": [
  {
   "cell_type": "code",
   "execution_count": 30,
   "metadata": {},
   "outputs": [
    {
     "data": {
      "text/plain": [
       "1"
      ]
     },
     "execution_count": 30,
     "metadata": {},
     "output_type": "execute_result"
    }
   ],
   "source": [
    "import sys\n",
    "import requests\n",
    "import time\n",
    "\n",
    "url = 'https://bj.lianjia.com/zufang'\n",
    "\n",
    "data = requests.get(url)\n",
    "data.encoding\n",
    "\n",
    "from lxml import etree\n",
    "selector = etree.HTML(data.text)\n",
    "comments = selector.xpath('//div[@class=\"list-wrap\"]')\n",
    "\n",
    "len(comments)\n",
    "\n",
    "#comments"
   ]
  },
  {
   "cell_type": "code",
   "execution_count": 32,
   "metadata": {},
   "outputs": [
    {
     "data": {
      "text/plain": [
       "['https://bj.lianjia.com/zufang/101102501127.html']"
      ]
     },
     "execution_count": 32,
     "metadata": {},
     "output_type": "execute_result"
    }
   ],
   "source": [
    "titles = []\n",
    "rent_urls = []\n",
    "rooms = []\n",
    "prices = []\n",
    "squares = []\n",
    "\n",
    "for comment in comments:\n",
    "    title = comment.xpath('.//h2/a/text()')[0]\n",
    "    rent_url = comment.xpath('.//h2/a/@href')[0]\n",
    "    room = comment.xpath('.//div[1]/span[2]/text()')\n",
    "    price =  comment.xpath('.//div[1]/span/@class')[0]\n",
    "   # square = comment.xpath('.//div[2]/div[1]/span@class')[0]\n",
    "#     star = comment.xpath('.//h3/span[2]/span[2]/@class')[0][7:8]\n",
    "#     comment_text = comment.xpath('.//p/text()')[0].strip()\n",
    "    \n",
    "    titles.append(title)\n",
    "    rent_urls.append(rent_url)\n",
    "    rooms.append(room)\n",
    "    prices.append(price)\n",
    "   # squares.append(square)\n",
    "\n",
    "#titles\n",
    "rent_urls"
   ]
  },
  {
   "cell_type": "code",
   "execution_count": null,
   "metadata": {
    "collapsed": true
   },
   "outputs": [],
   "source": []
  }
 ],
 "metadata": {
  "kernelspec": {
   "display_name": "Python 3",
   "language": "python",
   "name": "python3"
  },
  "language_info": {
   "codemirror_mode": {
    "name": "ipython",
    "version": 3
   },
   "file_extension": ".py",
   "mimetype": "text/x-python",
   "name": "python",
   "nbconvert_exporter": "python",
   "pygments_lexer": "ipython3",
   "version": "3.5.2"
  }
 },
 "nbformat": 4,
 "nbformat_minor": 2
}
