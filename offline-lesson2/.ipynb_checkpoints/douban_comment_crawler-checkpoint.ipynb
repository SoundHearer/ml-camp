{
 "cells": [
  {
   "cell_type": "markdown",
   "metadata": {},
   "source": [
    "## 豆瓣影评数据爬取解析"
   ]
  },
  {
   "cell_type": "code",
   "execution_count": 1,
   "metadata": {
    "collapsed": true
   },
   "outputs": [],
   "source": [
    "import sys\n",
    "import requests\n",
    "import time"
   ]
  },
  {
   "cell_type": "code",
   "execution_count": 2,
   "metadata": {
    "collapsed": true
   },
   "outputs": [],
   "source": [
    "url = 'https://movie.douban.com/subject/26942674/comments'"
   ]
  },
  {
   "cell_type": "code",
   "execution_count": 3,
   "metadata": {},
   "outputs": [],
   "source": [
    "data = requests.get(url)"
   ]
  },
  {
   "cell_type": "code",
   "execution_count": 4,
   "metadata": {},
   "outputs": [
    {
     "data": {
      "text/plain": [
       "200"
      ]
     },
     "execution_count": 4,
     "metadata": {},
     "output_type": "execute_result"
    }
   ],
   "source": [
    "data.status_code"
   ]
  },
  {
   "cell_type": "code",
   "execution_count": 5,
   "metadata": {},
   "outputs": [
    {
     "data": {
      "text/plain": [
       "'utf-8'"
      ]
     },
     "execution_count": 5,
     "metadata": {},
     "output_type": "execute_result"
    }
   ],
   "source": [
    "data.encoding"
   ]
  },
  {
   "cell_type": "code",
   "execution_count": 6,
   "metadata": {
    "collapsed": true
   },
   "outputs": [],
   "source": [
    "from lxml import etree"
   ]
  },
  {
   "cell_type": "code",
   "execution_count": 7,
   "metadata": {
    "collapsed": true
   },
   "outputs": [],
   "source": [
    "selector = etree.HTML(data.text)"
   ]
  },
  {
   "cell_type": "code",
   "execution_count": 8,
   "metadata": {
    "collapsed": true
   },
   "outputs": [],
   "source": [
    "comments = selector.xpath ('//div[@class=\"comment\"]')"
   ]
  },
  {
   "cell_type": "code",
   "execution_count": 9,
   "metadata": {},
   "outputs": [
    {
     "data": {
      "text/plain": [
       "20"
      ]
     },
     "execution_count": 9,
     "metadata": {},
     "output_type": "execute_result"
    }
   ],
   "source": [
    "len(comments)"
   ]
  },
  {
   "cell_type": "markdown",
   "metadata": {},
   "source": [
    "### 整理成规范化的数据格式"
   ]
  },
  {
   "cell_type": "code",
   "execution_count": 10,
   "metadata": {
    "collapsed": true
   },
   "outputs": [],
   "source": [
    "users = []\n",
    "users_url = []\n",
    "stars = []\n",
    "comments_text = []"
   ]
  },
  {
   "cell_type": "code",
   "execution_count": 11,
   "metadata": {
    "collapsed": true
   },
   "outputs": [],
   "source": [
    "for comment in comments:\n",
    "    user = comment.xpath('.//h3/span[2]/a/text()')[0]\n",
    "    user_url = comment.xpath('.//h3/span[2]/a/@href')[0]\n",
    "    star = comment.xpath('.//h3/span[2]/span[2]/@class')[0][7:8]\n",
    "    comment_text = comment.xpath('.//p/text()')[0].strip()\n",
    "    \n",
    "    users.append(user)\n",
    "    users_url.append(user_url)\n",
    "    stars.append(star)\n",
    "    comments_text.append(comment_text)"
   ]
  },
  {
   "cell_type": "code",
   "execution_count": 12,
   "metadata": {
    "collapsed": true
   },
   "outputs": [],
   "source": [
    "comments_dic = {'user':users, 'user_url':users_url, 'star':stars, 'comment_text':comments_text}"
   ]
  },
  {
   "cell_type": "code",
   "execution_count": 13,
   "metadata": {
    "collapsed": true
   },
   "outputs": [],
   "source": [
    "import pandas as pd\n",
    "comment_df = pd.DataFrame(comments_dic)"
   ]
  },
  {
   "cell_type": "code",
   "execution_count": 14,
   "metadata": {},
   "outputs": [
    {
     "data": {
      "text/html": [
       "<div>\n",
       "<style>\n",
       "    .dataframe thead tr:only-child th {\n",
       "        text-align: right;\n",
       "    }\n",
       "\n",
       "    .dataframe thead th {\n",
       "        text-align: left;\n",
       "    }\n",
       "\n",
       "    .dataframe tbody tr th {\n",
       "        vertical-align: top;\n",
       "    }\n",
       "</style>\n",
       "<table border=\"1\" class=\"dataframe\">\n",
       "  <thead>\n",
       "    <tr style=\"text-align: right;\">\n",
       "      <th></th>\n",
       "      <th>comment_text</th>\n",
       "      <th>star</th>\n",
       "      <th>user</th>\n",
       "      <th>user_url</th>\n",
       "    </tr>\n",
       "  </thead>\n",
       "  <tbody>\n",
       "    <tr>\n",
       "      <th>0</th>\n",
       "      <td>全程站在父亲角度去看：我被家长包办娶了个文盲老婆，在父权社会下她为了保住女儿不被堕胎离家独自...</td>\n",
       "      <td>4</td>\n",
       "      <td>大瘦瘦</td>\n",
       "      <td>https://www.douban.com/people/shoushouan/</td>\n",
       "    </tr>\n",
       "    <tr>\n",
       "      <th>1</th>\n",
       "      <td>去要回属于你的靠窗位置吧</td>\n",
       "      <td>5</td>\n",
       "      <td>LadyHunt</td>\n",
       "      <td>https://www.douban.com/people/yld4ever/</td>\n",
       "    </tr>\n",
       "    <tr>\n",
       "      <th>2</th>\n",
       "      <td>继续关注女性与社会话题，甚至比摔跤爸爸更深更勇敢。虽然过程满是套路与俗梗，但看到最后还是感动...</td>\n",
       "      <td>4</td>\n",
       "      <td>桃桃淘电影</td>\n",
       "      <td>https://www.douban.com/people/qijiuzhiyue/</td>\n",
       "    </tr>\n",
       "    <tr>\n",
       "      <th>3</th>\n",
       "      <td>女主角身上透露着父亲的气息，她不断向小男生、妈妈、弟弟发脾气，遇到一点不如意就砸东西、砸书包...</td>\n",
       "      <td>2</td>\n",
       "      <td>小鸭子</td>\n",
       "      <td>https://www.douban.com/people/68034459/</td>\n",
       "    </tr>\n",
       "    <tr>\n",
       "      <th>4</th>\n",
       "      <td>只想对最亲爱的祖国妈妈说，我也想上优兔网，让全世界都看见中国梦！</td>\n",
       "      <td>4</td>\n",
       "      <td>皮革业</td>\n",
       "      <td>https://www.douban.com/people/pigeye/</td>\n",
       "    </tr>\n",
       "    <tr>\n",
       "      <th>5</th>\n",
       "      <td>立意不错，抨击印度男权社会现状，很有力量。但剧本实在是太糙了，女主角除了不好好上课外完全没有...</td>\n",
       "      <td>2</td>\n",
       "      <td>一口大井子</td>\n",
       "      <td>https://www.douban.com/people/abigwell/</td>\n",
       "    </tr>\n",
       "    <tr>\n",
       "      <th>6</th>\n",
       "      <td>虽然剧情老套，任意两分钟就能猜到结局。但是加上女权、家暴、追梦这些元素，就闪烁着动人的光芒。...</td>\n",
       "      <td>5</td>\n",
       "      <td>seamaid</td>\n",
       "      <td>https://www.douban.com/people/52716784/</td>\n",
       "    </tr>\n",
       "    <tr>\n",
       "      <th>7</th>\n",
       "      <td>典型的阿米尔汗公司出品电影，题材是真相访谈的继续，女儿N部曲之二。母亲这个人物承包了所有泪点...</td>\n",
       "      <td>4</td>\n",
       "      <td>青铜小兽</td>\n",
       "      <td>https://www.douban.com/people/44642517/</td>\n",
       "    </tr>\n",
       "    <tr>\n",
       "      <th>8</th>\n",
       "      <td>歌曲好听，剧本俗套狗血，三观更是奇葩：“女孩努力逐梦唱歌圈并获天赐良机后主动放弃并屈从于父权...</td>\n",
       "      <td>1</td>\n",
       "      <td>汪金卫</td>\n",
       "      <td>https://www.douban.com/people/longzheking/</td>\n",
       "    </tr>\n",
       "    <tr>\n",
       "      <th>9</th>\n",
       "      <td>女儿扔掉罩袍，将脸庞展现出来。扔掉的不仅是罩袍，还有麻木、服从、屈辱、卑微；展示也不仅是脸庞...</td>\n",
       "      <td>5</td>\n",
       "      <td>凌睿</td>\n",
       "      <td>https://www.douban.com/people/lingrui1995/</td>\n",
       "    </tr>\n",
       "    <tr>\n",
       "      <th>10</th>\n",
       "      <td>印象最深是，那个老爸刚脱完袜子就直接用手抓饭吃。震惊了。以及，依旧是阿米尔汗的风格。</td>\n",
       "      <td>4</td>\n",
       "      <td>ciao</td>\n",
       "      <td>https://www.douban.com/people/52061424/</td>\n",
       "    </tr>\n",
       "    <tr>\n",
       "      <th>11</th>\n",
       "      <td>傅文佩因不堪家暴与陆振华离婚，陆依萍生活所迫与秦五爷签约大上海歌舞厅沦为天涯歌女。</td>\n",
       "      <td>4</td>\n",
       "      <td>高端电焊工杨永</td>\n",
       "      <td>https://www.douban.com/people/nikenike/</td>\n",
       "    </tr>\n",
       "    <tr>\n",
       "      <th>12</th>\n",
       "      <td>从妈妈不愿流产情节开始硬凹，结果到最后大家还是为彼此而活。女儿为妈妈放弃，妈妈为女儿崛起，能...</td>\n",
       "      <td>2</td>\n",
       "      <td>俏皮面</td>\n",
       "      <td>https://www.douban.com/people/z286424115/</td>\n",
       "    </tr>\n",
       "    <tr>\n",
       "      <th>13</th>\n",
       "      <td>逐梦演艺圈印度版（其实并没有看过）。此片给大家传导思想是梦是可以凭运气实现的，所以建议大家都...</td>\n",
       "      <td>1</td>\n",
       "      <td>你大立</td>\n",
       "      <td>https://www.douban.com/people/yaoguanzi/</td>\n",
       "    </tr>\n",
       "    <tr>\n",
       "      <th>14</th>\n",
       "      <td>后妈要我推荐，选了这部，和曾经家暴的父亲坐在一起看完了，迷之尴尬</td>\n",
       "      <td>4</td>\n",
       "      <td>Boxer</td>\n",
       "      <td>https://www.douban.com/people/91298707/</td>\n",
       "    </tr>\n",
       "    <tr>\n",
       "      <th>15</th>\n",
       "      <td>2017.10.27. City Square Mall.米叔在HeForShe路上的又一力...</td>\n",
       "      <td>5</td>\n",
       "      <td>小飞侠6414</td>\n",
       "      <td>https://www.douban.com/people/flyingbria/</td>\n",
       "    </tr>\n",
       "    <tr>\n",
       "      <th>16</th>\n",
       "      <td>我算是受够这类型的印度片了，追梦+社会探讨的套路已经有点遭不住了。如果说摔爹在铺垫足够的情况...</td>\n",
       "      <td>2</td>\n",
       "      <td>饕餮暴血</td>\n",
       "      <td>https://www.douban.com/people/63140830/</td>\n",
       "    </tr>\n",
       "    <tr>\n",
       "      <th>17</th>\n",
       "      <td>油管翻译成优兔网的大天朝还是老实玩直播吧，片名也可译为〈我和我的天才女儿〉，跟摔爸多搭。母爱...</td>\n",
       "      <td>2</td>\n",
       "      <td>birds</td>\n",
       "      <td>https://www.douban.com/people/yihuiw/</td>\n",
       "    </tr>\n",
       "    <tr>\n",
       "      <th>18</th>\n",
       "      <td>大叔逗得一逼，妈妈美到不行。个人感觉一定程度上比《摔跤》更radical一点，虽然会看得比较...</td>\n",
       "      <td>4</td>\n",
       "      <td>Eve</td>\n",
       "      <td>https://www.douban.com/people/66584707/</td>\n",
       "    </tr>\n",
       "    <tr>\n",
       "      <th>19</th>\n",
       "      <td>入戏难，表演尬，模板故事，神经病转折……</td>\n",
       "      <td>2</td>\n",
       "      <td>李不空太空</td>\n",
       "      <td>https://www.douban.com/people/lidianxi1990/</td>\n",
       "    </tr>\n",
       "  </tbody>\n",
       "</table>\n",
       "</div>"
      ],
      "text/plain": [
       "                                         comment_text star      user  \\\n",
       "0   全程站在父亲角度去看：我被家长包办娶了个文盲老婆，在父权社会下她为了保住女儿不被堕胎离家独自...    4       大瘦瘦   \n",
       "1                                        去要回属于你的靠窗位置吧    5  LadyHunt   \n",
       "2   继续关注女性与社会话题，甚至比摔跤爸爸更深更勇敢。虽然过程满是套路与俗梗，但看到最后还是感动...    4     桃桃淘电影   \n",
       "3   女主角身上透露着父亲的气息，她不断向小男生、妈妈、弟弟发脾气，遇到一点不如意就砸东西、砸书包...    2       小鸭子   \n",
       "4                    只想对最亲爱的祖国妈妈说，我也想上优兔网，让全世界都看见中国梦！    4       皮革业   \n",
       "5   立意不错，抨击印度男权社会现状，很有力量。但剧本实在是太糙了，女主角除了不好好上课外完全没有...    2     一口大井子   \n",
       "6   虽然剧情老套，任意两分钟就能猜到结局。但是加上女权、家暴、追梦这些元素，就闪烁着动人的光芒。...    5   seamaid   \n",
       "7   典型的阿米尔汗公司出品电影，题材是真相访谈的继续，女儿N部曲之二。母亲这个人物承包了所有泪点...    4      青铜小兽   \n",
       "8   歌曲好听，剧本俗套狗血，三观更是奇葩：“女孩努力逐梦唱歌圈并获天赐良机后主动放弃并屈从于父权...    1       汪金卫   \n",
       "9   女儿扔掉罩袍，将脸庞展现出来。扔掉的不仅是罩袍，还有麻木、服从、屈辱、卑微；展示也不仅是脸庞...    5        凌睿   \n",
       "10         印象最深是，那个老爸刚脱完袜子就直接用手抓饭吃。震惊了。以及，依旧是阿米尔汗的风格。    4      ciao   \n",
       "11          傅文佩因不堪家暴与陆振华离婚，陆依萍生活所迫与秦五爷签约大上海歌舞厅沦为天涯歌女。    4   高端电焊工杨永   \n",
       "12  从妈妈不愿流产情节开始硬凹，结果到最后大家还是为彼此而活。女儿为妈妈放弃，妈妈为女儿崛起，能...    2       俏皮面   \n",
       "13  逐梦演艺圈印度版（其实并没有看过）。此片给大家传导思想是梦是可以凭运气实现的，所以建议大家都...    1       你大立   \n",
       "14                   后妈要我推荐，选了这部，和曾经家暴的父亲坐在一起看完了，迷之尴尬    4     Boxer   \n",
       "15  2017.10.27. City Square Mall.米叔在HeForShe路上的又一力...    5   小飞侠6414   \n",
       "16  我算是受够这类型的印度片了，追梦+社会探讨的套路已经有点遭不住了。如果说摔爹在铺垫足够的情况...    2      饕餮暴血   \n",
       "17  油管翻译成优兔网的大天朝还是老实玩直播吧，片名也可译为〈我和我的天才女儿〉，跟摔爸多搭。母爱...    2     birds   \n",
       "18  大叔逗得一逼，妈妈美到不行。个人感觉一定程度上比《摔跤》更radical一点，虽然会看得比较...    4       Eve   \n",
       "19                               入戏难，表演尬，模板故事，神经病转折……    2     李不空太空   \n",
       "\n",
       "                                       user_url  \n",
       "0     https://www.douban.com/people/shoushouan/  \n",
       "1       https://www.douban.com/people/yld4ever/  \n",
       "2    https://www.douban.com/people/qijiuzhiyue/  \n",
       "3       https://www.douban.com/people/68034459/  \n",
       "4         https://www.douban.com/people/pigeye/  \n",
       "5       https://www.douban.com/people/abigwell/  \n",
       "6       https://www.douban.com/people/52716784/  \n",
       "7       https://www.douban.com/people/44642517/  \n",
       "8    https://www.douban.com/people/longzheking/  \n",
       "9    https://www.douban.com/people/lingrui1995/  \n",
       "10      https://www.douban.com/people/52061424/  \n",
       "11      https://www.douban.com/people/nikenike/  \n",
       "12    https://www.douban.com/people/z286424115/  \n",
       "13     https://www.douban.com/people/yaoguanzi/  \n",
       "14      https://www.douban.com/people/91298707/  \n",
       "15    https://www.douban.com/people/flyingbria/  \n",
       "16      https://www.douban.com/people/63140830/  \n",
       "17        https://www.douban.com/people/yihuiw/  \n",
       "18      https://www.douban.com/people/66584707/  \n",
       "19  https://www.douban.com/people/lidianxi1990/  "
      ]
     },
     "execution_count": 14,
     "metadata": {},
     "output_type": "execute_result"
    }
   ],
   "source": [
    "comment_df"
   ]
  },
  {
   "cell_type": "code",
   "execution_count": null,
   "metadata": {
    "collapsed": true
   },
   "outputs": [],
   "source": []
  }
 ],
 "metadata": {
  "kernelspec": {
   "display_name": "Python 3",
   "language": "python",
   "name": "python3"
  },
  "language_info": {
   "codemirror_mode": {
    "name": "ipython",
    "version": 3
   },
   "file_extension": ".py",
   "mimetype": "text/x-python",
   "name": "python",
   "nbconvert_exporter": "python",
   "pygments_lexer": "ipython3",
   "version": "3.5.2"
  }
 },
 "nbformat": 4,
 "nbformat_minor": 2
}
