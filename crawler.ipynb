{
 "cells": [
  {
   "cell_type": "markdown",
   "metadata": {},
   "source": [
    "ctrl+f 调出search框，用于检查xpath所定位的元素正确与否\n",
    "xpath 路径表达式 ：\n",
    "                / 搜索根节点\n",
    "                // 全局搜索\n",
    "                @ 用于限定[@  ]  ,  用于查找元素\n",
    "xpath 搜索有两种结果：1、获取节点下的文本内容 text（） ex：//div[@class = '  ']/a/text()\n",
    "                   2、获取节点下的属性 @ ex：//div[@class = '  ']/a/@href"
   ]
  },
  {
   "cell_type": "markdown",
   "metadata": {
    "collapsed": true
   },
   "source": [
    "要做数据解析，先获取数据，要获取数据，先（向网页通常是）发起请求，今天主要用到两个库：request ， lxml ，time（用于刷新请求动作）"
   ]
  },
  {
   "cell_type": "code",
   "execution_count": 9,
   "metadata": {
    "collapsed": true
   },
   "outputs": [],
   "source": [
    "import requests\n",
    "import time\n",
    "import lxml"
   ]
  },
  {
   "cell_type": "code",
   "execution_count": 10,
   "metadata": {},
   "outputs": [],
   "source": [
    "url = \"https://movie.douban.com/subject/26388908/episode/1/\"\n",
    "r = requests.get(url)"
   ]
  },
  {
   "cell_type": "code",
   "execution_count": 11,
   "metadata": {},
   "outputs": [
    {
     "data": {
      "text/plain": [
       "requests.models.Response"
      ]
     },
     "execution_count": 11,
     "metadata": {},
     "output_type": "execute_result"
    }
   ],
   "source": [
    "type(r)"
   ]
  },
  {
   "cell_type": "markdown",
   "metadata": {},
   "source": [
    "编码问题获取内容用text"
   ]
  },
  {
   "cell_type": "code",
   "execution_count": null,
   "metadata": {},
   "outputs": [],
   "source": [
    "r.text"
   ]
  },
  {
   "cell_type": "code",
   "execution_count": null,
   "metadata": {},
   "outputs": [],
   "source": [
    "r.content"
   ]
  },
  {
   "cell_type": "code",
   "execution_count": 12,
   "metadata": {
    "collapsed": true
   },
   "outputs": [],
   "source": [
    "from lxml import etree\n",
    "selector = etree.HTML(r.text)"
   ]
  },
  {
   "cell_type": "code",
   "execution_count": 13,
   "metadata": {},
   "outputs": [
    {
     "data": {
      "text/plain": [
       "lxml.etree._Element"
      ]
     },
     "execution_count": 13,
     "metadata": {},
     "output_type": "execute_result"
    }
   ],
   "source": [
    "type(selector)"
   ]
  },
  {
   "cell_type": "code",
   "execution_count": 14,
   "metadata": {
    "collapsed": true
   },
   "outputs": [],
   "source": [
    "users = selector.xpath(\"//div[@class='bd']/h4/a/text()\")"
   ]
  },
  {
   "cell_type": "code",
   "execution_count": 15,
   "metadata": {},
   "outputs": [
    {
     "name": "stdout",
     "output_type": "stream",
     "text": [
      "['董小姐', 'Sincerely', 'D', '诚诚carrie', 'gavin', '你一定撩不动我', '从头来过', '回音', 'J.', '二月半']\n"
     ]
    }
   ],
   "source": [
    "print (users)"
   ]
  },
  {
   "cell_type": "code",
   "execution_count": 16,
   "metadata": {
    "collapsed": true
   },
   "outputs": [],
   "source": [
    "comments = selector.xpath(\"//div[@class='bd']\")"
   ]
  },
  {
   "cell_type": "code",
   "execution_count": 17,
   "metadata": {},
   "outputs": [
    {
     "name": "stdout",
     "output_type": "stream",
     "text": [
      "[<Element div at 0x7f164110db48>, <Element div at 0x7f164110da88>, <Element div at 0x7f164110d508>, <Element div at 0x7f164110d588>, <Element div at 0x7f164110d4c8>, <Element div at 0x7f164110d448>, <Element div at 0x7f164110d488>, <Element div at 0x7f164110d048>, <Element div at 0x7f164110dfc8>, <Element div at 0x7f164110df88>, <Element div at 0x7f164110df08>, <Element div at 0x7f164110df48>, <Element div at 0x7f164110dec8>]\n"
     ]
    }
   ],
   "source": [
    "print (comments)"
   ]
  },
  {
   "cell_type": "code",
   "execution_count": 18,
   "metadata": {},
   "outputs": [
    {
     "data": {
      "text/plain": [
       "list"
      ]
     },
     "execution_count": 18,
     "metadata": {},
     "output_type": "execute_result"
    }
   ],
   "source": [
    "type(comments)"
   ]
  },
  {
   "cell_type": "code",
   "execution_count": 19,
   "metadata": {
    "collapsed": true
   },
   "outputs": [],
   "source": [
    "users = []"
   ]
  },
  {
   "cell_type": "code",
   "execution_count": 21,
   "metadata": {},
   "outputs": [
    {
     "name": "stdout",
     "output_type": "stream",
     "text": [
      "[]\n",
      "[]\n",
      "['董小姐']\n",
      "['Sincerely']\n",
      "['D']\n",
      "['诚诚carrie']\n",
      "['gavin']\n",
      "['你一定撩不动我']\n",
      "['从头来过']\n",
      "['回音']\n",
      "['J.']\n",
      "['二月半']\n",
      "[]\n"
     ]
    }
   ],
   "source": [
    "for comment in comments:\n",
    "    #print (comment)\n",
    "    user = comment.xpath(\"./h4/a/text()\")\n",
    "    #print (type(user))\n",
    "    #print (user)\n",
    "    print (str(user))\n",
    "    #users.append(str(user))\n",
    "    #print (users)\n",
    "#print (users)"
   ]
  },
  {
   "cell_type": "code",
   "execution_count": null,
   "metadata": {},
   "outputs": [],
   "source": [
    "print (users)"
   ]
  }
 ],
 "metadata": {
  "kernelspec": {
   "display_name": "Python 3",
   "language": "python",
   "name": "python3"
  },
  "language_info": {
   "codemirror_mode": {
    "name": "ipython",
    "version": 3
   },
   "file_extension": ".py",
   "mimetype": "text/x-python",
   "name": "python",
   "nbconvert_exporter": "python",
   "pygments_lexer": "ipython3",
   "version": "3.5.2"
  }
 },
 "nbformat": 4,
 "nbformat_minor": 2
}
