{
 "cells": [
  {
   "cell_type": "markdown",
   "metadata": {},
   "source": [
    "## 七月在线机器学习实训营三期第四周(数据可视化及拟合)考试\n",
    "#### 考试说明:\n",
    "- 起止时间：请同学在2018年3月2日至3月4日期间完成，最晚提交时间本周日（3月4日24时之前）结束，<b>逾期不接受补考,该考试分数计入平时成绩</b>\n",
    "- 考试方式：请同学<font color=red><b>拷贝</b></font>该试卷至自己姓名的目录后，将文件更名为同学姓名拼音-exam4后，进行作答。例如wangwei-exam4\n",
    "- 提交格式：请同学新建自己姓名全拼的文件夹，将该试卷，zip文件等相关考试文件，放置此目录下。将该目录<b>移动</b>至/0.Teacher/Exam/4/目录下\n",
    "- 注意事项：为确保同学们真正了解自身对本周课程的掌握程度，<font color=red><b>请勿翻阅，移动，更改</b></font>其它同学试卷。如发现按0分处理\n",
    "- 请同学在下方同学姓名处填写自己的姓名，批改人和最终得分不用填写"
   ]
  },
  {
   "cell_type": "markdown",
   "metadata": {},
   "source": [
    "- 同学姓名:<u>于洋</u>  \n",
    "- 批改人： David\n",
    "- 最终得分:0"
   ]
  },
  {
   "cell_type": "markdown",
   "metadata": {},
   "source": [
    "<center><h1>####答卷开始####</h1></center>\n",
    "<hr>"
   ]
  },
  {
   "cell_type": "markdown",
   "metadata": {},
   "source": [
    "## 问答题(共5题，每题4分，共计20分)"
   ]
  },
  {
   "cell_type": "markdown",
   "metadata": {},
   "source": [
    "### 1.谈谈您对数据可视，以及其对数据分析，机器学习的意义的理解"
   ]
  },
  {
   "cell_type": "markdown",
   "metadata": {},
   "source": [
    "\n"
   ]
  },
  {
   "cell_type": "markdown",
   "metadata": {},
   "source": [
    "### 2.某评测网站对市场上某品牌充电宝随机抽取30款测得其使用寿命数据，请问哪些可视化方案适宜呈现该结果？这些方案透露出了哪些含义"
   ]
  },
  {
   "cell_type": "markdown",
   "metadata": {},
   "source": [
    "***您的答案"
   ]
  },
  {
   "cell_type": "markdown",
   "metadata": {},
   "source": [
    "### 3.\t一组数据的分布特征可以从哪几个方面进行描述？"
   ]
  },
  {
   "cell_type": "markdown",
   "metadata": {},
   "source": [
    "***您的答案"
   ]
  },
  {
   "cell_type": "markdown",
   "metadata": {},
   "source": [
    "### 4.（接上题）如何从可视化的角度解读一组数据的分布特征？(代码演示有额外加分)"
   ]
  },
  {
   "cell_type": "markdown",
   "metadata": {},
   "source": [
    "***您的答案"
   ]
  },
  {
   "cell_type": "markdown",
   "metadata": {},
   "source": [
    "### 5.简要谈谈您对seaborn库的理解，以及有哪些较高级的用法。(代码演示有额外加分)"
   ]
  },
  {
   "cell_type": "markdown",
   "metadata": {},
   "source": [
    "***您的答案"
   ]
  },
  {
   "cell_type": "markdown",
   "metadata": {},
   "source": [
    "## 实战题(共四题，每题20分)\n",
    "#### (注意:题目均要求使用seaborn库进行)"
   ]
  },
  {
   "cell_type": "markdown",
   "metadata": {},
   "source": [
    "### 1.航班乘客变化分析"
   ]
  },
  {
   "cell_type": "markdown",
   "metadata": {},
   "source": [
    "- 载入相应绘图库及航班乘客数据（flights）"
   ]
  },
  {
   "cell_type": "code",
   "execution_count": null,
   "metadata": {
    "collapsed": true
   },
   "outputs": [],
   "source": [
    "# your code"
   ]
  },
  {
   "cell_type": "markdown",
   "metadata": {},
   "source": [
    "- 分析年度乘客总量变化情况（折线图）"
   ]
  },
  {
   "cell_type": "code",
   "execution_count": 3,
   "metadata": {
    "collapsed": true
   },
   "outputs": [],
   "source": [
    "# your code"
   ]
  },
  {
   "cell_type": "markdown",
   "metadata": {},
   "source": [
    "- 分析乘客在一年中各月份的分布（柱状图）"
   ]
  },
  {
   "cell_type": "code",
   "execution_count": null,
   "metadata": {
    "collapsed": true
   },
   "outputs": [],
   "source": [
    "# your code"
   ]
  },
  {
   "cell_type": "markdown",
   "metadata": {},
   "source": [
    "### 2.鸢尾花花型尺寸分析\n",
    "\n",
    "* 载入iris数据集\n",
    "* 萼片（sepal）和花瓣（petal）的大小关系（散点图）\n",
    "- 不同种类鸢尾花萼片和花瓣大小的分布情况（柱状图或者箱式图）\n",
    "* 不同种类（species）鸢尾花萼片和花瓣的大小关系（分类散点子图）"
   ]
  },
  {
   "cell_type": "code",
   "execution_count": 7,
   "metadata": {
    "collapsed": true
   },
   "outputs": [],
   "source": [
    "# your code"
   ]
  },
  {
   "cell_type": "markdown",
   "metadata": {},
   "source": [
    "### 3.餐厅小费情况分析\n",
    "* 载入tips数据集\n",
    "* 小费和总消费之间的关系（散点图）\n",
    "* 男性顾客和女性顾客，谁更慷慨（分类箱式图）\n",
    "* 抽烟与否是否会对小费金额产生影响（分类箱式图）\n",
    "* 工作日和周末，什么时候顾客给的小费更慷慨（分类箱式图）\n",
    "* 午饭和晚饭，哪一顿顾客更愿意给小费（分类箱式图）\n",
    "* 就餐人数是否会对慷慨度产生影响（分类箱式图）\n",
    "* 性别+抽烟的组合因素对慷慨度的影响（分组柱状图）"
   ]
  },
  {
   "cell_type": "code",
   "execution_count": 7,
   "metadata": {
    "collapsed": true
   },
   "outputs": [],
   "source": [
    "# your code"
   ]
  },
  {
   "cell_type": "markdown",
   "metadata": {},
   "source": [
    "### 4.泰坦尼克号海难幸存状况分析\n",
    "* 不同仓位等级中幸存和遇难的乘客比例（堆积柱状图）\n",
    "* 不同性别的幸存比例（堆积柱状图）\n",
    "* 幸存和遇难乘客的票价分布（分类箱式图）\n",
    "* 幸存和遇难乘客的年龄分布（分类箱式图）\n",
    "* 不同上船港口的乘客仓位等级分布（分组柱状图）\n",
    "* 幸存和遇难乘客堂兄弟姐妹的数量分布（分类箱式图）\n",
    "* 幸存和遇难乘客父母子女的数量分布（分类箱式图）\n",
    "* 单独乘船与否和幸存之间有没有联系（堆积柱状图或者分组柱状图）"
   ]
  },
  {
   "cell_type": "code",
   "execution_count": 9,
   "metadata": {
    "collapsed": true
   },
   "outputs": [],
   "source": [
    "# your code"
   ]
  },
  {
   "cell_type": "markdown",
   "metadata": {},
   "source": [
    "### 本阶段课程意见反馈题(10分送分项，非必答)\n",
    "#### 请同学围绕以下两点进行回答：\n",
    "- 自身总结：请您对您自己在本周课程的学习，收获，技能掌握等方面进行一次总结 ，也包括有哪些方面存在哪些不足，欠缺，困惑。作为将来回顾学习路径时的依据。\n"
   ]
  },
  {
   "cell_type": "code",
   "execution_count": null,
   "metadata": {
    "collapsed": true
   },
   "outputs": [],
   "source": []
  },
  {
   "cell_type": "markdown",
   "metadata": {},
   "source": [
    "- 课程反馈：请就知识点，进度，难易度，教学方式，考试方式及难易度等方面向我们反馈，督促我们进行更有效的改进。"
   ]
  },
  {
   "cell_type": "code",
   "execution_count": null,
   "metadata": {
    "collapsed": true
   },
   "outputs": [],
   "source": []
  },
  {
   "cell_type": "markdown",
   "metadata": {},
   "source": [
    "<hr>\n",
    "<center><h1>####答卷结束####</h1></center>"
   ]
  }
 ],
 "metadata": {
  "kernelspec": {
   "display_name": "Python 3",
   "language": "python",
   "name": "python3"
  },
  "language_info": {
   "codemirror_mode": {
    "name": "ipython",
    "version": 3
   },
   "file_extension": ".py",
   "mimetype": "text/x-python",
   "name": "python",
   "nbconvert_exporter": "python",
   "pygments_lexer": "ipython3",
   "version": "3.5.2"
  }
 },
 "nbformat": 4,
 "nbformat_minor": 2
}
