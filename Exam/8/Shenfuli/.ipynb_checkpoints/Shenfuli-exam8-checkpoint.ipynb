{
 "cells": [
  {
   "cell_type": "markdown",
   "metadata": {},
   "source": [
    "## 七月在线机器学习实训营三期第八周(深度学习)考试\n",
    "#### 考试说明:\n",
    "- 起止时间：请同学在2018年3月30日至4月1日期间完成，最晚提交时间本周日（4月1日24时之前）结束，<b>逾期不接受补考,该考试分数计入平时成绩</b>\n",
    "- 考试方式：请同学<font color=red><b>拷贝</b></font>该试卷至自己姓名的目录后，将文件更名为同学姓名拼音-exam8后，进行作答。例如wangwei-exam8\n",
    "- 提交格式：请同学新建自己姓名全拼的文件夹，将该试卷，数据文件，zip文件等相关考试文件，放置此目录下。将该目录<b>移动</b>至/0.Teacher/Exam/8/目录下\n",
    "- 注意事项：为确保同学们真正了解自身对本周课程的掌握程度，<font color=red><b>请勿翻阅，移动，更改</b></font>其它同学试卷。如发现按0分处理\n",
    "- 请同学在下方同学姓名处填写自己的姓名，批改人和最终得分不用填写"
   ]
  },
  {
   "cell_type": "markdown",
   "metadata": {},
   "source": [
    "- 同学姓名:<u>_沈福利____</u>  \n",
    "- 批改人： David\n",
    "- 最终得分:73"
   ]
  },
  {
   "cell_type": "markdown",
   "metadata": {},
   "source": [
    "<center><h1>####答卷开始####</h1></center>\n",
    "<hr>"
   ]
  },
  {
   "cell_type": "markdown",
   "metadata": {},
   "source": [
    "## 一、简答题(共10题，1-8题每题5分，最后两题每题10分。共计60分)\n",
    "\n",
    "- note:48"
   ]
  },
  {
   "cell_type": "markdown",
   "metadata": {},
   "source": [
    "#### 1.试写您对深度学习的理解，以及它与传统机器学习的关系，相同与不同之处。\n",
    "\n",
    "- note:相似与不同？"
   ]
  },
  {
   "cell_type": "markdown",
   "metadata": {
    "collapsed": true
   },
   "source": [
    "深度学习是一种模拟人脑的神经网络，相比传统的机器学习，尤其是在声音、图像领域有明显的优势，而传统的机器学习需要对业务特征有深入的理解，而深度学习尤其是人类无法理解的领域会有良好的效果。<br>\n",
    "\n",
    "其中： 深度学习也是机器学习领域的一种技术实现，主要不同，深度学习在人类无法理解的声音、图像、音频领域有良好的效果<br>"
   ]
  },
  {
   "cell_type": "markdown",
   "metadata": {},
   "source": [
    "#### 2.简要介绍下您了解的keras框架? 以及进行一个任务的基本流程"
   ]
  },
  {
   "cell_type": "markdown",
   "metadata": {
    "collapsed": true
   },
   "source": [
    "keras 是一个深度学习框架，其后端可以使用不同的DL框架做支撑，比如： tensorflow、微软的CNTK、theano。可以使用keras可以快速搭建Sequential/序贯神经网络的模型。<br>\n",
    "\n",
    "使用keras快速搭建一个神经网络的基本流程：<br>\n",
    "1.从from keras.models 导入一些库，初始化“模型的框架”、从from keras.layers导入 Dense, Activation <br>\n",
    "2.初始化一个model，其中： model 的第一层需要指定输入参数，对应训练的数据<br>\n",
    "3.通过compile对model进行编译，同时指定相关的参数，如： 损失函数loss（试图最小化最小损失）、优化器optimizer、性能评估metrics<br>\n",
    "4.通过model 对样本数据X_train、Y_train 进行训练，主要指定 迭代次数(epochs)和每次读取样本的记录数（batch_size）<br>\n",
    "5.通过X_test、Y_test 对model 进行评估(evalation)<br>\n",
    "6.通过model 对X_test 样本数据进行预测<br>\n"
   ]
  },
  {
   "cell_type": "markdown",
   "metadata": {},
   "source": [
    "#### 3.工业界在训练深度学习模型时，采用训练方式多为SGD（mini-batch），请简述这种方式较其它方式的优点？\n",
    "\n",
    "- note:具体好在哪儿？"
   ]
  },
  {
   "cell_type": "markdown",
   "metadata": {
    "collapsed": true
   },
   "source": [
    "SGD每一次迭代就计算一个mini-batch的梯度，然后对参数记性更新，是一种最常用的优化方法。用到的两个最重要的参数： 学习率和梯度<br>\n",
    "\n",
    "相比如其它的求损失方法有较好的效果。"
   ]
  },
  {
   "cell_type": "markdown",
   "metadata": {},
   "source": [
    "#### 4.  请简述神经风格中的BP模型的信号正向传播与误差反向传播的过程？"
   ]
  },
  {
   "cell_type": "markdown",
   "metadata": {
    "collapsed": true
   },
   "source": [
    "BP模型思想： 信号的学习过程是由正向传播和误差的反向传播两个部分组成的。<br>\n",
    "首先，正向传播把样本数据接入，传输至各个隐层处理后，最终传输至输出层预测效果。样本从正向传播的预测结果和实际结果比较，差别大时，就行反向传播。<br>\n",
    "然后，误差反传是将输出误差以某种形式通过隐层向输入层逐层反传，并将误差分摊给各层的所有单元，从而获得各层单元的误差信号，此误差信号即作为修正各单元权值的依据<br>\n",
    "\n",
    "最后，在整个学习过程中，不断的通过正向传播和反向传播，让其权值不断调整(网络的学习训练过程)。一直进行到网络输出的误差减少到可接受的程度，或进行到预先设定的学习次数为止。<br>"
   ]
  },
  {
   "cell_type": "markdown",
   "metadata": {},
   "source": [
    "#### 5.  在什么情况下，会使用到早停法earyly stoping? 使用早停法可以防止什么情况发生？"
   ]
  },
  {
   "cell_type": "markdown",
   "metadata": {
    "collapsed": true
   },
   "source": [
    "在训练一个模型时候，为避免在测试集上的准备率下降。在模型训练时，可以在验证集的loss不在下降的时候，可以中断模型训练。<br>\n",
    "使用earyly stopping 可以(1)避免模型过拟合;(2) 避免学习率过大不收敛"
   ]
  },
  {
   "cell_type": "markdown",
   "metadata": {},
   "source": [
    "#### 6.  训练多层神经网络时可以采用哪些方式防止过拟合？"
   ]
  },
  {
   "cell_type": "markdown",
   "metadata": {
    "collapsed": true
   },
   "source": [
    "1. 选择合适的神经元个数<br>\n",
    "2. 增大训练的数据量<br>\n",
    "3. 训练数据可以批量进行训练<br>\n",
    "4. 采用early stopping参数，训练模型当在验证集上的loss不在变化时，终止模型的训练<br>\n",
    "5. 增加dropout 层，可以随机的让某些隐层上的节点对应的权重不工作<br>\n"
   ]
  },
  {
   "cell_type": "markdown",
   "metadata": {},
   "source": [
    "#### 7.  进行深度学习任务时，使用激活函数是为了解决什么问题？ 常用的激活函数有哪些？\n",
    "\n",
    "- note:加入激活可以引入非线性变换，提升表达力。"
   ]
  },
  {
   "cell_type": "markdown",
   "metadata": {
    "collapsed": true
   },
   "source": [
    "在深度学习网络中，样本数据通过线性变换后，为控制数据结果压缩在一个固定的范围，我们通过在线性变换后，在增加一个激活函数<br>\n",
    "\n",
    "常用的激活函数<br>\n",
    "（1）Sigmoid函数：用于隐层神经元的输出，可以把数据控制在[0,1] 固定的范围.不过收速度比较慢<br>\n",
    "（2）Softmax函数：用于多分类神经网络的输出<br>\n",
    "（3）Relu函数： 在深度学习中，一般选择Relu函数作为隐层的输出函数<br>\n",
    "（4）tanh函数<br>"
   ]
  },
  {
   "cell_type": "markdown",
   "metadata": {},
   "source": [
    "#### 8 . 请简要说明CNN网络的框架结构"
   ]
  },
  {
   "cell_type": "markdown",
   "metadata": {
    "collapsed": true
   },
   "source": [
    "CNN的中文是卷积神经网络，翻译成英文是Convolutional Neural Networks ，主要解决图片领域的问题。例如： 图像的分类；CNN 是一种 feed-forward  类型的人工神经网络。\n",
    "\n",
    "CNN 网络的框架结构：\n",
    "（1） 卷积层（ Convolutional Laye ），对样本中的一张图片，通过卷积滤过器（Convolutional filters）对原始图片进行扫描，主要用于图片的特征提取\n",
    "（2） 持化层（Pooling Layers）主要对提取的样本数据进行一个下采样\n",
    "（3） Dropout Layer ，主要避免进行训练过程中的过拟合\n",
    "（4） 全连接层（Fully Connected Layer ）属于CNN的最后一层，却是一个非常重要的一层"
   ]
  },
  {
   "cell_type": "markdown",
   "metadata": {},
   "source": [
    "#### 9.请简述应当从哪些方向上思考和解决深度学习中出现的的over fitting问题？"
   ]
  },
  {
   "cell_type": "markdown",
   "metadata": {
    "collapsed": true
   },
   "source": [
    "（1）深度学习中增加dropout层<br>\n",
    "（2）训练模型采用early stopping<br>\n",
    "（3）增大数据的训练样本<br>\n",
    "（4）正则化<br>"
   ]
  },
  {
   "cell_type": "markdown",
   "metadata": {},
   "source": [
    "#### 10. 谈谈您对深度学习中的自适应学习率的了解\n",
    "\n",
    "- note: ??? 可以再多一些"
   ]
  },
  {
   "cell_type": "markdown",
   "metadata": {
    "collapsed": true
   },
   "source": [
    "深度学习模型训练过程，根据模型的收敛程度，自动调整学习率。一方面解决：人工设置太小，收敛变慢的情况；另一个方面，合适的学习率也可找到相对较好的模型"
   ]
  },
  {
   "cell_type": "markdown",
   "metadata": {},
   "source": [
    "## 二、实验题(共1题，共计40分)\n",
    "\n",
    "- note:整体代码没跑通。。检查下\n",
    "- note:25"
   ]
  },
  {
   "cell_type": "markdown",
   "metadata": {},
   "source": [
    "### 1. 请使用keras框架，构建CNN网络完成对MNIST数据集的训练，评估及预测"
   ]
  },
  {
   "cell_type": "markdown",
   "metadata": {},
   "source": [
    "### 导入相关的库"
   ]
  },
  {
   "cell_type": "code",
   "execution_count": 1,
   "metadata": {},
   "outputs": [
    {
     "name": "stderr",
     "output_type": "stream",
     "text": [
      "Using TensorFlow backend.\n"
     ]
    }
   ],
   "source": [
    "###导入keras相关卷积模块，包含Dropout、Conv2D和MaxPoling2D\n",
    "import numpy as np\n",
    "from keras.datasets import mnist\n",
    "import keras\n",
    "import gc\n",
    "import time\n",
    "from keras.models import Sequential, Model\n",
    "from keras.layers import Input, Dense, Dropout, Flatten\n",
    "from keras.layers.convolutional import Conv2D, MaxPooling2D"
   ]
  },
  {
   "cell_type": "markdown",
   "metadata": {},
   "source": [
    "## 加载数据"
   ]
  },
  {
   "cell_type": "code",
   "execution_count": 2,
   "metadata": {
    "collapsed": true
   },
   "outputs": [],
   "source": [
    "time1 = time.time()"
   ]
  },
  {
   "cell_type": "code",
   "execution_count": 3,
   "metadata": {
    "collapsed": true
   },
   "outputs": [],
   "source": [
    "(X_train, y_train), (X_test, y_test) = mnist.load_data()"
   ]
  },
  {
   "cell_type": "code",
   "execution_count": 4,
   "metadata": {},
   "outputs": [
    {
     "name": "stdout",
     "output_type": "stream",
     "text": [
      "(60000, 28, 28)\n",
      "(60000,)\n"
     ]
    }
   ],
   "source": [
    "#看一下数据集大小\n",
    "print(X_train.shape)\n",
    "print(y_train.shape)"
   ]
  },
  {
   "cell_type": "markdown",
   "metadata": {},
   "source": [
    "## 数据预处理"
   ]
  },
  {
   "cell_type": "code",
   "execution_count": 5,
   "metadata": {
    "collapsed": true
   },
   "outputs": [],
   "source": [
    "##把训练集中的手写黑白字体变成标准的四维张量形式(样本数量，长，宽，1)，并把像素值变成浮点格式。\n",
    "X_train = X_train.reshape(X_train.shape[0],28,28,1).astype('float32') \n",
    "X_test = X_test.reshape(X_test.shape[0],28,28,1).astype('float32')\n",
    "\n",
    "\n",
    "####归一化：由于每个像素值都是介于0-255，所以这里统一除以255，把像素值控制在0~1范围。\n",
    "X_train /= 255 \n",
    "X_test /= 255\n",
    "\n",
    "\n",
    "##由于输入层需要10个节点，所以最好把目标数字0-9做成one Hot编码的形式。\n",
    "def tran_y(y): \n",
    "    y_ohe = np.zeros(10) \n",
    "    y_ohe[y] = 1 \n",
    "    return y_ohe\n",
    "\n",
    "\n",
    "########把标签用one Hot编码重新表示一下\n",
    "y_train_ohe = np.array([tran_y(y_train[i]) for i in range(len(y_train))]) \n",
    "y_test_ohe = np.array([tran_y(y_test[i]) for i in range(len(y_test))])\n",
    "y_train_ohe = y_train_ohe.astype('float32')\n",
    "y_test_ohe = y_test_ohe.astype('float32')"
   ]
  },
  {
   "cell_type": "markdown",
   "metadata": {},
   "source": [
    "## 定义网络模型"
   ]
  },
  {
   "cell_type": "code",
   "execution_count": 6,
   "metadata": {
    "collapsed": true
   },
   "outputs": [],
   "source": [
    "###接着搭建卷积神经网络\n",
    "\n",
    "model = Sequential() \n",
    "\n",
    "###添加1层卷积层，构造64个过滤器，每个过滤器覆盖范围是3*3*1，过滤器挪动步长为1，图像四周补一圈0，并用relu 进行非线性变换\n",
    "model.add(Conv2D(filters = 64, kernel_size = (3, 3), strides = (1, 1), padding = 'same', activation = 'relu',\n",
    "          input_shape = (28,28,1)))\n",
    "\n",
    "###添加1层Max pooling,在2*2的格子中取最大值\n",
    "\n",
    "model.add(MaxPooling2D(pool_size = (2, 2)))\n",
    "\n",
    "##设立Dropout层，将dropout的概率设为0.5。也可以尝试用0.2,0.3这些常用的值\n",
    "model.add(Dropout(0.5))\n",
    "\n",
    "##重复构造，搭建神经网络\n",
    "model.add(Conv2D(128, kernel_size = (3, 3), strides = (1, 1), padding = 'same', activation = 'relu')) \n",
    "model.add(MaxPooling2D(pool_size = (2, 2))) \n",
    "model.add(Dropout(0.5)) \n",
    "\n",
    "\n",
    "model.add(Conv2D(256, kernel_size = (3, 3), strides = (1, 1), padding = 'same', activation = 'relu')) \n",
    "model.add(MaxPooling2D(pool_size = (2, 2))) \n",
    "model.add(Dropout(0.5))\n",
    "\n",
    "\n",
    "###把当前层节点展平\n",
    "model.add(Flatten())\n",
    "\n",
    "######构造全连接神经网络层(3层)\n",
    "model.add(Dense(128, activation = 'relu')) \n",
    "model.add(Dense(64, activation = 'relu')) \n",
    "model.add(Dense(32, activation = 'relu')) \n",
    "\n",
    "\n",
    "model.add(Dense(10, activation = 'softmax'))"
   ]
  },
  {
   "cell_type": "markdown",
   "metadata": {},
   "source": [
    "## 模型compile"
   ]
  },
  {
   "cell_type": "code",
   "execution_count": 7,
   "metadata": {},
   "outputs": [
    {
     "ename": "NameError",
     "evalue": "name 'SGD' is not defined",
     "output_type": "error",
     "traceback": [
      "\u001b[0;31m---------------------------------------------------------------------------\u001b[0m",
      "\u001b[0;31mNameError\u001b[0m                                 Traceback (most recent call last)",
      "\u001b[0;32m<ipython-input-7-954efb7c1cb5>\u001b[0m in \u001b[0;36m<module>\u001b[0;34m()\u001b[0m\n\u001b[1;32m      1\u001b[0m \u001b[0;31m#定义损失函数，一般来说分类问题的损失函数都选择采用交叉熵(Crossentropy)\u001b[0m\u001b[0;34m\u001b[0m\u001b[0;34m\u001b[0m\u001b[0m\n\u001b[1;32m      2\u001b[0m \u001b[0;31m# 我们可以定制各种选项，比如下面就定制了优化器选项。\u001b[0m\u001b[0;34m\u001b[0m\u001b[0;34m\u001b[0m\u001b[0m\n\u001b[0;32m----> 3\u001b[0;31m \u001b[0msgd\u001b[0m \u001b[0;34m=\u001b[0m \u001b[0mSGD\u001b[0m\u001b[0;34m(\u001b[0m\u001b[0mlr\u001b[0m\u001b[0;34m=\u001b[0m\u001b[0;36m0.03\u001b[0m\u001b[0;34m,\u001b[0m \u001b[0mdecay\u001b[0m\u001b[0;34m=\u001b[0m\u001b[0;36m1e-6\u001b[0m\u001b[0;34m,\u001b[0m \u001b[0mmomentum\u001b[0m\u001b[0;34m=\u001b[0m\u001b[0;36m0.95\u001b[0m\u001b[0;34m,\u001b[0m \u001b[0mnesterov\u001b[0m\u001b[0;34m=\u001b[0m\u001b[0;32mTrue\u001b[0m\u001b[0;34m)\u001b[0m\u001b[0;34m\u001b[0m\u001b[0m\n\u001b[0m\u001b[1;32m      4\u001b[0m model.compile(loss = 'categorical_crossentropy', \n\u001b[1;32m      5\u001b[0m               optimizer = sgd, metrics = ['accuracy'])\n",
      "\u001b[0;31mNameError\u001b[0m: name 'SGD' is not defined"
     ]
    }
   ],
   "source": [
    "#定义损失函数，一般来说分类问题的损失函数都选择采用交叉熵(Crossentropy)\n",
    "# 我们可以定制各种选项，比如下面就定制了优化器选项。\n",
    "sgd = SGD(lr=0.03, decay=1e-6, momentum=0.95, nesterov=True)\n",
    "model.compile(loss = 'categorical_crossentropy', \n",
    "              optimizer = sgd, metrics = ['accuracy'])"
   ]
  },
  {
   "cell_type": "markdown",
   "metadata": {},
   "source": [
    "## 模型训练"
   ]
  },
  {
   "cell_type": "code",
   "execution_count": 8,
   "metadata": {},
   "outputs": [
    {
     "ename": "RuntimeError",
     "evalue": "The model needs to be compiled before being used.",
     "output_type": "error",
     "traceback": [
      "\u001b[0;31m---------------------------------------------------------------------------\u001b[0m",
      "\u001b[0;31mRuntimeError\u001b[0m                              Traceback (most recent call last)",
      "\u001b[0;32m<ipython-input-8-b789daebd741>\u001b[0m in \u001b[0;36m<module>\u001b[0;34m()\u001b[0m\n\u001b[1;32m      1\u001b[0m \u001b[0;31m######放入批量样本，进行训练\u001b[0m\u001b[0;34m\u001b[0m\u001b[0;34m\u001b[0m\u001b[0m\n\u001b[1;32m      2\u001b[0m model.fit(X_train, y_train_ohe, validation_data = (X_test, y_test_ohe), \n\u001b[0;32m----> 3\u001b[0;31m           epochs = 10, batch_size = 128)\n\u001b[0m",
      "\u001b[0;32m/usr/local/lib/python3.5/dist-packages/keras/models.py\u001b[0m in \u001b[0;36mfit\u001b[0;34m(self, x, y, batch_size, epochs, verbose, callbacks, validation_split, validation_data, shuffle, class_weight, sample_weight, initial_epoch, **kwargs)\u001b[0m\n\u001b[1;32m    853\u001b[0m \u001b[0;34m\u001b[0m\u001b[0m\n\u001b[1;32m    854\u001b[0m         \u001b[0;32mif\u001b[0m \u001b[0;32mnot\u001b[0m \u001b[0mself\u001b[0m\u001b[0;34m.\u001b[0m\u001b[0mbuilt\u001b[0m\u001b[0;34m:\u001b[0m\u001b[0;34m\u001b[0m\u001b[0m\n\u001b[0;32m--> 855\u001b[0;31m             raise RuntimeError('The model needs to be compiled '\n\u001b[0m\u001b[1;32m    856\u001b[0m                                'before being used.')\n\u001b[1;32m    857\u001b[0m         return self.model.fit(x, y,\n",
      "\u001b[0;31mRuntimeError\u001b[0m: The model needs to be compiled before being used."
     ]
    }
   ],
   "source": [
    "######放入批量样本，进行训练\n",
    "model.fit(X_train, y_train_ohe, validation_data = (X_test, y_test_ohe), \n",
    "          epochs = 10, batch_size = 128)"
   ]
  },
  {
   "cell_type": "code",
   "execution_count": 9,
   "metadata": {},
   "outputs": [
    {
     "ename": "SyntaxError",
     "evalue": "Missing parentheses in call to 'print' (<ipython-input-9-7e46b6f46445>, line 5)",
     "output_type": "error",
     "traceback": [
      "\u001b[0;36m  File \u001b[0;32m\"<ipython-input-9-7e46b6f46445>\"\u001b[0;36m, line \u001b[0;32m5\u001b[0m\n\u001b[0;31m    print scores\u001b[0m\n\u001b[0m               ^\u001b[0m\n\u001b[0;31mSyntaxError\u001b[0m\u001b[0;31m:\u001b[0m Missing parentheses in call to 'print'\n"
     ]
    }
   ],
   "source": [
    "#######在测试集上评价模型精确度\n",
    "scores=model.evaluate(X_test,y_test_ohe,verbose=0)\n",
    "\n",
    "#####打印精确度\n",
    "print scores"
   ]
  },
  {
   "cell_type": "markdown",
   "metadata": {},
   "source": [
    "### 本阶段课程意见反馈题(非必答，不送分)\n",
    "#### 请同学围绕以下两点进行回答：\n",
    "- 自身总结：请您对您自己在本周课程的学习，收获，技能掌握等方面进行一次总结 ，也包括有哪些方面存在哪些不足，欠缺，困惑。作为将来回顾学习路径时的依据。\n"
   ]
  },
  {
   "cell_type": "code",
   "execution_count": null,
   "metadata": {
    "collapsed": true
   },
   "outputs": [],
   "source": []
  },
  {
   "cell_type": "code",
   "execution_count": null,
   "metadata": {
    "collapsed": true
   },
   "outputs": [],
   "source": []
  },
  {
   "cell_type": "code",
   "execution_count": null,
   "metadata": {
    "collapsed": true
   },
   "outputs": [],
   "source": []
  },
  {
   "cell_type": "code",
   "execution_count": null,
   "metadata": {
    "collapsed": true
   },
   "outputs": [],
   "source": []
  },
  {
   "cell_type": "code",
   "execution_count": null,
   "metadata": {
    "collapsed": true
   },
   "outputs": [],
   "source": []
  },
  {
   "cell_type": "markdown",
   "metadata": {},
   "source": [
    "- 课程反馈：请就知识点，进度，难易度，教学方式，考试方式及难易度等方面向我们反馈，督促我们进行更有效的改进。"
   ]
  },
  {
   "cell_type": "markdown",
   "metadata": {
    "collapsed": true
   },
   "source": []
  },
  {
   "cell_type": "markdown",
   "metadata": {},
   "source": [
    "<hr>\n",
    "<center><h1>####答卷结束####</h1></center>"
   ]
  }
 ],
 "metadata": {
  "kernelspec": {
   "display_name": "Python 3",
   "language": "python",
   "name": "python3"
  },
  "language_info": {
   "codemirror_mode": {
    "name": "ipython",
    "version": 3
   },
   "file_extension": ".py",
   "mimetype": "text/x-python",
   "name": "python",
   "nbconvert_exporter": "python",
   "pygments_lexer": "ipython3",
   "version": "3.5.2"
  }
 },
 "nbformat": 4,
 "nbformat_minor": 2
}
