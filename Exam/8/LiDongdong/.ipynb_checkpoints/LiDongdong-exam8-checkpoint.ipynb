{
 "cells": [
  {
   "cell_type": "markdown",
   "metadata": {},
   "source": [
    "## 七月在线机器学习实训营三期第八周(深度学习)考试\n",
    "#### 考试说明:\n",
    "- 起止时间：请同学在2018年3月30日至4月1日期间完成，最晚提交时间本周日（4月1日24时之前）结束，<b>逾期不接受补考,该考试分数计入平时成绩</b>\n",
    "- 考试方式：请同学<font color=red><b>拷贝</b></font>该试卷至自己姓名的目录后，将文件更名为同学姓名拼音-exam8后，进行作答。例如wangwei-exam8\n",
    "- 提交格式：请同学新建自己姓名全拼的文件夹，将该试卷，数据文件，zip文件等相关考试文件，放置此目录下。将该目录<b>移动</b>至/0.Teacher/Exam/8/目录下\n",
    "- 注意事项：为确保同学们真正了解自身对本周课程的掌握程度，<font color=red><b>请勿翻阅，移动，更改</b></font>其它同学试卷。如发现按0分处理\n",
    "- 请同学在下方同学姓名处填写自己的姓名，批改人和最终得分不用填写"
   ]
  },
  {
   "cell_type": "markdown",
   "metadata": {},
   "source": [
    "- 同学姓名:<u>_李栋栋_</u>  \n",
    "- 批改人： David\n",
    "- 最终得分:97"
   ]
  },
  {
   "cell_type": "markdown",
   "metadata": {},
   "source": [
    "<center><h1>####答卷开始####</h1></center>\n",
    "<hr>"
   ]
  },
  {
   "cell_type": "markdown",
   "metadata": {},
   "source": [
    "## 一、简答题(共10题，1-8题每题5分，最后两题每题10分。共计60分)\n",
    "\n",
    "- note:57"
   ]
  },
  {
   "cell_type": "markdown",
   "metadata": {},
   "source": [
    "#### 1.试写您对深度学习的理解，以及它与传统机器学习的关系，相同与不同之处。"
   ]
  },
  {
   "cell_type": "markdown",
   "metadata": {
    "collapsed": true
   },
   "source": [
    "1、深度学习的理解：  \n",
    "深度学习是基于“人工神经网络”里面的“神经元”逐步发展到深度学习的，深度学习现在依旧沿用之前的神经元模型，神经元一般包括N个输入，一个神经元和一个输出，一般神经元里面会包括激活函数，用于对输入进行计算产生输出，然后这个输出又可以作为输入传递到下一个神经元进行运算，通过不断的一个一个，一层一层的叠加神经元，就构造出了一个类似人类大脑的神经网络，然后最终输出层会把每一个输入映射到最终固定的分类上，最后通过使用损失函数、梯度下降算法等办法可以把输入的数据与最终的分类映射到某些固定的分类结果上构建出一系列参数，这些参数固定后就形成了当前的模型，然后就可以用于进行分类或者预测了，当前主要应用的领域还是计算机视觉和自然语言之类。   \n",
    "2、与传统机器学习的关系：  \n",
    "（1）相同之处：机器学习和深度学习都是用于解决分类或者预测相关的问题的，机器学习是通过算法来对这些问题进行抽象、分析并且最终构建出一套数学模型，从数学的角度去解决现实的分类或者识别问题，深度学习是通过假设出来的神经元模型来实现这一目的，但二者最终的目的都是解决此类相关问题。    \n",
    "（2）不同之处：深度学习在数学上相对于机器学习算法并没有严格的数学推理，它更多的是一种假设模型，一种黑箱模型，给的输入和输出，然后通过中间大量计算得到最终分类结果，在解释方面没有决策树和逻辑回归直观，并且深度学习由于层次会很高，会组合成各种情况，一般需要大量的数据去训练，如果数据量很少，非常容易过拟合，而机器学习算法在数据量少的时候也能得到较好结果，二者解决的领域问题也有所不同，一般深度学习在NLP和CV上应用较多，而机器学习算法在简单分类和推荐上用的多一些。"
   ]
  },
  {
   "cell_type": "markdown",
   "metadata": {},
   "source": [
    "#### 2.简要介绍下您了解的keras框架? 以及进行一个任务的基本流程"
   ]
  },
  {
   "cell_type": "markdown",
   "metadata": {
    "collapsed": true
   },
   "source": [
    "Keras是站在巨人肩膀上的设计。它基于TensorFlow和Theano模块化封装产生，吸纳了TensorFlow、Theano在神经网络上的突出表现，同时提供一致而简洁的API，允许可配置的模块可以用最少的代价自由组合在一起，在新模块的创建上也超级容易。    \n",
    "基本流程：    \n",
    "1、整理数据，明确输入输出    \n",
    "data=np.random.random((1000,784))   \n",
    "labels=np.random.randint(2,size=(1000,1))    \n",
    "2、构建网络（函数式或序贯）     \n",
    "model = Sequential([Dense(32, input_dim=784), Activation('relu'), Dense(10), Activation('softmax'),])  \n",
    "3、将模型进行编译  \n",
    "model.compile(optimizer='rmsprop', loss='categorical_crossentropy', metrics=['accuracy'])  4、开始训练模型    \n",
    "fit(self, x, y, batch_size=32, nb_epoch=10, verbose=1, callbacks=[], validation_split=0.0, validation_data=None, shuffle=True, class_weight=None, sample_weight=None)    \n",
    "5、对结果进行测试    \n",
    "evaluate(self, x, y, batch_size=32, verbose=1, sample_weight=None)\n",
    "此外Keras还可以保存与读取模型和它的权重数据"
   ]
  },
  {
   "cell_type": "markdown",
   "metadata": {},
   "source": [
    "#### 3.工业界在训练深度学习模型时，采用训练方式多为SGD（mini-batch），请简述这种方式较其它方式的优点？"
   ]
  },
  {
   "cell_type": "markdown",
   "metadata": {
    "collapsed": true
   },
   "source": [
    "SGD(stochastic gradient descent)为随机梯度下降算法，在进行深度学习时，一般完成一次训练然后再对数据进行遍历，但是由于深度学习使用的数据量一般较大，所以每次都对全部数据集进行遍历的时间代价太大了，所以需要随机、分批次进行遍历数据集，于是就产生了随机梯度下降的算法。    \n",
    "该算法优点：   \n",
    "1、在遍历的时候不需要使用全部数据集，而是使用部分数据集进行遍历，提高了遍历的效率，节省了大量的时间开销  \n",
    "2、该算法在进行梯度下降时由于时随机选择部分数据，并且在选择的时候是随机的，会避免一些重复数据的干扰，在训练轮数合理的情况下也也可以一定程度的避免过拟合  "
   ]
  },
  {
   "cell_type": "markdown",
   "metadata": {},
   "source": [
    "#### 4.  请简述神经风格中的BP模型的信号正向传播与误差反向传播的过程？"
   ]
  },
  {
   "cell_type": "markdown",
   "metadata": {
    "collapsed": true
   },
   "source": [
    "1、信号正向传播：输入样本－>输入层－>各隐层（处理）－>输出层    \n",
    "若输出层实际输出与期望输出不符，则转入误差反向传播过程。     \n",
    "2、误差反向传播：输出误差（某种形式）－>隐层（逐层）－>输入层    \n",
    "其主要目的是通过将输出误差反传，将误差分摊给各层所有单元，从而获得各层单元的误差信号，进而修正各单元的权值。    "
   ]
  },
  {
   "cell_type": "markdown",
   "metadata": {},
   "source": [
    "#### 5.  在什么情况下，会使用到早停法earyly stoping? 使用早停法可以防止什么情况发生？"
   ]
  },
  {
   "cell_type": "markdown",
   "metadata": {
    "collapsed": true
   },
   "source": [
    "以下情况一般需要使用early stoping：    \n",
    "1、在每一个Epoch结束时（一个Epoch集为对所有的训练数据的一轮遍历）计算validation data的accuracy，当accuracy不再提高时，就停止训练    \n",
    "2、通过绘制精度曲线去发现，如果发现该模型在训练集上效果特别好，但是在验证集上效果开始变差，此时可以停止训练。   \n",
    "3、无论后面训练轮数是否增加，训练集和验证集上准确率都无明显变化的时候  \n",
    "使用早停主要是为了防止过拟合的发生"
   ]
  },
  {
   "cell_type": "markdown",
   "metadata": {},
   "source": [
    "#### 6.  训练多层神经网络时可以采用哪些方式防止过拟合？"
   ]
  },
  {
   "cell_type": "markdown",
   "metadata": {
    "collapsed": true
   },
   "source": [
    "防止过拟合的方法：   \n",
    "1、加入正则化项：可以使用L1或者L2范数约束来进行避免过拟合   \n",
    "2、早停：在神经网络训练的时候，如果符和早停的基本调节，就可以防止过拟合   \n",
    "3、扩充数据集：为了防止进行大量的训练后会出现拟合的情况，可以对数据集进行扩充，或者把里面的样本进行处理或者特征组合来进行扩充数据集   \n",
    "4、drop out：通过删除掉一部分神经元来防止过拟合   "
   ]
  },
  {
   "cell_type": "markdown",
   "metadata": {},
   "source": [
    "#### 7.  进行深度学习任务时，使用激活函数是为了解决什么问题？ 常用的激活函数有哪些？"
   ]
  },
  {
   "cell_type": "markdown",
   "metadata": {
    "collapsed": true
   },
   "source": [
    "激活函数是为了解决哪些问题：  \n",
    "如果没有激活函数时，权重和偏差只会进行线性变换。线性方程很简单，但解决复杂问题的能力有限。没有激活函数的神经网络实质上只是一个线性回归模型。激活函数对输入进行非线性变换，使其能够学习和执行更复杂的任务。我们希望我们的神经网络能够处理复杂任务，如语言翻译和图像分类等。线性变换永远无法执行这样的任务。激活函数使反向传播成为可能，因为激活函数的误差梯度可以用来调整权重和偏差。如果没有可微的非线性函数，这就不可能实现。    \n",
    "常用的激活函数：    \n",
    "1.Binary Step函数:二元函数只有两个值，只能分两类。梯度为零，在反向传播过程中不可能更新权重和偏差。      \n",
    "2.线性函数：每次做反向传播时，梯度都是一样的。每一层都使用线性变换，不管我们有多少层，最终输出的还是输入的线性变换。   \n",
    "3.Sigmoid函数：非线性的函数,它是平滑的，依赖于x值，这意味着在反向传播过程中，可以使用这个函数。误差可以被反向传播，权重也可以相应地更新。但是一旦x值不在[-3，3]内，梯度就变得很小，接近于零，而网络就得不到真正的学习。而且它y轴取值范围[0，1]在原点周围不对称，得到的值都是正的。    \n",
    "4.tanh函数：Sigmoid函数升级版Y值范围为[-1,1]。但是它在一定范围外梯度依然会变很小不利于权重更新。    \n",
    "5.ReLU函数：ReLU函数是非线性的，可以反向传播误差，并激活多个神经元。但它不会同时激活所有的神经元。因为如果输入值是负的，ReLU函数会转换为0，而神经元不被激活。这意味着，在一段时间内，只有少量的神经元被激活，神经网络的这种稀疏性使其变得高效且易于计算。ReLU函数也存在着梯度为零的问题。x＜0时梯度为零，这意味着在反向传播过程中，权重不会得到更新。   \n",
    "6.Leaky ReLU函数：ReLU函数升级版，在x<0时y不是0了，而是一个很小的接近0的值比如0.01。这样权重就可以更新了。   \n",
    "7.Softmax函数：softmax函数也是一种sigmoid函数但是它可以处理多分类。    "
   ]
  },
  {
   "cell_type": "markdown",
   "metadata": {},
   "source": [
    "#### 8 . 请简要说明CNN网络的框架结构"
   ]
  },
  {
   "cell_type": "markdown",
   "metadata": {
    "collapsed": true
   },
   "source": [
    "CNN网络架构：  \n",
    "1、数据输入层：该层主要是对输入的数据进行规范化，并对数据进行预处理，处理数据的方法一般包括归一化、标准化、PCA等等   \n",
    "2、卷积操作：用一个滤波器（就是一个小特征矩阵，也称卷积核）在图像矩阵上游走，在对应位置元素相乘，再把相乘的结果相加，最后相加的结果形成新的图像矩阵，游走完成后即完成了对原始图像的卷积变换（映射变换），形成此滤波器下的特征提取。C层是一个特征提取层，为什么用卷积运算；卷积运算一个重要的特点就是，通过卷积运算，可以使原信号特征增强，并且降低噪音；例如用增强边缘的卷积去处理图像，处理后的图像边缘特征增强。    \n",
    "3、S层：\n",
    "S-层可看作是模糊滤波器，起到二次特征提取的作用。S层又叫做subsample层，子采样层或者pooling（池化）层\n",
    "在通过卷积获得了特征 (features)之后，下一步我们希望利用这些特征去做分类。理论上讲，人们可以用所有提取得到的特征去训练分类器，例如 softmax分类器，但这样做面临计算量的挑战。例如：对于一个 96X96像素的图像，假设我们已经学习得到了400个定义在8X8输入上的特征，每一个特征和图像卷积都会得到一个 (96 − 8 + 1) * (96 − 8 + 1) = 7921 维的卷积特征，由于有 400个特征，所以每个样例 (example)都会得到一个 892 *400 = 3,168,400维的卷积特征向量。     \n",
    "4、全连接层：  \n",
    "两层之间所有神经元都有权重连接，通常全连接层在卷积神经网络尾部。"
   ]
  },
  {
   "cell_type": "markdown",
   "metadata": {},
   "source": [
    "#### 9.请简述应当从哪些方向上思考和解决深度学习中出现的的over fitting问题？"
   ]
  },
  {
   "cell_type": "markdown",
   "metadata": {
    "collapsed": true
   },
   "source": [
    "过拟合的出现一般可以考虑是模型的学习能力过强，纯粹机械记住了每个样本的结果，也可以认为是样本量太少，不足以训练出具备泛化能力的模型。   \n",
    "解决过拟合：   \n",
    "1、增加训练数据：    \n",
    "通过增加新的训练数据来避免过拟合，如果没有过多的数据去填充也可以把数据的特征进行组合来构造出新的特征，如果是图片，还可以通过旋转、剪切等操作来形成新的数据样本解决过拟合问题   \n",
    "2、添加正则化项目：    \n",
    "通过添加L1或者L2等正则化项来避免此问题    \n",
    "3、早停：   \n",
    "早停可以避免训练时不断对样本进行拟合，是解决过拟合的好办法   \n",
    "4、drop out：  \n",
    "可以对神经元进行处理来减少过拟合   "
   ]
  },
  {
   "cell_type": "markdown",
   "metadata": {},
   "source": [
    "#### 10. 谈谈您对深度学习中的自适应学习率的了解\n",
    "\n",
    "- note:需要有对几个算法的简要介绍的。"
   ]
  },
  {
   "cell_type": "markdown",
   "metadata": {
    "collapsed": true
   },
   "source": [
    "自适应学习率指的是在执行SGD的过程中学习率可以进行自动调节。带自适应学习率的算法包括Nesterov accelerated gradient，Adagrad, Adadelta, Adam等方法。学习率决定了参数空间搜索的步长，过大导致解振动、不收敛；过小导致收敛速度慢，而且容易收敛于局部最优的解而不是全局最优解。理想的学习率设计是，前期大学习率搜索，后期小学习率调优。以及对参数的个性化调整，优化频率高的参数小学习率调整，优化频率低的参数大学习率调整。"
   ]
  },
  {
   "cell_type": "markdown",
   "metadata": {},
   "source": [
    "## 二、实验题(共1题，共计40分)\n",
    "\n",
    "- note: 40"
   ]
  },
  {
   "cell_type": "markdown",
   "metadata": {},
   "source": [
    "### 1. 请使用keras框架，构建CNN网络完成对MNIST数据集的训练，评估及预测"
   ]
  },
  {
   "cell_type": "code",
   "execution_count": 1,
   "metadata": {},
   "outputs": [
    {
     "name": "stderr",
     "output_type": "stream",
     "text": [
      "Using TensorFlow backend.\n"
     ]
    },
    {
     "name": "stdout",
     "output_type": "stream",
     "text": [
      "_________________________________________________________________\n",
      "Layer (type)                 Output Shape              Param #   \n",
      "=================================================================\n",
      "conv2d_1 (Conv2D)            (None, 28, 28, 16)        416       \n",
      "_________________________________________________________________\n",
      "max_pooling2d_1 (MaxPooling2 (None, 14, 14, 16)        0         \n",
      "_________________________________________________________________\n",
      "conv2d_2 (Conv2D)            (None, 14, 14, 36)        14436     \n",
      "_________________________________________________________________\n",
      "max_pooling2d_2 (MaxPooling2 (None, 7, 7, 36)          0         \n",
      "_________________________________________________________________\n",
      "dropout_1 (Dropout)          (None, 7, 7, 36)          0         \n",
      "_________________________________________________________________\n",
      "flatten_1 (Flatten)          (None, 1764)              0         \n",
      "_________________________________________________________________\n",
      "dense_1 (Dense)              (None, 128)               225920    \n",
      "_________________________________________________________________\n",
      "dropout_2 (Dropout)          (None, 128)               0         \n",
      "_________________________________________________________________\n",
      "dense_2 (Dense)              (None, 10)                1290      \n",
      "=================================================================\n",
      "Total params: 242,062\n",
      "Trainable params: 242,062\n",
      "Non-trainable params: 0\n",
      "_________________________________________________________________\n",
      "None\n",
      "Train on 48000 samples, validate on 12000 samples\n",
      "Epoch 1/10\n",
      "24s - loss: 0.4891 - acc: 0.8475 - val_loss: 0.0957 - val_acc: 0.9724\n",
      "Epoch 2/10\n",
      "22s - loss: 0.1398 - acc: 0.9585 - val_loss: 0.0638 - val_acc: 0.9805\n",
      "Epoch 3/10\n",
      "23s - loss: 0.1016 - acc: 0.9698 - val_loss: 0.0510 - val_acc: 0.9839\n",
      "Epoch 4/10\n",
      "21s - loss: 0.0836 - acc: 0.9757 - val_loss: 0.0463 - val_acc: 0.9856\n",
      "Epoch 5/10\n",
      "20s - loss: 0.0715 - acc: 0.9781 - val_loss: 0.0395 - val_acc: 0.9882\n",
      "Epoch 6/10\n",
      "21s - loss: 0.0633 - acc: 0.9812 - val_loss: 0.0394 - val_acc: 0.9883\n",
      "Epoch 7/10\n",
      "21s - loss: 0.0560 - acc: 0.9829 - val_loss: 0.0411 - val_acc: 0.9878\n",
      "Epoch 8/10\n",
      "21s - loss: 0.0507 - acc: 0.9846 - val_loss: 0.0331 - val_acc: 0.9902\n",
      "Epoch 9/10\n",
      "20s - loss: 0.0449 - acc: 0.9867 - val_loss: 0.0340 - val_acc: 0.9901\n",
      "Epoch 10/10\n",
      "21s - loss: 0.0419 - acc: 0.9867 - val_loss: 0.0339 - val_acc: 0.9901\n"
     ]
    },
    {
     "data": {
      "image/png": "[encoded data removed]",
      "text/plain": [
       "<matplotlib.figure.Figure at 0x7fd0046fdcc0>"
      ]
     },
     "metadata": {},
     "output_type": "display_data"
    },
    {
     "data": {
      "image/png": "[encoded data removed]",
      "text/plain": [
       "<matplotlib.figure.Figure at 0x7fd01f64ddd8>"
      ]
     },
     "metadata": {},
     "output_type": "display_data"
    },
    {
     "name": "stdout",
     "output_type": "stream",
     "text": [
      " 9920/10000 [============================>.] - ETA: 0s"
     ]
    },
    {
     "data": {
      "image/png": "[encoded data removed]",
      "text/plain": [
       "<matplotlib.figure.Figure at 0x7fcfe573a3c8>"
      ]
     },
     "metadata": {},
     "output_type": "display_data"
    },
    {
     "data": {
      "text/html": [
       "<div>\n",
       "<style scoped>\n",
       "    .dataframe tbody tr th:only-of-type {\n",
       "        vertical-align: middle;\n",
       "    }\n",
       "\n",
       "    .dataframe tbody tr th {\n",
       "        vertical-align: top;\n",
       "    }\n",
       "\n",
       "    .dataframe thead th {\n",
       "        text-align: right;\n",
       "    }\n",
       "</style>\n",
       "<table border=\"1\" class=\"dataframe\">\n",
       "  <thead>\n",
       "    <tr style=\"text-align: right;\">\n",
       "      <th>predict</th>\n",
       "      <th>0</th>\n",
       "      <th>1</th>\n",
       "      <th>2</th>\n",
       "      <th>3</th>\n",
       "      <th>4</th>\n",
       "      <th>5</th>\n",
       "      <th>6</th>\n",
       "      <th>7</th>\n",
       "      <th>8</th>\n",
       "      <th>9</th>\n",
       "    </tr>\n",
       "    <tr>\n",
       "      <th>label</th>\n",
       "      <th></th>\n",
       "      <th></th>\n",
       "      <th></th>\n",
       "      <th></th>\n",
       "      <th></th>\n",
       "      <th></th>\n",
       "      <th></th>\n",
       "      <th></th>\n",
       "      <th></th>\n",
       "      <th></th>\n",
       "    </tr>\n",
       "  </thead>\n",
       "  <tbody>\n",
       "    <tr>\n",
       "      <th>0</th>\n",
       "      <td>975</td>\n",
       "      <td>1</td>\n",
       "      <td>0</td>\n",
       "      <td>0</td>\n",
       "      <td>0</td>\n",
       "      <td>0</td>\n",
       "      <td>2</td>\n",
       "      <td>1</td>\n",
       "      <td>1</td>\n",
       "      <td>0</td>\n",
       "    </tr>\n",
       "    <tr>\n",
       "      <th>1</th>\n",
       "      <td>0</td>\n",
       "      <td>1131</td>\n",
       "      <td>1</td>\n",
       "      <td>0</td>\n",
       "      <td>0</td>\n",
       "      <td>1</td>\n",
       "      <td>0</td>\n",
       "      <td>1</td>\n",
       "      <td>1</td>\n",
       "      <td>0</td>\n",
       "    </tr>\n",
       "    <tr>\n",
       "      <th>2</th>\n",
       "      <td>1</td>\n",
       "      <td>2</td>\n",
       "      <td>1026</td>\n",
       "      <td>0</td>\n",
       "      <td>1</td>\n",
       "      <td>0</td>\n",
       "      <td>0</td>\n",
       "      <td>2</td>\n",
       "      <td>0</td>\n",
       "      <td>0</td>\n",
       "    </tr>\n",
       "    <tr>\n",
       "      <th>3</th>\n",
       "      <td>0</td>\n",
       "      <td>0</td>\n",
       "      <td>0</td>\n",
       "      <td>1006</td>\n",
       "      <td>0</td>\n",
       "      <td>0</td>\n",
       "      <td>0</td>\n",
       "      <td>2</td>\n",
       "      <td>2</td>\n",
       "      <td>0</td>\n",
       "    </tr>\n",
       "    <tr>\n",
       "      <th>4</th>\n",
       "      <td>0</td>\n",
       "      <td>0</td>\n",
       "      <td>0</td>\n",
       "      <td>0</td>\n",
       "      <td>977</td>\n",
       "      <td>0</td>\n",
       "      <td>1</td>\n",
       "      <td>0</td>\n",
       "      <td>1</td>\n",
       "      <td>3</td>\n",
       "    </tr>\n",
       "    <tr>\n",
       "      <th>5</th>\n",
       "      <td>1</td>\n",
       "      <td>0</td>\n",
       "      <td>0</td>\n",
       "      <td>6</td>\n",
       "      <td>0</td>\n",
       "      <td>881</td>\n",
       "      <td>2</td>\n",
       "      <td>0</td>\n",
       "      <td>0</td>\n",
       "      <td>2</td>\n",
       "    </tr>\n",
       "    <tr>\n",
       "      <th>6</th>\n",
       "      <td>4</td>\n",
       "      <td>2</td>\n",
       "      <td>0</td>\n",
       "      <td>1</td>\n",
       "      <td>1</td>\n",
       "      <td>1</td>\n",
       "      <td>948</td>\n",
       "      <td>0</td>\n",
       "      <td>1</td>\n",
       "      <td>0</td>\n",
       "    </tr>\n",
       "    <tr>\n",
       "      <th>7</th>\n",
       "      <td>0</td>\n",
       "      <td>1</td>\n",
       "      <td>3</td>\n",
       "      <td>3</td>\n",
       "      <td>0</td>\n",
       "      <td>0</td>\n",
       "      <td>0</td>\n",
       "      <td>1018</td>\n",
       "      <td>1</td>\n",
       "      <td>2</td>\n",
       "    </tr>\n",
       "    <tr>\n",
       "      <th>8</th>\n",
       "      <td>3</td>\n",
       "      <td>1</td>\n",
       "      <td>3</td>\n",
       "      <td>2</td>\n",
       "      <td>1</td>\n",
       "      <td>0</td>\n",
       "      <td>0</td>\n",
       "      <td>2</td>\n",
       "      <td>959</td>\n",
       "      <td>3</td>\n",
       "    </tr>\n",
       "    <tr>\n",
       "      <th>9</th>\n",
       "      <td>1</td>\n",
       "      <td>3</td>\n",
       "      <td>0</td>\n",
       "      <td>2</td>\n",
       "      <td>6</td>\n",
       "      <td>1</td>\n",
       "      <td>0</td>\n",
       "      <td>4</td>\n",
       "      <td>0</td>\n",
       "      <td>992</td>\n",
       "    </tr>\n",
       "  </tbody>\n",
       "</table>\n",
       "</div>"
      ],
      "text/plain": [
       "predict    0     1     2     3    4    5    6     7    8    9\n",
       "label                                                        \n",
       "0        975     1     0     0    0    0    2     1    1    0\n",
       "1          0  1131     1     0    0    1    0     1    1    0\n",
       "2          1     2  1026     0    1    0    0     2    0    0\n",
       "3          0     0     0  1006    0    0    0     2    2    0\n",
       "4          0     0     0     0  977    0    1     0    1    3\n",
       "5          1     0     0     6    0  881    2     0    0    2\n",
       "6          4     2     0     1    1    1  948     0    1    0\n",
       "7          0     1     3     3    0    0    0  1018    1    2\n",
       "8          3     1     3     2    1    0    0     2  959    3\n",
       "9          1     3     0     2    6    1    0     4    0  992"
      ]
     },
     "execution_count": 1,
     "metadata": {},
     "output_type": "execute_result"
    }
   ],
   "source": [
    "from keras.datasets import mnist  \n",
    "from keras.utils import np_utils  \n",
    "import numpy as np  \n",
    "np.random.seed(10)  \n",
    "    \n",
    "(x_train, y_train),(x_test,y_test) = mnist.load_data() #读取MNIST资料  \n",
    "   \n",
    "#将features（数字影像特征值）以reshape转换为6000*28*28*1的4维矩阵  \n",
    "x_train4D = x_train.reshape(x_train.shape[0],28,28,1).astype('float32')  \n",
    "x_test4D = x_test.reshape(x_test.shape[0],28,28,1).astype('float32')  \n",
    "    \n",
    "#将features标准化，可以提高模型预测的准确度，并且更快收敛  \n",
    "x_train4D_normalize = x_train4D / 255  \n",
    "x_test4D_normalize = x_test4D / 255  \n",
    "  \n",
    "# 使用np_utils.to_categorical,将训练资料集与测试的label进行Onehot encoding转换  \n",
    "y_trainOneHot = np_utils.to_categorical(y_train)  \n",
    "y_testOneHot = np_utils.to_categorical(y_test)  \n",
    "  \n",
    "#建立模型  \n",
    "from keras.models import Sequential  \n",
    "from keras.layers import Dense,Dropout,Flatten,Conv2D,MaxPooling2D  \n",
    "  \n",
    "#建立keras的Sequential模型（线性堆积模型）\n",
    "model = Sequential()  \n",
    "  \n",
    "#建立卷积层1.  \n",
    "#输入的数字影像是28*28大小，执行第一次卷积运算，会产生16个影像，卷积运算并不会改变影像大小，所以仍然是28*28大小。  \n",
    "model.add(Conv2D(filters=16,  \n",
    "                kernel_size=(5,5),  \n",
    "                padding='same',#补零  \n",
    "                input_shape=(28,28,1),  \n",
    "                activation='relu'))  \n",
    "  \n",
    "#建立池化层  \n",
    "#输入参数pool_size=(2,2),执行第一次缩减取样，将16个28*28影像，缩小为16个14*14的影像。  \n",
    "model.add(MaxPooling2D(pool_size=(2,2)))  \n",
    "  \n",
    "    \n",
    "# 建立卷积层2\n",
    "#输入的数字影像是28*28大小，执行第2次卷积运算，将原本16个的影像，转换为36个影像，卷积运算并不会改变影像大小，所以仍然是14*14大小。  \n",
    "model.add(Conv2D(filters=36,  \n",
    "                kernel_size=(5,5),  \n",
    "                padding='same',#补零  \n",
    "                activation='relu'))  \n",
    "\n",
    "#建立池化层2  \n",
    "#输入参数pool_size=(2,2),执行第2次缩减取样，将36个14*14影像，缩小为36个7*7的影像。  \n",
    "model.add(MaxPooling2D(pool_size=(2,2)))  \n",
    "\n",
    "#加入Dropout(0.25)层至模型中。其功能是，每次训练迭代时，会随机的在神经网络中放弃25%的神经元，以避免overfitting。  \n",
    "model.add(Dropout(0.25))  \n",
    "\n",
    "#建立平坦层  \n",
    "#之前的步骤已经建立池化层2，共有36个7*7影像，转换为1维的向量，长度是36*7*7=1764，也就是1764个float数字，正好对应到1764个神经元。  \n",
    "model.add(Flatten())  \n",
    "  \n",
    "#建立隐藏层，共有128个神经元  \n",
    "model.add(Dense(128,activation='relu'))  \n",
    "  \n",
    "#加入Dropout(0.5)层至模型中。其功能是，每次训练迭代时，会随机的在神经网络中放弃50%的神经元，以避免overfitting。  \n",
    "model.add(Dropout(0.5))  \n",
    "  \n",
    "#建立输出层  \n",
    "#共有10个神经元，对应到0-9共10个数字。并且使用softmax激活函数进行转换，softmax可以将神经元的输出，转换为预测每一个数字的几率。  \n",
    "model.add(Dense(10,activation='softmax'))  \n",
    "\n",
    "#查看模型的摘要  \n",
    "print(model.summary())  \n",
    " \n",
    "#进行训练  \n",
    "#定义训练方式  \n",
    "#在模型训练之前，我们必须使用compile方法，对训练模型进行设定  \n",
    "model.compile(loss='categorical_crossentropy',  \n",
    "             optimizer='adam',metrics=['accuracy'])  \n",
    "\n",
    "#开始训练  \n",
    "train_history=model.fit(x=x_train4D_normalize,  \n",
    "                       y=y_trainOneHot,validation_split=0.2,  \n",
    "                       epochs=10,batch_size=300,verbose=2)  \n",
    "\n",
    "#画出accuracy执行结果  \n",
    "#之前训练步骤，会将每一个训练周期的accuracy与loss，记录在train_history。  \n",
    "import matplotlib.pyplot as plt  \n",
    "def show_train_history(train_history,train,validation):  \n",
    "    plt.plot(train_history.history[train])  \n",
    "    plt.plot(train_history.history[validation])  \n",
    "    plt.title('Train History')  \n",
    "    plt.ylabel(train)  \n",
    "    plt.xlabel('Epoch')  \n",
    "    plt.legend(['train','validation'],loc='upper left')  \n",
    "    plt.show()  \n",
    "  \n",
    "   \n",
    "show_train_history(train_history,'acc','val_acc')  \n",
    "  \n",
    "#画出loss误差执行结果  \n",
    "show_train_history(train_history,'loss','val_loss')  \n",
    "  \n",
    "#用test评估模型准确度  \n",
    "scores = model.evaluate(x_test4D_normalize,y_testOneHot)  \n",
    "scores[1]  \n",
    "  \n",
    "#进行预测   \n",
    "prediction=model.predict_classes(x_test4D_normalize)  \n",
    "  \n",
    "\n",
    "#预测结果  \n",
    "prediction[:10]  \n",
    "   \n",
    "def plot_images_labels_prediction(images,labels,prediction,idx,num=10):  \n",
    "    fig = plt.gcf()  \n",
    "    fig.set_size_inches(12,14)  \n",
    "    if num>25:  \n",
    "        num =25  \n",
    "    for i in range(0,num):  \n",
    "        ax = plt.subplot(5,5,1+i)  \n",
    "        ax.imshow(images[idx], cmap='binary')  \n",
    "        title = \"label=\"+str(labels[idx])  \n",
    "        if len(prediction)>0:  \n",
    "            title+=\",predict=\"+str(prediction[idx])  \n",
    "        ax.set_title(title,fontsize=10)  \n",
    "        ax.set_xticks([])  \n",
    "        ax.set_yticks([])  \n",
    "        idx+=1  \n",
    "    plt.show()  \n",
    "  \n",
    "  \n",
    "plot_images_labels_prediction(x_test,y_test,prediction,idx=0)  \n",
    "  \n",
    "#显示混淆矩阵  \n",
    "import pandas as pd  \n",
    "pd.crosstab(y_test,prediction,  \n",
    "           rownames=['label'],colnames=['predict'])  "
   ]
  },
  {
   "cell_type": "markdown",
   "metadata": {},
   "source": [
    "### 本阶段课程意见反馈题(非必答，不送分)\n",
    "#### 请同学围绕以下两点进行回答：\n",
    "- 自身总结：请您对您自己在本周课程的学习，收获，技能掌握等方面进行一次总结 ，也包括有哪些方面存在哪些不足，欠缺，困惑。作为将来回顾学习路径时的依据。\n"
   ]
  },
  {
   "cell_type": "code",
   "execution_count": null,
   "metadata": {
    "collapsed": true
   },
   "outputs": [],
   "source": []
  },
  {
   "cell_type": "markdown",
   "metadata": {},
   "source": [
    "- 课程反馈：请就知识点，进度，难易度，教学方式，考试方式及难易度等方面向我们反馈，督促我们进行更有效的改进。"
   ]
  },
  {
   "cell_type": "markdown",
   "metadata": {
    "collapsed": true
   },
   "source": [
    "到现在为止已经考过很多次试了，能不能把之前考试的答案整理一下发出来，便于我们以后学习"
   ]
  },
  {
   "cell_type": "markdown",
   "metadata": {},
   "source": [
    "<hr>\n",
    "<center><h1>####答卷结束####</h1></center>"
   ]
  }
 ],
 "metadata": {
  "kernelspec": {
   "display_name": "Python 3",
   "language": "python",
   "name": "python3"
  },
  "language_info": {
   "codemirror_mode": {
    "name": "ipython",
    "version": 3
   },
   "file_extension": ".py",
   "mimetype": "text/x-python",
   "name": "python",
   "nbconvert_exporter": "python",
   "pygments_lexer": "ipython3",
   "version": "3.5.2"
  }
 },
 "nbformat": 4,
 "nbformat_minor": 2
}
