{
 "cells": [
  {
   "cell_type": "markdown",
   "metadata": {},
   "source": [
    "## 七月在线机器学习实训营三期第八周(深度学习)考试\n",
    "#### 考试说明:\n",
    "- 起止时间：请同学在2018年3月30日至4月1日期间完成，最晚提交时间本周日（4月1日24时之前）结束，<b>逾期不接受补考,该考试分数计入平时成绩</b>\n",
    "- 考试方式：请同学<font color=red><b>拷贝</b></font>该试卷至自己姓名的目录后，将文件更名为同学姓名拼音-exam8后，进行作答。例如wangwei-exam8\n",
    "- 提交格式：请同学新建自己姓名全拼的文件夹，将该试卷，数据文件，zip文件等相关考试文件，放置此目录下。将该目录<b>移动</b>至/0.Teacher/Exam/8/目录下\n",
    "- 注意事项：为确保同学们真正了解自身对本周课程的掌握程度，<font color=red><b>请勿翻阅，移动，更改</b></font>其它同学试卷。如发现按0分处理\n",
    "- 请同学在下方同学姓名处填写自己的姓名，批改人和最终得分不用填写"
   ]
  },
  {
   "cell_type": "markdown",
   "metadata": {},
   "source": [
    "- 同学姓名:<u>李思佳</u>  \n",
    "- 批改人： David\n",
    "- 最终得分:100"
   ]
  },
  {
   "cell_type": "markdown",
   "metadata": {},
   "source": [
    "<center><h1>####答卷开始####</h1></center>\n",
    "<hr>"
   ]
  },
  {
   "cell_type": "markdown",
   "metadata": {},
   "source": [
    "## 一、简答题(共10题，1-8题每题5分，最后两题每题10分。共计60分)\n",
    "\n",
    "- note:60"
   ]
  },
  {
   "cell_type": "markdown",
   "metadata": {},
   "source": [
    "#### 1.试写您对深度学习的理解，以及它与传统机器学习的关系，相同与不同之处。"
   ]
  },
  {
   "cell_type": "markdown",
   "metadata": {
    "collapsed": true
   },
   "source": [
    "深度学习模型就是很深层次的神经网络；对于神经网络模型其隐层的数量越多，相应的模型复杂度越大、参数越多，就会具备更强大的学习能力。深度学习模型包含有很深层次的神经网络(DNN)、图像识别领域学习能力很强的卷积神经网络（CNN），NLP方向学习能力很强的循环神经网络（RNN）等等。<br>\n",
    "\n",
    "神经网络是传统机器学习的一种模型，而很深层次的神经网络（DNN）即典型的深度学习模型。神经网络为机器学习的一个分支，而深度学习为神经网络的延伸。<br>\n",
    "\n",
    "相同之处：都大致可以分为有监督学习和无监督学习，都是通过某种算法使得损失函数最小化来计算出学习模型（参数取值）。<br>\n",
    "不同之处：深度学习有更多的参数、更强大的非线性学习能力，因此更容易陷入过拟合，经典算法为BP算法。\n"
   ]
  },
  {
   "cell_type": "markdown",
   "metadata": {},
   "source": [
    "#### 2.简要介绍下您了解的keras框架? 以及进行一个任务的基本流程"
   ]
  },
  {
   "cell_type": "markdown",
   "metadata": {
    "collapsed": true
   },
   "source": [
    "keras框架是建立在Tensorflow、Theano、CNTK之上的一种深度学习框架，keras具备易上手、模块化、易扩展等优点，计算效率肯可能会慢于Tensorflow等框架。<br>\n",
    "\n",
    "基本流程：以Sequential模型为例，首先建立深度学习模型大框架（Sequential），将想要搭建的每一层网络依次叠加(add)进来，进行编译（compile）同时指定损失函数、优化器和评估指标等，然后对每一批（batch）训练数据、验证数据进行拟合、评估，选择出评估指标最好的一组参数模型，最终对测试集进行预测。"
   ]
  },
  {
   "cell_type": "markdown",
   "metadata": {},
   "source": [
    "#### 3.工业界在训练深度学习模型时，采用训练方式多为SGD（mini-batch），请简述这种方式较其它方式的优点？"
   ]
  },
  {
   "cell_type": "markdown",
   "metadata": {
    "collapsed": true
   },
   "source": [
    "SGD（mini-batch）：每次梯度计算使用小批量样本，同时随着计算次数的增加逐渐降低学习率；另外可以考虑增加Momentum。<br>\n",
    "\n",
    "优点： SGD（mini-batch）比批梯度下降法（GD）的训练速度更快，比随机梯度下降法（SGD）更容易达到全局最优，增加Momentum的SGD加强了跳出局部最优的潜力。"
   ]
  },
  {
   "cell_type": "markdown",
   "metadata": {},
   "source": [
    "#### 4.  请简述神经风格中的BP模型的信号正向传播与误差反向传播的过程？"
   ]
  },
  {
   "cell_type": "markdown",
   "metadata": {
    "collapsed": true
   },
   "source": [
    "正向传播：根据目前的一组参数值（第一次参数取值可以采取随机初始化，后面每次采用SGD进行参数更新），从输入层到输出层依次计算出最终结果；<br>\n",
    "误差反向传播：根据输出结果和标准答案计算损失函数，对损失函数计算每个参数的偏导数（复合函数求导），使用梯度下降法更新每个参数；<br>\n",
    "\n",
    "循环进行正向传播和误差反向传播直到损失收敛。"
   ]
  },
  {
   "cell_type": "markdown",
   "metadata": {},
   "source": [
    "#### 5.  在什么情况下，会使用到早停法earyly stoping? 使用早停法可以防止什么情况发生？"
   ]
  },
  {
   "cell_type": "markdown",
   "metadata": {
    "collapsed": true
   },
   "source": [
    "当验证集的损失函数（误差）不再降低甚至逐渐增加时，需要在损失函数达到最低点时进行停止计算，保留住此时的模型参数。<br>\n",
    "早停法可以防止过拟合现象发生。"
   ]
  },
  {
   "cell_type": "markdown",
   "metadata": {},
   "source": [
    "#### 6.  训练多层神经网络时可以采用哪些方式防止过拟合？"
   ]
  },
  {
   "cell_type": "markdown",
   "metadata": {
    "collapsed": true
   },
   "source": [
    "early stoping、dropout、weight decay、增加正则化项、调整神经网络结构（降低隐层数量、降低每个隐层的神经元数量、修改激活函数）等"
   ]
  },
  {
   "cell_type": "markdown",
   "metadata": {},
   "source": [
    "#### 7.  进行深度学习任务时，使用激活函数是为了解决什么问题？ 常用的激活函数有哪些？"
   ]
  },
  {
   "cell_type": "markdown",
   "metadata": {
    "collapsed": true
   },
   "source": [
    "引入模型的非线性能力；如激活函数也使用线性模型，那么整个神经网络还是线性模型。<br>\n",
    "常用的激活函数：sigmoid、Relu、tanh、Leaky Relu、PRelu、Maxout等。"
   ]
  },
  {
   "cell_type": "markdown",
   "metadata": {},
   "source": [
    "#### 8 . 请简要说明CNN网络的框架结构"
   ]
  },
  {
   "cell_type": "markdown",
   "metadata": {
    "collapsed": true
   },
   "source": [
    "CNN网络的核心是卷积层和池化层，其他连接层与DNN相似。其中卷积层主要是卷积核、滑步（stride）和激活函数，池化层主要是maxpool。<br>\n",
    "典型框架结构：图像输入层--卷积层--池化层--卷积层--池化层--展平（flatten）--全连接层--全连接层--输出层。"
   ]
  },
  {
   "cell_type": "markdown",
   "metadata": {},
   "source": [
    "#### 9.请简述应当从哪些方向上思考和解决深度学习中出现的的over fitting问题？"
   ]
  },
  {
   "cell_type": "markdown",
   "metadata": {
    "collapsed": true
   },
   "source": [
    "可以从模型的训练过程中、损失函数的定义、网络结构的搭建等方向上寻找方案去解决over fitting问题。\n",
    "1. Early Stopping：从模型的训练过程中的角度思考，当验证集的损失函数（误差）不再降低甚至逐渐增加时，需要在损失函数达到最低点时进行停止计算，保留住此时的模型参数。\n",
    "2. Dropout: 从模型的训练过程中的角度思考，使神经网络中某一层的神经元具备一定的失效概率，一定程度上降低了模型复杂度和参数量，有助于抑制过拟合。\n",
    "3. Weight Decay：从模型的训练过程中的角度思考，使某些权重参数等于0或者权重参数在迭代过程中逐渐衰减（乘以系数0.99），减小噪声对模型训练的影响，有助于抑制过拟合。\n",
    "4. 增加正则化项（L1、L2）：从损失函数的定义角度思考，在损失函数中增加正则化项的作用是选择模型复杂度和损失函数同时较小的模型。\n",
    "5. 降低隐层数量、降低每个隐层的神经元数量、修改激活函数：从网络结构搭建的角度思考，降低神经网络模型的复杂度、使用较为简单的非线性激活函数有助于抑制过拟合。"
   ]
  },
  {
   "cell_type": "markdown",
   "metadata": {},
   "source": [
    "#### 10. 谈谈您对深度学习中的自适应学习率的了解"
   ]
  },
  {
   "cell_type": "markdown",
   "metadata": {},
   "source": [
    "学习率调大了导致不容易收敛，调小了会导致增加计算时间。<br>\n",
    "简单的自适应学习率方法：刚开始计算时学习率较大，随着迭代次数的增加逐渐减少学习率。<br>\n",
    "复杂的自适应学习率方法：根据不同的参数设置不同的学习率。<br>\n",
    "自适应学习率有一系列的方法，有SGD、Adagrad、Adadelta、Adam等。<br>\n",
    "1. SGD：学习率计算时分母项为迭代次数+1，即随着迭代次数的增加学习率逐渐减少。\n",
    "2. Adagrad：学习率计算时分母为该参数每一次微分值的平方和+非零项，即可以形象理解针对调整频率较高的参数进行学习率调小，针对调整频率较低的参数进行学习率增大。\n",
    "3. Adadelta：是Adagrad的扩展，学习率计算时分母为该参数最近几次每一次微分值的平方和，改进了迭代次数较大时学习率消失的不足。\n",
    "4. Adam：在考虑调整频率对学习率的影响基础上，还考虑了先前梯度衰减的均值，相当于一个动量项。<br>\n",
    "\n",
    "总结：自适应学习率就是当离模型最小值点较远时，选取较大的学习率；当离模型最小值点较近时，选取较小的学习率；可以平衡模型的学习效率且易到达极值点。而增加动量项则有助于跳出局部最优。"
   ]
  },
  {
   "cell_type": "markdown",
   "metadata": {},
   "source": [
    "## 二、实验题(共1题，共计40分)\n",
    "\n",
    "- note:40"
   ]
  },
  {
   "cell_type": "markdown",
   "metadata": {},
   "source": [
    "### 1. 请使用keras框架，构建CNN网络完成对MNIST数据集的训练，评估及预测"
   ]
  },
  {
   "cell_type": "markdown",
   "metadata": {},
   "source": [
    "一、 载入keras框架"
   ]
  },
  {
   "cell_type": "code",
   "execution_count": 26,
   "metadata": {
    "collapsed": true
   },
   "outputs": [],
   "source": [
    "from keras.models import Sequential\n",
    "from keras.layers.core import Dense, Dropout, Activation, Flatten\n",
    "from keras.layers.convolutional import Conv2D\n",
    "from keras.layers.pooling import MaxPooling2D\n",
    "from keras import backend as K\n",
    "from keras.utils import np_utils\n",
    "from keras.optimizers import SGD\n",
    "from keras.callbacks import EarlyStopping"
   ]
  },
  {
   "cell_type": "markdown",
   "metadata": {},
   "source": [
    "二、设置基本参数，搭建CNN网络并编译"
   ]
  },
  {
   "cell_type": "code",
   "execution_count": 28,
   "metadata": {
    "collapsed": true
   },
   "outputs": [],
   "source": [
    "nb_epoch = 15  # kept very low! Please increase if you have GPU\n",
    "batch_size = 64\n",
    "# number of convolutional filters to use\n",
    "nb_filters = 32\n",
    "# size of pooling area for max pooling\n",
    "nb_pool = 2\n",
    "# convolution kernel size\n",
    "nb_conv = 3\n",
    "# Vanilla SGD\n",
    "sgd = SGD(lr=0.1, decay=1e-6, momentum=0.9, nesterov=True)\n",
    "\n",
    "model = Sequential()\n",
    "\n",
    "model.add(Conv2D(nb_filters, (nb_conv, nb_conv), padding='valid', \n",
    "                 input_shape=shape_ord))  # note: the very first layer **must** always specify the input_shape\n",
    "model.add(Activation('relu'))\n",
    "\n",
    "model.add(Flatten())\n",
    "model.add(Dense(nb_classes))\n",
    "model.add(Activation('softmax'))\n",
    "\n",
    "model.compile(loss='categorical_crossentropy',\n",
    "              optimizer=sgd,\n",
    "              metrics=['accuracy'])"
   ]
  },
  {
   "cell_type": "markdown",
   "metadata": {},
   "source": [
    "三、 载入MNIST数据集"
   ]
  },
  {
   "cell_type": "code",
   "execution_count": 32,
   "metadata": {
    "collapsed": true
   },
   "outputs": [],
   "source": [
    "from keras.datasets import mnist\n",
    "(X_train, y_train), (X_test, y_test) = mnist.load_data()"
   ]
  },
  {
   "cell_type": "markdown",
   "metadata": {},
   "source": [
    "四、规范数据集和标签"
   ]
  },
  {
   "cell_type": "code",
   "execution_count": 33,
   "metadata": {
    "collapsed": true
   },
   "outputs": [],
   "source": [
    "img_rows, img_cols = 28, 28\n",
    "\n",
    "if K.image_data_format() == 'channels_first':\n",
    "    shape_ord = (1, img_rows, img_cols)\n",
    "else:  # channel_last\n",
    "    shape_ord = (img_rows, img_cols, 1)\n",
    "    X_train = X_train.reshape((X_train.shape[0],) + shape_ord)\n",
    "X_test = X_test.reshape((X_test.shape[0],) + shape_ord)\n",
    "\n",
    "X_train = X_train.astype('float32')\n",
    "X_test = X_test.astype('float32')\n",
    "\n",
    "X_train /= 255\n",
    "X_test /= 255\n",
    "\n",
    "nb_classes = 10\n",
    "Y_train = np_utils.to_categorical(y_train, nb_classes)\n",
    "Y_test = np_utils.to_categorical(y_test, nb_classes)"
   ]
  },
  {
   "cell_type": "markdown",
   "metadata": {},
   "source": [
    "五、设置早停机制防止过拟合，进行CNN模型训练、评估"
   ]
  },
  {
   "cell_type": "code",
   "execution_count": 36,
   "metadata": {},
   "outputs": [
    {
     "name": "stdout",
     "output_type": "stream",
     "text": [
      "Train on 60000 samples, validate on 10000 samples\n",
      "Epoch 1/15\n",
      "60000/60000 [==============================] - 28s - loss: 0.1722 - acc: 0.9488 - val_loss: 0.0880 - val_acc: 0.9727\n",
      "Epoch 2/15\n",
      "60000/60000 [==============================] - 23s - loss: 0.0750 - acc: 0.9763 - val_loss: 0.0791 - val_acc: 0.9739\n",
      "Epoch 3/15\n",
      "60000/60000 [==============================] - 20s - loss: 0.0528 - acc: 0.9835 - val_loss: 0.0690 - val_acc: 0.9799\n",
      "Epoch 4/15\n",
      "60000/60000 [==============================] - 18s - loss: 0.0388 - acc: 0.9881 - val_loss: 0.0735 - val_acc: 0.9792\n"
     ]
    }
   ],
   "source": [
    "callbacks = [EarlyStopping(monitor='val_loss', patience=0, verbose=0, mode='auto')]\n",
    "\n",
    "hist = model.fit(X_train, Y_train, batch_size=batch_size, \n",
    "                 epochs=nb_epoch, verbose=1, callbacks = callbacks,\n",
    "                 validation_data=(X_test, Y_test))"
   ]
  },
  {
   "cell_type": "code",
   "execution_count": 41,
   "metadata": {},
   "outputs": [
    {
     "name": "stdout",
     "output_type": "stream",
     "text": [
      "Train on 60000 samples, validate on 10000 samples\n",
      "Epoch 1/15\n",
      "60000/60000 [==============================] - 20s - loss: 3.7975e-04 - acc: 1.0000 - val_loss: 0.0984 - val_acc: 0.9826\n",
      "Epoch 2/15\n",
      "60000/60000 [==============================] - 20s - loss: 3.7215e-04 - acc: 1.0000 - val_loss: 0.0983 - val_acc: 0.9823\n"
     ]
    }
   ],
   "source": [
    "callbacks = [EarlyStopping(monitor='val_acc', patience=0, verbose=0, mode='auto')]\n",
    "\n",
    "hist = model.fit(X_train, Y_train, batch_size=batch_size, \n",
    "                 epochs=nb_epoch, verbose=1, callbacks = callbacks,\n",
    "                 validation_data=(X_test, Y_test))"
   ]
  },
  {
   "cell_type": "markdown",
   "metadata": {},
   "source": [
    "#### 对比结果：\n",
    "1. 选取val_loss作为早停评估指标，相比较而言虽然val_acc相对较低，但具备更好的泛化能力。\n",
    "2. 选取val_acc作为早停评估指标，相比较而言在val数据集上准确率更高，但val_loss较高，泛化能力相对较弱。"
   ]
  },
  {
   "cell_type": "markdown",
   "metadata": {},
   "source": [
    "六、CNN模型预测、可视化"
   ]
  },
  {
   "cell_type": "code",
   "execution_count": 46,
   "metadata": {},
   "outputs": [
    {
     "data": {
      "image/png": "[encoded data removed]",
      "text/plain": [
       "<matplotlib.figure.Figure at 0x7fc85daae240>"
      ]
     },
     "metadata": {},
     "output_type": "display_data"
    }
   ],
   "source": [
    "import matplotlib.pyplot as plt\n",
    "%matplotlib inline\n",
    "\n",
    "slice = 15\n",
    "predicted = model.predict(X_test[:slice]).argmax(-1)\n",
    "\n",
    "plt.figure(figsize=(16,8))\n",
    "for i in range(slice):\n",
    "    plt.subplot(1, slice, i+1)\n",
    "    plt.imshow(X_test[i].reshape(28,28),interpolation='nearest')\n",
    "    plt.text(0, 0, predicted[i], color='black', \n",
    "             bbox=dict(facecolor='white', alpha=1))\n",
    "    plt.axis('off')"
   ]
  },
  {
   "cell_type": "markdown",
   "metadata": {},
   "source": [
    "从预测结果看，错了一个样本（将标准答案5预测成6），其实该样本人眼来看也是非常难辨识的。"
   ]
  },
  {
   "cell_type": "markdown",
   "metadata": {},
   "source": [
    "### 本阶段课程意见反馈题(非必答，不送分)\n",
    "#### 请同学围绕以下两点进行回答：\n",
    "- 自身总结：请您对您自己在本周课程的学习，收获，技能掌握等方面进行一次总结 ，也包括有哪些方面存在哪些不足，欠缺，困惑。作为将来回顾学习路径时的依据。\n"
   ]
  },
  {
   "cell_type": "markdown",
   "metadata": {
    "collapsed": true
   },
   "source": [
    "掌握了深度学习基本知识，但对深度学习代码编写的练习不够，需要多练习。"
   ]
  },
  {
   "cell_type": "markdown",
   "metadata": {},
   "source": [
    "- 课程反馈：请就知识点，进度，难易度，教学方式，考试方式及难易度等方面向我们反馈，督促我们进行更有效的改进。"
   ]
  },
  {
   "cell_type": "markdown",
   "metadata": {
    "collapsed": true
   },
   "source": [
    "无"
   ]
  },
  {
   "cell_type": "markdown",
   "metadata": {},
   "source": [
    "<hr>\n",
    "<center><h1>####答卷结束####</h1></center>"
   ]
  }
 ],
 "metadata": {
  "kernelspec": {
   "display_name": "Python 3",
   "language": "python",
   "name": "python3"
  },
  "language_info": {
   "codemirror_mode": {
    "name": "ipython",
    "version": 3
   },
   "file_extension": ".py",
   "mimetype": "text/x-python",
   "name": "python",
   "nbconvert_exporter": "python",
   "pygments_lexer": "ipython3",
   "version": "3.5.2"
  }
 },
 "nbformat": 4,
 "nbformat_minor": 2
}
