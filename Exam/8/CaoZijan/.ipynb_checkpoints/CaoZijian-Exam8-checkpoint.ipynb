{
 "cells": [
  {
   "cell_type": "markdown",
   "metadata": {},
   "source": [
    "## 七月在线机器学习实训营三期第八周(深度学习)考试\n",
    "#### 考试说明:\n",
    "- 起止时间：请同学在2018年3月30日至4月1日期间完成，最晚提交时间本周日（4月1日24时之前）结束，<b>逾期不接受补考,该考试分数计入平时成绩</b>\n",
    "- 考试方式：请同学<font color=red><b>拷贝</b></font>该试卷至自己姓名的目录后，将文件更名为同学姓名拼音-exam8后，进行作答。例如wangwei-exam8\n",
    "- 提交格式：请同学新建自己姓名全拼的文件夹，将该试卷，数据文件，zip文件等相关考试文件，放置此目录下。将该目录<b>移动</b>至/0.Teacher/Exam/8/目录下\n",
    "- 注意事项：为确保同学们真正了解自身对本周课程的掌握程度，<font color=red><b>请勿翻阅，移动，更改</b></font>其它同学试卷。如发现按0分处理\n",
    "- 请同学在下方同学姓名处填写自己的姓名，批改人和最终得分不用填写"
   ]
  },
  {
   "cell_type": "markdown",
   "metadata": {},
   "source": [
    "- 同学姓名:<u>曹子谏</u>  \n",
    "- 批改人： David\n",
    "\n",
    "- 最终得分:85"
   ]
  },
  {
   "cell_type": "markdown",
   "metadata": {},
   "source": [
    "<center><h1>####答卷开始####</h1></center>\n",
    "<hr>"
   ]
  },
  {
   "cell_type": "markdown",
   "metadata": {},
   "source": [
    "## 一、简答题(共10题，1-8题每题5分，最后两题每题10分。共计60分)\n",
    "\n",
    "- note: 45"
   ]
  },
  {
   "cell_type": "markdown",
   "metadata": {},
   "source": [
    "#### 1.试写您对深度学习的理解，以及它与传统机器学习的关系，相同与不同之处。\n",
    "- note: 大哥你这也太精练了。。"
   ]
  },
  {
   "cell_type": "markdown",
   "metadata": {
    "collapsed": true
   },
   "source": [
    "深度学习是传统机器学习的一个分支，计算机通过层次概念来学习经验和理解世界。层次概念允许计算机通过简单概念来学习复杂概念。\n"
   ]
  },
  {
   "cell_type": "markdown",
   "metadata": {},
   "source": [
    "#### 2.简要介绍下您了解的keras框架? 以及进行一个任务的基本流程\n",
    "\n",
    "- note:  !!!!!!!!!!"
   ]
  },
  {
   "cell_type": "markdown",
   "metadata": {
    "collapsed": true
   },
   "source": [
    "简介：<br>\n",
    "使用上更接近我们对模型理解的一个框架。<br>\n",
    "移步https://keras.io/ 看更复杂的介绍<br>\n",
    "\n",
    "基本流程：<br>\n",
    "1. 建网络\n",
    "1. Add\n",
    "1. 。。。\n",
    "1. Add\n",
    "1. Compile\n",
    "1. Fit\n",
    "1. Predict"
   ]
  },
  {
   "cell_type": "markdown",
   "metadata": {},
   "source": [
    "#### 3.工业界在训练深度学习模型时，采用训练方式多为SGD（mini-batch），请简述这种方式较其它方式的优点？\n",
    "\n",
    "- note:优点呢？"
   ]
  },
  {
   "cell_type": "markdown",
   "metadata": {
    "collapsed": true
   },
   "source": [
    "就是每次丢部分数据进去训练\n",
    "\n",
    "主要思想就是每次只拿总训练集的一小部分来训练，比如一共有5000个样本，每次拿100个样本来计算loss，更新参数。50次后完成整个样本集的训练，为一轮（epoch）。\n",
    "\n"
   ]
  },
  {
   "cell_type": "markdown",
   "metadata": {},
   "source": [
    "#### 4.  请简述神经风格中的BP模型的信号正向传播与误差反向传播的过程？"
   ]
  },
  {
   "cell_type": "markdown",
   "metadata": {
    "collapsed": true
   },
   "source": []
  },
  {
   "cell_type": "markdown",
   "metadata": {},
   "source": [
    "#### 5.  在什么情况下，会使用到早停法earyly stoping? 使用早停法可以防止什么情况发生？"
   ]
  },
  {
   "cell_type": "markdown",
   "metadata": {
    "collapsed": true
   },
   "source": [
    "早停，可以防止过拟合\n",
    "\n",
    "在模型训练过程中，在训练数据集上，代价函数会一直降低，但是训练出来的模型在测试集上的结果是先升高，在过了一定的训练轮数后，结果会在最高值附近波动甚至减低，这是因为模型学习到了训练数据集的一些独有特性，而这些特性是测试集不具有的，也就是说，这些特性不具有普遍性。 \n",
    "一般来说，训练数据集划分为训练基、验证集、测试集，在训练过程中，每经过一个epoch，就在验证集上进行测试，当测试结果经过几轮不再提高时，就停止训练。 "
   ]
  },
  {
   "cell_type": "markdown",
   "metadata": {},
   "source": [
    "#### 6.  训练多层神经网络时可以采用哪些方式防止过拟合？"
   ]
  },
  {
   "cell_type": "markdown",
   "metadata": {
    "collapsed": true
   },
   "source": [
    "哎？难道和后面的那个题。。。。\n",
    "\n",
    "1. 正则化(L1，L2)\n",
    "1. Dropout\n",
    "1. 加数据\n",
    "1. Early Stopping\n"
   ]
  },
  {
   "cell_type": "markdown",
   "metadata": {},
   "source": [
    "#### 7.  进行深度学习任务时，使用激活函数是为了解决什么问题？ 常用的激活函数有哪些？"
   ]
  },
  {
   "cell_type": "markdown",
   "metadata": {
    "collapsed": true
   },
   "source": [
    "激活函数对数据非线性化，权重系数出来之后是线性函数，然后再线性变换，还是线性函数。激活一下非线性。\n",
    "激活函数众所周知有tanh,sigmoid,ReLU等。\n",
    "1. tanh　　 双切正切函数，取值范围[-1,1]\n",
    "1. sigmoid　采用S形函数，取值范围[0,1]\n",
    "1. ReLU    简单而粗暴，大于0的留下，否则一律为0。"
   ]
  },
  {
   "cell_type": "markdown",
   "metadata": {},
   "source": [
    "#### 8 . 请简要说明CNN网络的框架结构"
   ]
  },
  {
   "cell_type": "markdown",
   "metadata": {
    "collapsed": true
   },
   "source": [
    "INPUT -> [[CONV -> RELU] * N -> POOL?] * M -> [FC -> RELU] * K ->FC\n",
    "大概两块：\n",
    "1. 卷积+池化：这部分主要产出特征\n",
    "1. 全链接：这部分做特征选择和最后的输出"
   ]
  },
  {
   "cell_type": "markdown",
   "metadata": {},
   "source": [
    "#### 9.请简述应当从哪些方向上思考和解决深度学习中出现的的over fitting问题？"
   ]
  },
  {
   "cell_type": "markdown",
   "metadata": {
    "collapsed": true
   },
   "source": [
    "* 加数据\n",
    "* 数据集增强。这个对分类问题有效。\n",
    "* 正则化\n",
    "* Early stopping\n",
    "* Bagging\n",
    "* Dropout\n"
   ]
  },
  {
   "cell_type": "markdown",
   "metadata": {},
   "source": [
    "#### 10. 谈谈您对深度学习中的自适应学习率的了解"
   ]
  },
  {
   "cell_type": "markdown",
   "metadata": {
    "collapsed": true
   },
   "source": [
    "NN中学习率是个比较难设置的超参数，对模型有显著的影响。<br>\n",
    "就是learning rate本来是个参数，但是在这个算法里面，他是个函数。可以自动调整。<br>\n",
    "1. Delta-bar-delta<br>\n",
    "看导数符号，变号减小\n",
    "1. AdaGrad\n",
    "1. RMSProp\n",
    "1. Adam\n"
   ]
  },
  {
   "cell_type": "markdown",
   "metadata": {},
   "source": [
    "## 二、实验题(共1题，共计40分)\n",
    "\n",
    "- note: 40"
   ]
  },
  {
   "cell_type": "markdown",
   "metadata": {},
   "source": [
    "### 1. 请使用keras框架，构建CNN网络完成对MNIST数据集的训练，评估及预测"
   ]
  },
  {
   "cell_type": "code",
   "execution_count": 1,
   "metadata": {
    "scrolled": true
   },
   "outputs": [
    {
     "name": "stderr",
     "output_type": "stream",
     "text": [
      "D:\\Anaconda3\\lib\\site-packages\\h5py\\__init__.py:34: FutureWarning: Conversion of the second argument of issubdtype from `float` to `np.floating` is deprecated. In future, it will be treated as `np.float64 == np.dtype(float).type`.\n",
      "  from ._conv import register_converters as _register_converters\n",
      "Using TensorFlow backend.\n"
     ]
    }
   ],
   "source": [
    "import keras\n",
    "from keras.datasets import mnist\n",
    "from keras.models import Sequential\n",
    "from keras.layers import Dense, Dropout, Flatten\n",
    "from keras.layers import Conv2D, MaxPooling2D\n",
    "from keras import backend as K"
   ]
  },
  {
   "cell_type": "code",
   "execution_count": 2,
   "metadata": {
    "scrolled": true
   },
   "outputs": [
    {
     "name": "stdout",
     "output_type": "stream",
     "text": [
      "<class 'pandas.core.frame.DataFrame'>\n",
      "RangeIndex: 42000 entries, 0 to 41999\n",
      "Columns: 785 entries, label to pixel783\n",
      "dtypes: int64(785)\n",
      "memory usage: 251.5 MB\n"
     ]
    }
   ],
   "source": [
    "import pandas as pd\n",
    "from sklearn.model_selection import train_test_split\n",
    "raw_data_df = pd.read_csv(\"train.csv\")\n",
    "raw_data_df.info()"
   ]
  },
  {
   "cell_type": "code",
   "execution_count": 3,
   "metadata": {},
   "outputs": [
    {
     "data": {
      "text/html": [
       "<div>\n",
       "<style>\n",
       "    .dataframe thead tr:only-child th {\n",
       "        text-align: right;\n",
       "    }\n",
       "\n",
       "    .dataframe thead th {\n",
       "        text-align: left;\n",
       "    }\n",
       "\n",
       "    .dataframe tbody tr th {\n",
       "        vertical-align: top;\n",
       "    }\n",
       "</style>\n",
       "<table border=\"1\" class=\"dataframe\">\n",
       "  <thead>\n",
       "    <tr style=\"text-align: right;\">\n",
       "      <th></th>\n",
       "      <th>label</th>\n",
       "      <th>pixel0</th>\n",
       "      <th>pixel1</th>\n",
       "      <th>pixel2</th>\n",
       "      <th>pixel3</th>\n",
       "      <th>pixel4</th>\n",
       "      <th>pixel5</th>\n",
       "      <th>pixel6</th>\n",
       "      <th>pixel7</th>\n",
       "      <th>pixel8</th>\n",
       "      <th>...</th>\n",
       "      <th>pixel774</th>\n",
       "      <th>pixel775</th>\n",
       "      <th>pixel776</th>\n",
       "      <th>pixel777</th>\n",
       "      <th>pixel778</th>\n",
       "      <th>pixel779</th>\n",
       "      <th>pixel780</th>\n",
       "      <th>pixel781</th>\n",
       "      <th>pixel782</th>\n",
       "      <th>pixel783</th>\n",
       "    </tr>\n",
       "  </thead>\n",
       "  <tbody>\n",
       "    <tr>\n",
       "      <th>0</th>\n",
       "      <td>1</td>\n",
       "      <td>0</td>\n",
       "      <td>0</td>\n",
       "      <td>0</td>\n",
       "      <td>0</td>\n",
       "      <td>0</td>\n",
       "      <td>0</td>\n",
       "      <td>0</td>\n",
       "      <td>0</td>\n",
       "      <td>0</td>\n",
       "      <td>...</td>\n",
       "      <td>0</td>\n",
       "      <td>0</td>\n",
       "      <td>0</td>\n",
       "      <td>0</td>\n",
       "      <td>0</td>\n",
       "      <td>0</td>\n",
       "      <td>0</td>\n",
       "      <td>0</td>\n",
       "      <td>0</td>\n",
       "      <td>0</td>\n",
       "    </tr>\n",
       "    <tr>\n",
       "      <th>1</th>\n",
       "      <td>0</td>\n",
       "      <td>0</td>\n",
       "      <td>0</td>\n",
       "      <td>0</td>\n",
       "      <td>0</td>\n",
       "      <td>0</td>\n",
       "      <td>0</td>\n",
       "      <td>0</td>\n",
       "      <td>0</td>\n",
       "      <td>0</td>\n",
       "      <td>...</td>\n",
       "      <td>0</td>\n",
       "      <td>0</td>\n",
       "      <td>0</td>\n",
       "      <td>0</td>\n",
       "      <td>0</td>\n",
       "      <td>0</td>\n",
       "      <td>0</td>\n",
       "      <td>0</td>\n",
       "      <td>0</td>\n",
       "      <td>0</td>\n",
       "    </tr>\n",
       "    <tr>\n",
       "      <th>2</th>\n",
       "      <td>1</td>\n",
       "      <td>0</td>\n",
       "      <td>0</td>\n",
       "      <td>0</td>\n",
       "      <td>0</td>\n",
       "      <td>0</td>\n",
       "      <td>0</td>\n",
       "      <td>0</td>\n",
       "      <td>0</td>\n",
       "      <td>0</td>\n",
       "      <td>...</td>\n",
       "      <td>0</td>\n",
       "      <td>0</td>\n",
       "      <td>0</td>\n",
       "      <td>0</td>\n",
       "      <td>0</td>\n",
       "      <td>0</td>\n",
       "      <td>0</td>\n",
       "      <td>0</td>\n",
       "      <td>0</td>\n",
       "      <td>0</td>\n",
       "    </tr>\n",
       "    <tr>\n",
       "      <th>3</th>\n",
       "      <td>4</td>\n",
       "      <td>0</td>\n",
       "      <td>0</td>\n",
       "      <td>0</td>\n",
       "      <td>0</td>\n",
       "      <td>0</td>\n",
       "      <td>0</td>\n",
       "      <td>0</td>\n",
       "      <td>0</td>\n",
       "      <td>0</td>\n",
       "      <td>...</td>\n",
       "      <td>0</td>\n",
       "      <td>0</td>\n",
       "      <td>0</td>\n",
       "      <td>0</td>\n",
       "      <td>0</td>\n",
       "      <td>0</td>\n",
       "      <td>0</td>\n",
       "      <td>0</td>\n",
       "      <td>0</td>\n",
       "      <td>0</td>\n",
       "    </tr>\n",
       "    <tr>\n",
       "      <th>4</th>\n",
       "      <td>0</td>\n",
       "      <td>0</td>\n",
       "      <td>0</td>\n",
       "      <td>0</td>\n",
       "      <td>0</td>\n",
       "      <td>0</td>\n",
       "      <td>0</td>\n",
       "      <td>0</td>\n",
       "      <td>0</td>\n",
       "      <td>0</td>\n",
       "      <td>...</td>\n",
       "      <td>0</td>\n",
       "      <td>0</td>\n",
       "      <td>0</td>\n",
       "      <td>0</td>\n",
       "      <td>0</td>\n",
       "      <td>0</td>\n",
       "      <td>0</td>\n",
       "      <td>0</td>\n",
       "      <td>0</td>\n",
       "      <td>0</td>\n",
       "    </tr>\n",
       "  </tbody>\n",
       "</table>\n",
       "<p>5 rows × 785 columns</p>\n",
       "</div>"
      ],
      "text/plain": [
       "   label  pixel0  pixel1  pixel2  pixel3  pixel4  pixel5  pixel6  pixel7  \\\n",
       "0      1       0       0       0       0       0       0       0       0   \n",
       "1      0       0       0       0       0       0       0       0       0   \n",
       "2      1       0       0       0       0       0       0       0       0   \n",
       "3      4       0       0       0       0       0       0       0       0   \n",
       "4      0       0       0       0       0       0       0       0       0   \n",
       "\n",
       "   pixel8    ...     pixel774  pixel775  pixel776  pixel777  pixel778  \\\n",
       "0       0    ...            0         0         0         0         0   \n",
       "1       0    ...            0         0         0         0         0   \n",
       "2       0    ...            0         0         0         0         0   \n",
       "3       0    ...            0         0         0         0         0   \n",
       "4       0    ...            0         0         0         0         0   \n",
       "\n",
       "   pixel779  pixel780  pixel781  pixel782  pixel783  \n",
       "0         0         0         0         0         0  \n",
       "1         0         0         0         0         0  \n",
       "2         0         0         0         0         0  \n",
       "3         0         0         0         0         0  \n",
       "4         0         0         0         0         0  \n",
       "\n",
       "[5 rows x 785 columns]"
      ]
     },
     "execution_count": 3,
     "metadata": {},
     "output_type": "execute_result"
    }
   ],
   "source": [
    "raw_data_df.head()"
   ]
  },
  {
   "cell_type": "code",
   "execution_count": 4,
   "metadata": {
    "collapsed": true
   },
   "outputs": [],
   "source": [
    "X = raw_data_df.values[:,1:]\n",
    "y = raw_data_df.values[:,0]"
   ]
  },
  {
   "cell_type": "code",
   "execution_count": 5,
   "metadata": {},
   "outputs": [
    {
     "name": "stdout",
     "output_type": "stream",
     "text": [
      "29400 12600\n",
      "x_train shape: (29400, 28, 28, 1)\n",
      "29400 train samples\n",
      "12600 test samples\n"
     ]
    }
   ],
   "source": [
    "# batch_size 太小会导致训练慢，过拟合等问题，太大会导致欠拟合。所以要适当选择\n",
    "batch_size = 128\n",
    "# 0-9手写数字一个有10个类别\n",
    "num_classes = 10\n",
    "# 12次完整迭代，差不多够了\n",
    "epochs = 20\n",
    "# 输入的图片是28*28像素的灰度图\n",
    "img_rows, img_cols = 28, 28\n",
    "# 训练集，测试集收集非常方便\n",
    "\n",
    "\n",
    "# (x_train, y_train), (x_test, y_test) = mnist.load_data()\n",
    "x_train, x_test,y_train, y_test = train_test_split(X,y,test_size = 0.3,random_state=0)\n",
    "print(x_train.shape[0],x_test.shape[0])\n",
    "# keras输入数据有两种格式，一种是通道数放在前面，一种是通道数放在后面，\n",
    "# 其实就是格式差别而已\n",
    "if K.image_data_format() == 'channels_first':\n",
    "    x_train = x_train.reshape(x_train.shape[0], 1, img_rows, img_cols)\n",
    "    x_test = x_test.reshape(x_test.shape[0], 1, img_rows, img_cols)\n",
    "    input_shape = (1, img_rows, img_cols)\n",
    "else:\n",
    "    x_train = x_train.reshape(x_train.shape[0], img_rows, img_cols,1)\n",
    "    x_test = x_test.reshape(x_test.shape[0], img_rows, img_cols,1)\n",
    "    input_shape = (img_rows, img_cols,1)\n",
    "# 把数据变成float32更精确\n",
    "x_train = x_train.astype('float32')\n",
    "x_test = x_test.astype('float32')\n",
    "x_train -= 127\n",
    "x_test -= 127\n",
    "x_train /= 127\n",
    "x_test /= 127\n",
    "print('x_train shape:', x_train.shape)\n",
    "print(x_train.shape[0], 'train samples')\n",
    "print(x_test.shape[0], 'test samples')\n",
    "# 把类别0-9变成2进制，方便训练\n",
    "y_train = keras.utils.np_utils.to_categorical(y_train, num_classes)\n",
    "y_test = keras.utils.np_utils.to_categorical(y_test, num_classes)"
   ]
  },
  {
   "cell_type": "code",
   "execution_count": 6,
   "metadata": {},
   "outputs": [
    {
     "data": {
      "text/plain": [
       "(28, 28, 1)"
      ]
     },
     "execution_count": 6,
     "metadata": {},
     "output_type": "execute_result"
    }
   ],
   "source": [
    "input_shape"
   ]
  },
  {
   "cell_type": "code",
   "execution_count": 7,
   "metadata": {},
   "outputs": [
    {
     "name": "stderr",
     "output_type": "stream",
     "text": [
      "D:\\Anaconda3\\lib\\site-packages\\ipykernel_launcher.py:9: UserWarning: Update your `Conv2D` call to the Keras 2 API: `Conv2D(32, (3, 3), activation=\"relu\", input_shape=(28, 28, 1...)`\n",
      "  if __name__ == '__main__':\n",
      "D:\\Anaconda3\\lib\\site-packages\\ipykernel_launcher.py:13: UserWarning: Update your `Conv2D` call to the Keras 2 API: `Conv2D(64, (3, 3), activation=\"relu\")`\n",
      "  del sys.path[0]\n"
     ]
    },
    {
     "name": "stdout",
     "output_type": "stream",
     "text": [
      "Train on 29400 samples, validate on 12600 samples\n",
      "Epoch 1/20\n",
      "29400/29400 [==============================] - 121s 4ms/step - loss: 0.3663 - acc: 0.8840 - val_loss: 0.1047 - val_acc: 0.9662\n",
      "Epoch 2/20\n",
      "29400/29400 [==============================] - 124s 4ms/step - loss: 0.1166 - acc: 0.9646 - val_loss: 0.0616 - val_acc: 0.9806\n",
      "Epoch 3/20\n",
      "29400/29400 [==============================] - 120s 4ms/step - loss: 0.0848 - acc: 0.9745 - val_loss: 0.0501 - val_acc: 0.9840\n",
      "Epoch 4/20\n",
      "29400/29400 [==============================] - 121s 4ms/step - loss: 0.0663 - acc: 0.9801 - val_loss: 0.0493 - val_acc: 0.9848\n",
      "Epoch 5/20\n",
      "29400/29400 [==============================] - 120s 4ms/step - loss: 0.0572 - acc: 0.9820 - val_loss: 0.0461 - val_acc: 0.9863\n",
      "Epoch 6/20\n",
      "29400/29400 [==============================] - 120s 4ms/step - loss: 0.0522 - acc: 0.9843 - val_loss: 0.0411 - val_acc: 0.9869\n",
      "Epoch 7/20\n",
      "29400/29400 [==============================] - 122s 4ms/step - loss: 0.0441 - acc: 0.9864 - val_loss: 0.0440 - val_acc: 0.9864\n",
      "Epoch 8/20\n",
      "29400/29400 [==============================] - 120s 4ms/step - loss: 0.0416 - acc: 0.9876 - val_loss: 0.0430 - val_acc: 0.9871\n",
      "Epoch 9/20\n",
      "29400/29400 [==============================] - 125s 4ms/step - loss: 0.0377 - acc: 0.9882 - val_loss: 0.0402 - val_acc: 0.9879\n",
      "Epoch 10/20\n",
      "29400/29400 [==============================] - 120s 4ms/step - loss: 0.0330 - acc: 0.9897 - val_loss: 0.0409 - val_acc: 0.9891\n",
      "Epoch 11/20\n",
      "29400/29400 [==============================] - 119s 4ms/step - loss: 0.0304 - acc: 0.9898 - val_loss: 0.0369 - val_acc: 0.9891\n",
      "Epoch 12/20\n",
      "29400/29400 [==============================] - 124s 4ms/step - loss: 0.0287 - acc: 0.9906 - val_loss: 0.0371 - val_acc: 0.9890\n",
      "Epoch 13/20\n",
      "29400/29400 [==============================] - 115s 4ms/step - loss: 0.0279 - acc: 0.9912 - val_loss: 0.0366 - val_acc: 0.9896\n",
      "Epoch 14/20\n",
      "29400/29400 [==============================] - 125s 4ms/step - loss: 0.0239 - acc: 0.9920 - val_loss: 0.0423 - val_acc: 0.9883\n",
      "Epoch 15/20\n",
      "29400/29400 [==============================] - 127s 4ms/step - loss: 0.0233 - acc: 0.9924 - val_loss: 0.0397 - val_acc: 0.9891\n",
      "Epoch 16/20\n",
      "29400/29400 [==============================] - 128s 4ms/step - loss: 0.0232 - acc: 0.9927 - val_loss: 0.0420 - val_acc: 0.9892\n",
      "Epoch 17/20\n",
      "29400/29400 [==============================] - 128s 4ms/step - loss: 0.0223 - acc: 0.9927 - val_loss: 0.0412 - val_acc: 0.9888\n",
      "Epoch 18/20\n",
      "29400/29400 [==============================] - 131s 4ms/step - loss: 0.0214 - acc: 0.9927 - val_loss: 0.0447 - val_acc: 0.9898\n",
      "Epoch 19/20\n",
      "29400/29400 [==============================] - 128s 4ms/step - loss: 0.0180 - acc: 0.9944 - val_loss: 0.0411 - val_acc: 0.9896\n",
      "Epoch 20/20\n",
      "29400/29400 [==============================] - 142s 5ms/step - loss: 0.0190 - acc: 0.9931 - val_loss: 0.0391 - val_acc: 0.9898\n"
     ]
    },
    {
     "data": {
      "text/plain": [
       "<keras.callbacks.History at 0x25b080d3438>"
      ]
     },
     "execution_count": 7,
     "metadata": {},
     "output_type": "execute_result"
    }
   ],
   "source": [
    "# 牛逼的Sequential类可以让我们灵活地插入不同的神经网络层\n",
    "model = Sequential()\n",
    "# 加上一个2D卷积层， 32个输出（也就是卷积通道），激活函数选用relu，\n",
    "# 卷积核的窗口选用3*3像素窗口\n",
    "model.add(Conv2D(32,\n",
    "                 activation='relu',\n",
    "                 input_shape=input_shape,\n",
    "                 nb_row=3,\n",
    "                 nb_col=3))\n",
    "# 64个通道的卷积层\n",
    "model.add(Conv2D(64, activation='relu',\n",
    "                 nb_row=3,\n",
    "                 nb_col=3))\n",
    "# 池化层是2*2像素的\n",
    "model.add(MaxPooling2D(pool_size=(2, 2)))\n",
    "# 对于池化层的输出，采用0.35概率的Dropout\n",
    "model.add(Dropout(0.35))\n",
    "# 展平所有像素，比如[28*28] -> [784]\n",
    "model.add(Flatten())\n",
    "# 对所有像素使用全连接层，输出为128，激活函数选用relu\n",
    "model.add(Dense(128, activation='relu'))\n",
    "# 对输入采用0.5概率的Dropout\n",
    "model.add(Dropout(0.5))\n",
    "# 对刚才Dropout的输出采用softmax激活函数，得到最后结果0-9\n",
    "model.add(Dense(num_classes, activation='softmax'))\n",
    "# 模型我们使用交叉熵损失函数，最优化方法选用Adadelta\n",
    "model.compile(loss=keras.metrics.categorical_crossentropy,\n",
    "              optimizer=keras.optimizers.Adadelta(),\n",
    "              metrics=['accuracy'])\n",
    "# 令人兴奋的训练过程\n",
    "model.fit(x_train, y_train, batch_size=batch_size, epochs=epochs,\n",
    "          verbose=1, validation_data=(x_test, y_test))"
   ]
  },
  {
   "cell_type": "code",
   "execution_count": 8,
   "metadata": {
    "collapsed": true
   },
   "outputs": [],
   "source": [
    "model.save(filepath=\"test_2.model\")"
   ]
  },
  {
   "cell_type": "code",
   "execution_count": 9,
   "metadata": {
    "collapsed": true
   },
   "outputs": [],
   "source": [
    "import pandas as pd"
   ]
  },
  {
   "cell_type": "code",
   "execution_count": 12,
   "metadata": {
    "collapsed": true
   },
   "outputs": [],
   "source": [
    "test_df = pd.read_csv(\"test_minst.csv\")\n",
    "test_data = test_df.values.reshape(test_df.shape[0], img_rows, img_cols, 1)\n",
    "test_data = test_data.astype('float32')\n",
    "test_data -= 127\n",
    "test_data /= 127\n",
    "preds = model.predict(test_data)"
   ]
  },
  {
   "cell_type": "code",
   "execution_count": 11,
   "metadata": {
    "collapsed": true
   },
   "outputs": [],
   "source": [
    "result_df = pd.DataFrame([range(1,preds.shape[0]+1),preds.dot([0 ,1 ,2 ,3 ,4 ,5 ,6 ,7 ,8,9]).astype(int)]).T\n",
    "result_df.columns = [\"ImageId\",\"Label\"]\n",
    "result_df.to_csv(\"sub_1.csv\",index=None)"
   ]
  },
  {
   "cell_type": "markdown",
   "metadata": {},
   "source": [
    "### 本阶段课程意见反馈题(非必答，不送分)\n",
    "#### 请同学围绕以下两点进行回答：\n",
    "- 自身总结：请您对您自己在本周课程的学习，收获，技能掌握等方面进行一次总结 ，也包括有哪些方面存在哪些不足，欠缺，困惑。作为将来回顾学习路径时的依据。\n"
   ]
  },
  {
   "cell_type": "code",
   "execution_count": null,
   "metadata": {
    "collapsed": true
   },
   "outputs": [],
   "source": []
  },
  {
   "cell_type": "code",
   "execution_count": null,
   "metadata": {
    "collapsed": true
   },
   "outputs": [],
   "source": []
  },
  {
   "cell_type": "markdown",
   "metadata": {},
   "source": [
    "- 课程反馈：请就知识点，进度，难易度，教学方式，考试方式及难易度等方面向我们反馈，督促我们进行更有效的改进。"
   ]
  },
  {
   "cell_type": "markdown",
   "metadata": {
    "collapsed": true
   },
   "source": []
  },
  {
   "cell_type": "markdown",
   "metadata": {},
   "source": [
    "<hr>\n",
    "<center><h1>####答卷结束####</h1></center>"
   ]
  }
 ],
 "metadata": {
  "kernelspec": {
   "display_name": "Python 3",
   "language": "python",
   "name": "python3"
  },
  "language_info": {
   "codemirror_mode": {
    "name": "ipython",
    "version": 3
   },
   "file_extension": ".py",
   "mimetype": "text/x-python",
   "name": "python",
   "nbconvert_exporter": "python",
   "pygments_lexer": "ipython3",
   "version": "3.5.2"
  }
 },
 "nbformat": 4,
 "nbformat_minor": 2
}
