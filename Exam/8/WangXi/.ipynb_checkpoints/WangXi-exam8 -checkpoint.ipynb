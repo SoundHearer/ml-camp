{
 "cells": [
  {
   "cell_type": "markdown",
   "metadata": {},
   "source": [
    "## 七月在线机器学习实训营三期第八周(深度学习)考试\n",
    "#### 考试说明:\n",
    "- 起止时间：请同学在2018年3月30日至4月1日期间完成，最晚提交时间本周日（4月1日24时之前）结束，<b>逾期不接受补考,该考试分数计入平时成绩</b>\n",
    "- 考试方式：请同学<font color=red><b>拷贝</b></font>该试卷至自己姓名的目录后，将文件更名为同学姓名拼音-exam8后，进行作答。例如wangwei-exam8\n",
    "- 提交格式：请同学新建自己姓名全拼的文件夹，将该试卷，数据文件，zip文件等相关考试文件，放置此目录下。将该目录<b>移动</b>至/0.Teacher/Exam/8/目录下\n",
    "- 注意事项：为确保同学们真正了解自身对本周课程的掌握程度，<font color=red><b>请勿翻阅，移动，更改</b></font>其它同学试卷。如发现按0分处理\n",
    "- 请同学在下方同学姓名处填写自己的姓名，批改人和最终得分不用填写"
   ]
  },
  {
   "cell_type": "markdown",
   "metadata": {},
   "source": [
    "- 同学姓名:王玺\n",
    "- 批改人： David\n",
    "- 最终得分:100"
   ]
  },
  {
   "cell_type": "markdown",
   "metadata": {},
   "source": [
    "<center><h1>####答卷开始####</h1></center>\n",
    "<hr>"
   ]
  },
  {
   "cell_type": "markdown",
   "metadata": {},
   "source": [
    "## 一、简答题(共10题，1-8题每题5分，最后两题每题10分。共计60分)\n",
    "\n",
    "- note:60"
   ]
  },
  {
   "cell_type": "markdown",
   "metadata": {},
   "source": [
    "#### 1.试写您对深度学习的理解，以及它与传统机器学习的关系，相同与不同之处。"
   ]
  },
  {
   "cell_type": "markdown",
   "metadata": {
    "collapsed": true
   },
   "source": [
    "理解与关系：\n",
    "\n",
    "1.机器学习就是使用线性回归,决策树,支持向量机，贝叶斯网络等算法分析数据，从中学习并做出推断或预测。它使用大量数据和算法来训练模型，从而使程序学习出数据内部的模式和结构来。比较官方的定义是：计算机程序可以在给定某种类别的任务 T 和性能度量 P 下学习经验 E ，如果其在任务 T 中的性能恰好可以用 P 度量，则随着经验 E 而提高。 \n",
    "          \n",
    "2.深度学习其实也是一种机器学习,它源于人工神经网络的研究。含多隐层的多层感知器就是一种深度学习结构。深度学习通过组合低层特征形成更加抽象的高层表示属性类别或特征，以发现数据的分布式特征表示。 深度学习是机器学习中一种基于对数据进行表征学习的方法。观测值可以使用多种方式来表示，如每个像素强度值的向量，或者更抽象地表示成一系列边、特定形状的区域等。\n",
    "\n",
    "区别：\n",
    "\n",
    "1数据依赖性          \n",
    "深度学习与传统的机器学习最主要的区别在于随着数据规模的增加其性能也不断增长。当数据很少时，深度学习算法的性能并不好。这是因为深度学习算法需要大量的数据来完美地理解它。另一方面，在这种情况下，传统的机器学习算法使用制定的规则，性能会比较好。\n",
    "\n",
    "2.硬件依赖     \n",
    "深度学习算法需要进行大量的矩阵运算，GPU 主要用来高效优化矩阵运算，所以 GPU 是深度学习正常工作的必须硬件。与传统机器学习算法相比，深度学习更依赖安装 GPU 的高端机器。     \n",
    "\n",
    "3.特征处理     \n",
    "在机器学习中，大多数应用的特征都需要专家确定然后编码为一种数据类型。大多数机器学习算法的性能依赖于所提取的特征的准确度。深度学习尝试从数据中直接获取高等级的特征。基于此，深度学习削减了对每一个问题设计特征提取器的工作。\n",
    "\n",
    "4.问题解决方式\n",
    "\n",
    "当应用传统机器学习算法解决问题的时候，传统机器学习通常会将问题分解为多个子问题并逐个子问题解决最后结合所有子问题的结果获得最终结果。相反，深度学习提倡直接的端到端的解决问题。\n",
    "\n",
    "5.执行时间   \n",
    "\n",
    "通常情况下，训练一个深度学习算法需要很长的时间。这是因为深度学习算法中参数很多，因此训练算法需要消耗更长的时间。最先进的深度学习算法 ResNet完整地训练一次需要消耗两周的时间，而机器学习的训练会消耗的时间相对较少，只需要几秒钟到几小时的时间。\n",
    "\n",
    "6.可解释性     \n",
    "假设用深度学习去自动为文章评分。深度学习可以达到接近人的标准，这是相当惊人的性能表现。但是他却不能展示出为什么它会给出这个分数。虽然在数学的角度可以找出来哪一个深度神经网络节点被激活了。但是我们不知道神经元应该是什么模型，我们也不知道这些神经单元层要共同做什么。所以无法解释结果是如何产生的。相反，像决策树，逻辑回归这样机器学习算法给出了明确的规则，所以解释决策背后的推理是很容易的。因此这样的算法可解释性会很强。"
   ]
  },
  {
   "cell_type": "markdown",
   "metadata": {},
   "source": [
    "#### 2.简要介绍下您了解的keras框架? 以及进行一个任务的基本流程"
   ]
  },
  {
   "cell_type": "markdown",
   "metadata": {
    "collapsed": true
   },
   "source": [
    "Keras是基于Theano的一个深度学习框架，它的设计参考了Torch，用Python语言编写，是一个高度模块化的神经网络库，支持GPU和CPU。          \n",
    "基本流程：        \n",
    "1.构造数据               \n",
    "data=np.random.random((1000,784))             \n",
    "labels=np.random.randint(2,size=(1000,1))              \n",
    "\n",
    "2.构造模型              \n",
    "model = Sequential([ Dense(32, input_dim=784), Activation('relu'), Dense(10), Activation('softmax'), ])\n",
    "\n",
    "3.编译模型\n",
    "model.compile(optimizer='rmsprop', loss='categorical_crossentropy', metrics=['accuracy'])\n",
    "\n",
    "4.训练模型\n",
    "fit(self, x, y, batch_size=32, nb_epoch=10, verbose=1, callbacks=[], validation_split=0.0, validation_data=None, shuffle=True, class_weight=None, sample_weight=None)\n",
    "\n",
    "5.测试数据\n",
    "evaluate(self, x, y, batch_size=32, verbose=1, sample_weight=None)                 \n",
    "此外Keras还可以保存与读取模型和它的权重数据"
   ]
  },
  {
   "cell_type": "markdown",
   "metadata": {},
   "source": [
    "#### 3.工业界在训练深度学习模型时，采用训练方式多为SGD（mini-batch），请简述这种方式较其它方式的优点？"
   ]
  },
  {
   "cell_type": "markdown",
   "metadata": {
    "collapsed": true
   },
   "source": [
    "SGD（stochastic gradient descent）随机梯度下降，对于训练数据集，我们首先将其分成n个batch，每个batch包含m个样本。我们每次更新都利用一个batch的数据，而非整个训练集。\n",
    "   \n",
    "优点：     \n",
    "\n",
    "首先从计算量上来说，BGD一个很大的问题是每次迭代计算梯度的时候，都需要扫描整个数据集，因此当数据量很大的时候，就不可避免的导致计算量大效率低下。而SGD在每一次迭代计算梯度时只需要取一个样本点，因此具有计算上的优势。\n",
    " \n",
    "其次，由于SGD每次计算出的梯度与真实的负梯度方向差别较大，因此不是很稳定，但却可以跳出局部最优解，从而寻找到真正的全局最优解。这一点在深度学习中尤其重要，因为深度学习中的目标函数往往是非凸的。"
   ]
  },
  {
   "cell_type": "markdown",
   "metadata": {},
   "source": [
    "#### 4.  请简述神经风格中的BP模型的信号正向传播与误差反向传播的过程？"
   ]
  },
  {
   "cell_type": "markdown",
   "metadata": {
    "collapsed": true
   },
   "source": [
    "1）信号正向传播：输入样本－>输入层－>各隐层（处理）－>输出层     \n",
    "若输出层实际输出与期望输出不符，则转入误差反向传播过程。\n",
    "\n",
    "2）误差反向传播：输出误差（某种形式）－>隐层（逐层）－>输入层    \n",
    "其主要目的是通过将输出误差反传，将误差分摊给各层所有单元，从而获得各层单元的误差信号，进而修正各单元的权值。"
   ]
  },
  {
   "cell_type": "markdown",
   "metadata": {},
   "source": [
    "#### 5.  在什么情况下，会使用到早停法earyly stoping? 使用早停法可以防止什么情况发生？"
   ]
  },
  {
   "cell_type": "markdown",
   "metadata": {
    "collapsed": true
   },
   "source": [
    "比如在用梯度下降这种迭代的方法来优化损失函数时，提早截断迭代过程，从而避免模型与训练集数据过度拟合。"
   ]
  },
  {
   "cell_type": "markdown",
   "metadata": {},
   "source": [
    "#### 6.  训练多层神经网络时可以采用哪些方式防止过拟合？"
   ]
  },
  {
   "cell_type": "markdown",
   "metadata": {
    "collapsed": true
   },
   "source": [
    "1.early stop：在迭代过程中查看在验证集上的表现，在表现变差前截断迭代。 \n",
    "\n",
    "2.扩大训练集\n",
    "\n",
    "3.加入正则约束：L1和L2\n",
    "\n",
    "4.drop out(随机丢弃)：训练时随机删除一些神经元 。\n",
    "\n",
    "5.辅助分类节点(auxiliary classifiers)：将中间某一层的输出用作分类,并按一个较小的权重加到最终的分类结果中,这样相当于做了模型的融合,同时给网络增加了反向传播的梯度信号,提供了额外的正则化的思想.\n",
    "\n",
    "6.Batch Normalization：在训练某层时,会对每一个mini-batch数据进行标准化(normalization)处理,使输出规范到N(0,1)的正太分布,减少了Internal convariate shift(内部神经元分布的改变),传统的深度神经网络在训练是,每一层的输入的分布都在改变,因此训练困难,只能选择用一个很小的学习速率,但是每一层用了BN后,可以有效的解决这个问题,学习速率可以增大很多倍."
   ]
  },
  {
   "cell_type": "markdown",
   "metadata": {},
   "source": [
    "#### 7.  进行深度学习任务时，使用激活函数是为了解决什么问题？ 常用的激活函数有哪些？"
   ]
  },
  {
   "cell_type": "markdown",
   "metadata": {
    "collapsed": true
   },
   "source": [
    "激活函数决定一个神经元是否应该被激活。它对输入信息进行非线性变换。 然后将变换后的输出信息作为输入信息传给下一层神经元。如果没有激活函数时，权重和偏差只会进行线性变换。线性方程很简单，但解决复杂问题的能力有限。没有激活函数的神经网络实质上只是一个线性回归模型。激活函数对输入进行非线性变换，使其能够学习和执行更复杂的任务。我们希望我们的神经网络能够处理复杂任务，如语言翻译和图像分类等。线性变换永远无法执行这样的任务。激活函数使反向传播成为可能，因为激活函数的误差梯度可以用来调整权重和偏差。如果没有可微的非线性函数，这就不可能实现。\n",
    "\n",
    "常用的激活函数：           \n",
    "1.Binary Step函数:二元函数只有两个值，只能分两类。梯度为零，在反向传播过程中不可能更新权重和偏差。\n",
    "\n",
    "2.线性函数：每次做反向传播时，梯度都是一样的。每一层都使用线性变换，不管我们有多少层，最终输出的还是输入的线性变换。\n",
    "\n",
    "3.Sigmoid函数：非线性的函数,它是平滑的，依赖于x值，这意味着在反向传播过程中，可以使用这个函数。误差可以被反向传播，权重也可以相应地更新。但是一旦x值不在[-3，3]内，梯度就变得很小，接近于零，而网络就得不到真正的学习。而且它y轴取值范围[0，1]在原点周围不对称，得到的值都是正的。\n",
    "\n",
    "4.tanh函数：Sigmoid函数升级版Y值范围为[-1,1]。但是它在一定范围外梯度依然会变很小不利于权重更新。\n",
    "\n",
    "5.ReLU函数：ReLU函数是非线性的，可以反向传播误差，并激活多个神经元。但它不会同时激活所有的神经元。因为如果输入值是负的，ReLU函数会转换为0，而神经元不被激活。这意味着，在一段时间内，只有少量的神经元被激活，神经网络的这种稀疏性使其变得高效且易于计算。ReLU函数也存在着梯度为零的问题。x＜0时梯度为零，这意味着在反向传播过程中，权重不会得到更新。\n",
    "\n",
    "6.Leaky ReLU函数：ReLU函数升级版，在x<0时y不是0了，而是一个很小的接近0的值比如0.01。这样权重就可以更新了。\n",
    "\n",
    "7.Softmax函数：softmax函数也是一种sigmoid函数但是它可以处理多分类。"
   ]
  },
  {
   "cell_type": "markdown",
   "metadata": {},
   "source": [
    "#### 8 . 请简要说明CNN网络的框架结构"
   ]
  },
  {
   "cell_type": "markdown",
   "metadata": {
    "collapsed": true
   },
   "source": [
    "卷积神经网络依旧是层级网络，只是层的功能和形式做了变化，是传统神经网络的一个改进。它具体有一下几层构成：          \n",
    "\n",
    "1.数据输入层/ Input layer: 该层要做的处理主要是对原始图像数据进行预处理，其中包括：     \n",
    "　　•\t去均值：把输入数据各个维度都中心化为0，如下图所示，其目的就是把样本的中心拉回到坐标系原点上。      \n",
    "　　•\t归一化：幅度归一化到同样的范围，如下所示，即减少各维度数据取值范围的差异而带来的干扰，比如，我们有两个维度的特征A和B，A范围是0到10，而B范围是0到10000，如果直接使用这两个特征是有问题的，好的做法就是归一化，即A和B的数据都变为0到1的范围。              \n",
    "　　•\tPCA/白化：用PCA降维；白化是对数据各个特征轴上的幅度归一化      \n",
    "  \n",
    "2.卷积计算层/ CONV layer:在这个卷积层，有两个关键操作：            \n",
    "　　•\t局部关联。每个神经元看做一个滤波器(filter)              \n",
    "　　•\t窗口(receptive field)滑动， filter对局部数据计算             \n",
    "\n",
    "3.ReLU激励层 / ReLU layer:      \n",
    "把卷积层输出结果做非线性映射。\n",
    "\n",
    "4.池化层 / Pooling layer:      \n",
    "池化层夹在连续的卷积层中间， 用于压缩数据和参数的量，减小过拟合。\n",
    "\n",
    "5.全连接层 / FC layer:     \n",
    "两层之间所有神经元都有权重连接，通常全连接层在卷积神经网络尾部。"
   ]
  },
  {
   "cell_type": "markdown",
   "metadata": {},
   "source": [
    "#### 9.请简述应当从哪些方向上思考和解决深度学习中出现的的over fitting问题？"
   ]
  },
  {
   "cell_type": "markdown",
   "metadata": {
    "collapsed": true
   },
   "source": [
    "出现原因：一般是由于模型比较复杂、参数太多，而训练数据相对有限，随着训练的进行，导致训练出的模型过度拟合了有限的训练数据集。\n",
    "\n",
    "可以从数据集方向上思考，很多过拟合是因为数据集太小导致的。还可以从优化损失函数算法角度来思考和解决。也可以从构造模型时通过加入正则化项等方法来削弱模型学习能力的角度去考虑。\n",
    "\n",
    "解决方法：    \n",
    "1：增大训练集：可以在原始数据上做些小改动，例如加点噪声或者做个从而得到更多的数据。\n",
    "\n",
    "2：early-stoping：比如在优化损失函数时一次迭代之后计算一下模型在训练集和验证集上的错误率，当在验证集上的错误率最小，在没开始增大之前停止训练，因为如果接着训练，训练集上的错误率一般是会继续减小的，但验证集上的错误率会上升，这就说明模型的泛化能力开始变差了，出现过拟合问题，及时停止能获得泛化更好的模型\n",
    "\n",
    "3：Regulization：正则化包括L1，L2它们通过修改代价函数来使权重衰减。因为更小的权值w，表示网络的复杂度更低，对数据的拟合效果越弱，从而可以避免过拟合。\n",
    "\n",
    "4：Droppot：指的是对于一个mini-batch来讲，保持输入和输出层不变，在隐层随机删除一半的节点，然后使用修改后的网络进行前向和后向的计算，更新网络的权重。使用了dropout以后的神经网络，可以类比成多个神经网络的merge版本。因为每次dropout的节点不同，所以每次的网络的结构将会不同，不同网络可能对应于不同的过拟合，多个网络系统之间的结合将会减弱过拟合的影响。"
   ]
  },
  {
   "cell_type": "markdown",
   "metadata": {},
   "source": [
    "#### 10. 谈谈您对深度学习中的自适应学习率的了解"
   ]
  },
  {
   "cell_type": "markdown",
   "metadata": {
    "collapsed": true
   },
   "source": [
    "自适应学习率指的是在执行SGD的过程中学习率可以进行自动调节。带自适应学习率的算法包括Nesterov accelerated gradient，Adagrad, Adadelta, Adam等方法。学习率决定了参数空间搜索的步长，过大导致解振动、不收敛；过小导致收敛速度慢，而且容易收敛于局部最优的解而不是全局最优解。理想的学习率设计是，前期大学习率搜索，后期小学习率调优。以及对参数的个性化调整，优化频率高的参数小学习率调整，优化频率低的参数大学习率调整。这样的调节学习率的算法才是最好的自适应学习率算法。不过虽然说学习过程中学习率是不用调节，不过设置初始的学习率也挺难的。"
   ]
  },
  {
   "cell_type": "markdown",
   "metadata": {},
   "source": [
    "## 二、实验题(共1题，共计40分)\n",
    "\n",
    "- note:40"
   ]
  },
  {
   "cell_type": "markdown",
   "metadata": {},
   "source": [
    "### 1. 请使用keras框架，构建CNN网络完成对MNIST数据集的训练，评估及预测"
   ]
  },
  {
   "cell_type": "code",
   "execution_count": 6,
   "metadata": {},
   "outputs": [
    {
     "name": "stdout",
     "output_type": "stream",
     "text": [
      "_________________________________________________________________\n",
      "Layer (type)                 Output Shape              Param #   \n",
      "=================================================================\n",
      "conv2d_1 (Conv2D)            (None, 28, 28, 16)        416       \n",
      "_________________________________________________________________\n",
      "max_pooling2d_1 (MaxPooling2 (None, 14, 14, 16)        0         \n",
      "_________________________________________________________________\n",
      "conv2d_2 (Conv2D)            (None, 14, 14, 36)        14436     \n",
      "_________________________________________________________________\n",
      "max_pooling2d_2 (MaxPooling2 (None, 7, 7, 36)          0         \n",
      "_________________________________________________________________\n",
      "dropout_1 (Dropout)          (None, 7, 7, 36)          0         \n",
      "_________________________________________________________________\n",
      "flatten_1 (Flatten)          (None, 1764)              0         \n",
      "_________________________________________________________________\n",
      "dense_2 (Dense)              (None, 128)               225920    \n",
      "_________________________________________________________________\n",
      "dropout_2 (Dropout)          (None, 128)               0         \n",
      "_________________________________________________________________\n",
      "dense_3 (Dense)              (None, 10)                1290      \n",
      "=================================================================\n",
      "Total params: 242,062\n",
      "Trainable params: 242,062\n",
      "Non-trainable params: 0\n",
      "_________________________________________________________________\n",
      "None\n",
      "Train on 48000 samples, validate on 12000 samples\n",
      "Epoch 1/10\n",
      "20s - loss: 0.4873 - acc: 0.8474 - val_loss: 0.0967 - val_acc: 0.9718\n",
      "Epoch 2/10\n",
      "20s - loss: 0.1412 - acc: 0.9582 - val_loss: 0.0630 - val_acc: 0.9802\n",
      "Epoch 3/10\n",
      "20s - loss: 0.1030 - acc: 0.9692 - val_loss: 0.0518 - val_acc: 0.9838\n",
      "Epoch 4/10\n",
      "21s - loss: 0.0847 - acc: 0.9752 - val_loss: 0.0464 - val_acc: 0.9863\n",
      "Epoch 5/10\n",
      "21s - loss: 0.0716 - acc: 0.9786 - val_loss: 0.0394 - val_acc: 0.9872\n",
      "Epoch 6/10\n",
      "21s - loss: 0.0642 - acc: 0.9810 - val_loss: 0.0398 - val_acc: 0.9883\n",
      "Epoch 7/10\n",
      "20s - loss: 0.0567 - acc: 0.9833 - val_loss: 0.0408 - val_acc: 0.9877\n",
      "Epoch 8/10\n",
      "20s - loss: 0.0508 - acc: 0.9844 - val_loss: 0.0337 - val_acc: 0.9897\n",
      "Epoch 9/10\n",
      "20s - loss: 0.0451 - acc: 0.9866 - val_loss: 0.0346 - val_acc: 0.9896\n",
      "Epoch 10/10\n",
      "20s - loss: 0.0423 - acc: 0.9869 - val_loss: 0.0349 - val_acc: 0.9899\n"
     ]
    },
    {
     "data": {
      "image/png": "[encoded data removed]",
      "text/plain": [
       "<matplotlib.figure.Figure at 0x7fe23b151cc0>"
      ]
     },
     "metadata": {},
     "output_type": "display_data"
    },
    {
     "data": {
      "image/png": "[encoded data removed]",
      "text/plain": [
       "<matplotlib.figure.Figure at 0x7fe23b1606d8>"
      ]
     },
     "metadata": {},
     "output_type": "display_data"
    },
    {
     "name": "stdout",
     "output_type": "stream",
     "text": [
      " 9920/10000 [============================>.] - ETA: 0s"
     ]
    },
    {
     "data": {
      "image/png": "[encoded data removed]",
      "text/plain": [
       "<matplotlib.figure.Figure at 0x7fe20d16f0f0>"
      ]
     },
     "metadata": {},
     "output_type": "display_data"
    },
    {
     "data": {
      "text/html": [
       "<div>\n",
       "<style scoped>\n",
       "    .dataframe tbody tr th:only-of-type {\n",
       "        vertical-align: middle;\n",
       "    }\n",
       "\n",
       "    .dataframe tbody tr th {\n",
       "        vertical-align: top;\n",
       "    }\n",
       "\n",
       "    .dataframe thead th {\n",
       "        text-align: right;\n",
       "    }\n",
       "</style>\n",
       "<table border=\"1\" class=\"dataframe\">\n",
       "  <thead>\n",
       "    <tr style=\"text-align: right;\">\n",
       "      <th>predict</th>\n",
       "      <th>0</th>\n",
       "      <th>1</th>\n",
       "      <th>2</th>\n",
       "      <th>3</th>\n",
       "      <th>4</th>\n",
       "      <th>5</th>\n",
       "      <th>6</th>\n",
       "      <th>7</th>\n",
       "      <th>8</th>\n",
       "      <th>9</th>\n",
       "    </tr>\n",
       "    <tr>\n",
       "      <th>label</th>\n",
       "      <th></th>\n",
       "      <th></th>\n",
       "      <th></th>\n",
       "      <th></th>\n",
       "      <th></th>\n",
       "      <th></th>\n",
       "      <th></th>\n",
       "      <th></th>\n",
       "      <th></th>\n",
       "      <th></th>\n",
       "    </tr>\n",
       "  </thead>\n",
       "  <tbody>\n",
       "    <tr>\n",
       "      <th>0</th>\n",
       "      <td>976</td>\n",
       "      <td>1</td>\n",
       "      <td>0</td>\n",
       "      <td>0</td>\n",
       "      <td>0</td>\n",
       "      <td>0</td>\n",
       "      <td>2</td>\n",
       "      <td>1</td>\n",
       "      <td>0</td>\n",
       "      <td>0</td>\n",
       "    </tr>\n",
       "    <tr>\n",
       "      <th>1</th>\n",
       "      <td>0</td>\n",
       "      <td>1131</td>\n",
       "      <td>1</td>\n",
       "      <td>0</td>\n",
       "      <td>0</td>\n",
       "      <td>1</td>\n",
       "      <td>1</td>\n",
       "      <td>0</td>\n",
       "      <td>1</td>\n",
       "      <td>0</td>\n",
       "    </tr>\n",
       "    <tr>\n",
       "      <th>2</th>\n",
       "      <td>2</td>\n",
       "      <td>3</td>\n",
       "      <td>1021</td>\n",
       "      <td>1</td>\n",
       "      <td>1</td>\n",
       "      <td>0</td>\n",
       "      <td>0</td>\n",
       "      <td>4</td>\n",
       "      <td>0</td>\n",
       "      <td>0</td>\n",
       "    </tr>\n",
       "    <tr>\n",
       "      <th>3</th>\n",
       "      <td>0</td>\n",
       "      <td>0</td>\n",
       "      <td>0</td>\n",
       "      <td>1005</td>\n",
       "      <td>0</td>\n",
       "      <td>2</td>\n",
       "      <td>0</td>\n",
       "      <td>1</td>\n",
       "      <td>2</td>\n",
       "      <td>0</td>\n",
       "    </tr>\n",
       "    <tr>\n",
       "      <th>4</th>\n",
       "      <td>0</td>\n",
       "      <td>0</td>\n",
       "      <td>0</td>\n",
       "      <td>0</td>\n",
       "      <td>973</td>\n",
       "      <td>0</td>\n",
       "      <td>1</td>\n",
       "      <td>0</td>\n",
       "      <td>1</td>\n",
       "      <td>7</td>\n",
       "    </tr>\n",
       "    <tr>\n",
       "      <th>5</th>\n",
       "      <td>1</td>\n",
       "      <td>1</td>\n",
       "      <td>0</td>\n",
       "      <td>6</td>\n",
       "      <td>0</td>\n",
       "      <td>880</td>\n",
       "      <td>2</td>\n",
       "      <td>0</td>\n",
       "      <td>0</td>\n",
       "      <td>2</td>\n",
       "    </tr>\n",
       "    <tr>\n",
       "      <th>6</th>\n",
       "      <td>5</td>\n",
       "      <td>2</td>\n",
       "      <td>0</td>\n",
       "      <td>1</td>\n",
       "      <td>1</td>\n",
       "      <td>1</td>\n",
       "      <td>948</td>\n",
       "      <td>0</td>\n",
       "      <td>0</td>\n",
       "      <td>0</td>\n",
       "    </tr>\n",
       "    <tr>\n",
       "      <th>7</th>\n",
       "      <td>0</td>\n",
       "      <td>1</td>\n",
       "      <td>3</td>\n",
       "      <td>2</td>\n",
       "      <td>0</td>\n",
       "      <td>0</td>\n",
       "      <td>0</td>\n",
       "      <td>1019</td>\n",
       "      <td>1</td>\n",
       "      <td>2</td>\n",
       "    </tr>\n",
       "    <tr>\n",
       "      <th>8</th>\n",
       "      <td>3</td>\n",
       "      <td>0</td>\n",
       "      <td>3</td>\n",
       "      <td>2</td>\n",
       "      <td>1</td>\n",
       "      <td>1</td>\n",
       "      <td>0</td>\n",
       "      <td>2</td>\n",
       "      <td>959</td>\n",
       "      <td>3</td>\n",
       "    </tr>\n",
       "    <tr>\n",
       "      <th>9</th>\n",
       "      <td>1</td>\n",
       "      <td>3</td>\n",
       "      <td>1</td>\n",
       "      <td>2</td>\n",
       "      <td>3</td>\n",
       "      <td>2</td>\n",
       "      <td>0</td>\n",
       "      <td>3</td>\n",
       "      <td>0</td>\n",
       "      <td>994</td>\n",
       "    </tr>\n",
       "  </tbody>\n",
       "</table>\n",
       "</div>"
      ],
      "text/plain": [
       "predict    0     1     2     3    4    5    6     7    8    9\n",
       "label                                                        \n",
       "0        976     1     0     0    0    0    2     1    0    0\n",
       "1          0  1131     1     0    0    1    1     0    1    0\n",
       "2          2     3  1021     1    1    0    0     4    0    0\n",
       "3          0     0     0  1005    0    2    0     1    2    0\n",
       "4          0     0     0     0  973    0    1     0    1    7\n",
       "5          1     1     0     6    0  880    2     0    0    2\n",
       "6          5     2     0     1    1    1  948     0    0    0\n",
       "7          0     1     3     2    0    0    0  1019    1    2\n",
       "8          3     0     3     2    1    1    0     2  959    3\n",
       "9          1     3     1     2    3    2    0     3    0  994"
      ]
     },
     "execution_count": 6,
     "metadata": {},
     "output_type": "execute_result"
    }
   ],
   "source": [
    "from keras.datasets import mnist  \n",
    "from keras.utils import np_utils  \n",
    "import numpy as np  \n",
    "np.random.seed(10)  \n",
    "    \n",
    "(x_train, y_train),(x_test,y_test) = mnist.load_data() #读取MNIST资料  \n",
    "   \n",
    "#将features（数字影像特征值）以reshape转换为6000*28*28*1的4维矩阵  \n",
    "x_train4D = x_train.reshape(x_train.shape[0],28,28,1).astype('float32')  \n",
    "x_test4D = x_test.reshape(x_test.shape[0],28,28,1).astype('float32')  \n",
    "    \n",
    "#将features标准化，可以提高模型预测的准确度，并且更快收敛  \n",
    "x_train4D_normalize = x_train4D / 255  \n",
    "x_test4D_normalize = x_test4D / 255  \n",
    "  \n",
    "# 使用np_utils.to_categorical,将训练资料集与测试的label进行Onehot encoding转换  \n",
    "y_trainOneHot = np_utils.to_categorical(y_train)  \n",
    "y_testOneHot = np_utils.to_categorical(y_test)  \n",
    "  \n",
    "#建立模型  \n",
    "from keras.models import Sequential  \n",
    "from keras.layers import Dense,Dropout,Flatten,Conv2D,MaxPooling2D  \n",
    "  \n",
    "#建立keras的Sequential模型（线性堆积模型）\n",
    "model = Sequential()  \n",
    "  \n",
    "#建立卷积层1.  \n",
    "#输入的数字影像是28*28大小，执行第一次卷积运算，会产生16个影像，卷积运算并不会改变影像大小，所以仍然是28*28大小。  \n",
    "model.add(Conv2D(filters=16,  \n",
    "                kernel_size=(5,5),  \n",
    "                padding='same',#补零  \n",
    "                input_shape=(28,28,1),  \n",
    "                activation='relu'))  \n",
    "  \n",
    "#建立池化层  \n",
    "#输入参数pool_size=(2,2),执行第一次缩减取样，将16个28*28影像，缩小为16个14*14的影像。  \n",
    "model.add(MaxPooling2D(pool_size=(2,2)))  \n",
    "  \n",
    "    \n",
    "# 建立卷积层2\n",
    "#输入的数字影像是28*28大小，执行第2次卷积运算，将原本16个的影像，转换为36个影像，卷积运算并不会改变影像大小，所以仍然是14*14大小。  \n",
    "model.add(Conv2D(filters=36,  \n",
    "                kernel_size=(5,5),  \n",
    "                padding='same',#补零  \n",
    "                activation='relu'))  \n",
    "\n",
    "#建立池化层2  \n",
    "#输入参数pool_size=(2,2),执行第2次缩减取样，将36个14*14影像，缩小为36个7*7的影像。  \n",
    "model.add(MaxPooling2D(pool_size=(2,2)))  \n",
    "\n",
    "#加入Dropout(0.25)层至模型中。其功能是，每次训练迭代时，会随机的在神经网络中放弃25%的神经元，以避免overfitting。  \n",
    "model.add(Dropout(0.25))  \n",
    "\n",
    "#建立平坦层  \n",
    "#之前的步骤已经建立池化层2，共有36个7*7影像，转换为1维的向量，长度是36*7*7=1764，也就是1764个float数字，正好对应到1764个神经元。  \n",
    "model.add(Flatten())  \n",
    "  \n",
    "#建立隐藏层，共有128个神经元  \n",
    "model.add(Dense(128,activation='relu'))  \n",
    "  \n",
    "#加入Dropout(0.5)层至模型中。其功能是，每次训练迭代时，会随机的在神经网络中放弃50%的神经元，以避免overfitting。  \n",
    "model.add(Dropout(0.5))  \n",
    "  \n",
    "#建立输出层  \n",
    "#共有10个神经元，对应到0-9共10个数字。并且使用softmax激活函数进行转换，softmax可以将神经元的输出，转换为预测每一个数字的几率。  \n",
    "model.add(Dense(10,activation='softmax'))  \n",
    "\n",
    "#查看模型的摘要  \n",
    "print(model.summary())  \n",
    " \n",
    "#进行训练  \n",
    "#定义训练方式  \n",
    "#在模型训练之前，我们必须使用compile方法，对训练模型进行设定  \n",
    "model.compile(loss='categorical_crossentropy',  \n",
    "             optimizer='adam',metrics=['accuracy'])  \n",
    "\n",
    "#开始训练  \n",
    "train_history=model.fit(x=x_train4D_normalize,  \n",
    "                       y=y_trainOneHot,validation_split=0.2,  \n",
    "                       epochs=10,batch_size=300,verbose=2)  \n",
    "\n",
    "#画出accuracy执行结果  \n",
    "#之前训练步骤，会将每一个训练周期的accuracy与loss，记录在train_history。  \n",
    "import matplotlib.pyplot as plt  \n",
    "def show_train_history(train_history,train,validation):  \n",
    "    plt.plot(train_history.history[train])  \n",
    "    plt.plot(train_history.history[validation])  \n",
    "    plt.title('Train History')  \n",
    "    plt.ylabel(train)  \n",
    "    plt.xlabel('Epoch')  \n",
    "    plt.legend(['train','validation'],loc='upper left')  \n",
    "    plt.show()  \n",
    "  \n",
    "   \n",
    "show_train_history(train_history,'acc','val_acc')  \n",
    "  \n",
    "#画出loss误差执行结果  \n",
    "show_train_history(train_history,'loss','val_loss')  \n",
    "  \n",
    "#用test评估模型准确度  \n",
    "scores = model.evaluate(x_test4D_normalize,y_testOneHot)  \n",
    "scores[1]  \n",
    "  \n",
    "#进行预测   \n",
    "prediction=model.predict_classes(x_test4D_normalize)  \n",
    "  \n",
    "\n",
    "#预测结果  \n",
    "prediction[:10]  \n",
    "  \n",
    "\n",
    "#显示前10笔预测结果  \n",
    "def plot_images_labels_prediction(images,labels,prediction,idx,num=10):  \n",
    "    fig = plt.gcf()  \n",
    "    fig.set_size_inches(12,14)  \n",
    "    if num>25:  \n",
    "        num =25  \n",
    "    for i in range(0,num):  \n",
    "        ax = plt.subplot(5,5,1+i)  \n",
    "        ax.imshow(images[idx], cmap='binary')  \n",
    "        title = \"label=\"+str(labels[idx])  \n",
    "        if len(prediction)>0:  \n",
    "            title+=\",predict=\"+str(prediction[idx])  \n",
    "        ax.set_title(title,fontsize=10)  \n",
    "        ax.set_xticks([])  \n",
    "        ax.set_yticks([])  \n",
    "        idx+=1  \n",
    "    plt.show()  \n",
    "  \n",
    "  \n",
    "plot_images_labels_prediction(x_test,y_test,prediction,idx=0)  \n",
    "  \n",
    "#显示混淆矩阵  \n",
    "import pandas as pd  \n",
    "pd.crosstab(y_test,prediction,  \n",
    "           rownames=['label'],colnames=['predict'])  "
   ]
  },
  {
   "cell_type": "markdown",
   "metadata": {},
   "source": [
    "### 本阶段课程意见反馈题(非必答，不送分)\n",
    "#### 请同学围绕以下两点进行回答：\n",
    "- 自身总结：请您对您自己在本周课程的学习，收获，技能掌握等方面进行一次总结 ，也包括有哪些方面存在哪些不足，欠缺，困惑。作为将来回顾学习路径时的依据。\n"
   ]
  },
  {
   "cell_type": "code",
   "execution_count": null,
   "metadata": {
    "collapsed": true
   },
   "outputs": [],
   "source": []
  },
  {
   "cell_type": "markdown",
   "metadata": {},
   "source": [
    "- 课程反馈：请就知识点，进度，难易度，教学方式，考试方式及难易度等方面向我们反馈，督促我们进行更有效的改进。"
   ]
  },
  {
   "cell_type": "markdown",
   "metadata": {
    "collapsed": true
   },
   "source": []
  },
  {
   "cell_type": "markdown",
   "metadata": {},
   "source": [
    "<hr>\n",
    "<center><h1>####答卷结束####</h1></center>"
   ]
  }
 ],
 "metadata": {
  "kernelspec": {
   "display_name": "Python 3",
   "language": "python",
   "name": "python3"
  },
  "language_info": {
   "codemirror_mode": {
    "name": "ipython",
    "version": 3
   },
   "file_extension": ".py",
   "mimetype": "text/x-python",
   "name": "python",
   "nbconvert_exporter": "python",
   "pygments_lexer": "ipython3",
   "version": "3.5.2"
  }
 },
 "nbformat": 4,
 "nbformat_minor": 2
}
