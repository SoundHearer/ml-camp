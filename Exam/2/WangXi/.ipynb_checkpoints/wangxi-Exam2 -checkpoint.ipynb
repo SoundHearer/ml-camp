{
 "cells": [
  {
   "cell_type": "markdown",
   "metadata": {},
   "source": [
    "## 七月在线机器学习实训营三期第二周(数据抓取)考试\n",
    "#### 考试说明:\n",
    "- 起止时间：请同学在2018年2月2日至2月4日期间完成，最晚提交时间本周日（2月4日24时之前）结束，<b>逾期不接受补考,该考试分数计入平时成绩</b>\n",
    "- 考试方式：请同学<font color=red><b>拷贝</b></font>该试卷至自己姓名的目录后，将文件更名为同学姓名拼音-exam2后，进行作答。例如wangwei-exam2\n",
    "- 提交格式：请同学新建自己姓名全拼的文件夹，将该试卷，zip文件等相关考试文件，放置此目录下。将该目录<b>移动</b>至/0.Teacher/Exam/2/目录下\n",
    "- 注意事项：为确保同学们真正了解自身对本周课程的掌握程度，<font color=red><b>请勿翻阅，移动，更改</b></font>其它同学试卷。如发现按0分处理\n",
    "- 请同学在下方同学姓名处填写自己的姓名，批改人和最终得分不用填写"
   ]
  },
  {
   "cell_type": "markdown",
   "metadata": {},
   "source": [
    "- 同学姓名:<u>王玺</u>  \n",
    "- 批改人：@杜老师   \n",
    "- 最终得分:95"
   ]
  },
  {
   "cell_type": "markdown",
   "metadata": {},
   "source": [
    "### 简答题 (共两题，每题5分)"
   ]
  },
  {
   "cell_type": "markdown",
   "metadata": {},
   "source": [
    "#### 1.请使用BeautifulSoup定位到以下html代码段内容是“你好”的li标签？\n",
    "```\n",
    "<ul>\n",
    "  <li class=eng>Hello</li>\n",
    "  <li class=eng>World</li>\n",
    "</ul>\n",
    "<ul>\n",
    "  <li class=chn>世界</li>\n",
    "  <li class=chn>你好</li>\n",
    "</ul>\n",
    "```"
   ]
  },
  {
   "cell_type": "code",
   "execution_count": 12,
   "metadata": {},
   "outputs": [
    {
     "name": "stdout",
     "output_type": "stream",
     "text": [
      "<li class=\"chn\">你好</li>\n"
     ]
    }
   ],
   "source": [
    "import requests\n",
    "import bs4\n",
    "from bs4 import BeautifulSoup\n",
    "html = '''<ul>\n",
    "            <li class=eng>Hello</li>\n",
    "            <li class=eng>World</li>\n",
    "          </ul>\n",
    "          <ul>\n",
    "            <li class=chn>世界</li>\n",
    "            <li class=chn>你好</li>\n",
    "          </ul>'''\n",
    "bs = bs4.BeautifulSoup(html,\"lxml\")  \n",
    "su = bs.select('.chn')[1] \n",
    "print(su)"
   ]
  },
  {
   "cell_type": "markdown",
   "metadata": {},
   "source": [
    "#### 2.如果seleniun的find_xxx返回一个element，但是element.text获取文本为空，该如何进一步处理？"
   ]
  },
  {
   "cell_type": "markdown",
   "metadata": {
    "collapsed": true
   },
   "source": [
    "答：element.text获取文本为空,那么当前定位的元素可能被隐藏了。由于webdriver spec的定义，Selenium WebDriver 只会与可见元素交互，所以获取隐藏元素的文本总是会返回空字符串。这些内容可以使用element.get_attribute('attributeName'), 通过textContent, innerText, innerHTML等属性获取。innerHTML会返回元素的内部所有的标签和文本。textContent 和 innerText 只会得到文本内容，而不会包含HTML标签。 "
   ]
  },
  {
   "cell_type": "markdown",
   "metadata": {},
   "source": [
    "### 代码题(共三题，每题30分)"
   ]
  },
  {
   "cell_type": "markdown",
   "metadata": {},
   "source": [
    "#### 1.利用scrapy框架代码抓取https://sh.lianjia.com/ershoufang/changning/ \n",
    "\n",
    "前5页数据，   \n",
    " - 保留以下字段：信息链接、标题，单价、面积和总价。   \n",
    " - 去除面积50平方以下和单价9万以上。   \n",
    " - 数据以csv格式保存。   \n",
    " - 上传zip项目代码，确保scrapy crawl lianjia可以立即执行。"
   ]
  },
  {
   "cell_type": "markdown",
   "metadata": {
    "collapsed": true
   },
   "source": [
    "去除面积小于50和单价9万以上的字段信息存在lianjia.csv中"
   ]
  },
  {
   "cell_type": "markdown",
   "metadata": {},
   "source": [
    "#### 2.使用scrapy实现豆瓣用户名密码登陆（包括验证码，手工输入登录信息）并获取豆瓣首页热门话题的标题和浏览人数。"
   ]
  },
  {
   "cell_type": "markdown",
   "metadata": {
    "collapsed": true
   },
   "source": [
    "验证码在123.jpg热门话题和人数在login.csv用scrapy crawl douban执行"
   ]
  },
  {
   "cell_type": "markdown",
   "metadata": {},
   "source": [
    "#### 3.获取页面http://www.loewe.com/int/zh_CN/  女士系列/丝巾全部商品链接数据   \n",
    "- （注意，必须展开页面）\n"
   ]
  },
  {
   "cell_type": "code",
   "execution_count": 2,
   "metadata": {},
   "outputs": [
    {
     "name": "stdout",
     "output_type": "stream",
     "text": [
      "31\n",
      "http://www.loewe.com/int/zh_CN/%E5%A5%B3%E5%A3%AB%E7%B3%BB%E5%88%97/%E4%B8%9D%E5%B7%BE/90x90-scarf-phones/918.18.012-9990.html?cgid=w_scarves_shawls\n",
      "http://www.loewe.com/int/zh_CN/%E5%A5%B3%E5%A3%AB%E7%B3%BB%E5%88%97/%E4%B8%9D%E5%B7%BE/140x140-scarf-patchw-anagram/918.18.014-7316.html?cgid=w_scarves_shawls\n",
      "http://www.loewe.com/int/zh_CN/%E5%A5%B3%E5%A3%AB%E7%B3%BB%E5%88%97/%E4%B8%9D%E5%B7%BE/90x90-anagram-all-over-scarf/915.15.097-7143.html?cgid=w_scarves_shawls\n",
      "http://www.loewe.com/int/zh_CN/%E5%A5%B3%E5%A3%AB%E7%B3%BB%E5%88%97/%E4%B8%9D%E5%B7%BE/140x140-scarf-flower-on-stripe/918.18.005-5100.html?cgid=w_scarves_shawls\n",
      "http://www.loewe.com/int/zh_CN/%E5%A5%B3%E5%A3%AB%E7%B3%BB%E5%88%97/%E4%B8%9D%E5%B7%BE/140x140-scarf-flower-on-stripe/918.18.005-7140.html?cgid=w_scarves_shawls\n",
      "http://www.loewe.com/int/zh_CN/%E5%A5%B3%E5%A3%AB%E7%B3%BB%E5%88%97/%E4%B8%9D%E5%B7%BE/140x140-shawl-anagram/918.18.019-5137.html?cgid=w_scarves_shawls\n",
      "http://www.loewe.com/int/zh_CN/%E5%A5%B3%E5%A3%AB%E7%B3%BB%E5%88%97/%E4%B8%9D%E5%B7%BE/70x200-scarf-anagram/918.18.022-5110.html?cgid=w_scarves_shawls\n",
      "http://www.loewe.com/int/zh_CN/%E5%A5%B3%E5%A3%AB%E7%B3%BB%E5%88%97/%E4%B8%9D%E5%B7%BE/45x200-anagram-in-lines-scarf/915.15.202-7170.html?cgid=w_scarves_shawls\n",
      "http://www.loewe.com/int/zh_CN/%E5%A5%B3%E5%A3%AB%E7%B3%BB%E5%88%97/%E4%B8%9D%E5%B7%BE/45x200-anagram-in-lines-scarf/915.15.202-3170.html?cgid=w_scarves_shawls\n",
      "http://www.loewe.com/int/zh_CN/%E5%A5%B3%E5%A3%AB%E7%B3%BB%E5%88%97/%E4%B8%9D%E5%B7%BE/45x200-scarf-anagram-jacquard/915.15.001-1130.html?cgid=w_scarves_shawls\n",
      "http://www.loewe.com/int/zh_CN/%E5%A5%B3%E5%A3%AB%E7%B3%BB%E5%88%97/%E4%B8%9D%E5%B7%BE/140x140-scarf-patchwork-all/918.18.074-9990.html?cgid=w_scarves_shawls\n",
      "http://www.loewe.com/int/zh_CN/%E5%A5%B3%E5%A3%AB%E7%B3%BB%E5%88%97/%E4%B8%9D%E5%B7%BE/90x90-scarf-hello-loewe/918.18.028-5109.html?cgid=w_scarves_shawls\n",
      "http://www.loewe.com/int/zh_CN/%E5%A5%B3%E5%A3%AB%E7%B3%BB%E5%88%97/%E4%B8%9D%E5%B7%BE/140x140-shawl-anagram/918.18.018-5110.html?cgid=w_scarves_shawls\n",
      "http://www.loewe.com/int/zh_CN/%E5%A5%B3%E5%A3%AB%E7%B3%BB%E5%88%97/%E4%B8%9D%E5%B7%BE/45x200-anagram-in-lines-scarf/915.15.202-4985.html?cgid=w_scarves_shawls\n",
      "http://www.loewe.com/int/zh_CN/%E5%A5%B3%E5%A3%AB%E7%B3%BB%E5%88%97/%E4%B8%9D%E5%B7%BE/90x90-scarf-shelves/918.18.010-9990.html?cgid=w_scarves_shawls\n",
      "http://www.loewe.com/int/zh_CN/%E5%A5%B3%E5%A3%AB%E7%B3%BB%E5%88%97/%E4%B8%9D%E5%B7%BE/90x90-scarf-roses-anagram/918.18.004-2102.html?cgid=w_scarves_shawls\n",
      "http://www.loewe.com/int/zh_CN/%E5%A5%B3%E5%A3%AB%E7%B3%BB%E5%88%97/%E4%B8%9D%E5%B7%BE/70x200-scarf-flower-on-stripe/918.18.068-5100.html?cgid=w_scarves_shawls\n",
      "http://www.loewe.com/int/zh_CN/%E5%A5%B3%E5%A3%AB%E7%B3%BB%E5%88%97/%E4%B8%9D%E5%B7%BE/140x140-shawl-anagram/918.18.019-2147.html?cgid=w_scarves_shawls\n",
      "http://www.loewe.com/int/zh_CN/%E5%A5%B3%E5%A3%AB%E7%B3%BB%E5%88%97/%E4%B8%9D%E5%B7%BE/45x200-damero-scarf/916.16.007-7140.html?cgid=w_scarves_shawls\n",
      "http://www.loewe.com/int/zh_CN/%E5%A5%B3%E5%A3%AB%E7%B3%BB%E5%88%97/%E4%B8%9D%E5%B7%BE/50x180-scarf-monogram/925.25.147-7440.html?cgid=w_scarves_shawls\n",
      "http://www.loewe.com/int/zh_CN/%E5%A5%B3%E5%A3%AB%E7%B3%BB%E5%88%97/%E4%B8%9D%E5%B7%BE/140x140-scarf-hello-anagram/918.18.063-2205.html?cgid=w_scarves_shawls\n",
      "http://www.loewe.com/int/zh_CN/%E5%A5%B3%E5%A3%AB%E7%B3%BB%E5%88%97/%E4%B8%9D%E5%B7%BE/140x140-scarf-fruits/918.18.062-9990.html?cgid=w_scarves_shawls\n",
      "http://www.loewe.com/int/zh_CN/%E5%A5%B3%E5%A3%AB%E7%B3%BB%E5%88%97/%E4%B8%9D%E5%B7%BE/140x140-scarf-bleached/918.18.060-5118.html?cgid=w_scarves_shawls\n",
      "http://www.loewe.com/int/zh_CN/%E5%A5%B3%E5%A3%AB%E7%B3%BB%E5%88%97/%E4%B8%9D%E5%B7%BE/45x200-anagram-in-lines-scarf/915.15.202-5387.html?cgid=w_scarves_shawls\n",
      "http://www.loewe.com/int/zh_CN/%E5%A5%B3%E5%A3%AB%E7%B3%BB%E5%88%97/%E4%B8%9D%E5%B7%BE/140x140-shawl-anagram/918.18.019-2108.html?cgid=w_scarves_shawls\n",
      "http://www.loewe.com/int/zh_CN/%E5%A5%B3%E5%A3%AB%E7%B3%BB%E5%88%97/%E4%B8%9D%E5%B7%BE/140x140-scarf-patchw-anagram/918.18.014-4985.html?cgid=w_scarves_shawls\n",
      "http://www.loewe.com/int/zh_CN/%E5%A5%B3%E5%A3%AB%E7%B3%BB%E5%88%97/%E4%B8%9D%E5%B7%BE/70x200-shawl-shelves/918.18.023-9990.html?cgid=w_scarves_shawls\n",
      "http://www.loewe.com/int/zh_CN/%E5%A5%B3%E5%A3%AB%E7%B3%BB%E5%88%97/%E4%B8%9D%E5%B7%BE/140x140-shawl-anagram/918.18.018-2140.html?cgid=w_scarves_shawls\n",
      "http://www.loewe.com/int/zh_CN/%E5%A5%B3%E5%A3%AB%E7%B3%BB%E5%88%97/%E4%B8%9D%E5%B7%BE/45x200-damero-scarf/916.16.007-5130.html?cgid=w_scarves_shawls\n",
      "http://www.loewe.com/int/zh_CN/%E5%A5%B3%E5%A3%AB%E7%B3%BB%E5%88%97/%E4%B8%9D%E5%B7%BE/90x90-anagram-all-over-scarf/915.15.097-7170.html?cgid=w_scarves_shawls\n",
      "http://www.loewe.com/int/zh_CN/%E5%A5%B3%E5%A3%AB%E7%B3%BB%E5%88%97/%E4%B8%9D%E5%B7%BE/70x200-scarf-anagram/918.18.022-2140.html?cgid=w_scarves_shawls\n"
     ]
    }
   ],
   "source": [
    "# 平台上没驱动在自己电脑上运行正常\n",
    "from selenium import webdriver\n",
    "import json\n",
    "import re\n",
    "driver = webdriver.Chrome()\n",
    "driver.maximize_window()\n",
    "driver.get('http://www.loewe.com/int/zh_CN/%E5%A5%B3%E5%A3%AB%E7%B3%BB%E5%88%97/%E4%B8%9D%E5%B7%BE')\n",
    "\n",
    "c = driver.find_element_by_css_selector(\"div[class='pagination pagination-mobile']\")\n",
    "\n",
    "str1 = c.get_attribute('innerHTML')\n",
    "\n",
    "ss = str1.split(' ')[-2]\n",
    "s = re.findall(\"\\d+\",ss)[0]\n",
    "print(s)\n",
    "\n",
    "newurl = 'http://www.loewe.com/int/zh_CN/%E5%A5%B3%E5%A3%AB%E7%B3%BB%E5%88%97/%E4%B8%9D%E5%B7%BE?sz='+s+'&start=0'\n",
    "driver.get(newurl)\n",
    "element = driver.find_elements_by_class_name('product-tile')\n",
    "\n",
    "\n",
    "for i in range(len(element)):\n",
    "    str1 = element[i].get_attribute('data-productjson')\n",
    "    dic = json.loads(str1[1:-1]) \n",
    "    print('http://www.loewe.com'+dic['productURL'])\n",
    "\n",
    "driver.quit()"
   ]
  },
  {
   "cell_type": "markdown",
   "metadata": {},
   "source": [
    "### 本周课程意见反馈(10分送分项，非必答)\n",
    "- 请同学围绕以下两点进行回答：\n",
    "- 自身总结：请您对您自己在本周课程的学习，收获，技能掌握等方面进行一次总结 ，包括自身在哪些方面存在哪些不足，欠缺，困惑。作为将来回顾学习路径时的依据。\n",
    "- 课程反馈：也可以就知识点，进度，难易度，教学方式，考试方式等等进行意见反馈，督促我们进行更有效的改进。\n"
   ]
  },
  {
   "cell_type": "markdown",
   "metadata": {
    "collapsed": true
   },
   "source": []
  }
 ],
 "metadata": {
  "kernelspec": {
   "display_name": "Python 3",
   "language": "python",
   "name": "python3"
  },
  "language_info": {
   "codemirror_mode": {
    "name": "ipython",
    "version": 3
   },
   "file_extension": ".py",
   "mimetype": "text/x-python",
   "name": "python",
   "nbconvert_exporter": "python",
   "pygments_lexer": "ipython3",
   "version": "3.5.2"
  }
 },
 "nbformat": 4,
 "nbformat_minor": 2
}
