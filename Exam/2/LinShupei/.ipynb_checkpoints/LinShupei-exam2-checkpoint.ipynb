{
 "cells": [
  {
   "cell_type": "markdown",
   "metadata": {},
   "source": [
    "## 七月在线机器学习实训营三期第二周(数据抓取)考试\n",
    "#### 考试说明:\n",
    "- 起止时间：请同学在2018年2月2日至2月4日期间完成，最晚提交时间本周日（2月4日24时之前）结束，<b>逾期不接受补考,该考试分数计入平时成绩</b>\n",
    "- 考试方式：请同学<font color=red><b>拷贝</b></font>该试卷至自己姓名的目录后，将文件更名为同学姓名拼音-exam2后，进行作答。例如wangwei-exam2\n",
    "- 提交格式：请同学新建自己姓名全拼的文件夹，将该试卷，zip文件等相关考试文件，放置此目录下。将该目录<b>移动</b>至/0.Teacher/Exam/2/目录下\n",
    "- 注意事项：为确保同学们真正了解自身对本周课程的掌握程度，<font color=red><b>请勿翻阅，移动，更改</b></font>其它同学试卷。如发现按0分处理\n",
    "- 请同学在下方同学姓名处填写自己的姓名，批改人和最终得分不用填写"
   ]
  },
  {
   "cell_type": "markdown",
   "metadata": {},
   "source": [
    "- 同学姓名:<u>linshupei</u>  \n",
    "- 批改人： Smirk Cao  \n",
    "- 最终得分: 75"
   ]
  },
  {
   "cell_type": "markdown",
   "metadata": {},
   "source": [
    "### 简答题 (共两题，每题5分)"
   ]
  },
  {
   "cell_type": "markdown",
   "metadata": {},
   "source": [
    "#### 1.请使用BeautifulSoup定位到以下html代码段内容是“你好”的li标签？\n",
    "```\n",
    "<ul>\n",
    "  <li class=eng>Hello</li>\n",
    "  <li class=eng>World</li>\n",
    "</ul>\n",
    "<ul>\n",
    "  <li class=chn>世界</li>\n",
    "  <li class=chn>你好</li>\n",
    "</ul>\n",
    "```\n"
   ]
  },
  {
   "cell_type": "code",
   "execution_count": 4,
   "metadata": {},
   "outputs": [
    {
     "name": "stderr",
     "output_type": "stream",
     "text": [
      "D:\\Anaconda3\\lib\\site-packages\\bs4\\__init__.py:181: UserWarning: No parser was explicitly specified, so I'm using the best available HTML parser for this system (\"lxml\"). This usually isn't a problem, but if you run this code on another system, or in a different virtual environment, it may use a different parser and behave differently.\n",
      "\n",
      "The code that caused this warning is on line 193 of the file D:\\Anaconda3\\lib\\runpy.py. To get rid of this warning, change code that looks like this:\n",
      "\n",
      " BeautifulSoup(YOUR_MARKUP})\n",
      "\n",
      "to this:\n",
      "\n",
      " BeautifulSoup(YOUR_MARKUP, \"lxml\")\n",
      "\n",
      "  markup_type=markup_type))\n"
     ]
    },
    {
     "data": {
      "text/plain": [
       "<li class=\"chn\">你好</li>"
      ]
     },
     "execution_count": 4,
     "metadata": {},
     "output_type": "execute_result"
    }
   ],
   "source": [
    "from bs4 import BeautifulSoup\n",
    "\n",
    "text='''<ul>\n",
    "  <li class=eng>Hello</li>\n",
    "  <li class=eng>World</li>\n",
    "</ul>\n",
    "<ul>\n",
    "  <li class=chn>世界</li>\n",
    "  <li class=chn>你好</li>\n",
    "</ul>'''\n",
    "bs=BeautifulSoup(text)\n",
    "bs.select('li.chn')[1]"
   ]
  },
  {
   "cell_type": "markdown",
   "metadata": {},
   "source": [
    "#### 2.如果seleniun的find_xxx返回一个element，但是element.text获取文本为空，该如何进一步处理？"
   ]
  },
  {
   "cell_type": "code",
   "execution_count": null,
   "metadata": {
    "collapsed": true
   },
   "outputs": [],
   "source": [
    "获取隐藏元素的文本。可以使用element.attribute('attributeName'), 通过textContent,innerText,innerHTML等属性获取。\n",
    "innerHTML会返回元素的内部 HTML， 包含所有的HTML标签。\n",
    "textContent和innerText只会得到文本内容，而不会包含 HTML 标签。\n",
    "textContent是 W3C 兼容的文字内容属性，但是 IE 不支持\n",
    "innerText不是 W3C DOM 的指定内容，FireFox不支持\n",
    "eg：\n",
    "self.driver.find_element_by_xpath(xpath).get_attribute(\"innerText\")"
   ]
  },
  {
   "cell_type": "markdown",
   "metadata": {},
   "source": [
    "### 代码题(共三题，每题30分)"
   ]
  },
  {
   "cell_type": "markdown",
   "metadata": {},
   "source": [
    "#### 1.利用scrapy框架代码抓取https://sh.lianjia.com/ershoufang/changning/ \n",
    "\n",
    "前5页数据，   \n",
    " - 保留以下字段：信息链接、标题，单价、面积和总价。   \n",
    " - 去除面积50平方以下和单价9万以上。   \n",
    " - 数据以csv格式保存。   \n",
    " - 上传zip项目代码，确保scrapy crawl lianjia可以立即执行。"
   ]
  },
  {
   "cell_type": "markdown",
   "metadata": {
    "collapsed": true
   },
   "source": [
    "***\n",
    "Smirk Cao\n",
    "* 这个过滤条件可以考虑放在pipeline中做。 -5"
   ]
  },
  {
   "cell_type": "markdown",
   "metadata": {},
   "source": [
    "#### 2.使用scrapy实现豆瓣用户名密码登陆（包括验证码，手工输入登录信息）并获取豆瓣首页热门话题的标题和浏览人数。"
   ]
  },
  {
   "cell_type": "markdown",
   "metadata": {
    "collapsed": true
   },
   "source": [
    "***\n",
    "Smirk Cao\n",
    "* 学霸的时间是挤得\n",
    "* 你这个parse函数里面没有添加内容，导致scrapy在run的时候加载douban.py出错，所以模板里面定义一个空函数的时候，后面都会跟一个pass\n",
    "* 后面加油\n",
    "* -15\n",
    "***\n",
    "没时间做了。。。"
   ]
  },
  {
   "cell_type": "markdown",
   "metadata": {},
   "source": [
    "#### 3.获取页面http://www.loewe.com/int/zh_CN/  女士系列/丝巾全部商品链接数据   \n",
    "- （注意，必须展开页面）\n",
    "\n",
    "***\n",
    "Smirk Cao\n",
    "* 没处理下拉刷新-5\n"
   ]
  },
  {
   "cell_type": "code",
   "execution_count": 11,
   "metadata": {},
   "outputs": [
    {
     "name": "stdout",
     "output_type": "stream",
     "text": [
      "http://www.loewe.com/int/en/women/scarves-and-shawls/90x90-scarf-phones/918.18.012-9990.html?cgid=w_scarves_shawls\n",
      "http://www.loewe.com/int/en/women/scarves-and-shawls/90x90-scarf-hello-loewe/918.18.028-5109.html?cgid=w_scarves_shawls\n",
      "http://www.loewe.com/int/en/women/scarves-and-shawls/140x140-scarf-fruits/918.18.062-9990.html?cgid=w_scarves_shawls\n",
      "http://www.loewe.com/int/en/women/scarves-and-shawls/140x140-scarf-patchw-anagram/918.18.014-7316.html?cgid=w_scarves_shawls\n",
      "http://www.loewe.com/int/en/women/scarves-and-shawls/140x140-shawl-anagram/918.18.018-5110.html?cgid=w_scarves_shawls\n",
      "http://www.loewe.com/int/en/women/scarves-and-shawls/140x140-scarf-bleached/918.18.060-5118.html?cgid=w_scarves_shawls\n",
      "http://www.loewe.com/int/en/women/scarves-and-shawls/90x90-anagram-all-over-scarf/915.15.097-7143.html?cgid=w_scarves_shawls\n",
      "http://www.loewe.com/int/en/women/scarves-and-shawls/45x200-anagram-in-lines-scarf/915.15.202-4985.html?cgid=w_scarves_shawls\n",
      "http://www.loewe.com/int/en/women/scarves-and-shawls/45x200-anagram-in-lines-scarf/915.15.202-5387.html?cgid=w_scarves_shawls\n",
      "http://www.loewe.com/int/en/women/scarves-and-shawls/140x140-scarf-flower-on-stripe/918.18.005-5100.html?cgid=w_scarves_shawls\n",
      "http://www.loewe.com/int/en/women/scarves-and-shawls/90x90-scarf-shelves/918.18.010-9990.html?cgid=w_scarves_shawls\n",
      "http://www.loewe.com/int/en/women/scarves-and-shawls/140x140-shawl-anagram/918.18.019-2108.html?cgid=w_scarves_shawls\n",
      "http://www.loewe.com/int/en/women/scarves-and-shawls/140x140-scarf-flower-on-stripe/918.18.005-7140.html?cgid=w_scarves_shawls\n",
      "http://www.loewe.com/int/en/women/scarves-and-shawls/90x90-scarf-roses-anagram/918.18.004-2102.html?cgid=w_scarves_shawls\n",
      "http://www.loewe.com/int/en/women/scarves-and-shawls/140x140-scarf-patchw-anagram/918.18.014-4985.html?cgid=w_scarves_shawls\n",
      "http://www.loewe.com/int/en/women/scarves-and-shawls/140x140-shawl-anagram/918.18.019-5137.html?cgid=w_scarves_shawls\n",
      "http://www.loewe.com/int/en/women/scarves-and-shawls/70x200-scarf-flower-on-stripe/918.18.068-5100.html?cgid=w_scarves_shawls\n",
      "http://www.loewe.com/int/en/women/scarves-and-shawls/70x200-shawl-shelves/918.18.023-9990.html?cgid=w_scarves_shawls\n",
      "http://www.loewe.com/int/en/women/scarves-and-shawls/70x200-scarf-anagram/918.18.022-5110.html?cgid=w_scarves_shawls\n",
      "http://www.loewe.com/int/en/women/scarves-and-shawls/140x140-shawl-anagram/918.18.019-2147.html?cgid=w_scarves_shawls\n",
      "http://www.loewe.com/int/en/women/scarves-and-shawls/140x140-shawl-anagram/918.18.018-2140.html?cgid=w_scarves_shawls\n",
      "http://www.loewe.com/int/en/women/scarves-and-shawls/45x200-anagram-in-lines-scarf/915.15.202-7170.html?cgid=w_scarves_shawls\n",
      "http://www.loewe.com/int/en/women/scarves-and-shawls/45x200-damero-scarf/916.16.007-7140.html?cgid=w_scarves_shawls\n",
      "http://www.loewe.com/int/en/women/scarves-and-shawls/45x200-damero-scarf/916.16.007-5130.html?cgid=w_scarves_shawls\n",
      "http://www.loewe.com/int/en/women/scarves-and-shawls/45x200-anagram-in-lines-scarf/915.15.202-3170.html?cgid=w_scarves_shawls\n",
      "http://www.loewe.com/int/en/women/scarves-and-shawls/50x180-scarf-monogram/925.25.147-7440.html?cgid=w_scarves_shawls\n",
      "http://www.loewe.com/int/en/women/scarves-and-shawls/90x90-anagram-all-over-scarf/915.15.097-7170.html?cgid=w_scarves_shawls\n",
      "http://www.loewe.com/int/en/women/scarves-and-shawls/45x200-scarf-anagram-jacquard/915.15.001-1130.html?cgid=w_scarves_shawls\n",
      "http://www.loewe.com/int/en/women/scarves-and-shawls/140x140-scarf-hello-anagram/918.18.063-2205.html?cgid=w_scarves_shawls\n",
      "http://www.loewe.com/int/en/women/scarves-and-shawls/70x200-scarf-anagram/918.18.022-2140.html?cgid=w_scarves_shawls\n",
      "http://www.loewe.com/int/en/women/scarves-and-shawls/140x140-scarf-patchwork-all/918.18.074-9990.html?cgid=w_scarves_shawls\n"
     ]
    }
   ],
   "source": [
    "import requests\n",
    "from bs4 import BeautifulSoup\n",
    "baseUrl = 'http://www.loewe.com'\n",
    "response=requests.get('http://www.loewe.com/int/zh_CN/%E5%A5%B3%E5%A3%AB%E7%B3%BB%E5%88%97/%E4%B8%9D%E5%B7%BE')\n",
    "bs = BeautifulSoup(response.text,'html5lib')\n",
    "while True:\n",
    "    try:\n",
    "        if bs.select('#primary > div.search-result-options > div > div.pagination.pagination-mobile > a')[0].text.strip()=='Load more':\n",
    "            u = bs.select('#primary > div.search-result-options > div > div.pagination.pagination-mobile > a')[0].get('href') \n",
    "            response=requests.get(u)\n",
    "            bs = BeautifulSoup(response.text,'html5lib')\n",
    "    except:\n",
    "        break\n",
    "\n",
    "url=[]\n",
    "for i in  bs.select('figure > a.thumb-link.js-pclick-event'):\n",
    "    url.append(baseUrl+i.get('href'))\n",
    "print('\\n'.join(url))"
   ]
  },
  {
   "cell_type": "markdown",
   "metadata": {},
   "source": [
    "### 本周课程意见反馈(10分送分项，非必答)\n",
    "- 请同学围绕以下两点进行回答：\n",
    "- 自身总结：请您对您自己在本周课程的学习，收获，技能掌握等方面进行一次总结 ，包括自身在哪些方面存在哪些不足，欠缺，困惑。作为将来回顾学习路径时的依据。\n",
    "- 课程反馈：也可以就知识点，进度，难易度，教学方式，考试方式等等进行意见反馈，督促我们进行更有效的改进。\n"
   ]
  },
  {
   "cell_type": "markdown",
   "metadata": {
    "collapsed": true
   },
   "source": [
    "收获：学会了基本的爬虫方法\n",
    "不足：scrapy学不好，还是不能很了解其中的框架结构\n",
    "反馈：希望可以多放一些例子啊，经典例子，可以录成一些比较小的视频，简单介绍，让我们多看多学习一下规范的代码\n",
    "***\n",
    "Smirk Cao\n",
    "Scrapy可以看官方的文档，里面有讲架构\n",
    "https://doc.scrapy.org/en/latest/topics/architecture.html\n",
    "\n"
   ]
  },
  {
   "cell_type": "markdown",
   "metadata": {
    "collapsed": true
   },
   "source": []
  }
 ],
 "metadata": {
  "kernelspec": {
   "display_name": "Python 3",
   "language": "python",
   "name": "python3"
  },
  "language_info": {
   "codemirror_mode": {
    "name": "ipython",
    "version": 3
   },
   "file_extension": ".py",
   "mimetype": "text/x-python",
   "name": "python",
   "nbconvert_exporter": "python",
   "pygments_lexer": "ipython3",
   "version": "3.6.3"
  }
 },
 "nbformat": 4,
 "nbformat_minor": 2
}
