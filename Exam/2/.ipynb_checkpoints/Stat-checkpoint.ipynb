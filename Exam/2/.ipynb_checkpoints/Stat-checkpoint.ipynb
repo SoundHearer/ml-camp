{
 "cells": [
  {
   "cell_type": "code",
   "execution_count": 8,
   "metadata": {},
   "outputs": [
    {
     "name": "stdout",
     "output_type": "stream",
     "text": [
      "BaiXin\n",
      "CaoZijian\n",
      "ChenYimeng\n",
      "Daowei\n",
      "DengJia_exam2.zip\n",
      "HuBaoyin\n",
      "LiDongdong\n",
      "LiJianqi\n",
      "LiMeng\n",
      "Liaoying\n",
      "LinShupei.rar\n",
      "Liruyi\n",
      "PengZhixiong\n",
      "PiZhihui\n",
      "QianFeng\n",
      "Stat.ipynb\n",
      "SunMingmin\n",
      "WangXi\n",
      "YangJiaMing\n",
      "YeChengyi\n",
      "ZhangYongtao\n",
      "ZhaoxingChen\n",
      "lisijia\n",
      "shiguorui\n",
      "stat.txt\n",
      "yangzhiming\n",
      "zhangdongxv\n",
      "zhouxinlin\n"
     ]
    }
   ],
   "source": [
    "# import os\n",
    "# papers = os.listdir()\n",
    "# with open('stat.txt','w') as f:\n",
    "#     for paper in sorted(papers):\n",
    "#         if paper[0] == '.':\n",
    "#             pass\n",
    "#         else:\n",
    "#             print(paper)\n",
    "#             f.write(paper + '\\n')"
   ]
  },
  {
   "cell_type": "code",
   "execution_count": null,
   "metadata": {
    "collapsed": true
   },
   "outputs": [],
   "source": []
  }
 ],
 "metadata": {
  "kernelspec": {
   "display_name": "Python 3",
   "language": "python",
   "name": "python3"
  },
  "language_info": {
   "codemirror_mode": {
    "name": "ipython",
    "version": 3
   },
   "file_extension": ".py",
   "mimetype": "text/x-python",
   "name": "python",
   "nbconvert_exporter": "python",
   "pygments_lexer": "ipython3",
   "version": "3.5.2"
  }
 },
 "nbformat": 4,
 "nbformat_minor": 2
}
