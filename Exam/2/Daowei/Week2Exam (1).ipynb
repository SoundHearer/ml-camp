{
 "cells": [
  {
   "cell_type": "markdown",
   "metadata": {},
   "source": [
    "## 七月在线机器学习实训营三期第二周(数据抓取)考试\n",
    "#### 考试说明:\n",
    "- 起止时间：请同学在2018年2月2日至2月4日期间完成，最晚提交时间本周日（2月4日24时之前）结束，<b>逾期不接受补考,该考试分数计入平时成绩</b>\n",
    "- 考试方式：请同学<font color=red><b>拷贝</b></font>该试卷至自己姓名的目录后，将文件更名为同学姓名拼音-exam2后，进行作答。例如wangwei-exam2\n",
    "- 提交格式：请同学新建自己姓名全拼的文件夹，将该试卷，zip文件等相关考试文件，放置此目录下。将该目录<b>移动</b>至/0.Teacher/Exam/2/目录下\n",
    "- 注意事项：为确保同学们真正了解自身对本周课程的掌握程度，<font color=red><b>请勿翻阅，移动，更改</b></font>其它同学试卷。如发现按0分处理\n",
    "- 请同学在下方同学姓名处填写自己的姓名，批改人和最终得分不用填写"
   ]
  },
  {
   "cell_type": "markdown",
   "metadata": {},
   "source": [
    "- 同学姓名:<u>(王魁武)</u>  \n",
    "- 批改人：林老师\n",
    "- 最终得分: 75分"
   ]
  },
  {
   "cell_type": "markdown",
   "metadata": {},
   "source": [
    "### 简答题 (共两题，每题5分)"
   ]
  },
  {
   "cell_type": "markdown",
   "metadata": {},
   "source": [
    "#### 1.请使用BeautifulSoup定位到以下html代码段内容是“你好”的li标签？\n",
    "```\n",
    "<ul>\n",
    "  <li class=eng>Hello</li>\n",
    "  <li class=eng>World</li>\n",
    "</ul>\n",
    "<ul>\n",
    "  <li class=chn>世界</li>\n",
    "  <li class=chn>你好</li>\n",
    "</ul>\n",
    "```"
   ]
  },
  {
   "cell_type": "code",
   "execution_count": 12,
   "metadata": {},
   "outputs": [
    {
     "name": "stdout",
     "output_type": "stream",
     "text": [
      "你好\n"
     ]
    }
   ],
   "source": [
    "from bs4 import BeautifulSoup\n",
    "html='''\n",
    "<ul>\n",
    "  <li class=eng>Hello</li>\n",
    "  <li class=eng>World</li>\n",
    "</ul>\n",
    "<ul>\n",
    "  <li class=chn>世界</li>\n",
    "  <li class=chn>你好</li>\n",
    "</ul>\n",
    "'''\n",
    "bs=BeautifulSoup(html,'html5lib')\n",
    "rows=bs.select('ul > li')\n",
    "for i in rows:\n",
    "    if i.text=='你好':\n",
    "        sr1=i.text\n",
    "print(sr1)"
   ]
  },
  {
   "cell_type": "markdown",
   "metadata": {},
   "source": [
    "#### 2.如果seleniun的find_xxx返回一个element，但是element.text获取文本为空，该如何进一步处理？"
   ]
  },
  {
   "cell_type": "code",
   "execution_count": null,
   "metadata": {
    "collapsed": true
   },
   "outputs": [],
   "source": [
    "if element:\n",
    "    return element\n",
    "else:\n",
    "    element=element.value.split( )[i]\n",
    "print(element)\n",
    "\n",
    "# 林老师：用innerHTML获取含html标签的文本再过滤处理，-5分"
   ]
  },
  {
   "cell_type": "markdown",
   "metadata": {},
   "source": [
    "### 代码题(共三题，每题30分)"
   ]
  },
  {
   "cell_type": "markdown",
   "metadata": {},
   "source": [
    "#### 1.利用scrapy框架代码抓取https://sh.lianjia.com/ershoufang/changning/ \n",
    "\n",
    "前5页数据，   \n",
    " - 保留以下字段：信息链接、标题，单价、面积和总价。   \n",
    " - 去除面积50平方以下和单价9万以上。   \n",
    " - 数据以csv格式保存。   \n",
    " - 上传zip项目代码，确保scrapy crawl lianjia可以立即执行。"
   ]
  },
  {
   "cell_type": "code",
   "execution_count": 26,
   "metadata": {},
   "outputs": [
    {
     "ename": "NameError",
     "evalue": "name 'model' is not defined",
     "output_type": "error",
     "traceback": [
      "\u001b[1;31m---------------------------------------------------------------------------\u001b[0m",
      "\u001b[1;31mNameError\u001b[0m                                 Traceback (most recent call last)",
      "\u001b[1;32m<ipython-input-26-fe5520f835e3>\u001b[0m in \u001b[0;36m<module>\u001b[1;34m()\u001b[0m\n\u001b[0;32m     66\u001b[0m \u001b[0mdb\u001b[0m\u001b[1;33m=\u001b[0m\u001b[0msqlite3\u001b[0m\u001b[1;33m.\u001b[0m\u001b[0mconnect\u001b[0m\u001b[1;33m(\u001b[0m\u001b[1;34m'lianjia.db'\u001b[0m\u001b[1;33m)\u001b[0m\u001b[1;33m\u001b[0m\u001b[0m\n\u001b[0;32m     67\u001b[0m \u001b[1;33m\u001b[0m\u001b[0m\n\u001b[1;32m---> 68\u001b[1;33m \u001b[1;32mclass\u001b[0m \u001b[0mProduct\u001b[0m\u001b[1;33m(\u001b[0m\u001b[0mmodel\u001b[0m\u001b[1;33m)\u001b[0m\u001b[1;33m:\u001b[0m\u001b[1;33m\u001b[0m\u001b[0m\n\u001b[0m\u001b[0;32m     69\u001b[0m     \u001b[0murl\u001b[0m\u001b[1;33m=\u001b[0m\u001b[0mTextField\u001b[0m\u001b[1;33m(\u001b[0m\u001b[1;33m)\u001b[0m\u001b[1;33m\u001b[0m\u001b[0m\n\u001b[0;32m     70\u001b[0m     \u001b[0mtitle\u001b[0m\u001b[1;33m=\u001b[0m\u001b[0mTextField\u001b[0m\u001b[1;33m(\u001b[0m\u001b[1;33m)\u001b[0m\u001b[1;33m\u001b[0m\u001b[0m\n",
      "\u001b[1;31mNameError\u001b[0m: name 'model' is not defined"
     ]
    }
   ],
   "source": [
    "# -*- coding: utf-8 -*-\n",
    "import scrapy\n",
    "\n",
    "class LianjiaSpider(scrapy.Spider):\n",
    "    name = 'lianjia'\n",
    "    allowed_domains = ['lianjia.com']\n",
    "    start_urls = ['https://sh.lianjia.com/ershoufang/changning/']\n",
    "    pages=0\n",
    "\n",
    "    def parse(self,response):\n",
    "        text=response.text\n",
    "        bs=BeautifulSoup(text,'html5lib')\n",
    "        bs1=bs.select('ul.sellListContent > li')\n",
    "        for i in bs1:\n",
    "            product=i.selector('div.info clear')\n",
    "            url=product.selector('div.title > a ').get('href')\n",
    "            title=product.selector('div.title > a ').text.strip()\n",
    "            area=product.selector('div.address > div').text.strip('|')[2]\n",
    "            total_price=product.selector('div.priceInfo > div.totalPrice > span').text.strip()\n",
    "            unit_price=product.selector('div.priceInfo > div.unitPrice >span').text.strip()\n",
    "            yield{'url':url,\n",
    "                  'title':title,\n",
    "                  'unit_price':unit_price,\n",
    "                  'area':area,\n",
    "                  'total_price':total_price}\n",
    "            LianjiaSpider.pages+=1\n",
    "            if LianjiaSpider.parse>=5:\n",
    "                return\n",
    "            pages=bs.select('page-box house-lst-page-box > a')\n",
    "            next_page=pages[-1]\n",
    "            if next_page.text.strip()=='下一页':\n",
    "                yield scrapy.Requsest(next_page.get('href').strip(),callback=self.parse)\n",
    "                \n",
    "\n",
    "# -*- coding: utf-8 -*-\n",
    "\n",
    "# Define your item pipelines here\n",
    "#\n",
    "# Don't forget to add your pipeline to the ITEM_PIPELINES setting\n",
    "# See: http://doc.scrapy.org/en/latest/topics/item-pipeline.html\n",
    "\n",
    "\n",
    "class Data0204Pipeline(object):\n",
    "    def process_item(self, item, spider):\n",
    "        return item\n",
    "\n",
    "class AreaFilter:\n",
    "    def process_item(self,item,spider):\n",
    "        if item and spider.name=='lianjia':\n",
    "            if item['area']>=50:\n",
    "                return item\n",
    "        else:\n",
    "            return item\n",
    "        \n",
    "class UnitPriceFilter:\n",
    "    def prosess_item(self,item,spider):\n",
    "        if item and spider.name=='lianjia':\n",
    "            if item['unit_price']<90000:\n",
    "                return item\n",
    "        else:\n",
    "            return item\n",
    "        \n",
    "import datetime as dt\n",
    "import sqlite3 # 这里应该是from peewee import *，不然就要用默认的sqlite库操作，有区别的，-5分。\n",
    "\n",
    "db=sqlite3.connect('lianjia.db')\n",
    "\n",
    "class Product(model):\n",
    "    url=TextField()\n",
    "    title=TextField()\n",
    "    unit_price=TextField()\n",
    "    area=TextField()\n",
    "    total=TextField()\n",
    "    updated_at=DateTimeField(default=datetime.now())\n",
    "    class Meta:\n",
    "        database=db\n",
    "        \n",
    "class LianjiaSave:\n",
    "    def open_spider(self,spider):\n",
    "        if spider.name=='lianjia':\n",
    "            db.create_tables([Product],safe=true)\n",
    "            \n",
    "    def process_item(self,item,spider):\n",
    "        if item and spider.name=='lianjia':\n",
    "            product=Product()\n",
    "            product.url=item['url']\n",
    "            product.title=item['title']\n",
    "            product.unit_price=item['unit_price']\n",
    "            product.area=item['area']\n",
    "            product.total_price=item['total_price']\n",
    "            "
   ]
  },
  {
   "cell_type": "markdown",
   "metadata": {},
   "source": [
    "#### 2.使用scrapy实现豆瓣用户名密码登陆（包括验证码，手工输入登录信息）并获取豆瓣首页热门话题的标题和浏览人数。"
   ]
  },
  {
   "cell_type": "code",
   "execution_count": 27,
   "metadata": {
    "collapsed": true
   },
   "outputs": [],
   "source": [
    "# -*- coding: utf-8 -*-\n",
    "import scrapy,urllib,re\n",
    "from scrapy.http import Request,FormRequest\n",
    "\n",
    "class DoubanSpider(scrapy.Spider):\n",
    "    name='DouBan'\n",
    "    allowed_domains =['douban.com']\n",
    "    #start_urls = ['http://douban.com/']\n",
    "    header={'User-Agent':'Mozilla/5.0 (Windows NT 6.1; WOW64) AppleWebKit/537.36 (KHTML, like Gecko) Chrome/58.0.3029.110 Safari/537.36 SE 2.X MetaSr 1.0'} #供登录模拟使用\n",
    "    def start_requests(self):\n",
    "        url='https://www.douban.com/accounts/login'\n",
    "        return [Request(url=url,meta={'cookiejar':1},callback=self.parse)]\n",
    "\n",
    "    def parse(self, response):\n",
    "        text=response.text\n",
    "        bs=BeautifulSoup(text,'html5lib')\n",
    "        captcha=bs.select('img#captcha_image') #获取验证码图片的链接\n",
    "        print(captcha)\n",
    "        if captcha:\n",
    "            captcha_value=input('请输入验证码：')\n",
    "            data={\n",
    "                \"form_email\": \"328716930@qq.com\",\n",
    "                \"form_password\": \"abcd1234\",\n",
    "                \"captcha-solution\": captcha_value,\n",
    "            }\n",
    "        else:\n",
    "            print('无验证码')\n",
    "            data={\n",
    "                \"form_email\": \"328716930@qq.com\",\n",
    "                \"form_password\": \"abcd1234\",\n",
    "            }\n",
    "    def get_content(self,response):\n",
    "        text=response.text\n",
    "        bs=BeautifulSoup(text,'html5lib')\n",
    "        title=bs.select('div#db-nav-sns > div > div > div.nav-items > ul > li')\n",
    "        if '我的豆瓣' in title:\n",
    "            print('登录成功')\n",
    "            hot_issue=bs.select('div.mod > ul > li.rec_topics')\n",
    "            for i in hot_issue:\n",
    "                print(i.selector('a').text.strip())\n",
    "                print(i.selector('span').text.strip())\n",
    "        else:\n",
    "            print('登录失败')\n"
   ]
  },
  {
   "cell_type": "markdown",
   "metadata": {},
   "source": [
    "#### 3.获取页面http://www.loewe.com/int/zh_CN/  女士系列/丝巾全部商品链接数据   \n",
    "- （注意，必须展开页面）\n"
   ]
  },
  {
   "cell_type": "code",
   "execution_count": null,
   "metadata": {
    "collapsed": true
   },
   "outputs": [],
   "source": [
    "# 林老师，没有完成-15分。"
   ]
  },
  {
   "cell_type": "markdown",
   "metadata": {},
   "source": [
    "### 本周课程意见反馈(10分送分项，非必答)\n",
    "- 请同学围绕以下两点进行回答：\n",
    "- 自身总结：请您对您自己在本周课程的学习，收获，技能掌握等方面进行一次总结 ，包括自身在哪些方面存在哪些不足，欠缺，困惑。作为将来回顾学习路径时的依据。\n",
    "- 课程反馈：也可以就知识点，进度，难易度，教学方式，考试方式等等进行意见反馈，督促我们进行更有效的改进。\n"
   ]
  },
  {
   "cell_type": "markdown",
   "metadata": {
    "collapsed": true
   },
   "source": [
    "自身总结：先诉诉苦吧，作为零基础的同学，这周学起来蛮吃力的，收获不小，但差距更大，对爬虫掌握的还很不熟练，或者说只是有了个大体的概念吧，还处于入门级别吧，我觉得主要是因为没有一个系统性的认识，或许也是因为自己的基础太薄弱了吧。接下来只能不断的练习练习练习了！\n",
    "说点浅见，如有不恰当的地方请见谅：我觉得老师一开始讲课的内容过于发散，我认为应该从基础开始讲一下比较好，先介绍框架，然后由某一点入手，再练成线，最后是面，最最后才是发散思维。一个循序渐进的系统性教程更为合适一些吧！"
   ]
  }
 ],
 "metadata": {
  "kernelspec": {
   "display_name": "Python 3",
   "language": "python",
   "name": "python3"
  },
  "language_info": {
   "codemirror_mode": {
    "name": "ipython",
    "version": 3
   },
   "file_extension": ".py",
   "mimetype": "text/x-python",
   "name": "python",
   "nbconvert_exporter": "python",
   "pygments_lexer": "ipython3",
   "version": "3.5.2"
  }
 },
 "nbformat": 4,
 "nbformat_minor": 2
}
