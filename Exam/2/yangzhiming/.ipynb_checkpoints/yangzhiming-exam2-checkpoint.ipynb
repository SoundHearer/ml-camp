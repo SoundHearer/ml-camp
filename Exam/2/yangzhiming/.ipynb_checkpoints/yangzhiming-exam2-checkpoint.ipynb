{
 "cells": [
  {
   "cell_type": "markdown",
   "metadata": {},
   "source": [
    "## 七月在线机器学习实训营三期第二周(数据抓取)考试\n",
    "#### 考试说明:\n",
    "- 起止时间：请同学在2018年2月2日至2月4日期间完成，最晚提交时间本周日（2月4日24时之前）结束，<b>逾期不接受补考,该考试分数计入平时成绩</b>\n",
    "- 考试方式：请同学<font color=red><b>拷贝</b></font>该试卷至自己姓名的目录后，将文件更名为同学姓名拼音-exam2后，进行作答。例如wangwei-exam2\n",
    "- 提交格式：请同学新建自己姓名全拼的文件夹，将该试卷，zip文件等相关考试文件，放置此目录下。将该目录<b>移动</b>至/0.Teacher/Exam/2/目录下\n",
    "- 注意事项：为确保同学们真正了解自身对本周课程的掌握程度，<font color=red><b>请勿翻阅，移动，更改</b></font>其它同学试卷。如发现按0分处理\n",
    "- 请同学在下方同学姓名处填写自己的姓名，批改人和最终得分不用填写"
   ]
  },
  {
   "cell_type": "markdown",
   "metadata": {},
   "source": [
    "- 同学姓名:<u>杨志明</u>  \n",
    "- 批改人：@杜老师   \n",
    "- 最终得分:96"
   ]
  },
  {
   "cell_type": "markdown",
   "metadata": {},
   "source": [
    "### 简答题 (共两题，每题5分)"
   ]
  },
  {
   "cell_type": "markdown",
   "metadata": {},
   "source": [
    "#### 1.请使用BeautifulSoup定位到以下html代码段内容是“你好”的li标签？\n",
    "```\n",
    "<ul>\n",
    "  <li class=eng>Hello</li>\n",
    "  <li class=eng>World</li>\n",
    "</ul>\n",
    "<ul>\n",
    "  <li class=chn>世界</li>\n",
    "  <li class=chn>你好</li>\n",
    "</ul>\n",
    "```"
   ]
  },
  {
   "cell_type": "code",
   "execution_count": 3,
   "metadata": {},
   "outputs": [
    {
     "name": "stdout",
     "output_type": "stream",
     "text": [
      "你好\n",
      "你好\n",
      "你好\n",
      "你好\n"
     ]
    }
   ],
   "source": [
    "from bs4 import BeautifulSoup\n",
    "import requests\n",
    "res = \"\"\"\n",
    "<ul>\n",
    "  <li class=eng>Hello</li>\n",
    "  <li class=eng>World</li>\n",
    "</ul>\n",
    "<ul>\n",
    "  <li class=chn>世界</li>\n",
    "  <li class=chn>你好</li>\n",
    "</ul>\n",
    "\n",
    "\"\"\"\n",
    "soup = BeautifulSoup(res,'lxml')\n",
    "#通过类名来查找\n",
    "print(soup.find_all(class_=\"chn\")[1].text)\n",
    "#CSS选择器\n",
    "print(soup.select('.chn')[1].text)\n",
    "print(soup.select('li')[3].text)\n",
    "print(soup.select('li[class=\"chn\"]')[1].text)"
   ]
  },
  {
   "cell_type": "markdown",
   "metadata": {},
   "source": [
    "#### 2.如果seleniun的find_xxx返回一个element，但是element.text获取文本为空，该如何进一步处理？"
   ]
  },
  {
   "cell_type": "code",
   "execution_count": 2,
   "metadata": {
    "collapsed": true
   },
   "outputs": [],
   "source": [
    "#首先，应该进行代码安全设置，进行异常处理\n",
    "#可以使用element.get_attribute('innerHTML')处理"
   ]
  },
  {
   "cell_type": "markdown",
   "metadata": {},
   "source": [
    "### 代码题(共三题，每题30分)"
   ]
  },
  {
   "cell_type": "markdown",
   "metadata": {},
   "source": [
    "#### 1.利用scrapy框架代码抓取https://sh.lianjia.com/ershoufang/changning/ \n",
    "\n",
    "前5页数据，   \n",
    " - 保留以下字段：信息链接、标题，单价、面积和总价。   \n",
    " - 去除面积50平方以下和单价9万以上。   \n",
    " - 数据以csv格式保存。   \n",
    " - 上传zip项目代码，确保scrapy crawl lianjia可以立即执行。"
   ]
  },
  {
   "cell_type": "code",
   "execution_count": 43,
   "metadata": {
    "collapsed": true
   },
   "outputs": [],
   "source": [
    "#本题scrapy已经打包为 zip，文件名为：lianjia.rar,老师下载运行即可，谢谢老师"
   ]
  },
  {
   "cell_type": "markdown",
   "metadata": {},
   "source": [
    "#### 2.使用scrapy实现豆瓣用户名密码登陆（包括验证码，手工输入登录信息）并获取豆瓣首页热门话题的标题和浏览人数。"
   ]
  },
  {
   "cell_type": "code",
   "execution_count": null,
   "metadata": {
    "collapsed": true
   },
   "outputs": [],
   "source": [
    "# 代码已经打包在 本目录的  douban.rar  中,下载运行即可，谢谢老师"
   ]
  },
  {
   "cell_type": "markdown",
   "metadata": {},
   "source": [
    "#### 3.获取页面http://www.loewe.com/int/zh_CN/  女士系列/丝巾全部商品链接数据   \n",
    "- （注意，必须展开页面）\n"
   ]
  },
  {
   "cell_type": "code",
   "execution_count": 1,
   "metadata": {},
   "outputs": [
    {
     "name": "stdout",
     "output_type": "stream",
     "text": [
      "http://www.loewe.com/usa/en/women/scarves-and-shawls/silk/int/en/women/scarves-and-shawls/silk/90x90-scarf-hello-loewe/918.18.028-5109.html?cgid=w_silk\n",
      "#######################33\n",
      "http://www.loewe.com/usa/en/women/scarves-and-shawls/wool-and-cashmere/int/en/women/scarves-and-shawls/wool-and-cashmere/45x200-anagram-in-lines-scarf/915.15.202-4985.html?cgid=w_wool_and_cashmere\n"
     ]
    }
   ],
   "source": [
    "import requests\n",
    "from bs4 import  BeautifulSoup\n",
    "\n",
    "#两个base_url\n",
    "silk_base_url = 'http://www.loewe.com/usa/en/women/scarves-and-shawls/silk'\n",
    "wool_cashmerer_base_url = 'http://www.loewe.com/usa/en/women/scarves-and-shawls/wool-and-cashmere'\n",
    "res  = requests.get(silk_base_url)\n",
    "res.encoding='utf8'\n",
    "soup = BeautifulSoup(res.text,'lxml')  #？html5lib\n",
    "a = soup.select('figure > a.quickview-button') #精确定位\n",
    "for i in a:\n",
    "    print(silk_base_url+i.get('href'))#拼上\n",
    "    break  #太多了显示一条\n",
    "print('#######################')\n",
    "res1  = requests.get(wool_cashmerer_base_url)\n",
    "res1.encoding='utf8'\n",
    "soup = BeautifulSoup(res1.text,'lxml')\n",
    "b = soup.select('figure > a.quickview-button')\n",
    "for i in b:\n",
    "    print(wool_cashmerer_base_url+i.get('href'))\n",
    "    break  #太多了显示一条"
   ]
  },
  {
   "cell_type": "markdown",
   "metadata": {},
   "source": [
    "### 本周课程意见反馈(10分送分项，非必答)\n",
    "- 请同学围绕以下两点进行回答：\n",
    "- 自身总结：请您对您自己在本周课程的学习，收获，技能掌握等方面进行一次总结 ，包括自身在哪些方面存在哪些不足，欠缺，困惑。作为将来回顾学习路径时的依据。\n",
    "- 课程反馈：也可以就知识点，进度，难易度，教学方式，考试方式等等进行意见反馈，督促我们进行更有效的改进。\n",
    "- ------------------------------------------------------------------------------------------------------\n",
    "#### 自身总结：\n",
    "- 由于上一周加班比较多，上课时间比较紧，希望自己加强紧迫感，努力抽出时间。踏实的搞定作业和考试。\n",
    "- 收获：之前有Python基础，工作中也用Python，在一些细节之前没有注意过，这次系统的搞一搞，还是有很大的收获。\n",
    "- 不足：对自己其他方面还比较满意。\n",
    "\n",
    "#### 课程反馈：\n",
    "- 希望在各项服务上的优化 体系化，更人性，然后课程的由浅入深更加分明点；\n",
    "- 最重要的，希望大家的交流更多点，比如线下的课程提问和交流。可以帮忙组织一些小活动，比如组内的比赛，聚餐，小游戏类似的。这样的话，大家会觉得身处一个集体中，学习带劲，同时大家交流也会更多。\n",
    "- 其他方面，还不错，加油加油！\n",
    "\n",
    "- 谢谢老师的批阅！\n"
   ]
  },
  {
   "cell_type": "markdown",
   "metadata": {},
   "source": []
  },
  {
   "cell_type": "markdown",
   "metadata": {
    "collapsed": true
   },
   "source": []
  }
 ],
 "metadata": {
  "kernelspec": {
   "display_name": "Python 3",
   "language": "python",
   "name": "python3"
  },
  "language_info": {
   "codemirror_mode": {
    "name": "ipython",
    "version": 3
   },
   "file_extension": ".py",
   "mimetype": "text/x-python",
   "name": "python",
   "nbconvert_exporter": "python",
   "pygments_lexer": "ipython3",
   "version": "3.5.2"
  }
 },
 "nbformat": 4,
 "nbformat_minor": 2
}
