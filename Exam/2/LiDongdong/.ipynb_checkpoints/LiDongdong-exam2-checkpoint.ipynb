{
 "cells": [
  {
   "cell_type": "markdown",
   "metadata": {},
   "source": [
    "## 七月在线机器学习实训营三期第二周(数据抓取)考试\n",
    "#### 考试说明:\n",
    "- 起止时间：请同学在2018年2月2日至2月4日期间完成，最晚提交时间本周日（2月4日24时之前）结束，<b>逾期不接受补考,该考试分数计入平时成绩</b>\n",
    "- 考试方式：请同学<font color=red><b>拷贝</b></font>该试卷至自己姓名的目录后，将文件更名为同学姓名拼音-exam2后，进行作答。例如wangwei-exam2\n",
    "- 提交格式：请同学新建自己姓名全拼的文件夹，将该试卷，zip文件等相关考试文件，放置此目录下。将该目录<b>移动</b>至/0.Teacher/Exam/2/目录下\n",
    "- 注意事项：为确保同学们真正了解自身对本周课程的掌握程度，<font color=red><b>请勿翻阅，移动，更改</b></font>其它同学试卷。如发现按0分处理\n",
    "- 请同学在下方同学姓名处填写自己的姓名，批改人和最终得分不用填写"
   ]
  },
  {
   "cell_type": "markdown",
   "metadata": {},
   "source": [
    "- 同学姓名:<u>(李栋栋)</u>  \n",
    "- 批改人：林老师 \n",
    "- 最终得分:78分"
   ]
  },
  {
   "cell_type": "markdown",
   "metadata": {},
   "source": [
    "### 简答题 (共两题，每题5分)"
   ]
  },
  {
   "cell_type": "markdown",
   "metadata": {},
   "source": [
    "#### 1.请使用BeautifulSoup定位到以下html代码段内容是“你好”的li标签？\n",
    "```\n",
    "<ul>\n",
    "  <li class=eng>Hello</li>\n",
    "  <li class=eng>World</li>\n",
    "</ul>\n",
    "<ul>\n",
    "  <li class=chn>世界</li>\n",
    "  <li class=chn>你好</li>\n",
    "</ul>\n",
    "```"
   ]
  },
  {
   "cell_type": "code",
   "execution_count": null,
   "metadata": {
    "collapsed": true
   },
   "outputs": [],
   "source": [
    "import requests\n",
    "from bs4 import BeautifulSoup\n",
    "from selenium import webdriver\n",
    "from selenium.webdriver.common.keys import Keys\n",
    "import time\n",
    "from selenium import webdriver\n",
    "options = webdriver.ChromeOptions() # 创建driver的参数，可选。\n",
    "# options.add_argument('--headless')\n",
    "# options.add_argument('--disable-gpu')\n",
    "# options.add_argument('--ignore-certificate-errors')\n",
    "driver = webdriver.Chrome()\n",
    "driver.get(\"http://47.94.42.241:8001/notebooks/LiDongdong/LiDongdong-exam2.ipynb\") \n",
    "time.sleep(10)\n",
    "password = browser.find_element_by_id(\"password_input\")\n",
    "password.send_keys(\"sxy-s3\")\n",
    "login_attempt = browser.find_element_by_id(\"login_submit\")\n",
    "login_attempt.submit()\n",
    "resp = requests.get('http://47.94.42.241:8001/notebooks/LiDongdong/LiDongdong-exam2.ipynb')\n",
    "\n",
    "bs = BeautifulSoup(resp.text,'html5lib')\n",
    "eleDiv = bs.select('ul > li')\n",
    "tags = ''\n",
    "for ks in eleDiv:\n",
    "    if ks.text=='你好':\n",
    "        tags = ks\n",
    "        \n",
    "# 林老师：虽然效率低了点，扣1分。"
   ]
  },
  {
   "cell_type": "markdown",
   "metadata": {},
   "source": [
    "#### 2.如果seleniun的find_xxx返回一个element，但是element.text获取文本为空，该如何进一步处理？"
   ]
  },
  {
   "cell_type": "markdown",
   "metadata": {
    "collapsed": true
   },
   "source": [
    "1、考虑该元素是否不可见或者被隐藏了，还是有可能真的不存在该元素\n",
    "public boolean doesWebElementExist(WebDriver driver, By selector)\n",
    "{ \n",
    "\n",
    "        try \n",
    "        { \n",
    "               driver.findElement(selector); \n",
    "               return true; \n",
    "        } \n",
    "        catch (NoSuchElementException e) \n",
    "        { \n",
    "                return false; \n",
    "        } \n",
    "}\n",
    "2、如果通过如上的方式仍旧找不到该元素，则此元素应该就是在界面上不存在，考虑是否写错或者是其他技术手段有问题\n",
    "3、有时候在定位的时候，页面会默认给页面添加一些元素，比如tbody等，但是这些元素在实际网页中并不存在，可以考虑把这些实际不存在的element进行测试，看是否存在，如果存在再重写一次find语句\n",
    "\n",
    "# 林老师：用innerHTML获取含html标签的文本再过滤处理，不过写了这么多，就扣1分。"
   ]
  },
  {
   "cell_type": "markdown",
   "metadata": {},
   "source": [
    "### 代码题(共三题，每题30分)"
   ]
  },
  {
   "cell_type": "markdown",
   "metadata": {},
   "source": [
    "#### 1.利用scrapy框架代码抓取https://sh.lianjia.com/ershoufang/changning/ \n",
    "\n",
    "前5页数据，   \n",
    " - 保留以下字段：信息链接、标题，单价、面积和总价。   \n",
    " - 去除面积50平方以下和单价9万以上。   \n",
    " - 数据以csv格式保存。   \n",
    " - 上传zip项目代码，确保scrapy crawl lianjia可以立即执行。"
   ]
  },
  {
   "cell_type": "code",
   "execution_count": 5,
   "metadata": {
    "collapsed": true
   },
   "outputs": [],
   "source": [
    "#代码内部部分，打包后代码见压缩包，执行代码在压缩包内\n",
    "import scrapy\n",
    "from bs4 import BeautifulSoup\n",
    "import requests\n",
    "import pandas as pd\n",
    "from pandas import DataFrame,Series\n",
    "name = 'lianjia'\n",
    "url = 'https://sh.lianjia.com/ershoufang/changning/'\n",
    "allowed_domains = ['https://sh.lianjia.com/ershoufang/changning/']\n",
    "start_urls = ['http://https://sh.lianjia.com/ershoufang/changning//']\n",
    "response = requests.get(url)\n",
    "text = response.text\n",
    "bs = BeautifulSoup(text,'html5lib')\n",
    "listbs = bs.select('ul.sellListContent')[0].select('div.title  > a')\n",
    "links =[]\n",
    "#得到所有房产的连接\n",
    "for lin in listbs:\n",
    "    tmp = lin.get('href')\n",
    "    links.append(tmp)\n",
    "csvFile = [['infolink','tags','priceSingle','area','priceTotal']]\n",
    "def crawls(alink):\n",
    "    for inf in links:\n",
    "        reps = requests.get(inf)\n",
    "        bss = BeautifulSoup(reps.text.encode('utf-8').decode('utf-8'),'html5lib')\n",
    "        url = inf\n",
    "        priceTol = bss.select('div.content > div.price > span.total')[0]\n",
    "        tags = bss.select('div.content > div.title > h1.main')[0]\n",
    "        area = bss.select('div.content > div.houseInfo > div.area > div.mainInfo')[0]\n",
    "        priceSingle = bss.select('div.content > div.price > div.text > div.unitPrice > span.unitPriceValue')[0]\n",
    "        areaFlg = float(area.text.split('平')[0])\n",
    "        priceSgFlg = float(priceSingle.text.split('元')[0])\n",
    "        if areaFlg<50 or priceSgFlg>90000:\n",
    "            continue\n",
    "        tmps = []\n",
    "        tmps.append(url)\n",
    "        tmps.append(tags.text)\n",
    "        tmps.append(priceSingle.text)\n",
    "        tmps.append(area.text)\n",
    "        tmps.append(priceTol.text)\n",
    "        csvFile.append(tmps)\n",
    "page1 = crawls('https://sh.lianjia.com/ershoufang/changning/')\n",
    "page2 = crawls('https://sh.lianjia.com/ershoufang/changning/pg2/')\n",
    "page3 = crawls('https://sh.lianjia.com/ershoufang/changning/pg3/')\n",
    "page4 = crawls('https://sh.lianjia.com/ershoufang/changning/pg4/')\n",
    "page5 = crawls('https://sh.lianjia.com/ershoufang/changning/pg5/')\n",
    "\n",
    "data_df = DataFrame(csvFile)\n",
    "data_df.to_csv('lianjia.csv',encoding='utf-8')\n",
    "\n",
    "# 林老师：价格面积这种解耦合到pipeline里比较好，写数据也是一样。扣5分。"
   ]
  },
  {
   "cell_type": "markdown",
   "metadata": {},
   "source": [
    "#### 2.使用scrapy实现豆瓣用户名密码登陆（包括验证码，手工输入登录信息）并获取豆瓣首页热门话题的标题和浏览人数。"
   ]
  },
  {
   "cell_type": "code",
   "execution_count": 12,
   "metadata": {},
   "outputs": [
    {
     "ename": "IndexError",
     "evalue": "list index out of range",
     "output_type": "error",
     "traceback": [
      "\u001b[0;31m---------------------------------------------------------------------------\u001b[0m",
      "\u001b[0;31mIndexError\u001b[0m                                Traceback (most recent call last)",
      "\u001b[0;32m<ipython-input-12-85c50d2a0f2f>\u001b[0m in \u001b[0;36m<module>\u001b[0;34m()\u001b[0m\n\u001b[1;32m     11\u001b[0m \u001b[0mbs\u001b[0m \u001b[0;34m=\u001b[0m \u001b[0mBeautifulSoup\u001b[0m\u001b[0;34m(\u001b[0m\u001b[0mresp\u001b[0m\u001b[0;34m.\u001b[0m\u001b[0mtext\u001b[0m\u001b[0;34m,\u001b[0m\u001b[0;34m'html5lib'\u001b[0m\u001b[0;34m)\u001b[0m\u001b[0;34m\u001b[0m\u001b[0m\n\u001b[1;32m     12\u001b[0m \u001b[0mcaptcha\u001b[0m \u001b[0;34m=\u001b[0m \u001b[0mbs\u001b[0m\u001b[0;34m.\u001b[0m\u001b[0mselect\u001b[0m\u001b[0;34m(\u001b[0m\u001b[0;34m'img#captcha_image'\u001b[0m\u001b[0;34m)\u001b[0m\u001b[0;34m\u001b[0m\u001b[0m\n\u001b[0;32m---> 13\u001b[0;31m \u001b[0mimg_url\u001b[0m \u001b[0;34m=\u001b[0m \u001b[0mcaptcha\u001b[0m\u001b[0;34m[\u001b[0m\u001b[0;36m0\u001b[0m\u001b[0;34m]\u001b[0m\u001b[0;34m.\u001b[0m\u001b[0mget\u001b[0m\u001b[0;34m(\u001b[0m\u001b[0;34m'src'\u001b[0m\u001b[0;34m)\u001b[0m\u001b[0;34m\u001b[0m\u001b[0m\n\u001b[0m\u001b[1;32m     14\u001b[0m \u001b[0mid_\u001b[0m \u001b[0;34m=\u001b[0m \u001b[0mimg_url\u001b[0m\u001b[0;34m.\u001b[0m\u001b[0msplit\u001b[0m\u001b[0;34m(\u001b[0m\u001b[0;34m'?'\u001b[0m\u001b[0;34m)\u001b[0m\u001b[0;34m[\u001b[0m\u001b[0;36m1\u001b[0m\u001b[0;34m]\u001b[0m\u001b[0;34m.\u001b[0m\u001b[0msplit\u001b[0m\u001b[0;34m(\u001b[0m\u001b[0;34m'&'\u001b[0m\u001b[0;34m)\u001b[0m\u001b[0;34m[\u001b[0m\u001b[0;36m0\u001b[0m\u001b[0;34m]\u001b[0m\u001b[0;34m.\u001b[0m\u001b[0msplit\u001b[0m\u001b[0;34m(\u001b[0m\u001b[0;34m'='\u001b[0m\u001b[0;34m)\u001b[0m\u001b[0;34m[\u001b[0m\u001b[0;36m1\u001b[0m\u001b[0;34m]\u001b[0m\u001b[0;34m\u001b[0m\u001b[0m\n\u001b[1;32m     15\u001b[0m \u001b[0mprint\u001b[0m\u001b[0;34m(\u001b[0m\u001b[0mimg_url\u001b[0m\u001b[0;34m)\u001b[0m\u001b[0;34m\u001b[0m\u001b[0m\n",
      "\u001b[0;31mIndexError\u001b[0m: list index out of range"
     ]
    }
   ],
   "source": [
    "import requests\n",
    "from bs4 import BeautifulSoup\n",
    "ua = 'Mozilla/5.0 (Windows NT 10.0; Win64; x64) AppleWebKit/537.36 (KHTML, like Gecko) Chrome/63.0.3239.132 Safari/537.36'\n",
    "headers = {'user-agent':ua}\n",
    "url_login = 'http://accounts.douban.com/login'\n",
    "session = requests.Session()\n",
    "formdata = {'redir':'http://www.douban.com',\n",
    "           'form_email':'regdzz.lin@gmail.com',\n",
    "           'form_password':'Julyedu123!'}\n",
    "resp = session.post(url_login,data=formdata,headers=headers)\n",
    "bs = BeautifulSoup(resp.text,'html5lib')\n",
    "captcha = bs.select('img#captcha_image')\n",
    "img_url = captcha[0].get('src')\n",
    "id_ = img_url.split('?')[1].split('&')[0].split('=')[1]\n",
    "print(img_url)\n",
    "text = input('请输入验证码')\n",
    "formdata['captcha-solution'] = text\n",
    "formdata['captcha-id'] = id_\n",
    "resp = session.post(url_login,data=formdata,headers=headers)\n",
    "content =  BeautifulSoup(resp.text,'html5lib')\n",
    "topic = content.select('span.topic_name > span').text\n",
    "hrefNum = content.select('li.topic_block > a').get('href')\n",
    "resp2 = requests(hrefNum)\n",
    "numsRep  =  BeautifulSoup(resp2.text,'html5lib')\n",
    "nums = numsRep.select('span#subscription-count').text\n",
    "print(\"话题:\"+topic,\"人数：\"+nums)\n",
    "\n",
    "# 林老师：没有用scrapy，扣8分。"
   ]
  },
  {
   "cell_type": "markdown",
   "metadata": {},
   "source": [
    "#### 3.获取页面http://www.loewe.com/int/zh_CN/  女士系列/丝巾全部商品链接数据   \n",
    "- （注意，必须展开页面）\n"
   ]
  },
  {
   "cell_type": "code",
   "execution_count": 27,
   "metadata": {},
   "outputs": [
    {
     "data": {
      "text/plain": [
       "['http://www.loewe.com/int/zh_CN/女士系列/丝巾/int/en/women/scarves-and-shawls/90x90-scarf-phones/918.18.012-9990.html?cgid=w_scarves_shawls',\n",
       " 'http://www.loewe.com/int/zh_CN/女士系列/丝巾/int/en/women/scarves-and-shawls/90x90-scarf-phones/918.18.012-9990.html?cgid=w_scarves_shawls',\n",
       " 'http://www.loewe.com/int/zh_CN/女士系列/丝巾/int/en/women/scarves-and-shawls/90x90-scarf-hello-loewe/918.18.028-5109.html?cgid=w_scarves_shawls',\n",
       " 'http://www.loewe.com/int/zh_CN/女士系列/丝巾/int/en/women/scarves-and-shawls/90x90-scarf-hello-loewe/918.18.028-5109.html?cgid=w_scarves_shawls',\n",
       " 'http://www.loewe.com/int/zh_CN/女士系列/丝巾/int/en/women/scarves-and-shawls/140x140-scarf-fruits/918.18.062-9990.html?cgid=w_scarves_shawls',\n",
       " 'http://www.loewe.com/int/zh_CN/女士系列/丝巾/int/en/women/scarves-and-shawls/140x140-scarf-fruits/918.18.062-9990.html?cgid=w_scarves_shawls',\n",
       " 'http://www.loewe.com/int/zh_CN/女士系列/丝巾/int/en/women/scarves-and-shawls/140x140-scarf-patchw-anagram/918.18.014-7316.html?cgid=w_scarves_shawls',\n",
       " 'http://www.loewe.com/int/zh_CN/女士系列/丝巾/int/en/women/scarves-and-shawls/140x140-scarf-patchw-anagram/918.18.014-7316.html?cgid=w_scarves_shawls',\n",
       " 'http://www.loewe.com/int/zh_CN/女士系列/丝巾/int/en/women/scarves-and-shawls/140x140-shawl-anagram/918.18.018-5110.html?cgid=w_scarves_shawls',\n",
       " 'http://www.loewe.com/int/zh_CN/女士系列/丝巾/int/en/women/scarves-and-shawls/140x140-shawl-anagram/918.18.018-5110.html?cgid=w_scarves_shawls',\n",
       " 'http://www.loewe.com/int/zh_CN/女士系列/丝巾/int/en/women/scarves-and-shawls/140x140-scarf-bleached/918.18.060-5118.html?cgid=w_scarves_shawls',\n",
       " 'http://www.loewe.com/int/zh_CN/女士系列/丝巾/int/en/women/scarves-and-shawls/140x140-scarf-bleached/918.18.060-5118.html?cgid=w_scarves_shawls',\n",
       " 'http://www.loewe.com/int/zh_CN/女士系列/丝巾/int/en/women/scarves-and-shawls/90x90-anagram-all-over-scarf/915.15.097-7143.html?cgid=w_scarves_shawls',\n",
       " 'http://www.loewe.com/int/zh_CN/女士系列/丝巾/int/en/women/scarves-and-shawls/90x90-anagram-all-over-scarf/915.15.097-7143.html?cgid=w_scarves_shawls',\n",
       " 'http://www.loewe.com/int/zh_CN/女士系列/丝巾/int/en/women/scarves-and-shawls/45x200-anagram-in-lines-scarf/915.15.202-4985.html?cgid=w_scarves_shawls',\n",
       " 'http://www.loewe.com/int/zh_CN/女士系列/丝巾/int/en/women/scarves-and-shawls/45x200-anagram-in-lines-scarf/915.15.202-4985.html?cgid=w_scarves_shawls',\n",
       " 'http://www.loewe.com/int/zh_CN/女士系列/丝巾/int/en/women/scarves-and-shawls/45x200-anagram-in-lines-scarf/915.15.202-5387.html?cgid=w_scarves_shawls',\n",
       " 'http://www.loewe.com/int/zh_CN/女士系列/丝巾/int/en/women/scarves-and-shawls/45x200-anagram-in-lines-scarf/915.15.202-5387.html?cgid=w_scarves_shawls',\n",
       " 'http://www.loewe.com/int/zh_CN/女士系列/丝巾/int/en/women/scarves-and-shawls/140x140-scarf-flower-on-stripe/918.18.005-5100.html?cgid=w_scarves_shawls',\n",
       " 'http://www.loewe.com/int/zh_CN/女士系列/丝巾/int/en/women/scarves-and-shawls/140x140-scarf-flower-on-stripe/918.18.005-5100.html?cgid=w_scarves_shawls',\n",
       " 'http://www.loewe.com/int/zh_CN/女士系列/丝巾/int/en/women/scarves-and-shawls/90x90-scarf-shelves/918.18.010-9990.html?cgid=w_scarves_shawls',\n",
       " 'http://www.loewe.com/int/zh_CN/女士系列/丝巾/int/en/women/scarves-and-shawls/90x90-scarf-shelves/918.18.010-9990.html?cgid=w_scarves_shawls',\n",
       " 'http://www.loewe.com/int/zh_CN/女士系列/丝巾/int/en/women/scarves-and-shawls/140x140-shawl-anagram/918.18.019-2108.html?cgid=w_scarves_shawls',\n",
       " 'http://www.loewe.com/int/zh_CN/女士系列/丝巾/int/en/women/scarves-and-shawls/140x140-shawl-anagram/918.18.019-2108.html?cgid=w_scarves_shawls',\n",
       " 'http://www.loewe.com/int/zh_CN/女士系列/丝巾/int/en/women/scarves-and-shawls/140x140-scarf-flower-on-stripe/918.18.005-7140.html?cgid=w_scarves_shawls',\n",
       " 'http://www.loewe.com/int/zh_CN/女士系列/丝巾/int/en/women/scarves-and-shawls/140x140-scarf-flower-on-stripe/918.18.005-7140.html?cgid=w_scarves_shawls',\n",
       " 'http://www.loewe.com/int/zh_CN/女士系列/丝巾/int/en/women/scarves-and-shawls/90x90-scarf-roses-anagram/918.18.004-2102.html?cgid=w_scarves_shawls',\n",
       " 'http://www.loewe.com/int/zh_CN/女士系列/丝巾/int/en/women/scarves-and-shawls/90x90-scarf-roses-anagram/918.18.004-2102.html?cgid=w_scarves_shawls',\n",
       " 'http://www.loewe.com/int/zh_CN/女士系列/丝巾/int/en/women/scarves-and-shawls/140x140-scarf-patchw-anagram/918.18.014-4985.html?cgid=w_scarves_shawls',\n",
       " 'http://www.loewe.com/int/zh_CN/女士系列/丝巾/int/en/women/scarves-and-shawls/140x140-scarf-patchw-anagram/918.18.014-4985.html?cgid=w_scarves_shawls']"
      ]
     },
     "execution_count": 27,
     "metadata": {},
     "output_type": "execute_result"
    }
   ],
   "source": [
    "import scrapy\n",
    "from bs4 import BeautifulSoup\n",
    "import requests\n",
    "import pandas as pd\n",
    "from pandas import DataFrame,Series\n",
    "name = 'lianjia'\n",
    "url = 'http://www.loewe.com/int/zh_CN/'\n",
    "resp = requests.get(url+'女士系列/丝巾')\n",
    "bs = BeautifulSoup(resp.text,'html5lib')\n",
    "content = bs.select('figure.product-image > a')\n",
    "inkArr = []\n",
    "for inks in content:\n",
    "    inkArr.append(url+'女士系列/丝巾'+inks.get('href'))\n",
    "inkArr\n",
    "\n",
    "# 林老师：用bs是无法动态刷新的，算完成一半功能，扣7分。"
   ]
  },
  {
   "cell_type": "markdown",
   "metadata": {},
   "source": [
    "### 本周课程意见反馈(10分送分项，非必答)\n",
    "- 请同学围绕以下两点进行回答：\n",
    "- 自身总结：请您对您自己在本周课程的学习，收获，技能掌握等方面进行一次总结 ，包括自身在哪些方面存在哪些不足，欠缺，困惑。作为将来回顾学习路径时的依据。\n",
    "- 课程反馈：也可以就知识点，进度，难易度，教学方式，考试方式等等进行意见反馈，督促我们进行更有效的改进。\n"
   ]
  },
  {
   "cell_type": "markdown",
   "metadata": {
    "collapsed": true
   },
   "source": []
  },
  {
   "cell_type": "markdown",
   "metadata": {},
   "source": [
    "自身总结：经过本周的学习，已经掌握了很多爬虫的知识，不过课程的讲解太快，有很多细节知识来不及消化，很多知识在使用的时候才发现有很多不足，希望老师在讲解的时候\n",
    "能够多用实际例子\n",
    "课程反馈：难度适中，教学方式希望通俗易懂，最好知识点要全面，并且能够有实际例子做支撑"
   ]
  },
  {
   "cell_type": "code",
   "execution_count": null,
   "metadata": {
    "collapsed": true
   },
   "outputs": [],
   "source": []
  }
 ],
 "metadata": {
  "kernelspec": {
   "display_name": "Python 3",
   "language": "python",
   "name": "python3"
  },
  "language_info": {
   "codemirror_mode": {
    "name": "ipython",
    "version": 3
   },
   "file_extension": ".py",
   "mimetype": "text/x-python",
   "name": "python",
   "nbconvert_exporter": "python",
   "pygments_lexer": "ipython3",
   "version": "3.5.2"
  }
 },
 "nbformat": 4,
 "nbformat_minor": 2
}
