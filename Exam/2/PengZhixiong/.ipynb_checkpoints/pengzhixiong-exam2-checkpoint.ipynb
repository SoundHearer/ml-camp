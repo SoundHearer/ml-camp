{
 "cells": [
  {
   "cell_type": "markdown",
   "metadata": {},
   "source": [
    "## 七月在线机器学习实训营三期第二周(数据抓取)考试\n",
    "#### 考试说明:\n",
    "- 起止时间：请同学在2018年2月2日至2月4日期间完成，最晚提交时间本周日（2月4日24时之前）结束，<b>逾期不接受补考,该考试分数计入平时成绩</b>\n",
    "- 考试方式：请同学<font color=red><b>拷贝</b></font>该试卷至自己姓名的目录后，将文件更名为同学姓名拼音-exam2后，进行作答。例如wangwei-exam2\n",
    "- 提交格式：请同学新建自己姓名全拼的文件夹，将该试卷，zip文件等相关考试文件，放置此目录下。将该目录<b>移动</b>至/0.Teacher/Exam/2/目录下\n",
    "- 注意事项：为确保同学们真正了解自身对本周课程的掌握程度，<font color=red><b>请勿翻阅，移动，更改</b></font>其它同学试卷。如发现按0分处理\n",
    "- 请同学在下方同学姓名处填写自己的姓名，批改人和最终得分不用填写"
   ]
  },
  {
   "cell_type": "code",
   "execution_count": null,
   "metadata": {},
   "outputs": [],
   "source": [
    "- 同学姓名:<u>彭志雄</u>  \n",
    "- 批改人：助教张老师  \n",
    "- 最终得分:80"
   ]
  },
  {
   "cell_type": "markdown",
   "metadata": {},
   "source": [
    "### 简答题 (共两题，每题5分)"
   ]
  },
  {
   "cell_type": "markdown",
   "metadata": {},
   "source": [
    "#### 1.请使用BeautifulSoup定位到以下html代码段内容是“你好”的li标签？\n",
    "```\n",
    "<ul>\n",
    "  <li class=eng>Hello</li>\n",
    "  <li class=eng>World</li>\n",
    "</ul>\n",
    "<ul>\n",
    "  <li class=chn>世界</li>\n",
    "  <li class=chn>你好</li>\n",
    "</ul>\n",
    "```"
   ]
  },
  {
   "cell_type": "code",
   "execution_count": 58,
   "metadata": {},
   "outputs": [
    {
     "data": {
      "text/plain": [
       "'你好'"
      ]
     },
     "execution_count": 58,
     "metadata": {},
     "output_type": "execute_result"
    }
   ],
   "source": [
    "from bs4 import BeautifulSoup\n",
    "# path = 'C:/Users/pengzx/Desktop/sdj.html'\n",
    "# bs_obj = bs4.BeautifulSoup(html) \n",
    "# htmlfile = open(path, 'r',encoding='GBK')\n",
    "# htmlhandle = htmlfile.read()\n",
    "# soup = BeautifulSoup(htmlhandle,'html5lib')\n",
    "# su = soup.select('ul > li')[3] # BeautifulSoup的select是找到所有满足条件的元素并返回数组\n",
    "# su.get_text()\n",
    "path = '''<ul>\n",
    "  <li class=eng>Hello</li>\n",
    "  <li class=eng>World</li>\n",
    "</ul>\n",
    "<ul>\n",
    "  <li class=chn>世界</li>\n",
    "  <li class=chn>你好</li>\n",
    "</ul>'''\n",
    "\n",
    "soup = BeautifulSoup(path,'html5lib')\n",
    "su = soup.select('ul > li')[3] # BeautifulSoup的select是找到所有满足条件的元素并返回数组\n",
    "su.get_text()"
   ]
  },
  {
   "cell_type": "markdown",
   "metadata": {},
   "source": [
    "#### 2.如果seleniun的find_xxx返回一个element，但是element.text获取文本为空，该如何进一步处理？"
   ]
  },
  {
   "cell_type": "markdown",
   "metadata": {
    "collapsed": true
   },
   "source": [
    "- 1、让浏览器页面最大化：maximize_window() \n",
    "- 2、修改页面当前元素,或者当前元素父元素的CSS,使元素的isDisplayed()值为true.\n",
    "- 3、使用getAttribute(\"innerHTML\")获取文本值"
   ]
  },
  {
   "cell_type": "markdown",
   "metadata": {},
   "source": [
    "### 代码题(共三题，每题30分)"
   ]
  },
  {
   "cell_type": "markdown",
   "metadata": {},
   "source": [
    "#### 1.利用scrapy框架代码抓取https://sh.lianjia.com/ershoufang/changning/ \n",
    "\n",
    "前5页数据，   \n",
    " - 保留以下字段：信息链接、标题，单价、面积和总价。   \n",
    " - 去除面积50平方以下和单价9万以上。   \n",
    " - 数据以csv格式保存。   \n",
    " - 上传zip项目代码，确保scrapy crawl lianjia可以立即执行。"
   ]
  },
  {
   "cell_type": "markdown",
   "metadata": {
    "collapsed": true
   },
   "source": [
    "    -  代码见压缩包"
   ]
  },
  {
   "cell_type": "markdown",
   "metadata": {},
   "source": [
    "#### 2.使用scrapy实现豆瓣用户名密码登陆（包括验证码，手工输入登录信息）并获取豆瓣首页热门话题的标题和浏览人数。"
   ]
  },
  {
   "cell_type": "code",
   "execution_count": null,
   "metadata": {
    "scrolled": true
   },
   "outputs": [],
   "source": [
    "from selenium import webdriver\n",
    "import time\n",
    "keys=[]\n",
    "values=[]\n",
    "\n",
    "def find_element_by_css_selector(driver, css): # driver可以是driver，也可以是某个element\n",
    "    try:\n",
    "        element = driver.find_element_by_css_selector(css)\n",
    "    except:\n",
    "        element = None\n",
    "    return element    \n",
    "\n",
    "def retry_captcha(driver,retry):\n",
    "    counter = 0\n",
    "    while True:\n",
    "        captcha_field = find_element_by_css_selector(driver,'input#captcha_field')\n",
    "        submit = find_element_by_css_selector(driver,'input.btn-submit')\n",
    "        if captcha_field:#错误重试\n",
    "            captcha = input(\"请输入验证码：\")\n",
    "            captcha_field.send_keys(captcha)\n",
    "            submit.click()\n",
    "            time.sleep(1)\n",
    "        else:#输入正确\n",
    "            for i in driver.find_elements_by_class_name(\"rec_topics_name\"):\n",
    "                keys.append(i.text)\n",
    "            for j in driver.find_elements_by_class_name(\"rec_topics_subtitle\"):\n",
    "                 values.append(j.text)\n",
    "            print('打印首页热门话题的标题和浏览人数，以字典形式给出：')\n",
    "            print(dict(zip(keys,values)))\n",
    "            time.sleep(3)\n",
    "            driver.quit()\n",
    "            break\n",
    "        counter += 1\n",
    "        if counter >= retry:\n",
    "            print('验证码多次重试失败，退出尝试！')\n",
    "            driver.quit()\n",
    "            break\n",
    "\n",
    "options = webdriver.ChromeOptions() # 创建driver的参数，可选。\n",
    "driver = webdriver.Chrome(chrome_options=options)\n",
    "\n",
    "for i in range(10):\n",
    "    driver.get('https://www.douban.com/')\n",
    "    login_name = find_element_by_css_selector(driver,'div.item.item-account > input#form_email.inp')\n",
    "    login_password = find_element_by_css_selector(driver,'div.item.item-passwd > input#form_password.inp')\n",
    "    submit = find_element_by_css_selector(driver,'div.item.item-submit > input.bn-submit')\n",
    "    captcha_fileld = find_element_by_css_selector(driver,'input#captcha_field.inp')\n",
    "    if not captcha_fileld:#如果页面没有验证码，发送不存在的用户名、密码\n",
    "        login_name.send_keys('')\n",
    "        login_password.send_keys('')\n",
    "        submit.click()\n",
    "    else:#如果页面有验证码，发送正确的用户名、密码\n",
    "        login_name.send_keys('hbyandy@yeah.net')\n",
    "        login_password.send_keys('andy1234') \n",
    "        captcha = input(\"请输入验证码：\")\n",
    "        captcha_fileld.send_keys(captcha)\n",
    "        submit.click()\n",
    "        time.sleep(1)\n",
    "        retry_captcha(driver,3)\n",
    "        break\n",
    "    time.sleep(1)"
   ]
  },
  {
   "cell_type": "markdown",
   "metadata": {},
   "source": [
    "#### 3.获取页面http://www.loewe.com/int/zh_CN/  女士系列/丝巾全部商品链接数据   \n",
    "- （注意，必须展开页面）\n"
   ]
  },
  {
   "cell_type": "code",
   "execution_count": null,
   "metadata": {
    "collapsed": true
   },
   "outputs": [],
   "source": []
  },
  {
   "cell_type": "markdown",
   "metadata": {},
   "source": [
    "### 本周课程意见反馈(10分送分项，非必答)\n",
    "- 请同学围绕以下两点进行回答：\n",
    "- 自身总结：请您对您自己在本周课程的学习，收获，技能掌握等方面进行一次总结 ，包括自身在哪些方面存在哪些不足，欠缺，困惑。作为将来回顾学习路径时的依据。\n",
    "- 课程反馈：也可以就知识点，进度，难易度，教学方式，考试方式等等进行意见反馈，督促我们进行更有效的改进。\n"
   ]
  },
  {
   "cell_type": "markdown",
   "metadata": {
    "collapsed": true
   },
   "source": [
    "#### 自身总结：\n",
    "- 自身定力不够，没有紧迫感，无法沉下心来钻研不懂的地方\n",
    "- 本周的课程学的一脸懵逼，面对难题情绪有点浮躁，学习效率低下\n",
    "- 虽然课堂上的代码重新一行一行的去分析理解了，但效果并不太好，花了很长时间来做作业，依然有些题无法做出来，熟练程度远远不够\n",
    "\n",
    "#### 课程反馈：\n",
    "- 本周的课程感觉老师没有顾及到初学者的情况，我对HTML等与爬虫相关的知识完全是零基础，老师没有跟我们讲基础知识，上来直接就拿案例开讲，也没有把各个知识点之间的脉络联系帮我们理清楚，听得一头雾水，可能这也是线上课程的局限性所在，毕竟只有两小时，希望公司能增加课时，让老师有时间给我们稍微详细点讲。虽说不懂的可以在群里提问，可是我都不清楚自己哪里不懂不知该怎样提问 ( >﹏< )"
   ]
  },
  {
   "cell_type": "code",
   "execution_count": null,
   "metadata": {
    "collapsed": true
   },
   "outputs": [],
   "source": []
  }
 ],
 "metadata": {
  "kernelspec": {
   "display_name": "Python 3",
   "language": "python",
   "name": "python3"
  },
  "language_info": {
   "codemirror_mode": {
    "name": "ipython",
    "version": 3
   },
   "file_extension": ".py",
   "mimetype": "text/x-python",
   "name": "python",
   "nbconvert_exporter": "python",
   "pygments_lexer": "ipython3",
   "version": "3.5.2"
  }
 },
 "nbformat": 4,
 "nbformat_minor": 2
}
