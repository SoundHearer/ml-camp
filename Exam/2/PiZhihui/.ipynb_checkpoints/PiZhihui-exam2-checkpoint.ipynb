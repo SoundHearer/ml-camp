{
 "cells": [
  {
   "cell_type": "markdown",
   "metadata": {},
   "source": [
    "## 七月在线机器学习实训营三期第二周(数据抓取)考试\n",
    "#### 考试说明:\n",
    "- 起止时间：请同学在2018年2月2日至2月4日期间完成，最晚提交时间本周日（2月4日24时之前）结束，<b>逾期不接受补考,该考试分数计入平时成绩</b>\n",
    "- 考试方式：请同学<font color=red><b>拷贝</b></font>该试卷至自己姓名的目录后，将文件更名为同学姓名拼音-exam2后，进行作答。例如wangwei-exam2\n",
    "- 提交格式：请同学新建自己姓名全拼的文件夹，将该试卷，zip文件等相关考试文件，放置此目录下。将该目录<b>移动</b>至/0.Teacher/Exam/2/目录下\n",
    "- 注意事项：为确保同学们真正了解自身对本周课程的掌握程度，<font color=red><b>请勿翻阅，移动，更改</b></font>其它同学试卷。如发现按0分处理\n",
    "- 请同学在下方同学姓名处填写自己的姓名，批改人和最终得分不用填写"
   ]
  },
  {
   "cell_type": "markdown",
   "metadata": {
    "collapsed": true
   },
   "source": [
    "- 同学姓名:<u>皮智慧</u>   \n",
    "- 批改人：助教张老师  \n",
    "- 最终得分:90"
   ]
  },
  {
   "cell_type": "markdown",
   "metadata": {},
   "source": [
    "### 简答题 (共两题，每题5分)"
   ]
  },
  {
   "cell_type": "markdown",
   "metadata": {},
   "source": [
    "#### 1.请使用BeautifulSoup定位到以下html代码段内容是“你好”的li标签？\n",
    "```\n",
    "<ul>\n",
    "  <li class=eng>Hello</li>\n",
    "  <li class=eng>World</li>\n",
    "</ul>\n",
    "<ul>\n",
    "  <li class=chn>世界</li>\n",
    "  <li class=chn>你好</li>\n",
    "</ul>\n",
    "```\n"
   ]
  },
  {
   "cell_type": "code",
   "execution_count": 2,
   "metadata": {},
   "outputs": [
    {
     "name": "stdout",
     "output_type": "stream",
     "text": [
      "['你好']\n"
     ]
    }
   ],
   "source": [
    "\n",
    "from bs4 import BeautifulSoup\n",
    "from lxml import etree\n",
    "\n",
    "html_doc = \"\"\"\n",
    "<ul>\n",
    "  <li class=eng>Hello</li>\n",
    "  <li class=eng>World</li>\n",
    "</ul>\n",
    "<ul>\n",
    "  <li class=chn>世界</li>\n",
    "  <li class=chn>你好</li>\n",
    "</ul>\n",
    "\"\"\"\n",
    "\n",
    "\n",
    "def soup_method():\n",
    "    soup = BeautifulSoup(html_doc, 'html5lib')\n",
    "\n",
    "    res = soup.select('li[class=\"chn\"]')[1]\n",
    "    print(res.text)\n",
    "\n",
    "\n",
    "def xpath_method():\n",
    "    root = etree.HTML(html_doc)\n",
    "    res = root.xpath('//ul[2]/li[2]/text()')\n",
    "    print(res)\n",
    "\n",
    "\n",
    "if __name__ == \"__main__\":\n",
    "    xpath_method()\n",
    "\n"
   ]
  },
  {
   "cell_type": "markdown",
   "metadata": {},
   "source": [
    "#### 2.如果seleniun的find_xxx返回一个element，但是element.text获取文本为空，该如何进一步处理？"
   ]
  },
  {
   "cell_type": "code",
   "execution_count": null,
   "metadata": {
    "collapsed": true
   },
   "outputs": [],
   "source": [
    "1. 使用try....catch捕获到异常\n",
    "2. 如果是另外的问题, 并且需要根据其他的具体情况具体处理"
   ]
  },
  {
   "cell_type": "markdown",
   "metadata": {},
   "source": [
    "### 代码题(共三题，每题30分)"
   ]
  },
  {
   "cell_type": "markdown",
   "metadata": {},
   "source": [
    "#### 1.利用scrapy框架代码抓取https://sh.lianjia.com/ershoufang/changning/ \n",
    "\n",
    "前5页数据，   \n",
    " - 保留以下字段：信息链接、标题，单价、面积和总价。   \n",
    " - 去除面积50平方以下和单价9万以上。   \n",
    " - 数据以csv格式保存。   \n",
    " - 上传zip项目代码，确保scrapy crawl lianjia可以立即执行。"
   ]
  },
  {
   "cell_type": "code",
   "execution_count": null,
   "metadata": {
    "collapsed": true
   },
   "outputs": [],
   "source": [
    "压缩包的mySpider里面的scrapy crawl lianjia即可\n",
    "# 代码运行结果文件有乱码"
   ]
  },
  {
   "cell_type": "markdown",
   "metadata": {},
   "source": [
    "#### 2.使用scrapy实现豆瓣用户名密码登陆（包括验证码，手工输入登录信息）并获取豆瓣首页热门话题的标题和浏览人数。"
   ]
  },
  {
   "cell_type": "code",
   "execution_count": null,
   "metadata": {
    "collapsed": true
   },
   "outputs": [],
   "source": [
    "压缩包的mySpider里面的scrapy crawl douban即可, 数据只是做了打印"
   ]
  },
  {
   "cell_type": "markdown",
   "metadata": {},
   "source": [
    "#### 3.获取页面http://www.loewe.com/int/zh_CN/  女士系列/丝巾全部商品链接数据   \n",
    "- （注意，必须展开页面）\n"
   ]
  },
  {
   "cell_type": "code",
   "execution_count": null,
   "metadata": {
    "collapsed": true
   },
   "outputs": [],
   "source": [
    "\n",
    "import time\n",
    "from mySpider import utils\n",
    "\n",
    "post_url = 'http://www.loewe.com/usa/en/women/scarves-and-shawls'\n",
    "\n",
    "browser = utils.create_chrome_driver()\n",
    "# 设置查询dom的隐式等待时间（影响find_element_xxx,find_elements_xxx）\n",
    "browser.implicitly_wait(10)\n",
    "\n",
    "browser.get(post_url)\n",
    "\n",
    "# 滑动\n",
    "browser.execute_script('window.scrollBy(0, document.body.scrollHeight);')\n",
    "time.sleep(1)\n",
    "\n",
    "# 点击all\n",
    "all_btn = browser.find_element_by_xpath('//div[@class=\"search-result-options\"]//span[@class=\"js-view-all-products\"]')\n",
    "all_btn.click()\n",
    "\n",
    "# 滑动\n",
    "browser.execute_script('window.scrollBy(0, document.body.scrollHeight);')\n",
    "time.sleep(1)\n",
    "\n",
    "product_names = browser.find_elements_by_xpath('//div[@class=\"product-name\"]')\n",
    "product_prices = browser.find_elements_by_xpath('//span[@class=\"price-sales\"]')\n",
    "\n",
    "# TODO 取不到值\n",
    "for product_name, product_price in zip(product_names, product_prices):\n",
    "    print(product_name.text + \"....\" + product_price.text)\n",
    "\n",
    "browser.close()\n"
   ]
  },
  {
   "cell_type": "markdown",
   "metadata": {},
   "source": [
    "### 本周课程意见反馈(10分送分项，非必答)\n",
    "- 请同学围绕以下两点进行回答：\n",
    "- 自身总结：请您对您自己在本周课程的学习，收获，技能掌握等方面进行一次总结 ，包括自身在哪些方面存在哪些不足，欠缺，困惑。作为将来回顾学习路径时的依据。\n",
    "- 课程反馈：也可以就知识点，进度，难易度，教学方式，考试方式等等进行意见反馈，督促我们进行更有效的改进。\n"
   ]
  },
  {
   "cell_type": "markdown",
   "metadata": {},
   "source": [
    "1. 对于爬虫的学习, 增加了selenium的学习, 以及beautifulsoup的学习\n",
    "2. 知识点教的很好, 可以对课堂笔记详细点, 有的学员没有时间的, 可以看笔记学习. \n",
    "3. 另外可以多分享一点课外的学习资料, 加深巩固对课堂的学习"
   ]
  },
  {
   "cell_type": "markdown",
   "metadata": {
    "collapsed": true
   },
   "source": []
  }
 ],
 "metadata": {
  "kernelspec": {
   "display_name": "Python 3",
   "language": "python",
   "name": "python3"
  },
  "language_info": {
   "codemirror_mode": {
    "name": "ipython",
    "version": 3
   },
   "file_extension": ".py",
   "mimetype": "text/x-python",
   "name": "python",
   "nbconvert_exporter": "python",
   "pygments_lexer": "ipython3",
   "version": "3.5.2"
  }
 },
 "nbformat": 4,
 "nbformat_minor": 2
}
