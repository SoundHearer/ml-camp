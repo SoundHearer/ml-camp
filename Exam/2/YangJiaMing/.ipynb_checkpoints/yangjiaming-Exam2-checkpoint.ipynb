{
 "cells": [
  {
   "cell_type": "markdown",
   "metadata": {},
   "source": [
    "## 七月在线机器学习实训营三期第二周(数据抓取)考试\n",
    "#### 考试说明:\n",
    "- 起止时间：请同学在2018年2月2日至2月4日期间完成，最晚提交时间本周日（2月4日24时之前）结束，<b>逾期不接受补考,该考试分数计入平时成绩</b>\n",
    "- 考试方式：请同学<font color=red><b>拷贝</b></font>该试卷至自己姓名的目录后，将文件更名为同学姓名拼音-exam2后，进行作答。例如wangwei-exam2\n",
    "- 提交格式：请同学新建自己姓名全拼的文件夹，将该试卷，zip文件等相关考试文件，放置此目录下。将该目录<b>移动</b>至/0.Teacher/Exam/2/目录下\n",
    "- 注意事项：为确保同学们真正了解自身对本周课程的掌握程度，<font color=red><b>请勿翻阅，移动，更改</b></font>其它同学试卷。如发现按0分处理\n",
    "- 请同学在下方同学姓名处填写自己的姓名，批改人和最终得分不用填写"
   ]
  },
  {
   "cell_type": "markdown",
   "metadata": {},
   "source": [
    "- 同学姓名:<u>杨佳名</u>  \n",
    "- 批改人：@杜老师   \n",
    "- 最终得分:70"
   ]
  },
  {
   "cell_type": "markdown",
   "metadata": {},
   "source": [
    "### 简答题 (共两题，每题5分)"
   ]
  },
  {
   "cell_type": "markdown",
   "metadata": {},
   "source": [
    "#### 1.请使用BeautifulSoup定位到以下html代码段内容是“你好”的li标签？\n",
    "```\n",
    "<ul>\n",
    "  <li class=eng>Hello</li>\n",
    "  <li class=eng>World</li>\n",
    "</ul>\n",
    "<ul>\n",
    "  <li class=chn>世界</li>\n",
    "  <li class=chn>你好</li>\n",
    "</ul>\n",
    "``` bs = BeautifulSoup(text, 'html5lib')\n",
    "   rows = bs.select('ul > li')\n",
    "   for i in range(1, len(rows)):\n",
    "        item = rows[i].text\n",
    "        if item=='你好' :\n",
    "            print(\"你好\")\n",
    "\n"
   ]
  },
  {
   "cell_type": "markdown",
   "metadata": {},
   "source": [
    "#### 2.如果seleniun的find_xxx返回一个element，但是element.text获取文本为空，该如何进一步处理？"
   ]
  },
  {
   "cell_type": "code",
   "execution_count": null,
   "metadata": {
    "collapsed": true
   },
   "outputs": [],
   "source": []
  },
  {
   "cell_type": "markdown",
   "metadata": {},
   "source": [
    "### 代码题(共三题，每题30分)"
   ]
  },
  {
   "cell_type": "markdown",
   "metadata": {},
   "source": [
    "#### 1.利用scrapy框架代码抓取https://sh.lianjia.com/ershoufang/changning/ \n",
    "\n",
    "前5页数据，   \n",
    " - 保留以下字段：信息链接、标题，单价、面积和总价。   \n",
    " - 去除面积50平方以下和单价9万以上。   \n",
    " - 数据以csv格式保存。   \n",
    " - 上传zip项目代码，确保scrapy crawl lianjia可以立即执行。"
   ]
  },
  {
   "cell_type": "code",
   "execution_count": 7,
   "metadata": {},
   "outputs": [
    {
     "data": {
      "text/html": [
       "<div>\n",
       "<style>\n",
       "    .dataframe thead tr:only-child th {\n",
       "        text-align: right;\n",
       "    }\n",
       "\n",
       "    .dataframe thead th {\n",
       "        text-align: left;\n",
       "    }\n",
       "\n",
       "    .dataframe tbody tr th {\n",
       "        vertical-align: top;\n",
       "    }\n",
       "</style>\n",
       "<table border=\"1\" class=\"dataframe\">\n",
       "  <thead>\n",
       "    <tr style=\"text-align: right;\">\n",
       "      <th></th>\n",
       "      <th>informationLink</th>\n",
       "      <th>title</th>\n",
       "    </tr>\n",
       "  </thead>\n",
       "  <tbody>\n",
       "    <tr>\n",
       "      <th>0</th>\n",
       "      <td>https://sh.lianjia.com/ershoufang/107000212669...</td>\n",
       "      <td>金鹿公寓 4室2厅 850万</td>\n",
       "    </tr>\n",
       "    <tr>\n",
       "      <th>1</th>\n",
       "      <td>https://sh.lianjia.com/ershoufang/107000195661...</td>\n",
       "      <td>金鹿公寓 4室2厅 850万</td>\n",
       "    </tr>\n",
       "    <tr>\n",
       "      <th>2</th>\n",
       "      <td>https://sh.lianjia.com/ershoufang/107001060259...</td>\n",
       "      <td>金鹿公寓 4室2厅 850万</td>\n",
       "    </tr>\n",
       "    <tr>\n",
       "      <th>3</th>\n",
       "      <td>https://sh.lianjia.com/ershoufang/107000149995...</td>\n",
       "      <td>金鹿公寓 4室2厅 850万</td>\n",
       "    </tr>\n",
       "    <tr>\n",
       "      <th>4</th>\n",
       "      <td>https://sh.lianjia.com/ershoufang/107001674237...</td>\n",
       "      <td>金鹿公寓 4室2厅 850万</td>\n",
       "    </tr>\n",
       "    <tr>\n",
       "      <th>5</th>\n",
       "      <td>https://sh.lianjia.com/ershoufang/107002060973...</td>\n",
       "      <td>金鹿公寓 4室2厅 850万</td>\n",
       "    </tr>\n",
       "    <tr>\n",
       "      <th>6</th>\n",
       "      <td>https://sh.lianjia.com/ershoufang/107000109663...</td>\n",
       "      <td>金鹿公寓 4室2厅 850万</td>\n",
       "    </tr>\n",
       "    <tr>\n",
       "      <th>7</th>\n",
       "      <td>https://sh.lianjia.com/ershoufang/107002129763...</td>\n",
       "      <td>金鹿公寓 4室2厅 850万</td>\n",
       "    </tr>\n",
       "    <tr>\n",
       "      <th>8</th>\n",
       "      <td>https://sh.lianjia.com/ershoufang/107002216999...</td>\n",
       "      <td>金鹿公寓 4室2厅 850万</td>\n",
       "    </tr>\n",
       "    <tr>\n",
       "      <th>9</th>\n",
       "      <td>https://sh.lianjia.com/ershoufang/107000101591...</td>\n",
       "      <td>金鹿公寓 4室2厅 850万</td>\n",
       "    </tr>\n",
       "    <tr>\n",
       "      <th>10</th>\n",
       "      <td>https://sh.lianjia.com/ershoufang/107002045545...</td>\n",
       "      <td>金鹿公寓 4室2厅 850万</td>\n",
       "    </tr>\n",
       "    <tr>\n",
       "      <th>11</th>\n",
       "      <td>https://sh.lianjia.com/ershoufang/107002302711...</td>\n",
       "      <td>金鹿公寓 4室2厅 850万</td>\n",
       "    </tr>\n",
       "    <tr>\n",
       "      <th>12</th>\n",
       "      <td>https://sh.lianjia.com/ershoufang/107002076885...</td>\n",
       "      <td>金鹿公寓 4室2厅 850万</td>\n",
       "    </tr>\n",
       "    <tr>\n",
       "      <th>13</th>\n",
       "      <td>https://sh.lianjia.com/ershoufang/107002261241...</td>\n",
       "      <td>金鹿公寓 4室2厅 850万</td>\n",
       "    </tr>\n",
       "    <tr>\n",
       "      <th>14</th>\n",
       "      <td>https://sh.lianjia.com/ershoufang/107002130831...</td>\n",
       "      <td>金鹿公寓 4室2厅 850万</td>\n",
       "    </tr>\n",
       "    <tr>\n",
       "      <th>15</th>\n",
       "      <td>https://sh.lianjia.com/ershoufang/107001109613...</td>\n",
       "      <td>金鹿公寓 4室2厅 850万</td>\n",
       "    </tr>\n",
       "    <tr>\n",
       "      <th>16</th>\n",
       "      <td>https://sh.lianjia.com/ershoufang/107000155809...</td>\n",
       "      <td>金鹿公寓 4室2厅 850万</td>\n",
       "    </tr>\n",
       "    <tr>\n",
       "      <th>17</th>\n",
       "      <td>https://sh.lianjia.com/ershoufang/107002141311...</td>\n",
       "      <td>金鹿公寓 4室2厅 850万</td>\n",
       "    </tr>\n",
       "    <tr>\n",
       "      <th>18</th>\n",
       "      <td>https://sh.lianjia.com/ershoufang/107002039971...</td>\n",
       "      <td>金鹿公寓 4室2厅 850万</td>\n",
       "    </tr>\n",
       "    <tr>\n",
       "      <th>19</th>\n",
       "      <td>https://sh.lianjia.com/ershoufang/107000237875...</td>\n",
       "      <td>金鹿公寓 4室2厅 850万</td>\n",
       "    </tr>\n",
       "    <tr>\n",
       "      <th>20</th>\n",
       "      <td>https://sh.lianjia.com/ershoufang/107001215383...</td>\n",
       "      <td>金鹿公寓 4室2厅 850万</td>\n",
       "    </tr>\n",
       "    <tr>\n",
       "      <th>21</th>\n",
       "      <td>https://sh.lianjia.com/ershoufang/107000071853...</td>\n",
       "      <td>金鹿公寓 4室2厅 850万</td>\n",
       "    </tr>\n",
       "    <tr>\n",
       "      <th>22</th>\n",
       "      <td>https://sh.lianjia.com/ershoufang/107000141375...</td>\n",
       "      <td>金鹿公寓 4室2厅 850万</td>\n",
       "    </tr>\n",
       "    <tr>\n",
       "      <th>23</th>\n",
       "      <td>https://sh.lianjia.com/ershoufang/107000126571...</td>\n",
       "      <td>金鹿公寓 4室2厅 850万</td>\n",
       "    </tr>\n",
       "    <tr>\n",
       "      <th>24</th>\n",
       "      <td>https://sh.lianjia.com/ershoufang/107000424513...</td>\n",
       "      <td>金鹿公寓 4室2厅 850万</td>\n",
       "    </tr>\n",
       "    <tr>\n",
       "      <th>25</th>\n",
       "      <td>https://sh.lianjia.com/ershoufang/107002013361...</td>\n",
       "      <td>金鹿公寓 4室2厅 850万</td>\n",
       "    </tr>\n",
       "    <tr>\n",
       "      <th>26</th>\n",
       "      <td>https://sh.lianjia.com/ershoufang/107001398921...</td>\n",
       "      <td>金鹿公寓 4室2厅 850万</td>\n",
       "    </tr>\n",
       "    <tr>\n",
       "      <th>27</th>\n",
       "      <td>https://sh.lianjia.com/ershoufang/107001999073...</td>\n",
       "      <td>金鹿公寓 4室2厅 850万</td>\n",
       "    </tr>\n",
       "    <tr>\n",
       "      <th>28</th>\n",
       "      <td>https://sh.lianjia.com/ershoufang/107001916747...</td>\n",
       "      <td>金鹿公寓 4室2厅 850万</td>\n",
       "    </tr>\n",
       "    <tr>\n",
       "      <th>29</th>\n",
       "      <td>https://sh.lianjia.com/ershoufang/107002213765...</td>\n",
       "      <td>金鹿公寓 4室2厅 850万</td>\n",
       "    </tr>\n",
       "  </tbody>\n",
       "</table>\n",
       "</div>"
      ],
      "text/plain": [
       "                                      informationLink           title\n",
       "0   https://sh.lianjia.com/ershoufang/107000212669...  金鹿公寓 4室2厅 850万\n",
       "1   https://sh.lianjia.com/ershoufang/107000195661...  金鹿公寓 4室2厅 850万\n",
       "2   https://sh.lianjia.com/ershoufang/107001060259...  金鹿公寓 4室2厅 850万\n",
       "3   https://sh.lianjia.com/ershoufang/107000149995...  金鹿公寓 4室2厅 850万\n",
       "4   https://sh.lianjia.com/ershoufang/107001674237...  金鹿公寓 4室2厅 850万\n",
       "5   https://sh.lianjia.com/ershoufang/107002060973...  金鹿公寓 4室2厅 850万\n",
       "6   https://sh.lianjia.com/ershoufang/107000109663...  金鹿公寓 4室2厅 850万\n",
       "7   https://sh.lianjia.com/ershoufang/107002129763...  金鹿公寓 4室2厅 850万\n",
       "8   https://sh.lianjia.com/ershoufang/107002216999...  金鹿公寓 4室2厅 850万\n",
       "9   https://sh.lianjia.com/ershoufang/107000101591...  金鹿公寓 4室2厅 850万\n",
       "10  https://sh.lianjia.com/ershoufang/107002045545...  金鹿公寓 4室2厅 850万\n",
       "11  https://sh.lianjia.com/ershoufang/107002302711...  金鹿公寓 4室2厅 850万\n",
       "12  https://sh.lianjia.com/ershoufang/107002076885...  金鹿公寓 4室2厅 850万\n",
       "13  https://sh.lianjia.com/ershoufang/107002261241...  金鹿公寓 4室2厅 850万\n",
       "14  https://sh.lianjia.com/ershoufang/107002130831...  金鹿公寓 4室2厅 850万\n",
       "15  https://sh.lianjia.com/ershoufang/107001109613...  金鹿公寓 4室2厅 850万\n",
       "16  https://sh.lianjia.com/ershoufang/107000155809...  金鹿公寓 4室2厅 850万\n",
       "17  https://sh.lianjia.com/ershoufang/107002141311...  金鹿公寓 4室2厅 850万\n",
       "18  https://sh.lianjia.com/ershoufang/107002039971...  金鹿公寓 4室2厅 850万\n",
       "19  https://sh.lianjia.com/ershoufang/107000237875...  金鹿公寓 4室2厅 850万\n",
       "20  https://sh.lianjia.com/ershoufang/107001215383...  金鹿公寓 4室2厅 850万\n",
       "21  https://sh.lianjia.com/ershoufang/107000071853...  金鹿公寓 4室2厅 850万\n",
       "22  https://sh.lianjia.com/ershoufang/107000141375...  金鹿公寓 4室2厅 850万\n",
       "23  https://sh.lianjia.com/ershoufang/107000126571...  金鹿公寓 4室2厅 850万\n",
       "24  https://sh.lianjia.com/ershoufang/107000424513...  金鹿公寓 4室2厅 850万\n",
       "25  https://sh.lianjia.com/ershoufang/107002013361...  金鹿公寓 4室2厅 850万\n",
       "26  https://sh.lianjia.com/ershoufang/107001398921...  金鹿公寓 4室2厅 850万\n",
       "27  https://sh.lianjia.com/ershoufang/107001999073...  金鹿公寓 4室2厅 850万\n",
       "28  https://sh.lianjia.com/ershoufang/107001916747...  金鹿公寓 4室2厅 850万\n",
       "29  https://sh.lianjia.com/ershoufang/107002213765...  金鹿公寓 4室2厅 850万"
      ]
     },
     "execution_count": 7,
     "metadata": {},
     "output_type": "execute_result"
    }
   ],
   "source": [
    "import sys\n",
    "import requests\n",
    "import time\n",
    "\n",
    "url='https://sh.lianjia.com/ershoufang/changning/ '\n",
    "\n",
    "data = requests.get(url)\n",
    "\n",
    "# data = status_code\n",
    "\n",
    "\n",
    "from lxml import etree\n",
    "selector =etree.HTML(data.text)\n",
    "# comments = selector.xpath('//div[@class=\"coment\"]')\n",
    "fangzis = selector.xpath('//ul[@class=\"sellListContent\"]/li')\n",
    "\n",
    "# print(len(fangzis))\n",
    "informationLinks = []\n",
    "titles = []\n",
    "danjias = []\n",
    "mianjis = []\n",
    "zongjias = []\n",
    "\n",
    "for fz in fangzis:\n",
    "    informationLink =  fz.xpath('//a[@class=\"img\"]/@href')\n",
    "    title = fz.xpath('//div[@class=\"title\"]/a/text()')[0]\n",
    "    informationLinks.append(informationLink)\n",
    "    titles.append(title)\n",
    "    \n",
    "fangzi_dic={'informationLink':informationLink,'title':title}\n",
    "\n",
    "import pandas as pd\n",
    "\n",
    "comment_df = pd.DataFrame(fangzi_dic)\n",
    "\n",
    "comment_df"
   ]
  },
  {
   "cell_type": "markdown",
   "metadata": {},
   "source": [
    "#### 2.使用scrapy实现豆瓣用户名密码登陆（包括验证码，手工输入登录信息）并获取豆瓣首页热门话题的标题和浏览人数。"
   ]
  },
  {
   "cell_type": "code",
   "execution_count": null,
   "metadata": {
    "collapsed": true
   },
   "outputs": [],
   "source": []
  },
  {
   "cell_type": "markdown",
   "metadata": {},
   "source": [
    "#### 3.获取页面http://www.loewe.com/int/zh_CN/  女士系列/丝巾全部商品链接数据   \n",
    "- （注意，必须展开页面）\n"
   ]
  },
  {
   "cell_type": "code",
   "execution_count": null,
   "metadata": {
    "collapsed": true
   },
   "outputs": [],
   "source": []
  },
  {
   "cell_type": "markdown",
   "metadata": {},
   "source": [
    "### 本周课程意见反馈(10分送分项，非必答)\n",
    "- 请同学围绕以下两点进行回答：\n",
    "- 自身总结：请您对您自己在本周课程的学习，收获，技能掌握等方面进行一次总结 ，包括自身在哪些方面存在哪些不足，欠缺，困惑。作为将来回顾学习路径时的依据。\n",
    "- 课程反馈：也可以就知识点，进度，难易度，教学方式，考试方式等等进行意见反馈，督促我们进行更有效的改进。\n"
   ]
  },
  {
   "cell_type": "markdown",
   "metadata": {
    "collapsed": true
   },
   "source": [
    "本周我的学习进度说实话有些不理想，因为公司加班的原因，没能进行有效的预习和复习，更糟糕的是花了大量的时间在配置selenium上，希望在下一周能有更多的时间进行学习，我感觉线上解决这种配置的问题是一个难题，希望七月可以研究一下解决这个问题方案，因为实在是太费时间了\n"
   ]
  },
  {
   "cell_type": "code",
   "execution_count": null,
   "metadata": {
    "collapsed": true
   },
   "outputs": [],
   "source": []
  }
 ],
 "metadata": {
  "kernelspec": {
   "display_name": "Python 3",
   "language": "python",
   "name": "python3"
  },
  "language_info": {
   "codemirror_mode": {
    "name": "ipython",
    "version": 3
   },
   "file_extension": ".py",
   "mimetype": "text/x-python",
   "name": "python",
   "nbconvert_exporter": "python",
   "pygments_lexer": "ipython3",
   "version": "3.5.2"
  }
 },
 "nbformat": 4,
 "nbformat_minor": 2
}
