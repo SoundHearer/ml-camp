{
 "cells": [
  {
   "cell_type": "markdown",
   "metadata": {},
   "source": [
    "## 七月在线机器学习实训营三期第二周(数据抓取)考试\n",
    "#### 考试说明:\n",
    "- 起止时间：请同学在2018年2月2日至2月4日期间完成，最晚提交时间本周日（2月4日24时之前）结束，<b>逾期不接受补考,该考试分数计入平时成绩</b>\n",
    "- 考试方式：请同学<font color=red><b>拷贝</b></font>该试卷至自己姓名的目录后，将文件更名为同学姓名拼音-exam2后，进行作答。例如wangwei-exam2\n",
    "- 提交格式：请同学新建自己姓名全拼的文件夹，将该试卷，zip文件等相关考试文件，放置此目录下。将该目录<b>移动</b>至/0.Teacher/Exam/2/目录下\n",
    "- 注意事项：为确保同学们真正了解自身对本周课程的掌握程度，<font color=red><b>请勿翻阅，移动，更改</b></font>其它同学试卷。如发现按0分处理\n",
    "- 请同学在下方同学姓名处填写自己的姓名，批改人和最终得分不用填写"
   ]
  },
  {
   "cell_type": "markdown",
   "metadata": {},
   "source": [
    "- 同学姓名:<u>时国瑞</u>  \n",
    "- 批改人：@杜老师\n",
    "- 最终得分:65"
   ]
  },
  {
   "cell_type": "markdown",
   "metadata": {},
   "source": [
    "### 简答题 (共两题，每题5分)"
   ]
  },
  {
   "cell_type": "markdown",
   "metadata": {},
   "source": [
    "#### 1.请使用BeautifulSoup定位到以下html代码段内容是“你好”的li标签？\n",
    "```\n",
    "<ul>\n",
    "  <li class=eng>Hello</li>\n",
    "  <li class=eng>World</li>\n",
    "</ul>\n",
    "<ul>\n",
    "  <li class=chn>世界</li>\n",
    "  <li class=chn>你好</li>\n",
    "</ul>\n",
    "```"
   ]
  },
  {
   "cell_type": "code",
   "execution_count": null,
   "metadata": {
    "collapsed": true
   },
   "outputs": [],
   "source": [
    "bs = BeautifulSoup(text, 'html5lib')\n",
    "bs.select('ul > li')"
   ]
  },
  {
   "cell_type": "markdown",
   "metadata": {},
   "source": [
    "#### 2.如果seleniun的find_xxx返回一个element，但是element.text获取文本为空，该如何进一步处理？"
   ]
  },
  {
   "cell_type": "markdown",
   "metadata": {},
   "source": [
    "用element.get_attribute('innerHTML')"
   ]
  },
  {
   "cell_type": "markdown",
   "metadata": {},
   "source": [
    "### 代码题(共三题，每题30分)"
   ]
  },
  {
   "cell_type": "markdown",
   "metadata": {},
   "source": [
    "#### 1.利用scrapy框架代码抓取https://sh.lianjia.com/ershoufang/changning/ \n",
    "\n",
    "前5页数据，   \n",
    " - 保留以下字段：信息链接、标题，单价、面积和总价。   \n",
    " - 去除面积50平方以下和单价9万以上。   \n",
    " - 数据以csv格式保存。   \n",
    " - 上传zip项目代码，确保scrapy crawl lianjia可以立即执行。"
   ]
  },
  {
   "cell_type": "code",
   "execution_count": null,
   "metadata": {
    "collapsed": true
   },
   "outputs": [],
   "source": []
  },
  {
   "cell_type": "markdown",
   "metadata": {},
   "source": [
    "#### 2.使用scrapy实现豆瓣用户名密码登陆（包括验证码，手工输入登录信息）并获取豆瓣首页热门话题的标题和浏览人数。"
   ]
  },
  {
   "cell_type": "code",
   "execution_count": null,
   "metadata": {
    "collapsed": true
   },
   "outputs": [],
   "source": []
  },
  {
   "cell_type": "markdown",
   "metadata": {},
   "source": [
    "#### 3.获取页面http://www.loewe.com/int/zh_CN/  女士系列/丝巾全部商品链接数据   \n",
    "- （注意，必须展开页面）\n"
   ]
  },
  {
   "cell_type": "code",
   "execution_count": null,
   "metadata": {
    "collapsed": true
   },
   "outputs": [],
   "source": []
  },
  {
   "cell_type": "markdown",
   "metadata": {},
   "source": [
    "### 本周课程意见反馈(10分送分项，非必答)\n",
    "- 请同学围绕以下两点进行回答：\n",
    "- 自身总结：请您对您自己在本周课程的学习，收获，技能掌握等方面进行一次总结 ，包括自身在哪些方面存在哪些不足，欠缺，困惑。作为将来回顾学习路径时的依据。\n",
    "- 课程反馈：也可以就知识点，进度，难易度，教学方式，考试方式等等进行意见反馈，督促我们进行更有效的改进。\n"
   ]
  },
  {
   "cell_type": "markdown",
   "metadata": {
    "collapsed": true
   },
   "source": [
    "- 自身总结：对爬虫没有什么基础，但是数据解析、加上最近搞了一段时间自动化测试，所以很多东西还是很类似的，线上加上线下课，至少现在可以通过css selector或xpath两种方式进行元素定位。爬虫项目这个确实很多不太熟悉，但是思想很多还是很类似的，比如数据管道直接持久化结果，这种组件模式还是很有启发性。不足的话，由于时间较短，很多库也不是很熟悉，但是这个只有慢慢做，慢慢积累，也没法心急。至少，多动手，跟着课程和项目，尽力都做，毕竟白天还要工作，时间不一定很充足。\n",
    "\n",
    "- 课程反馈：课程很棒，难易度适度吧，考试方式倒是觉得重点不在考察，而在于尽量让大家都会，都做过，一次不行两次，很多实操性的东西只有多做一条路。"
   ]
  }
 ],
 "metadata": {
  "kernelspec": {
   "display_name": "Python 3",
   "language": "python",
   "name": "python3"
  },
  "language_info": {
   "codemirror_mode": {
    "name": "ipython",
    "version": 3
   },
   "file_extension": ".py",
   "mimetype": "text/x-python",
   "name": "python",
   "nbconvert_exporter": "python",
   "pygments_lexer": "ipython3",
   "version": "3.5.2"
  }
 },
 "nbformat": 4,
 "nbformat_minor": 2
}
