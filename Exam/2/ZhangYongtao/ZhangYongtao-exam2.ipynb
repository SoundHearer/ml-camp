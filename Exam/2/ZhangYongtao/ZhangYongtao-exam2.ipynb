{
 "cells": [
  {
   "cell_type": "markdown",
   "metadata": {},
   "source": [
    "## 七月在线机器学习实训营三期第二周(数据抓取)考试\n",
    "#### 考试说明:\n",
    "- 起止时间：请同学在2018年2月2日至2月4日期间完成，最晚提交时间本周日（2月4日24时之前）结束，<b>逾期不接受补考,该考试分数计入平时成绩</b>\n",
    "- 考试方式：请同学<font color=red><b>拷贝</b></font>该试卷至自己姓名的目录后，将文件更名为同学姓名拼音-exam2后，进行作答。例如wangwei-exam2\n",
    "- 提交格式：请同学新建自己姓名全拼的文件夹，将该试卷，zip文件等相关考试文件，放置此目录下。将该目录<b>移动</b>至/0.Teacher/Exam/2/目录下\n",
    "- 注意事项：为确保同学们真正了解自身对本周课程的掌握程度，<font color=red><b>请勿翻阅，移动，更改</b></font>其它同学试卷。如发现按0分处理\n",
    "- 请同学在下方同学姓名处填写自己的姓名，批改人和最终得分不用填写"
   ]
  },
  {
   "cell_type": "markdown",
   "metadata": {},
   "source": [
    "- 同学姓名:<u>张永涛</u>  \n",
    "- 批改人：白鑫   \n",
    "- 最终得分:80分"
   ]
  },
  {
   "cell_type": "markdown",
   "metadata": {},
   "source": [
    "### 简答题 (共两题，每题5分)"
   ]
  },
  {
   "cell_type": "markdown",
   "metadata": {},
   "source": [
    "#### 1.请使用BeautifulSoup定位到以下html代码段内容是“你好”的li标签？\n",
    "```\n",
    "<ul>\n",
    "  <li class=eng>Hello</li>\n",
    "  <li class=eng>World</li>\n",
    "</ul>\n",
    "<ul>\n",
    "  <li class=chn>世界</li>\n",
    "  <li class=chn>你好</li>\n",
    "</ul>\n",
    "```\n"
   ]
  },
  {
   "cell_type": "code",
   "execution_count": 1,
   "metadata": {},
   "outputs": [
    {
     "data": {
      "text/plain": [
       "'你好'"
      ]
     },
     "execution_count": 1,
     "metadata": {},
     "output_type": "execute_result"
    }
   ],
   "source": [
    "from bs4 import BeautifulSoup\n",
    "\n",
    "text = ''\n",
    "with open('sample.html', 'r', encoding='utf-8') as f:     #sample.html就是上述的html代码\n",
    "    text = f.read()\n",
    "bs = BeautifulSoup(text, 'html5lib')\n",
    "ul = bs.select('ul')[1]\n",
    "li = ul.select('li')[1]         #内容是你好的li标签\n",
    "li.text"
   ]
  },
  {
   "cell_type": "code",
   "execution_count": null,
   "metadata": {
    "collapsed": true
   },
   "outputs": [],
   "source": [
    "15"
   ]
  },
  {
   "cell_type": "markdown",
   "metadata": {},
   "source": [
    "#### 2.如果seleniun的find_xxx返回一个element，但是element.text获取文本为空，该如何进一步处理？"
   ]
  },
  {
   "cell_type": "code",
   "execution_count": 2,
   "metadata": {},
   "outputs": [
    {
     "name": "stdout",
     "output_type": "stream",
     "text": [
      "未剥离之前的文本信息： 豆瓣读书\n",
      "文本上一级的innerHTML属性为：  <a target=\"_blank\" class=\"lnk-book\" href=\"https://book.douban.com\">豆瓣读书</a>\n",
      "剥离之后的文本信息为： 豆瓣读书\n"
     ]
    }
   ],
   "source": [
    "# 使用element.get_attribute('innerHTML')来获取到\n",
    "from selenium import webdriver\n",
    "\n",
    "options = webdriver.ChromeOptions() # 创建driver的参数，可选。\n",
    "driver = webdriver.Chrome(chrome_options=options)\n",
    "driver.maximize_window()\n",
    "driver.get('http://www.douban.com')\n",
    "element = driver.find_element_by_css_selector('ul > li')\n",
    "print('未剥离之前的文本信息：',element.text)                   #输出正确的文本信息\n",
    "\n",
    "#此处用豆瓣文本获取模拟，假设element.text获取文本为空，可使用element.get_attribute('innerHTML')返回元素上一个指定innerHTML的属性值，\n",
    "#从innerHTML属性中剥离出文本信息，具体例子如下：\n",
    "element = driver.find_element_by_css_selector('ul > li')\n",
    "text = element.get_attribute('innerHTML')\n",
    "print('文本上一级的innerHTML属性为：',text)\n",
    "text = text.split('>')[1].split('<')[0]\n",
    "print('剥离之后的文本信息为：',text)\n",
    "driver.quit()"
   ]
  },
  {
   "cell_type": "code",
   "execution_count": null,
   "metadata": {
    "collapsed": true
   },
   "outputs": [],
   "source": [
    "5"
   ]
  },
  {
   "cell_type": "markdown",
   "metadata": {},
   "source": [
    "### 代码题(共三题，每题30分)"
   ]
  },
  {
   "cell_type": "markdown",
   "metadata": {},
   "source": [
    "#### 1.利用scrapy框架代码抓取https://sh.lianjia.com/ershoufang/changning/ \n",
    "\n",
    "前5页数据，   \n",
    " - 保留以下字段：信息链接、标题，单价、面积和总价。   \n",
    " - 去除面积50平方以下和单价9万以上。   \n",
    " - 数据以csv格式保存。   \n",
    " - 上传zip项目代码，确保scrapy crawl lianjia可以立即执行。"
   ]
  },
  {
   "cell_type": "code",
   "execution_count": null,
   "metadata": {
    "collapsed": true
   },
   "outputs": [],
   "source": [
    "#30"
   ]
  },
  {
   "cell_type": "markdown",
   "metadata": {},
   "source": [
    "#### 2.使用scrapy实现豆瓣用户名密码登陆（包括验证码，手工输入登录信息）并获取豆瓣首页热门话题的标题和浏览人数。"
   ]
  },
  {
   "cell_type": "code",
   "execution_count": null,
   "metadata": {
    "collapsed": true
   },
   "outputs": [],
   "source": [
    "#10"
   ]
  },
  {
   "cell_type": "markdown",
   "metadata": {},
   "source": [
    "#### 3.获取页面http://www.loewe.com/int/zh_CN/  女士系列/丝巾全部商品链接数据   \n",
    "- （注意，必须展开页面）\n"
   ]
  },
  {
   "cell_type": "code",
   "execution_count": 1,
   "metadata": {},
   "outputs": [
    {
     "ename": "SyntaxError",
     "evalue": "can't assign to operator (<ipython-input-1-099c4cc44a58>, line 32)",
     "output_type": "error",
     "traceback": [
      "\u001b[0;36m  File \u001b[0;32m\"<ipython-input-1-099c4cc44a58>\"\u001b[0;36m, line \u001b[0;32m32\u001b[0m\n\u001b[0;31m    for data-productjson in silk.select('div:nth-child(1) > div > div'):\u001b[0m\n\u001b[0m       ^\u001b[0m\n\u001b[0;31mSyntaxError\u001b[0m\u001b[0;31m:\u001b[0m can't assign to operator\n"
     ]
    }
   ],
   "source": [
    "import requests\n",
    "from bs4 import BeautifulSoup\n",
    "import pandas as pd\n",
    "from pandas import Series,DataFrame\n",
    "\n",
    "BASE_URL = 'http://www.loewe.com/int/zh_CN/'\n",
    "UA = 'Mozilla/5.0 (Windows NT 10.0; Win64; x64) AppleWebKit/537.36 (KHTML, like Gecko) Chrome/63.0.3239.132 Safari/537.36'\n",
    "HEADERS = {'user_agent':UA}\n",
    "\n",
    "def get_page(url):\n",
    "    resp = requests.get(url, HEADERS)\n",
    "    bs = BeautifulSoup(resp.text, 'html5lib')\n",
    "    return bs\n",
    "\n",
    "# 第一步:获取女士系列的子链接\n",
    "women_series_page = get_page(BASE_URL)\n",
    "women_series_divs = women_series_page.select('div#primary > div > div.error-page-message > div > ul > li:nth-child(1) > a')[0].get('href')\n",
    "\n",
    "# 第二步:获取女士丝巾的子链接\n",
    "women_silk_page = get_page(BASE_URL + women_series_href)\n",
    "women_silk_href = women_silk_page.select('div#wrapper > nav > ul > \\li.navigation-topCatItem.navigation-catItem.\\\n",
    "                                          navigation-cat--current.category-line-feed > ul > li:nth-child(7) > a')[0].get('href')\n",
    "\n",
    "# 第三步:进入到女士丝巾页面，获取所有丝巾信息\n",
    "all_silk_page = get_page(BASE_URL + women_silk_href)\n",
    "columns = []\n",
    "all_silk_button = all_silk_page.select('div#primary > div > div > div > ul > li.view-all-products > span')\n",
    "all_silk_button.click()                                      #找到网页‘所有’按钮，展开所有丝巾信息\n",
    "\n",
    "for silk in all_silk_page.select('#search-result-items > div:nth-child(1)'):\n",
    "    column = []\n",
    "    for data-productjson in silk.select('div:nth-child(1) > div > div'):\n",
    "        jdata = json.loads(data-productjson[0])            # data-productjson为json格式，需要将用loads函数将json格式字符串 -> 字典\n",
    "        column.append(jdata['productURL'])\n",
    "    columns.append(column)\n",
    "\n",
    "train_df=pd.DataFrame(rows,columns=['第一列丝巾URL','第二列丝巾URL','第三列丝巾URL'])\n",
    "train_df "
   ]
  },
  {
   "cell_type": "code",
   "execution_count": null,
   "metadata": {
    "collapsed": true
   },
   "outputs": [],
   "source": [
    "#all_silk_button.click()        这也可以？\n",
    "#10"
   ]
  },
  {
   "cell_type": "markdown",
   "metadata": {},
   "source": [
    "### 本周课程意见反馈(10分送分项，非必答)\n",
    "- 请同学围绕以下两点进行回答：\n",
    "- 自身总结：请您对您自己在本周课程的学习，收获，技能掌握等方面进行一次总结 ，包括自身在哪些方面存在哪些不足，欠缺，困惑。作为将来回顾学习路径时的依据。\n",
    "- 课程反馈：也可以就知识点，进度，难易度，教学方式，考试方式等等进行意见反馈，督促我们进行更有效的改进。\n"
   ]
  },
  {
   "cell_type": "markdown",
   "metadata": {},
   "source": [
    "#### 1.自身总结：\n",
    "- 通过本周爬虫的学习，对于爬虫的基本原理有了基本的了解，能够完成简单的爬虫程序实现。对于本次的考试，三个代码题都没有完全实现，有点出乎意料，但是仔细想想，也在情理之中。在学习爬虫之前，我对于HTML/CSS/web等方面的知识完全不了解，上完课只是把老师讲过的代码自己实现一下，并没有额外‘充电’，所以，这次是一个教训，自己以后还是要多探究一下。\n",
    "#### 2. 课程反馈\n",
    "- 个人意见：我觉得这种课程更多应该在线下开展，老师和学生面对面交流，有问题就能及时解决。而不是线上上课，上完课老师更多的忙自己的工作，对于交流群里面的问题不能及时回答，或者回答的比较空泛，让学生摸不着头脑，这样的话，在一定程度上会打击学生的积极性。所以个人觉得还是希望以后更多的是线下开展教学。以上仅为个人意见，仅供参考。"
   ]
  },
  {
   "cell_type": "markdown",
   "metadata": {
    "collapsed": true
   },
   "source": []
  }
 ],
 "metadata": {
  "kernelspec": {
   "display_name": "Python 3",
   "language": "python",
   "name": "python3"
  },
  "language_info": {
   "codemirror_mode": {
    "name": "ipython",
    "version": 3
   },
   "file_extension": ".py",
   "mimetype": "text/x-python",
   "name": "python",
   "nbconvert_exporter": "python",
   "pygments_lexer": "ipython3",
   "version": "3.5.2"
  }
 },
 "nbformat": 4,
 "nbformat_minor": 2
}
