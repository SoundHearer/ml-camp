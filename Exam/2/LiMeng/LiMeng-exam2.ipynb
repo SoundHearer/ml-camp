{
 "cells": [
  {
   "cell_type": "markdown",
   "metadata": {},
   "source": [
    "## 七月在线机器学习实训营三期第二周(数据抓取)考试\n",
    "#### 考试说明:\n",
    "- 起止时间：请同学在2018年2月2日至2月4日期间完成，最晚提交时间本周日（2月4日24时之前）结束，<b>逾期不接受补考,该考试分数计入平时成绩</b>\n",
    "- 考试方式：请同学<font color=red><b>拷贝</b></font>该试卷至自己姓名的目录后，将文件更名为同学姓名拼音-exam2后，进行作答。例如wangwei-exam2\n",
    "- 提交格式：请同学新建自己姓名全拼的文件夹，将该试卷，zip文件等相关考试文件，放置此目录下。将该目录<b>移动</b>至/0.Teacher/Exam/2/目录下\n",
    "- 注意事项：为确保同学们真正了解自身对本周课程的掌握程度，<font color=red><b>请勿翻阅，移动，更改</b></font>其它同学试卷。如发现按0分处理\n",
    "- 请同学在下方同学姓名处填写自己的姓名，批改人和最终得分不用填写"
   ]
  },
  {
   "cell_type": "markdown",
   "metadata": {
    "collapsed": true
   },
   "source": [
    "- 同学姓名:<u>李猛</u>  \n",
    "- 批改人：助教张老师\n",
    "- 最终得分:100"
   ]
  },
  {
   "cell_type": "markdown",
   "metadata": {},
   "source": [
    "### 简答题 (共两题，每题5分)"
   ]
  },
  {
   "cell_type": "markdown",
   "metadata": {},
   "source": [
    "#### 1.请使用BeautifulSoup定位到以下html代码段内容是“你好”的li标签？\n",
    "```\n",
    "<ul>\n",
    "  <li class=eng>Hello</li>\n",
    "  <li class=eng>World</li>\n",
    "</ul>\n",
    "<ul>\n",
    "  <li class=chn>世界</li>\n",
    "  <li class=chn>你好</li>\n",
    "</ul>\n",
    "```"
   ]
  },
  {
   "cell_type": "code",
   "execution_count": 1,
   "metadata": {},
   "outputs": [
    {
     "name": "stdout",
     "output_type": "stream",
     "text": [
      "标签： <li class=\"chn\">你好</li> \n",
      "内容： 你好\n"
     ]
    }
   ],
   "source": [
    "from bs4 import BeautifulSoup\n",
    "\n",
    "def find_li():\n",
    "    text='''<ul>\n",
    "              <li class=eng>Hello</li>\n",
    "              <li class=eng>World</li>\n",
    "            </ul>\n",
    "            <ul>\n",
    "              <li class=chn>世界</li>\n",
    "              <li class=chn>你好</li>\n",
    "            </ul>'''\n",
    "    bs = BeautifulSoup(text,'html5lib')\n",
    "    con = bs.select('ul > li')[3]\n",
    "    print('标签：',con,'\\n内容：',con.get_text())\n",
    "    \n",
    "find_li()"
   ]
  },
  {
   "cell_type": "markdown",
   "metadata": {},
   "source": [
    "#### 2.如果seleniun的find_xxx返回一个element，但是element.text获取文本为空，该如何进一步处理？"
   ]
  },
  {
   "cell_type": "code",
   "execution_count": null,
   "metadata": {
    "collapsed": true
   },
   "outputs": [],
   "source": [
    "from selenium import webdriver\n",
    "import time\n",
    "\n",
    "def find_element_by_css_selector(element, selector):\n",
    "    try:\n",
    "        return element.find_element_by_css_selector(selector)\n",
    "    except:\n",
    "        return None\n",
    "\n",
    "options=webdriver.ChromeOptions\n",
    "chrome_options = webdriver.ChromeOptions()\n",
    "driver = webdriver.Chrome()\n",
    "driver.get('https://www.baidu.com')\n",
    "con = find_element_by_css_selector(driver,'#su')\n",
    "if not con:\n",
    "    print('')\n",
    "else:\n",
    "    t = con.get_attribute('value')\n",
    "    print(t)\n",
    "    con\n",
    "    \n",
    "    "
   ]
  },
  {
   "cell_type": "markdown",
   "metadata": {},
   "source": [
    "### 代码题(共三题，每题30分)"
   ]
  },
  {
   "cell_type": "markdown",
   "metadata": {},
   "source": [
    "#### 1.利用scrapy框架代码抓取https://sh.lianjia.com/ershoufang/changning/ \n",
    "\n",
    "前5页数据，   \n",
    " - 保留以下字段：信息链接、标题，单价、面积和总价。   \n",
    " - 去除面积50平方以下和单价9万以上。   \n",
    " - 数据以csv格式保存。   \n",
    " - 上传zip项目代码，确保scrapy crawl lianjia可以立即执行。"
   ]
  },
  {
   "cell_type": "code",
   "execution_count": null,
   "metadata": {
    "collapsed": true
   },
   "outputs": [],
   "source": [
    "已上传代码"
   ]
  },
  {
   "cell_type": "markdown",
   "metadata": {},
   "source": [
    "#### 2.使用scrapy实现豆瓣用户名密码登陆（包括验证码，手工输入登录信息）并获取豆瓣首页热门话题的标题和浏览人数。"
   ]
  },
  {
   "cell_type": "code",
   "execution_count": null,
   "metadata": {
    "collapsed": true
   },
   "outputs": [],
   "source": [
    "已上传代码"
   ]
  },
  {
   "cell_type": "markdown",
   "metadata": {},
   "source": [
    "#### 3.获取页面http://www.loewe.com/int/zh_CN/  女士系列/丝巾全部商品链接数据   \n",
    "- （注意，必须展开页面）\n"
   ]
  },
  {
   "cell_type": "code",
   "execution_count": null,
   "metadata": {
    "collapsed": true
   },
   "outputs": [],
   "source": [
    "已上传代码"
   ]
  },
  {
   "cell_type": "markdown",
   "metadata": {},
   "source": [
    "### 本周课程意见反馈(10分送分项，非必答)\n",
    "- 请同学围绕以下两点进行回答：\n",
    "- 自身总结：请您对您自己在本周课程的学习，收获，技能掌握等方面进行一次总结 ，包括自身在哪些方面存在哪些不足，欠缺，困惑。作为将来回顾学习路径时的依据。\n",
    "- 课程反馈：也可以就知识点，进度，难易度，教学方式，考试方式等等进行意见反馈，督促我们进行更有效的改进。\n"
   ]
  },
  {
   "cell_type": "markdown",
   "metadata": {
    "collapsed": true
   },
   "source": [
    "1.自身总结：本周学习了爬虫技术，主要包含requests直接请求目标网站，并结合bs4的BeautifulSoup进行解析。一些难以爬取的网站，可以使用selenium的进行模拟鼠标操作，比如动态加载。另外，还介绍了Scrapy爬虫框架，使用requests爬取是串行流程，容易堵塞。scrapy将处理流程解耦合，更加灵活，更具效率。\n",
    "scrapy工作流程：\n",
    "0.Scheduler->Requests，调度器，定时发起任务请求\n",
    "1.Downloader，下载网页\n",
    "2.Response->Spiders，将下载到的内容交给spiders解析\n",
    "3.Items->ItemPipeline，将item交给ItemPipeline持久化（存文本，数据库…）\n",
    "3.1 Items->Scheduler，继续爬取\n",
    "4.downloader middlewares，可以加代理，请求Headers，下载器\n",
    "\n",
    "本身对于爬虫是从零开始学习，requests学习时比较轻松，但是scrapy内容比较多，需要较多的课下练习，且涉及的点很多，光靠课堂内容不够。需要自己找网站做爬取练习。\n",
    "2.林老师和寒老师的爬虫课通俗易懂，学完就上手，也比较基础。可能是由于时间关系，且爬虫也非本系列课程重点，scrapy的一些知识，如动态拉取，未在课堂讲到。本周线下课内容不够紧凑，希望线下老师能讲授更多的东西，谢谢老师！"
   ]
  }
 ],
 "metadata": {
  "kernelspec": {
   "display_name": "Python 3",
   "language": "python",
   "name": "python3"
  },
  "language_info": {
   "codemirror_mode": {
    "name": "ipython",
    "version": 3
   },
   "file_extension": ".py",
   "mimetype": "text/x-python",
   "name": "python",
   "nbconvert_exporter": "python",
   "pygments_lexer": "ipython3",
   "version": "3.5.2"
  }
 },
 "nbformat": 4,
 "nbformat_minor": 2
}
