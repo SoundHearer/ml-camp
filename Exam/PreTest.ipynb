{
 "cells": [
  {
   "cell_type": "markdown",
   "metadata": {},
   "source": [
    "## 七月在线机器学习实训营入学前考试\n",
    "#### 测试说明:\n",
    "\n",
    "- 请同学在下方同学姓名处填写自己的姓名，批改人和最终得分不用填写\n",
    "- 结束后请通知相关联系人为你估算分数。"
   ]
  },
  {
   "cell_type": "markdown",
   "metadata": {},
   "source": [
    "- 同学姓名:<u>(请同学自己填写)</u>  \n",
    "- 批改人：   \n",
    "- 最终得分:"
   ]
  },
  {
   "cell_type": "markdown",
   "metadata": {},
   "source": [
    "### 简答题 (共四题，每题10分)"
   ]
  },
  {
   "cell_type": "markdown",
   "metadata": {},
   "source": [
    "#### 1.简要介绍下您理解的Python语言"
   ]
  },
  {
   "cell_type": "code",
   "execution_count": null,
   "metadata": {
    "collapsed": true
   },
   "outputs": [],
   "source": []
  },
  {
   "cell_type": "markdown",
   "metadata": {},
   "source": [
    "#### 2.请谈谈Python中is 和 == 的区别"
   ]
  },
  {
   "cell_type": "code",
   "execution_count": null,
   "metadata": {
    "collapsed": true
   },
   "outputs": [],
   "source": []
  },
  {
   "cell_type": "markdown",
   "metadata": {},
   "source": [
    "#### 3.什么是Python中的自省？(代码演示)"
   ]
  },
  {
   "cell_type": "code",
   "execution_count": null,
   "metadata": {
    "collapsed": true
   },
   "outputs": [],
   "source": []
  },
  {
   "cell_type": "markdown",
   "metadata": {},
   "source": [
    "#### 4.请简要说明Python语言中的声明与表达式各自的含义是什么？（并附代码演示）"
   ]
  },
  {
   "cell_type": "code",
   "execution_count": null,
   "metadata": {
    "collapsed": true
   },
   "outputs": [],
   "source": []
  },
  {
   "cell_type": "markdown",
   "metadata": {},
   "source": [
    "### 代码题(共四题，每题15分)"
   ]
  },
  {
   "cell_type": "markdown",
   "metadata": {},
   "source": [
    "#### 1.Python 的算术运算符\n",
    "\n",
    "- 使用+、-、*、/、**（没有%）和数字 2、3、4、5，构造一个字符串，使用所有的4个数字和5个运算符中的3个各一次，要求计算结果为28。\n",
    "\n",
    "- <b>执行</b>该字符串，验证结果。"
   ]
  },
  {
   "cell_type": "code",
   "execution_count": null,
   "metadata": {
    "collapsed": true
   },
   "outputs": [],
   "source": []
  },
  {
   "cell_type": "markdown",
   "metadata": {},
   "source": [
    "#### 2.数据描述：\n",
    "\n",
    "- 创建一个包含100个随机整数的列表, 输出该数组的中位数（若结果为小数，则保留一位小数），众数，及标准差\n",
    "\n",
    "  - 众数可能包含不止一个，有几个众数输出几个，如果没有则输出None.\n",
    "  - 标准差计算不借助已有方法，要自己代码实现。"
   ]
  },
  {
   "cell_type": "code",
   "execution_count": null,
   "metadata": {
    "collapsed": true
   },
   "outputs": [],
   "source": []
  },
  {
   "cell_type": "markdown",
   "metadata": {},
   "source": [
    "#### 3.高阶函数综合运用\n",
    "\n",
    "l1=[1,3,6,8,10,11,17]\n",
    "\n",
    "请仅使用map,reduce,filter分别对上方数组进行如下三次操作：\n",
    "\n",
    "\n",
    "- 剔除掉所有的偶数\n",
    "\n",
    "- 对剩下的数字每个数字进行平方\n",
    "\n",
    "- 对数组求和"
   ]
  },
  {
   "cell_type": "code",
   "execution_count": null,
   "metadata": {
    "collapsed": true
   },
   "outputs": [],
   "source": [
    "x=list(filter(lambda x:))"
   ]
  },
  {
   "cell_type": "markdown",
   "metadata": {},
   "source": [
    "#### 4.面对对象设计\n",
    "设计一个公司类，完成以下要求，并实例化不同对象进行验证\n",
    "\n",
    "类成员\n",
    "\n",
    "        类下公司的总个数\n",
    "\n",
    "类方法\n",
    "\n",
    "        返回公司类共有多少个公司实例\n",
    "\n",
    "实例变量\n",
    "\n",
    "        公司名，简介，利润，销售额，总成本，雇员姓名，雇员人员。\n",
    "\n",
    "实例方法要求有：\n",
    "\n",
    "        招聘人才（每招一个人会有成本产生，影响雇员列表，人数，总成本）\n",
    "\n",
    "        解雇人员（每解雇一个人会有成本产生，影响雇员列表，人数 ，总成本）\n",
    "\n",
    "        公司广告推广(影响总成本)\n",
    "\n",
    "        交社保(按公司雇员总人数计算，影响总成本)\n",
    "\n",
    "        交税(按公司雇员总人数计算，影响总成本)\n",
    "\n",
    "        销售（按销售件数*价格计算销售额，利润按销售额*利润率进行计算利润。）\n",
    "\n",
    "        获取公司雇员列表\n",
    "\n",
    "        获取公司净利润"
   ]
  },
  {
   "cell_type": "code",
   "execution_count": null,
   "metadata": {
    "collapsed": true
   },
   "outputs": [],
   "source": []
  }
 ],
 "metadata": {
  "kernelspec": {
   "display_name": "Python 3",
   "language": "python",
   "name": "python3"
  },
  "language_info": {
   "codemirror_mode": {
    "name": "ipython",
    "version": 3
   },
   "file_extension": ".py",
   "mimetype": "text/x-python",
   "name": "python",
   "nbconvert_exporter": "python",
   "pygments_lexer": "ipython3",
   "version": "3.5.2"
  }
 },
 "nbformat": 4,
 "nbformat_minor": 2
}
