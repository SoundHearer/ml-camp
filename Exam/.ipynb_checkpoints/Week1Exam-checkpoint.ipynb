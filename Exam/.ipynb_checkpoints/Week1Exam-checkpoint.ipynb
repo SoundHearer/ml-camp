{
 "cells": [
  {
   "cell_type": "markdown",
   "metadata": {},
   "source": [
    "## 七月在线机器学习实训营三期第一周(Python基础)考试\n",
    "#### 考试说明:\n",
    "- 起止时间：请同学在2018年1月26日至1月28日期间完成，最晚提交时间本周日（1月28日24时之前）结束，<b>逾期不接受补考,该考试分数计入平时成绩</b>\n",
    "- 考试方式：请同学<font color=red><b>拷贝</b></font>该试卷至自己姓名的目录后，将文件更名为同学姓名拼音-exam1后，进行作答。例如wangwei-exam1\n",
    "- 提交格式：请同学新建自己姓名全拼的文件夹，将该试卷，zip文件等相关考试文件，放置此目录下。将该目录<b>移动</b>至/0.Teacher/Exam/1/目录下\n",
    "- 注意事项：为确保同学们真正了解自身对本周课程的掌握程度，<font color=red><b>请勿翻阅，移动，更改</b></font>其它同学试卷。如发现按0分处理\n",
    "- 请同学在下方同学姓名处填写自己的姓名，批改人和最终得分不用填写"
   ]
  },
  {
   "cell_type": "markdown",
   "metadata": {},
   "source": [
    "- 同学姓名:<u>(请同学自己填写)</u>  \n",
    "- 批改人：   \n",
    "- 最终得分:"
   ]
  },
  {
   "cell_type": "markdown",
   "metadata": {},
   "source": [
    "### 简答题 (共四题，每题5分)"
   ]
  },
  {
   "cell_type": "markdown",
   "metadata": {},
   "source": [
    "#### 1.谈谈你对Python中不可变对象与可变对象的理解（并附代码演示）"
   ]
  },
  {
   "cell_type": "code",
   "execution_count": 8,
   "metadata": {
    "scrolled": true
   },
   "outputs": [
    {
     "name": "stdout",
     "output_type": "stream",
     "text": [
      "id,a: 10920032\n",
      "id,b: 10919712\n",
      "id,a: 10920032\n",
      "id,b: 10919712\n",
      "10\n",
      "id,l1: 139644912478600\n",
      "id,l2: 139644912478600\n",
      "[1, 2, 3, 'ab']\n"
     ]
    }
   ],
   "source": [
    "#不可变对象\n",
    "a=b=c=10;\n",
    "a=20;\n",
    "print('id,a:',id(a))\n",
    "print('id,b:',id(b))\n",
    "\n",
    "a=10;\n",
    "b=a;\n",
    "a=20;\n",
    "print('id,a:',id(a))\n",
    "print('id,b:',id(b))\n",
    "print(b);\n",
    "\n",
    "#可变对象\n",
    "l1=[1,2,3]\n",
    "l2=l1\n",
    "l1.append('ab')\n",
    "print('id,l1:',id(l1));\n",
    "print('id,l2:',id(l2));\n",
    "print(l2)\n",
    "\n",
    "#综合上面：可变对象id一致，一个变，另一个跟着变。 不可变对象，id不一致（id即地址），一个变，另一个继续指向自己的id，不会跟着变化。"
   ]
  },
  {
   "cell_type": "markdown",
   "metadata": {},
   "source": [
    "#### 2.请谈谈Python中is 和 == 的区别"
   ]
  },
  {
   "cell_type": "code",
   "execution_count": 17,
   "metadata": {},
   "outputs": [
    {
     "name": "stdout",
     "output_type": "stream",
     "text": [
      "id,a: 10919424\n",
      "id,b: 10919424\n",
      "id,d: 139644894580880\n",
      "a is b True\n",
      "a is d False\n",
      "a == b True\n",
      "a == d True\n"
     ]
    }
   ],
   "source": [
    "# Python中的对象包含三要素：id、type、value\n",
    "# 其中id用来唯一标识一个对象，type标识对象的类型，value是对象的值\n",
    "# is判断的是id是否一致\n",
    "# ==判断的是value是否一致\n",
    "a = 1\n",
    "b = a\n",
    "c = 1\n",
    "d = 1.0;\n",
    "print('id,a:',id(a))\n",
    "print('id,b:',id(b))\n",
    "print('id,d:',id(d))\n",
    "print('a is b',a is b)\n",
    "print('a is d',a is d)\n",
    "print('a == b',a == b)\n",
    "print('a == d',a == d)"
   ]
  },
  {
   "cell_type": "markdown",
   "metadata": {},
   "source": [
    "#### 3.什么是Python中的自省？(代码演示)"
   ]
  },
  {
   "cell_type": "code",
   "execution_count": 25,
   "metadata": {},
   "outputs": [
    {
     "name": "stdout",
     "output_type": "stream",
     "text": [
      "Help on built-in function format:\n",
      "\n",
      "format(...) method of builtins.str instance\n",
      "    S.format(*args, **kwargs) -> str\n",
      "    \n",
      "    Return a formatted version of S, using substitutions from args and kwargs.\n",
      "    The substitutions are identified by braces ('{' and '}').\n",
      "\n",
      "linux\n",
      "['/usr/local/lib/python3.5/dist-packages/ipykernel_launcher.py', '-f', '/home/hanxiaoyang/.local/share/jupyter/runtime/kernel-bafc01da-3e7d-47ac-8b12-1060034176c7.json']\n"
     ]
    }
   ],
   "source": [
    "#让对象自己告诉我们他是什么，用于实现在运行时获取未知对象的信息。像dir，help，sys等方法就是这功能\n",
    "str='ss';\n",
    "#不清楚字符串的方法,dir一下，全部出来了\n",
    "dir(str)\n",
    "#不清楚某个方法怎么用，参数怎么传，help一下,非常清楚\n",
    "help(str.format)\n",
    "#sys模块，系统特定的参数和函数，sys 模块是提供关于 Python 本身的详尽内在信息的模块。\n",
    "#通过导入模块，并用点（.）符号引用其内容（如变量、函数和类）来使用模块。 sys 模块包含各种变量和函数，\n",
    "#它们揭示了当前的 Python 解释器有趣的详细信息。\n",
    "import sys\n",
    "print(sys.platform)#获取当前操作系统信息\n",
    "print(sys.argv)"
   ]
  },
  {
   "cell_type": "markdown",
   "metadata": {},
   "source": []
  },
  {
   "cell_type": "markdown",
   "metadata": {},
   "source": [
    "#### 4.请简要说明Python语言中的声明与表达式各自的含义是什么？（并附代码演示）"
   ]
  },
  {
   "cell_type": "code",
   "execution_count": 29,
   "metadata": {},
   "outputs": [
    {
     "data": {
      "text/plain": [
       "9"
      ]
     },
     "execution_count": 29,
     "metadata": {},
     "output_type": "execute_result"
    }
   ],
   "source": [
    "#声明，就是statement，没返回值，一个变量，一个类都是申明\n",
    "a=10;\n",
    "#表达式则通常有返回结果,a输出a的值就是一个表达式\n",
    "a\n",
    "#字符串中的申明和表达式执行\n",
    "exec('b=9')#从字符串里执行一个声明\n",
    "eval('b')#从字符串里执行一个表达式"
   ]
  },
  {
   "cell_type": "markdown",
   "metadata": {},
   "source": [
    "### 代码题(共十题，每题8分)"
   ]
  },
  {
   "cell_type": "markdown",
   "metadata": {},
   "source": [
    "#### 1.Python 的算术运算符\n",
    "\n",
    "- 使用+、-、*、/、**（没有%）和数字 2、3、4、5，构造一个字符串，使用所有的4个数字和5个运算符中的3个各一次，要求计算结果为28。\n",
    "\n",
    "- <b>执行</b>该字符串，验证结果。"
   ]
  },
  {
   "cell_type": "code",
   "execution_count": null,
   "metadata": {
    "collapsed": true
   },
   "outputs": [],
   "source": [
    "str=''"
   ]
  },
  {
   "cell_type": "markdown",
   "metadata": {},
   "source": [
    "#### 2.数据描述：\n",
    "\n",
    "- 创建一个包含100个随机整数的列表, 输出该数组的中位数（若结果为小数，则保留一位小数），众数，及标准差\n",
    "\n",
    "  - 众数可能包含不止一个，有几个众数输出几个，如果没有则输出None.\n",
    "  - 标准差计算不借助已有方法，要自己代码实现。"
   ]
  },
  {
   "cell_type": "code",
   "execution_count": null,
   "metadata": {
    "collapsed": true
   },
   "outputs": [],
   "source": []
  },
  {
   "cell_type": "markdown",
   "metadata": {},
   "source": [
    "#### 3.字符统计\n",
    "- 输入一行字符，分别统计出其中英文字母、空格、数字和其它字符的个数。\n",
    "- 提示：\n",
    "  - ord('a') 能将字符 'a' 转化为 ASCII 码表上对应的数值，\n",
    "  - 例如，空格为32  \n",
    "  - 数字 0-9 对应的码值为 48-57\n",
    "  - 大写字母 A-Z 对应 65-90\n",
    "  - 小写字母 a-z 对应 97-122\n",
    "  - 比122高的都是其它。"
   ]
  },
  {
   "cell_type": "code",
   "execution_count": null,
   "metadata": {
    "collapsed": true
   },
   "outputs": [],
   "source": []
  },
  {
   "cell_type": "markdown",
   "metadata": {
    "collapsed": true
   },
   "source": [
    "#### 4.Python代码实现去除一个列表中相邻且重复的元素。\n",
    "- 说明\n",
    "  - l1=[1,2,3,4,4,4,4,4,4,5,6,6,8,8,12,12,12,12,13]\n",
    "  - 请勿使用set，否则计0分。\n"
   ]
  },
  {
   "cell_type": "code",
   "execution_count": 55,
   "metadata": {},
   "outputs": [
    {
     "name": "stdout",
     "output_type": "stream",
     "text": [
      "[1, 2, 3, 4, 5, 6, 8, 12]\n"
     ]
    }
   ],
   "source": [
    "l1=[1,2,3,4,4,4,4,4,4,5,6,6,8,8,12,12,12,12,13]\n",
    "# list(set(l1))\n",
    "ls=[];\n",
    "for i in range(len(l1)-1):\n",
    "    if l1[i]==l1[i+1]:\n",
    "        continue\n",
    "    if(i==len(l1)-1):\n",
    "        for i in ls:\n",
    "            print(i)\n",
    "            print(ls)\n",
    "            if i==l1[len(ll)-1]:\n",
    "                continue\n",
    "    ls.append(l1[i])\n",
    "print(ls)\n",
    "        "
   ]
  },
  {
   "cell_type": "markdown",
   "metadata": {},
   "source": [
    "#### 5.字母串转字母\n",
    "\n",
    "依次计算一系列给定字符串的字母值，字母值为字符串中每个字母对应的编号值（A对应1，B对应2，以此类推，不区分大小写字母，非字母字符对应的值为0）的总和。例如，Colin 的字母值为 3 + 15 + 12 + 9 + 14 = 53\n",
    " \n",
    "\n",
    "输入格式:\n",
    "\n",
    "一系列字符串，每个字符串占一行。\n",
    "\n",
    "输出格式：\n",
    "\n",
    "计算并输出每行字符串的字母值。\n",
    "\n",
    "输入样例：\n",
    "\n",
    "Colin\n",
    "\n",
    "ABC\n",
    "\n",
    "\n",
    "输出样例：\n",
    "\n",
    "53\n",
    "\n",
    "6"
   ]
  },
  {
   "cell_type": "code",
   "execution_count": null,
   "metadata": {
    "collapsed": true
   },
   "outputs": [],
   "source": []
  },
  {
   "cell_type": "markdown",
   "metadata": {},
   "source": [
    "#### 6.高阶函数综合运用\n",
    "\n",
    "l1=[1,3,6,8,10,11,17]\n",
    "\n",
    "请仅使用map,reduce,filter分别对上方数组进行如下三次操作：\n",
    "\n",
    "\n",
    "- 剔除掉所有的偶数\n",
    "\n",
    "- 对剩下的数字每个数字进行平方\n",
    "\n",
    "- 对数组求和"
   ]
  },
  {
   "cell_type": "code",
   "execution_count": null,
   "metadata": {
    "collapsed": true
   },
   "outputs": [],
   "source": [
    "l1=[1,3,6,8,10,11,17]\n",
    "map"
   ]
  },
  {
   "cell_type": "markdown",
   "metadata": {},
   "source": [
    "#### 7.数山峰\n",
    "\n",
    "小明在爬山时喜欢每隔段时间记录下当前点的海拔高度,他将记录保存在一个python列表中。小明想通过这个列表看下自己经过了几个山峰，请帮计算并输出结果。\n",
    "\n",
    "例如：\n",
    "\n",
    "l1=[221,237,239,258,247,228,198,215,222,240,255,275,260,255,240,233,220] \n",
    "\n",
    "将这些海拨高度顺序连线，会发现有两个山峰，因此输出为2(列表两端忽略)\n",
    "\n",
    "注意：山峰的定义为山峰之后的连续出现三个值均小于该峰的高度才定义为该峰为山峰。"
   ]
  },
  {
   "cell_type": "markdown",
   "metadata": {},
   "source": [
    "#### 8.冒泡排序\n",
    "生成一个由50个随机数组成的列表，并对其实现冒泡排序算法。"
   ]
  },
  {
   "cell_type": "code",
   "execution_count": 40,
   "metadata": {},
   "outputs": [
    {
     "name": "stdout",
     "output_type": "stream",
     "text": [
      "[414, 441, 119, 245, 72, 484, 294, 364, 426, 431, 224, 245, 58, 55, 349, 182, 90, 253, 169, 23, 262, 213, 153, 82, 398, 25, 349, 80, 241, 183, 141, 430, 96, 234, 301, 162, 260, 139, 288, 353, 368, 25, 54, 29, 483, 255, 373, 22, 2, 278]\n",
      "[23, 25, 55, 58, 72, 80, 82, 90, 119, 153, 141, 169, 182, 183, 96, 213, 224, 234, 241, 245, 162, 245, 253, 260, 139, 262, 288, 294, 301, 349, 349, 353, 25, 364, 54, 368, 29, 398, 414, 426, 255, 430, 373, 431, 22, 441, 2, 483, 278, 484]\n"
     ]
    }
   ],
   "source": [
    "import random\n",
    "array=[];\n",
    "for i in range(50):\n",
    "    n=random.randint(1,500);\n",
    "    array.append(n);\n",
    "print(array)\n",
    "for i in range(len(array)):\n",
    "    for j in range(i):\n",
    "        if array[j] > array[j + 1]:\n",
    "            array[j], array[j + 1] = array[j + 1], array[j]\n",
    "print(array)"
   ]
  },
  {
   "cell_type": "markdown",
   "metadata": {},
   "source": [
    "#### 9.Python魔法函数\n",
    "实现一个可进行减法运算的类，并实例化两个对象进行验证。\n",
    "\n",
    "提示：使用魔法函数__sub__"
   ]
  },
  {
   "cell_type": "code",
   "execution_count": null,
   "metadata": {
    "collapsed": true
   },
   "outputs": [],
   "source": []
  },
  {
   "cell_type": "markdown",
   "metadata": {},
   "source": [
    "#### 10.面对对象设计\n",
    "设计一个公司类，完成以下要求，并实例化不同对象进行验证\n",
    "\n",
    "类成员\n",
    "\n",
    "        类下公司的总个数\n",
    "\n",
    "类方法\n",
    "\n",
    "        返回公司类共有多少个公司实例\n",
    "\n",
    "实例变量\n",
    "\n",
    "        公司名，简介，利润，销售额，总成本，雇员姓名，雇员人员。\n",
    "\n",
    "实例方法要求有：\n",
    "\n",
    "        招聘人才（每招一个人会有成本产生，影响雇员列表，人数，总成本）\n",
    "\n",
    "        解雇人员（每解雇一个人会有成本产生，影响雇员列表，人数 ，总成本）\n",
    "\n",
    "        公司广告推广(影响总成本)\n",
    "\n",
    "        交社保(按公司雇员总人数计算，影响总成本)\n",
    "\n",
    "        交税(按公司雇员总人数计算，影响总成本)\n",
    "\n",
    "        销售（按销售件数*价格计算销售额，利润按销售额*利润率进行计算利润。）\n",
    "\n",
    "        获取公司雇员列表\n",
    "\n",
    "        获取公司净利润"
   ]
  },
  {
   "cell_type": "code",
   "execution_count": null,
   "metadata": {
    "collapsed": true
   },
   "outputs": [],
   "source": []
  },
  {
   "cell_type": "markdown",
   "metadata": {},
   "source": [
    "### 本周课程意见反馈(10分送分项，非必答)\n",
    "- 请同学围绕以下两点进行回答：\n",
    "- 自身总结：请您对您自己在本周课程的学习，收获，技能掌握等方面进行一次总结 ，包括自身在哪些方面存在哪些不足，欠缺，困惑。作为将来回顾学习路径时的依据。\n",
    "- 课程反馈：也可以就知识点，进度，难易度，教学方式，考试方式等等进行意见反馈，督促我们进行更有效的改进。\n"
   ]
  },
  {
   "cell_type": "code",
   "execution_count": null,
   "metadata": {
    "collapsed": true
   },
   "outputs": [],
   "source": []
  }
 ],
 "metadata": {
  "kernelspec": {
   "display_name": "Python 3",
   "language": "python",
   "name": "python3"
  },
  "language_info": {
   "codemirror_mode": {
    "name": "ipython",
    "version": 3
   },
   "file_extension": ".py",
   "mimetype": "text/x-python",
   "name": "python",
   "nbconvert_exporter": "python",
   "pygments_lexer": "ipython3",
   "version": "3.5.2"
  }
 },
 "nbformat": 4,
 "nbformat_minor": 2
}
