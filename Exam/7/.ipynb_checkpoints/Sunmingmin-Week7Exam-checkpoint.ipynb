{
 "cells": [
  {
   "cell_type": "markdown",
   "metadata": {},
   "source": [
    "## 七月在线机器学习实训营三期第七周(机器学习-模型调优与融合)考试\n",
    "#### 考试说明:\n",
    "- 起止时间：请同学在2018年3月23日至3月25日期间完成，最晚提交时间本周日（3月25日24时之前）结束，<b>逾期不接受补考,该考试分数计入平时成绩</b>\n",
    "- 考试方式：请同学<font color=red><b>拷贝</b></font>该试卷至自己姓名的目录后，将文件更名为同学姓名拼音-exam7后，进行作答。例如wangwei-exam7\n",
    "- 提交格式：请同学新建自己姓名全拼的文件夹，将该试卷，数据文件，zip文件等相关考试文件，放置此目录下。将该目录<b>移动</b>至/0.Teacher/Exam/7/目录下\n",
    "- 注意事项：为确保同学们真正了解自身对本周课程的掌握程度，<font color=red><b>请勿翻阅，移动，更改</b></font>其它同学试卷。如发现按0分处理\n",
    "- 请同学在下方同学姓名处填写自己的姓名，批改人和最终得分不用填写"
   ]
  },
  {
   "cell_type": "markdown",
   "metadata": {},
   "source": [
    "- 同学姓名:<u>_孙明敏____</u>  \n",
    "- 批改人： David\n",
    "- 最终得分:100"
   ]
  },
  {
   "cell_type": "markdown",
   "metadata": {},
   "source": [
    "<center><h1>####答卷开始####</h1></center>\n",
    "<hr>"
   ]
  },
  {
   "cell_type": "markdown",
   "metadata": {},
   "source": [
    "## 简答题(共6题，1，2题每题5分，后4题每题10分，共计50分)\n",
    "\n",
    "- note: 50分"
   ]
  },
  {
   "cell_type": "markdown",
   "metadata": {},
   "source": [
    "#### 1. 机器学习任务中，通常会将给定数据切分为训练集，验证集，测试集，请回答这三类数据集各自的用途。"
   ]
  },
  {
   "cell_type": "markdown",
   "metadata": {
    "collapsed": true
   },
   "source": [
    "在训练有监督的机器学习模型的时候，会将数据划分为训练集、验证集和测试集。对原始数据进行三个集合的划分，是为了能够选出效果最好的、\n",
    "泛化能力最佳的模型。<br>\n",
    "训练集（Training set）：\n",
    "作用是用来拟合模型，通过设置分类器的参数，训练分类模型。后续结合验证集作用时，会选出同一参数的不同取值，拟合出多个分类器。<br>\n",
    "验证集(Cross Validation set):\n",
    "作用是当通过训练集训练出多个模型后，为了能找出效果最佳的模型，使用各个模型对验证集数据进行预测，并记录模型准确率。选出效果最佳的模型所对应的参数，即用来调整模型参数。如svm中的参数c和核函数等。<br>\n",
    "测试集(Test set):\n",
    "通过训练集和验证集得出最优模型后，使用测试集进行模型预测。用来衡量该最优模型的性能和分类能力。即可以把测试集当做从来不存在的数据集，当已经确定模型参数后，使用测试集进行模型性能评价。"
   ]
  },
  {
   "cell_type": "markdown",
   "metadata": {},
   "source": [
    "#### 2.如何将数据转换成xgboost内置用法的libsvm数据格式，以及该格式数据是如何解读的?"
   ]
  },
  {
   "cell_type": "markdown",
   "metadata": {
    "collapsed": true
   },
   "source": [
    "1.使用xgboost的DMatrix来完成<br>\n",
    "2.该数据格式是一行为一个样本 第一列为标签，后面为特征以及特征的值 重要的是在libsvm中特征为0 的全部不显示 只保留有数据的特征。"
   ]
  },
  {
   "cell_type": "markdown",
   "metadata": {},
   "source": [
    "#### 3. 对于自动特征选择，通常有哪三类方法？试写出每类方式的思想，以及在sklearn中的代码实现（面试题）"
   ]
  },
  {
   "cell_type": "markdown",
   "metadata": {
    "collapsed": true
   },
   "source": [
    "1.单变量分析<br>\n",
    "单变量特征选择能够对每一个特征进行测试，衡量该特征和响应变量之间的关系，根据得分扔掉不好的特征。<br>\n",
    "sklearn.feature_selection.SelectKBest(k=10)选取排名前十的特征<br>\n",
    "<br>\n",
    "2.递归特征消除Recursive feature elimination（RFE）<br>\n",
    "递归特征消除的主要思想是反复的构建模型（如SVM或者回归模型）然后选出最好的（或者最差的）的特征（可以根据系数来选），把选出来的特征选择出来，然后在剩余的特征上重复这个过程，直到所有特征都遍历了<br>\n",
    "from sklearn.svm import SVC<br>\n",
    "from sklearn.datasets import load_digits<br>\n",
    "from sklearn.feature_selection import RFE<br>\n",
    "digits = load_digits()<br>\n",
    "X = digits.images.reshape((len(digits.images), -1))<br>\n",
    "y = digits.target<br>\n",
    "svc = SVC(kernel=\"linear\", C=1)<br>\n",
    "rfe = RFE(estimator=svc, n_features_to_select=1, step=1)<br>\n",
    "rfe.fit(X, y)<br>\n",
    "<br>\n",
    "3.Feature selection using SelectFromModel基于模型的特征选择<br>\n",
    "SelectFromModel 是一个 meta-transformer，可以和在训练完后有一个coef_ 或者 feature_importances_ 属性的评估器（机器学习算法）一起使用。如果相应的coef_ 或者feature_importances_ 的值小于设置的阀值参数，这些特征可以视为不重要或者删除。<br>\n",
    "常见的有L1-based feature selection 基于树的特征选择Tree-based feature selection<br>\n",
    "from sklearn.ensemble import ExtraTreesClassifier<br>\n",
    "from sklearn.datasets import load_iris<br>\n",
    "from sklearn.feature_selection import SelectFromModel<br>\n",
    "iris = load_iris()<br>\n",
    "X, y = iris.data, iris.target<br>\n",
    "X.shape<br>\n",
    "＃(150, 4)<br>\n",
    "clf = ExtraTreesClassifier()<br>\n",
    "clf = clf.fit(X, y)<br>\n",
    "clf.feature_importances_ <br> \n",
    "array([ 0.04...,  0.05...,  0.4...,  0.4...])<br>"
   ]
  },
  {
   "cell_type": "markdown",
   "metadata": {},
   "source": [
    "#### 4.网格搜索交叉验证的作用是什么，并简述网格搜索交叉验证是如何运行的？ "
   ]
  },
  {
   "cell_type": "markdown",
   "metadata": {
    "collapsed": true
   },
   "source": [
    "网格搜索算法是一种通过遍历给定的参数组合来优化模型表现的方法。<br>\n",
    "将各个参数可能的取值进行排列组合，列出所有可能的组合结果生成“网格”。然后将各组合用于模型训练，并使用交叉验证对表现进行评估。在拟合函数尝试了所有的参数组合后，返回一个合适的分类器，自动调整至最佳参数组合，可以通过clf.best_params_ 获得参数值"
   ]
  },
  {
   "cell_type": "markdown",
   "metadata": {},
   "source": [
    "#### 5.工业界上模型整合有三大类方式？试简述每类方式其思想？（面试题）"
   ]
  },
  {
   "cell_type": "markdown",
   "metadata": {
    "collapsed": true
   },
   "source": [
    "模型融合方式：Bagging、Stacking、Boosting<br>\n",
    "bagging：利用一定的手段学习出多个分类器，而且这多个分类器要求是弱分类器，然后将多个分类器进行组合公共预测。核心思想就是如何训练处多个弱分类器以及如何将这些弱分类器进行组合。<br>\n",
    "Stacking:训练一个模型用于组合(combine)其他各个模型。即首先我们先训练多个不同的模型，然后再以之前训练的各个模型的输出为输入来训练一个模型，以得到一个最终的输出。<br>\n",
    "Boosting：通过加法模型将弱分类器进行线性组合，比如AdaBoost通过加权多数表决的方式，即增大错误率小的分类器的权值，同时减小错误率较大的分类器的权值。"
   ]
  },
  {
   "cell_type": "markdown",
   "metadata": {},
   "source": [
    "#### 6.  我们可以将xgboost的中众多参数分类为哪三类？请写出哪些参数可以用什么方式用来控制过拟合？"
   ]
  },
  {
   "cell_type": "markdown",
   "metadata": {
    "collapsed": true
   },
   "source": [
    "参数分类：General Parameters: 控制总体的功能<br>\n",
    "Booster Parameters: 控制单个学习器的属性<br>\n",
    "Learning Task Parameters: 控制调优的步骤<br>\n",
    "控制过拟合参数：<br>\n",
    "eta：收缩步长<br>\n",
    "max_depth：树的深度越大，则对数据的拟合程度越高<br>\n",
    "min_child_weight：孩子节点中最小的样本权重和 这个参数是指建立每个模型所需要的最小样本数。该成熟越大算法越conservative<br>\n",
    "subsample：用于训练模型的子样本占整个样本集合的比例。如果设置为0.5则意味着XGBoost将随机的冲整个样本集合中随机的抽取出50%的子样本建立树模型，这能够防止过拟合<br>"
   ]
  },
  {
   "cell_type": "markdown",
   "metadata": {},
   "source": [
    "## 实验题(共2题，每题25分，共计50分)\n",
    "\n",
    "- 50"
   ]
  },
  {
   "cell_type": "markdown",
   "metadata": {},
   "source": [
    "### 1. 使用XGBoost内置方式，导入iris数据完成分类问题（要求以不同参数设置xgboost运行并比对），最后给出实验总结\n",
    "\n",
    "- note: 棒，要求都get到"
   ]
  },
  {
   "cell_type": "code",
   "execution_count": 19,
   "metadata": {
    "collapsed": true
   },
   "outputs": [],
   "source": [
    "import xgboost as xgb\n",
    "from sklearn.datasets import load_iris\n",
    "iris = load_iris()"
   ]
  },
  {
   "cell_type": "code",
   "execution_count": 20,
   "metadata": {
    "collapsed": true
   },
   "outputs": [],
   "source": [
    "X = iris.data\n",
    "Y = iris.target"
   ]
  },
  {
   "cell_type": "code",
   "execution_count": 3,
   "metadata": {},
   "outputs": [
    {
     "data": {
      "text/plain": [
       "array([[5.1, 3.5, 1.4, 0.2],\n",
       "       [4.9, 3. , 1.4, 0.2],\n",
       "       [4.7, 3.2, 1.3, 0.2]])"
      ]
     },
     "execution_count": 3,
     "metadata": {},
     "output_type": "execute_result"
    }
   ],
   "source": [
    "X[:3,:]"
   ]
  },
  {
   "cell_type": "code",
   "execution_count": 9,
   "metadata": {},
   "outputs": [
    {
     "data": {
      "text/plain": [
       "array([0, 0, 0, 0, 0, 0, 0, 0, 0, 0, 0, 0, 0, 0, 0, 0, 0, 0, 0, 0, 0, 0,\n",
       "       0, 0, 0, 0, 0, 0, 0, 0, 0, 0, 0, 0, 0, 0, 0, 0, 0, 0, 0, 0, 0, 0,\n",
       "       0, 0, 0, 0, 0, 0, 1, 1, 1, 1, 1, 1, 1, 1, 1, 1, 1, 1, 1, 1, 1, 1,\n",
       "       1, 1, 1, 1, 1, 1, 1, 1, 1, 1, 1, 1, 1, 1, 1, 1, 1, 1, 1, 1, 1, 1,\n",
       "       1, 1, 1, 1, 1, 1, 1, 1, 1, 1, 1, 1, 2, 2, 2, 2, 2, 2, 2, 2, 2, 2,\n",
       "       2, 2, 2, 2, 2, 2, 2, 2, 2, 2, 2, 2, 2, 2, 2, 2, 2, 2, 2, 2, 2, 2,\n",
       "       2, 2, 2, 2, 2, 2, 2, 2, 2, 2, 2, 2, 2, 2, 2, 2, 2, 2])"
      ]
     },
     "execution_count": 9,
     "metadata": {},
     "output_type": "execute_result"
    }
   ],
   "source": [
    "Y"
   ]
  },
  {
   "cell_type": "code",
   "execution_count": 4,
   "metadata": {},
   "outputs": [
    {
     "name": "stdout",
     "output_type": "stream",
     "text": [
      "(150, 4)\n",
      "(150,)\n"
     ]
    }
   ],
   "source": [
    "print(X.shape)\n",
    "print(Y.shape)"
   ]
  },
  {
   "cell_type": "code",
   "execution_count": 5,
   "metadata": {
    "collapsed": true
   },
   "outputs": [],
   "source": [
    "d_train = xgb.DMatrix(data=X[:120,:], label=Y[:120])\n",
    "d_test = xgb.DMatrix(data=X[120:,:], label=Y[120:])"
   ]
  },
  {
   "cell_type": "code",
   "execution_count": 37,
   "metadata": {},
   "outputs": [
    {
     "name": "stdout",
     "output_type": "stream",
     "text": [
      "[0]\teval-merror:0.266667\ttrain-merror:0.016667\n",
      "[1]\teval-merror:0.266667\ttrain-merror:0.016667\n",
      "[2]\teval-merror:0.266667\ttrain-merror:0.016667\n",
      "[3]\teval-merror:0.266667\ttrain-merror:0.016667\n",
      "[4]\teval-merror:0.266667\ttrain-merror:0.016667\n",
      "[5]\teval-merror:0.266667\ttrain-merror:0.016667\n",
      "[6]\teval-merror:0.266667\ttrain-merror:0.016667\n",
      "[7]\teval-merror:0.266667\ttrain-merror:0.016667\n",
      "[8]\teval-merror:0.266667\ttrain-merror:0.016667\n",
      "[9]\teval-merror:0.266667\ttrain-merror:0.016667\n",
      "[10]\teval-merror:0.266667\ttrain-merror:0.016667\n",
      "[11]\teval-merror:0.266667\ttrain-merror:0.016667\n",
      "[12]\teval-merror:0.266667\ttrain-merror:0.016667\n",
      "[13]\teval-merror:0.266667\ttrain-merror:0.016667\n",
      "[14]\teval-merror:0.266667\ttrain-merror:0.016667\n",
      "[15]\teval-merror:0.266667\ttrain-merror:0.016667\n",
      "[16]\teval-merror:0.266667\ttrain-merror:0.016667\n",
      "[17]\teval-merror:0.266667\ttrain-merror:0.016667\n",
      "[18]\teval-merror:0.266667\ttrain-merror:0.016667\n",
      "[19]\teval-merror:0.266667\ttrain-merror:0.016667\n"
     ]
    }
   ],
   "source": [
    "#建模并设置初始参数\n",
    "watch_list = [(d_test,'eval'), (d_train,'train')]\n",
    "param = {'max_depth':3, 'eta':0.1, 'objective':'multi:softmax', 'num_class':3}\n",
    "num_round = 20\n",
    "bst = xgb.train(param, d_train, num_round, watch_list)"
   ]
  },
  {
   "cell_type": "code",
   "execution_count": 21,
   "metadata": {},
   "outputs": [
    {
     "data": {
      "text/plain": [
       "array([2., 1., 2., 1., 2., 2., 1., 1., 2., 1., 2., 2., 2., 1., 1., 2., 2.,\n",
       "       2., 1., 2., 2., 2., 2., 2., 2., 2., 2., 2., 2., 2.], dtype=float32)"
      ]
     },
     "execution_count": 21,
     "metadata": {},
     "output_type": "execute_result"
    }
   ],
   "source": [
    "bst.predict(d_test)"
   ]
  },
  {
   "cell_type": "code",
   "execution_count": 43,
   "metadata": {},
   "outputs": [
    {
     "name": "stdout",
     "output_type": "stream",
     "text": [
      "[0]\teval-merror:0.166667\ttrain-merror:0.025\n",
      "[1]\teval-merror:0.266667\ttrain-merror:0.025\n",
      "[2]\teval-merror:0.266667\ttrain-merror:0.025\n",
      "[3]\teval-merror:0.266667\ttrain-merror:0.025\n",
      "[4]\teval-merror:0.266667\ttrain-merror:0.016667\n",
      "[5]\teval-merror:0.266667\ttrain-merror:0.025\n",
      "[6]\teval-merror:0.266667\ttrain-merror:0.025\n",
      "[7]\teval-merror:0.266667\ttrain-merror:0.025\n",
      "[8]\teval-merror:0.266667\ttrain-merror:0.025\n",
      "[9]\teval-merror:0.266667\ttrain-merror:0.025\n",
      "[10]\teval-merror:0.266667\ttrain-merror:0.025\n",
      "[11]\teval-merror:0.266667\ttrain-merror:0.025\n",
      "[12]\teval-merror:0.266667\ttrain-merror:0.025\n",
      "[13]\teval-merror:0.266667\ttrain-merror:0.025\n",
      "[14]\teval-merror:0.266667\ttrain-merror:0.025\n",
      "[15]\teval-merror:0.266667\ttrain-merror:0.025\n",
      "[16]\teval-merror:0.266667\ttrain-merror:0.025\n",
      "[17]\teval-merror:0.266667\ttrain-merror:0.025\n",
      "[18]\teval-merror:0.266667\ttrain-merror:0.025\n",
      "[19]\teval-merror:0.266667\ttrain-merror:0.025\n"
     ]
    }
   ],
   "source": [
    "#设置树深为2\n",
    "watch_list = [(d_test,'eval'), (d_train,'train')]\n",
    "param = {'max_depth':2, 'eta':0.1, 'objective':'multi:softmax', 'num_class':3}\n",
    "num_round = 20\n",
    "bst = xgb.train(param, d_train, num_round, watch_list)"
   ]
  },
  {
   "cell_type": "markdown",
   "metadata": {},
   "source": [
    "首先先在初始参数的基础上将树深设为2，在训练集的误差会增大，所以树深设为2不合适"
   ]
  },
  {
   "cell_type": "code",
   "execution_count": 44,
   "metadata": {},
   "outputs": [
    {
     "name": "stdout",
     "output_type": "stream",
     "text": [
      "[0]\teval-merror:0.266667\ttrain-merror:0.016667\n",
      "[1]\teval-merror:0.266667\ttrain-merror:0.016667\n",
      "[2]\teval-merror:0.266667\ttrain-merror:0.016667\n",
      "[3]\teval-merror:0.266667\ttrain-merror:0.016667\n",
      "[4]\teval-merror:0.266667\ttrain-merror:0.016667\n",
      "[5]\teval-merror:0.266667\ttrain-merror:0.016667\n",
      "[6]\teval-merror:0.266667\ttrain-merror:0.008333\n",
      "[7]\teval-merror:0.266667\ttrain-merror:0\n",
      "[8]\teval-merror:0.266667\ttrain-merror:0\n",
      "[9]\teval-merror:0.266667\ttrain-merror:0\n",
      "[10]\teval-merror:0.266667\ttrain-merror:0\n",
      "[11]\teval-merror:0.266667\ttrain-merror:0\n",
      "[12]\teval-merror:0.266667\ttrain-merror:0\n",
      "[13]\teval-merror:0.266667\ttrain-merror:0\n",
      "[14]\teval-merror:0.266667\ttrain-merror:0\n",
      "[15]\teval-merror:0.266667\ttrain-merror:0\n",
      "[16]\teval-merror:0.266667\ttrain-merror:0\n",
      "[17]\teval-merror:0.266667\ttrain-merror:0\n",
      "[18]\teval-merror:0.266667\ttrain-merror:0\n",
      "[19]\teval-merror:0.266667\ttrain-merror:0\n"
     ]
    }
   ],
   "source": [
    "#将树深设为4\n",
    "watch_list = [(d_test,'eval'), (d_train,'train')]\n",
    "param = {'max_depth':4, 'eta':0.5, 'objective':'multi:softmax', 'num_class':3}\n",
    "num_round = 20\n",
    "bst = xgb.train(param, d_train, num_round, watch_list)"
   ]
  },
  {
   "cell_type": "markdown",
   "metadata": {},
   "source": [
    "将树深设为4之后 训练集上的误差最后会变成0 是过拟合的现象，树深为4 不合适"
   ]
  },
  {
   "cell_type": "code",
   "execution_count": 42,
   "metadata": {},
   "outputs": [
    {
     "name": "stdout",
     "output_type": "stream",
     "text": [
      "[0]\teval-merror:0.166667\ttrain-merror:0.025\n",
      "[1]\teval-merror:0.266667\ttrain-merror:0.025\n",
      "[2]\teval-merror:0.266667\ttrain-merror:0.025\n",
      "[3]\teval-merror:0.266667\ttrain-merror:0.025\n",
      "[4]\teval-merror:0.266667\ttrain-merror:0.025\n",
      "[5]\teval-merror:0.266667\ttrain-merror:0.025\n",
      "[6]\teval-merror:0.266667\ttrain-merror:0.025\n",
      "[7]\teval-merror:0.266667\ttrain-merror:0.016667\n",
      "[8]\teval-merror:0.266667\ttrain-merror:0.016667\n",
      "[9]\teval-merror:0.266667\ttrain-merror:0.008333\n",
      "[10]\teval-merror:0.266667\ttrain-merror:0\n",
      "[11]\teval-merror:0.266667\ttrain-merror:0\n",
      "[12]\teval-merror:0.266667\ttrain-merror:0\n",
      "[13]\teval-merror:0.266667\ttrain-merror:0\n",
      "[14]\teval-merror:0.266667\ttrain-merror:0\n",
      "[15]\teval-merror:0.266667\ttrain-merror:0\n",
      "[16]\teval-merror:0.266667\ttrain-merror:0\n",
      "[17]\teval-merror:0.266667\ttrain-merror:0\n",
      "[18]\teval-merror:0.266667\ttrain-merror:0\n",
      "[19]\teval-merror:0.266667\ttrain-merror:0\n"
     ]
    }
   ],
   "source": [
    "#增大学习率到0.5\n",
    "watch_list = [(d_test,'eval'), (d_train,'train')]\n",
    "param = {'max_depth':2, 'eta':0.5, 'objective':'multi:softmax', 'num_class':3}\n",
    "num_round = 20\n",
    "bst = xgb.train(param, d_train, num_round, watch_list)"
   ]
  },
  {
   "cell_type": "markdown",
   "metadata": {},
   "source": [
    "将学习率变成0.5之后训练集最后的误差会变成0，应该是过拟合了，所以学习率0.5也合适"
   ]
  },
  {
   "cell_type": "code",
   "execution_count": 45,
   "metadata": {},
   "outputs": [
    {
     "name": "stdout",
     "output_type": "stream",
     "text": [
      "[0]\teval-merror:0.266667\ttrain-merror:0.016667\n",
      "[1]\teval-merror:0.266667\ttrain-merror:0.016667\n",
      "[2]\teval-merror:0.266667\ttrain-merror:0.016667\n",
      "[3]\teval-merror:0.266667\ttrain-merror:0.016667\n",
      "[4]\teval-merror:0.266667\ttrain-merror:0.016667\n",
      "[5]\teval-merror:0.266667\ttrain-merror:0.016667\n",
      "[6]\teval-merror:0.266667\ttrain-merror:0.016667\n",
      "[7]\teval-merror:0.266667\ttrain-merror:0.016667\n",
      "[8]\teval-merror:0.266667\ttrain-merror:0.016667\n",
      "[9]\teval-merror:0.266667\ttrain-merror:0.016667\n",
      "[10]\teval-merror:0.266667\ttrain-merror:0.016667\n",
      "[11]\teval-merror:0.266667\ttrain-merror:0.016667\n",
      "[12]\teval-merror:0.266667\ttrain-merror:0.016667\n",
      "[13]\teval-merror:0.266667\ttrain-merror:0.016667\n",
      "[14]\teval-merror:0.266667\ttrain-merror:0.016667\n",
      "[15]\teval-merror:0.266667\ttrain-merror:0.016667\n",
      "[16]\teval-merror:0.266667\ttrain-merror:0.016667\n",
      "[17]\teval-merror:0.266667\ttrain-merror:0.016667\n",
      "[18]\teval-merror:0.266667\ttrain-merror:0.016667\n",
      "[19]\teval-merror:0.266667\ttrain-merror:0.016667\n"
     ]
    }
   ],
   "source": [
    "# 将学习率设为0.01\n",
    "watch_list = [(d_test,'eval'), (d_train,'train')]\n",
    "param = {'max_depth':4, 'eta':0.01, 'objective':'multi:softmax', 'num_class':3}\n",
    "num_round = 20\n",
    "bst = xgb.train(param, d_train, num_round, watch_list)"
   ]
  },
  {
   "cell_type": "markdown",
   "metadata": {},
   "source": [
    "将学习率设置为0.01之后，误差并没有发生改变 应该是数据集太少的问题"
   ]
  },
  {
   "cell_type": "markdown",
   "metadata": {},
   "source": [
    "总结：通过对树深和学习率的调整 观察了最后的误差 发现树深过大和学习率过大都容易引起过拟合 从而找到最合适的参数为树深为3，学习率为0.1"
   ]
  },
  {
   "cell_type": "markdown",
   "metadata": {},
   "source": [
    "### 2. 使用XGBoost的sklearn接口，对KaggleCredit2数据完成信用卡欺诈项目的建模及分析（要求以不同参数设置xgboost运行并比对），最后给出实验总结\n",
    "\n",
    "- KaggleCredit2数据文件 位于/home/sxy-s3/0.Teacher/Exam/KaggleCredit2.csv.zip，请勿复制或移动该文件\n",
    "\n",
    "- note: 25分"
   ]
  },
  {
   "cell_type": "code",
   "execution_count": 47,
   "metadata": {},
   "outputs": [
    {
     "data": {
      "text/html": [
       "<div>\n",
       "<style scoped>\n",
       "    .dataframe tbody tr th:only-of-type {\n",
       "        vertical-align: middle;\n",
       "    }\n",
       "\n",
       "    .dataframe tbody tr th {\n",
       "        vertical-align: top;\n",
       "    }\n",
       "\n",
       "    .dataframe thead th {\n",
       "        text-align: right;\n",
       "    }\n",
       "</style>\n",
       "<table border=\"1\" class=\"dataframe\">\n",
       "  <thead>\n",
       "    <tr style=\"text-align: right;\">\n",
       "      <th></th>\n",
       "      <th>SeriousDlqin2yrs</th>\n",
       "      <th>RevolvingUtilizationOfUnsecuredLines</th>\n",
       "      <th>age</th>\n",
       "      <th>NumberOfTime30-59DaysPastDueNotWorse</th>\n",
       "      <th>DebtRatio</th>\n",
       "      <th>MonthlyIncome</th>\n",
       "      <th>NumberOfOpenCreditLinesAndLoans</th>\n",
       "      <th>NumberOfTimes90DaysLate</th>\n",
       "      <th>NumberRealEstateLoansOrLines</th>\n",
       "      <th>NumberOfTime60-89DaysPastDueNotWorse</th>\n",
       "      <th>NumberOfDependents</th>\n",
       "    </tr>\n",
       "  </thead>\n",
       "  <tbody>\n",
       "    <tr>\n",
       "      <th>0</th>\n",
       "      <td>1</td>\n",
       "      <td>0.766127</td>\n",
       "      <td>45.0</td>\n",
       "      <td>2.0</td>\n",
       "      <td>0.802982</td>\n",
       "      <td>9120.0</td>\n",
       "      <td>13.0</td>\n",
       "      <td>0.0</td>\n",
       "      <td>6.0</td>\n",
       "      <td>0.0</td>\n",
       "      <td>2.0</td>\n",
       "    </tr>\n",
       "    <tr>\n",
       "      <th>1</th>\n",
       "      <td>0</td>\n",
       "      <td>0.957151</td>\n",
       "      <td>40.0</td>\n",
       "      <td>0.0</td>\n",
       "      <td>0.121876</td>\n",
       "      <td>2600.0</td>\n",
       "      <td>4.0</td>\n",
       "      <td>0.0</td>\n",
       "      <td>0.0</td>\n",
       "      <td>0.0</td>\n",
       "      <td>1.0</td>\n",
       "    </tr>\n",
       "    <tr>\n",
       "      <th>2</th>\n",
       "      <td>0</td>\n",
       "      <td>0.658180</td>\n",
       "      <td>38.0</td>\n",
       "      <td>1.0</td>\n",
       "      <td>0.085113</td>\n",
       "      <td>3042.0</td>\n",
       "      <td>2.0</td>\n",
       "      <td>1.0</td>\n",
       "      <td>0.0</td>\n",
       "      <td>0.0</td>\n",
       "      <td>0.0</td>\n",
       "    </tr>\n",
       "    <tr>\n",
       "      <th>3</th>\n",
       "      <td>0</td>\n",
       "      <td>0.233810</td>\n",
       "      <td>30.0</td>\n",
       "      <td>0.0</td>\n",
       "      <td>0.036050</td>\n",
       "      <td>3300.0</td>\n",
       "      <td>5.0</td>\n",
       "      <td>0.0</td>\n",
       "      <td>0.0</td>\n",
       "      <td>0.0</td>\n",
       "      <td>0.0</td>\n",
       "    </tr>\n",
       "    <tr>\n",
       "      <th>4</th>\n",
       "      <td>0</td>\n",
       "      <td>0.907239</td>\n",
       "      <td>49.0</td>\n",
       "      <td>1.0</td>\n",
       "      <td>0.024926</td>\n",
       "      <td>63588.0</td>\n",
       "      <td>7.0</td>\n",
       "      <td>0.0</td>\n",
       "      <td>1.0</td>\n",
       "      <td>0.0</td>\n",
       "      <td>0.0</td>\n",
       "    </tr>\n",
       "  </tbody>\n",
       "</table>\n",
       "</div>"
      ],
      "text/plain": [
       "   SeriousDlqin2yrs  RevolvingUtilizationOfUnsecuredLines   age  \\\n",
       "0                 1                              0.766127  45.0   \n",
       "1                 0                              0.957151  40.0   \n",
       "2                 0                              0.658180  38.0   \n",
       "3                 0                              0.233810  30.0   \n",
       "4                 0                              0.907239  49.0   \n",
       "\n",
       "   NumberOfTime30-59DaysPastDueNotWorse  DebtRatio  MonthlyIncome  \\\n",
       "0                                   2.0   0.802982         9120.0   \n",
       "1                                   0.0   0.121876         2600.0   \n",
       "2                                   1.0   0.085113         3042.0   \n",
       "3                                   0.0   0.036050         3300.0   \n",
       "4                                   1.0   0.024926        63588.0   \n",
       "\n",
       "   NumberOfOpenCreditLinesAndLoans  NumberOfTimes90DaysLate  \\\n",
       "0                             13.0                      0.0   \n",
       "1                              4.0                      0.0   \n",
       "2                              2.0                      1.0   \n",
       "3                              5.0                      0.0   \n",
       "4                              7.0                      0.0   \n",
       "\n",
       "   NumberRealEstateLoansOrLines  NumberOfTime60-89DaysPastDueNotWorse  \\\n",
       "0                           6.0                                   0.0   \n",
       "1                           0.0                                   0.0   \n",
       "2                           0.0                                   0.0   \n",
       "3                           0.0                                   0.0   \n",
       "4                           1.0                                   0.0   \n",
       "\n",
       "   NumberOfDependents  \n",
       "0                 2.0  \n",
       "1                 1.0  \n",
       "2                 0.0  \n",
       "3                 0.0  \n",
       "4                 0.0  "
      ]
     },
     "execution_count": 47,
     "metadata": {},
     "output_type": "execute_result"
    }
   ],
   "source": [
    "import pandas as pd\n",
    "pd.set_option('display.max_columns', 500)\n",
    "import zipfile\n",
    "with zipfile.ZipFile('/home/sxy-s3/0.Teacher/Exam/KaggleCredit2.csv.zip', 'r') as z:\n",
    "    f = z.open('KaggleCredit2.csv')\n",
    "    data = pd.read_csv(f, index_col=0)\n",
    "data.head()"
   ]
  },
  {
   "cell_type": "code",
   "execution_count": 48,
   "metadata": {},
   "outputs": [
    {
     "data": {
      "text/plain": [
       "SeriousDlqin2yrs                           0\n",
       "RevolvingUtilizationOfUnsecuredLines       0\n",
       "age                                     4267\n",
       "NumberOfTime30-59DaysPastDueNotWorse       0\n",
       "DebtRatio                                  0\n",
       "MonthlyIncome                              0\n",
       "NumberOfOpenCreditLinesAndLoans            0\n",
       "NumberOfTimes90DaysLate                    0\n",
       "NumberRealEstateLoansOrLines               0\n",
       "NumberOfTime60-89DaysPastDueNotWorse       0\n",
       "NumberOfDependents                      4267\n",
       "dtype: int64"
      ]
     },
     "execution_count": 48,
     "metadata": {},
     "output_type": "execute_result"
    }
   ],
   "source": [
    "data.isnull().sum(axis=0)"
   ]
  },
  {
   "cell_type": "code",
   "execution_count": 67,
   "metadata": {
    "collapsed": true
   },
   "outputs": [],
   "source": [
    "data.dropna(inplace=True)\n",
    "data.shapey = data['SeriousDlqin2yrs']\n",
    "X = data.drop('SeriousDlqin2yrs', axis=1)\n",
    "from warnings import filterwarnings\n",
    "filterwarnings('ignore')"
   ]
  },
  {
   "cell_type": "code",
   "execution_count": 50,
   "metadata": {},
   "outputs": [
    {
     "data": {
      "text/plain": [
       "0.06742876076872101"
      ]
     },
     "execution_count": 50,
     "metadata": {},
     "output_type": "execute_result"
    }
   ],
   "source": [
    "y = data['SeriousDlqin2yrs']\n",
    "X = data.drop('SeriousDlqin2yrs', axis=1)\n",
    "y.mean()"
   ]
  },
  {
   "cell_type": "code",
   "execution_count": 51,
   "metadata": {
    "collapsed": true
   },
   "outputs": [],
   "source": [
    "from sklearn.model_selection import train_test_split\n",
    "X_train, X_test, y_train, y_test = train_test_split(X, y, test_size = 0.3, random_state = 0)"
   ]
  },
  {
   "cell_type": "code",
   "execution_count": 79,
   "metadata": {
    "collapsed": true
   },
   "outputs": [],
   "source": [
    "#设置初始参数为树深3 学习率0.01 模型数为10\n",
    "model = xgb.XGBClassifier(max_depth=3, learning_rate=0.01, \\\n",
    "                          n_estimators=10, objective='binary:logistic')"
   ]
  },
  {
   "cell_type": "code",
   "execution_count": 80,
   "metadata": {},
   "outputs": [
    {
     "data": {
      "text/plain": [
       "XGBClassifier(base_score=0.5, booster='gbtree', colsample_bylevel=1,\n",
       "       colsample_bytree=1, gamma=0, learning_rate=0.01, max_delta_step=0,\n",
       "       max_depth=3, min_child_weight=1, missing=None, n_estimators=10,\n",
       "       n_jobs=1, nthread=None, objective='binary:logistic', random_state=0,\n",
       "       reg_alpha=0, reg_lambda=1, scale_pos_weight=1, seed=None,\n",
       "       silent=True, subsample=1)"
      ]
     },
     "execution_count": 80,
     "metadata": {},
     "output_type": "execute_result"
    }
   ],
   "source": [
    "model.fit(X_train,y_train)"
   ]
  },
  {
   "cell_type": "code",
   "execution_count": 81,
   "metadata": {},
   "outputs": [
    {
     "name": "stdout",
     "output_type": "stream",
     "text": [
      "Accuracy: 0.935021\n"
     ]
    }
   ],
   "source": [
    "from sklearn.metrics import accuracy_score\n",
    "y_xgb_pred = model.predict(X_test)\n",
    "print('Accuracy: %f'% accuracy_score(y_test, y_xgb_pred))"
   ]
  },
  {
   "cell_type": "code",
   "execution_count": 82,
   "metadata": {},
   "outputs": [
    {
     "name": "stdout",
     "output_type": "stream",
     "text": [
      "Accuracy: 0.936033\n"
     ]
    }
   ],
   "source": [
    "#在初始参数的基础上设置树深为5\n",
    "model = xgb.XGBClassifier(max_depth=5, learning_rate=0.01, \\\n",
    "                          n_estimators=10, objective='binary:logistic')\n",
    "model.fit(X_train,y_train)\n",
    "y_xgb_pred = model.predict(X_test)\n",
    "print('Accuracy: %f'% accuracy_score(y_test, y_xgb_pred))"
   ]
  },
  {
   "cell_type": "markdown",
   "metadata": {},
   "source": [
    "惊喜的发现准确率有点上深，再加树深到6试试"
   ]
  },
  {
   "cell_type": "code",
   "execution_count": 74,
   "metadata": {},
   "outputs": [
    {
     "name": "stdout",
     "output_type": "stream",
     "text": [
      "Accuracy: 0.935849\n"
     ]
    }
   ],
   "source": [
    "#在初始参数的基础上设置树深为6\n",
    "model = xgb.XGBClassifier(max_depth=6, learning_rate=0.01, \\\n",
    "                          n_estimators=10, objective='binary:logistic')\n",
    "model.fit(X_train,y_train)\n",
    "y_xgb_pred = model.predict(X_test)\n",
    "print('Accuracy: %f'% accuracy_score(y_test, y_xgb_pred))"
   ]
  },
  {
   "cell_type": "markdown",
   "metadata": {},
   "source": [
    "居然降低了 那就5了 那我们再试试别的参数"
   ]
  },
  {
   "cell_type": "code",
   "execution_count": 76,
   "metadata": {},
   "outputs": [
    {
     "name": "stdout",
     "output_type": "stream",
     "text": [
      "Accuracy: 0.936892\n"
     ]
    }
   ],
   "source": [
    "#设置学习率为0.1\n",
    "model = xgb.XGBClassifier(max_depth=5, learning_rate=0.1, \\\n",
    "                          n_estimators=10, objective='binary:logistic')\n",
    "model.fit(X_train,y_train)\n",
    "y_xgb_pred = model.predict(X_test)\n",
    "print('Accuracy: %f'% accuracy_score(y_test, y_xgb_pred))#对比Accuracy: 0.936033"
   ]
  },
  {
   "cell_type": "markdown",
   "metadata": {},
   "source": [
    "又有上升，再加到0.2"
   ]
  },
  {
   "cell_type": "code",
   "execution_count": 83,
   "metadata": {},
   "outputs": [
    {
     "name": "stdout",
     "output_type": "stream",
     "text": [
      "Accuracy: 0.937168\n"
     ]
    }
   ],
   "source": [
    "#设置学习率为0.2\n",
    "model = xgb.XGBClassifier(max_depth=5, learning_rate=0.2, \\\n",
    "                          n_estimators=10, objective='binary:logistic')\n",
    "model.fit(X_train,y_train)\n",
    "y_xgb_pred = model.predict(X_test)\n",
    "print('Accuracy: %f'% accuracy_score(y_test, y_xgb_pred))#对比Accuracy: 0.936892"
   ]
  },
  {
   "cell_type": "markdown",
   "metadata": {},
   "source": [
    "哈哈 再加到0.3"
   ]
  },
  {
   "cell_type": "code",
   "execution_count": 73,
   "metadata": {},
   "outputs": [
    {
     "name": "stdout",
     "output_type": "stream",
     "text": [
      "Accuracy: 0.936769\n"
     ]
    }
   ],
   "source": [
    "#设置学习率为0.3\n",
    "model = xgb.XGBClassifier(max_depth=5, learning_rate=0.3, \\\n",
    "                          n_estimators=10, objective='binary:logistic')\n",
    "model.fit(X_train,y_train)\n",
    "y_xgb_pred = model.predict(X_test)\n",
    "print('Accuracy: %f'% accuracy_score(y_test, y_xgb_pred))#对比Accuracy: 0.937168"
   ]
  },
  {
   "cell_type": "markdown",
   "metadata": {},
   "source": [
    "哎呀 不行了 那就0.2了 再来看看模型数量"
   ]
  },
  {
   "cell_type": "code",
   "execution_count": 84,
   "metadata": {},
   "outputs": [
    {
     "name": "stdout",
     "output_type": "stream",
     "text": [
      "Accuracy: 0.937107\n"
     ]
    }
   ],
   "source": [
    "#设置模型数量为20\n",
    "model = xgb.XGBClassifier(max_depth=5, learning_rate=0.2, \\\n",
    "                          n_estimators=20, objective='binary:logistic')\n",
    "model.fit(X_train,y_train)\n",
    "y_xgb_pred = model.predict(X_test)\n",
    "print('Accuracy: %f'% accuracy_score(y_test, y_xgb_pred))#对比Accuracy: 0.937168"
   ]
  },
  {
   "cell_type": "markdown",
   "metadata": {},
   "source": [
    "然而并没有增加 反而降低 那模型数量就是10了 所以最优的模型参数为max_depth=5, learning_rate=0.2, n_estimators=10"
   ]
  },
  {
   "cell_type": "markdown",
   "metadata": {},
   "source": [
    "总结：调了那么多次参数 到最后才想到 我直接用网格搜索多好啊，哎 太笨！队员xgboost的原生接口 以及sklearn的接口 感觉还是sklearn得接口好用一些\n",
    "因为在参数的调优上可以直接使用网格搜索交叉验证来调参 方便"
   ]
  },
  {
   "cell_type": "markdown",
   "metadata": {},
   "source": [
    "### 本阶段课程意见反馈题(非必答，不送分)\n",
    "#### 请同学围绕以下两点进行回答：\n",
    "- 自身总结：请您对您自己在本周课程的学习，收获，技能掌握等方面进行一次总结 ，也包括有哪些方面存在哪些不足，欠缺，困惑。作为将来回顾学习路径时的依据。\n"
   ]
  },
  {
   "cell_type": "code",
   "execution_count": null,
   "metadata": {
    "collapsed": true
   },
   "outputs": [],
   "source": []
  },
  {
   "cell_type": "code",
   "execution_count": null,
   "metadata": {
    "collapsed": true
   },
   "outputs": [],
   "source": []
  },
  {
   "cell_type": "markdown",
   "metadata": {},
   "source": [
    "- 课程反馈：请就知识点，进度，难易度，教学方式，考试方式及难易度等方面向我们反馈，督促我们进行更有效的改进。"
   ]
  },
  {
   "cell_type": "code",
   "execution_count": null,
   "metadata": {
    "collapsed": true
   },
   "outputs": [],
   "source": []
  },
  {
   "cell_type": "markdown",
   "metadata": {},
   "source": [
    "<hr>\n",
    "<center><h1>####答卷结束####</h1></center>"
   ]
  }
 ],
 "metadata": {
  "kernelspec": {
   "display_name": "Python 3",
   "language": "python",
   "name": "python3"
  },
  "language_info": {
   "codemirror_mode": {
    "name": "ipython",
    "version": 3
   },
   "file_extension": ".py",
   "mimetype": "text/x-python",
   "name": "python",
   "nbconvert_exporter": "python",
   "pygments_lexer": "ipython3",
   "version": "3.5.2"
  }
 },
 "nbformat": 4,
 "nbformat_minor": 2
}
