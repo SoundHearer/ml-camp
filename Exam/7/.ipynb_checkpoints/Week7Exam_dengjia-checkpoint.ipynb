{
 "cells": [
  {
   "cell_type": "markdown",
   "metadata": {},
   "source": [
    "## 七月在线机器学习实训营三期第七周(机器学习-模型调优与融合)考试\n",
    "#### 考试说明:\n",
    "- 起止时间：请同学在2018年3月23日至3月25日期间完成，最晚提交时间本周日（3月25日24时之前）结束，<b>逾期不接受补考,该考试分数计入平时成绩</b>\n",
    "- 考试方式：请同学<font color=red><b>拷贝</b></font>该试卷至自己姓名的目录后，将文件更名为同学姓名拼音-exam7后，进行作答。例如wangwei-exam7\n",
    "- 提交格式：请同学新建自己姓名全拼的文件夹，将该试卷，数据文件，zip文件等相关考试文件，放置此目录下。将该目录<b>移动</b>至/0.Teacher/Exam/7/目录下\n",
    "- 注意事项：为确保同学们真正了解自身对本周课程的掌握程度，<font color=red><b>请勿翻阅，移动，更改</b></font>其它同学试卷。如发现按0分处理\n",
    "- 请同学在下方同学姓名处填写自己的姓名，批改人和最终得分不用填写"
   ]
  },
  {
   "cell_type": "markdown",
   "metadata": {},
   "source": [
    "- 同学姓名:<u>__邓嘉___</u>  \n",
    "- 批改人： David\n",
    "- 最终得分:80"
   ]
  },
  {
   "cell_type": "markdown",
   "metadata": {},
   "source": [
    "<center><h1>####答卷开始####</h1></center>\n",
    "<hr>"
   ]
  },
  {
   "cell_type": "markdown",
   "metadata": {},
   "source": [
    "## 简答题(共6题，1，2题每题5分，后4题每题10分，共计50分)\n",
    "- note: 45分"
   ]
  },
  {
   "cell_type": "markdown",
   "metadata": {},
   "source": [
    "#### 1. 机器学习任务中，通常会将给定数据切分为训练集，验证集，测试集，请回答这三类数据集各自的用途。"
   ]
  },
  {
   "cell_type": "markdown",
   "metadata": {
    "collapsed": true
   },
   "source": [
    "1 训练集是用来训练模型的。\n",
    "2 验证集是用来评估模型性能好坏的，以及选择出最优的参数。\n",
    "3 测试机是用来最终评估模型的"
   ]
  },
  {
   "cell_type": "markdown",
   "metadata": {},
   "source": [
    "#### 2.如何将数据转换成xgboost内置用法的libsvm数据格式，以及该格式数据是如何解读的?"
   ]
  },
  {
   "cell_type": "markdown",
   "metadata": {
    "collapsed": true
   },
   "source": [
    "1 利用DMatrix加载csv文件，并著名标签列\n",
    "2 标签  值"
   ]
  },
  {
   "cell_type": "markdown",
   "metadata": {},
   "source": [
    "<label> <index1>:<value1> <index2>:<value2>\n",
    "lable 是标签值 对于回归类是可以是一个实数，对于分类问题，其是一个用于标示类别的数字\n",
    "<index>:<value>对指明一个特征的属性值,index是属性的索引值，value为属性的真实值"
   ]
  },
  {
   "cell_type": "markdown",
   "metadata": {},
   "source": [
    "#### 3. 对于自动特征选择，通常有哪三类方法？试写出每类方式的思想，以及在sklearn中的代码实现（面试题）"
   ]
  },
  {
   "cell_type": "markdown",
   "metadata": {
    "collapsed": true
   },
   "source": [
    "常见的特征选择方式有三种：\n",
    "分别是，过滤式，包裹式，嵌入式\n",
    "过滤式：基于统计来选择sklearn.feature_selection.SelectKBest                                                                                                    \n",
    "包裹式：基于模型特征来选择sklearn.feature_selection.RFE\n",
    "嵌入式：通过正则化，逐步删除特征集来选择sklearn.feature_selection.SelectFromModel"
   ]
  },
  {
   "cell_type": "markdown",
   "metadata": {},
   "source": [
    "#### 4.网格搜索交叉验证的作用是什么，并简述网格搜索交叉验证是如何运行的？ "
   ]
  },
  {
   "cell_type": "markdown",
   "metadata": {
    "collapsed": true
   },
   "source": [
    "网格搜索交叉验证的作用式，选择模型最优的参数。比如说一个模型有3个参数a,b,c需要调整，这个时候将三个列表分别对应a,b,c可能取，\n",
    "放到网格搜索中去并行便利，通过交叉验证来判定当a,b,c取什么值的时候模型的性能最好"
   ]
  },
  {
   "cell_type": "markdown",
   "metadata": {},
   "source": [
    "#### 5.工业界上模型整合有三大类方式？试简述每类方式其思想？（面试题）"
   ]
  },
  {
   "cell_type": "markdown",
   "metadata": {
    "collapsed": true
   },
   "source": [
    "bagging：并行的方式，多个模型投票，缓解过拟合\n",
    "boosting：窜行的方式，残差学习，逐步减小差距\n",
    "stacking:上层输入作为下层的输入"
   ]
  },
  {
   "cell_type": "markdown",
   "metadata": {},
   "source": [
    "#### 6.  我们可以将xgboost的中众多参数分类为哪三类？请写出哪些参数可以用什么方式用来控制过拟合？\n",
    "\n",
    "- note: 参数可以再多介绍几个"
   ]
  },
  {
   "cell_type": "code",
   "execution_count": null,
   "metadata": {
    "collapsed": true
   },
   "outputs": [],
   "source": [
    "可以分为三类：\n",
    "1 通用参数\n",
    "2 集成(增强)参数\n",
    "3 任务参数\n",
    "\n",
    "可以通过 lambda alpha正则化参数，subsample 子样本的比率 来控制过拟合"
   ]
  },
  {
   "cell_type": "markdown",
   "metadata": {},
   "source": [
    "## 实验题(共2题，每题25分，共计50分)\n",
    "\n",
    "- note: 35分"
   ]
  },
  {
   "cell_type": "markdown",
   "metadata": {},
   "source": [
    "### 1. 使用XGBoost内置方式，导入iris数据完成分类问题（要求以不同参数设置xgboost运行并比对），最后给出实验总结\n",
    "\n",
    "- note: 看到了不同参数的调整，但说明及总结 应该有的"
   ]
  },
  {
   "cell_type": "code",
   "execution_count": 25,
   "metadata": {},
   "outputs": [
    {
     "name": "stderr",
     "output_type": "stream",
     "text": [
      "/usr/local/lib/python3.5/dist-packages/sklearn/cross_validation.py:41: DeprecationWarning: This module was deprecated in version 0.18 in favor of the model_selection module into which all the refactored classes and functions are moved. Also note that the interface of the new CV iterators are different from that of this module. This module will be removed in 0.20.\n",
      "  \"This module will be removed in 0.20.\", DeprecationWarning)\n"
     ]
    }
   ],
   "source": [
    "import xgboost as xgb\n",
    "import numpy as np\n",
    "from sklearn import datasets\n",
    "from sklearn.cross_validation import train_test_split\n"
   ]
  },
  {
   "cell_type": "code",
   "execution_count": 100,
   "metadata": {
    "collapsed": true
   },
   "outputs": [],
   "source": [
    "iris=datasets.load_iris()\n",
    "x=iris.data\n",
    "y=iris.target"
   ]
  },
  {
   "cell_type": "code",
   "execution_count": 101,
   "metadata": {
    "collapsed": true
   },
   "outputs": [],
   "source": [
    "x_train,x_test,y_train,y_test=train_test_split(x,y,test_size=0.2,random_state=32)"
   ]
  },
  {
   "cell_type": "code",
   "execution_count": 102,
   "metadata": {},
   "outputs": [
    {
     "data": {
      "text/plain": [
       "(120, 4)"
      ]
     },
     "execution_count": 102,
     "metadata": {},
     "output_type": "execute_result"
    }
   ],
   "source": [
    "x_train.shape"
   ]
  },
  {
   "cell_type": "code",
   "execution_count": 103,
   "metadata": {
    "collapsed": true
   },
   "outputs": [],
   "source": [
    "d_train=xgb.DMatrix(x_train,label=y_train)\n",
    "d_test=xgb.DMatrix(x_test,label=y_test)"
   ]
  },
  {
   "cell_type": "code",
   "execution_count": 104,
   "metadata": {
    "collapsed": true
   },
   "outputs": [],
   "source": [
    "param1 = {\n",
    "    'max_depth': 4,  \n",
    "    'eta': 0.1,  # the training step for each iteration\n",
    "    'silent': 1,  # logging mode - quiet\n",
    "    'objective': 'multi:softprob',  # error evaluation for multiclass training\n",
    "    'num_class': 3}  # the number of classes that exist in this datset\n",
    "num_round = 20  # the number of training iterations\n"
   ]
  },
  {
   "cell_type": "code",
   "execution_count": 105,
   "metadata": {
    "scrolled": true
   },
   "outputs": [
    {
     "name": "stdout",
     "output_type": "stream",
     "text": [
      "[0]\teva-merror:0\ttrain-merror:0.033333\n",
      "[1]\teva-merror:0\ttrain-merror:0.033333\n",
      "[2]\teva-merror:0\ttrain-merror:0.033333\n",
      "[3]\teva-merror:0\ttrain-merror:0.033333\n",
      "[4]\teva-merror:0\ttrain-merror:0.033333\n",
      "[5]\teva-merror:0\ttrain-merror:0.033333\n",
      "[6]\teva-merror:0\ttrain-merror:0.033333\n",
      "[7]\teva-merror:0\ttrain-merror:0.033333\n",
      "[8]\teva-merror:0\ttrain-merror:0.033333\n",
      "[9]\teva-merror:0\ttrain-merror:0.033333\n",
      "[10]\teva-merror:0\ttrain-merror:0.033333\n",
      "[11]\teva-merror:0\ttrain-merror:0.033333\n",
      "[12]\teva-merror:0\ttrain-merror:0.033333\n",
      "[13]\teva-merror:0\ttrain-merror:0.025\n",
      "[14]\teva-merror:0\ttrain-merror:0.016667\n",
      "[15]\teva-merror:0\ttrain-merror:0.016667\n",
      "[16]\teva-merror:0\ttrain-merror:0.016667\n",
      "[17]\teva-merror:0\ttrain-merror:0.016667\n",
      "[18]\teva-merror:0\ttrain-merror:0.016667\n",
      "[19]\teva-merror:0\ttrain-merror:0.016667\n",
      "error=0.000000\n",
      "aucc=1.000000\n"
     ]
    }
   ],
   "source": [
    "watchlist  = [(d_test,'eva'), (d_train,'train')]\n",
    "\n",
    "bst = xgb.train(param1, d_train, num_round,watchlist)\n",
    "preds = bst.predict(d_test)\n",
    "\n",
    "labels = d_test.get_label()\n",
    "\n",
    "error= (sum(1 for i in range(len(preds)) if int(preds[i][int(labels[i])]!=np.max(preds[i]))) /float(len(preds)))\n",
    "print(\"error=%f\"%error)\n",
    "print(\"aucc=%f\"%(1-error))"
   ]
  },
  {
   "cell_type": "code",
   "execution_count": 99,
   "metadata": {},
   "outputs": [
    {
     "name": "stdout",
     "output_type": "stream",
     "text": [
      "[0]\teva-merror:0\ttrain-merror:0.033333\n",
      "[1]\teva-merror:0\ttrain-merror:0.033333\n",
      "[2]\teva-merror:0\ttrain-merror:0.033333\n",
      "[3]\teva-merror:0\ttrain-merror:0.033333\n",
      "[4]\teva-merror:0\ttrain-merror:0.016667\n",
      "[5]\teva-merror:0\ttrain-merror:0.016667\n",
      "[6]\teva-merror:0\ttrain-merror:0.016667\n",
      "[7]\teva-merror:0\ttrain-merror:0.016667\n",
      "[8]\teva-merror:0\ttrain-merror:0.016667\n",
      "[9]\teva-merror:0\ttrain-merror:0.008333\n",
      "[10]\teva-merror:0\ttrain-merror:0.008333\n",
      "[11]\teva-merror:0\ttrain-merror:0.008333\n",
      "[12]\teva-merror:0\ttrain-merror:0.008333\n",
      "[13]\teva-merror:0.033333\ttrain-merror:0\n",
      "[14]\teva-merror:0.033333\ttrain-merror:0\n",
      "[15]\teva-merror:0.033333\ttrain-merror:0\n",
      "[16]\teva-merror:0.033333\ttrain-merror:0\n",
      "[17]\teva-merror:0.033333\ttrain-merror:0\n",
      "[18]\teva-merror:0.033333\ttrain-merror:0\n",
      "[19]\teva-merror:0.033333\ttrain-merror:0\n",
      "error=0.033333\n",
      "aucc=0.966667\n"
     ]
    }
   ],
   "source": [
    "param2 = {\n",
    "    'max_depth': 5,  \n",
    "    'eta': 0.3,  # the training step for each iteration\n",
    "    'silent': 1,  # logging mode - quiet\n",
    "    'objective': 'multi:softprob',  # error evaluation for multiclass training\n",
    "    'num_class': 3}\n",
    "\n",
    "bst = xgb.train(param2, d_train, num_round,watchlist)\n",
    "preds = bst.predict(d_test)\n",
    "\n",
    "labels = d_test.get_label()\n",
    "\n",
    "error= (sum(1 for i in range(len(preds)) if int(preds[i][int(labels[i])]!=np.max(preds[i]))) /float(len(preds)))\n",
    "print(\"error=%f\"%error)\n",
    "print(\"aucc=%f\"%(1-error))"
   ]
  },
  {
   "cell_type": "code",
   "execution_count": 66,
   "metadata": {},
   "outputs": [
    {
     "name": "stdout",
     "output_type": "stream",
     "text": [
      "[0]\ttrain-merror:0.0229166+0.00779505\ttest-merror:0.0583332+0.0499999\n",
      "[1]\ttrain-merror:0.0229164+0.0041668\ttest-merror:0.05+0.0485912\n",
      "[2]\ttrain-merror:0.0208334+0.0093168\ttest-merror:0.05+0.0485912\n",
      "[3]\ttrain-merror:0.01875+0.00779494\ttest-merror:0.05+0.0485912\n",
      "[4]\ttrain-merror:0.01875+0.00779494\ttest-merror:0.05+0.0485912\n",
      "[5]\ttrain-merror:0.0145832+0.00833315\ttest-merror:0.0583334+0.0424917\n",
      "[6]\ttrain-merror:0.0145832+0.00833315\ttest-merror:0.0583334+0.0424917\n",
      "[7]\ttrain-merror:0.0145832+0.00833315\ttest-merror:0.0583334+0.0424917\n",
      "[8]\ttrain-merror:0.0145832+0.00833315\ttest-merror:0.0583334+0.0424917\n",
      "[9]\ttrain-merror:0.0145834+0.00510278\ttest-merror:0.0666668+0.0333332\n",
      "[10]\ttrain-merror:0.0104168+0.00658797\ttest-merror:0.0583334+0.0424917\n",
      "[11]\ttrain-merror:0.0041668+0.00510327\ttest-merror:0.0583334+0.0424917\n",
      "[12]\ttrain-merror:0.0041668+0.00510327\ttest-merror:0.0583334+0.0424917\n",
      "[13]\ttrain-merror:0.0020834+0.0041668\ttest-merror:0.0583334+0.0424917\n",
      "[14]\ttrain-merror:0.0020834+0.0041668\ttest-merror:0.0583334+0.0424917\n",
      "[15]\ttrain-merror:0.0020834+0.0041668\ttest-merror:0.0583334+0.0424917\n",
      "[16]\ttrain-merror:0.0020834+0.0041668\ttest-merror:0.0583334+0.0424917\n",
      "[17]\ttrain-merror:0+0\ttest-merror:0.0583334+0.0424917\n",
      "[18]\ttrain-merror:0+0\ttest-merror:0.0583334+0.0424917\n",
      "[19]\ttrain-merror:0+0\ttest-merror:0.0583334+0.0424917\n"
     ]
    },
    {
     "data": {
      "text/html": [
       "<div>\n",
       "<style scoped>\n",
       "    .dataframe tbody tr th:only-of-type {\n",
       "        vertical-align: middle;\n",
       "    }\n",
       "\n",
       "    .dataframe tbody tr th {\n",
       "        vertical-align: top;\n",
       "    }\n",
       "\n",
       "    .dataframe thead th {\n",
       "        text-align: right;\n",
       "    }\n",
       "</style>\n",
       "<table border=\"1\" class=\"dataframe\">\n",
       "  <thead>\n",
       "    <tr style=\"text-align: right;\">\n",
       "      <th></th>\n",
       "      <th>test-merror-mean</th>\n",
       "      <th>test-merror-std</th>\n",
       "      <th>train-merror-mean</th>\n",
       "      <th>train-merror-std</th>\n",
       "    </tr>\n",
       "  </thead>\n",
       "  <tbody>\n",
       "    <tr>\n",
       "      <th>0</th>\n",
       "      <td>0.058333</td>\n",
       "      <td>0.050000</td>\n",
       "      <td>0.022917</td>\n",
       "      <td>0.007795</td>\n",
       "    </tr>\n",
       "    <tr>\n",
       "      <th>1</th>\n",
       "      <td>0.050000</td>\n",
       "      <td>0.048591</td>\n",
       "      <td>0.022916</td>\n",
       "      <td>0.004167</td>\n",
       "    </tr>\n",
       "    <tr>\n",
       "      <th>2</th>\n",
       "      <td>0.050000</td>\n",
       "      <td>0.048591</td>\n",
       "      <td>0.020833</td>\n",
       "      <td>0.009317</td>\n",
       "    </tr>\n",
       "    <tr>\n",
       "      <th>3</th>\n",
       "      <td>0.050000</td>\n",
       "      <td>0.048591</td>\n",
       "      <td>0.018750</td>\n",
       "      <td>0.007795</td>\n",
       "    </tr>\n",
       "    <tr>\n",
       "      <th>4</th>\n",
       "      <td>0.050000</td>\n",
       "      <td>0.048591</td>\n",
       "      <td>0.018750</td>\n",
       "      <td>0.007795</td>\n",
       "    </tr>\n",
       "    <tr>\n",
       "      <th>5</th>\n",
       "      <td>0.058333</td>\n",
       "      <td>0.042492</td>\n",
       "      <td>0.014583</td>\n",
       "      <td>0.008333</td>\n",
       "    </tr>\n",
       "    <tr>\n",
       "      <th>6</th>\n",
       "      <td>0.058333</td>\n",
       "      <td>0.042492</td>\n",
       "      <td>0.014583</td>\n",
       "      <td>0.008333</td>\n",
       "    </tr>\n",
       "    <tr>\n",
       "      <th>7</th>\n",
       "      <td>0.058333</td>\n",
       "      <td>0.042492</td>\n",
       "      <td>0.014583</td>\n",
       "      <td>0.008333</td>\n",
       "    </tr>\n",
       "    <tr>\n",
       "      <th>8</th>\n",
       "      <td>0.058333</td>\n",
       "      <td>0.042492</td>\n",
       "      <td>0.014583</td>\n",
       "      <td>0.008333</td>\n",
       "    </tr>\n",
       "    <tr>\n",
       "      <th>9</th>\n",
       "      <td>0.066667</td>\n",
       "      <td>0.033333</td>\n",
       "      <td>0.014583</td>\n",
       "      <td>0.005103</td>\n",
       "    </tr>\n",
       "    <tr>\n",
       "      <th>10</th>\n",
       "      <td>0.058333</td>\n",
       "      <td>0.042492</td>\n",
       "      <td>0.010417</td>\n",
       "      <td>0.006588</td>\n",
       "    </tr>\n",
       "    <tr>\n",
       "      <th>11</th>\n",
       "      <td>0.058333</td>\n",
       "      <td>0.042492</td>\n",
       "      <td>0.004167</td>\n",
       "      <td>0.005103</td>\n",
       "    </tr>\n",
       "    <tr>\n",
       "      <th>12</th>\n",
       "      <td>0.058333</td>\n",
       "      <td>0.042492</td>\n",
       "      <td>0.004167</td>\n",
       "      <td>0.005103</td>\n",
       "    </tr>\n",
       "    <tr>\n",
       "      <th>13</th>\n",
       "      <td>0.058333</td>\n",
       "      <td>0.042492</td>\n",
       "      <td>0.002083</td>\n",
       "      <td>0.004167</td>\n",
       "    </tr>\n",
       "    <tr>\n",
       "      <th>14</th>\n",
       "      <td>0.058333</td>\n",
       "      <td>0.042492</td>\n",
       "      <td>0.002083</td>\n",
       "      <td>0.004167</td>\n",
       "    </tr>\n",
       "    <tr>\n",
       "      <th>15</th>\n",
       "      <td>0.058333</td>\n",
       "      <td>0.042492</td>\n",
       "      <td>0.002083</td>\n",
       "      <td>0.004167</td>\n",
       "    </tr>\n",
       "    <tr>\n",
       "      <th>16</th>\n",
       "      <td>0.058333</td>\n",
       "      <td>0.042492</td>\n",
       "      <td>0.002083</td>\n",
       "      <td>0.004167</td>\n",
       "    </tr>\n",
       "    <tr>\n",
       "      <th>17</th>\n",
       "      <td>0.058333</td>\n",
       "      <td>0.042492</td>\n",
       "      <td>0.000000</td>\n",
       "      <td>0.000000</td>\n",
       "    </tr>\n",
       "    <tr>\n",
       "      <th>18</th>\n",
       "      <td>0.058333</td>\n",
       "      <td>0.042492</td>\n",
       "      <td>0.000000</td>\n",
       "      <td>0.000000</td>\n",
       "    </tr>\n",
       "    <tr>\n",
       "      <th>19</th>\n",
       "      <td>0.058333</td>\n",
       "      <td>0.042492</td>\n",
       "      <td>0.000000</td>\n",
       "      <td>0.000000</td>\n",
       "    </tr>\n",
       "  </tbody>\n",
       "</table>\n",
       "</div>"
      ],
      "text/plain": [
       "    test-merror-mean  test-merror-std  train-merror-mean  train-merror-std\n",
       "0           0.058333         0.050000           0.022917          0.007795\n",
       "1           0.050000         0.048591           0.022916          0.004167\n",
       "2           0.050000         0.048591           0.020833          0.009317\n",
       "3           0.050000         0.048591           0.018750          0.007795\n",
       "4           0.050000         0.048591           0.018750          0.007795\n",
       "5           0.058333         0.042492           0.014583          0.008333\n",
       "6           0.058333         0.042492           0.014583          0.008333\n",
       "7           0.058333         0.042492           0.014583          0.008333\n",
       "8           0.058333         0.042492           0.014583          0.008333\n",
       "9           0.066667         0.033333           0.014583          0.005103\n",
       "10          0.058333         0.042492           0.010417          0.006588\n",
       "11          0.058333         0.042492           0.004167          0.005103\n",
       "12          0.058333         0.042492           0.004167          0.005103\n",
       "13          0.058333         0.042492           0.002083          0.004167\n",
       "14          0.058333         0.042492           0.002083          0.004167\n",
       "15          0.058333         0.042492           0.002083          0.004167\n",
       "16          0.058333         0.042492           0.002083          0.004167\n",
       "17          0.058333         0.042492           0.000000          0.000000\n",
       "18          0.058333         0.042492           0.000000          0.000000\n",
       "19          0.058333         0.042492           0.000000          0.000000"
      ]
     },
     "execution_count": 66,
     "metadata": {},
     "output_type": "execute_result"
    }
   ],
   "source": [
    "xgb.cv(param, d_train, num_round, nfold=5,\n",
    "       metrics={'merror'}, seed = 0,callbacks=[xgb.callback.print_evaluation(show_stdv=True)])"
   ]
  },
  {
   "cell_type": "markdown",
   "metadata": {},
   "source": [
    "### 2. 使用XGBoost的sklearn接口，对KaggleCredit2数据完成信用卡欺诈项目的建模及分析（要求以不同参数设置xgboost运行并比对），最后给出实验总结\n",
    "\n",
    "- KaggleCredit2数据文件 位于/home/sxy-s3/0.Teacher/Exam/KaggleCredit2.csv.zip，请勿复制或移动该文件\n",
    "\n",
    "- note: 没完成？"
   ]
  },
  {
   "cell_type": "code",
   "execution_count": 2,
   "metadata": {
    "collapsed": true
   },
   "outputs": [],
   "source": [
    "import pickle\n",
    "import xgboost as xgb\n",
    "\n",
    "import numpy as np\n",
    "from sklearn.model_selection import KFold, train_test_split, GridSearchCV\n",
    "from sklearn.metrics import confusion_matrix, mean_squared_error\n",
    "from sklearn.datasets import load_iris, load_digits, load_boston\n",
    "import pandas as pd\n",
    "\n",
    "\n",
    "from distutils.version import LooseVersion as Version\n",
    "from sklearn import __version__ as sklearn_version\n",
    "if Version(sklearn_version) < '0.18':\n",
    "    from sklearn.cross_validation import train_test_split\n",
    "else:\n",
    "    from sklearn.model_selection import train_test_split\n",
    "\n",
    "from sklearn.preprocessing import MinMaxScaler\n"
   ]
  },
  {
   "cell_type": "code",
   "execution_count": 3,
   "metadata": {
    "collapsed": true
   },
   "outputs": [],
   "source": [
    "data=pd.read_csv(\"/home/sxy-s3/0.Teacher/Exam/KaggleCredit2.csv.zip\")"
   ]
  },
  {
   "cell_type": "code",
   "execution_count": 4,
   "metadata": {},
   "outputs": [
    {
     "name": "stdout",
     "output_type": "stream",
     "text": [
      "<class 'pandas.core.frame.DataFrame'>\n",
      "RangeIndex: 112915 entries, 0 to 112914\n",
      "Data columns (total 12 columns):\n",
      "Unnamed: 0                              112915 non-null int64\n",
      "SeriousDlqin2yrs                        112915 non-null int64\n",
      "RevolvingUtilizationOfUnsecuredLines    112915 non-null float64\n",
      "age                                     108648 non-null float64\n",
      "NumberOfTime30-59DaysPastDueNotWorse    112915 non-null float64\n",
      "DebtRatio                               112915 non-null float64\n",
      "MonthlyIncome                           112915 non-null float64\n",
      "NumberOfOpenCreditLinesAndLoans         112915 non-null float64\n",
      "NumberOfTimes90DaysLate                 112915 non-null float64\n",
      "NumberRealEstateLoansOrLines            112915 non-null float64\n",
      "NumberOfTime60-89DaysPastDueNotWorse    112915 non-null float64\n",
      "NumberOfDependents                      108648 non-null float64\n",
      "dtypes: float64(10), int64(2)\n",
      "memory usage: 10.3 MB\n"
     ]
    }
   ],
   "source": [
    "data.info()"
   ]
  },
  {
   "cell_type": "code",
   "execution_count": 5,
   "metadata": {
    "scrolled": false
   },
   "outputs": [
    {
     "data": {
      "text/html": [
       "<div>\n",
       "<style scoped>\n",
       "    .dataframe tbody tr th:only-of-type {\n",
       "        vertical-align: middle;\n",
       "    }\n",
       "\n",
       "    .dataframe tbody tr th {\n",
       "        vertical-align: top;\n",
       "    }\n",
       "\n",
       "    .dataframe thead th {\n",
       "        text-align: right;\n",
       "    }\n",
       "</style>\n",
       "<table border=\"1\" class=\"dataframe\">\n",
       "  <thead>\n",
       "    <tr style=\"text-align: right;\">\n",
       "      <th></th>\n",
       "      <th>Unnamed: 0</th>\n",
       "      <th>SeriousDlqin2yrs</th>\n",
       "      <th>RevolvingUtilizationOfUnsecuredLines</th>\n",
       "      <th>age</th>\n",
       "      <th>NumberOfTime30-59DaysPastDueNotWorse</th>\n",
       "      <th>DebtRatio</th>\n",
       "      <th>MonthlyIncome</th>\n",
       "      <th>NumberOfOpenCreditLinesAndLoans</th>\n",
       "      <th>NumberOfTimes90DaysLate</th>\n",
       "      <th>NumberRealEstateLoansOrLines</th>\n",
       "      <th>NumberOfTime60-89DaysPastDueNotWorse</th>\n",
       "      <th>NumberOfDependents</th>\n",
       "    </tr>\n",
       "  </thead>\n",
       "  <tbody>\n",
       "    <tr>\n",
       "      <th>0</th>\n",
       "      <td>0</td>\n",
       "      <td>1</td>\n",
       "      <td>0.766127</td>\n",
       "      <td>45.0</td>\n",
       "      <td>2.0</td>\n",
       "      <td>0.802982</td>\n",
       "      <td>9120.0</td>\n",
       "      <td>13.0</td>\n",
       "      <td>0.0</td>\n",
       "      <td>6.0</td>\n",
       "      <td>0.0</td>\n",
       "      <td>2.0</td>\n",
       "    </tr>\n",
       "    <tr>\n",
       "      <th>1</th>\n",
       "      <td>1</td>\n",
       "      <td>0</td>\n",
       "      <td>0.957151</td>\n",
       "      <td>40.0</td>\n",
       "      <td>0.0</td>\n",
       "      <td>0.121876</td>\n",
       "      <td>2600.0</td>\n",
       "      <td>4.0</td>\n",
       "      <td>0.0</td>\n",
       "      <td>0.0</td>\n",
       "      <td>0.0</td>\n",
       "      <td>1.0</td>\n",
       "    </tr>\n",
       "    <tr>\n",
       "      <th>2</th>\n",
       "      <td>2</td>\n",
       "      <td>0</td>\n",
       "      <td>0.658180</td>\n",
       "      <td>38.0</td>\n",
       "      <td>1.0</td>\n",
       "      <td>0.085113</td>\n",
       "      <td>3042.0</td>\n",
       "      <td>2.0</td>\n",
       "      <td>1.0</td>\n",
       "      <td>0.0</td>\n",
       "      <td>0.0</td>\n",
       "      <td>0.0</td>\n",
       "    </tr>\n",
       "    <tr>\n",
       "      <th>3</th>\n",
       "      <td>3</td>\n",
       "      <td>0</td>\n",
       "      <td>0.233810</td>\n",
       "      <td>30.0</td>\n",
       "      <td>0.0</td>\n",
       "      <td>0.036050</td>\n",
       "      <td>3300.0</td>\n",
       "      <td>5.0</td>\n",
       "      <td>0.0</td>\n",
       "      <td>0.0</td>\n",
       "      <td>0.0</td>\n",
       "      <td>0.0</td>\n",
       "    </tr>\n",
       "    <tr>\n",
       "      <th>4</th>\n",
       "      <td>4</td>\n",
       "      <td>0</td>\n",
       "      <td>0.907239</td>\n",
       "      <td>49.0</td>\n",
       "      <td>1.0</td>\n",
       "      <td>0.024926</td>\n",
       "      <td>63588.0</td>\n",
       "      <td>7.0</td>\n",
       "      <td>0.0</td>\n",
       "      <td>1.0</td>\n",
       "      <td>0.0</td>\n",
       "      <td>0.0</td>\n",
       "    </tr>\n",
       "  </tbody>\n",
       "</table>\n",
       "</div>"
      ],
      "text/plain": [
       "   Unnamed: 0  SeriousDlqin2yrs  RevolvingUtilizationOfUnsecuredLines   age  \\\n",
       "0           0                 1                              0.766127  45.0   \n",
       "1           1                 0                              0.957151  40.0   \n",
       "2           2                 0                              0.658180  38.0   \n",
       "3           3                 0                              0.233810  30.0   \n",
       "4           4                 0                              0.907239  49.0   \n",
       "\n",
       "   NumberOfTime30-59DaysPastDueNotWorse  DebtRatio  MonthlyIncome  \\\n",
       "0                                   2.0   0.802982         9120.0   \n",
       "1                                   0.0   0.121876         2600.0   \n",
       "2                                   1.0   0.085113         3042.0   \n",
       "3                                   0.0   0.036050         3300.0   \n",
       "4                                   1.0   0.024926        63588.0   \n",
       "\n",
       "   NumberOfOpenCreditLinesAndLoans  NumberOfTimes90DaysLate  \\\n",
       "0                             13.0                      0.0   \n",
       "1                              4.0                      0.0   \n",
       "2                              2.0                      1.0   \n",
       "3                              5.0                      0.0   \n",
       "4                              7.0                      0.0   \n",
       "\n",
       "   NumberRealEstateLoansOrLines  NumberOfTime60-89DaysPastDueNotWorse  \\\n",
       "0                           6.0                                   0.0   \n",
       "1                           0.0                                   0.0   \n",
       "2                           0.0                                   0.0   \n",
       "3                           0.0                                   0.0   \n",
       "4                           1.0                                   0.0   \n",
       "\n",
       "   NumberOfDependents  \n",
       "0                 2.0  \n",
       "1                 1.0  \n",
       "2                 0.0  \n",
       "3                 0.0  \n",
       "4                 0.0  "
      ]
     },
     "execution_count": 5,
     "metadata": {},
     "output_type": "execute_result"
    }
   ],
   "source": [
    "data.head()"
   ]
  },
  {
   "cell_type": "code",
   "execution_count": 6,
   "metadata": {
    "collapsed": true
   },
   "outputs": [],
   "source": [
    "# data.NumberOfOpenCreditLinesAndLoans.value_counts()"
   ]
  },
  {
   "cell_type": "code",
   "execution_count": 7,
   "metadata": {
    "collapsed": true
   },
   "outputs": [],
   "source": [
    "# data.NumberOfTimes90DaysLate.value_counts()"
   ]
  },
  {
   "cell_type": "code",
   "execution_count": 8,
   "metadata": {
    "collapsed": true
   },
   "outputs": [],
   "source": [
    "# data['NumberOfTime30-59DaysPastDueNotWorse'].value_counts()"
   ]
  },
  {
   "cell_type": "code",
   "execution_count": 9,
   "metadata": {
    "collapsed": true
   },
   "outputs": [],
   "source": [
    "data=data.dropna()"
   ]
  },
  {
   "cell_type": "code",
   "execution_count": null,
   "metadata": {
    "collapsed": true
   },
   "outputs": [],
   "source": []
  },
  {
   "cell_type": "code",
   "execution_count": 10,
   "metadata": {
    "scrolled": true
   },
   "outputs": [
    {
     "name": "stdout",
     "output_type": "stream",
     "text": [
      "<class 'pandas.core.frame.DataFrame'>\n",
      "Int64Index: 108648 entries, 0 to 112914\n",
      "Data columns (total 12 columns):\n",
      "Unnamed: 0                              108648 non-null int64\n",
      "SeriousDlqin2yrs                        108648 non-null int64\n",
      "RevolvingUtilizationOfUnsecuredLines    108648 non-null float64\n",
      "age                                     108648 non-null float64\n",
      "NumberOfTime30-59DaysPastDueNotWorse    108648 non-null float64\n",
      "DebtRatio                               108648 non-null float64\n",
      "MonthlyIncome                           108648 non-null float64\n",
      "NumberOfOpenCreditLinesAndLoans         108648 non-null float64\n",
      "NumberOfTimes90DaysLate                 108648 non-null float64\n",
      "NumberRealEstateLoansOrLines            108648 non-null float64\n",
      "NumberOfTime60-89DaysPastDueNotWorse    108648 non-null float64\n",
      "NumberOfDependents                      108648 non-null float64\n",
      "dtypes: float64(10), int64(2)\n",
      "memory usage: 10.8 MB\n"
     ]
    }
   ],
   "source": [
    "data.info()"
   ]
  },
  {
   "cell_type": "code",
   "execution_count": null,
   "metadata": {
    "collapsed": true
   },
   "outputs": [],
   "source": []
  },
  {
   "cell_type": "code",
   "execution_count": 18,
   "metadata": {
    "collapsed": true
   },
   "outputs": [],
   "source": [
    "y=data.SeriousDlqin2yrs\n",
    "X= data.drop('SeriousDlqin2yrs', axis=1)"
   ]
  },
  {
   "cell_type": "code",
   "execution_count": 19,
   "metadata": {
    "collapsed": true
   },
   "outputs": [],
   "source": [
    "# mm_scaler = MinMaxScaler()"
   ]
  },
  {
   "cell_type": "code",
   "execution_count": 20,
   "metadata": {
    "collapsed": true
   },
   "outputs": [],
   "source": [
    "# fare_trans = mm_scaler.fit_transform(x[['MonthlyIncome','age']])"
   ]
  },
  {
   "cell_type": "code",
   "execution_count": 21,
   "metadata": {
    "collapsed": true
   },
   "outputs": [],
   "source": [
    "# fare_trans[:]"
   ]
  },
  {
   "cell_type": "code",
   "execution_count": 22,
   "metadata": {
    "collapsed": true
   },
   "outputs": [],
   "source": [
    "# x[\"age_scale\"]="
   ]
  },
  {
   "cell_type": "code",
   "execution_count": null,
   "metadata": {
    "collapsed": true
   },
   "outputs": [],
   "source": []
  },
  {
   "cell_type": "code",
   "execution_count": 23,
   "metadata": {
    "collapsed": true
   },
   "outputs": [],
   "source": [
    "#  pd.get_dummies(x['NumberOfTime30-59DaysPastDueNotWorse','NumberOfOpenCreditLinesAndLoans','NumberOfDependents'])"
   ]
  },
  {
   "cell_type": "code",
   "execution_count": 24,
   "metadata": {
    "collapsed": true
   },
   "outputs": [],
   "source": [
    "X_train, X_test, y_train, y_test = \\\n",
    "    train_test_split(X, y, test_size=0.3, random_state=0)\n",
    "    "
   ]
  },
  {
   "cell_type": "code",
   "execution_count": 25,
   "metadata": {},
   "outputs": [
    {
     "data": {
      "text/plain": [
       "XGBClassifier(base_score=0.5, booster='gbtree', colsample_bylevel=1,\n",
       "       colsample_bytree=1, gamma=0, learning_rate=0.1, max_delta_step=0,\n",
       "       max_depth=3, min_child_weight=1, missing=None, n_estimators=100,\n",
       "       n_jobs=1, nthread=None, objective='binary:logistic', random_state=0,\n",
       "       reg_alpha=0, reg_lambda=1, scale_pos_weight=1, seed=None,\n",
       "       silent=True, subsample=1)"
      ]
     },
     "execution_count": 25,
     "metadata": {},
     "output_type": "execute_result"
    }
   ],
   "source": [
    "from xgboost import XGBClassifier\n",
    "xgb=XGBClassifier()\n",
    "xgb.fit(X_train,y_train)"
   ]
  },
  {
   "cell_type": "code",
   "execution_count": null,
   "metadata": {
    "collapsed": true
   },
   "outputs": [],
   "source": [
    "xgb.s"
   ]
  },
  {
   "cell_type": "code",
   "execution_count": 148,
   "metadata": {
    "collapsed": true
   },
   "outputs": [],
   "source": [
    "# from sklearn.feature_selection import SelectKBest\n",
    "# import numpy as np\n",
    "# selectBest = SelectKBest(k=8).fit(X_train,y_train)\n",
    "# X_new=selectBest.transform(X_train)"
   ]
  },
  {
   "cell_type": "code",
   "execution_count": 169,
   "metadata": {},
   "outputs": [
    {
     "ename": "SyntaxError",
     "evalue": "invalid syntax (<ipython-input-169-4bbe4419638f>, line 4)",
     "output_type": "error",
     "traceback": [
      "\u001b[0;36m  File \u001b[0;32m\"<ipython-input-169-4bbe4419638f>\"\u001b[0;36m, line \u001b[0;32m4\u001b[0m\n\u001b[0;31m    'n_estimators': [50,100,200], verbose=1)\u001b[0m\n\u001b[0m                                         ^\u001b[0m\n\u001b[0;31mSyntaxError\u001b[0m\u001b[0;31m:\u001b[0m invalid syntax\n"
     ]
    }
   ],
   "source": [
    "xgb_model = xgb.XGBRegressor()\n",
    "clf = GridSearchCV(xgb_model,\n",
    "                   {'max_depth': [2,4,6],\n",
    "                    'n_estimators': [50,100,200]}, verbose=1)\n",
    "clf.fit(X_train,y_train)\n",
    "print(clf.best_score_)\n",
    "print(clf.best_params_)"
   ]
  },
  {
   "cell_type": "code",
   "execution_count": null,
   "metadata": {
    "collapsed": true
   },
   "outputs": [],
   "source": []
  },
  {
   "cell_type": "code",
   "execution_count": null,
   "metadata": {
    "collapsed": true
   },
   "outputs": [],
   "source": []
  },
  {
   "cell_type": "code",
   "execution_count": null,
   "metadata": {
    "collapsed": true
   },
   "outputs": [],
   "source": []
  },
  {
   "cell_type": "markdown",
   "metadata": {},
   "source": [
    "### 本阶段课程意见反馈题(非必答，不送分)\n",
    "#### 请同学围绕以下两点进行回答：\n",
    "- 自身总结：请您对您自己在本周课程的学习，收获，技能掌握等方面进行一次总结 ，也包括有哪些方面存在哪些不足，欠缺，困惑。作为将来回顾学习路径时的依据。\n"
   ]
  },
  {
   "cell_type": "code",
   "execution_count": null,
   "metadata": {
    "collapsed": true
   },
   "outputs": [],
   "source": []
  },
  {
   "cell_type": "markdown",
   "metadata": {},
   "source": [
    "- 课程反馈：请就知识点，进度，难易度，教学方式，考试方式及难易度等方面向我们反馈，督促我们进行更有效的改进。"
   ]
  },
  {
   "cell_type": "code",
   "execution_count": null,
   "metadata": {
    "collapsed": true
   },
   "outputs": [],
   "source": []
  },
  {
   "cell_type": "markdown",
   "metadata": {},
   "source": [
    "<hr>\n",
    "<center><h1>####答卷结束####</h1></center>"
   ]
  }
 ],
 "metadata": {
  "kernelspec": {
   "display_name": "Python 3",
   "language": "python",
   "name": "python3"
  },
  "language_info": {
   "codemirror_mode": {
    "name": "ipython",
    "version": 3
   },
   "file_extension": ".py",
   "mimetype": "text/x-python",
   "name": "python",
   "nbconvert_exporter": "python",
   "pygments_lexer": "ipython3",
   "version": "3.5.2"
  }
 },
 "nbformat": 4,
 "nbformat_minor": 2
}
