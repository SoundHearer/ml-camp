{
 "cells": [
  {
   "cell_type": "markdown",
   "metadata": {},
   "source": [
    "## 七月在线机器学习实训营三期第七周(机器学习-模型调优与融合)考试\n",
    "#### 考试说明:\n",
    "- 起止时间：请同学在2018年3月23日至3月25日期间完成，最晚提交时间本周日（3月25日24时之前）结束，<b>逾期不接受补考,该考试分数计入平时成绩</b>\n",
    "- 考试方式：请同学<font color=red><b>拷贝</b></font>该试卷至自己姓名的目录后，将文件更名为同学姓名拼音-exam7后，进行作答。例如wangwei-exam7\n",
    "- 提交格式：请同学新建自己姓名全拼的文件夹，将该试卷，数据文件，zip文件等相关考试文件，放置此目录下。将该目录<b>移动</b>至/0.Teacher/Exam/7/目录下\n",
    "- 注意事项：为确保同学们真正了解自身对本周课程的掌握程度，<font color=red><b>请勿翻阅，移动，更改</b></font>其它同学试卷。如发现按0分处理\n",
    "- 请同学在下方同学姓名处填写自己的姓名，批改人和最终得分不用填写"
   ]
  },
  {
   "cell_type": "markdown",
   "metadata": {},
   "source": [
    "- 同学姓名:<u>__胡振彪___</u>  \n",
    "- 批改人： David\n",
    "- 最终得分:77"
   ]
  },
  {
   "cell_type": "markdown",
   "metadata": {},
   "source": [
    "<center><h1>####答卷开始####</h1></center>\n",
    "<hr>"
   ]
  },
  {
   "cell_type": "markdown",
   "metadata": {},
   "source": [
    "## 简答题(共6题，1，2题每题5分，后4题每题10分，共计50分)\n",
    "\n",
    "-42分"
   ]
  },
  {
   "cell_type": "markdown",
   "metadata": {},
   "source": [
    "#### 1. 机器学习任务中，通常会将给定数据切分为训练集，验证集，测试集，请回答这三类数据集各自的用途。"
   ]
  },
  {
   "cell_type": "markdown",
   "metadata": {
    "collapsed": true
   },
   "source": [
    "通常，在训练有监督的机器学习模型的时候，会将数据划分为训练集、验证集合测试集，划分比例一般为0.6:0.2:0.2。\n",
    "对原始数据进行三个集合的划分，是为了能够选出效果最好的、泛化能力最佳的模型。\n",
    "\n",
    "### 训练集（Training set）\n",
    "\n",
    "作用是用来拟合模型，通过设置分类器的参数，训练分类模型。后续结合验证集作用时，会选出同一参数的不同取值，拟合出多个分类器。\n",
    "\n",
    "\n",
    "### 验证集(Cross ValidaDon set)\n",
    "\n",
    "作用是当通过训练集训练出多个模型后，为了能找出效果最佳的模型，使用各个模型对验证集数据进行预测，并记录模型准确率。选出效果最佳的模型所对应的参数，即用来调整模型参数。如svn中的参数c和核函数等。\n",
    "\n",
    "\n",
    "### 测试集(Test set)\n",
    "\n",
    "通过训练集和验证集得出最优模型后，使用测试集进行模型预测。用来衡量该最优模型的性能和分类能力。即可以把测试集当做从来不存在的数据集，当已经确定模型参数后，使用测试集进行模型性能评价。\n"
   ]
  },
  {
   "cell_type": "markdown",
   "metadata": {},
   "source": [
    "#### 2.如何将数据转换成xgboost内置用法的libsvm数据格式，以及该格式数据是如何解读的?\n",
    "\n",
    "- note: 解读呢？"
   ]
  },
  {
   "cell_type": "code",
   "execution_count": null,
   "metadata": {
    "collapsed": true
   },
   "outputs": [],
   "source": [
    "xgboost.DMatrix() 可以将数据转换成为libsvm数据格式， 例如：X_train = xgb.DMatrix(data=X_train, label=y_train)\n"
   ]
  },
  {
   "cell_type": "markdown",
   "metadata": {},
   "source": [
    "#### 3. 对于自动特征选择，通常有哪三类方法？试写出每类方式的思想，以及在sklearn中的代码实现（面试题）\n",
    "\n",
    "- note: 思想 呢？"
   ]
  },
  {
   "cell_type": "markdown",
   "metadata": {
    "collapsed": true
   },
   "source": [
    "#### 过滤式、包裹式，嵌入式\n",
    "- 过滤式：\n",
    "from sklearn.datasets import load_iris\n",
    "from sklearn.feature_selection import SelectKBest\n",
    "iris = load_iris()\n",
    "X, y = iris.data, iris.target\n",
    "X_new = SelectKBest(k=2).fit_transform(X,y)<bra>\n",
    "* 包裹式：\n",
    "from sklearn.feature_selection import RFE\n",
    "from sklearn.ensemble import RandomForestClassifier\n",
    "rf = RandomForestClassifier()\n",
    "rfe = RFE(estimator=rf, n_features_to_select=2)\n",
    "\n",
    "* 嵌入式：\n",
    "from sklearn.feature_selection import SelectFromModel \n",
    "from sklearn.svm import LinearSVC\n",
    "lsvc = LinearSVC(C=0.01, penalty='l1', dual=False).fit(X,y)\n",
    "model = SelectFromModel(lsvc, prefit=True)\n",
    "X_embedd = model.transform(X)"
   ]
  },
  {
   "cell_type": "markdown",
   "metadata": {},
   "source": [
    "#### 4.网格搜索交叉验证的作用是什么，并简述网格搜索交叉验证是如何运行的？ "
   ]
  },
  {
   "cell_type": "markdown",
   "metadata": {
    "collapsed": true
   },
   "source": [
    "作用：通过网格搜索并且交叉验证，程序自动的帮你使用穷举法来将所用的参数都运行一遍，得到最优的模型参数\n",
    "运行：设置参数列表，遍历所有的参数，使用交叉验证的方法，评估得到最优的参数"
   ]
  },
  {
   "cell_type": "markdown",
   "metadata": {},
   "source": [
    "#### 5.工业界上模型整合有三大类方式？试简述每类方式其思想？（面试题）"
   ]
  },
  {
   "cell_type": "markdown",
   "metadata": {
    "collapsed": true
   },
   "source": [
    "#### 随机森林\n",
    "RF在以决策树为基学习器构建Bagging集成的基础上，进一步在决策树的训练过程中引入随机属性选择。 \n",
    "传统决策树在选择划分属性时是在当前结点的属性集合中选择一个最优属性；而在RF中，基决策树的每个结点，先从该结点的属性集合（假定有d个属性）中随机选择一个包含k个属性的子集，然后再从这个子集中选择一个最优属性用于划分。\n",
    "\n",
    "#### Bagging\n",
    "Bagging是并行式 集成学习方法最著名的代表．自助采样法(bootstrap sampling).将训练数据集进行N次Bootstrap采样得到N个训练数据子集，对每个子集使用相同的算法分别建立决策树，最终的分类（或回归）结果是N个决策树的结果的多数投票（或平均）。\n",
    "\n",
    "#### Boosting\n",
    "Boosting是一族可将弱学习器提升为强学习器的算法．这族算法的工作机制类似：先从初始训练集训练出一个基学习器，再根据基学习器的表现对训练一样本分布进行调整，使得先前基学习器做错的训练样本在后续受到更多关注，然后基千调整后的样本分布来训练下个基学习器；如此重复进行，直至基学习器数目达到事先指定的值T, 最终将这T个基学习器进行加权结合．Boosting族算法最著名的代表是AdaBoost。\n",
    "\n"
   ]
  },
  {
   "cell_type": "markdown",
   "metadata": {},
   "source": [
    "#### 6.  我们可以将xgboost的中众多参数分类为哪三类？请写出哪些参数可以用什么方式用来控制过拟合？"
   ]
  },
  {
   "cell_type": "markdown",
   "metadata": {
    "collapsed": true
   },
   "source": [
    "三种类型：通用参数(general parameters)，booster parameters和学习目标参数（task parameters）\n",
    "\n",
    "#### General parameters \n",
    "该参数参数控制宏观功能，在提升(boosting)过程中使用哪种booster，常用的booster有树模型(tree)和线性模型(linear model)\n",
    "#### Booster parameters \n",
    "这取决于使用哪种booster，tree booster比较常用，表现远胜于linear booster。一下介绍tree booster的参数控制过拟合\n",
    "* 1、min_child_weight[默认1]，决定最小叶子节点样本权重和。这个参数用于避免过拟合。当它的值较大时，可以避免模型学习到局部的特殊样本。但是如果这个值过高，会导致欠拟合。这个参数需要使用CV来调整。\n",
    "\n",
    "* 2、max_depth[默认6]，树的最大深度，这个值也是用来避免过拟合的。max_depth越大，模型会学到更具体更局部的样本。\n",
    "* 3、gamma[默认0]，在节点分裂时，只有分裂后损失函数的值下降了，才会分裂这个节点。Gamma指定了节点分裂所需的最小损失函数下降值。这个参数的值越大，算法越保守。这个参数的值和损失函数息息相关，所以是需要调整的。\n",
    "* 4、subsample[默认1]，这个参数控制对于每棵树，随机采样的比例，减小这个参数的值，算法会更加保守，避免过拟合。但是，如果这个值设置得过小，它可能会导致欠拟合。\n",
    "* 5、lambda[默认1]，权重的L2正则化项。这个参数是用来控制XGBoost的正则化部分的。虽然大部分数据科学家很少用到这个参数，但是这个参数在减少过拟合上还是可以挖掘出更多用处的。\n",
    "\n",
    "\n",
    "#### Task parameters \n",
    "控制学习的场景，例如在回归问题中会使用不同的参数控制排序，"
   ]
  },
  {
   "cell_type": "markdown",
   "metadata": {},
   "source": [
    "## 实验题(共2题，每题25分，共计50分)\n",
    "- note: 35分"
   ]
  },
  {
   "cell_type": "markdown",
   "metadata": {},
   "source": [
    "### 1. 使用XGBoost内置方式，导入iris数据完成分类问题（要求以不同参数设置xgboost运行并比对），最后给出实验总结"
   ]
  },
  {
   "cell_type": "code",
   "execution_count": 3,
   "metadata": {
    "collapsed": true
   },
   "outputs": [],
   "source": [
    "#XGBoost 有两类接口： 原生接口   sklearn 接口\n",
    "from sklearn.datasets import load_iris\n",
    "import xgboost as xgb\n",
    "from xgboost import plot_importance\n",
    "from matplotlib import pyplot as plt\n",
    "from sklearn.model_selection import train_test_split\n"
   ]
  },
  {
   "cell_type": "code",
   "execution_count": 58,
   "metadata": {
    "collapsed": true
   },
   "outputs": [],
   "source": [
    "# 导入iris数据\n",
    "iris = load_iris()\n",
    "\n",
    "X = iris.data\n",
    "Y = iris.target\n",
    "\n",
    "#切分数据集为训练集和测试集 此方法不行，后面error结果不对\n",
    "#seed = 2018\n",
    "#X_train, X_test, y_train, y_test = train_test_split(X,Y,test_size = 0.2,random_state = seed)\n",
    "#d_train = xgb.DMatrix(data = X_train, label= y_train)\n",
    "#d_test = xgb.DMatrix(data = X_test, label = y_test)\n",
    "\n",
    "d_train = xgb.DMatrix(data=X[:120,:], label=Y[:120])\n",
    "d_test = xgb.DMatrix(data=X[120:,:], label=Y[120:])\n",
    "\n",
    "# watch_list \n",
    "watch_list = [(d_test, 'eval'), (d_train, 'train')]"
   ]
  },
  {
   "cell_type": "markdown",
   "metadata": {},
   "source": [
    "### 在此请教老师一个问题，如果采用train_test_split切分数据集 发现下面的运算eval-merror 均为零，我找不出原因，请老师帮忙解答 谢谢\n",
    "\n",
    "- note: 稍后"
   ]
  },
  {
   "cell_type": "code",
   "execution_count": 101,
   "metadata": {},
   "outputs": [
    {
     "data": {
      "text/plain": [
       "array([2, 2, 2, 2, 2, 2, 2, 2, 2, 2, 2, 2, 2, 2, 2, 2, 2, 2, 2, 2, 2, 2,\n",
       "       2, 2, 2, 2, 2, 2, 2, 2])"
      ]
     },
     "execution_count": 101,
     "metadata": {},
     "output_type": "execute_result"
    }
   ],
   "source": [
    "y[120:]"
   ]
  },
  {
   "cell_type": "code",
   "execution_count": 93,
   "metadata": {
    "collapsed": true
   },
   "outputs": [],
   "source": [
    "#参数设定，不同树的深度\n",
    "\n",
    "param1 = {\n",
    "   'booster': 'gbtree',\n",
    "   'objective': 'multi:softmax',\n",
    "   'gamma': 0.1,\n",
    "   'max_depth': 4,\n",
    "   'lambda': 3,\n",
    "   'subsample': 0.7,\n",
    "   'colsample_bytree': 0.7,\n",
    "   'min_child_weight': 3,\n",
    "   'silent': 1,\n",
    "   'eta': 0.1,\n",
    "   'seed': 1000,\n",
    "   'nthread': 4,\n",
    "   'num_class':3\n",
    "}\n",
    "\n",
    "param2 = {\n",
    "   'booster': 'gbtree',\n",
    "   'objective': 'multi:softmax',\n",
    "   'gamma': 0.1,\n",
    "   'max_depth': 5,\n",
    "   'lambda': 3,\n",
    "   'subsample': 0.7,\n",
    "   'colsample_bytree': 0.7,\n",
    "   'min_child_weight': 3,\n",
    "   'silent': 1,\n",
    "   'eta': 0.1,\n",
    "   'seed': 1000,\n",
    "   'nthread': 4,\n",
    "   'num_class':3\n",
    "}\n",
    "\n",
    "param1 = {\n",
    "   'booster': 'gbtree',\n",
    "   'objective': 'multi:softmax',\n",
    "   'gamma': 0.1,\n",
    "   'max_depth': 6,\n",
    "   'lambda': 3,\n",
    "   'subsample': 0.7,\n",
    "   'colsample_bytree': 0.7,\n",
    "   'min_child_weight': 3,\n",
    "   'silent': 1,\n",
    "   'eta': 0.1,\n",
    "   'seed': 1000,\n",
    "   'nthread': 4,\n",
    "   'num_class':3\n",
    "}\n",
    "\n",
    "num_round = 200"
   ]
  },
  {
   "cell_type": "code",
   "execution_count": 94,
   "metadata": {},
   "outputs": [
    {
     "name": "stdout",
     "output_type": "stream",
     "text": [
      "[0]\teval-merror:0.1\ttrain-merror:0.025\n",
      "[1]\teval-merror:0.1\ttrain-merror:0.025\n",
      "[2]\teval-merror:0.1\ttrain-merror:0.033333\n",
      "[3]\teval-merror:0.233333\ttrain-merror:0.025\n",
      "[4]\teval-merror:0.266667\ttrain-merror:0.025\n",
      "[5]\teval-merror:0.266667\ttrain-merror:0.025\n",
      "[6]\teval-merror:0.266667\ttrain-merror:0.025\n",
      "[7]\teval-merror:0.266667\ttrain-merror:0.025\n",
      "[8]\teval-merror:0.266667\ttrain-merror:0.025\n",
      "[9]\teval-merror:0.233333\ttrain-merror:0.025\n",
      "[10]\teval-merror:0.266667\ttrain-merror:0.025\n",
      "[11]\teval-merror:0.233333\ttrain-merror:0.025\n",
      "[12]\teval-merror:0.233333\ttrain-merror:0.025\n",
      "[13]\teval-merror:0.233333\ttrain-merror:0.025\n",
      "[14]\teval-merror:0.233333\ttrain-merror:0.025\n",
      "[15]\teval-merror:0.233333\ttrain-merror:0.025\n",
      "[16]\teval-merror:0.233333\ttrain-merror:0.025\n",
      "[17]\teval-merror:0.233333\ttrain-merror:0.025\n",
      "[18]\teval-merror:0.266667\ttrain-merror:0.025\n",
      "[19]\teval-merror:0.266667\ttrain-merror:0.025\n",
      "[20]\teval-merror:0.233333\ttrain-merror:0.025\n",
      "[21]\teval-merror:0.233333\ttrain-merror:0.025\n",
      "[22]\teval-merror:0.233333\ttrain-merror:0.025\n",
      "[23]\teval-merror:0.233333\ttrain-merror:0.025\n",
      "[24]\teval-merror:0.233333\ttrain-merror:0.025\n",
      "[25]\teval-merror:0.233333\ttrain-merror:0.025\n",
      "[26]\teval-merror:0.233333\ttrain-merror:0.025\n",
      "[27]\teval-merror:0.233333\ttrain-merror:0.025\n",
      "[28]\teval-merror:0.233333\ttrain-merror:0.025\n",
      "[29]\teval-merror:0.233333\ttrain-merror:0.025\n",
      "[30]\teval-merror:0.233333\ttrain-merror:0.025\n",
      "[31]\teval-merror:0.233333\ttrain-merror:0.025\n",
      "[32]\teval-merror:0.233333\ttrain-merror:0.025\n",
      "[33]\teval-merror:0.233333\ttrain-merror:0.025\n",
      "[34]\teval-merror:0.233333\ttrain-merror:0.025\n",
      "[35]\teval-merror:0.233333\ttrain-merror:0.025\n",
      "[36]\teval-merror:0.233333\ttrain-merror:0.025\n",
      "[37]\teval-merror:0.233333\ttrain-merror:0.025\n",
      "[38]\teval-merror:0.233333\ttrain-merror:0.025\n",
      "[39]\teval-merror:0.233333\ttrain-merror:0.025\n",
      "[40]\teval-merror:0.233333\ttrain-merror:0.025\n",
      "[41]\teval-merror:0.233333\ttrain-merror:0.025\n",
      "[42]\teval-merror:0.233333\ttrain-merror:0.025\n",
      "[43]\teval-merror:0.233333\ttrain-merror:0.025\n",
      "[44]\teval-merror:0.233333\ttrain-merror:0.025\n",
      "[45]\teval-merror:0.233333\ttrain-merror:0.025\n",
      "[46]\teval-merror:0.233333\ttrain-merror:0.025\n",
      "[47]\teval-merror:0.233333\ttrain-merror:0.025\n",
      "[48]\teval-merror:0.233333\ttrain-merror:0.025\n",
      "[49]\teval-merror:0.233333\ttrain-merror:0.025\n",
      "[50]\teval-merror:0.233333\ttrain-merror:0.025\n",
      "[51]\teval-merror:0.233333\ttrain-merror:0.025\n",
      "[52]\teval-merror:0.233333\ttrain-merror:0.025\n",
      "[53]\teval-merror:0.233333\ttrain-merror:0.025\n",
      "[54]\teval-merror:0.233333\ttrain-merror:0.025\n",
      "[55]\teval-merror:0.233333\ttrain-merror:0.025\n",
      "[56]\teval-merror:0.233333\ttrain-merror:0.025\n",
      "[57]\teval-merror:0.233333\ttrain-merror:0.025\n",
      "[58]\teval-merror:0.233333\ttrain-merror:0.025\n",
      "[59]\teval-merror:0.233333\ttrain-merror:0.025\n",
      "[60]\teval-merror:0.233333\ttrain-merror:0.025\n",
      "[61]\teval-merror:0.233333\ttrain-merror:0.025\n",
      "[62]\teval-merror:0.233333\ttrain-merror:0.025\n",
      "[63]\teval-merror:0.233333\ttrain-merror:0.025\n",
      "[64]\teval-merror:0.233333\ttrain-merror:0.025\n",
      "[65]\teval-merror:0.233333\ttrain-merror:0.025\n",
      "[66]\teval-merror:0.233333\ttrain-merror:0.025\n",
      "[67]\teval-merror:0.233333\ttrain-merror:0.025\n",
      "[68]\teval-merror:0.233333\ttrain-merror:0.025\n",
      "[69]\teval-merror:0.233333\ttrain-merror:0.025\n",
      "[70]\teval-merror:0.233333\ttrain-merror:0.025\n",
      "[71]\teval-merror:0.233333\ttrain-merror:0.025\n",
      "[72]\teval-merror:0.233333\ttrain-merror:0.025\n",
      "[73]\teval-merror:0.233333\ttrain-merror:0.025\n",
      "[74]\teval-merror:0.233333\ttrain-merror:0.025\n",
      "[75]\teval-merror:0.233333\ttrain-merror:0.025\n",
      "[76]\teval-merror:0.233333\ttrain-merror:0.025\n",
      "[77]\teval-merror:0.233333\ttrain-merror:0.025\n",
      "[78]\teval-merror:0.233333\ttrain-merror:0.025\n",
      "[79]\teval-merror:0.233333\ttrain-merror:0.025\n",
      "[80]\teval-merror:0.233333\ttrain-merror:0.025\n",
      "[81]\teval-merror:0.233333\ttrain-merror:0.025\n",
      "[82]\teval-merror:0.233333\ttrain-merror:0.025\n",
      "[83]\teval-merror:0.233333\ttrain-merror:0.025\n",
      "[84]\teval-merror:0.233333\ttrain-merror:0.025\n",
      "[85]\teval-merror:0.233333\ttrain-merror:0.025\n",
      "[86]\teval-merror:0.233333\ttrain-merror:0.025\n",
      "[87]\teval-merror:0.233333\ttrain-merror:0.025\n",
      "[88]\teval-merror:0.233333\ttrain-merror:0.025\n",
      "[89]\teval-merror:0.266667\ttrain-merror:0.025\n",
      "[90]\teval-merror:0.266667\ttrain-merror:0.025\n",
      "[91]\teval-merror:0.266667\ttrain-merror:0.025\n",
      "[92]\teval-merror:0.266667\ttrain-merror:0.025\n",
      "[93]\teval-merror:0.266667\ttrain-merror:0.025\n",
      "[94]\teval-merror:0.266667\ttrain-merror:0.025\n",
      "[95]\teval-merror:0.266667\ttrain-merror:0.025\n",
      "[96]\teval-merror:0.266667\ttrain-merror:0.025\n",
      "[97]\teval-merror:0.266667\ttrain-merror:0.025\n",
      "[98]\teval-merror:0.266667\ttrain-merror:0.025\n",
      "[99]\teval-merror:0.266667\ttrain-merror:0.025\n",
      "[100]\teval-merror:0.266667\ttrain-merror:0.025\n",
      "[101]\teval-merror:0.266667\ttrain-merror:0.025\n",
      "[102]\teval-merror:0.266667\ttrain-merror:0.025\n",
      "[103]\teval-merror:0.266667\ttrain-merror:0.025\n",
      "[104]\teval-merror:0.266667\ttrain-merror:0.025\n",
      "[105]\teval-merror:0.266667\ttrain-merror:0.025\n",
      "[106]\teval-merror:0.266667\ttrain-merror:0.025\n",
      "[107]\teval-merror:0.266667\ttrain-merror:0.025\n",
      "[108]\teval-merror:0.266667\ttrain-merror:0.025\n",
      "[109]\teval-merror:0.266667\ttrain-merror:0.025\n",
      "[110]\teval-merror:0.266667\ttrain-merror:0.025\n",
      "[111]\teval-merror:0.266667\ttrain-merror:0.025\n",
      "[112]\teval-merror:0.266667\ttrain-merror:0.025\n",
      "[113]\teval-merror:0.266667\ttrain-merror:0.025\n",
      "[114]\teval-merror:0.266667\ttrain-merror:0.025\n",
      "[115]\teval-merror:0.266667\ttrain-merror:0.025\n",
      "[116]\teval-merror:0.266667\ttrain-merror:0.025\n",
      "[117]\teval-merror:0.266667\ttrain-merror:0.025\n",
      "[118]\teval-merror:0.266667\ttrain-merror:0.025\n",
      "[119]\teval-merror:0.266667\ttrain-merror:0.025\n",
      "[120]\teval-merror:0.266667\ttrain-merror:0.025\n",
      "[121]\teval-merror:0.266667\ttrain-merror:0.025\n",
      "[122]\teval-merror:0.266667\ttrain-merror:0.025\n",
      "[123]\teval-merror:0.266667\ttrain-merror:0.025\n",
      "[124]\teval-merror:0.266667\ttrain-merror:0.025\n",
      "[125]\teval-merror:0.266667\ttrain-merror:0.025\n",
      "[126]\teval-merror:0.266667\ttrain-merror:0.025\n",
      "[127]\teval-merror:0.266667\ttrain-merror:0.025\n",
      "[128]\teval-merror:0.266667\ttrain-merror:0.025\n",
      "[129]\teval-merror:0.266667\ttrain-merror:0.025\n",
      "[130]\teval-merror:0.266667\ttrain-merror:0.025\n",
      "[131]\teval-merror:0.266667\ttrain-merror:0.025\n",
      "[132]\teval-merror:0.266667\ttrain-merror:0.025\n",
      "[133]\teval-merror:0.266667\ttrain-merror:0.025\n",
      "[134]\teval-merror:0.266667\ttrain-merror:0.025\n",
      "[135]\teval-merror:0.266667\ttrain-merror:0.025\n",
      "[136]\teval-merror:0.266667\ttrain-merror:0.025\n",
      "[137]\teval-merror:0.266667\ttrain-merror:0.025\n",
      "[138]\teval-merror:0.266667\ttrain-merror:0.025\n",
      "[139]\teval-merror:0.266667\ttrain-merror:0.025\n",
      "[140]\teval-merror:0.266667\ttrain-merror:0.025\n",
      "[141]\teval-merror:0.266667\ttrain-merror:0.025\n",
      "[142]\teval-merror:0.266667\ttrain-merror:0.025\n",
      "[143]\teval-merror:0.266667\ttrain-merror:0.025\n",
      "[144]\teval-merror:0.266667\ttrain-merror:0.025\n",
      "[145]\teval-merror:0.266667\ttrain-merror:0.025\n",
      "[146]\teval-merror:0.266667\ttrain-merror:0.025\n",
      "[147]\teval-merror:0.266667\ttrain-merror:0.025\n",
      "[148]\teval-merror:0.266667\ttrain-merror:0.025\n",
      "[149]\teval-merror:0.266667\ttrain-merror:0.025\n",
      "[150]\teval-merror:0.266667\ttrain-merror:0.025\n",
      "[151]\teval-merror:0.266667\ttrain-merror:0.025\n",
      "[152]\teval-merror:0.266667\ttrain-merror:0.025\n",
      "[153]\teval-merror:0.266667\ttrain-merror:0.025\n",
      "[154]\teval-merror:0.266667\ttrain-merror:0.025\n",
      "[155]\teval-merror:0.266667\ttrain-merror:0.025\n",
      "[156]\teval-merror:0.266667\ttrain-merror:0.025\n",
      "[157]\teval-merror:0.266667\ttrain-merror:0.025\n",
      "[158]\teval-merror:0.266667\ttrain-merror:0.025\n",
      "[159]\teval-merror:0.266667\ttrain-merror:0.025\n",
      "[160]\teval-merror:0.266667\ttrain-merror:0.025\n",
      "[161]\teval-merror:0.266667\ttrain-merror:0.025\n",
      "[162]\teval-merror:0.266667\ttrain-merror:0.025\n",
      "[163]\teval-merror:0.266667\ttrain-merror:0.025\n",
      "[164]\teval-merror:0.266667\ttrain-merror:0.025\n",
      "[165]\teval-merror:0.266667\ttrain-merror:0.025\n",
      "[166]\teval-merror:0.266667\ttrain-merror:0.025\n",
      "[167]\teval-merror:0.266667\ttrain-merror:0.025\n",
      "[168]\teval-merror:0.266667\ttrain-merror:0.025\n",
      "[169]\teval-merror:0.266667\ttrain-merror:0.025\n",
      "[170]\teval-merror:0.266667\ttrain-merror:0.025\n",
      "[171]\teval-merror:0.266667\ttrain-merror:0.025\n",
      "[172]\teval-merror:0.266667\ttrain-merror:0.025\n",
      "[173]\teval-merror:0.266667\ttrain-merror:0.025\n",
      "[174]\teval-merror:0.266667\ttrain-merror:0.025\n",
      "[175]\teval-merror:0.266667\ttrain-merror:0.025\n",
      "[176]\teval-merror:0.266667\ttrain-merror:0.025\n",
      "[177]\teval-merror:0.266667\ttrain-merror:0.025\n",
      "[178]\teval-merror:0.266667\ttrain-merror:0.025\n",
      "[179]\teval-merror:0.266667\ttrain-merror:0.025\n",
      "[180]\teval-merror:0.266667\ttrain-merror:0.025\n"
     ]
    },
    {
     "name": "stdout",
     "output_type": "stream",
     "text": [
      "[181]\teval-merror:0.266667\ttrain-merror:0.025\n",
      "[182]\teval-merror:0.266667\ttrain-merror:0.025\n",
      "[183]\teval-merror:0.266667\ttrain-merror:0.025\n",
      "[184]\teval-merror:0.266667\ttrain-merror:0.025\n",
      "[185]\teval-merror:0.266667\ttrain-merror:0.025\n",
      "[186]\teval-merror:0.266667\ttrain-merror:0.025\n",
      "[187]\teval-merror:0.266667\ttrain-merror:0.025\n",
      "[188]\teval-merror:0.266667\ttrain-merror:0.025\n",
      "[189]\teval-merror:0.266667\ttrain-merror:0.025\n",
      "[190]\teval-merror:0.266667\ttrain-merror:0.025\n",
      "[191]\teval-merror:0.266667\ttrain-merror:0.025\n",
      "[192]\teval-merror:0.266667\ttrain-merror:0.025\n",
      "[193]\teval-merror:0.266667\ttrain-merror:0.025\n",
      "[194]\teval-merror:0.266667\ttrain-merror:0.025\n",
      "[195]\teval-merror:0.266667\ttrain-merror:0.025\n",
      "[196]\teval-merror:0.266667\ttrain-merror:0.025\n",
      "[197]\teval-merror:0.266667\ttrain-merror:0.025\n",
      "[198]\teval-merror:0.266667\ttrain-merror:0.025\n",
      "[199]\teval-merror:0.266667\ttrain-merror:0.025\n"
     ]
    }
   ],
   "source": [
    "bst1 = xgb.train(params, d_train, num_round, watch_list)"
   ]
  },
  {
   "cell_type": "code",
   "execution_count": 95,
   "metadata": {},
   "outputs": [
    {
     "name": "stdout",
     "output_type": "stream",
     "text": [
      "[0]\teval-merror:0.1\ttrain-merror:0.025\n",
      "[1]\teval-merror:0.1\ttrain-merror:0.025\n",
      "[2]\teval-merror:0.1\ttrain-merror:0.033333\n",
      "[3]\teval-merror:0.233333\ttrain-merror:0.025\n",
      "[4]\teval-merror:0.266667\ttrain-merror:0.025\n",
      "[5]\teval-merror:0.266667\ttrain-merror:0.025\n",
      "[6]\teval-merror:0.266667\ttrain-merror:0.025\n",
      "[7]\teval-merror:0.266667\ttrain-merror:0.025\n",
      "[8]\teval-merror:0.266667\ttrain-merror:0.025\n",
      "[9]\teval-merror:0.233333\ttrain-merror:0.025\n",
      "[10]\teval-merror:0.266667\ttrain-merror:0.025\n",
      "[11]\teval-merror:0.233333\ttrain-merror:0.025\n",
      "[12]\teval-merror:0.233333\ttrain-merror:0.025\n",
      "[13]\teval-merror:0.233333\ttrain-merror:0.025\n",
      "[14]\teval-merror:0.233333\ttrain-merror:0.025\n",
      "[15]\teval-merror:0.233333\ttrain-merror:0.025\n",
      "[16]\teval-merror:0.233333\ttrain-merror:0.025\n",
      "[17]\teval-merror:0.233333\ttrain-merror:0.025\n",
      "[18]\teval-merror:0.266667\ttrain-merror:0.025\n",
      "[19]\teval-merror:0.266667\ttrain-merror:0.025\n",
      "[20]\teval-merror:0.233333\ttrain-merror:0.025\n",
      "[21]\teval-merror:0.233333\ttrain-merror:0.025\n",
      "[22]\teval-merror:0.233333\ttrain-merror:0.025\n",
      "[23]\teval-merror:0.233333\ttrain-merror:0.025\n",
      "[24]\teval-merror:0.233333\ttrain-merror:0.025\n",
      "[25]\teval-merror:0.233333\ttrain-merror:0.025\n",
      "[26]\teval-merror:0.233333\ttrain-merror:0.025\n",
      "[27]\teval-merror:0.233333\ttrain-merror:0.025\n",
      "[28]\teval-merror:0.233333\ttrain-merror:0.025\n",
      "[29]\teval-merror:0.233333\ttrain-merror:0.025\n",
      "[30]\teval-merror:0.233333\ttrain-merror:0.025\n",
      "[31]\teval-merror:0.233333\ttrain-merror:0.025\n",
      "[32]\teval-merror:0.233333\ttrain-merror:0.025\n",
      "[33]\teval-merror:0.233333\ttrain-merror:0.025\n",
      "[34]\teval-merror:0.233333\ttrain-merror:0.025\n",
      "[35]\teval-merror:0.233333\ttrain-merror:0.025\n",
      "[36]\teval-merror:0.233333\ttrain-merror:0.025\n",
      "[37]\teval-merror:0.233333\ttrain-merror:0.025\n",
      "[38]\teval-merror:0.233333\ttrain-merror:0.025\n",
      "[39]\teval-merror:0.233333\ttrain-merror:0.025\n",
      "[40]\teval-merror:0.233333\ttrain-merror:0.025\n",
      "[41]\teval-merror:0.233333\ttrain-merror:0.025\n",
      "[42]\teval-merror:0.233333\ttrain-merror:0.025\n",
      "[43]\teval-merror:0.233333\ttrain-merror:0.025\n",
      "[44]\teval-merror:0.233333\ttrain-merror:0.025\n",
      "[45]\teval-merror:0.233333\ttrain-merror:0.025\n",
      "[46]\teval-merror:0.233333\ttrain-merror:0.025\n",
      "[47]\teval-merror:0.233333\ttrain-merror:0.025\n",
      "[48]\teval-merror:0.233333\ttrain-merror:0.025\n",
      "[49]\teval-merror:0.233333\ttrain-merror:0.025\n",
      "[50]\teval-merror:0.233333\ttrain-merror:0.025\n",
      "[51]\teval-merror:0.233333\ttrain-merror:0.025\n",
      "[52]\teval-merror:0.233333\ttrain-merror:0.025\n",
      "[53]\teval-merror:0.233333\ttrain-merror:0.025\n",
      "[54]\teval-merror:0.233333\ttrain-merror:0.025\n",
      "[55]\teval-merror:0.233333\ttrain-merror:0.025\n",
      "[56]\teval-merror:0.233333\ttrain-merror:0.025\n",
      "[57]\teval-merror:0.233333\ttrain-merror:0.025\n",
      "[58]\teval-merror:0.233333\ttrain-merror:0.025\n",
      "[59]\teval-merror:0.233333\ttrain-merror:0.025\n",
      "[60]\teval-merror:0.233333\ttrain-merror:0.025\n",
      "[61]\teval-merror:0.233333\ttrain-merror:0.025\n",
      "[62]\teval-merror:0.233333\ttrain-merror:0.025\n",
      "[63]\teval-merror:0.233333\ttrain-merror:0.025\n",
      "[64]\teval-merror:0.233333\ttrain-merror:0.025\n",
      "[65]\teval-merror:0.233333\ttrain-merror:0.025\n",
      "[66]\teval-merror:0.233333\ttrain-merror:0.025\n",
      "[67]\teval-merror:0.233333\ttrain-merror:0.025\n",
      "[68]\teval-merror:0.233333\ttrain-merror:0.025\n",
      "[69]\teval-merror:0.233333\ttrain-merror:0.025\n",
      "[70]\teval-merror:0.233333\ttrain-merror:0.025\n",
      "[71]\teval-merror:0.233333\ttrain-merror:0.025\n",
      "[72]\teval-merror:0.233333\ttrain-merror:0.025\n",
      "[73]\teval-merror:0.233333\ttrain-merror:0.025\n",
      "[74]\teval-merror:0.233333\ttrain-merror:0.025\n",
      "[75]\teval-merror:0.233333\ttrain-merror:0.025\n",
      "[76]\teval-merror:0.233333\ttrain-merror:0.025\n",
      "[77]\teval-merror:0.233333\ttrain-merror:0.025\n",
      "[78]\teval-merror:0.233333\ttrain-merror:0.025\n",
      "[79]\teval-merror:0.233333\ttrain-merror:0.025\n",
      "[80]\teval-merror:0.233333\ttrain-merror:0.025\n",
      "[81]\teval-merror:0.233333\ttrain-merror:0.025\n",
      "[82]\teval-merror:0.233333\ttrain-merror:0.025\n",
      "[83]\teval-merror:0.233333\ttrain-merror:0.025\n",
      "[84]\teval-merror:0.233333\ttrain-merror:0.025\n",
      "[85]\teval-merror:0.233333\ttrain-merror:0.025\n",
      "[86]\teval-merror:0.233333\ttrain-merror:0.025\n",
      "[87]\teval-merror:0.233333\ttrain-merror:0.025\n",
      "[88]\teval-merror:0.233333\ttrain-merror:0.025\n",
      "[89]\teval-merror:0.266667\ttrain-merror:0.025\n",
      "[90]\teval-merror:0.266667\ttrain-merror:0.025\n",
      "[91]\teval-merror:0.266667\ttrain-merror:0.025\n",
      "[92]\teval-merror:0.266667\ttrain-merror:0.025\n",
      "[93]\teval-merror:0.266667\ttrain-merror:0.025\n",
      "[94]\teval-merror:0.266667\ttrain-merror:0.025\n",
      "[95]\teval-merror:0.266667\ttrain-merror:0.025\n",
      "[96]\teval-merror:0.266667\ttrain-merror:0.025\n",
      "[97]\teval-merror:0.266667\ttrain-merror:0.025\n",
      "[98]\teval-merror:0.266667\ttrain-merror:0.025\n",
      "[99]\teval-merror:0.266667\ttrain-merror:0.025\n",
      "[100]\teval-merror:0.266667\ttrain-merror:0.025\n",
      "[101]\teval-merror:0.266667\ttrain-merror:0.025\n",
      "[102]\teval-merror:0.266667\ttrain-merror:0.025\n",
      "[103]\teval-merror:0.266667\ttrain-merror:0.025\n",
      "[104]\teval-merror:0.266667\ttrain-merror:0.025\n",
      "[105]\teval-merror:0.266667\ttrain-merror:0.025\n",
      "[106]\teval-merror:0.266667\ttrain-merror:0.025\n",
      "[107]\teval-merror:0.266667\ttrain-merror:0.025\n",
      "[108]\teval-merror:0.266667\ttrain-merror:0.025\n",
      "[109]\teval-merror:0.266667\ttrain-merror:0.025\n",
      "[110]\teval-merror:0.266667\ttrain-merror:0.025\n",
      "[111]\teval-merror:0.266667\ttrain-merror:0.025\n",
      "[112]\teval-merror:0.266667\ttrain-merror:0.025\n",
      "[113]\teval-merror:0.266667\ttrain-merror:0.025\n",
      "[114]\teval-merror:0.266667\ttrain-merror:0.025\n",
      "[115]\teval-merror:0.266667\ttrain-merror:0.025\n",
      "[116]\teval-merror:0.266667\ttrain-merror:0.025\n",
      "[117]\teval-merror:0.266667\ttrain-merror:0.025\n",
      "[118]\teval-merror:0.266667\ttrain-merror:0.025\n",
      "[119]\teval-merror:0.266667\ttrain-merror:0.025\n",
      "[120]\teval-merror:0.266667\ttrain-merror:0.025\n",
      "[121]\teval-merror:0.266667\ttrain-merror:0.025\n",
      "[122]\teval-merror:0.266667\ttrain-merror:0.025\n",
      "[123]\teval-merror:0.266667\ttrain-merror:0.025\n",
      "[124]\teval-merror:0.266667\ttrain-merror:0.025\n",
      "[125]\teval-merror:0.266667\ttrain-merror:0.025\n",
      "[126]\teval-merror:0.266667\ttrain-merror:0.025\n",
      "[127]\teval-merror:0.266667\ttrain-merror:0.025\n",
      "[128]\teval-merror:0.266667\ttrain-merror:0.025\n",
      "[129]\teval-merror:0.266667\ttrain-merror:0.025\n",
      "[130]\teval-merror:0.266667\ttrain-merror:0.025\n",
      "[131]\teval-merror:0.266667\ttrain-merror:0.025\n",
      "[132]\teval-merror:0.266667\ttrain-merror:0.025\n",
      "[133]\teval-merror:0.266667\ttrain-merror:0.025\n",
      "[134]\teval-merror:0.266667\ttrain-merror:0.025\n",
      "[135]\teval-merror:0.266667\ttrain-merror:0.025\n",
      "[136]\teval-merror:0.266667\ttrain-merror:0.025\n",
      "[137]\teval-merror:0.266667\ttrain-merror:0.025\n",
      "[138]\teval-merror:0.266667\ttrain-merror:0.025\n",
      "[139]\teval-merror:0.266667\ttrain-merror:0.025\n",
      "[140]\teval-merror:0.266667\ttrain-merror:0.025\n",
      "[141]\teval-merror:0.266667\ttrain-merror:0.025\n",
      "[142]\teval-merror:0.266667\ttrain-merror:0.025\n",
      "[143]\teval-merror:0.266667\ttrain-merror:0.025\n",
      "[144]\teval-merror:0.266667\ttrain-merror:0.025\n",
      "[145]\teval-merror:0.266667\ttrain-merror:0.025\n",
      "[146]\teval-merror:0.266667\ttrain-merror:0.025\n",
      "[147]\teval-merror:0.266667\ttrain-merror:0.025\n",
      "[148]\teval-merror:0.266667\ttrain-merror:0.025\n",
      "[149]\teval-merror:0.266667\ttrain-merror:0.025\n",
      "[150]\teval-merror:0.266667\ttrain-merror:0.025\n",
      "[151]\teval-merror:0.266667\ttrain-merror:0.025\n",
      "[152]\teval-merror:0.266667\ttrain-merror:0.025\n",
      "[153]\teval-merror:0.266667\ttrain-merror:0.025\n",
      "[154]\teval-merror:0.266667\ttrain-merror:0.025\n",
      "[155]\teval-merror:0.266667\ttrain-merror:0.025\n",
      "[156]\teval-merror:0.266667\ttrain-merror:0.025\n",
      "[157]\teval-merror:0.266667\ttrain-merror:0.025\n",
      "[158]\teval-merror:0.266667\ttrain-merror:0.025\n",
      "[159]\teval-merror:0.266667\ttrain-merror:0.025\n",
      "[160]\teval-merror:0.266667\ttrain-merror:0.025\n",
      "[161]\teval-merror:0.266667\ttrain-merror:0.025\n",
      "[162]\teval-merror:0.266667\ttrain-merror:0.025\n",
      "[163]\teval-merror:0.266667\ttrain-merror:0.025\n",
      "[164]\teval-merror:0.266667\ttrain-merror:0.025\n",
      "[165]\teval-merror:0.266667\ttrain-merror:0.025\n",
      "[166]\teval-merror:0.266667\ttrain-merror:0.025\n",
      "[167]\teval-merror:0.266667\ttrain-merror:0.025\n",
      "[168]\teval-merror:0.266667\ttrain-merror:0.025\n",
      "[169]\teval-merror:0.266667\ttrain-merror:0.025\n",
      "[170]\teval-merror:0.266667\ttrain-merror:0.025\n",
      "[171]\teval-merror:0.266667\ttrain-merror:0.025\n",
      "[172]\teval-merror:0.266667\ttrain-merror:0.025\n",
      "[173]\teval-merror:0.266667\ttrain-merror:0.025\n",
      "[174]\teval-merror:0.266667\ttrain-merror:0.025\n",
      "[175]\teval-merror:0.266667\ttrain-merror:0.025\n",
      "[176]\teval-merror:0.266667\ttrain-merror:0.025\n",
      "[177]\teval-merror:0.266667\ttrain-merror:0.025\n",
      "[178]\teval-merror:0.266667\ttrain-merror:0.025\n",
      "[179]\teval-merror:0.266667\ttrain-merror:0.025\n",
      "[180]\teval-merror:0.266667\ttrain-merror:0.025\n"
     ]
    },
    {
     "name": "stdout",
     "output_type": "stream",
     "text": [
      "[181]\teval-merror:0.266667\ttrain-merror:0.025\n",
      "[182]\teval-merror:0.266667\ttrain-merror:0.025\n",
      "[183]\teval-merror:0.266667\ttrain-merror:0.025\n",
      "[184]\teval-merror:0.266667\ttrain-merror:0.025\n",
      "[185]\teval-merror:0.266667\ttrain-merror:0.025\n",
      "[186]\teval-merror:0.266667\ttrain-merror:0.025\n",
      "[187]\teval-merror:0.266667\ttrain-merror:0.025\n",
      "[188]\teval-merror:0.266667\ttrain-merror:0.025\n",
      "[189]\teval-merror:0.266667\ttrain-merror:0.025\n",
      "[190]\teval-merror:0.266667\ttrain-merror:0.025\n",
      "[191]\teval-merror:0.266667\ttrain-merror:0.025\n",
      "[192]\teval-merror:0.266667\ttrain-merror:0.025\n",
      "[193]\teval-merror:0.266667\ttrain-merror:0.025\n",
      "[194]\teval-merror:0.266667\ttrain-merror:0.025\n",
      "[195]\teval-merror:0.266667\ttrain-merror:0.025\n",
      "[196]\teval-merror:0.266667\ttrain-merror:0.025\n",
      "[197]\teval-merror:0.266667\ttrain-merror:0.025\n",
      "[198]\teval-merror:0.266667\ttrain-merror:0.025\n",
      "[199]\teval-merror:0.266667\ttrain-merror:0.025\n"
     ]
    }
   ],
   "source": [
    "bst2 = xgb.train(param2, d_train, num_round, watch_list)"
   ]
  },
  {
   "cell_type": "code",
   "execution_count": 96,
   "metadata": {},
   "outputs": [
    {
     "name": "stdout",
     "output_type": "stream",
     "text": [
      "[0]\teval-merror:0.1\ttrain-merror:0.025\n",
      "[1]\teval-merror:0.1\ttrain-merror:0.025\n",
      "[2]\teval-merror:0.1\ttrain-merror:0.033333\n",
      "[3]\teval-merror:0.233333\ttrain-merror:0.025\n",
      "[4]\teval-merror:0.266667\ttrain-merror:0.025\n",
      "[5]\teval-merror:0.266667\ttrain-merror:0.025\n",
      "[6]\teval-merror:0.266667\ttrain-merror:0.025\n",
      "[7]\teval-merror:0.266667\ttrain-merror:0.025\n",
      "[8]\teval-merror:0.266667\ttrain-merror:0.025\n",
      "[9]\teval-merror:0.233333\ttrain-merror:0.025\n",
      "[10]\teval-merror:0.266667\ttrain-merror:0.025\n",
      "[11]\teval-merror:0.233333\ttrain-merror:0.025\n",
      "[12]\teval-merror:0.233333\ttrain-merror:0.025\n",
      "[13]\teval-merror:0.233333\ttrain-merror:0.025\n",
      "[14]\teval-merror:0.233333\ttrain-merror:0.025\n",
      "[15]\teval-merror:0.233333\ttrain-merror:0.025\n",
      "[16]\teval-merror:0.233333\ttrain-merror:0.025\n",
      "[17]\teval-merror:0.233333\ttrain-merror:0.025\n",
      "[18]\teval-merror:0.266667\ttrain-merror:0.025\n",
      "[19]\teval-merror:0.266667\ttrain-merror:0.025\n",
      "[20]\teval-merror:0.233333\ttrain-merror:0.025\n",
      "[21]\teval-merror:0.233333\ttrain-merror:0.025\n",
      "[22]\teval-merror:0.233333\ttrain-merror:0.025\n",
      "[23]\teval-merror:0.233333\ttrain-merror:0.025\n",
      "[24]\teval-merror:0.233333\ttrain-merror:0.025\n",
      "[25]\teval-merror:0.233333\ttrain-merror:0.025\n",
      "[26]\teval-merror:0.233333\ttrain-merror:0.025\n",
      "[27]\teval-merror:0.233333\ttrain-merror:0.025\n",
      "[28]\teval-merror:0.233333\ttrain-merror:0.025\n",
      "[29]\teval-merror:0.233333\ttrain-merror:0.025\n",
      "[30]\teval-merror:0.233333\ttrain-merror:0.025\n",
      "[31]\teval-merror:0.233333\ttrain-merror:0.025\n",
      "[32]\teval-merror:0.233333\ttrain-merror:0.025\n",
      "[33]\teval-merror:0.233333\ttrain-merror:0.025\n",
      "[34]\teval-merror:0.233333\ttrain-merror:0.025\n",
      "[35]\teval-merror:0.233333\ttrain-merror:0.025\n",
      "[36]\teval-merror:0.233333\ttrain-merror:0.025\n",
      "[37]\teval-merror:0.233333\ttrain-merror:0.025\n",
      "[38]\teval-merror:0.233333\ttrain-merror:0.025\n",
      "[39]\teval-merror:0.233333\ttrain-merror:0.025\n",
      "[40]\teval-merror:0.233333\ttrain-merror:0.025\n",
      "[41]\teval-merror:0.233333\ttrain-merror:0.025\n",
      "[42]\teval-merror:0.233333\ttrain-merror:0.025\n",
      "[43]\teval-merror:0.233333\ttrain-merror:0.025\n",
      "[44]\teval-merror:0.233333\ttrain-merror:0.025\n",
      "[45]\teval-merror:0.233333\ttrain-merror:0.025\n",
      "[46]\teval-merror:0.233333\ttrain-merror:0.025\n",
      "[47]\teval-merror:0.233333\ttrain-merror:0.025\n",
      "[48]\teval-merror:0.233333\ttrain-merror:0.025\n",
      "[49]\teval-merror:0.233333\ttrain-merror:0.025\n",
      "[50]\teval-merror:0.233333\ttrain-merror:0.025\n",
      "[51]\teval-merror:0.233333\ttrain-merror:0.025\n",
      "[52]\teval-merror:0.233333\ttrain-merror:0.025\n",
      "[53]\teval-merror:0.233333\ttrain-merror:0.025\n",
      "[54]\teval-merror:0.233333\ttrain-merror:0.025\n",
      "[55]\teval-merror:0.233333\ttrain-merror:0.025\n",
      "[56]\teval-merror:0.233333\ttrain-merror:0.025\n",
      "[57]\teval-merror:0.233333\ttrain-merror:0.025\n",
      "[58]\teval-merror:0.233333\ttrain-merror:0.025\n",
      "[59]\teval-merror:0.233333\ttrain-merror:0.025\n",
      "[60]\teval-merror:0.233333\ttrain-merror:0.025\n",
      "[61]\teval-merror:0.233333\ttrain-merror:0.025\n",
      "[62]\teval-merror:0.233333\ttrain-merror:0.025\n",
      "[63]\teval-merror:0.233333\ttrain-merror:0.025\n",
      "[64]\teval-merror:0.233333\ttrain-merror:0.025\n",
      "[65]\teval-merror:0.233333\ttrain-merror:0.025\n",
      "[66]\teval-merror:0.233333\ttrain-merror:0.025\n",
      "[67]\teval-merror:0.233333\ttrain-merror:0.025\n",
      "[68]\teval-merror:0.233333\ttrain-merror:0.025\n",
      "[69]\teval-merror:0.233333\ttrain-merror:0.025\n",
      "[70]\teval-merror:0.233333\ttrain-merror:0.025\n",
      "[71]\teval-merror:0.233333\ttrain-merror:0.025\n",
      "[72]\teval-merror:0.233333\ttrain-merror:0.025\n",
      "[73]\teval-merror:0.233333\ttrain-merror:0.025\n",
      "[74]\teval-merror:0.233333\ttrain-merror:0.025\n",
      "[75]\teval-merror:0.233333\ttrain-merror:0.025\n",
      "[76]\teval-merror:0.233333\ttrain-merror:0.025\n",
      "[77]\teval-merror:0.233333\ttrain-merror:0.025\n",
      "[78]\teval-merror:0.233333\ttrain-merror:0.025\n",
      "[79]\teval-merror:0.233333\ttrain-merror:0.025\n",
      "[80]\teval-merror:0.233333\ttrain-merror:0.025\n",
      "[81]\teval-merror:0.233333\ttrain-merror:0.025\n",
      "[82]\teval-merror:0.233333\ttrain-merror:0.025\n",
      "[83]\teval-merror:0.233333\ttrain-merror:0.025\n",
      "[84]\teval-merror:0.233333\ttrain-merror:0.025\n",
      "[85]\teval-merror:0.233333\ttrain-merror:0.025\n",
      "[86]\teval-merror:0.233333\ttrain-merror:0.025\n",
      "[87]\teval-merror:0.233333\ttrain-merror:0.025\n",
      "[88]\teval-merror:0.233333\ttrain-merror:0.025\n",
      "[89]\teval-merror:0.266667\ttrain-merror:0.025\n",
      "[90]\teval-merror:0.266667\ttrain-merror:0.025\n",
      "[91]\teval-merror:0.266667\ttrain-merror:0.025\n",
      "[92]\teval-merror:0.266667\ttrain-merror:0.025\n",
      "[93]\teval-merror:0.266667\ttrain-merror:0.025\n",
      "[94]\teval-merror:0.266667\ttrain-merror:0.025\n",
      "[95]\teval-merror:0.266667\ttrain-merror:0.025\n",
      "[96]\teval-merror:0.266667\ttrain-merror:0.025\n",
      "[97]\teval-merror:0.266667\ttrain-merror:0.025\n",
      "[98]\teval-merror:0.266667\ttrain-merror:0.025\n",
      "[99]\teval-merror:0.266667\ttrain-merror:0.025\n",
      "[100]\teval-merror:0.266667\ttrain-merror:0.025\n",
      "[101]\teval-merror:0.266667\ttrain-merror:0.025\n",
      "[102]\teval-merror:0.266667\ttrain-merror:0.025\n",
      "[103]\teval-merror:0.266667\ttrain-merror:0.025\n",
      "[104]\teval-merror:0.266667\ttrain-merror:0.025\n",
      "[105]\teval-merror:0.266667\ttrain-merror:0.025\n",
      "[106]\teval-merror:0.266667\ttrain-merror:0.025\n",
      "[107]\teval-merror:0.266667\ttrain-merror:0.025\n",
      "[108]\teval-merror:0.266667\ttrain-merror:0.025\n",
      "[109]\teval-merror:0.266667\ttrain-merror:0.025\n",
      "[110]\teval-merror:0.266667\ttrain-merror:0.025\n",
      "[111]\teval-merror:0.266667\ttrain-merror:0.025\n",
      "[112]\teval-merror:0.266667\ttrain-merror:0.025\n",
      "[113]\teval-merror:0.266667\ttrain-merror:0.025\n",
      "[114]\teval-merror:0.266667\ttrain-merror:0.025\n",
      "[115]\teval-merror:0.266667\ttrain-merror:0.025\n",
      "[116]\teval-merror:0.266667\ttrain-merror:0.025\n",
      "[117]\teval-merror:0.266667\ttrain-merror:0.025\n",
      "[118]\teval-merror:0.266667\ttrain-merror:0.025\n",
      "[119]\teval-merror:0.266667\ttrain-merror:0.025\n",
      "[120]\teval-merror:0.266667\ttrain-merror:0.025\n",
      "[121]\teval-merror:0.266667\ttrain-merror:0.025\n",
      "[122]\teval-merror:0.266667\ttrain-merror:0.025\n",
      "[123]\teval-merror:0.266667\ttrain-merror:0.025\n",
      "[124]\teval-merror:0.266667\ttrain-merror:0.025\n",
      "[125]\teval-merror:0.266667\ttrain-merror:0.025\n",
      "[126]\teval-merror:0.266667\ttrain-merror:0.025\n",
      "[127]\teval-merror:0.266667\ttrain-merror:0.025\n",
      "[128]\teval-merror:0.266667\ttrain-merror:0.025\n",
      "[129]\teval-merror:0.266667\ttrain-merror:0.025\n",
      "[130]\teval-merror:0.266667\ttrain-merror:0.025\n",
      "[131]\teval-merror:0.266667\ttrain-merror:0.025\n",
      "[132]\teval-merror:0.266667\ttrain-merror:0.025\n",
      "[133]\teval-merror:0.266667\ttrain-merror:0.025\n",
      "[134]\teval-merror:0.266667\ttrain-merror:0.025\n",
      "[135]\teval-merror:0.266667\ttrain-merror:0.025\n",
      "[136]\teval-merror:0.266667\ttrain-merror:0.025\n",
      "[137]\teval-merror:0.266667\ttrain-merror:0.025\n",
      "[138]\teval-merror:0.266667\ttrain-merror:0.025\n",
      "[139]\teval-merror:0.266667\ttrain-merror:0.025\n",
      "[140]\teval-merror:0.266667\ttrain-merror:0.025\n",
      "[141]\teval-merror:0.266667\ttrain-merror:0.025\n",
      "[142]\teval-merror:0.266667\ttrain-merror:0.025\n",
      "[143]\teval-merror:0.266667\ttrain-merror:0.025\n",
      "[144]\teval-merror:0.266667\ttrain-merror:0.025\n",
      "[145]\teval-merror:0.266667\ttrain-merror:0.025\n",
      "[146]\teval-merror:0.266667\ttrain-merror:0.025\n",
      "[147]\teval-merror:0.266667\ttrain-merror:0.025\n",
      "[148]\teval-merror:0.266667\ttrain-merror:0.025\n",
      "[149]\teval-merror:0.266667\ttrain-merror:0.025\n",
      "[150]\teval-merror:0.266667\ttrain-merror:0.025\n",
      "[151]\teval-merror:0.266667\ttrain-merror:0.025\n",
      "[152]\teval-merror:0.266667\ttrain-merror:0.025\n",
      "[153]\teval-merror:0.266667\ttrain-merror:0.025\n",
      "[154]\teval-merror:0.266667\ttrain-merror:0.025\n",
      "[155]\teval-merror:0.266667\ttrain-merror:0.025\n",
      "[156]\teval-merror:0.266667\ttrain-merror:0.025\n",
      "[157]\teval-merror:0.266667\ttrain-merror:0.025\n",
      "[158]\teval-merror:0.266667\ttrain-merror:0.025\n",
      "[159]\teval-merror:0.266667\ttrain-merror:0.025\n",
      "[160]\teval-merror:0.266667\ttrain-merror:0.025\n",
      "[161]\teval-merror:0.266667\ttrain-merror:0.025\n",
      "[162]\teval-merror:0.266667\ttrain-merror:0.025\n",
      "[163]\teval-merror:0.266667\ttrain-merror:0.025\n",
      "[164]\teval-merror:0.266667\ttrain-merror:0.025\n",
      "[165]\teval-merror:0.266667\ttrain-merror:0.025\n",
      "[166]\teval-merror:0.266667\ttrain-merror:0.025\n",
      "[167]\teval-merror:0.266667\ttrain-merror:0.025\n",
      "[168]\teval-merror:0.266667\ttrain-merror:0.025\n",
      "[169]\teval-merror:0.266667\ttrain-merror:0.025\n",
      "[170]\teval-merror:0.266667\ttrain-merror:0.025\n",
      "[171]\teval-merror:0.266667\ttrain-merror:0.025\n",
      "[172]\teval-merror:0.266667\ttrain-merror:0.025\n",
      "[173]\teval-merror:0.266667\ttrain-merror:0.025\n",
      "[174]\teval-merror:0.266667\ttrain-merror:0.025\n",
      "[175]\teval-merror:0.266667\ttrain-merror:0.025\n",
      "[176]\teval-merror:0.266667\ttrain-merror:0.025\n",
      "[177]\teval-merror:0.266667\ttrain-merror:0.025\n",
      "[178]\teval-merror:0.266667\ttrain-merror:0.025\n",
      "[179]\teval-merror:0.266667\ttrain-merror:0.025\n",
      "[180]\teval-merror:0.266667\ttrain-merror:0.025\n"
     ]
    },
    {
     "name": "stdout",
     "output_type": "stream",
     "text": [
      "[181]\teval-merror:0.266667\ttrain-merror:0.025\n",
      "[182]\teval-merror:0.266667\ttrain-merror:0.025\n",
      "[183]\teval-merror:0.266667\ttrain-merror:0.025\n",
      "[184]\teval-merror:0.266667\ttrain-merror:0.025\n",
      "[185]\teval-merror:0.266667\ttrain-merror:0.025\n",
      "[186]\teval-merror:0.266667\ttrain-merror:0.025\n",
      "[187]\teval-merror:0.266667\ttrain-merror:0.025\n",
      "[188]\teval-merror:0.266667\ttrain-merror:0.025\n",
      "[189]\teval-merror:0.266667\ttrain-merror:0.025\n",
      "[190]\teval-merror:0.266667\ttrain-merror:0.025\n",
      "[191]\teval-merror:0.266667\ttrain-merror:0.025\n",
      "[192]\teval-merror:0.266667\ttrain-merror:0.025\n",
      "[193]\teval-merror:0.266667\ttrain-merror:0.025\n",
      "[194]\teval-merror:0.266667\ttrain-merror:0.025\n",
      "[195]\teval-merror:0.266667\ttrain-merror:0.025\n",
      "[196]\teval-merror:0.266667\ttrain-merror:0.025\n",
      "[197]\teval-merror:0.266667\ttrain-merror:0.025\n",
      "[198]\teval-merror:0.266667\ttrain-merror:0.025\n",
      "[199]\teval-merror:0.266667\ttrain-merror:0.025\n"
     ]
    }
   ],
   "source": [
    "bst2 = xgb.train(param2, d_train, num_round, watch_list)\n"
   ]
  },
  {
   "cell_type": "markdown",
   "metadata": {},
   "source": [
    "通过对比树的深度发现，本数据集不同深度模拟结果相同，树的大小对本数据集影响较小。"
   ]
  },
  {
   "cell_type": "code",
   "execution_count": null,
   "metadata": {
    "collapsed": true
   },
   "outputs": [],
   "source": []
  },
  {
   "cell_type": "markdown",
   "metadata": {},
   "source": [
    "### 2. 使用XGBoost的sklearn接口，对KaggleCredit2数据完成信用卡欺诈项目的建模及分析（要求以不同参数设置xgboost运行并比对），最后给出实验总结\n",
    "\n",
    "- KaggleCredit2数据文件 位于/home/sxy-s3/0.Teacher/Exam/KaggleCredit2.csv.zip，请勿复制或移动该文件\n",
    "\n",
    "- 分析及总结木有？"
   ]
  },
  {
   "cell_type": "code",
   "execution_count": 198,
   "metadata": {
    "collapsed": true
   },
   "outputs": [],
   "source": [
    "import pandas as pd\n",
    "import xgboost as xgb\n",
    "import numpy as np\n",
    "import sklearn as sk\n",
    "from sklearn.model_selection import train_test_split\n",
    "from sklearn.preprocessing import StandardScaler\n",
    "from xgboost.sklearn import XGBClassifier\n",
    "import warnings\n",
    "warnings.filterwarnings('ignore')"
   ]
  },
  {
   "cell_type": "code",
   "execution_count": 199,
   "metadata": {
    "collapsed": true
   },
   "outputs": [],
   "source": [
    "data =  pd.read_csv('/home/sxy-s3/0.Teacher/Exam/KaggleCredit2.csv', index_col= 0)"
   ]
  },
  {
   "cell_type": "code",
   "execution_count": 200,
   "metadata": {},
   "outputs": [
    {
     "data": {
      "text/html": [
       "<div>\n",
       "<style scoped>\n",
       "    .dataframe tbody tr th:only-of-type {\n",
       "        vertical-align: middle;\n",
       "    }\n",
       "\n",
       "    .dataframe tbody tr th {\n",
       "        vertical-align: top;\n",
       "    }\n",
       "\n",
       "    .dataframe thead th {\n",
       "        text-align: right;\n",
       "    }\n",
       "</style>\n",
       "<table border=\"1\" class=\"dataframe\">\n",
       "  <thead>\n",
       "    <tr style=\"text-align: right;\">\n",
       "      <th></th>\n",
       "      <th>SeriousDlqin2yrs</th>\n",
       "      <th>RevolvingUtilizationOfUnsecuredLines</th>\n",
       "      <th>age</th>\n",
       "      <th>NumberOfTime30-59DaysPastDueNotWorse</th>\n",
       "      <th>DebtRatio</th>\n",
       "      <th>MonthlyIncome</th>\n",
       "      <th>NumberOfOpenCreditLinesAndLoans</th>\n",
       "      <th>NumberOfTimes90DaysLate</th>\n",
       "      <th>NumberRealEstateLoansOrLines</th>\n",
       "      <th>NumberOfTime60-89DaysPastDueNotWorse</th>\n",
       "      <th>NumberOfDependents</th>\n",
       "    </tr>\n",
       "  </thead>\n",
       "  <tbody>\n",
       "    <tr>\n",
       "      <th>0</th>\n",
       "      <td>1</td>\n",
       "      <td>0.766127</td>\n",
       "      <td>45.0</td>\n",
       "      <td>2.0</td>\n",
       "      <td>0.802982</td>\n",
       "      <td>9120.0</td>\n",
       "      <td>13.0</td>\n",
       "      <td>0.0</td>\n",
       "      <td>6.0</td>\n",
       "      <td>0.0</td>\n",
       "      <td>2.0</td>\n",
       "    </tr>\n",
       "    <tr>\n",
       "      <th>1</th>\n",
       "      <td>0</td>\n",
       "      <td>0.957151</td>\n",
       "      <td>40.0</td>\n",
       "      <td>0.0</td>\n",
       "      <td>0.121876</td>\n",
       "      <td>2600.0</td>\n",
       "      <td>4.0</td>\n",
       "      <td>0.0</td>\n",
       "      <td>0.0</td>\n",
       "      <td>0.0</td>\n",
       "      <td>1.0</td>\n",
       "    </tr>\n",
       "    <tr>\n",
       "      <th>2</th>\n",
       "      <td>0</td>\n",
       "      <td>0.658180</td>\n",
       "      <td>38.0</td>\n",
       "      <td>1.0</td>\n",
       "      <td>0.085113</td>\n",
       "      <td>3042.0</td>\n",
       "      <td>2.0</td>\n",
       "      <td>1.0</td>\n",
       "      <td>0.0</td>\n",
       "      <td>0.0</td>\n",
       "      <td>0.0</td>\n",
       "    </tr>\n",
       "    <tr>\n",
       "      <th>3</th>\n",
       "      <td>0</td>\n",
       "      <td>0.233810</td>\n",
       "      <td>30.0</td>\n",
       "      <td>0.0</td>\n",
       "      <td>0.036050</td>\n",
       "      <td>3300.0</td>\n",
       "      <td>5.0</td>\n",
       "      <td>0.0</td>\n",
       "      <td>0.0</td>\n",
       "      <td>0.0</td>\n",
       "      <td>0.0</td>\n",
       "    </tr>\n",
       "    <tr>\n",
       "      <th>4</th>\n",
       "      <td>0</td>\n",
       "      <td>0.907239</td>\n",
       "      <td>49.0</td>\n",
       "      <td>1.0</td>\n",
       "      <td>0.024926</td>\n",
       "      <td>63588.0</td>\n",
       "      <td>7.0</td>\n",
       "      <td>0.0</td>\n",
       "      <td>1.0</td>\n",
       "      <td>0.0</td>\n",
       "      <td>0.0</td>\n",
       "    </tr>\n",
       "  </tbody>\n",
       "</table>\n",
       "</div>"
      ],
      "text/plain": [
       "   SeriousDlqin2yrs  RevolvingUtilizationOfUnsecuredLines   age  \\\n",
       "0                 1                              0.766127  45.0   \n",
       "1                 0                              0.957151  40.0   \n",
       "2                 0                              0.658180  38.0   \n",
       "3                 0                              0.233810  30.0   \n",
       "4                 0                              0.907239  49.0   \n",
       "\n",
       "   NumberOfTime30-59DaysPastDueNotWorse  DebtRatio  MonthlyIncome  \\\n",
       "0                                   2.0   0.802982         9120.0   \n",
       "1                                   0.0   0.121876         2600.0   \n",
       "2                                   1.0   0.085113         3042.0   \n",
       "3                                   0.0   0.036050         3300.0   \n",
       "4                                   1.0   0.024926        63588.0   \n",
       "\n",
       "   NumberOfOpenCreditLinesAndLoans  NumberOfTimes90DaysLate  \\\n",
       "0                             13.0                      0.0   \n",
       "1                              4.0                      0.0   \n",
       "2                              2.0                      1.0   \n",
       "3                              5.0                      0.0   \n",
       "4                              7.0                      0.0   \n",
       "\n",
       "   NumberRealEstateLoansOrLines  NumberOfTime60-89DaysPastDueNotWorse  \\\n",
       "0                           6.0                                   0.0   \n",
       "1                           0.0                                   0.0   \n",
       "2                           0.0                                   0.0   \n",
       "3                           0.0                                   0.0   \n",
       "4                           1.0                                   0.0   \n",
       "\n",
       "   NumberOfDependents  \n",
       "0                 2.0  \n",
       "1                 1.0  \n",
       "2                 0.0  \n",
       "3                 0.0  \n",
       "4                 0.0  "
      ]
     },
     "execution_count": 200,
     "metadata": {},
     "output_type": "execute_result"
    }
   ],
   "source": [
    "data.head()"
   ]
  },
  {
   "cell_type": "code",
   "execution_count": 201,
   "metadata": {},
   "outputs": [
    {
     "data": {
      "text/plain": [
       "(112915, 11)"
      ]
     },
     "execution_count": 201,
     "metadata": {},
     "output_type": "execute_result"
    }
   ],
   "source": [
    "data.shape"
   ]
  },
  {
   "cell_type": "code",
   "execution_count": 202,
   "metadata": {},
   "outputs": [
    {
     "data": {
      "text/plain": [
       "SeriousDlqin2yrs                           0\n",
       "RevolvingUtilizationOfUnsecuredLines       0\n",
       "age                                     4267\n",
       "NumberOfTime30-59DaysPastDueNotWorse       0\n",
       "DebtRatio                                  0\n",
       "MonthlyIncome                              0\n",
       "NumberOfOpenCreditLinesAndLoans            0\n",
       "NumberOfTimes90DaysLate                    0\n",
       "NumberRealEstateLoansOrLines               0\n",
       "NumberOfTime60-89DaysPastDueNotWorse       0\n",
       "NumberOfDependents                      4267\n",
       "dtype: int64"
      ]
     },
     "execution_count": 202,
     "metadata": {},
     "output_type": "execute_result"
    }
   ],
   "source": [
    "data.isnull().sum(axis = 0)"
   ]
  },
  {
   "cell_type": "code",
   "execution_count": 203,
   "metadata": {
    "collapsed": true
   },
   "outputs": [],
   "source": [
    "data.dropna(inplace=True)"
   ]
  },
  {
   "cell_type": "code",
   "execution_count": 204,
   "metadata": {
    "collapsed": true
   },
   "outputs": [],
   "source": [
    "X = data.drop(['SeriousDlqin2yrs'],axis = 1)\n",
    "y = data['SeriousDlqin2yrs']"
   ]
  },
  {
   "cell_type": "code",
   "execution_count": 205,
   "metadata": {
    "collapsed": true
   },
   "outputs": [],
   "source": [
    "X_train, X_test, y_train, y_test = train_test_split(X,y, test_size = 0.3,random_state = 0)"
   ]
  },
  {
   "cell_type": "code",
   "execution_count": 206,
   "metadata": {
    "collapsed": true
   },
   "outputs": [],
   "source": [
    "#归一化数据集\n",
    "#std = StandardScaler()\n",
    "#X_train_std = std.fit_transform(X_train)\n",
    "#X_test_std = std.fit_transform(X_test)"
   ]
  },
  {
   "cell_type": "code",
   "execution_count": 207,
   "metadata": {},
   "outputs": [
    {
     "data": {
      "text/plain": [
       "((76053, 10), (76053,))"
      ]
     },
     "execution_count": 207,
     "metadata": {},
     "output_type": "execute_result"
    }
   ],
   "source": [
    "X_train.shape,y_train.shape"
   ]
  },
  {
   "cell_type": "code",
   "execution_count": 208,
   "metadata": {
    "collapsed": true
   },
   "outputs": [],
   "source": [
    "#设置训练模型\n",
    "xgb=XGBClassifier(\n",
    "    gamma = 0.1,                      # Gamma指定了节点分裂所需的最小损失函数下降值，值越大，算法越保守。  \n",
    "    learning_rate = 0.3,              # 学习速率  \n",
    "    max_delta_step = 0,               # 限制每棵树权重改变的最大步长。0为没有限制，越大越保守。可用于样本不平衡的时候。  \n",
    "    max_depth = 5,                    # 树的最大深度  \n",
    "    min_child_weight = 6,             # 最小叶子节点样本权重和。低避免过拟合，太高导致欠拟合。  \n",
    "    #missing = None,                   # 如果有缺失值则替换。默认 None 就是 np.nan  \n",
    "    n_estimators = 30,               # 树的数量  \n",
    "    objective = 'binary:logistic',    # 指定学习任务和相应的学习目标或要使用的自定义目标函数  )\n",
    ")"
   ]
  },
  {
   "cell_type": "code",
   "execution_count": 209,
   "metadata": {
    "collapsed": true
   },
   "outputs": [],
   "source": [
    "bst = xgb.fit(X_train,y_train)"
   ]
  },
  {
   "cell_type": "code",
   "execution_count": 212,
   "metadata": {},
   "outputs": [
    {
     "data": {
      "text/plain": [
       "0.9364012885411873"
      ]
     },
     "execution_count": 212,
     "metadata": {},
     "output_type": "execute_result"
    }
   ],
   "source": [
    "xgb.score(X_test, y_test)"
   ]
  },
  {
   "cell_type": "markdown",
   "metadata": {},
   "source": [
    "参数设置思路：\n",
    "1、手动设置各个参数，采用控制变量法，一次更改一个变量\n",
    "2、使用网格交叉验证方法，遍历所有参数组合。"
   ]
  },
  {
   "cell_type": "markdown",
   "metadata": {},
   "source": [
    "### 本阶段课程意见反馈题(非必答，不送分)\n",
    "#### 请同学围绕以下两点进行回答：\n",
    "- 自身总结：请您对您自己在本周课程的学习，收获，技能掌握等方面进行一次总结 ，也包括有哪些方面存在哪些不足，欠缺，困惑。作为将来回顾学习路径时的依据。\n"
   ]
  },
  {
   "cell_type": "code",
   "execution_count": null,
   "metadata": {
    "collapsed": true
   },
   "outputs": [],
   "source": []
  },
  {
   "cell_type": "markdown",
   "metadata": {},
   "source": [
    "- 课程反馈：请就知识点，进度，难易度，教学方式，考试方式及难易度等方面向我们反馈，督促我们进行更有效的改进。"
   ]
  },
  {
   "cell_type": "code",
   "execution_count": null,
   "metadata": {
    "collapsed": true
   },
   "outputs": [],
   "source": []
  },
  {
   "cell_type": "markdown",
   "metadata": {},
   "source": [
    "<hr>\n",
    "<center><h1>####答卷结束####</h1></center>"
   ]
  }
 ],
 "metadata": {
  "kernelspec": {
   "display_name": "Python 3",
   "language": "python",
   "name": "python3"
  },
  "language_info": {
   "codemirror_mode": {
    "name": "ipython",
    "version": 3
   },
   "file_extension": ".py",
   "mimetype": "text/x-python",
   "name": "python",
   "nbconvert_exporter": "python",
   "pygments_lexer": "ipython3",
   "version": "3.5.2"
  }
 },
 "nbformat": 4,
 "nbformat_minor": 2
}
