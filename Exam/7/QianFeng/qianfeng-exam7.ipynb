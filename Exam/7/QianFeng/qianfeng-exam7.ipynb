{
 "cells": [
  {
   "cell_type": "markdown",
   "metadata": {},
   "source": [
    "## 七月在线机器学习实训营三期第七周(机器学习-模型调优与融合)考试\n",
    "#### 考试说明:\n",
    "- 起止时间：请同学在2018年3月23日至3月25日期间完成，最晚提交时间本周日（3月25日24时之前）结束，<b>逾期不接受补考,该考试分数计入平时成绩</b>\n",
    "- 考试方式：请同学<font color=red><b>拷贝</b></font>该试卷至自己姓名的目录后，将文件更名为同学姓名拼音-exam7后，进行作答。例如wangwei-exam7\n",
    "- 提交格式：请同学新建自己姓名全拼的文件夹，将该试卷，数据文件，zip文件等相关考试文件，放置此目录下。将该目录<b>移动</b>至/0.Teacher/Exam/7/目录下\n",
    "- 注意事项：为确保同学们真正了解自身对本周课程的掌握程度，<font color=red><b>请勿翻阅，移动，更改</b></font>其它同学试卷。如发现按0分处理\n",
    "- 请同学在下方同学姓名处填写自己的姓名，批改人和最终得分不用填写"
   ]
  },
  {
   "cell_type": "markdown",
   "metadata": {},
   "source": [
    "- 同学姓名:<u>钱峰</u>  \n",
    "- 批改人： David\n",
    "- 最终得分:100"
   ]
  },
  {
   "cell_type": "markdown",
   "metadata": {},
   "source": [
    "<center><h1>####答卷开始####</h1></center>\n",
    "<hr>"
   ]
  },
  {
   "cell_type": "markdown",
   "metadata": {},
   "source": [
    "## 简答题(共6题，1，2题每题5分，后4题每题10分，共计50分)\n",
    "\n",
    "- note: 50"
   ]
  },
  {
   "cell_type": "markdown",
   "metadata": {},
   "source": [
    "#### 1. 机器学习任务中，通常会将给定数据切分为训练集，验证集，测试集，请回答这三类数据集各自的用途。"
   ]
  },
  {
   "cell_type": "markdown",
   "metadata": {
    "collapsed": true
   },
   "source": [
    "* 训练集用来训练模型参数.\n",
    "* 验证集用来测试训练集训练的模型的准确度, 根据准确度调整模型的参数.\n",
    "* 测试集用来获得最后的准确度."
   ]
  },
  {
   "cell_type": "markdown",
   "metadata": {},
   "source": [
    "#### 2.如何将数据转换成xgboost内置用法的libsvm数据格式，以及该格式数据是如何解读的?"
   ]
  },
  {
   "cell_type": "markdown",
   "metadata": {
    "collapsed": true
   },
   "source": [
    "* 使用xgboost.DMatrix, 其可由numpy.arrays进行构造.\n",
    "* 格式: Label 1:value 2:value ….<br>\n",
    "     Label：是类别的标识，一般自定义\n",
    "     Value：就是要训练的数据，从分类的角度来说就是特征值，数据之间用空格隔开, 如果特征值为0，特征冒号前面的序号可以不连续。这样做可以减少内存的使用，并提高做矩阵内积时的运算速度。\n"
   ]
  },
  {
   "cell_type": "markdown",
   "metadata": {},
   "source": [
    "#### 3. 对于自动特征选择，通常有哪三类方法？试写出每类方式的思想，以及在sklearn中的代码实现（面试题）"
   ]
  },
  {
   "cell_type": "markdown",
   "metadata": {
    "collapsed": true
   },
   "source": [
    "\n",
    "\n",
    "Filter：过滤法，按照发散性或者相关性对各个特征进行评分，设定阈值或者待选择阈值的个数，选择特征。<br>\n",
    "Wrapper：包装法，根据目标函数（通常是预测效果评分），每次选择若干特征，或者排除若干特征。<br>\n",
    "Embedded：嵌入法，先使用某些机器学习的算法和模型进行训练，得到各个特征的权值系数，根据系数从大到小选择特征<br>\n",
    "\n",
    "* Filter <br>\n",
    " 1)方差选择法<br>\n",
    " 使用方差选择法，先要计算各个特征的方差，然后根据阈值，选择方差大于阈值的特征。 <br>\n",
    " from sklearn.feature_selection import VarianceThreshold <br>\n",
    " VarianceThreshold(threshold=3).fit_transform(iris.data) <br>\n",
    " 2)相关系数法 <br>　　\n",
    " 使用相关系数法，先要计算各个特征对目标值的相关系数以及相关系数的P值。 <br>\n",
    " from sklearn.feature_selection import SelectKBest <br>\n",
    " from scipy.stats import pearsonr <br>\n",
    " SelectKBest(lambda X, Y: array(map(lambda x:pearsonr(x, Y), X.T)).T, k=2).fit_transform(iris.data, iris.target) <br>\n",
    " 3)卡方检验 <br>　　\n",
    " 经典的卡方检验是检验定性自变量对定性因变量的相关性。假设自变量有N种取值，因变量有M种取值，考虑自变量等于i且因变量等于j的样本频数的观察值与期望的差距，构建统计量：不难发现，这个统计量的含义简而言之就是自变量对因变量的相关性。 <br>\n",
    " from sklearn.feature_selection import SelectKBest <br>\n",
    " from sklearn.feature_selection import chi2 <br>\n",
    " SelectKBest(chi2, k=2).fit_transform(iris.data, iris.target) <br>\n",
    " 4)互信息法　 <br>　\n",
    " 经典的互信息也是评价定性自变量对定性因变量的相关性的 <br>\n",
    " SelectKBest(lambda X, Y: array(map(lambda x:mic(x, Y), X.T)).T, k=2).fit_transform(iris.data, iris.target) <br>\n",
    "* Wrapper <br>\n",
    "1) 递归特征消除法　　 <br>\n",
    " 递归消除特征法使用一个基模型来进行多轮训练，每轮训练后，消除若干权值系数的特征，再基于新的特征集进行下一轮训练。 <br>\n",
    " from sklearn.feature_selection import RFE <br>\n",
    " from sklearn.linear_model import LogisticRegression <br>\n",
    " RFE(estimator=LogisticRegression(), n_features_to_select=2).fit_transform(iris.data, iris.target) <br>\n",
    "* Embedded <br>\n",
    "1) 基于惩罚项的特征选择法　　 <br>\n",
    " 使用带惩罚项的基模型，除了筛选出特征外，同时也进行了降维。 <br>\n",
    " from sklearn.feature_selection import SelectFromModel <br>\n",
    " from sklearn.linear_model import LogisticRegression <br>\n",
    " SelectFromModel(LogisticRegression(penalty=\"l1\", C=0.1)).fit_transform(iris.data, iris.target) <br>\n",
    " 2)基于树模型的特征选择法 <br>\n",
    " 树模型中GBDT也可用来作为基模型进行特征选择，使用feature_selection库的SelectFromModel类结合GBDT模型，来选择特征的代码如下： <br>\n",
    " from sklearn.feature_selection import SelectFromModel <br>\n",
    " from sklearn.ensemble import GradientBoostingClassifier <br>\n",
    " SelectFromModel(GradientBoostingClassifier()).fit_transform(iris.data, iris.target) <br>"
   ]
  },
  {
   "cell_type": "markdown",
   "metadata": {},
   "source": [
    "#### 4.网格搜索交叉验证的作用是什么，并简述网格搜索交叉验证是如何运行的？ "
   ]
  },
  {
   "cell_type": "markdown",
   "metadata": {
    "collapsed": true
   },
   "source": [
    "作用: 网格搜索为, 用穷举法批量运行待选参数. 交叉验证是为了验证其在测试集中确实是测试集的整体最优, 而不是部分测试数据的最优.\n",
    "如何运行: 从网格中选取某一参数, 将原始数据集分为训练集和测试集, 在k折交叉验证方法中其中K-1份作为训练数据，剩下的一份作为验真数据：这个过程一共需要进行K次，将最后K次使用实现选择好的评分方式的评分求平均返回，然后找出最大的一个评分对用的参数组合。这也就完成了交叉验证这一过程。"
   ]
  },
  {
   "cell_type": "markdown",
   "metadata": {},
   "source": [
    "#### 5.工业界上模型整合有三大类方式？试简述每类方式其思想？（面试题）"
   ]
  },
  {
   "cell_type": "markdown",
   "metadata": {
    "collapsed": true
   },
   "source": [
    "* 集体智慧voting/bagging/random forest。           \n",
    "每个模型都具有差异性，学习结果集合起来效果往往比较好，是并行的算法。        \n",
    "1）投票器是让融合的各个模型投标表决从而控制过拟合。          \n",
    "2）BAGGING会对数据做采样从而其中每个模型看到的数据都是不一样的, 使各个模型的差异化增大。              \n",
    "3）随机森林是bagging的树模型版本。 \n",
    "\n",
    "* 站在巨人的肩膀看得更远STACKING和BLENDING（用上层模型输出 做为线性模型的特征）       \n",
    "这类方式是分两层的结构。      \n",
    "Stacking会在上一层模型输出的结果的基础上再去学习一个模型。用上一层estimator的结果作为下一层的特征。     \n",
    "Blending是一个弱化版的stacking, 第二层是线性的。      \n",
    "\n",
    "* 一万小时定律BOOSTING             \n",
    "    boosting 串行运行, 用弱分类器多次迭代处理上一轮学习的不好的数据，转化为一种强类器."
   ]
  },
  {
   "cell_type": "markdown",
   "metadata": {},
   "source": [
    "#### 6.  我们可以将xgboost的中众多参数分类为哪三类？请写出哪些参数可以用什么方式用来控制过拟合？"
   ]
  },
  {
   "cell_type": "markdown",
   "metadata": {
    "collapsed": true
   },
   "source": [
    "* 总共有3类参数：通用参数/general parameters, 集成(增强)参数/booster parameters 和 任务参数/task parameters\n",
    "\n",
    "* 通常可以通过两种方式来控制xgboost中的过拟合:\n",
    "\n",
    " 1) 直接控制模型的复杂性, 这包括max_depth，min_child_weight 和 gamma<br>\n",
    " 2) 增加随机性，使训练对噪声更加鲁棒.这包括subsample，colsample_bytree.也可以减少步骤eta，但是需要增加num_round。"
   ]
  },
  {
   "cell_type": "markdown",
   "metadata": {},
   "source": [
    "## 实验题(共2题，每题25分，共计50分)\n",
    "\n",
    "-note: 50"
   ]
  },
  {
   "cell_type": "markdown",
   "metadata": {},
   "source": [
    "### 1. 使用XGBoost内置方式，导入iris数据完成分类问题（要求以不同参数设置xgboost运行并比对），最后给出实验总结"
   ]
  },
  {
   "cell_type": "code",
   "execution_count": 24,
   "metadata": {
    "collapsed": true
   },
   "outputs": [],
   "source": [
    "import xgboost as xgb\n",
    "from sklearn.datasets import load_iris"
   ]
  },
  {
   "cell_type": "code",
   "execution_count": 25,
   "metadata": {
    "collapsed": true
   },
   "outputs": [],
   "source": [
    "# 读取数据\n",
    "iris = load_iris()\n",
    "X = iris.data\n",
    "Y = iris.target\n",
    "d_train = xgb.DMatrix(data=X[:120,:], label=Y[:120])\n",
    "d_test = xgb.DMatrix(data=X[120:,:], label=Y[120:])\n",
    "watch_list = [(d_test,'eval'), (d_train,'train')]"
   ]
  },
  {
   "cell_type": "code",
   "execution_count": 157,
   "metadata": {},
   "outputs": [
    {
     "name": "stdout",
     "output_type": "stream",
     "text": [
      "[0]\teval-merror:0.066667\ttrain-merror:0.041667\n",
      "[1]\teval-merror:0.066667\ttrain-merror:0.041667\n",
      "Accuracy : 0.9333\n"
     ]
    }
   ],
   "source": [
    "# 训练模型\n",
    "param = {'max_depth':2, 'eta':0.006, 'objective':'multi:softmax', 'num_class':3, 'subsample':0.5}\n",
    "num_round = 2\n",
    "bst = xgb.train(param, d_train, num_round, watch_list)\n",
    "\n",
    "# 验证结果\n",
    "predict_res = bst.predict(d_test)\n",
    "origin_label = d_test.get_label()\n",
    "Accuracy = sum((predict_res == origin_label)) / len(predict_res)\n",
    "print(\"Accuracy : %.4g\" % Accuracy)"
   ]
  },
  {
   "cell_type": "markdown",
   "metadata": {},
   "source": [
    "手动调节参数后, 总结如下:<br>\n",
    "    1) max_depth: 1时欠拟合, 大于2时过拟合<br>\n",
    "    2) eta: 大于0.006时欠拟合<br>\n",
    "    3) subsample: 小于0.5欠拟合, 大于0.5过拟合<br>\n",
    "    4) num_round: 大于2会产生过拟合<br>"
   ]
  },
  {
   "cell_type": "markdown",
   "metadata": {},
   "source": [
    "### 2. 使用XGBoost的sklearn接口，对KaggleCredit2数据完成信用卡欺诈项目的建模及分析（要求以不同参数设置xgboost运行并比对），最后给出实验总结\n",
    "\n",
    "- KaggleCredit2数据文件 位于/home/sxy-s3/0.Teacher/Exam/KaggleCredit2.csv.zip，请勿复制或移动该文件"
   ]
  },
  {
   "cell_type": "code",
   "execution_count": 161,
   "metadata": {},
   "outputs": [
    {
     "data": {
      "text/html": [
       "<div>\n",
       "<table border=\"1\" class=\"dataframe\">\n",
       "  <thead>\n",
       "    <tr style=\"text-align: right;\">\n",
       "      <th></th>\n",
       "      <th>SeriousDlqin2yrs</th>\n",
       "      <th>RevolvingUtilizationOfUnsecuredLines</th>\n",
       "      <th>age</th>\n",
       "      <th>NumberOfTime30-59DaysPastDueNotWorse</th>\n",
       "      <th>DebtRatio</th>\n",
       "      <th>MonthlyIncome</th>\n",
       "      <th>NumberOfOpenCreditLinesAndLoans</th>\n",
       "      <th>NumberOfTimes90DaysLate</th>\n",
       "      <th>NumberRealEstateLoansOrLines</th>\n",
       "      <th>NumberOfTime60-89DaysPastDueNotWorse</th>\n",
       "      <th>NumberOfDependents</th>\n",
       "    </tr>\n",
       "  </thead>\n",
       "  <tbody>\n",
       "    <tr>\n",
       "      <th>0</th>\n",
       "      <td>1</td>\n",
       "      <td>0.766127</td>\n",
       "      <td>45.0</td>\n",
       "      <td>2.0</td>\n",
       "      <td>0.802982</td>\n",
       "      <td>9120.0</td>\n",
       "      <td>13.0</td>\n",
       "      <td>0.0</td>\n",
       "      <td>6.0</td>\n",
       "      <td>0.0</td>\n",
       "      <td>2.0</td>\n",
       "    </tr>\n",
       "    <tr>\n",
       "      <th>1</th>\n",
       "      <td>0</td>\n",
       "      <td>0.957151</td>\n",
       "      <td>40.0</td>\n",
       "      <td>0.0</td>\n",
       "      <td>0.121876</td>\n",
       "      <td>2600.0</td>\n",
       "      <td>4.0</td>\n",
       "      <td>0.0</td>\n",
       "      <td>0.0</td>\n",
       "      <td>0.0</td>\n",
       "      <td>1.0</td>\n",
       "    </tr>\n",
       "    <tr>\n",
       "      <th>2</th>\n",
       "      <td>0</td>\n",
       "      <td>0.658180</td>\n",
       "      <td>38.0</td>\n",
       "      <td>1.0</td>\n",
       "      <td>0.085113</td>\n",
       "      <td>3042.0</td>\n",
       "      <td>2.0</td>\n",
       "      <td>1.0</td>\n",
       "      <td>0.0</td>\n",
       "      <td>0.0</td>\n",
       "      <td>0.0</td>\n",
       "    </tr>\n",
       "    <tr>\n",
       "      <th>3</th>\n",
       "      <td>0</td>\n",
       "      <td>0.233810</td>\n",
       "      <td>30.0</td>\n",
       "      <td>0.0</td>\n",
       "      <td>0.036050</td>\n",
       "      <td>3300.0</td>\n",
       "      <td>5.0</td>\n",
       "      <td>0.0</td>\n",
       "      <td>0.0</td>\n",
       "      <td>0.0</td>\n",
       "      <td>0.0</td>\n",
       "    </tr>\n",
       "    <tr>\n",
       "      <th>4</th>\n",
       "      <td>0</td>\n",
       "      <td>0.907239</td>\n",
       "      <td>49.0</td>\n",
       "      <td>1.0</td>\n",
       "      <td>0.024926</td>\n",
       "      <td>63588.0</td>\n",
       "      <td>7.0</td>\n",
       "      <td>0.0</td>\n",
       "      <td>1.0</td>\n",
       "      <td>0.0</td>\n",
       "      <td>0.0</td>\n",
       "    </tr>\n",
       "  </tbody>\n",
       "</table>\n",
       "</div>"
      ],
      "text/plain": [
       "   SeriousDlqin2yrs  RevolvingUtilizationOfUnsecuredLines   age  \\\n",
       "0                 1                              0.766127  45.0   \n",
       "1                 0                              0.957151  40.0   \n",
       "2                 0                              0.658180  38.0   \n",
       "3                 0                              0.233810  30.0   \n",
       "4                 0                              0.907239  49.0   \n",
       "\n",
       "   NumberOfTime30-59DaysPastDueNotWorse  DebtRatio  MonthlyIncome  \\\n",
       "0                                   2.0   0.802982         9120.0   \n",
       "1                                   0.0   0.121876         2600.0   \n",
       "2                                   1.0   0.085113         3042.0   \n",
       "3                                   0.0   0.036050         3300.0   \n",
       "4                                   1.0   0.024926        63588.0   \n",
       "\n",
       "   NumberOfOpenCreditLinesAndLoans  NumberOfTimes90DaysLate  \\\n",
       "0                             13.0                      0.0   \n",
       "1                              4.0                      0.0   \n",
       "2                              2.0                      1.0   \n",
       "3                              5.0                      0.0   \n",
       "4                              7.0                      0.0   \n",
       "\n",
       "   NumberRealEstateLoansOrLines  NumberOfTime60-89DaysPastDueNotWorse  \\\n",
       "0                           6.0                                   0.0   \n",
       "1                           0.0                                   0.0   \n",
       "2                           0.0                                   0.0   \n",
       "3                           0.0                                   0.0   \n",
       "4                           1.0                                   0.0   \n",
       "\n",
       "   NumberOfDependents  \n",
       "0                 2.0  \n",
       "1                 1.0  \n",
       "2                 0.0  \n",
       "3                 0.0  \n",
       "4                 0.0  "
      ]
     },
     "execution_count": 161,
     "metadata": {},
     "output_type": "execute_result"
    }
   ],
   "source": [
    "import pandas as pd\n",
    "import zipfile\n",
    "\n",
    "pd.set_option('display.max_columns', 500)\n",
    "\n",
    "# 加载数据\n",
    "# with zipfile.ZipFile('/home/sxy-s3/0.Teacher/Exam/KaggleCredit2.csv.zip', 'r') as z:\n",
    "with zipfile.ZipFile('KaggleCredit2.csv.zip', 'r') as z:    \n",
    "    f = z.open('KaggleCredit2.csv')\n",
    "    data = pd.read_csv(f, index_col=0)\n",
    "data.head()"
   ]
  },
  {
   "cell_type": "code",
   "execution_count": 162,
   "metadata": {
    "collapsed": true
   },
   "outputs": [],
   "source": [
    "# 数据预处理\n",
    "data.dropna(inplace=True)\n",
    "data.shapey = data['SeriousDlqin2yrs']\n",
    "X = data.drop('SeriousDlqin2yrs', axis=1)\n",
    "y = data['SeriousDlqin2yrs']\n",
    "X = data.drop('SeriousDlqin2yrs', axis=1)"
   ]
  },
  {
   "cell_type": "code",
   "execution_count": 163,
   "metadata": {
    "collapsed": true
   },
   "outputs": [],
   "source": [
    "# Added version check for recent scikit-learn 0.18 checks\n",
    "from distutils.version import LooseVersion as Version\n",
    "from sklearn import __version__ as sklearn_version\n",
    "from sklearn import metrics\n",
    "\n",
    "# 切割数据\n",
    "if Version(sklearn_version) < '0.18':\n",
    "    from sklearn.cross_validation import train_test_split\n",
    "else:\n",
    "    from sklearn.model_selection import train_test_split\n",
    "    \n",
    "X_train, X_test, y_train, y_test = train_test_split(X, y, test_size=0.3, random_state=0) "
   ]
  },
  {
   "cell_type": "code",
   "execution_count": 61,
   "metadata": {},
   "outputs": [
    {
     "name": "stdout",
     "output_type": "stream",
     "text": [
      "Accuracy : 0.935\n"
     ]
    }
   ],
   "source": [
    "model = xgb.XGBClassifier(max_depth=3, learning_rate=0.01, \\\n",
    "                          n_estimators=10, objective='binary:logistic')\n",
    "model.fit(X_train, y_train,eval_set=[(X_train, y_train), (X_test, y_test)],eval_metric='auc',verbose=False)\n",
    "# 获取验证集合结果\n",
    "evals_result = model.evals_result()\n",
    "y_true, y_pred = y_test, model.predict(X_test)\n",
    "print(\"Accuracy : %.4g\" % metrics.accuracy_score(y_true, y_pred))"
   ]
  },
  {
   "cell_type": "code",
   "execution_count": 218,
   "metadata": {},
   "outputs": [
    {
     "name": "stdout",
     "output_type": "stream",
     "text": [
      "Accuracy : 0.9373\n"
     ]
    }
   ],
   "source": [
    "model = xgb.XGBClassifier(max_depth=5, learning_rate=0.4, \\\n",
    "                          n_estimators=6, objective='binary:logistic', subsample=0.8)\n",
    "model.fit(X_train, y_train,eval_set=[(X_train, y_train), (X_test, y_test)],eval_metric='auc',verbose=False)\n",
    "# 获取验证集合结果\n",
    "evals_result = model.evals_result()\n",
    "y_true, y_pred = y_test, model.predict(X_test)\n",
    "print(\"Accuracy : %.4g\" % metrics.accuracy_score(y_true, y_pred))"
   ]
  },
  {
   "cell_type": "code",
   "execution_count": 243,
   "metadata": {},
   "outputs": [
    {
     "name": "stdout",
     "output_type": "stream",
     "text": [
      "Accuracy : 0.9362\n"
     ]
    }
   ],
   "source": [
    "model = xgb.XGBClassifier(max_depth=5, learning_rate=0.4, \\\n",
    "                          n_estimators=6, objective='binary:logistic', subsample=0.88)\n",
    "model.fit(X_train, y_train,eval_set=[(X_train, y_train), (X_test, y_test)],eval_metric='auc',verbose=False)\n",
    "# 获取验证集合结果\n",
    "evals_result = model.evals_result()\n",
    "y_true, y_pred = y_test, model.predict(X_test)\n",
    "print(\"Accuracy : %.4g\" % metrics.accuracy_score(y_true, y_pred))"
   ]
  },
  {
   "cell_type": "markdown",
   "metadata": {},
   "source": [
    "由于lebel分布极不均匀, 手动调节参数, 观测到准确率只有极小变化.总结如下:<br>\n",
    "    1) max_depth: 大于5有过拟合趋势<br>\n",
    "    2) eta: 大于0.04时有过拟合趋势<br>\n",
    "    3) subsample: 小于0.8欠拟合, 大于0.8过拟合<br>\n",
    "    4) num_round: 大于7有过拟合趋势<br>"
   ]
  },
  {
   "cell_type": "markdown",
   "metadata": {},
   "source": [
    "### 本阶段课程意见反馈题(非必答，不送分)\n",
    "#### 请同学围绕以下两点进行回答：\n",
    "- 自身总结：请您对您自己在本周课程的学习，收获，技能掌握等方面进行一次总结 ，也包括有哪些方面存在哪些不足，欠缺，困惑。作为将来回顾学习路径时的依据。\n"
   ]
  },
  {
   "cell_type": "markdown",
   "metadata": {},
   "source": [
    "不足之处: 模型原理没有腾出时间去细看, 老师的案例没有仔细看, 具体实现. 基本上只是对整体上有个模糊的印象, 需要自己花很多时间去复习巩固实践."
   ]
  },
  {
   "cell_type": "code",
   "execution_count": null,
   "metadata": {
    "collapsed": true
   },
   "outputs": [],
   "source": []
  },
  {
   "cell_type": "markdown",
   "metadata": {},
   "source": [
    "- 课程反馈：请就知识点，进度，难易度，教学方式，考试方式及难易度等方面向我们反馈，督促我们进行更有效的改进。"
   ]
  },
  {
   "cell_type": "code",
   "execution_count": null,
   "metadata": {
    "collapsed": true
   },
   "outputs": [],
   "source": []
  },
  {
   "cell_type": "markdown",
   "metadata": {},
   "source": [
    "<hr>\n",
    "<center><h1>####答卷结束####</h1></center>"
   ]
  }
 ],
 "metadata": {
  "kernelspec": {
   "display_name": "Python 3",
   "language": "python",
   "name": "python3"
  },
  "language_info": {
   "codemirror_mode": {
    "name": "ipython",
    "version": 3
   },
   "file_extension": ".py",
   "mimetype": "text/x-python",
   "name": "python",
   "nbconvert_exporter": "python",
   "pygments_lexer": "ipython3",
   "version": "3.5.2"
  }
 },
 "nbformat": 4,
 "nbformat_minor": 2
}
