{
 "cells": [
  {
   "cell_type": "markdown",
   "metadata": {},
   "source": [
    "#### 本次成绩:100   \n",
    "\n",
    "### 评卷标准:\n",
    "- 分析，理顺，项目要求并落实在文档中   √\n",
    "- 比较不同结果 ，思考，改进，总结。   √\n",
    "- 成绩提交并截图成绩   √\n",
    "- 最终结论，报告。    √\n",
    "\n",
    "整个文档结构很好，尤其是最后的总结，写得很细致。   \n",
    "但没找到提交成绩的截图~记得补上。\n",
    "\n",
    "#### 评卷：David"
   ]
  },
  {
   "cell_type": "markdown",
   "metadata": {},
   "source": [
    "### 项目要求：\n",
    "\n",
    "- kaggle房价预测比赛：https://www.kaggle.com/c/house-prices-advanced-regression-techniques\n",
    "\n",
    "\n",
    "- 1.新建毕业notebook项目文档，命名为姓名全拼-final，并放至于http://sxy.julyedu.com:8001/tree/0.Teacher/Exam/Final/学员姓名全拼目录中/，\n",
    "- 2.注册kaggle，并阅读项目详情\n",
    "- 2.分析，理顺，项目要求并落实在文档中。20分\n",
    "- 4.进行载入数据，清洗，建模，训练，预测等流程，并对相应步骤（及思想）进行说明并落实在文档中 50分\n",
    "- 4.在kaggle完成至少两次或以上提交。记录成绩，分析成绩差异的原因。并落实在文档中。20\n",
    "- 5.项目总结。对该项目做最后总结，可以是心得，也可以是教训。 并落实在文档中。10分\n",
    "- 6.如在项目文档中参考引用了其它kernel。额外10分（但总分不超过100分）\n",
    "\n",
    "- 完成时间：2018年4月15号前。"
   ]
  },
  {
   "cell_type": "markdown",
   "metadata": {},
   "source": [
    "# 一、项目要求"
   ]
  },
  {
   "cell_type": "markdown",
   "metadata": {},
   "source": [
    "### House Prices: Advanced Regression Techniques\n",
    "#### Competition Description\n",
    "   Ask a home buyer to describe their dream house, and they probably won't begin with the height of the basement ceiling or the proximity to an east-west railroad. But this playground competition's dataset proves that much more influences price negotiations than the number of bedrooms or a white-picket fence.\n",
    "   \n",
    "   请一位购房者描述他们梦想中的房子, 他们可能不会从地下室天花板的高度或东西方铁路的接近度开始。但是这次比赛的数据集证明, 比起卧室或白色栅栏, 有更多的因素影响房子的价格。\n",
    "   \n",
    "   With 79 explanatory variables describing (almost) every aspect of residential homes in Ames, Iowa, this competition challenges you to predict the final price of each home.\n",
    "   \n",
    "   有79个解释性变量（特征）几乎描述了爱荷华州艾姆斯的住宅的每一个方面, 这次比赛的挑战是 你需要预测 每所房子的最终价格。\n",
    "   \n",
    "#### Goal\n",
    "\n",
    "It is your job to predict the sales price for each house. For each Id in the test set, you must predict the value of the SalePrice variable. \n",
    "你的任务是预测每一所房子的销售价格。对测试集上每一个房子（每一个Id），你必须预测销售价格变量的值。\n",
    "\n",
    "#### Metric\n",
    "\n",
    "Submissions are evaluated on Root-Mean-Squared-Error (RMSE) between the logarithm of the predicted value and the logarithm of the observed sales price. (Taking logs means that errors in predicting expensive houses and cheap houses will affect the result equally.)\n",
    "\n",
    "评价提交内容的方式将使用 RMSE，预测结果值和真实结果价格的log值，取log意思是将会把贵的和便宜的房子数据弄得更平滑一些。\n",
    "\n",
    "#### Submission File Format\n",
    "\n",
    "The file should contain a header and have the following format:\n",
    "\n",
    "提交格式是这样的，如下：\n",
    "\n",
    "Id,SalePrice\n",
    "1461,169000.1\n",
    "1462,187724.1233\n",
    "1463,175221\n",
    "etc."
   ]
  },
  {
   "cell_type": "markdown",
   "metadata": {},
   "source": [
    "## 一、 baseline版本参考机器学习第八期决策树案例，见baseline的notebook"
   ]
  },
  {
   "cell_type": "markdown",
   "metadata": {},
   "source": [
    "- 预测结果平滑化处理\n",
    "- 去null、onehot、填充缺失值\n",
    "- Ridge Regression和RandomForest投票预测\n",
    "- 调参前排名1337，调参后排名在1325左右"
   ]
  },
  {
   "cell_type": "markdown",
   "metadata": {},
   "source": [
    "## 二、数据分析及可视化部分，见数据分析5个notebook"
   ]
  },
  {
   "cell_type": "markdown",
   "metadata": {
    "collapsed": true
   },
   "source": [
    "## 三、特征工程和数据清洗、建模、预测部分"
   ]
  },
  {
   "cell_type": "markdown",
   "metadata": {},
   "source": [
    "### 1.准备数据"
   ]
  },
  {
   "cell_type": "code",
   "execution_count": 294,
   "metadata": {
    "collapsed": true
   },
   "outputs": [],
   "source": [
    "import pandas as pd\n",
    "import numpy as np\n",
    "import matplotlib.pyplot as plt\n",
    "import seaborn as sns\n",
    "\n",
    "%matplotlib inline\n",
    "\n",
    "from sklearn.ensemble import RandomForestRegressor\n",
    "from sklearn.linear_model import Ridge\n",
    "from sklearn.model_selection import cross_val_score\n",
    "\n",
    "\n",
    "\n",
    "def load_data(data_file_path):\n",
    "    print('-----------------------load data...')\n",
    "    train_df = pd.read_csv(data_file_path + '/train.csv', index_col=0)\n",
    "    print('train_shape: ',train_df.shape)\n",
    "    test_df = pd.read_csv(data_file_path + '/test.csv', index_col=0)\n",
    "    print('test_shape: ', test_df.shape)\n",
    "    print('-----------------------load data success!')\n",
    "    return train_df, test_df\n",
    "\n",
    "def prepare_preprocessing_data(train_df, test_df):\n",
    "    print('-----------------------prepare data for preprocessing...')\n",
    "    all_df = pd.concat((train_df, test_df), axis=0)\n",
    "    print('all_df: ',all_df.shape)\n",
    "    all_df = all_df.drop(['SalePrice'], axis=1)\n",
    "    print('all_df(Dropped SalePrice): ',all_df.shape)\n",
    "    y_train = np.log1p(train_df.SalePrice)\n",
    "    print('y_train: ',y_train.shape)\n",
    "    print('------dtypes.value_counts------')\n",
    "    print(all_df.dtypes.value_counts())\n",
    "    print('-----------------------preprocessing data success!')\n",
    "    \n",
    "    return all_df, y_train\n"
   ]
  },
  {
   "cell_type": "markdown",
   "metadata": {},
   "source": [
    "### 预处理1：缺失值填充\n",
    "- 去掉缺失数据太多的列，因为引入可能会有噪声，而且这个案例特征足够，数据不够\n",
    "- 填充数值型型na：使用中位数填充\n",
    "- 填充类别型na：用该类别最多的类型填充"
   ]
  },
  {
   "cell_type": "code",
   "execution_count": 190,
   "metadata": {
    "collapsed": true
   },
   "outputs": [],
   "source": [
    "#去掉缺失数据太多的列\n",
    "def drop_columns(df, dropped_list):\n",
    "    df = df.drop(dropped_list, axis=1)\n",
    "    print(df.shape)\n",
    "    return df\n",
    "\n",
    "#填充数值型型na：使用中位数填充\n",
    "def fill_df_num_na(df):\n",
    "    median_cols = df.median()\n",
    "    all_df.isnull().sum().sort_values(ascending=False).head(10)\n",
    "    df = df.fillna(median_cols)\n",
    "    return df\n",
    "\n",
    "#填充类别型na：用该类别最多的类型填充\n",
    "def fill_df_category_na(df):\n",
    "    df.loc[df['BsmtCond'].isnull(),'BsmtCond'] ='TA'\n",
    "    df.loc[df['BsmtExposure'].isnull(),'BsmtExposure'] ='No'\n",
    "    df.loc[df['BsmtFinType2'].isnull(),'BsmtFinType2'] ='Unf'\n",
    "    df.loc[df['BsmtFinType1'].isnull(),'BsmtFinType1'] ='Unf'\n",
    "    df.loc[df['BsmtQual'].isnull(),'BsmtQual'] ='TA'\n",
    "    \n",
    "    df.loc[df['MSZoning'].isnull(),'MSZoning'] ='RL'\n",
    "    df.loc[df['MasVnrType'].isnull(),'MasVnrType'] ='None'\n",
    "    df.loc[df['Exterior1st'].isnull(),'Exterior1st'] ='VinylSd'\n",
    "    df.loc[df['Exterior2nd'].isnull(),'Exterior2nd'] ='VinylSd'\n",
    "    \n",
    "    df.loc[df['GarageType'].isnull(),'GarageType'] ='Attchd'\n",
    "    df.loc[df['GarageCond'].isnull(),'GarageCond'] ='TA'\n",
    "    df.loc[df['GarageFinish'].isnull(),'GarageFinish'] ='Unf'\n",
    "    df.loc[df['GarageQual'].isnull(),'GarageQual'] ='TA'\n",
    "    df.loc[df['KitchenQual'].isnull(),'KitchenQual'] ='TA'\n",
    "    df.loc[df['Functional'].isnull(),'Functional'] ='Typ'\n",
    "\n",
    "    df.loc[df['Utilities'].isnull(),'Utilities'] ='AllPub'\n",
    "    df.loc[df['Electrical'].isnull(),'Electrical'] ='SBrkr'\n",
    "    df.loc[df['SaleType'].isnull(),'SaleType'] ='WD'\n",
    "    \n",
    "    return df"
   ]
  },
  {
   "cell_type": "markdown",
   "metadata": {},
   "source": [
    "### 预处理2 类别型one-hot\n",
    "- 数值型类别变量，转为object，做one-hot"
   ]
  },
  {
   "cell_type": "code",
   "execution_count": 102,
   "metadata": {
    "collapsed": true
   },
   "outputs": [],
   "source": [
    "def one_hot_processing(df):\n",
    "    ###数值型，类别变量，转为object，做one-hot\n",
    "    type_columns = ['BsmtFullBath', 'BsmtHalfBath', 'FullBath', 'HalfBath',\n",
    "                    'BedroomAbvGr', 'KitchenAbvGr', 'KitchenQual', 'TotRmsAbvGrd','Functional',\n",
    "                    'Fireplaces', 'PoolArea', 'PavedDrive',\n",
    "                    'MSSubClass', 'OverallQual', 'OverallCond',\n",
    "                    'GarageCars','MoSold', 'YrSold']\n",
    "\n",
    "    ### 转成obj，做one-hot\n",
    "    for column in type_columns:\n",
    "        df.loc[:,column] = np.array(df[column], dtype=object)\n",
    "    df = pd.get_dummies(df)\n",
    "    print('all_df(after one-hot): ',df.shape)\n",
    "    return df\n"
   ]
  },
  {
   "cell_type": "markdown",
   "metadata": {},
   "source": [
    "### 预处理3-1 连续性数值，根据数字分桶(0和非0)\n",
    "- 因为在数据分析和可视化时，发现这些特征0和非0数量差不多，比如有些房子只有一层，所以二层面积为0"
   ]
  },
  {
   "cell_type": "code",
   "execution_count": 313,
   "metadata": {
    "collapsed": true
   },
   "outputs": [],
   "source": [
    "# MasVnrArea ==0 !=0\n",
    "# BsmtFinSF1：==0 !=0\n",
    "# BsmtFinSF2：==0 !=0\n",
    "# 2ndFlrSF ==0 !=0\n",
    "# LowQualFinSF ==0 !=0\n",
    "\n",
    "# WoodDeckSF ==0 !=0\n",
    "# OpenPorchSF ==0 !=0\n",
    "# EnclosedPorch ==0 !=0\n",
    "# OpenPorchSF ==0 !=0\n",
    "# ScreenPorch ==0 !=0\n",
    "def get_zero_or_not_columns():\n",
    "       return ['MasVnrArea', 'BsmtFinSF1', 'BsmtFinSF2', '2ndFlrSF', 'LowQualFinSF', \n",
    "               'WoodDeckSF', 'OpenPorchSF', 'EnclosedPorch', 'OpenPorchSF', 'ScreenPorch']\n",
    "def zero_or_not_type(df, columns):\n",
    "    \n",
    "    for column_name in columns: \n",
    "#         print(column_name)\n",
    "        condition_0 = (df[column_name] == 0)\n",
    "        condition_1 = (df[column_name] != 0)\n",
    "        \n",
    "        column_name_0 = column_name + '_0'\n",
    "        column_name_1 = column_name + '_1'\n",
    "        \n",
    "        df.loc[condition_0, column_name_0] = 0\n",
    "        df.loc[condition_1, column_name_1] = 1\n",
    "  \n",
    "        df.loc[:, column_name_0] = np.array(df[column_name_0], dtype=object)\n",
    "        df.loc[:, column_name_1] = np.array(df[column_name_1], dtype=object)\n",
    "    return df\n"
   ]
  },
  {
   "cell_type": "markdown",
   "metadata": {},
   "source": [
    "### 预处理3-2 连续性数值，根据数字分桶\n",
    "- 按照数据分布及变化规律进行分桶，区间划分来自可视化分析\n",
    "- 数字太大，量太小的数据，清洗为最大分桶值"
   ]
  },
  {
   "cell_type": "code",
   "execution_count": 494,
   "metadata": {
    "collapsed": true
   },
   "outputs": [],
   "source": [
    "# LotFrontage: (0,50) (50,100) (100,150) >150都填充150 以下都是\n",
    "# 'BsmtUnfSF': (0,1500) >1500\n",
    "# 'TotalBsmtSF': (0,500) (500,2000) (2000,3300) >3300   \n",
    "# '1stFlrSF', <400 (400,700) (700,2200) (2200,2500) (2500,3300) >3300\n",
    "# 'GrLivArea' <500 (500,2700) (2700,3700) (3700,4700) >4700\n",
    "\n",
    "# GarageArea（车库面积） 0, (0,200) (200,800) (800,1200), >1200\n",
    "# GarageYrBlt(车库年代) <1940 1940,2000 >2000\n",
    "# LotArea: 0,25000 >=25000\n",
    "\n",
    "\n",
    "#分桶tuple list\n",
    "def tuple_list_of_column():\n",
    "    tuple_list_lotFrontage = [(0,50), (50,100), (100,150), (150,)] \n",
    "    tuple_list_BsmtUnfSF = [(0,1500), (1500,)]  \n",
    "    tuple_list_TotalBsmtSF = [(0,500), (500,2000), (2000,3300), (3300,)]  \n",
    "    tuple_list_1stFlrSF = [(0,400), (400,700), (700,2200),(2200,2500), (2500,3300), (3300,)]  \n",
    "\n",
    "    tuple_list_GrLivArea = [(0,500), (500,2700), (2700,3700), (3700,4700), (4700,)]  \n",
    "    tuple_list_GarageArea = [(0,1), (1,200), (200,800), (800,1200), (1200,)]  \n",
    "    tuple_list_GarageYrBlt = [(0,1940), (1940,2000), (2000,)]  \n",
    "    tuple_list_LotArea = [(0,25000), (25000,)]  \n",
    "    \n",
    "    column_list = ['LotFrontage','BsmtUnfSF', 'TotalBsmtSF', '1stFlrSF',  \n",
    "                   'GrLivArea', 'GarageArea', 'GarageYrBlt', 'LotArea']\n",
    "    tuple_list = [tuple_list_lotFrontage, tuple_list_BsmtUnfSF, tuple_list_TotalBsmtSF, tuple_list_1stFlrSF,\n",
    "                  tuple_list_GrLivArea, tuple_list_GarageArea, tuple_list_GarageYrBlt, tuple_list_LotArea]\n",
    "    \n",
    "    return column_list, tuple_list\n",
    "\n",
    "#数字太大，量太小的数据，清洗为最大分桶值\n",
    "def drop_noisy_data(df):\n",
    "    df.loc[df['LotFrontage'] >= 150,'LotFrontage'] = 150\n",
    "    df.loc[df['BsmtUnfSF'] >= 1500,'BsmtUnfSF'] = 1500\n",
    "    df.loc[df['1stFlrSF'] >= 3300,'1stFlrSF'] = 3300\n",
    "    df.loc[df['GrLivArea'] >= 4700,'GrLivArea'] = 4700\n",
    "    df.loc[df['GarageArea'] >= 1200,'GarageArea'] = 1200\n",
    "    df.loc[df['GarageYrBlt'] >= 2000,'GarageYrBlt'] = 2000\n",
    "    df.loc[df['LotArea'] >= 25000,'LotArea'] = 25000\n",
    "    \n",
    "    return df\n",
    "\n",
    "\n",
    "#通用处理方法，传入列名和分桶的数值特征名称tuple_list，tuple为分桶区间，对下界做了边界处理，上界未做\n",
    "def new_column_of_bins(df, column_name, tuple_list):\n",
    "    new_column_name = column_name + '_type'\n",
    "    for index in range(len(tuple_list)):\n",
    "        the_tuple = tuple_list[index]\n",
    "        #只有下界\n",
    "        condition = (df[column_name] >= the_tuple[0])\n",
    "        #上下界都有\n",
    "        if len(the_tuple) != 1:\n",
    "            condition = (df[column_name] >= the_tuple[0]) & (df[column_name] < the_tuple[1])\n",
    "        df.loc[condition, new_column_name] = index\n",
    "  \n",
    "    df.loc[:, new_column_name] = np.array(df[new_column_name], dtype=object)\n",
    "\n",
    "    return df  "
   ]
  },
  {
   "cell_type": "markdown",
   "metadata": {},
   "source": [
    "### 预处理4 特殊列处理\n",
    "- 比如OverallCond，5很多，非5的数据也很多，所以按这个进行分桶\n",
    "- YearBuilt分布比较均匀，按等频切分\n",
    "- Fence：null和非null都很多，所以将null视为单独一类"
   ]
  },
  {
   "cell_type": "code",
   "execution_count": 205,
   "metadata": {
    "collapsed": true
   },
   "outputs": [],
   "source": [
    "# OverallCond：OverallCond-5 或者 OverallCond-other\n",
    "#'YearBuilt', 'YearRemodAdd'：等距切分\n",
    "#fence: null和非null\n",
    "\n",
    "#特殊列\n",
    "def process_speical_columns(df):\n",
    "    df.loc[(df['OverallCond'] == 5), 'OverallCond_5'] = 0\n",
    "    df.loc[(df['OverallCond'] != 5), 'OverallCond_not_5'] = 1\n",
    "  \n",
    "    df.loc[: , 'OverallCond_5'] = np.array(df['OverallCond_5'], dtype=object)\n",
    "    df.loc[: , 'OverallCond_not_5'] = np.array(df['OverallCond_not_5'], dtype=object)\n",
    "\n",
    "    df.loc[:,'YearBuilt_qcut'] = pd.qcut(df['YearBuilt'],5)\n",
    "    df.loc[:,'YearRemodAdd_qcut'] = pd.qcut(df['YearRemodAdd'],5)\n",
    "    \n",
    "    df.loc[df['Fence'].isnull(),'Fence'] = 'other'\n",
    "#     df.loc[df['MSZoning'].isnull(),'MSZoning'] ='RL'\n",
    "    \n",
    "    return df"
   ]
  },
  {
   "cell_type": "markdown",
   "metadata": {},
   "source": [
    "### 预处理入口方法\n",
    "- 预处理函数由此函数统一调用，串起来预处理流程\n",
    "- get_important_features后来加的，用来选择特征，通过特征选择，最后使用0.3518的特征，约156个效果最好\n",
    "- 对测试集和训练集进行合并，统一做预处理，完成后，数据还原为测试集和训练集（参照加号老师提供的示例）"
   ]
  },
  {
   "cell_type": "code",
   "execution_count": 458,
   "metadata": {
    "collapsed": true
   },
   "outputs": [],
   "source": [
    "\n",
    "def preprocessing_data(all_df):\n",
    "    print('-----------------------start preprocessing data...')\n",
    "    #特殊列处理\n",
    "    all_df = process_speical_columns(all_df)\n",
    "#     all_df = drop_columns(all_df, ['YearBuilt_qcut', 'YearRemodAdd_qcut'])\n",
    "    \n",
    "    #drop掉太多nan的特征\n",
    "    null_dropped_list = ['Alley', 'PoolQC', 'MiscFeature','FireplaceQu']\n",
    "    all_df = drop_columns(all_df, null_dropped_list)\n",
    "    \n",
    "    #fill num na\n",
    "    all_df = fill_df_num_na(all_df)\n",
    "    #fill category na\n",
    "    all_df = fill_df_category_na(all_df)\n",
    "    #drop noise\n",
    "    all_df = drop_noisy_data(all_df)\n",
    "    \n",
    "    #分桶，onehot\n",
    "    bin_column_list, num_tuple_list = tuple_list_of_column()\n",
    "    for index in range(len(bin_column_list)):\n",
    "        all_df = new_column_of_bins(df=all_df, column_name=bin_column_list[index], tuple_list=num_tuple_list[index])   \n",
    "    \n",
    "    #0或非0处理\n",
    "    zero_columns_list = get_zero_or_not_columns()\n",
    "    all_df = zero_or_not_type(all_df, zero_columns_list)\n",
    "#     #暂时去掉\n",
    "#     all_df = drop_columns(all_df, zero_columns_list)\n",
    "\n",
    "    #one hot\n",
    "    all_df = one_hot_processing(all_df)\n",
    "\n",
    "    print('-----------------------preprocessing data...ok!')\n",
    "    return all_df\n",
    "\n",
    "def get_important_features(X_train, y_train, train_data):\n",
    "    print('-----------------------get_important_features...')\n",
    "    rf = RandomForestRegressor(n_estimators=200, max_features=.3518)\n",
    "    rf.fit(X_train, y_train)\n",
    "    \n",
    "    feat_labels = train_data.columns\n",
    "    importances = rf.feature_importances_\n",
    "    indices = np.argsort(importances)[::-1]\n",
    "\n",
    "    most_important_features = []\n",
    "    for f in range(X_train.shape[1]):\n",
    "        if f <= 154:\n",
    "            most_important_features.append(feat_labels[indices[f]])\n",
    "        else:\n",
    "            break\n",
    "    \n",
    "    print('-----------------------get_important_features...ok')\n",
    "    return most_important_features\n",
    "    \n",
    "#数据还原为测试集和训练集\n",
    "def get_train_test_data(train_df_index, test_df_index, df, y_train):\n",
    "    print('-----------------------split train_test_data...')\n",
    "    \n",
    "#     #only for feature selection\n",
    "#     train_data = df.loc[train_df_index]\n",
    "#     X_train = train_data.values\n",
    "#     most_important_features = get_important_features(X_train, y_train, train_data)\n",
    "#     df = df.loc[:, most_important_features]\n",
    "    train_data = df.loc[train_df_index]\n",
    "    for index in range(3):\n",
    "        train_data = pd.concat([train_data, train_data])\n",
    "        y_train = pd.concat([y_train, y_train])\n",
    "    \n",
    "    test_data = df.loc[test_df_index]\n",
    "    print('train_data, test_data, y_train',train_data.shape, test_data.shape, y_train.shape)\n",
    "    \n",
    "    X_train = train_data.values\n",
    "    X_test = test_data.values\n",
    "    print('X_train, X_test',X_train.shape, X_test.shape)\n",
    "    \n",
    "    print('-----------------------split train_test_data...ok!')\n",
    "    return train_data, test_data, X_train, X_test, y_train"
   ]
  },
  {
   "cell_type": "markdown",
   "metadata": {},
   "source": [
    "## 四、建模及预测"
   ]
  },
  {
   "cell_type": "markdown",
   "metadata": {},
   "source": [
    "### 1.随机森林\n",
    "- 多组max_features逐步缩小范围，寻找最优参数\n",
    "- 进行可视化处理，更直观看到变化情况"
   ]
  },
  {
   "cell_type": "code",
   "execution_count": 372,
   "metadata": {
    "collapsed": true
   },
   "outputs": [],
   "source": [
    "\n",
    "def find_best_score_RandomForest(X_train, y_train):\n",
    "    \n",
    "    max_features = [.10, .30, .50, .70, .99]\n",
    "#     max_features = [.30, .35, .40, .45, .60, .65, .70, .75, .80]\n",
    "#     max_features = [.34, .35, .36, .37, .38, .39, .4]\n",
    "#     max_features = [.350, .351, .352, .353, .354, .355]\n",
    "    test_scores = []\n",
    "    for max_feat in max_features:\n",
    "        clf = RandomForestRegressor(n_estimators=200, max_features=max_feat)\n",
    "        test_score = np.sqrt(-cross_val_score(clf, X_train, y_train, cv=5, scoring='neg_mean_squared_error'))\n",
    "        print('max_feat, test_score: ', max_feat, test_score)\n",
    "        test_scores.append(np.mean(test_score))\n",
    "\n",
    "    plt.plot(max_features, test_scores)\n",
    "    plt.title(\"Max Features vs CV Error\");\n",
    "    \n",
    "    \n",
    "def train_RandomForestRegressor(X_train, y_train, max_features):\n",
    "    print('-----------------------train_RandomForestRegressor...')\n",
    "    rf = RandomForestRegressor(n_estimators=200, max_features=max_features)\n",
    "    rf.fit(X_train, y_train)\n",
    "\n",
    "    print('-----------------------train_RandomForestRegressor...ok')\n",
    "    return rf"
   ]
  },
  {
   "cell_type": "markdown",
   "metadata": {},
   "source": [
    "### 2.xgboost\n",
    "- 在house_train_xgb这个notebook进行网格搜索对xgboost进行最优参数选择\n",
    "- house_training这个notebook对随机森林、ridge等模型进行参数选择"
   ]
  },
  {
   "cell_type": "code",
   "execution_count": 297,
   "metadata": {
    "collapsed": true
   },
   "outputs": [],
   "source": [
    "from sklearn.model_selection import train_test_split\n",
    "import xgboost as xgb\n",
    "\n",
    "def train_xgb(X, y):\n",
    "    print('-----------------------train_xgboost...')\n",
    "    \n",
    "    X_train, X_test, y_train, y_test = train_test_split(X, y, test_size=0.3, random_state=0)\n",
    "    print(X_train.shape, X_test.shape, y_train.shape, y_test.shape)\n",
    "\n",
    "    dtrain = xgb.DMatrix(data=X_train , label=y_train)\n",
    "    dtest = xgb.DMatrix(data=X_test , label=y_test)\n",
    "\n",
    "    #参数设定\n",
    "    ntrees = 50\n",
    "    # 0.8989641494484468\n",
    "    # {'max_depth': 7, 'learning_rate': 0.1, 'subsample': 0.9, 'min_child_weight': 3, 'colsample_bytree': 0.9}\n",
    "    params = {\"objective\": \"reg:linear\",\n",
    "              \"booster\": \"gbtree\",\n",
    "              \"eta\": 0.1,\n",
    "              \"max_depth\": 5,\n",
    "              \"min_child_weight\": 5,\n",
    "              \"silent\": 1,\n",
    "              'lambda': 5,\n",
    "              \"subsample\": 0.5,\n",
    "              \"colsample_bytree\": 0.5,\n",
    "\n",
    "              }\n",
    "\n",
    "\n",
    "    # 设定验证集用于查看模型状态。。。类似于看门狗\n",
    "    watch_list = [(dtest, 'eval'), (dtrain, 'train')]\n",
    "    num_round = 5\n",
    "    xgb_model = xgb.train(params, dtrain, ntrees, evals=watch_list, early_stopping_rounds=100, verbose_eval=True)\n",
    "   \n",
    "    print('-----------------------train_xgboost...ok')\n",
    "    \n",
    "    return xgb_model\n",
    "    "
   ]
  },
  {
   "cell_type": "markdown",
   "metadata": {},
   "source": [
    "### 3.Ridge"
   ]
  },
  {
   "cell_type": "code",
   "execution_count": 374,
   "metadata": {
    "collapsed": true
   },
   "outputs": [],
   "source": [
    "from sklearn.linear_model import Ridge\n",
    "\n",
    "def train_ridge_model(X_train, y_train, alpha):\n",
    "    print('-----------------------train_ridge_model...')\n",
    "    ridge_model = Ridge(alpha)\n",
    "    ridge_model.fit(X_train, y_train)\n",
    "    print('-----------------------train_ridge_model...ok')\n",
    "    return ridge_model\n",
    "    "
   ]
  },
  {
   "cell_type": "markdown",
   "metadata": {},
   "source": [
    "### 保存临时数据，云平台比本机性能更好，可以开多个kernel进行调参😂。。。"
   ]
  },
  {
   "cell_type": "code",
   "execution_count": 481,
   "metadata": {},
   "outputs": [
    {
     "data": {
      "text/plain": [
       "((11680, 439), (1459, 439), (11680, 2))"
      ]
     },
     "execution_count": 481,
     "metadata": {},
     "output_type": "execute_result"
    }
   ],
   "source": [
    "train_data.to_csv('./temp/train_data.csv', index=False)\n",
    "test_data.to_csv('./temp/test_data.csv', index=True)\n",
    "y_df = pd.DataFrame(data= {'Id' : y_train.index, 'SalePrice': y_train.values})\n",
    "y_df.to_csv('./temp/y_train.csv', index=False)\n",
    "train_data.shape, test_data.shape, y_df.shape"
   ]
  },
  {
   "cell_type": "markdown",
   "metadata": {},
   "source": [
    "# 五 完整过程入口：\n",
    "- 载入数据\n",
    "- 预处理\n",
    "- 训练模型\n",
    "- 结果预测\n",
    "- 成绩提交"
   ]
  },
  {
   "cell_type": "code",
   "execution_count": 493,
   "metadata": {
    "collapsed": true
   },
   "outputs": [],
   "source": [
    "# test_data."
   ]
  },
  {
   "cell_type": "code",
   "execution_count": 459,
   "metadata": {},
   "outputs": [
    {
     "name": "stdout",
     "output_type": "stream",
     "text": [
      "============>load data\n",
      "-----------------------load data...\n",
      "train_shape:  (1460, 80)\n",
      "test_shape:  (1459, 79)\n",
      "-----------------------load data success!\n",
      "============>prepare data\n",
      "-----------------------prepare data for preprocessing...\n",
      "all_df:  (2919, 80)\n",
      "all_df(Dropped SalePrice):  (2919, 79)\n",
      "y_train:  (1460,)\n",
      "------dtypes.value_counts------\n",
      "object     43\n",
      "int64      25\n",
      "float64    11\n",
      "dtype: int64\n",
      "-----------------------preprocessing data success!\n",
      "============>preprocessing data\n",
      "-----------------------start preprocessing data...\n",
      "(2919, 79)\n",
      "all_df(after one-hot):  (2919, 439)\n",
      "-----------------------preprocessing data...ok!\n",
      "-----------------------split train_test_data...\n",
      "train_data, test_data, y_train (11680, 439) (1459, 439) (11680,)\n",
      "X_train, X_test (11680, 439) (1459, 439)\n",
      "-----------------------split train_test_data...ok!\n",
      "-----------------------train_RandomForestRegressor...\n",
      "-----------------------train_RandomForestRegressor...ok\n",
      "-----------------------train_RandomForestRegressor...\n",
      "-----------------------train_RandomForestRegressor...ok\n",
      "-----------------------train_ridge_model...\n",
      "-----------------------train_ridge_model...ok\n"
     ]
    }
   ],
   "source": [
    "print('============>load data')\n",
    "train_df, test_df = load_data('./input')\n",
    "\n",
    "print('============>prepare data')\n",
    "all_df, y_train = prepare_preprocessing_data(train_df, test_df)\n",
    "\n",
    "print('============>preprocessing data')\n",
    "all_df = preprocessing_data(all_df)\n",
    "\n",
    "train_data, test_data, X_train, X_test, y_train = get_train_test_data(train_df.index, test_df.index, all_df, y_train)\n",
    "\n",
    "rf1 = train_RandomForestRegressor(X_train, y_train, 0.3518)\n",
    "rf2 = train_RandomForestRegressor(X_train, y_train, 0.3515)\n",
    "y_rig = train_ridge_model(X_train, y_train, 1) \n",
    "\n",
    "y_rf1 = np.expm1(rf1.predict(X_test))\n",
    "y_rf2 = np.expm1(rf2.predict(X_test))\n",
    "y_rig = np.expm1(y_rig.predict(X_test))\n",
    "\n",
    "# dtest = xgb.DMatrix(X_test)\n",
    "# xgbmodel = train_xgb(X_train, y_train)\n",
    "# y_xgb = np.expm1(xgbmodel.predict(dtest))"
   ]
  },
  {
   "cell_type": "code",
   "execution_count": 363,
   "metadata": {},
   "outputs": [
    {
     "data": {
      "text/html": [
       "<div>\n",
       "<style>\n",
       "    .dataframe thead tr:only-child th {\n",
       "        text-align: right;\n",
       "    }\n",
       "\n",
       "    .dataframe thead th {\n",
       "        text-align: left;\n",
       "    }\n",
       "\n",
       "    .dataframe tbody tr th {\n",
       "        vertical-align: top;\n",
       "    }\n",
       "</style>\n",
       "<table border=\"1\" class=\"dataframe\">\n",
       "  <thead>\n",
       "    <tr style=\"text-align: right;\">\n",
       "      <th></th>\n",
       "      <th>1stFlrSF</th>\n",
       "      <th>2ndFlrSF</th>\n",
       "      <th>3SsnPorch</th>\n",
       "      <th>BsmtFinSF1</th>\n",
       "      <th>BsmtFinSF2</th>\n",
       "      <th>BsmtUnfSF</th>\n",
       "      <th>EnclosedPorch</th>\n",
       "      <th>GarageArea</th>\n",
       "      <th>GarageYrBlt</th>\n",
       "      <th>GrLivArea</th>\n",
       "      <th>...</th>\n",
       "      <th>LowQualFinSF_0_0.0</th>\n",
       "      <th>LowQualFinSF_1_1.0</th>\n",
       "      <th>WoodDeckSF_0_0.0</th>\n",
       "      <th>WoodDeckSF_1_1.0</th>\n",
       "      <th>OpenPorchSF_0_0</th>\n",
       "      <th>OpenPorchSF_1_1</th>\n",
       "      <th>EnclosedPorch_0_0.0</th>\n",
       "      <th>EnclosedPorch_1_1.0</th>\n",
       "      <th>ScreenPorch_0_0.0</th>\n",
       "      <th>ScreenPorch_1_1.0</th>\n",
       "    </tr>\n",
       "    <tr>\n",
       "      <th>Id</th>\n",
       "      <th></th>\n",
       "      <th></th>\n",
       "      <th></th>\n",
       "      <th></th>\n",
       "      <th></th>\n",
       "      <th></th>\n",
       "      <th></th>\n",
       "      <th></th>\n",
       "      <th></th>\n",
       "      <th></th>\n",
       "      <th></th>\n",
       "      <th></th>\n",
       "      <th></th>\n",
       "      <th></th>\n",
       "      <th></th>\n",
       "      <th></th>\n",
       "      <th></th>\n",
       "      <th></th>\n",
       "      <th></th>\n",
       "      <th></th>\n",
       "      <th></th>\n",
       "    </tr>\n",
       "  </thead>\n",
       "  <tbody>\n",
       "    <tr>\n",
       "      <th>1</th>\n",
       "      <td>856</td>\n",
       "      <td>854</td>\n",
       "      <td>0</td>\n",
       "      <td>706.0</td>\n",
       "      <td>0.0</td>\n",
       "      <td>150.0</td>\n",
       "      <td>0</td>\n",
       "      <td>548.0</td>\n",
       "      <td>2000.0</td>\n",
       "      <td>1710</td>\n",
       "      <td>...</td>\n",
       "      <td>1</td>\n",
       "      <td>0</td>\n",
       "      <td>1</td>\n",
       "      <td>0</td>\n",
       "      <td>0</td>\n",
       "      <td>1</td>\n",
       "      <td>1</td>\n",
       "      <td>0</td>\n",
       "      <td>1</td>\n",
       "      <td>0</td>\n",
       "    </tr>\n",
       "    <tr>\n",
       "      <th>2</th>\n",
       "      <td>1262</td>\n",
       "      <td>0</td>\n",
       "      <td>0</td>\n",
       "      <td>978.0</td>\n",
       "      <td>0.0</td>\n",
       "      <td>284.0</td>\n",
       "      <td>0</td>\n",
       "      <td>460.0</td>\n",
       "      <td>1976.0</td>\n",
       "      <td>1262</td>\n",
       "      <td>...</td>\n",
       "      <td>1</td>\n",
       "      <td>0</td>\n",
       "      <td>0</td>\n",
       "      <td>1</td>\n",
       "      <td>1</td>\n",
       "      <td>0</td>\n",
       "      <td>1</td>\n",
       "      <td>0</td>\n",
       "      <td>1</td>\n",
       "      <td>0</td>\n",
       "    </tr>\n",
       "    <tr>\n",
       "      <th>3</th>\n",
       "      <td>920</td>\n",
       "      <td>866</td>\n",
       "      <td>0</td>\n",
       "      <td>486.0</td>\n",
       "      <td>0.0</td>\n",
       "      <td>434.0</td>\n",
       "      <td>0</td>\n",
       "      <td>608.0</td>\n",
       "      <td>2000.0</td>\n",
       "      <td>1786</td>\n",
       "      <td>...</td>\n",
       "      <td>1</td>\n",
       "      <td>0</td>\n",
       "      <td>1</td>\n",
       "      <td>0</td>\n",
       "      <td>0</td>\n",
       "      <td>1</td>\n",
       "      <td>1</td>\n",
       "      <td>0</td>\n",
       "      <td>1</td>\n",
       "      <td>0</td>\n",
       "    </tr>\n",
       "    <tr>\n",
       "      <th>4</th>\n",
       "      <td>961</td>\n",
       "      <td>756</td>\n",
       "      <td>0</td>\n",
       "      <td>216.0</td>\n",
       "      <td>0.0</td>\n",
       "      <td>540.0</td>\n",
       "      <td>272</td>\n",
       "      <td>642.0</td>\n",
       "      <td>1998.0</td>\n",
       "      <td>1717</td>\n",
       "      <td>...</td>\n",
       "      <td>1</td>\n",
       "      <td>0</td>\n",
       "      <td>1</td>\n",
       "      <td>0</td>\n",
       "      <td>0</td>\n",
       "      <td>1</td>\n",
       "      <td>0</td>\n",
       "      <td>1</td>\n",
       "      <td>1</td>\n",
       "      <td>0</td>\n",
       "    </tr>\n",
       "    <tr>\n",
       "      <th>5</th>\n",
       "      <td>1145</td>\n",
       "      <td>1053</td>\n",
       "      <td>0</td>\n",
       "      <td>655.0</td>\n",
       "      <td>0.0</td>\n",
       "      <td>490.0</td>\n",
       "      <td>0</td>\n",
       "      <td>836.0</td>\n",
       "      <td>2000.0</td>\n",
       "      <td>2198</td>\n",
       "      <td>...</td>\n",
       "      <td>1</td>\n",
       "      <td>0</td>\n",
       "      <td>0</td>\n",
       "      <td>1</td>\n",
       "      <td>0</td>\n",
       "      <td>1</td>\n",
       "      <td>1</td>\n",
       "      <td>0</td>\n",
       "      <td>1</td>\n",
       "      <td>0</td>\n",
       "    </tr>\n",
       "  </tbody>\n",
       "</table>\n",
       "<p>5 rows × 439 columns</p>\n",
       "</div>"
      ],
      "text/plain": [
       "    1stFlrSF  2ndFlrSF  3SsnPorch  BsmtFinSF1  BsmtFinSF2  BsmtUnfSF  \\\n",
       "Id                                                                     \n",
       "1        856       854          0       706.0         0.0      150.0   \n",
       "2       1262         0          0       978.0         0.0      284.0   \n",
       "3        920       866          0       486.0         0.0      434.0   \n",
       "4        961       756          0       216.0         0.0      540.0   \n",
       "5       1145      1053          0       655.0         0.0      490.0   \n",
       "\n",
       "    EnclosedPorch  GarageArea  GarageYrBlt  GrLivArea        ...          \\\n",
       "Id                                                           ...           \n",
       "1               0       548.0       2000.0       1710        ...           \n",
       "2               0       460.0       1976.0       1262        ...           \n",
       "3               0       608.0       2000.0       1786        ...           \n",
       "4             272       642.0       1998.0       1717        ...           \n",
       "5               0       836.0       2000.0       2198        ...           \n",
       "\n",
       "    LowQualFinSF_0_0.0  LowQualFinSF_1_1.0  WoodDeckSF_0_0.0  \\\n",
       "Id                                                             \n",
       "1                    1                   0                 1   \n",
       "2                    1                   0                 0   \n",
       "3                    1                   0                 1   \n",
       "4                    1                   0                 1   \n",
       "5                    1                   0                 0   \n",
       "\n",
       "    WoodDeckSF_1_1.0  OpenPorchSF_0_0  OpenPorchSF_1_1  EnclosedPorch_0_0.0  \\\n",
       "Id                                                                            \n",
       "1                  0                0                1                    1   \n",
       "2                  1                1                0                    1   \n",
       "3                  0                0                1                    1   \n",
       "4                  0                0                1                    0   \n",
       "5                  1                0                1                    1   \n",
       "\n",
       "    EnclosedPorch_1_1.0  ScreenPorch_0_0.0  ScreenPorch_1_1.0  \n",
       "Id                                                             \n",
       "1                     0                  1                  0  \n",
       "2                     0                  1                  0  \n",
       "3                     0                  1                  0  \n",
       "4                     1                  1                  0  \n",
       "5                     0                  1                  0  \n",
       "\n",
       "[5 rows x 439 columns]"
      ]
     },
     "execution_count": 363,
     "metadata": {},
     "output_type": "execute_result"
    }
   ],
   "source": [
    "# find_best_score_RandomForest(X_train, y_train)\n",
    "all_df.head()\n",
    "# all_df.dtypes"
   ]
  },
  {
   "cell_type": "markdown",
   "metadata": {},
   "source": [
    "### 预测，调整权重"
   ]
  },
  {
   "cell_type": "code",
   "execution_count": 490,
   "metadata": {},
   "outputs": [
    {
     "data": {
      "text/plain": [
       "array([ 123788.14886465,  160906.73306266,  185740.46584273, ...,\n",
       "        170495.95335681,  115629.99275327,  213393.16788384])"
      ]
     },
     "execution_count": 490,
     "metadata": {},
     "output_type": "execute_result"
    }
   ],
   "source": [
    "y_final = 0.6 * y_rig + 0.4 * y_rf1\n",
    "y_final"
   ]
  },
  {
   "cell_type": "code",
   "execution_count": 483,
   "metadata": {
    "scrolled": true
   },
   "outputs": [
    {
     "data": {
      "text/plain": [
       "<matplotlib.axes._subplots.AxesSubplot at 0x117a82780>"
      ]
     },
     "execution_count": 483,
     "metadata": {},
     "output_type": "execute_result"
    },
    {
     "data": {
      "image/png": "[encoded data removed]",
      "text/plain": [
       "<matplotlib.figure.Figure at 0x13376db00>"
      ]
     },
     "metadata": {},
     "output_type": "display_data"
    }
   ],
   "source": [
    "sns.distplot(y_rf1)\n",
    "sns.distplot(y_rf2)\n",
    "sns.distplot(train_df.SalePrice)"
   ]
  },
  {
   "cell_type": "code",
   "execution_count": 484,
   "metadata": {},
   "outputs": [
    {
     "data": {
      "text/plain": [
       "<matplotlib.axes._subplots.AxesSubplot at 0x1338f1cf8>"
      ]
     },
     "execution_count": 484,
     "metadata": {},
     "output_type": "execute_result"
    },
    {
     "data": {
      "image/png": "[encoded data removed]",
      "text/plain": [
       "<matplotlib.figure.Figure at 0x135344898>"
      ]
     },
     "metadata": {},
     "output_type": "display_data"
    }
   ],
   "source": [
    "sns.distplot(y_rig)\n",
    "\n",
    "sns.distplot(train_df.SalePrice)"
   ]
  },
  {
   "cell_type": "code",
   "execution_count": 491,
   "metadata": {},
   "outputs": [
    {
     "data": {
      "text/plain": [
       "<matplotlib.axes._subplots.AxesSubplot at 0x1a3a8040b8>"
      ]
     },
     "execution_count": 491,
     "metadata": {},
     "output_type": "execute_result"
    },
    {
     "data": {
      "image/png": "[encoded data removed]",
      "text/plain": [
       "<matplotlib.figure.Figure at 0x135577be0>"
      ]
     },
     "metadata": {},
     "output_type": "display_data"
    }
   ],
   "source": [
    "sns.distplot(y_final)\n",
    "\n",
    "sns.distplot(train_df.SalePrice)"
   ]
  },
  {
   "cell_type": "code",
   "execution_count": 492,
   "metadata": {},
   "outputs": [
    {
     "data": {
      "text/html": [
       "<div>\n",
       "<style>\n",
       "    .dataframe thead tr:only-child th {\n",
       "        text-align: right;\n",
       "    }\n",
       "\n",
       "    .dataframe thead th {\n",
       "        text-align: left;\n",
       "    }\n",
       "\n",
       "    .dataframe tbody tr th {\n",
       "        vertical-align: top;\n",
       "    }\n",
       "</style>\n",
       "<table border=\"1\" class=\"dataframe\">\n",
       "  <thead>\n",
       "    <tr style=\"text-align: right;\">\n",
       "      <th></th>\n",
       "      <th>Id</th>\n",
       "      <th>SalePrice</th>\n",
       "    </tr>\n",
       "  </thead>\n",
       "  <tbody>\n",
       "    <tr>\n",
       "      <th>0</th>\n",
       "      <td>1461</td>\n",
       "      <td>123788.148865</td>\n",
       "    </tr>\n",
       "    <tr>\n",
       "      <th>1</th>\n",
       "      <td>1462</td>\n",
       "      <td>160906.733063</td>\n",
       "    </tr>\n",
       "    <tr>\n",
       "      <th>2</th>\n",
       "      <td>1463</td>\n",
       "      <td>185740.465843</td>\n",
       "    </tr>\n",
       "    <tr>\n",
       "      <th>3</th>\n",
       "      <td>1464</td>\n",
       "      <td>194897.819693</td>\n",
       "    </tr>\n",
       "    <tr>\n",
       "      <th>4</th>\n",
       "      <td>1465</td>\n",
       "      <td>192115.932291</td>\n",
       "    </tr>\n",
       "  </tbody>\n",
       "</table>\n",
       "</div>"
      ],
      "text/plain": [
       "     Id      SalePrice\n",
       "0  1461  123788.148865\n",
       "1  1462  160906.733063\n",
       "2  1463  185740.465843\n",
       "3  1464  194897.819693\n",
       "4  1465  192115.932291"
      ]
     },
     "execution_count": 492,
     "metadata": {},
     "output_type": "execute_result"
    }
   ],
   "source": [
    "submission_df = pd.DataFrame(data= {'Id' : test_df.index, 'SalePrice': y_final})\n",
    "submission_df.to_csv('./output/result.csv', index=False)\n",
    "submission_df.head()"
   ]
  },
  {
   "cell_type": "markdown",
   "metadata": {},
   "source": [
    "# 六、成绩提交 \n",
    "- 在kaggle完成至少两次或以上提交。记录成绩，分析成绩差异的原因。"
   ]
  },
  {
   "cell_type": "markdown",
   "metadata": {},
   "source": [
    "- 1.开始使用baseline版本，并未进行多少数据分析，只是简单做了one-hot还有标准化等处理，训练了模型，效果一般\n",
    "- 2.参考了加号上课讲的案例和其他kernel的一些思想，使用了集成树模型随机森林和线性模型ridge进行融合，效果有较好的提升\n",
    "- 3.进行了大量的数据分析及可视化，分析并提取特征，效果又有一定程度的提升；\n",
    "- 4.开始使用xgboost，参数调整的并不是很好，而且数据量较少，非常容易过拟合，所以训练集上效果非常好，但是预测结果很糟糕\n",
    "- 5.发现ridge模型效果很容易拟合得比较好，但是不够，需要一些randomforest这样的模型来补充（树模型和线性模型融合）\n",
    "- 6.后来对预测结果，和训练集分布进行可视化处理，以此来观察预测结果好坏，去调整模型预测结果的权重，也有一定的效果提升。"
   ]
  },
  {
   "cell_type": "markdown",
   "metadata": {},
   "source": [
    "# 七、 项目总结和心得：\n",
    "- 一、数据分析和可视化\n",
    "    - 1.特征太多，而且都是一些缩写，就算有解释，也不太容易都了解，开始进行了特征分类和一部分翻译工作，方便查找和理解，这部分还是很有用的，要不然不太记得住特征都是干什么用的；\n",
    "    - 2.对特征进行了可视化分析，这部分极其有用（具体见数据分析的5个notebook），遗憾的是，没能来得及继续深挖特征和业务场景，所以没有造出很多特别有用的特征，后来看其他kernel还是在业务场景方面造了很多有用特征，效果会很好，就像寒老师说的，特征很多时候其实是最重要的，差距很大的时候，一般都是特征工程做的不好，数据分析还不够，业务场景没有深挖。\n",
    "- 二、数据预处理\n",
    "    - 1.数据预处理，收获很多，缺失值处理，缺失太多去掉比较好，缺失少的时候，类别型可以用分布最大量的类别来填充，几个类别差不多的时候，可以按分布均匀填充，这个还没来得及做；\n",
    "    - 2.数据类型处理起来不能一概而论，不能只是简单分桶，因为数据分布区间差异化很大，按分布进行分桶效果更好一些，而有的特征，比如二楼面积，大量数据为0，其实很正常，因为很多房子只有一层，数量还很多，所以按照0和非0来分桶比较靠谱，有些分布均匀可以不切分或者等频切分；\n",
    "    - 3.一些特殊列，比如fence，一半缺失，去掉不合适，中位数填充也不合适，所以将缺失那一半干脆也分为一类，后来看到网上kernel也有做类似的处理，感觉也是一种很常规的思想；\n",
    "- 三、建模和预测    \n",
    "    - 1.开始使用xgboost。。。这个练习过好多次，比较熟练，数据量太少，非常容易过拟合，效果不好，之后去掉了（主要参数调得也不是很好应该再加大样本数据或者继续调参）；\n",
    "    - 2.参考别人做的好的很多kernel也会很有效果，很多思想很棒，可以让你打开思路；\n",
    "    - 3.这里多次尝试调整了预测结果权重，还是有一定的效果提升的，但是要选出一个最佳比例，也不是一件容易的事；\n",
    "    - 4.上课寒老师好像说过，正常情况下，训练集和测试集是同一套数据，分布也应该是很类似的，所以将预测结果和训练集预测的price画图比较一下，在提交结果之前，可以看到模型预测结果的好坏）。\n",
    "    "
   ]
  },
  {
   "cell_type": "markdown",
   "metadata": {
    "collapsed": true
   },
   "source": []
  },
  {
   "cell_type": "markdown",
   "metadata": {
    "collapsed": true
   },
   "source": []
  },
  {
   "cell_type": "code",
   "execution_count": null,
   "metadata": {
    "collapsed": true
   },
   "outputs": [],
   "source": []
  }
 ],
 "metadata": {
  "kernelspec": {
   "display_name": "Python 3",
   "language": "python",
   "name": "python3"
  },
  "language_info": {
   "codemirror_mode": {
    "name": "ipython",
    "version": 3
   },
   "file_extension": ".py",
   "mimetype": "text/x-python",
   "name": "python",
   "nbconvert_exporter": "python",
   "pygments_lexer": "ipython3",
   "version": "3.5.2"
  }
 },
 "nbformat": 4,
 "nbformat_minor": 2
}
