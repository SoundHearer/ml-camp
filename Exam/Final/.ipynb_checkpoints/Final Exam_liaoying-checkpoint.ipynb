{
 "cells": [
  {
   "cell_type": "markdown",
   "metadata": {},
   "source": [
    "#### 本次成绩:85\n",
    "\n",
    "### 评卷标准:\n",
    "- 分析，理顺，项目要求并落实在文档中   ？\n",
    "- 比较不同结果 ，思考，改进，总结。   √\n",
    "- 成绩提交并截图成绩   √\n",
    "- 最终结论，报告。    √\n",
    "\n",
    "能力和认真都体现，但如果把思路，和文档结构 组织下，就彻底和100分同学没差距了。加油\n",
    "\n",
    "#### 评卷：David"
   ]
  },
  {
   "cell_type": "code",
   "execution_count": 33,
   "metadata": {
    "collapsed": true
   },
   "outputs": [],
   "source": [
    "import pandas as pd\n",
    "import numpy as np\n",
    "import seaborn as sns\n",
    "import matplotlib as plt"
   ]
  },
  {
   "cell_type": "markdown",
   "metadata": {},
   "source": [
    "### 载入训练数据和测试数据"
   ]
  },
  {
   "cell_type": "code",
   "execution_count": 34,
   "metadata": {
    "collapsed": true
   },
   "outputs": [],
   "source": [
    "d_train=pd.read_csv(\"train.csv\")\n",
    "# d_train.tail()\n",
    "d_test=pd.read_csv(\"test.csv\")\n",
    "# d_test.tail()\n",
    "target = d_train['SalePrice'] \n"
   ]
  },
  {
   "cell_type": "markdown",
   "metadata": {},
   "source": [
    "### 合并训练数据和测试数据， 方便数据做统一处理\n",
    "* 因为最开始是分开处理的，然后发现做独热向量编码的时候，分开处理的test 数据比train数据少了一些维度，原因是test数据里面的一些特征少了几个类别，心塞了好久。）"
   ]
  },
  {
   "cell_type": "code",
   "execution_count": 35,
   "metadata": {
    "collapsed": true
   },
   "outputs": [],
   "source": [
    "d_train = d_train.drop('SalePrice', axis=1)\n",
    "d_train['data_flag'] = 'train'#标记训练数据\n",
    "d_test['data_flag'] = 'test'#标记测试数据\n",
    "data_set = pd.concat([d_train, d_test])#合并训练和测试数据集"
   ]
  },
  {
   "cell_type": "code",
   "execution_count": 59,
   "metadata": {},
   "outputs": [
    {
     "name": "stdout",
     "output_type": "stream",
     "text": [
      "<class 'pandas.core.frame.DataFrame'>\n",
      "Int64Index: 2919 entries, 0 to 1458\n",
      "Data columns (total 81 columns):\n",
      "Id               2919 non-null int64\n",
      "MSSubClass       2919 non-null int64\n",
      "MSZoning         2915 non-null object\n",
      "LotFrontage      2433 non-null float64\n",
      "LotArea          2919 non-null int64\n",
      "Street           2919 non-null object\n",
      "Alley            198 non-null object\n",
      "LotShape         2919 non-null object\n",
      "LandContour      2919 non-null object\n",
      "Utilities        2917 non-null object\n",
      "LotConfig        2919 non-null object\n",
      "LandSlope        2919 non-null object\n",
      "Neighborhood     2919 non-null object\n",
      "Condition1       2919 non-null object\n",
      "Condition2       2919 non-null object\n",
      "BldgType         2919 non-null object\n",
      "HouseStyle       2919 non-null object\n",
      "OverallQual      2919 non-null int64\n",
      "OverallCond      2919 non-null int64\n",
      "YearBuilt        2919 non-null int64\n",
      "YearRemodAdd     2919 non-null int64\n",
      "RoofStyle        2919 non-null object\n",
      "RoofMatl         2919 non-null object\n",
      "Exterior1st      2918 non-null object\n",
      "Exterior2nd      2918 non-null object\n",
      "MasVnrType       2895 non-null object\n",
      "MasVnrArea       2896 non-null float64\n",
      "ExterQual        2919 non-null object\n",
      "ExterCond        2919 non-null object\n",
      "Foundation       2919 non-null object\n",
      "BsmtQual         2838 non-null object\n",
      "BsmtCond         2837 non-null object\n",
      "BsmtExposure     2837 non-null object\n",
      "BsmtFinType1     2840 non-null object\n",
      "BsmtFinSF1       2918 non-null float64\n",
      "BsmtFinType2     2839 non-null object\n",
      "BsmtFinSF2       2918 non-null float64\n",
      "BsmtUnfSF        2918 non-null float64\n",
      "TotalBsmtSF      2918 non-null float64\n",
      "Heating          2919 non-null object\n",
      "HeatingQC        2919 non-null object\n",
      "CentralAir       2919 non-null object\n",
      "Electrical       2918 non-null object\n",
      "1stFlrSF         2919 non-null int64\n",
      "2ndFlrSF         2919 non-null int64\n",
      "LowQualFinSF     2919 non-null int64\n",
      "GrLivArea        2919 non-null int64\n",
      "BsmtFullBath     2917 non-null float64\n",
      "BsmtHalfBath     2917 non-null float64\n",
      "FullBath         2919 non-null int64\n",
      "HalfBath         2919 non-null int64\n",
      "BedroomAbvGr     2919 non-null int64\n",
      "KitchenAbvGr     2919 non-null int64\n",
      "KitchenQual      2918 non-null object\n",
      "TotRmsAbvGrd     2919 non-null int64\n",
      "Functional       2917 non-null object\n",
      "Fireplaces       2919 non-null int64\n",
      "FireplaceQu      1499 non-null object\n",
      "GarageType       2762 non-null object\n",
      "GarageYrBlt      2760 non-null float64\n",
      "GarageFinish     2760 non-null object\n",
      "GarageCars       2918 non-null float64\n",
      "GarageArea       2918 non-null float64\n",
      "GarageQual       2760 non-null object\n",
      "GarageCond       2760 non-null object\n",
      "PavedDrive       2919 non-null object\n",
      "WoodDeckSF       2919 non-null int64\n",
      "OpenPorchSF      2919 non-null int64\n",
      "EnclosedPorch    2919 non-null int64\n",
      "3SsnPorch        2919 non-null int64\n",
      "ScreenPorch      2919 non-null int64\n",
      "PoolArea         2919 non-null int64\n",
      "PoolQC           10 non-null object\n",
      "Fence            571 non-null object\n",
      "MiscFeature      105 non-null object\n",
      "MiscVal          2919 non-null int64\n",
      "MoSold           2919 non-null int64\n",
      "YrSold           2919 non-null int64\n",
      "SaleType         2918 non-null object\n",
      "SaleCondition    2919 non-null object\n",
      "data_flag        2919 non-null object\n",
      "dtypes: float64(11), int64(26), object(44)\n",
      "memory usage: 1.8+ MB\n"
     ]
    },
    {
     "data": {
      "text/plain": [
       "(2919, 81)"
      ]
     },
     "execution_count": 59,
     "metadata": {},
     "output_type": "execute_result"
    }
   ],
   "source": [
    "data_set.info()#查看合并数据集基本信息\n",
    "data_set.shape"
   ]
  },
  {
   "cell_type": "markdown",
   "metadata": {},
   "source": [
    "### 数据预处理"
   ]
  },
  {
   "cell_type": "markdown",
   "metadata": {},
   "source": [
    "* 查看空值情况"
   ]
  },
  {
   "cell_type": "code",
   "execution_count": 60,
   "metadata": {},
   "outputs": [
    {
     "data": {
      "text/plain": [
       "PoolQC          2909\n",
       "MiscFeature     2814\n",
       "Alley           2721\n",
       "Fence           2348\n",
       "FireplaceQu     1420\n",
       "LotFrontage      486\n",
       "GarageCond       159\n",
       "GarageYrBlt      159\n",
       "GarageFinish     159\n",
       "GarageQual       159\n",
       "GarageType       157\n",
       "BsmtCond          82\n",
       "BsmtExposure      82\n",
       "BsmtQual          81\n",
       "BsmtFinType2      80\n",
       "BsmtFinType1      79\n",
       "MasVnrType        24\n",
       "MasVnrArea        23\n",
       "MSZoning           4\n",
       "Utilities          2\n",
       "BsmtHalfBath       2\n",
       "BsmtFullBath       2\n",
       "Functional         2\n",
       "Exterior1st        1\n",
       "TotalBsmtSF        1\n",
       "BsmtUnfSF          1\n",
       "BsmtFinSF2         1\n",
       "GarageArea         1\n",
       "KitchenQual        1\n",
       "GarageCars         1\n",
       "BsmtFinSF1         1\n",
       "Exterior2nd        1\n",
       "SaleType           1\n",
       "Electrical         1\n",
       "YearRemodAdd       0\n",
       "dtype: int64"
      ]
     },
     "execution_count": 60,
     "metadata": {},
     "output_type": "execute_result"
    }
   ],
   "source": [
    "data_set.isnull().sum(axis=0).sort_values(ascending=False).head(35)"
   ]
  },
  {
   "cell_type": "markdown",
   "metadata": {},
   "source": [
    "从以上可以看出几个缺失值比较多的列是：“PoolQC”1453 null，“MiscFeature”1406 null，“Alley” 1369 null，“Fence”1179 null，\n",
    "根据data_description.txt，可以知道，PoolQC指，游泳池质量，一般认为游泳池质量不会影响房价，而且这一列值几乎缺失；MiscFeature，指各种混合特征，看似有用的特征，但是缺失值太多，摈弃不用；Alley指通向房子的巷子地面是原始的砂石路面还是铺砌过的路面，由于这里缺失值较多，也可以认为这个特征对房价没有什么影响。fence指的是围栏的质量，这个跟房子隐私相关，，我觉得这个特征应该是有一定相关的,而且该列的值NA本身就是特征值。所以，暂时摈弃PoolQC、 MiscFeature、 Alley这3个特征。另外观察几个缺失值比较少的特征，GarageCond，GarageType，GarageYrBlt，GarageFinish，GarageQual 这几个特征缺失值都是81个，而且都是跟车库质量相关的特征，因而我认为保留GarageCond即可，其余4个可以摈弃；BsmtExposure ，BsmtFinType2，BsmtFinType1，BsmtCond，BsmtQual，几个特征确实情况几乎相等，而且都是跟地下室质量相关的特征信息，因而保留BsmtCond即可。MasVnrArea，MasVnrType这两个是跟房子装修相关的特征，由于\n",
    "Exterior2nd已经包含，所以认为这两个特征不重要，可以摈弃。"
   ]
  },
  {
   "cell_type": "code",
   "execution_count": 36,
   "metadata": {
    "collapsed": true
   },
   "outputs": [],
   "source": [
    "data_set=data_set.drop(['PoolQC','MiscFeature','Alley','GarageType','GarageYrBlt','GarageFinish',\\\n",
    "                            'GarageQual','BsmtExposure','BsmtFinType2','BsmtFinType1','BsmtQual','MasVnrArea','MasVnrType'],axis=1)"
   ]
  },
  {
   "cell_type": "code",
   "execution_count": 62,
   "metadata": {
    "scrolled": true
   },
   "outputs": [
    {
     "data": {
      "text/plain": [
       "Fence           2348\n",
       "FireplaceQu     1420\n",
       "LotFrontage      486\n",
       "GarageCond       159\n",
       "BsmtCond          82\n",
       "MSZoning           4\n",
       "BsmtFullBath       2\n",
       "BsmtHalfBath       2\n",
       "Functional         2\n",
       "Utilities          2\n",
       "Electrical         1\n",
       "GarageCars         1\n",
       "GarageArea         1\n",
       "KitchenQual        1\n",
       "Exterior2nd        1\n",
       "TotalBsmtSF        1\n",
       "BsmtUnfSF          1\n",
       "BsmtFinSF2         1\n",
       "BsmtFinSF1         1\n",
       "SaleType           1\n",
       "Exterior1st        1\n",
       "RoofMatl           0\n",
       "dtype: int64"
      ]
     },
     "execution_count": 62,
     "metadata": {},
     "output_type": "execute_result"
    }
   ],
   "source": [
    "data_set.isnull().sum(axis=0).sort_values(ascending=False).head(22)"
   ]
  },
  {
   "cell_type": "markdown",
   "metadata": {},
   "source": [
    "### 补全缺失值"
   ]
  },
  {
   "cell_type": "code",
   "execution_count": 37,
   "metadata": {},
   "outputs": [
    {
     "data": {
      "text/plain": [
       "(2919, 68)"
      ]
     },
     "execution_count": 37,
     "metadata": {},
     "output_type": "execute_result"
    }
   ],
   "source": [
    "# data_set.info()\n",
    "data_set.shape#初步扔掉一些缺失值太多的特征之后的shape(2919, 68)\n",
    "# data_set.describe()"
   ]
  },
  {
   "cell_type": "markdown",
   "metadata": {},
   "source": [
    "* 首先挑选出类别型数据，对类别型数据做缺失值填充"
   ]
  },
  {
   "cell_type": "code",
   "execution_count": 38,
   "metadata": {},
   "outputs": [
    {
     "data": {
      "text/plain": [
       "Fence           2348\n",
       "FireplaceQu     1420\n",
       "GarageCond       159\n",
       "BsmtCond          82\n",
       "MSZoning           4\n",
       "Functional         2\n",
       "Utilities          2\n",
       "SaleType           1\n",
       "KitchenQual        1\n",
       "Electrical         1\n",
       "Exterior1st        1\n",
       "Exterior2nd        1\n",
       "LandSlope          0\n",
       "Condition1         0\n",
       "Neighborhood       0\n",
       "dtype: int64"
      ]
     },
     "execution_count": 38,
     "metadata": {},
     "output_type": "execute_result"
    }
   ],
   "source": [
    "\n",
    "data_obj=data_set.select_dtypes(include=['object'])\n",
    "data_obj.isnull().sum(axis=0).sort_values(ascending=False).head(15)#一共有12个有缺失值的类别型数据"
   ]
  },
  {
   "cell_type": "code",
   "execution_count": 353,
   "metadata": {},
   "outputs": [
    {
     "data": {
      "text/html": [
       "<div>\n",
       "<style>\n",
       "    .dataframe thead tr:only-child th {\n",
       "        text-align: right;\n",
       "    }\n",
       "\n",
       "    .dataframe thead th {\n",
       "        text-align: left;\n",
       "    }\n",
       "\n",
       "    .dataframe tbody tr th {\n",
       "        vertical-align: top;\n",
       "    }\n",
       "</style>\n",
       "<table border=\"1\" class=\"dataframe\">\n",
       "  <thead>\n",
       "    <tr style=\"text-align: right;\">\n",
       "      <th></th>\n",
       "      <th>MSZoning</th>\n",
       "      <th>Street</th>\n",
       "      <th>LotShape</th>\n",
       "      <th>LandContour</th>\n",
       "      <th>Utilities</th>\n",
       "      <th>LotConfig</th>\n",
       "      <th>LandSlope</th>\n",
       "      <th>Neighborhood</th>\n",
       "      <th>Condition1</th>\n",
       "      <th>Condition2</th>\n",
       "      <th>...</th>\n",
       "      <th>Electrical</th>\n",
       "      <th>KitchenQual</th>\n",
       "      <th>Functional</th>\n",
       "      <th>FireplaceQu</th>\n",
       "      <th>GarageCond</th>\n",
       "      <th>PavedDrive</th>\n",
       "      <th>Fence</th>\n",
       "      <th>SaleType</th>\n",
       "      <th>SaleCondition</th>\n",
       "      <th>data_flag</th>\n",
       "    </tr>\n",
       "  </thead>\n",
       "  <tbody>\n",
       "    <tr>\n",
       "      <th>count</th>\n",
       "      <td>2915</td>\n",
       "      <td>2919</td>\n",
       "      <td>2919</td>\n",
       "      <td>2919</td>\n",
       "      <td>2917</td>\n",
       "      <td>2919</td>\n",
       "      <td>2919</td>\n",
       "      <td>2919</td>\n",
       "      <td>2919</td>\n",
       "      <td>2919</td>\n",
       "      <td>...</td>\n",
       "      <td>2918</td>\n",
       "      <td>2918</td>\n",
       "      <td>2917</td>\n",
       "      <td>1499</td>\n",
       "      <td>2760</td>\n",
       "      <td>2919</td>\n",
       "      <td>571</td>\n",
       "      <td>2918</td>\n",
       "      <td>2919</td>\n",
       "      <td>2919</td>\n",
       "    </tr>\n",
       "    <tr>\n",
       "      <th>unique</th>\n",
       "      <td>5</td>\n",
       "      <td>2</td>\n",
       "      <td>4</td>\n",
       "      <td>4</td>\n",
       "      <td>2</td>\n",
       "      <td>5</td>\n",
       "      <td>3</td>\n",
       "      <td>25</td>\n",
       "      <td>9</td>\n",
       "      <td>8</td>\n",
       "      <td>...</td>\n",
       "      <td>5</td>\n",
       "      <td>4</td>\n",
       "      <td>7</td>\n",
       "      <td>5</td>\n",
       "      <td>5</td>\n",
       "      <td>3</td>\n",
       "      <td>4</td>\n",
       "      <td>9</td>\n",
       "      <td>6</td>\n",
       "      <td>2</td>\n",
       "    </tr>\n",
       "    <tr>\n",
       "      <th>top</th>\n",
       "      <td>RL</td>\n",
       "      <td>Pave</td>\n",
       "      <td>Reg</td>\n",
       "      <td>Lvl</td>\n",
       "      <td>AllPub</td>\n",
       "      <td>Inside</td>\n",
       "      <td>Gtl</td>\n",
       "      <td>NAmes</td>\n",
       "      <td>Norm</td>\n",
       "      <td>Norm</td>\n",
       "      <td>...</td>\n",
       "      <td>SBrkr</td>\n",
       "      <td>TA</td>\n",
       "      <td>Typ</td>\n",
       "      <td>Gd</td>\n",
       "      <td>TA</td>\n",
       "      <td>Y</td>\n",
       "      <td>MnPrv</td>\n",
       "      <td>WD</td>\n",
       "      <td>Normal</td>\n",
       "      <td>train</td>\n",
       "    </tr>\n",
       "    <tr>\n",
       "      <th>freq</th>\n",
       "      <td>2265</td>\n",
       "      <td>2907</td>\n",
       "      <td>1859</td>\n",
       "      <td>2622</td>\n",
       "      <td>2916</td>\n",
       "      <td>2133</td>\n",
       "      <td>2778</td>\n",
       "      <td>443</td>\n",
       "      <td>2511</td>\n",
       "      <td>2889</td>\n",
       "      <td>...</td>\n",
       "      <td>2671</td>\n",
       "      <td>1492</td>\n",
       "      <td>2717</td>\n",
       "      <td>744</td>\n",
       "      <td>2654</td>\n",
       "      <td>2641</td>\n",
       "      <td>329</td>\n",
       "      <td>2525</td>\n",
       "      <td>2402</td>\n",
       "      <td>1460</td>\n",
       "    </tr>\n",
       "  </tbody>\n",
       "</table>\n",
       "<p>4 rows × 33 columns</p>\n",
       "</div>"
      ],
      "text/plain": [
       "       MSZoning Street LotShape LandContour Utilities LotConfig LandSlope  \\\n",
       "count      2915   2919     2919        2919      2917      2919      2919   \n",
       "unique        5      2        4           4         2         5         3   \n",
       "top          RL   Pave      Reg         Lvl    AllPub    Inside       Gtl   \n",
       "freq       2265   2907     1859        2622      2916      2133      2778   \n",
       "\n",
       "       Neighborhood Condition1 Condition2    ...    Electrical KitchenQual  \\\n",
       "count          2919       2919       2919    ...          2918        2918   \n",
       "unique           25          9          8    ...             5           4   \n",
       "top           NAmes       Norm       Norm    ...         SBrkr          TA   \n",
       "freq            443       2511       2889    ...          2671        1492   \n",
       "\n",
       "       Functional FireplaceQu GarageCond PavedDrive  Fence SaleType  \\\n",
       "count        2917        1499       2760       2919    571     2918   \n",
       "unique          7           5          5          3      4        9   \n",
       "top           Typ          Gd         TA          Y  MnPrv       WD   \n",
       "freq         2717         744       2654       2641    329     2525   \n",
       "\n",
       "       SaleCondition data_flag  \n",
       "count           2919      2919  \n",
       "unique             6         2  \n",
       "top           Normal     train  \n",
       "freq            2402      1460  \n",
       "\n",
       "[4 rows x 33 columns]"
      ]
     },
     "execution_count": 353,
     "metadata": {},
     "output_type": "execute_result"
    }
   ],
   "source": [
    "data_obj.describe()#对于类别型数据，根据出现最多的类别进行填充"
   ]
  },
  {
   "cell_type": "code",
   "execution_count": 39,
   "metadata": {
    "collapsed": true
   },
   "outputs": [],
   "source": [
    "data_set.Fence.fillna('NoF',inplace=True)#Fence为空的地方指没有Fence，所以填充为NoF（NoFence）\n",
    "data_set.FireplaceQu.fillna('NoFrPl',inplace=True)#FireplaceQu为空的地方指没有壁炉，因此填充NoFrpl（NoFirePlace）\n",
    "data_set.GarageCond.fillna('NoGa',inplace=True)#GarageCond为空的地方指没有Garage，所以填充NoGa（No Garage）\n",
    "data_set.BsmtCond.fillna('NoBsm',inplace=True)#BsmtCond为空的地方指没有BsmtCond，所以填充NoBsm（No Basement）\n",
    "data_set.MSZoning.fillna('RL',inplace=True)#根据上面处理得出，这一列出现次数最多的是RL\n",
    "data_set.Functional.fillna('Typ',inplace=True)#根据上面处理得出，这一列出现次数最多的是Typ\n",
    "data_set.Utilities.fillna('AllPub',inplace=True)\n",
    "data_set.SaleType.fillna('WD',inplace=True)\n",
    "data_set.KitchenQual.fillna('TA',inplace=True)\n",
    "data_set.Electrical.fillna('SBrkr',inplace=True)\n",
    "data_set.Exterior1st.fillna('VinylSd',inplace=True)\n",
    "data_set.Exterior2nd.fillna('VinylSd',inplace=True)"
   ]
  },
  {
   "cell_type": "code",
   "execution_count": 6,
   "metadata": {},
   "outputs": [
    {
     "data": {
      "text/plain": [
       "LotFrontage     486\n",
       "BsmtFullBath      2\n",
       "BsmtHalfBath      2\n",
       "TotalBsmtSF       1\n",
       "GarageCars        1\n",
       "GarageArea        1\n",
       "BsmtUnfSF         1\n",
       "BsmtFinSF1        1\n",
       "BsmtFinSF2        1\n",
       "ExterCond         0\n",
       "dtype: int64"
      ]
     },
     "execution_count": 6,
     "metadata": {},
     "output_type": "execute_result"
    }
   ],
   "source": [
    "'''再次查看缺失值情况，现在剩下的缺失特征均为数值型特征，根据字面意思可以直接填充为0'''\n",
    "data_set.isnull().sum(axis=0).sort_values(ascending=False).head(10)\n",
    "# data_num=data_set.select_dtypes(exclude=['object'])\n",
    "# data_num.isnull().sum(axis=0).sort_values(ascending=False).head(10)#一共有12个有缺失值的类别型数据"
   ]
  },
  {
   "cell_type": "code",
   "execution_count": 40,
   "metadata": {},
   "outputs": [
    {
     "data": {
      "text/plain": [
       "data_flag        0\n",
       "ExterQual        0\n",
       "YearBuilt        0\n",
       "YearRemodAdd     0\n",
       "RoofStyle        0\n",
       "RoofMatl         0\n",
       "Exterior1st      0\n",
       "Exterior2nd      0\n",
       "ExterCond        0\n",
       "SaleCondition    0\n",
       "dtype: int64"
      ]
     },
     "execution_count": 40,
     "metadata": {},
     "output_type": "execute_result"
    }
   ],
   "source": [
    "data_set.fillna(0,inplace=True)#剩余数值型特征缺失值补充0\n",
    "data_set.isnull().sum(axis=0).sort_values(ascending=False).head(10)#此时再查看已经没有缺失值了，缺失值补全处理完毕"
   ]
  },
  {
   "cell_type": "markdown",
   "metadata": {
    "collapsed": true
   },
   "source": [
    "### 离散数据处理,独热向量"
   ]
  },
  {
   "cell_type": "code",
   "execution_count": 69,
   "metadata": {},
   "outputs": [
    {
     "data": {
      "text/plain": [
       "(2919, 68)"
      ]
     },
     "execution_count": 69,
     "metadata": {},
     "output_type": "execute_result"
    }
   ],
   "source": [
    "data_set.shape"
   ]
  },
  {
   "cell_type": "code",
   "execution_count": 41,
   "metadata": {},
   "outputs": [
    {
     "data": {
      "text/plain": [
       "(2919, 233)"
      ]
     },
     "execution_count": 41,
     "metadata": {},
     "output_type": "execute_result"
    }
   ],
   "source": [
    "\n",
    "data_set_En=pd.get_dummies(data_set.drop(['data_flag','Fence','FireplaceQu'],axis=1))\n",
    "data_set_En.shape"
   ]
  },
  {
   "cell_type": "markdown",
   "metadata": {},
   "source": [
    "### 数据集划分"
   ]
  },
  {
   "cell_type": "code",
   "execution_count": 42,
   "metadata": {},
   "outputs": [
    {
     "data": {
      "text/plain": [
       "(1460, 233)"
      ]
     },
     "execution_count": 42,
     "metadata": {},
     "output_type": "execute_result"
    }
   ],
   "source": [
    "data_set_En['data_flag']=data_set['data_flag']\n",
    "data_train_En = data_set_En[data_set_En['data_flag']=='train']\n",
    "# data_train_En['SalePrice']=target\n",
    "data_train_En = data_train_En.drop('data_flag', axis=1)\n",
    "data_test_En = data_set_En[data_set_En['data_flag']=='test']\n",
    "data_test_En = data_test_En.drop('data_flag', axis=1)\n",
    "\n",
    "data_train_En.shape\n",
    "# data_test_En.shape"
   ]
  },
  {
   "cell_type": "code",
   "execution_count": 151,
   "metadata": {
    "collapsed": true,
    "scrolled": true
   },
   "outputs": [],
   "source": [
    "# data_train_En"
   ]
  },
  {
   "cell_type": "code",
   "execution_count": 43,
   "metadata": {
    "scrolled": true
   },
   "outputs": [
    {
     "data": {
      "text/plain": [
       "(1459, 233)"
      ]
     },
     "execution_count": 43,
     "metadata": {},
     "output_type": "execute_result"
    }
   ],
   "source": [
    "data_test_En.shape\n",
    "# data_test_En"
   ]
  },
  {
   "cell_type": "markdown",
   "metadata": {},
   "source": [
    "### 划分训练集和验证集"
   ]
  },
  {
   "cell_type": "code",
   "execution_count": 16,
   "metadata": {},
   "outputs": [
    {
     "data": {
      "text/plain": [
       "(978, 232)"
      ]
     },
     "execution_count": 16,
     "metadata": {},
     "output_type": "execute_result"
    }
   ],
   "source": [
    "from sklearn.model_selection import train_test_split\n",
    "# data_train_En=data_train_En.drop('Id',axis=1)\n",
    "# dt_train.head()\n",
    "tar_log=np.log(target)#对目标进行对数变换\n",
    "X_train, X_test, y_train, y_test = train_test_split(data_train_En.drop('Id',axis=1),tar_log,test_size=.33, random_state=42)\n",
    "\n",
    "X_train.shape\n"
   ]
  },
  {
   "cell_type": "code",
   "execution_count": 75,
   "metadata": {},
   "outputs": [
    {
     "data": {
      "text/plain": [
       "(482, 243)"
      ]
     },
     "execution_count": 75,
     "metadata": {},
     "output_type": "execute_result"
    }
   ],
   "source": [
    "X_test.shape"
   ]
  },
  {
   "cell_type": "markdown",
   "metadata": {},
   "source": [
    "### 建立模型"
   ]
  },
  {
   "cell_type": "markdown",
   "metadata": {},
   "source": [
    "* 线性回归模型"
   ]
  },
  {
   "cell_type": "code",
   "execution_count": 17,
   "metadata": {},
   "outputs": [
    {
     "data": {
      "text/plain": [
       "0.9018951011592625"
      ]
     },
     "execution_count": 17,
     "metadata": {},
     "output_type": "execute_result"
    }
   ],
   "source": [
    "from sklearn import linear_model\n",
    "LM=linear_model.LinearRegression()\n",
    "LM.fit(X_train,y_train)\n",
    "# LM.predict(train_X)\n",
    "LM.score(X_test,y_test)#查看得分 \n"
   ]
  },
  {
   "cell_type": "code",
   "execution_count": 21,
   "metadata": {},
   "outputs": [
    {
     "data": {
      "text/plain": [
       "array([123991.71833265, 127534.25393095, 180357.34944508, ...,\n",
       "       174141.57984674, 111966.03066934, 228227.21966517])"
      ]
     },
     "execution_count": 21,
     "metadata": {},
     "output_type": "execute_result"
    }
   ],
   "source": [
    "y_predict=LM.predict(data_test_En.drop('Id',axis=1))\n",
    "np.exp(y_predict)"
   ]
  },
  {
   "cell_type": "markdown",
   "metadata": {},
   "source": [
    "这个结果提交上去得的名次是2000多名"
   ]
  },
  {
   "attachments": {
    "1.jpg": {
     "image/jpeg": "[encoded data removed]"
    }
   },
   "cell_type": "markdown",
   "metadata": {},
   "source": [
    "![1.jpg](attachment:1.jpg)"
   ]
  },
  {
   "cell_type": "code",
   "execution_count": 83,
   "metadata": {},
   "outputs": [
    {
     "data": {
      "text/plain": [
       "0.89862912540519224"
      ]
     },
     "execution_count": 83,
     "metadata": {},
     "output_type": "execute_result"
    }
   ],
   "source": [
    "R=linear_model.Ridge(alpha=1.0)\n",
    "R.fit(X_train,y_train)\n",
    "R.predict(X_test)\n",
    "R.score(X_test,y_test)\n"
   ]
  },
  {
   "cell_type": "markdown",
   "metadata": {},
   "source": [
    "### 树回归和交叉验证"
   ]
  },
  {
   "cell_type": "code",
   "execution_count": 92,
   "metadata": {
    "collapsed": true
   },
   "outputs": [],
   "source": [
    "from sklearn.model_selection import train_test_split\n",
    "from sklearn.ensemble import RandomForestRegressor \n",
    "from sklearn.metrics import r2_score, make_scorer, mean_squared_error \n",
    "from sklearn.model_selection import GridSearchCV \n",
    "from sklearn.model_selection import RandomizedSearchCV \n",
    "from sklearn.model_selection import ShuffleSplit "
   ]
  },
  {
   "cell_type": "code",
   "execution_count": 80,
   "metadata": {
    "collapsed": true
   },
   "outputs": [],
   "source": [
    "rf_regressor = RandomForestRegressor(random_state=24) \n",
    "cv_sets = ShuffleSplit(random_state = 4) \n",
    "parameters = {'n_estimators':[100, 120, 140], 'min_samples_leaf':[1, 2, 3], 'max_depth':[10,15,20]} \n",
    "scorer = make_scorer(r2_score) \n",
    "n_iter_search = 10 \n",
    "grid_obj = RandomizedSearchCV(rf_regressor, parameters, n_iter = n_iter_search, scoring = scorer, cv = cv_sets, random_state= 99) \n",
    "grid_fit = grid_obj.fit(X_train,y_train) \n",
    "rf_opt = grid_fit.best_estimator_ \n",
    "rf_opt.score(X_test,y_test)"
   ]
  },
  {
   "cell_type": "code",
   "execution_count": 82,
   "metadata": {},
   "outputs": [
    {
     "data": {
      "text/plain": [
       "0.8807301899820642"
      ]
     },
     "execution_count": 82,
     "metadata": {},
     "output_type": "execute_result"
    }
   ],
   "source": [
    "rf_opt.score(X_test,y_test)\n",
    "# rf_opt.predict()"
   ]
  },
  {
   "cell_type": "markdown",
   "metadata": {},
   "source": [
    "### 结果不理想，尝试重新处理数据"
   ]
  },
  {
   "cell_type": "markdown",
   "metadata": {},
   "source": [
    "因为一开始这两列空值比较多，保留了下来，尝试删除这两列'Fence','FireplaceQuw"
   ]
  },
  {
   "cell_type": "code",
   "execution_count": 44,
   "metadata": {
    "scrolled": true
   },
   "outputs": [
    {
     "data": {
      "text/plain": [
       "(2919, 233)"
      ]
     },
     "execution_count": 44,
     "metadata": {},
     "output_type": "execute_result"
    }
   ],
   "source": [
    "data_set_En_2=pd.get_dummies(data_set.drop(['data_flag','Fence','FireplaceQu'],axis=1))#\n",
    "data_set_En_2.shape"
   ]
  },
  {
   "cell_type": "markdown",
   "metadata": {},
   "source": [
    "* 重新划分训练集和测试集"
   ]
  },
  {
   "cell_type": "code",
   "execution_count": 25,
   "metadata": {
    "collapsed": true
   },
   "outputs": [],
   "source": [
    "# data_train_En_2 = data_train_En.drop(data_train_En[data_train_En['Id'] == 1299].index)\n",
    "# data_train_En_2 = data_train_En_2.drop(data_train_En_2[data_train_En_2['Id'] == 524].index)\n",
    "# data_train_En_2['SalePrice']=target\n",
    "# data_train_En_2.shape#(2915, 35)\n",
    "data_set_En_2['data_flag']=data_set['data_flag']\n",
    "data_train_En_2 = data_set_En_2[data_set_En_2['data_flag']=='train']\n",
    "data_train_En_2 = data_train_En_2.drop('data_flag', axis=1)\n",
    "data_test_En_2 = data_set_En_2[data_set_En_2['data_flag']=='test']\n",
    "data_test_En_2= data_test_En_2.drop('data_flag', axis=1)\n"
   ]
  },
  {
   "cell_type": "code",
   "execution_count": 26,
   "metadata": {},
   "outputs": [
    {
     "data": {
      "text/plain": [
       "(1459, 233)"
      ]
     },
     "execution_count": 26,
     "metadata": {},
     "output_type": "execute_result"
    }
   ],
   "source": [
    "data_train_En_2.shape#(1460, 233)\n",
    "data_test_En_2.shape#(1459, 233)"
   ]
  },
  {
   "cell_type": "markdown",
   "metadata": {},
   "source": [
    "* 重新建模"
   ]
  },
  {
   "cell_type": "code",
   "execution_count": 27,
   "metadata": {},
   "outputs": [
    {
     "data": {
      "text/plain": [
       "(1168, 232)"
      ]
     },
     "execution_count": 27,
     "metadata": {},
     "output_type": "execute_result"
    }
   ],
   "source": [
    "X_train_2, X_test_2, y_train_2, y_test_2 = train_test_split(data_train_En_2.drop('Id',axis=1),tar_log,test_size=.2, random_state=42)\n",
    "\n",
    "X_train_2.shape"
   ]
  },
  {
   "cell_type": "code",
   "execution_count": 28,
   "metadata": {},
   "outputs": [
    {
     "data": {
      "text/plain": [
       "0.9105050488426489"
      ]
     },
     "execution_count": 28,
     "metadata": {},
     "output_type": "execute_result"
    }
   ],
   "source": [
    "LM2=linear_model.LinearRegression()\n",
    "LM2.fit(X_train_2,y_train_2)\n",
    "# LM.predict(train_X)\n",
    "LM2.score(X_test_2,y_test_2)#查看得分 \n",
    "# '''结果比第一次0.90185507981535917稍微好一点''"
   ]
  },
  {
   "cell_type": "code",
   "execution_count": 29,
   "metadata": {
    "collapsed": true
   },
   "outputs": [],
   "source": [
    "test_predict=LM2.predict(data_test_En_2.drop('Id',axis=1))"
   ]
  },
  {
   "cell_type": "code",
   "execution_count": 45,
   "metadata": {},
   "outputs": [
    {
     "data": {
      "text/plain": [
       "array([124777.70467126, 160413.88216727, 180342.35673347, ...,\n",
       "       169155.87704003, 118125.10107379, 223379.93163963])"
      ]
     },
     "execution_count": 45,
     "metadata": {},
     "output_type": "execute_result"
    }
   ],
   "source": [
    "np.exp(test_predict)#该结果提交进步了一些，进入到了１９００多名"
   ]
  },
  {
   "cell_type": "markdown",
   "metadata": {},
   "source": [
    "对数据集做删除'Fence','FireplaceQuw'这两列并且划分20%的测试集之后，简单的线性回归模型，score有所提高，并且再次提交，名次有所上升"
   ]
  },
  {
   "attachments": {
    "2.jpg": {
     "image/jpeg": "[encoded data removed]"
    }
   },
   "cell_type": "markdown",
   "metadata": {},
   "source": [
    "![2.jpg](attachment:2.jpg)"
   ]
  },
  {
   "cell_type": "code",
   "execution_count": 98,
   "metadata": {},
   "outputs": [
    {
     "data": {
      "text/plain": [
       "0.88573556233017914"
      ]
     },
     "execution_count": 98,
     "metadata": {},
     "output_type": "execute_result"
    }
   ],
   "source": [
    "rf_regressor = RandomForestRegressor(random_state=24) \n",
    "cv_sets = ShuffleSplit(random_state = 4) \n",
    "parameters = {'n_estimators':[100, 120, 140,160,180], 'min_samples_leaf':[1, 2, 3], 'max_depth':[5,7,9,10,13,15,20]} \n",
    "scorer = make_scorer(r2_score) \n",
    "n_iter_search = 20\n",
    "grid_obj = RandomizedSearchCV(rf_regressor, parameters, n_iter = n_iter_search, scoring = scorer, cv = cv_sets, random_state= 99) \n",
    "grid_fit = grid_obj.fit(X_train_2,y_train_2) \n",
    "rf_opt = grid_fit.best_estimator_ \n",
    "rf_opt.score(X_test_2,y_test_2)"
   ]
  },
  {
   "cell_type": "markdown",
   "metadata": {},
   "source": [
    "### 第三次再处理数据"
   ]
  },
  {
   "cell_type": "markdown",
   "metadata": {},
   "source": [
    "### 发现int类型的数据有一部分其实是类别型数据\n",
    "* ['MSSubClass','OverallQual','OverallCond']虽然这三列类型为整型数据，但其实表达的是类别数据\n",
    "* ['Street','Utilities','CentralAir']这三列数据虽然为类别型数据，但是几乎填充的是同一类别，因而认为对结果影响不打，去掉"
   ]
  },
  {
   "cell_type": "code",
   "execution_count": 56,
   "metadata": {},
   "outputs": [
    {
     "data": {
      "text/html": [
       "<div>\n",
       "<style scoped>\n",
       "    .dataframe tbody tr th:only-of-type {\n",
       "        vertical-align: middle;\n",
       "    }\n",
       "\n",
       "    .dataframe tbody tr th {\n",
       "        vertical-align: top;\n",
       "    }\n",
       "\n",
       "    .dataframe thead th {\n",
       "        text-align: right;\n",
       "    }\n",
       "</style>\n",
       "<table border=\"1\" class=\"dataframe\">\n",
       "  <thead>\n",
       "    <tr style=\"text-align: right;\">\n",
       "      <th></th>\n",
       "      <th>Street</th>\n",
       "      <th>Utilities</th>\n",
       "      <th>CentralAir</th>\n",
       "    </tr>\n",
       "  </thead>\n",
       "  <tbody>\n",
       "    <tr>\n",
       "      <th>count</th>\n",
       "      <td>2919</td>\n",
       "      <td>2919</td>\n",
       "      <td>2919</td>\n",
       "    </tr>\n",
       "    <tr>\n",
       "      <th>unique</th>\n",
       "      <td>2</td>\n",
       "      <td>2</td>\n",
       "      <td>2</td>\n",
       "    </tr>\n",
       "    <tr>\n",
       "      <th>top</th>\n",
       "      <td>Pave</td>\n",
       "      <td>AllPub</td>\n",
       "      <td>Y</td>\n",
       "    </tr>\n",
       "    <tr>\n",
       "      <th>freq</th>\n",
       "      <td>2907</td>\n",
       "      <td>2918</td>\n",
       "      <td>2723</td>\n",
       "    </tr>\n",
       "  </tbody>\n",
       "</table>\n",
       "</div>"
      ],
      "text/plain": [
       "       Street Utilities CentralAir\n",
       "count    2919      2919       2919\n",
       "unique      2         2          2\n",
       "top      Pave    AllPub          Y\n",
       "freq     2907      2918       2723"
      ]
     },
     "execution_count": 56,
     "metadata": {},
     "output_type": "execute_result"
    }
   ],
   "source": [
    "data_set[['Street','Utilities','CentralAir']].describe()#几乎为同一类别"
   ]
  },
  {
   "cell_type": "code",
   "execution_count": 57,
   "metadata": {},
   "outputs": [
    {
     "data": {
      "text/plain": [
       "(2919, 98)"
      ]
     },
     "execution_count": 57,
     "metadata": {},
     "output_type": "execute_result"
    }
   ],
   "source": [
    "aa=data_set[['MSSubClass','OverallQual','OverallCond']].astype(object)#OverallQual  OverallCond\n",
    "bb=pd.get_dummies(aa)#把['MSSubClass','OverallQual','OverallCond']独热向量化\n",
    "bb.shape#(2919, 35)\n",
    "# type(bb)\n",
    "cc=data_set.drop(['MSSubClass','OverallQual','OverallCond','Fence','FireplaceQu'],axis=1)#'Fence','FireplaceQu'这两列同上次处理一样\n",
    "# type(cc)\n",
    "new_data_set=pd.concat([cc,bb],axis=1)#合并成新的数据集\n",
    "new_data_set.shape#(2919, 100) "
   ]
  },
  {
   "cell_type": "code",
   "execution_count": 68,
   "metadata": {},
   "outputs": [
    {
     "data": {
      "text/html": [
       "<div>\n",
       "<style scoped>\n",
       "    .dataframe tbody tr th:only-of-type {\n",
       "        vertical-align: middle;\n",
       "    }\n",
       "\n",
       "    .dataframe tbody tr th {\n",
       "        vertical-align: top;\n",
       "    }\n",
       "\n",
       "    .dataframe thead th {\n",
       "        text-align: right;\n",
       "    }\n",
       "</style>\n",
       "<table border=\"1\" class=\"dataframe\">\n",
       "  <thead>\n",
       "    <tr style=\"text-align: right;\">\n",
       "      <th></th>\n",
       "      <th>Id</th>\n",
       "      <th>LotFrontage</th>\n",
       "      <th>LotArea</th>\n",
       "      <th>YearBuilt</th>\n",
       "      <th>YearRemodAdd</th>\n",
       "      <th>BsmtFinSF1</th>\n",
       "      <th>BsmtFinSF2</th>\n",
       "      <th>BsmtUnfSF</th>\n",
       "      <th>TotalBsmtSF</th>\n",
       "      <th>1stFlrSF</th>\n",
       "      <th>...</th>\n",
       "      <th>OverallQual_10</th>\n",
       "      <th>OverallCond_1</th>\n",
       "      <th>OverallCond_2</th>\n",
       "      <th>OverallCond_3</th>\n",
       "      <th>OverallCond_4</th>\n",
       "      <th>OverallCond_5</th>\n",
       "      <th>OverallCond_6</th>\n",
       "      <th>OverallCond_7</th>\n",
       "      <th>OverallCond_8</th>\n",
       "      <th>OverallCond_9</th>\n",
       "    </tr>\n",
       "  </thead>\n",
       "  <tbody>\n",
       "    <tr>\n",
       "      <th>count</th>\n",
       "      <td>2919.000000</td>\n",
       "      <td>2919.000000</td>\n",
       "      <td>2919.000000</td>\n",
       "      <td>2919.000000</td>\n",
       "      <td>2919.000000</td>\n",
       "      <td>2919.000000</td>\n",
       "      <td>2919.000000</td>\n",
       "      <td>2919.000000</td>\n",
       "      <td>2919.000000</td>\n",
       "      <td>2919.000000</td>\n",
       "      <td>...</td>\n",
       "      <td>2919.000000</td>\n",
       "      <td>2919.000000</td>\n",
       "      <td>2919.000000</td>\n",
       "      <td>2919.000000</td>\n",
       "      <td>2919.000000</td>\n",
       "      <td>2919.000000</td>\n",
       "      <td>2919.000000</td>\n",
       "      <td>2919.000000</td>\n",
       "      <td>2919.000000</td>\n",
       "      <td>2919.000000</td>\n",
       "    </tr>\n",
       "    <tr>\n",
       "      <th>mean</th>\n",
       "      <td>1460.000000</td>\n",
       "      <td>57.766701</td>\n",
       "      <td>10168.114080</td>\n",
       "      <td>1971.312778</td>\n",
       "      <td>1984.264474</td>\n",
       "      <td>441.272011</td>\n",
       "      <td>49.565262</td>\n",
       "      <td>560.579993</td>\n",
       "      <td>1051.417266</td>\n",
       "      <td>1159.581706</td>\n",
       "      <td>...</td>\n",
       "      <td>0.010620</td>\n",
       "      <td>0.002398</td>\n",
       "      <td>0.003426</td>\n",
       "      <td>0.017129</td>\n",
       "      <td>0.034601</td>\n",
       "      <td>0.563549</td>\n",
       "      <td>0.181912</td>\n",
       "      <td>0.133607</td>\n",
       "      <td>0.049332</td>\n",
       "      <td>0.014046</td>\n",
       "    </tr>\n",
       "    <tr>\n",
       "      <th>std</th>\n",
       "      <td>842.787043</td>\n",
       "      <td>33.481636</td>\n",
       "      <td>7886.996359</td>\n",
       "      <td>30.291442</td>\n",
       "      <td>20.894344</td>\n",
       "      <td>455.606014</td>\n",
       "      <td>169.179104</td>\n",
       "      <td>439.590889</td>\n",
       "      <td>441.120498</td>\n",
       "      <td>392.362079</td>\n",
       "      <td>...</td>\n",
       "      <td>0.102523</td>\n",
       "      <td>0.048920</td>\n",
       "      <td>0.058440</td>\n",
       "      <td>0.129775</td>\n",
       "      <td>0.182798</td>\n",
       "      <td>0.496030</td>\n",
       "      <td>0.385838</td>\n",
       "      <td>0.340288</td>\n",
       "      <td>0.216597</td>\n",
       "      <td>0.117700</td>\n",
       "    </tr>\n",
       "    <tr>\n",
       "      <th>min</th>\n",
       "      <td>1.000000</td>\n",
       "      <td>0.000000</td>\n",
       "      <td>1300.000000</td>\n",
       "      <td>1872.000000</td>\n",
       "      <td>1950.000000</td>\n",
       "      <td>0.000000</td>\n",
       "      <td>0.000000</td>\n",
       "      <td>0.000000</td>\n",
       "      <td>0.000000</td>\n",
       "      <td>334.000000</td>\n",
       "      <td>...</td>\n",
       "      <td>0.000000</td>\n",
       "      <td>0.000000</td>\n",
       "      <td>0.000000</td>\n",
       "      <td>0.000000</td>\n",
       "      <td>0.000000</td>\n",
       "      <td>0.000000</td>\n",
       "      <td>0.000000</td>\n",
       "      <td>0.000000</td>\n",
       "      <td>0.000000</td>\n",
       "      <td>0.000000</td>\n",
       "    </tr>\n",
       "    <tr>\n",
       "      <th>25%</th>\n",
       "      <td>730.500000</td>\n",
       "      <td>43.000000</td>\n",
       "      <td>7478.000000</td>\n",
       "      <td>1953.500000</td>\n",
       "      <td>1965.000000</td>\n",
       "      <td>0.000000</td>\n",
       "      <td>0.000000</td>\n",
       "      <td>220.000000</td>\n",
       "      <td>793.000000</td>\n",
       "      <td>876.000000</td>\n",
       "      <td>...</td>\n",
       "      <td>0.000000</td>\n",
       "      <td>0.000000</td>\n",
       "      <td>0.000000</td>\n",
       "      <td>0.000000</td>\n",
       "      <td>0.000000</td>\n",
       "      <td>0.000000</td>\n",
       "      <td>0.000000</td>\n",
       "      <td>0.000000</td>\n",
       "      <td>0.000000</td>\n",
       "      <td>0.000000</td>\n",
       "    </tr>\n",
       "    <tr>\n",
       "      <th>50%</th>\n",
       "      <td>1460.000000</td>\n",
       "      <td>63.000000</td>\n",
       "      <td>9453.000000</td>\n",
       "      <td>1973.000000</td>\n",
       "      <td>1993.000000</td>\n",
       "      <td>368.000000</td>\n",
       "      <td>0.000000</td>\n",
       "      <td>467.000000</td>\n",
       "      <td>989.000000</td>\n",
       "      <td>1082.000000</td>\n",
       "      <td>...</td>\n",
       "      <td>0.000000</td>\n",
       "      <td>0.000000</td>\n",
       "      <td>0.000000</td>\n",
       "      <td>0.000000</td>\n",
       "      <td>0.000000</td>\n",
       "      <td>1.000000</td>\n",
       "      <td>0.000000</td>\n",
       "      <td>0.000000</td>\n",
       "      <td>0.000000</td>\n",
       "      <td>0.000000</td>\n",
       "    </tr>\n",
       "    <tr>\n",
       "      <th>75%</th>\n",
       "      <td>2189.500000</td>\n",
       "      <td>78.000000</td>\n",
       "      <td>11570.000000</td>\n",
       "      <td>2001.000000</td>\n",
       "      <td>2004.000000</td>\n",
       "      <td>733.000000</td>\n",
       "      <td>0.000000</td>\n",
       "      <td>805.000000</td>\n",
       "      <td>1302.000000</td>\n",
       "      <td>1387.500000</td>\n",
       "      <td>...</td>\n",
       "      <td>0.000000</td>\n",
       "      <td>0.000000</td>\n",
       "      <td>0.000000</td>\n",
       "      <td>0.000000</td>\n",
       "      <td>0.000000</td>\n",
       "      <td>1.000000</td>\n",
       "      <td>0.000000</td>\n",
       "      <td>0.000000</td>\n",
       "      <td>0.000000</td>\n",
       "      <td>0.000000</td>\n",
       "    </tr>\n",
       "    <tr>\n",
       "      <th>max</th>\n",
       "      <td>2919.000000</td>\n",
       "      <td>313.000000</td>\n",
       "      <td>215245.000000</td>\n",
       "      <td>2010.000000</td>\n",
       "      <td>2010.000000</td>\n",
       "      <td>5644.000000</td>\n",
       "      <td>1526.000000</td>\n",
       "      <td>2336.000000</td>\n",
       "      <td>6110.000000</td>\n",
       "      <td>5095.000000</td>\n",
       "      <td>...</td>\n",
       "      <td>1.000000</td>\n",
       "      <td>1.000000</td>\n",
       "      <td>1.000000</td>\n",
       "      <td>1.000000</td>\n",
       "      <td>1.000000</td>\n",
       "      <td>1.000000</td>\n",
       "      <td>1.000000</td>\n",
       "      <td>1.000000</td>\n",
       "      <td>1.000000</td>\n",
       "      <td>1.000000</td>\n",
       "    </tr>\n",
       "  </tbody>\n",
       "</table>\n",
       "<p>8 rows × 67 columns</p>\n",
       "</div>"
      ],
      "text/plain": [
       "                Id  LotFrontage        LotArea    YearBuilt  YearRemodAdd  \\\n",
       "count  2919.000000  2919.000000    2919.000000  2919.000000   2919.000000   \n",
       "mean   1460.000000    57.766701   10168.114080  1971.312778   1984.264474   \n",
       "std     842.787043    33.481636    7886.996359    30.291442     20.894344   \n",
       "min       1.000000     0.000000    1300.000000  1872.000000   1950.000000   \n",
       "25%     730.500000    43.000000    7478.000000  1953.500000   1965.000000   \n",
       "50%    1460.000000    63.000000    9453.000000  1973.000000   1993.000000   \n",
       "75%    2189.500000    78.000000   11570.000000  2001.000000   2004.000000   \n",
       "max    2919.000000   313.000000  215245.000000  2010.000000   2010.000000   \n",
       "\n",
       "        BsmtFinSF1   BsmtFinSF2    BsmtUnfSF  TotalBsmtSF     1stFlrSF  \\\n",
       "count  2919.000000  2919.000000  2919.000000  2919.000000  2919.000000   \n",
       "mean    441.272011    49.565262   560.579993  1051.417266  1159.581706   \n",
       "std     455.606014   169.179104   439.590889   441.120498   392.362079   \n",
       "min       0.000000     0.000000     0.000000     0.000000   334.000000   \n",
       "25%       0.000000     0.000000   220.000000   793.000000   876.000000   \n",
       "50%     368.000000     0.000000   467.000000   989.000000  1082.000000   \n",
       "75%     733.000000     0.000000   805.000000  1302.000000  1387.500000   \n",
       "max    5644.000000  1526.000000  2336.000000  6110.000000  5095.000000   \n",
       "\n",
       "           ...        OverallQual_10  OverallCond_1  OverallCond_2  \\\n",
       "count      ...           2919.000000    2919.000000    2919.000000   \n",
       "mean       ...              0.010620       0.002398       0.003426   \n",
       "std        ...              0.102523       0.048920       0.058440   \n",
       "min        ...              0.000000       0.000000       0.000000   \n",
       "25%        ...              0.000000       0.000000       0.000000   \n",
       "50%        ...              0.000000       0.000000       0.000000   \n",
       "75%        ...              0.000000       0.000000       0.000000   \n",
       "max        ...              1.000000       1.000000       1.000000   \n",
       "\n",
       "       OverallCond_3  OverallCond_4  OverallCond_5  OverallCond_6  \\\n",
       "count    2919.000000    2919.000000    2919.000000    2919.000000   \n",
       "mean        0.017129       0.034601       0.563549       0.181912   \n",
       "std         0.129775       0.182798       0.496030       0.385838   \n",
       "min         0.000000       0.000000       0.000000       0.000000   \n",
       "25%         0.000000       0.000000       0.000000       0.000000   \n",
       "50%         0.000000       0.000000       1.000000       0.000000   \n",
       "75%         0.000000       0.000000       1.000000       0.000000   \n",
       "max         1.000000       1.000000       1.000000       1.000000   \n",
       "\n",
       "       OverallCond_7  OverallCond_8  OverallCond_9  \n",
       "count    2919.000000    2919.000000    2919.000000  \n",
       "mean        0.133607       0.049332       0.014046  \n",
       "std         0.340288       0.216597       0.117700  \n",
       "min         0.000000       0.000000       0.000000  \n",
       "25%         0.000000       0.000000       0.000000  \n",
       "50%         0.000000       0.000000       0.000000  \n",
       "75%         0.000000       0.000000       0.000000  \n",
       "max         1.000000       1.000000       1.000000  \n",
       "\n",
       "[8 rows x 67 columns]"
      ]
     },
     "execution_count": 68,
     "metadata": {},
     "output_type": "execute_result"
    }
   ],
   "source": [
    "new_data_set.select_dtypes(exclude=['object']).describe()"
   ]
  },
  {
   "cell_type": "code",
   "execution_count": 58,
   "metadata": {},
   "outputs": [
    {
     "data": {
      "text/plain": [
       "(2919, 260)"
      ]
     },
     "execution_count": 58,
     "metadata": {},
     "output_type": "execute_result"
    }
   ],
   "source": [
    "'''重新独热向量编码'''\n",
    "new_data_set_En=pd.get_dummies(new_data_set.drop(['data_flag','Street','Utilities','CentralAir'],axis=1))#去除3列几乎没有变化的列\n",
    "new_data_set_En['data_flag']=new_data_set['data_flag']\n",
    "new_data_set_En.shape#(2919, 277) 所有数据做完独热之后的shape\n",
    "\n",
    "# new_data_set_En.reindex"
   ]
  },
  {
   "cell_type": "markdown",
   "metadata": {},
   "source": [
    "### 年份做处理 \n",
    "* 年份数据数字太大，但表达的意思其实是代表房子建筑年龄"
   ]
  },
  {
   "cell_type": "code",
   "execution_count": 59,
   "metadata": {
    "scrolled": true
   },
   "outputs": [
    {
     "data": {
      "text/html": [
       "<div>\n",
       "<style scoped>\n",
       "    .dataframe tbody tr th:only-of-type {\n",
       "        vertical-align: middle;\n",
       "    }\n",
       "\n",
       "    .dataframe tbody tr th {\n",
       "        vertical-align: top;\n",
       "    }\n",
       "\n",
       "    .dataframe thead th {\n",
       "        text-align: right;\n",
       "    }\n",
       "</style>\n",
       "<table border=\"1\" class=\"dataframe\">\n",
       "  <thead>\n",
       "    <tr style=\"text-align: right;\">\n",
       "      <th></th>\n",
       "      <th>YearBuilt</th>\n",
       "      <th>YearRemodAdd</th>\n",
       "    </tr>\n",
       "  </thead>\n",
       "  <tbody>\n",
       "    <tr>\n",
       "      <th>count</th>\n",
       "      <td>2919.000000</td>\n",
       "      <td>2919.000000</td>\n",
       "    </tr>\n",
       "    <tr>\n",
       "      <th>mean</th>\n",
       "      <td>1971.312778</td>\n",
       "      <td>1984.264474</td>\n",
       "    </tr>\n",
       "    <tr>\n",
       "      <th>std</th>\n",
       "      <td>30.291442</td>\n",
       "      <td>20.894344</td>\n",
       "    </tr>\n",
       "    <tr>\n",
       "      <th>min</th>\n",
       "      <td>1872.000000</td>\n",
       "      <td>1950.000000</td>\n",
       "    </tr>\n",
       "    <tr>\n",
       "      <th>25%</th>\n",
       "      <td>1953.500000</td>\n",
       "      <td>1965.000000</td>\n",
       "    </tr>\n",
       "    <tr>\n",
       "      <th>50%</th>\n",
       "      <td>1973.000000</td>\n",
       "      <td>1993.000000</td>\n",
       "    </tr>\n",
       "    <tr>\n",
       "      <th>75%</th>\n",
       "      <td>2001.000000</td>\n",
       "      <td>2004.000000</td>\n",
       "    </tr>\n",
       "    <tr>\n",
       "      <th>max</th>\n",
       "      <td>2010.000000</td>\n",
       "      <td>2010.000000</td>\n",
       "    </tr>\n",
       "  </tbody>\n",
       "</table>\n",
       "</div>"
      ],
      "text/plain": [
       "         YearBuilt  YearRemodAdd\n",
       "count  2919.000000   2919.000000\n",
       "mean   1971.312778   1984.264474\n",
       "std      30.291442     20.894344\n",
       "min    1872.000000   1950.000000\n",
       "25%    1953.500000   1965.000000\n",
       "50%    1973.000000   1993.000000\n",
       "75%    2001.000000   2004.000000\n",
       "max    2010.000000   2010.000000"
      ]
     },
     "execution_count": 59,
     "metadata": {},
     "output_type": "execute_result"
    }
   ],
   "source": [
    "'''年份做处理'''\n",
    "new_data_set_En[['YearBuilt','YearRemodAdd']].describe()#可以看到最大年份是2010，"
   ]
  },
  {
   "cell_type": "code",
   "execution_count": 60,
   "metadata": {
    "collapsed": true
   },
   "outputs": [],
   "source": [
    "#2010作为基准，处理关于年份的数列\n",
    "new_data_set_En['YearBuilt_M']=2010-new_data_set_En['YearBuilt']\n",
    "new_data_set_En['YearRemodAdd']=2010-new_data_set_En['YearRemodAdd']\n"
   ]
  },
  {
   "cell_type": "code",
   "execution_count": 61,
   "metadata": {
    "collapsed": true
   },
   "outputs": [],
   "source": [
    "new_data_set_En=new_data_set_En.drop(['YearBuilt','YearRemodAdd'],axis=1)"
   ]
  },
  {
   "cell_type": "code",
   "execution_count": 67,
   "metadata": {},
   "outputs": [
    {
     "data": {
      "text/html": [
       "<div>\n",
       "<style scoped>\n",
       "    .dataframe tbody tr th:only-of-type {\n",
       "        vertical-align: middle;\n",
       "    }\n",
       "\n",
       "    .dataframe tbody tr th {\n",
       "        vertical-align: top;\n",
       "    }\n",
       "\n",
       "    .dataframe thead th {\n",
       "        text-align: right;\n",
       "    }\n",
       "</style>\n",
       "<table border=\"1\" class=\"dataframe\">\n",
       "  <thead>\n",
       "    <tr style=\"text-align: right;\">\n",
       "      <th></th>\n",
       "      <th>Id</th>\n",
       "      <th>LotFrontage</th>\n",
       "      <th>LotArea</th>\n",
       "      <th>BsmtFinSF1</th>\n",
       "      <th>BsmtFinSF2</th>\n",
       "      <th>BsmtUnfSF</th>\n",
       "      <th>TotalBsmtSF</th>\n",
       "      <th>1stFlrSF</th>\n",
       "      <th>2ndFlrSF</th>\n",
       "      <th>LowQualFinSF</th>\n",
       "      <th>...</th>\n",
       "      <th>SaleType_New</th>\n",
       "      <th>SaleType_Oth</th>\n",
       "      <th>SaleType_WD</th>\n",
       "      <th>SaleCondition_Abnorml</th>\n",
       "      <th>SaleCondition_AdjLand</th>\n",
       "      <th>SaleCondition_Alloca</th>\n",
       "      <th>SaleCondition_Family</th>\n",
       "      <th>SaleCondition_Normal</th>\n",
       "      <th>SaleCondition_Partial</th>\n",
       "      <th>YearBuilt_M</th>\n",
       "    </tr>\n",
       "  </thead>\n",
       "  <tbody>\n",
       "    <tr>\n",
       "      <th>count</th>\n",
       "      <td>2919.000000</td>\n",
       "      <td>2919.000000</td>\n",
       "      <td>2919.000000</td>\n",
       "      <td>2919.000000</td>\n",
       "      <td>2919.000000</td>\n",
       "      <td>2919.000000</td>\n",
       "      <td>2919.000000</td>\n",
       "      <td>2919.000000</td>\n",
       "      <td>2919.000000</td>\n",
       "      <td>2919.000000</td>\n",
       "      <td>...</td>\n",
       "      <td>2919.000000</td>\n",
       "      <td>2919.000000</td>\n",
       "      <td>2919.000000</td>\n",
       "      <td>2919.000000</td>\n",
       "      <td>2919.000000</td>\n",
       "      <td>2919.000000</td>\n",
       "      <td>2919.000000</td>\n",
       "      <td>2919.000000</td>\n",
       "      <td>2919.000000</td>\n",
       "      <td>2919.000000</td>\n",
       "    </tr>\n",
       "    <tr>\n",
       "      <th>mean</th>\n",
       "      <td>1460.000000</td>\n",
       "      <td>57.766701</td>\n",
       "      <td>10168.114080</td>\n",
       "      <td>441.272011</td>\n",
       "      <td>49.565262</td>\n",
       "      <td>560.579993</td>\n",
       "      <td>1051.417266</td>\n",
       "      <td>1159.581706</td>\n",
       "      <td>336.483727</td>\n",
       "      <td>4.694416</td>\n",
       "      <td>...</td>\n",
       "      <td>0.081877</td>\n",
       "      <td>0.002398</td>\n",
       "      <td>0.865365</td>\n",
       "      <td>0.065091</td>\n",
       "      <td>0.004111</td>\n",
       "      <td>0.008222</td>\n",
       "      <td>0.015759</td>\n",
       "      <td>0.822885</td>\n",
       "      <td>0.083933</td>\n",
       "      <td>38.687222</td>\n",
       "    </tr>\n",
       "    <tr>\n",
       "      <th>std</th>\n",
       "      <td>842.787043</td>\n",
       "      <td>33.481636</td>\n",
       "      <td>7886.996359</td>\n",
       "      <td>455.606014</td>\n",
       "      <td>169.179104</td>\n",
       "      <td>439.590889</td>\n",
       "      <td>441.120498</td>\n",
       "      <td>392.362079</td>\n",
       "      <td>428.701456</td>\n",
       "      <td>46.396825</td>\n",
       "      <td>...</td>\n",
       "      <td>0.274225</td>\n",
       "      <td>0.048920</td>\n",
       "      <td>0.341392</td>\n",
       "      <td>0.246728</td>\n",
       "      <td>0.063996</td>\n",
       "      <td>0.090317</td>\n",
       "      <td>0.124562</td>\n",
       "      <td>0.381832</td>\n",
       "      <td>0.277335</td>\n",
       "      <td>30.291442</td>\n",
       "    </tr>\n",
       "    <tr>\n",
       "      <th>min</th>\n",
       "      <td>1.000000</td>\n",
       "      <td>0.000000</td>\n",
       "      <td>1300.000000</td>\n",
       "      <td>0.000000</td>\n",
       "      <td>0.000000</td>\n",
       "      <td>0.000000</td>\n",
       "      <td>0.000000</td>\n",
       "      <td>334.000000</td>\n",
       "      <td>0.000000</td>\n",
       "      <td>0.000000</td>\n",
       "      <td>...</td>\n",
       "      <td>0.000000</td>\n",
       "      <td>0.000000</td>\n",
       "      <td>0.000000</td>\n",
       "      <td>0.000000</td>\n",
       "      <td>0.000000</td>\n",
       "      <td>0.000000</td>\n",
       "      <td>0.000000</td>\n",
       "      <td>0.000000</td>\n",
       "      <td>0.000000</td>\n",
       "      <td>0.000000</td>\n",
       "    </tr>\n",
       "    <tr>\n",
       "      <th>25%</th>\n",
       "      <td>730.500000</td>\n",
       "      <td>43.000000</td>\n",
       "      <td>7478.000000</td>\n",
       "      <td>0.000000</td>\n",
       "      <td>0.000000</td>\n",
       "      <td>220.000000</td>\n",
       "      <td>793.000000</td>\n",
       "      <td>876.000000</td>\n",
       "      <td>0.000000</td>\n",
       "      <td>0.000000</td>\n",
       "      <td>...</td>\n",
       "      <td>0.000000</td>\n",
       "      <td>0.000000</td>\n",
       "      <td>1.000000</td>\n",
       "      <td>0.000000</td>\n",
       "      <td>0.000000</td>\n",
       "      <td>0.000000</td>\n",
       "      <td>0.000000</td>\n",
       "      <td>1.000000</td>\n",
       "      <td>0.000000</td>\n",
       "      <td>9.000000</td>\n",
       "    </tr>\n",
       "    <tr>\n",
       "      <th>50%</th>\n",
       "      <td>1460.000000</td>\n",
       "      <td>63.000000</td>\n",
       "      <td>9453.000000</td>\n",
       "      <td>368.000000</td>\n",
       "      <td>0.000000</td>\n",
       "      <td>467.000000</td>\n",
       "      <td>989.000000</td>\n",
       "      <td>1082.000000</td>\n",
       "      <td>0.000000</td>\n",
       "      <td>0.000000</td>\n",
       "      <td>...</td>\n",
       "      <td>0.000000</td>\n",
       "      <td>0.000000</td>\n",
       "      <td>1.000000</td>\n",
       "      <td>0.000000</td>\n",
       "      <td>0.000000</td>\n",
       "      <td>0.000000</td>\n",
       "      <td>0.000000</td>\n",
       "      <td>1.000000</td>\n",
       "      <td>0.000000</td>\n",
       "      <td>37.000000</td>\n",
       "    </tr>\n",
       "    <tr>\n",
       "      <th>75%</th>\n",
       "      <td>2189.500000</td>\n",
       "      <td>78.000000</td>\n",
       "      <td>11570.000000</td>\n",
       "      <td>733.000000</td>\n",
       "      <td>0.000000</td>\n",
       "      <td>805.000000</td>\n",
       "      <td>1302.000000</td>\n",
       "      <td>1387.500000</td>\n",
       "      <td>704.000000</td>\n",
       "      <td>0.000000</td>\n",
       "      <td>...</td>\n",
       "      <td>0.000000</td>\n",
       "      <td>0.000000</td>\n",
       "      <td>1.000000</td>\n",
       "      <td>0.000000</td>\n",
       "      <td>0.000000</td>\n",
       "      <td>0.000000</td>\n",
       "      <td>0.000000</td>\n",
       "      <td>1.000000</td>\n",
       "      <td>0.000000</td>\n",
       "      <td>56.500000</td>\n",
       "    </tr>\n",
       "    <tr>\n",
       "      <th>max</th>\n",
       "      <td>2919.000000</td>\n",
       "      <td>313.000000</td>\n",
       "      <td>215245.000000</td>\n",
       "      <td>5644.000000</td>\n",
       "      <td>1526.000000</td>\n",
       "      <td>2336.000000</td>\n",
       "      <td>6110.000000</td>\n",
       "      <td>5095.000000</td>\n",
       "      <td>2065.000000</td>\n",
       "      <td>1064.000000</td>\n",
       "      <td>...</td>\n",
       "      <td>1.000000</td>\n",
       "      <td>1.000000</td>\n",
       "      <td>1.000000</td>\n",
       "      <td>1.000000</td>\n",
       "      <td>1.000000</td>\n",
       "      <td>1.000000</td>\n",
       "      <td>1.000000</td>\n",
       "      <td>1.000000</td>\n",
       "      <td>1.000000</td>\n",
       "      <td>138.000000</td>\n",
       "    </tr>\n",
       "  </tbody>\n",
       "</table>\n",
       "<p>8 rows × 258 columns</p>\n",
       "</div>"
      ],
      "text/plain": [
       "                Id  LotFrontage        LotArea   BsmtFinSF1   BsmtFinSF2  \\\n",
       "count  2919.000000  2919.000000    2919.000000  2919.000000  2919.000000   \n",
       "mean   1460.000000    57.766701   10168.114080   441.272011    49.565262   \n",
       "std     842.787043    33.481636    7886.996359   455.606014   169.179104   \n",
       "min       1.000000     0.000000    1300.000000     0.000000     0.000000   \n",
       "25%     730.500000    43.000000    7478.000000     0.000000     0.000000   \n",
       "50%    1460.000000    63.000000    9453.000000   368.000000     0.000000   \n",
       "75%    2189.500000    78.000000   11570.000000   733.000000     0.000000   \n",
       "max    2919.000000   313.000000  215245.000000  5644.000000  1526.000000   \n",
       "\n",
       "         BsmtUnfSF  TotalBsmtSF     1stFlrSF     2ndFlrSF  LowQualFinSF  \\\n",
       "count  2919.000000  2919.000000  2919.000000  2919.000000   2919.000000   \n",
       "mean    560.579993  1051.417266  1159.581706   336.483727      4.694416   \n",
       "std     439.590889   441.120498   392.362079   428.701456     46.396825   \n",
       "min       0.000000     0.000000   334.000000     0.000000      0.000000   \n",
       "25%     220.000000   793.000000   876.000000     0.000000      0.000000   \n",
       "50%     467.000000   989.000000  1082.000000     0.000000      0.000000   \n",
       "75%     805.000000  1302.000000  1387.500000   704.000000      0.000000   \n",
       "max    2336.000000  6110.000000  5095.000000  2065.000000   1064.000000   \n",
       "\n",
       "          ...       SaleType_New  SaleType_Oth  SaleType_WD  \\\n",
       "count     ...        2919.000000   2919.000000  2919.000000   \n",
       "mean      ...           0.081877      0.002398     0.865365   \n",
       "std       ...           0.274225      0.048920     0.341392   \n",
       "min       ...           0.000000      0.000000     0.000000   \n",
       "25%       ...           0.000000      0.000000     1.000000   \n",
       "50%       ...           0.000000      0.000000     1.000000   \n",
       "75%       ...           0.000000      0.000000     1.000000   \n",
       "max       ...           1.000000      1.000000     1.000000   \n",
       "\n",
       "       SaleCondition_Abnorml  SaleCondition_AdjLand  SaleCondition_Alloca  \\\n",
       "count            2919.000000            2919.000000           2919.000000   \n",
       "mean                0.065091               0.004111              0.008222   \n",
       "std                 0.246728               0.063996              0.090317   \n",
       "min                 0.000000               0.000000              0.000000   \n",
       "25%                 0.000000               0.000000              0.000000   \n",
       "50%                 0.000000               0.000000              0.000000   \n",
       "75%                 0.000000               0.000000              0.000000   \n",
       "max                 1.000000               1.000000              1.000000   \n",
       "\n",
       "       SaleCondition_Family  SaleCondition_Normal  SaleCondition_Partial  \\\n",
       "count           2919.000000           2919.000000            2919.000000   \n",
       "mean               0.015759              0.822885               0.083933   \n",
       "std                0.124562              0.381832               0.277335   \n",
       "min                0.000000              0.000000               0.000000   \n",
       "25%                0.000000              1.000000               0.000000   \n",
       "50%                0.000000              1.000000               0.000000   \n",
       "75%                0.000000              1.000000               0.000000   \n",
       "max                1.000000              1.000000               1.000000   \n",
       "\n",
       "       YearBuilt_M  \n",
       "count  2919.000000  \n",
       "mean     38.687222  \n",
       "std      30.291442  \n",
       "min       0.000000  \n",
       "25%       9.000000  \n",
       "50%      37.000000  \n",
       "75%      56.500000  \n",
       "max     138.000000  \n",
       "\n",
       "[8 rows x 258 columns]"
      ]
     },
     "execution_count": 67,
     "metadata": {},
     "output_type": "execute_result"
    }
   ],
   "source": [
    "# new_data_set_En.select_dtypes(exclude=['object']).describe()"
   ]
  },
  {
   "cell_type": "code",
   "execution_count": 62,
   "metadata": {},
   "outputs": [
    {
     "data": {
      "text/plain": [
       "(1460, 258)"
      ]
     },
     "execution_count": 62,
     "metadata": {},
     "output_type": "execute_result"
    }
   ],
   "source": [
    "'''重新划分'''\n",
    "data_train_En_3 = new_data_set_En[new_data_set_En['data_flag']=='train']\n",
    "# # data_train_En_3['SalePrice']=target\n",
    "data_train_En_3 = data_train_En_3.drop('data_flag', axis=1)\n",
    "data_test_En_3 = new_data_set_En[new_data_set_En['data_flag']=='test']\n",
    "data_test_En_3 = data_test_En_3.drop('data_flag', axis=1)\n",
    "\n",
    "data_train_En_3.shape#训练数据shape(1460, 276),"
   ]
  },
  {
   "cell_type": "markdown",
   "metadata": {},
   "source": [
    "### 第三次重新建模"
   ]
  },
  {
   "cell_type": "code",
   "execution_count": 88,
   "metadata": {},
   "outputs": [
    {
     "data": {
      "text/plain": [
       "(1022, 257)"
      ]
     },
     "execution_count": 88,
     "metadata": {},
     "output_type": "execute_result"
    }
   ],
   "source": [
    "tar_log=np.log(target)#对目标进行对数变换\n",
    "# tar_log=np.log(data_train_En_2['SalePrice'])\n",
    "X_train_3, X_test_3, y_train_3, y_test_3 = train_test_split(data_train_En_3.drop(['Id'],axis=1),tar_log,test_size=0.3, random_state=42)\n",
    "\n",
    "X_train_3.shape"
   ]
  },
  {
   "cell_type": "code",
   "execution_count": 89,
   "metadata": {},
   "outputs": [
    {
     "data": {
      "text/plain": [
       "0.8979372414637645"
      ]
     },
     "execution_count": 89,
     "metadata": {},
     "output_type": "execute_result"
    }
   ],
   "source": [
    "from sklearn import linear_model\n",
    "LM3=linear_model.LinearRegression()\n",
    "LM3.fit(X_train_3,y_train_3)\n",
    "# LM.predict(train_X)b\n",
    "LM3.score(X_test_3,y_test_3)#分数更加差，模型反而更加差了。。"
   ]
  },
  {
   "cell_type": "markdown",
   "metadata": {},
   "source": [
    "可能是训练数据太少了，删除了一些特征以后，模型反而欠拟合了，由于时间关系，就暂时调试到这里"
   ]
  },
  {
   "cell_type": "code",
   "execution_count": 90,
   "metadata": {
    "scrolled": true
   },
   "outputs": [
    {
     "data": {
      "text/plain": [
       "array([124049.74128626, 120668.08504464, 180563.84549522, ...,\n",
       "       172172.87150299, 111930.80281684, 221148.25794713])"
      ]
     },
     "execution_count": 90,
     "metadata": {},
     "output_type": "execute_result"
    }
   ],
   "source": [
    "np.exp(LM3.predict(data_test_En_3.drop('Id',axis=1)))"
   ]
  },
  {
   "cell_type": "markdown",
   "metadata": {
    "collapsed": true
   },
   "source": [
    "### 总结"
   ]
  },
  {
   "cell_type": "markdown",
   "metadata": {},
   "source": [
    "1.数据处理很容易把自己绕晕，处理完的数据自己都不知道是什么样子，需要频繁打印info<br>\n",
    "2.没用图片做数据分析，因为自己对图片分析掌握不够好<br>\n",
    "3.数据集太少的情况下，做数据处理和模型调优都很困难<br>\n",
    "4.对模型熟悉程度还不够，很多知识点需要去复习<br>\n",
    "5.对pandas，numpy数据处理这块也不够熟练<br>\n",
    "6.参考了几个kernel，但是没深入理解<br>\n",
    "7.感谢老师们尽心教学，真的学习到很多，如果没有这种期末考试安排，估计我几乎不可能去尝试kaggle<br>"
   ]
  }
 ],
 "metadata": {
  "kernelspec": {
   "display_name": "Python 3",
   "language": "python",
   "name": "python3"
  },
  "language_info": {
   "codemirror_mode": {
    "name": "ipython",
    "version": 3
   },
   "file_extension": ".py",
   "mimetype": "text/x-python",
   "name": "python",
   "nbconvert_exporter": "python",
   "pygments_lexer": "ipython3",
   "version": "3.5.2"
  }
 },
 "nbformat": 4,
 "nbformat_minor": 2
}
