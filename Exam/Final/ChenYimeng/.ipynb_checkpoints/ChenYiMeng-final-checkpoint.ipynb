{
 "cells": [
  {
   "cell_type": "markdown",
   "metadata": {},
   "source": [
    "#### 本次成绩:100   \n",
    "\n",
    "### 评卷标准:\n",
    "- 分析，理顺，项目要求并落实在文档中   √\n",
    "- 比较不同结果 ，思考，改进，总结。   √\n",
    "- 成绩提交并截图成绩   √\n",
    "- 最终结论，报告。    √\n",
    "\n",
    "最用心和努力的学员，看看整体结构和各种的尝试的方案就知道，没有之一\n",
    "\n",
    "#### 评卷：David"
   ]
  },
  {
   "cell_type": "markdown",
   "metadata": {},
   "source": [
    "# House Prices: Advanced Regression Techniques"
   ]
  },
  {
   "cell_type": "markdown",
   "metadata": {},
   "source": [
    "## 一、描述"
   ]
  },
  {
   "cell_type": "markdown",
   "metadata": {},
   "source": [
    "![](data/House Prices-Advanced Regression Techniques.png)"
   ]
  },
  {
   "cell_type": "markdown",
   "metadata": {},
   "source": [
    "目标：根据房屋及相关信息预测房价 -> 回归问题 <br>\n",
    "评估指标：rmse"
   ]
  },
  {
   "cell_type": "markdown",
   "metadata": {},
   "source": [
    "# 思路"
   ]
  },
  {
   "cell_type": "markdown",
   "metadata": {},
   "source": [
    "- 1、查看数据格式\n",
    "- 2、对数据进行统计分析\n",
    "- 3、特征工程\n",
    "    - 3.1、针对缺失值分析\n",
    "        - 3.1.1、列空值\n",
    "        - 3.1.2、行空值\n",
    "    - 3.2、数值型<br>\n",
    "        - 3.2.1、数值型表示的类别\n",
    "    - 3.3、标准化\n",
    "- 4、特征选择\n",
    "    - 4.1、相关性\n",
    "    - 4.1.1、与标签相关度\n",
    "        - 4.1.2、挑选特征\n",
    "    - 4.2、特征方差\n",
    "        - 4.2.1、方差较小的去掉\n",
    "- 5、类别型\n",
    "    - 5.1、独热向量编码\n",
    "- 6、单模型测试\n",
    "    - 6.1、XGBoost\n",
    "    - 6.2、 随机森林\n",
    "- 7、模型融合\n",
    "    - 7.1、随机森林\n",
    "    - 7.2、决策树\n",
    "    - 7.3、梯度提升回归\n",
    "    - 7.4、XGBRegressor\n",
    "- 8、调参\n",
    "- 9、提交结果"
   ]
  },
  {
   "cell_type": "markdown",
   "metadata": {},
   "source": [
    "# 实现"
   ]
  },
  {
   "cell_type": "markdown",
   "metadata": {},
   "source": [
    "在相应文档标注<br>\n",
    "查看数据：http://sxy.julyedu.com:8001/notebooks/0.Teacher/Exam/Final/ChenYimeng/01_understand-data.ipynb <br>\n",
    "随机森林：http://sxy.julyedu.com:8001/notebooks/0.Teacher/Exam/Final/ChenYimeng/02_RandomForestRegressor.ipynb <br>\n",
    "XGB     : http://sxy.julyedu.com:8001/notebooks/0.Teacher/Exam/Final/ChenYimeng/03_XGBoost.ipynb <br>\n",
    "模型融合：http://sxy.julyedu.com:8001/notebooks/0.Teacher/Exam/Final/ChenYimeng/04_ensemble.ipynb <br>"
   ]
  },
  {
   "cell_type": "markdown",
   "metadata": {},
   "source": [
    "# 成绩"
   ]
  },
  {
   "cell_type": "markdown",
   "metadata": {},
   "source": [
    "![](data/score.png)"
   ]
  },
  {
   "cell_type": "markdown",
   "metadata": {},
   "source": [
    "# 项目总结"
   ]
  },
  {
   "cell_type": "markdown",
   "metadata": {},
   "source": [
    "1、建模最最重要的事情就是特征处理<br>\n",
    "2、对数据的感知和处理需要借助工具，同时也需要更深入的理解<br>\n",
    "3、每个模型有自己的特色，需要更加熟练才能训练出更好的模型<br>"
   ]
  },
  {
   "cell_type": "markdown",
   "metadata": {},
   "source": [
    "# 参考的kernel"
   ]
  },
  {
   "cell_type": "markdown",
   "metadata": {},
   "source": [
    "https://www.kaggle.com/opanichev/ensemble-of-4-models-with-cv-lb-0-11489"
   ]
  },
  {
   "cell_type": "markdown",
   "metadata": {},
   "source": [
    "# tips"
   ]
  },
  {
   "cell_type": "markdown",
   "metadata": {},
   "source": [
    "1、特征工程部分的技能需要加强<br>\n",
    "2、每个模型的理解还很粗浅，需要深入学习和理解<br>\n",
    "3、需要思路更清晰才能少走弯路<br>\n",
    "4、最后一次熬夜考试，熬夜会死"
   ]
  }
 ],
 "metadata": {
  "kernelspec": {
   "display_name": "Python 3",
   "language": "python",
   "name": "python3"
  },
  "language_info": {
   "codemirror_mode": {
    "name": "ipython",
    "version": 3
   },
   "file_extension": ".py",
   "mimetype": "text/x-python",
   "name": "python",
   "nbconvert_exporter": "python",
   "pygments_lexer": "ipython3",
   "version": "3.5.2"
  }
 },
 "nbformat": 4,
 "nbformat_minor": 2
}
