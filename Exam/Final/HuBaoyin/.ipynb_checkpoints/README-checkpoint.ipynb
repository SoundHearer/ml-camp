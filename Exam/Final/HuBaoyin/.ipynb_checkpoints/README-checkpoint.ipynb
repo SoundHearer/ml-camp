{
 "cells": [
  {
   "cell_type": "markdown",
   "metadata": {},
   "source": [
    "#### 本次成绩:100   \n",
    "\n",
    "### 评卷标准:\n",
    "- 分析，理顺，项目要求并落实在文档中   √\n",
    "- 比较不同结果 ，思考，改进，总结。   √\n",
    "- 成绩提交并截图成绩   √\n",
    "- 最终结论，报告。    √\n",
    "\n",
    "宝银加油，你是最棒的，从试卷的分层就能看出来！！！！\n",
    "\n",
    "#### 评卷：David"
   ]
  },
  {
   "cell_type": "markdown",
   "metadata": {},
   "source": [
    "### 0.项目要求：\n",
    "```\n",
    "1.新建毕业notebook项目文档，命名为姓名全拼-final，并放至于http://sxy.julyedu.com:8001/tree/0.Teacher/Exam/Final/学员姓名全拼目录中/，\n",
    "2.注册kaggle，并阅读项目详情\n",
    "2.分析，理顺，项目要求并落实在文档中。20分\n",
    "4.进行载入数据，清洗，建模，训练，预测等流程，并对相应步骤（及思想）进行说明并落实在文档中 50分\n",
    "4.在kaggle完成至少两次或以上提交。记录成绩，分析成绩差异的原因。并落实在文档中。20\n",
    "5.项目总结。对该项目做最后总结，可以是心得，也可以是教训。 并落实在文档中。10分\n",
    "6.如在项目文档中参考引用了其它kernel。额外10分（但总分不超过100分）\n",
    "```"
   ]
  },
  {
   "cell_type": "markdown",
   "metadata": {},
   "source": [
    "### 1.目录包含文件说明\n",
    "```\n",
    "0.inputs 输入\n",
    "    |-- train.csv 训练集\n",
    "    |-- test.csv 测试集\n",
    "1.scripts 辅助脚本\n",
    "    |-- gbdt_build_model.py gbdt训练脚本\n",
    "    |-- xgb_build_model.py xgboost训练脚本\n",
    "2.model 模型主目录\n",
    "    |-- hubaoyin-final.ipynb 模型主文件\n",
    "3.images 图片\n",
    "    |-- commit_history.png 提交记录\n",
    "    |-- final_score.png 最终得分及排名\n",
    "4.outputs 输出\n",
    "    |-- 系列输出文件\n",
    "\n",
    "```"
   ]
  }
 ],
 "metadata": {
  "kernelspec": {
   "display_name": "Python 3",
   "language": "python",
   "name": "python3"
  },
  "language_info": {
   "codemirror_mode": {
    "name": "ipython",
    "version": 3
   },
   "file_extension": ".py",
   "mimetype": "text/x-python",
   "name": "python",
   "nbconvert_exporter": "python",
   "pygments_lexer": "ipython3",
   "version": "3.5.2"
  }
 },
 "nbformat": 4,
 "nbformat_minor": 1
}
