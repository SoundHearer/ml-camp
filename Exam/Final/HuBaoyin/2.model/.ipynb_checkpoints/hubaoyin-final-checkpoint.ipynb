{
 "cells": [
  {
   "cell_type": "markdown",
   "metadata": {},
   "source": [
    "### 0.赛题分析"
   ]
  },
  {
   "cell_type": "markdown",
   "metadata": {},
   "source": [
    "```\n",
    "赛题给我们79个描述房屋的特征，要求我们据此预测房屋的最终售价，即对于测试集中每个房屋的ID给出对于的SalePrice字段的预测值，主要考察我们数据清洗、特征工程、模型搭建及调优等方面的技巧。本赛题是典型的回归类问题，评估指标选用的是均方根误差（RMSE），为了使得价格的高低对结果的评估有均等的影响，赛题均方根误差基于预测值和实际值分别取对数对数来计算。\n",
    "特征初步分析：\n",
    "1. SalePrice 房屋售价，我们要预测的label，类型：数值型，单位：美元\n",
    "2. MSSubClass: 建筑的等级，类型：类别型\n",
    "MSZoning: 区域分类，类型：类别型\n",
    "LotFrontage: 距离街道的直线距离，类型：数值型，单位：英尺\n",
    "LotArea: 地皮面积，类型：数值型，单位：平方英尺\n",
    "Street: 街道类型，类型：类别型\n",
    "Alley: 巷子类型，类型：类别型\n",
    "LotShape: 房子整体形状，类型：类别型\n",
    "LandContour: 平整度级别，类型：类别型\n",
    "Utilities: 公共设施类型，类型：类别型\n",
    "LotConfig: 房屋配置，类型：类别型\n",
    "LandSlope: 倾斜度，类型：类别型\n",
    "Neighborhood: 市区物理位置，类型：类别型\n",
    "Condition1: 主干道或者铁路便利程度，类型：类别型\n",
    "Condition2: 主干道或者铁路便利程度，类型：类别型\n",
    "BldgType: 住宅类型，类型：类别型\n",
    "HouseStyle: 住宅风格，类型：类别型\n",
    "OverallQual: 整体材料和饰面质量，类型：数值型\n",
    "OverallCond: 总体状况评价，类型：数值型\n",
    "YearBuilt: 建筑年份，类型：数值型\n",
    "YearRemodAdd: 改建年份，类型：数值型\n",
    "RoofStyle: 屋顶类型，类型：类别型\n",
    "RoofMatl: 屋顶材料，类型：类别型\n",
    "Exterior1st: 住宅外墙，类型：类别型\n",
    "Exterior2nd: 住宅外墙，类型：类别型\n",
    "MasVnrType: 砌体饰面类型，类型：类别型\n",
    "MasVnrArea: 砌体饰面面积，类型：数值型，单位：平方英尺\n",
    "ExterQual: 外部材料质量，类型：类别型\n",
    "ExterCond: 外部材料的现状，类型：类别型\n",
    "Foundation: 地基类型，类型：类别型\n",
    "BsmtQual: 地下室高度，类型：类别型\n",
    "BsmtCond: 地下室概况，类型：类别型\n",
    "BsmtExposure: 花园地下室墙，类型：类别型\n",
    "BsmtFinType1: 地下室装饰质量，类型：类别型\n",
    "BsmtFinSF1: 地下室装饰面积，类型：类别型\n",
    "BsmtFinType2: 地下室装饰质量，类型：类别型\n",
    "BsmtFinSF2: 地下室装饰面积，类型：类别型\n",
    "BsmtUnfSF: 未装饰的地下室面积，类型：数值型，单位：平方英尺\n",
    "TotalBsmtSF: 地下室总面积，类型：数值型，单位：平方英尺\n",
    "Heating: 供暖类型，类型：类别型\n",
    "HeatingQC: 供暖质量和条件，类型：类别型\n",
    "CentralAir: 中央空调状况，类型：类别型\n",
    "Electrical: 电力系统，类型：类别型\n",
    "1stFlrSF: 首层面积，类型：数值型，单位：平方英尺\n",
    "2ndFlrSF: 二层面积，类型：数值型，单位：平方英尺\n",
    "LowQualFinSF: 低质装饰面积，类型：数值型，单位：平方英尺\n",
    "GrLivArea: 地面以上居住面积，类型：数值型，单位：平方英尺\n",
    "BsmtFullBath: 地下室全浴室，类型：数值\n",
    "BsmtHalfBath: 地下室半浴室，类型：数值\n",
    "FullBath: 高档全浴室，类型：数值\n",
    "HalfBath: 高档半浴室，类型：数值\n",
    "BedroomAbvGr: 地下室以上的卧室数量，类型：数值\n",
    "KitchenAbvGr: 厨房数量，类型：数值\n",
    "KitchenQual: 厨房质量，类型：类别型\n",
    "TotRmsAbvGrd: 地上除卧室以外的房间数，类型：数值\n",
    "Functional: 房屋功用性评级，类型：类别型\n",
    "Fireplaces: 壁炉数量，类型：数值\n",
    "FireplaceQu: 壁炉质量，类型：类别型\n",
    "GarageType: 车库位置，类型：类别型\n",
    "GarageYrBlt: 车库建造年份，类别：数值型\n",
    "GarageFinish: 车库内饰，类型：类别型\n",
    "GarageCars: 车库车容量大小，类别：数值型\n",
    "GarageArea: 车库面积，类别：数值型，单位：平方英尺\n",
    "GarageQual: 车库质量，类型：类别型\n",
    "GarageCond: 车库条件，类型：类别型\n",
    "PavedDrive: 铺的车道情况，类型：类别型\n",
    "WoodDeckSF: 木地板面积，类型：数值型，单位：平方英尺\n",
    "OpenPorchSF: 开放式门廊区面积，类型：数值型，单位：平方英尺\n",
    "EnclosedPorch: 封闭式门廊区面积，类型：数值型，单位：平方英尺\n",
    "3SsnPorch: 三个季节门廊面积，类型：数值型，单位：平方英尺\n",
    "ScreenPorch: 纱门门廊面积，类型：数值型，单位：平方英尺\n",
    "PoolArea: 泳池面积，类型：数值型，单位：平方英尺\n",
    "PoolQC:泳池质量，类型：类别型\n",
    "Fence: 围墙质量，类型：类别型\n",
    "MiscFeature: 其他特征，类型：类别型\n",
    "MiscVal: 其他杂项特征值，类型：类别型\n",
    "MoSold: 卖出月份，类别：数值型\n",
    "YrSold: 卖出年份，类别：数值型\n",
    "SaleType: 交易类型，类型：类别型\n",
    "SaleCondition: 交易条件，类型：类别型\n",
    "```"
   ]
  },
  {
   "cell_type": "markdown",
   "metadata": {},
   "source": [
    "### 1.载入赛题相关python模块"
   ]
  },
  {
   "cell_type": "code",
   "execution_count": 34,
   "metadata": {
    "_cell_guid": "b1076dfc-b9ad-4769-8c92-a6c4dae69d19",
    "_uuid": "8f2839f25d086af736a60e9eeb907d3b93b6e0e5",
    "collapsed": true
   },
   "outputs": [],
   "source": [
    "import numpy as np\n",
    "import pandas as pd\n",
    "import xgboost  as xgb\n",
    "from scipy import stats\n",
    "from scipy.stats import norm, skew\n",
    "from scipy.special import boxcox1p\n",
    "import matplotlib.pyplot as plt\n",
    "from sklearn.linear_model import Ridge\n",
    "from sklearn.ensemble import RandomForestRegressor,GradientBoostingRegressor\n",
    "from sklearn.model_selection import cross_val_score\n",
    "%matplotlib inline\n",
    "plt.style.use('seaborn')\n",
    "pd.set_option('max_columns', None)"
   ]
  },
  {
   "cell_type": "markdown",
   "metadata": {},
   "source": [
    "### 2.加载训练集、测试集数据"
   ]
  },
  {
   "cell_type": "code",
   "execution_count": 3,
   "metadata": {
    "_cell_guid": "79c7e3d0-c299-4dcb-8224-4455121ee9b0",
    "_uuid": "d629ff2d2480ee46fbb7e2d37f6b5fab8052498a"
   },
   "outputs": [
    {
     "data": {
      "text/html": [
       "<div>\n",
       "<style>\n",
       "    .dataframe thead tr:only-child th {\n",
       "        text-align: right;\n",
       "    }\n",
       "\n",
       "    .dataframe thead th {\n",
       "        text-align: left;\n",
       "    }\n",
       "\n",
       "    .dataframe tbody tr th {\n",
       "        vertical-align: top;\n",
       "    }\n",
       "</style>\n",
       "<table border=\"1\" class=\"dataframe\">\n",
       "  <thead>\n",
       "    <tr style=\"text-align: right;\">\n",
       "      <th></th>\n",
       "      <th>MSSubClass</th>\n",
       "      <th>MSZoning</th>\n",
       "      <th>LotFrontage</th>\n",
       "      <th>LotArea</th>\n",
       "      <th>Street</th>\n",
       "      <th>Alley</th>\n",
       "      <th>LotShape</th>\n",
       "      <th>LandContour</th>\n",
       "      <th>Utilities</th>\n",
       "      <th>LotConfig</th>\n",
       "      <th>...</th>\n",
       "      <th>PoolArea</th>\n",
       "      <th>PoolQC</th>\n",
       "      <th>Fence</th>\n",
       "      <th>MiscFeature</th>\n",
       "      <th>MiscVal</th>\n",
       "      <th>MoSold</th>\n",
       "      <th>YrSold</th>\n",
       "      <th>SaleType</th>\n",
       "      <th>SaleCondition</th>\n",
       "      <th>SalePrice</th>\n",
       "    </tr>\n",
       "    <tr>\n",
       "      <th>Id</th>\n",
       "      <th></th>\n",
       "      <th></th>\n",
       "      <th></th>\n",
       "      <th></th>\n",
       "      <th></th>\n",
       "      <th></th>\n",
       "      <th></th>\n",
       "      <th></th>\n",
       "      <th></th>\n",
       "      <th></th>\n",
       "      <th></th>\n",
       "      <th></th>\n",
       "      <th></th>\n",
       "      <th></th>\n",
       "      <th></th>\n",
       "      <th></th>\n",
       "      <th></th>\n",
       "      <th></th>\n",
       "      <th></th>\n",
       "      <th></th>\n",
       "      <th></th>\n",
       "    </tr>\n",
       "  </thead>\n",
       "  <tbody>\n",
       "    <tr>\n",
       "      <th>1</th>\n",
       "      <td>60</td>\n",
       "      <td>RL</td>\n",
       "      <td>65.0</td>\n",
       "      <td>8450</td>\n",
       "      <td>Pave</td>\n",
       "      <td>NaN</td>\n",
       "      <td>Reg</td>\n",
       "      <td>Lvl</td>\n",
       "      <td>AllPub</td>\n",
       "      <td>Inside</td>\n",
       "      <td>...</td>\n",
       "      <td>0</td>\n",
       "      <td>NaN</td>\n",
       "      <td>NaN</td>\n",
       "      <td>NaN</td>\n",
       "      <td>0</td>\n",
       "      <td>2</td>\n",
       "      <td>2008</td>\n",
       "      <td>WD</td>\n",
       "      <td>Normal</td>\n",
       "      <td>208500</td>\n",
       "    </tr>\n",
       "    <tr>\n",
       "      <th>2</th>\n",
       "      <td>20</td>\n",
       "      <td>RL</td>\n",
       "      <td>80.0</td>\n",
       "      <td>9600</td>\n",
       "      <td>Pave</td>\n",
       "      <td>NaN</td>\n",
       "      <td>Reg</td>\n",
       "      <td>Lvl</td>\n",
       "      <td>AllPub</td>\n",
       "      <td>FR2</td>\n",
       "      <td>...</td>\n",
       "      <td>0</td>\n",
       "      <td>NaN</td>\n",
       "      <td>NaN</td>\n",
       "      <td>NaN</td>\n",
       "      <td>0</td>\n",
       "      <td>5</td>\n",
       "      <td>2007</td>\n",
       "      <td>WD</td>\n",
       "      <td>Normal</td>\n",
       "      <td>181500</td>\n",
       "    </tr>\n",
       "    <tr>\n",
       "      <th>3</th>\n",
       "      <td>60</td>\n",
       "      <td>RL</td>\n",
       "      <td>68.0</td>\n",
       "      <td>11250</td>\n",
       "      <td>Pave</td>\n",
       "      <td>NaN</td>\n",
       "      <td>IR1</td>\n",
       "      <td>Lvl</td>\n",
       "      <td>AllPub</td>\n",
       "      <td>Inside</td>\n",
       "      <td>...</td>\n",
       "      <td>0</td>\n",
       "      <td>NaN</td>\n",
       "      <td>NaN</td>\n",
       "      <td>NaN</td>\n",
       "      <td>0</td>\n",
       "      <td>9</td>\n",
       "      <td>2008</td>\n",
       "      <td>WD</td>\n",
       "      <td>Normal</td>\n",
       "      <td>223500</td>\n",
       "    </tr>\n",
       "    <tr>\n",
       "      <th>4</th>\n",
       "      <td>70</td>\n",
       "      <td>RL</td>\n",
       "      <td>60.0</td>\n",
       "      <td>9550</td>\n",
       "      <td>Pave</td>\n",
       "      <td>NaN</td>\n",
       "      <td>IR1</td>\n",
       "      <td>Lvl</td>\n",
       "      <td>AllPub</td>\n",
       "      <td>Corner</td>\n",
       "      <td>...</td>\n",
       "      <td>0</td>\n",
       "      <td>NaN</td>\n",
       "      <td>NaN</td>\n",
       "      <td>NaN</td>\n",
       "      <td>0</td>\n",
       "      <td>2</td>\n",
       "      <td>2006</td>\n",
       "      <td>WD</td>\n",
       "      <td>Abnorml</td>\n",
       "      <td>140000</td>\n",
       "    </tr>\n",
       "    <tr>\n",
       "      <th>5</th>\n",
       "      <td>60</td>\n",
       "      <td>RL</td>\n",
       "      <td>84.0</td>\n",
       "      <td>14260</td>\n",
       "      <td>Pave</td>\n",
       "      <td>NaN</td>\n",
       "      <td>IR1</td>\n",
       "      <td>Lvl</td>\n",
       "      <td>AllPub</td>\n",
       "      <td>FR2</td>\n",
       "      <td>...</td>\n",
       "      <td>0</td>\n",
       "      <td>NaN</td>\n",
       "      <td>NaN</td>\n",
       "      <td>NaN</td>\n",
       "      <td>0</td>\n",
       "      <td>12</td>\n",
       "      <td>2008</td>\n",
       "      <td>WD</td>\n",
       "      <td>Normal</td>\n",
       "      <td>250000</td>\n",
       "    </tr>\n",
       "  </tbody>\n",
       "</table>\n",
       "<p>5 rows × 80 columns</p>\n",
       "</div>"
      ],
      "text/plain": [
       "    MSSubClass MSZoning  LotFrontage  LotArea Street Alley LotShape  \\\n",
       "Id                                                                    \n",
       "1           60       RL         65.0     8450   Pave   NaN      Reg   \n",
       "2           20       RL         80.0     9600   Pave   NaN      Reg   \n",
       "3           60       RL         68.0    11250   Pave   NaN      IR1   \n",
       "4           70       RL         60.0     9550   Pave   NaN      IR1   \n",
       "5           60       RL         84.0    14260   Pave   NaN      IR1   \n",
       "\n",
       "   LandContour Utilities LotConfig    ...     PoolArea PoolQC Fence  \\\n",
       "Id                                    ...                             \n",
       "1          Lvl    AllPub    Inside    ...            0    NaN   NaN   \n",
       "2          Lvl    AllPub       FR2    ...            0    NaN   NaN   \n",
       "3          Lvl    AllPub    Inside    ...            0    NaN   NaN   \n",
       "4          Lvl    AllPub    Corner    ...            0    NaN   NaN   \n",
       "5          Lvl    AllPub       FR2    ...            0    NaN   NaN   \n",
       "\n",
       "   MiscFeature MiscVal MoSold  YrSold  SaleType  SaleCondition  SalePrice  \n",
       "Id                                                                         \n",
       "1          NaN       0      2    2008        WD         Normal     208500  \n",
       "2          NaN       0      5    2007        WD         Normal     181500  \n",
       "3          NaN       0      9    2008        WD         Normal     223500  \n",
       "4          NaN       0      2    2006        WD        Abnorml     140000  \n",
       "5          NaN       0     12    2008        WD         Normal     250000  \n",
       "\n",
       "[5 rows x 80 columns]"
      ]
     },
     "execution_count": 3,
     "metadata": {},
     "output_type": "execute_result"
    }
   ],
   "source": [
    "train_df = pd.read_csv('../inputs/train.csv', index_col=0)\n",
    "test_df = pd.read_csv('../inputs/test.csv', index_col=0)\n",
    "train_df.head()"
   ]
  },
  {
   "cell_type": "markdown",
   "metadata": {},
   "source": [
    "### 3.数据清洗、缺失值处理"
   ]
  },
  {
   "cell_type": "code",
   "execution_count": 8,
   "metadata": {},
   "outputs": [
    {
     "data": {
      "text/plain": [
       "<matplotlib.collections.PathCollection at 0x7f6421eb0048>"
      ]
     },
     "execution_count": 8,
     "metadata": {},
     "output_type": "execute_result"
    },
    {
     "data": {
      "image/png": "[encoded data removed]",
      "text/plain": [
       "<matplotlib.figure.Figure at 0x7f6429ced080>"
      ]
     },
     "metadata": {},
     "output_type": "display_data"
    }
   ],
   "source": [
    "#使用matplotlib绘图，观察房屋总桔子面积GrLivArea和和售价关系SalePrice\n",
    "plt.scatter(train_df.GrLivArea, train_df.SalePrice)"
   ]
  },
  {
   "cell_type": "code",
   "execution_count": 5,
   "metadata": {
    "collapsed": true
   },
   "outputs": [],
   "source": [
    "#按常理考虑房屋面积越大售价越高，但是从图中可以看到有两个房子面很大，但是售价离奇的低，我觉得很有可能是噪声，故干掉这两条数据\n",
    "train_df = train_df.drop(train_df[(train_df['GrLivArea']>4000) & (train_df['SalePrice']<300000)].index)"
   ]
  },
  {
   "cell_type": "code",
   "execution_count": 13,
   "metadata": {},
   "outputs": [
    {
     "data": {
      "text/plain": [
       "<matplotlib.axes._subplots.AxesSubplot at 0x7f64211a4128>"
      ]
     },
     "execution_count": 13,
     "metadata": {},
     "output_type": "execute_result"
    },
    {
     "data": {
      "image/png": "[encoded data removed]",
      "text/plain": [
       "<matplotlib.figure.Figure at 0x7f6421192390>"
      ]
     },
     "metadata": {},
     "output_type": "display_data"
    }
   ],
   "source": [
    "#绘图观察房价分布情况\n",
    "train_df[\"SalePrice\"].hist()"
   ]
  },
  {
   "cell_type": "code",
   "execution_count": 19,
   "metadata": {
    "collapsed": true
   },
   "outputs": [],
   "source": [
    "#可见，label（房价）本身并不平滑。为了我们分类器的学习更加准确，我们会首先把label给“平滑化”（正态化）"
   ]
  },
  {
   "cell_type": "code",
   "execution_count": 17,
   "metadata": {
    "_uuid": "a88f8b2adfa681b57c4ffaf06947d694e2651c60",
    "collapsed": true
   },
   "outputs": [],
   "source": [
    "y_train = np.log1p(train_df.pop('SalePrice'))"
   ]
  },
  {
   "cell_type": "code",
   "execution_count": 18,
   "metadata": {},
   "outputs": [
    {
     "data": {
      "text/plain": [
       "<matplotlib.axes._subplots.AxesSubplot at 0x7f64216ea668>"
      ]
     },
     "execution_count": 18,
     "metadata": {},
     "output_type": "execute_result"
    },
    {
     "data": {
      "image/png": "[encoded data removed]",
      "text/plain": [
       "<matplotlib.figure.Figure at 0x7f6421965400>"
      ]
     },
     "metadata": {},
     "output_type": "display_data"
    }
   ],
   "source": [
    "#确实平滑话后的效果\n",
    "y_train.hist()"
   ]
  },
  {
   "cell_type": "code",
   "execution_count": 21,
   "metadata": {
    "_uuid": "471c5cfe4a3a5469333c6c538f437e8223bb3184"
   },
   "outputs": [
    {
     "data": {
      "text/plain": [
       "(2919, 79)"
      ]
     },
     "execution_count": 21,
     "metadata": {},
     "output_type": "execute_result"
    }
   ],
   "source": [
    "#合并训练集测试集数据，统一进行特征处理\n",
    "all_df = pd.concat((train_df, test_df), axis=0)\n",
    "all_df.shape"
   ]
  },
  {
   "cell_type": "code",
   "execution_count": 22,
   "metadata": {
    "_uuid": "427a2a5f852878b56b245d62ab4893c1c60882f0",
    "collapsed": true
   },
   "outputs": [],
   "source": [
    "#建筑等级和总体状况赛题给的数据中是数值型，按照类别来处理\n",
    "all_df['MSSubClass'] = all_df['MSSubClass'].astype(str)\n",
    "all_df['OverallCond'] = all_df['OverallCond'].astype(str)"
   ]
  },
  {
   "cell_type": "code",
   "execution_count": 10,
   "metadata": {},
   "outputs": [
    {
     "data": {
      "text/html": [
       "<div>\n",
       "<style>\n",
       "    .dataframe thead tr:only-child th {\n",
       "        text-align: right;\n",
       "    }\n",
       "\n",
       "    .dataframe thead th {\n",
       "        text-align: left;\n",
       "    }\n",
       "\n",
       "    .dataframe tbody tr th {\n",
       "        vertical-align: top;\n",
       "    }\n",
       "</style>\n",
       "<table border=\"1\" class=\"dataframe\">\n",
       "  <thead>\n",
       "    <tr style=\"text-align: right;\">\n",
       "      <th></th>\n",
       "      <th>Missing Ratio</th>\n",
       "    </tr>\n",
       "  </thead>\n",
       "  <tbody>\n",
       "    <tr>\n",
       "      <th>PoolQC</th>\n",
       "      <td>99.691464</td>\n",
       "    </tr>\n",
       "    <tr>\n",
       "      <th>MiscFeature</th>\n",
       "      <td>96.400411</td>\n",
       "    </tr>\n",
       "    <tr>\n",
       "      <th>Alley</th>\n",
       "      <td>93.212204</td>\n",
       "    </tr>\n",
       "    <tr>\n",
       "      <th>Fence</th>\n",
       "      <td>80.425094</td>\n",
       "    </tr>\n",
       "    <tr>\n",
       "      <th>FireplaceQu</th>\n",
       "      <td>48.680151</td>\n",
       "    </tr>\n",
       "    <tr>\n",
       "      <th>LotFrontage</th>\n",
       "      <td>16.660953</td>\n",
       "    </tr>\n",
       "    <tr>\n",
       "      <th>GarageCond</th>\n",
       "      <td>5.450806</td>\n",
       "    </tr>\n",
       "    <tr>\n",
       "      <th>GarageQual</th>\n",
       "      <td>5.450806</td>\n",
       "    </tr>\n",
       "    <tr>\n",
       "      <th>GarageYrBlt</th>\n",
       "      <td>5.450806</td>\n",
       "    </tr>\n",
       "    <tr>\n",
       "      <th>GarageFinish</th>\n",
       "      <td>5.450806</td>\n",
       "    </tr>\n",
       "    <tr>\n",
       "      <th>GarageType</th>\n",
       "      <td>5.382242</td>\n",
       "    </tr>\n",
       "    <tr>\n",
       "      <th>BsmtCond</th>\n",
       "      <td>2.811107</td>\n",
       "    </tr>\n",
       "    <tr>\n",
       "      <th>BsmtExposure</th>\n",
       "      <td>2.811107</td>\n",
       "    </tr>\n",
       "    <tr>\n",
       "      <th>BsmtQual</th>\n",
       "      <td>2.776826</td>\n",
       "    </tr>\n",
       "    <tr>\n",
       "      <th>BsmtFinType2</th>\n",
       "      <td>2.742544</td>\n",
       "    </tr>\n",
       "    <tr>\n",
       "      <th>BsmtFinType1</th>\n",
       "      <td>2.708262</td>\n",
       "    </tr>\n",
       "    <tr>\n",
       "      <th>MasVnrType</th>\n",
       "      <td>0.822763</td>\n",
       "    </tr>\n",
       "    <tr>\n",
       "      <th>MasVnrArea</th>\n",
       "      <td>0.788481</td>\n",
       "    </tr>\n",
       "    <tr>\n",
       "      <th>MSZoning</th>\n",
       "      <td>0.137127</td>\n",
       "    </tr>\n",
       "    <tr>\n",
       "      <th>BsmtHalfBath</th>\n",
       "      <td>0.068564</td>\n",
       "    </tr>\n",
       "  </tbody>\n",
       "</table>\n",
       "</div>"
      ],
      "text/plain": [
       "              Missing Ratio\n",
       "PoolQC            99.691464\n",
       "MiscFeature       96.400411\n",
       "Alley             93.212204\n",
       "Fence             80.425094\n",
       "FireplaceQu       48.680151\n",
       "LotFrontage       16.660953\n",
       "GarageCond         5.450806\n",
       "GarageQual         5.450806\n",
       "GarageYrBlt        5.450806\n",
       "GarageFinish       5.450806\n",
       "GarageType         5.382242\n",
       "BsmtCond           2.811107\n",
       "BsmtExposure       2.811107\n",
       "BsmtQual           2.776826\n",
       "BsmtFinType2       2.742544\n",
       "BsmtFinType1       2.708262\n",
       "MasVnrType         0.822763\n",
       "MasVnrArea         0.788481\n",
       "MSZoning           0.137127\n",
       "BsmtHalfBath       0.068564"
      ]
     },
     "execution_count": 10,
     "metadata": {},
     "output_type": "execute_result"
    }
   ],
   "source": [
    "#统计各个维度特征的缺失值情况\n",
    "perc_na = (all_df.isnull().sum()/len(all_df))*100\n",
    "ratio_na = perc_na.sort_values(ascending=False)\n",
    "missing_data = pd.DataFrame({'Missing Ratio' :ratio_na})\n",
    "missing_data.head(20)"
   ]
  },
  {
   "cell_type": "code",
   "execution_count": 24,
   "metadata": {
    "collapsed": true
   },
   "outputs": [],
   "source": [
    "#干掉确实值比较多的特征\n",
    "all_df[\"PoolQC\"] = all_df[\"PoolQC\"].fillna(\"None\")\n",
    "all_df[\"MiscFeature\"] = all_df[\"MiscFeature\"].fillna(\"None\")\n",
    "all_df[\"Alley\"] = all_df[\"Alley\"].fillna(\"None\")\n",
    "all_df[\"Fence\"] = all_df[\"Fence\"].fillna(\"None\")\n",
    "all_df[\"FireplaceQu\"] = all_df[\"FireplaceQu\"].fillna(\"None\")\n",
    "#干掉所有样本取值几乎一样的特征\n",
    "all_df = all_df.drop(['Utilities'], axis=1)"
   ]
  },
  {
   "cell_type": "code",
   "execution_count": 25,
   "metadata": {
    "collapsed": true
   },
   "outputs": [],
   "source": [
    "#LotFrontage特征使用房屋所处区域的中位数填充空缺值\n",
    "all_df[\"LotFrontage\"] = all_df.groupby(\"Neighborhood\")[\"LotFrontage\"].transform(\n",
    "    lambda x: x.fillna(x.median()))\n",
    "#类别型特征使用‘None’来填充，作为单独的一类来处理\n",
    "for col in ('GarageType', 'GarageFinish', 'GarageQual', 'GarageCond'):\n",
    "    all_df[col] = all_df[col].fillna('None')\n",
    "all_df[\"MasVnrType\"] = all_df[\"MasVnrType\"].fillna(\"None\")\n",
    "for col in ('BsmtQual', 'BsmtCond', 'BsmtExposure', 'BsmtFinType1', 'BsmtFinType2'):\n",
    "    all_df[col] = all_df[col].fillna('None')\n",
    "all_df['MSSubClass'] = all_df['MSSubClass'].fillna(\"None\") \n",
    "\n",
    "#数值型特征使用0来填充空值\n",
    "for col in ('GarageYrBlt', 'GarageArea', 'GarageCars'):\n",
    "    all_df[col] = all_df[col].fillna(0)\n",
    "for col in ('BsmtFinSF1', 'BsmtFinSF2', 'BsmtUnfSF','TotalBsmtSF', 'BsmtFullBath', 'BsmtHalfBath'):\n",
    "    all_df[col] = all_df[col].fillna(0)\n",
    "all_df[\"MasVnrArea\"] = all_df[\"MasVnrArea\"].fillna(0)\n",
    "\n",
    "#使用众数开填充MSZoning、Electrical、KitchenQual、Exterior1st、Exterior2nd、SaleType、Functional\n",
    "all_df['MSZoning'] = all_df['MSZoning'].fillna(all_df['MSZoning'].mode()[0])\n",
    "all_df['Electrical'] = all_df['Electrical'].fillna(all_df['Electrical'].mode()[0])\n",
    "all_df['KitchenQual'] = all_df['KitchenQual'].fillna(all_df['KitchenQual'].mode()[0])\n",
    "all_df['Exterior1st'] = all_df['Exterior1st'].fillna(all_df['Exterior1st'].mode()[0])\n",
    "all_df['Exterior2nd'] = all_df['Exterior2nd'].fillna(all_df['Exterior2nd'].mode()[0])\n",
    "all_df['SaleType'] = all_df['SaleType'].fillna(all_df['SaleType'].mode()[0])\n",
    "all_df[\"Functional\"] = all_df[\"Functional\"].fillna(all_df['Functional'].mode()[0])"
   ]
  },
  {
   "cell_type": "markdown",
   "metadata": {},
   "source": [
    "### 4.特征工程"
   ]
  },
  {
   "cell_type": "code",
   "execution_count": 27,
   "metadata": {
    "collapsed": true
   },
   "outputs": [],
   "source": [
    "#增加总居住面积特征\n",
    "all_df['TotalSF'] = all_df['TotalBsmtSF'] + all_df['1stFlrSF'] + all_df['2ndFlrSF']\n",
    "#增加总面积特征\n",
    "all_df['Total_Bathrooms'] = (all_df['FullBath'] + (0.5*all_df['HalfBath']) + \n",
    "                               all_df['BsmtFullBath'] + (0.5*all_df['BsmtHalfBath']))\n",
    "#增加总门廊面积特征\n",
    "all_df['Total_porch_sf'] = (all_df['OpenPorchSF'] + all_df['3SsnPorch'] +\n",
    "                              all_df['EnclosedPorch'] + all_df['ScreenPorch'] +\n",
    "                             all_df['WoodDeckSF'])\n",
    "#增加简单的是否有泳池、是否有2层、是否有车库。是否有地下室、是否壁炉二值特征\n",
    "all_df['haspool'] = all_df['PoolArea'].apply(lambda x: 1 if x > 0 else 0)\n",
    "all_df['has2ndfloor'] = all_df['2ndFlrSF'].apply(lambda x: 1 if x > 0 else 0)\n",
    "all_df['hasgarage'] = all_df['GarageArea'].apply(lambda x: 1 if x > 0 else 0)\n",
    "all_df['hasbsmt'] = all_df['TotalBsmtSF'].apply(lambda x: 1 if x > 0 else 0)\n",
    "all_df['hasfireplace'] = all_df['Fireplaces'].apply(lambda x: 1 if x > 0 else 0)"
   ]
  },
  {
   "cell_type": "code",
   "execution_count": 28,
   "metadata": {},
   "outputs": [
    {
     "name": "stdout",
     "output_type": "stream",
     "text": [
      "\n",
      "Skew in numerical features: \n",
      "\n"
     ]
    },
    {
     "data": {
      "text/html": [
       "<div>\n",
       "<style>\n",
       "    .dataframe thead tr:only-child th {\n",
       "        text-align: right;\n",
       "    }\n",
       "\n",
       "    .dataframe thead th {\n",
       "        text-align: left;\n",
       "    }\n",
       "\n",
       "    .dataframe tbody tr th {\n",
       "        vertical-align: top;\n",
       "    }\n",
       "</style>\n",
       "<table border=\"1\" class=\"dataframe\">\n",
       "  <thead>\n",
       "    <tr style=\"text-align: right;\">\n",
       "      <th></th>\n",
       "      <th>Skew</th>\n",
       "    </tr>\n",
       "  </thead>\n",
       "  <tbody>\n",
       "    <tr>\n",
       "      <th>MiscVal</th>\n",
       "      <td>21.947195</td>\n",
       "    </tr>\n",
       "    <tr>\n",
       "      <th>PoolArea</th>\n",
       "      <td>16.898328</td>\n",
       "    </tr>\n",
       "    <tr>\n",
       "      <th>haspool</th>\n",
       "      <td>14.884318</td>\n",
       "    </tr>\n",
       "    <tr>\n",
       "      <th>LotArea</th>\n",
       "      <td>12.822431</td>\n",
       "    </tr>\n",
       "    <tr>\n",
       "      <th>LowQualFinSF</th>\n",
       "      <td>12.088761</td>\n",
       "    </tr>\n",
       "    <tr>\n",
       "      <th>3SsnPorch</th>\n",
       "      <td>11.376065</td>\n",
       "    </tr>\n",
       "    <tr>\n",
       "      <th>KitchenAbvGr</th>\n",
       "      <td>4.302254</td>\n",
       "    </tr>\n",
       "    <tr>\n",
       "      <th>BsmtFinSF2</th>\n",
       "      <td>4.146143</td>\n",
       "    </tr>\n",
       "    <tr>\n",
       "      <th>EnclosedPorch</th>\n",
       "      <td>4.003891</td>\n",
       "    </tr>\n",
       "    <tr>\n",
       "      <th>ScreenPorch</th>\n",
       "      <td>3.946694</td>\n",
       "    </tr>\n",
       "  </tbody>\n",
       "</table>\n",
       "</div>"
      ],
      "text/plain": [
       "                    Skew\n",
       "MiscVal        21.947195\n",
       "PoolArea       16.898328\n",
       "haspool        14.884318\n",
       "LotArea        12.822431\n",
       "LowQualFinSF   12.088761\n",
       "3SsnPorch      11.376065\n",
       "KitchenAbvGr    4.302254\n",
       "BsmtFinSF2      4.146143\n",
       "EnclosedPorch   4.003891\n",
       "ScreenPorch     3.946694"
      ]
     },
     "execution_count": 28,
     "metadata": {},
     "output_type": "execute_result"
    }
   ],
   "source": [
    "#统计分析数值型变量的偏度（skew）\n",
    "numeric_feats = all_df.dtypes[all_df.dtypes != \"object\"].index\n",
    "all_df[numeric_feats]\n",
    "skewed_feats = all_df[numeric_feats].apply(lambda x: skew(x.dropna())).sort_values(ascending=False)\n",
    "skewness = pd.DataFrame({'Skew' :skewed_feats})\n",
    "skewness.head(10)"
   ]
  },
  {
   "cell_type": "code",
   "execution_count": 30,
   "metadata": {
    "collapsed": true
   },
   "outputs": [],
   "source": [
    "#通过上面的统计分析我们可以知道，我们的样本数值型变量偏度分别不均匀，使用boxcox1p对数值型变量进行偏度平滑处理\n",
    "skewness = skewness[abs(skewness) > 0.75]\n",
    "skewed_features = skewness.index\n",
    "lam = 0.15\n",
    "for feat in skewed_features:\n",
    "    all_df[feat] = boxcox1p(all_df[feat], lam)"
   ]
  },
  {
   "cell_type": "code",
   "execution_count": 31,
   "metadata": {
    "_uuid": "f8e6b8453a4168b0f317c170237e160e55567115",
    "collapsed": true
   },
   "outputs": [],
   "source": [
    "#对类别型变量做独热向量编码\n",
    "all_dummy_df = pd.get_dummies(all_df)\n",
    "dummy_train_df = all_dummy_df.loc[train_df.index]\n",
    "dummy_test_df = all_dummy_df.loc[test_df.index]"
   ]
  },
  {
   "cell_type": "code",
   "execution_count": 35,
   "metadata": {
    "_uuid": "9f66a4a793665cf12030367f30ae13e576ddd72a",
    "collapsed": true
   },
   "outputs": [],
   "source": [
    "#从pandas中取出训练集和测试集数据\n",
    "X_train = dummy_train_df.values\n",
    "X_test = dummy_test_df.values"
   ]
  },
  {
   "cell_type": "markdown",
   "metadata": {},
   "source": [
    "### 5.建模调参"
   ]
  },
  {
   "cell_type": "code",
   "execution_count": 36,
   "metadata": {
    "_uuid": "4629894cabe2d157bb0723da2a747e04512b92b4",
    "collapsed": true
   },
   "outputs": [],
   "source": [
    "#使用岭回归建模调参\n",
    "alphas = np.logspace(-3, 2, 50)\n",
    "test_scores = []\n",
    "for alpha in alphas:\n",
    "    clf = Ridge(alpha)\n",
    "    test_score = np.sqrt(-cross_val_score(clf, X_train, y_train, cv=10, scoring='neg_mean_squared_error'))\n",
    "    test_scores.append(np.mean(test_score))"
   ]
  },
  {
   "cell_type": "code",
   "execution_count": 37,
   "metadata": {
    "_uuid": "39a174064c711211b5714266a2eba9e23dcdcf0f"
   },
   "outputs": [
    {
     "data": {
      "image/png": "[encoded data removed]",
      "text/plain": [
       "<matplotlib.figure.Figure at 0x7f6421129cc0>"
      ]
     },
     "metadata": {},
     "output_type": "display_data"
    }
   ],
   "source": [
    "#绘制得分随alpha变化曲线\n",
    "import matplotlib.pyplot as plt\n",
    "%matplotlib inline\n",
    "plt.plot(alphas, test_scores)\n",
    "plt.title(\"Alpha vs CV Error\");"
   ]
  },
  {
   "cell_type": "code",
   "execution_count": 39,
   "metadata": {
    "collapsed": true
   },
   "outputs": [],
   "source": [
    "#xgboost、gbdt分别使用scripts目录下面的xgb_build_model.py和gbdt_build_model.py两个脚本，\n",
    "#由于本机运行较慢我是在云平台使用nohup python shell_name.py &运行的。"
   ]
  },
  {
   "cell_type": "code",
   "execution_count": 38,
   "metadata": {
    "_uuid": "1e5fb0541d1f155a49c0dc113b8b6e748acdda0c",
    "collapsed": true
   },
   "outputs": [],
   "source": [
    "#选择最优的参数建模\n",
    "ridge = Ridge(alpha=10)\n",
    "gbdt = GradientBoostingRegressor(\n",
    "    random_state = 2018,\n",
    "    learning_rate = 0.01,\n",
    "    n_estimators = 500,\n",
    "    max_depth = 6,\n",
    "    subsample = 0.9\n",
    "    )\n",
    "xgb = xgb.XGBRegressor(\n",
    "    learning_rate = 0.1,\n",
    "    max_depth = 5,\n",
    "    min_child_weight = 2.5,\n",
    "    n_estimators = 200,                                                                  \n",
    "    seed = 2018,\n",
    "    silent = 1)"
   ]
  },
  {
   "cell_type": "code",
   "execution_count": 40,
   "metadata": {
    "_uuid": "2cc53ec6d8e5d54452554db9390533d3faf41753",
    "scrolled": true
   },
   "outputs": [
    {
     "data": {
      "text/plain": [
       "XGBRegressor(base_score=0.5, booster='gbtree', colsample_bylevel=1,\n",
       "       colsample_bytree=1, gamma=0, learning_rate=0.1, max_delta_step=0,\n",
       "       max_depth=5, min_child_weight=2.5, missing=None, n_estimators=200,\n",
       "       n_jobs=1, nthread=None, objective='reg:linear', random_state=0,\n",
       "       reg_alpha=0, reg_lambda=1, scale_pos_weight=1, seed=2018, silent=1,\n",
       "       subsample=1)"
      ]
     },
     "execution_count": 40,
     "metadata": {},
     "output_type": "execute_result"
    }
   ],
   "source": [
    "#拟合数据\n",
    "ridge.fit(X_train, y_train)\n",
    "gbdt.fit(X_train, y_train)\n",
    "xgb.fit(X_train, y_train)"
   ]
  },
  {
   "cell_type": "markdown",
   "metadata": {},
   "source": [
    "### 7.预测、提交"
   ]
  },
  {
   "cell_type": "code",
   "execution_count": 42,
   "metadata": {
    "_uuid": "7e4bec0afe5012efc4d7157f28a7a7fd4ed761c1",
    "collapsed": true
   },
   "outputs": [],
   "source": [
    "#预测并使用expm1对最终预测结果做转换\n",
    "y_ridge = np.expm1(ridge.predict(X_test))\n",
    "y_gbdt = np.expm1(gbdt.predict(X_test))\n",
    "y_xgb = np.expm1(xgb.predict(X_test))"
   ]
  },
  {
   "cell_type": "code",
   "execution_count": 43,
   "metadata": {
    "collapsed": true
   },
   "outputs": [],
   "source": [
    "#最终预测岭回归置信度为0.5，gbdt回归置信度为0.3，xgb置信度为0.2\n",
    "y_final = 0.5*y_ridge + 0.3*y_gbdt  +  0.2*y_xgb"
   ]
  },
  {
   "cell_type": "code",
   "execution_count": 46,
   "metadata": {
    "_uuid": "a203a634984b7a27ecbc9552e8697ec423936597",
    "collapsed": true
   },
   "outputs": [],
   "source": [
    "#结果保存到csv文件中\n",
    "submission_df = pd.DataFrame(data= {'Id' : test_df.index, 'SalePrice': y_final})\n",
    "submission_df.to_csv('../outputs/submission-V0.22.csv', index=False)"
   ]
  },
  {
   "cell_type": "markdown",
   "metadata": {},
   "source": [
    "#### 提交记录\n",
    "![提交记录](../3.images/commit_history.png)"
   ]
  },
  {
   "cell_type": "markdown",
   "metadata": {},
   "source": [
    "#### 最终成绩\n",
    "![提交记录](../3.images/final_score.png)"
   ]
  },
  {
   "cell_type": "markdown",
   "metadata": {},
   "source": [
    "### 8.项目总结"
   ]
  },
  {
   "cell_type": "markdown",
   "metadata": {},
   "source": [
    "```\n",
    "通过房价预测的这个比赛，我更加深入的体会了应用机器学习技术进行数据建模项目的各个包括数据清洗、特征工程、建模调参、模型融合等方面在内的细节，在这个过程中我收获颇多：\n",
    "1. 数据预处理、特征工程两块工作是项目成功的关键，可以说数据和特征决定了模型的上限，在调整模型参数、模型融合方式没有提升时，我回头考虑了一下数据和特征是否有优化的空间，当我能够在特征方面想到更好的点子时一般情况下都能给模型带来一定的提升；\n",
    "2. 在该案例当中线性回归表现要比树模型表现好得多，模型融合明显能提升模型的效果，避免过拟合；\n",
    "3. 在寻求解决方案的过程中，我学到了对label做log平滑化处理、对数值特征做偏度调整两个小技巧；\n",
    "4. 当样本量或特征量较大导致训练较慢时，可以考虑开启多线程来训练模型；\n",
    "5. 在动手前对数据进行分析能够了解数据分布的特点和规律特别重要，能够给数据清洗和特征工程带来非常重要的参照。\n",
    "```"
   ]
  },
  {
   "cell_type": "markdown",
   "metadata": {},
   "source": [
    "### 9.参考kernel"
   ]
  },
  {
   "cell_type": "markdown",
   "metadata": {},
   "source": [
    "#### 在赛题解答过程中我参考了如下kernel：\n",
    "- https://www.kaggle.com/hamzaben/tuned-random-forest-lasso-and-xgboost-regressors\n",
    "- https://www.kaggle.com/serigne/stacked-regressions-top-4-on-leaderboard\n",
    "- https://www.kaggle.com/laurenstc/top-2-of-leaderboard-advanced-fe\n"
   ]
  }
 ],
 "metadata": {
  "kernelspec": {
   "display_name": "Python 3",
   "language": "python",
   "name": "python3"
  },
  "language_info": {
   "codemirror_mode": {
    "name": "ipython",
    "version": 3
   },
   "file_extension": ".py",
   "mimetype": "text/x-python",
   "name": "python",
   "nbconvert_exporter": "python",
   "pygments_lexer": "ipython3",
   "version": "3.5.2"
  }
 },
 "nbformat": 4,
 "nbformat_minor": 1
}
