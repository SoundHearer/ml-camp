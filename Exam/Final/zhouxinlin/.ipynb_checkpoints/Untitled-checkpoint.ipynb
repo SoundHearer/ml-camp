{
 "cells": [
  {
   "cell_type": "markdown",
   "metadata": {},
   "source": [
    "#### 本次成绩:80\n",
    "\n",
    "### 评卷标准:\n",
    "- 分析，理顺，项目要求并落实在文档中   √\n",
    "- 比较不同结果 ，思考，改进，总结。    这一步有思考 ，但明显和那些尝试了许多次的同学有差距。\n",
    "- 成绩提交并截图成绩   ？ 成绩的截图在word里也没找到呀\n",
    "- 最终结论，报告。    √\n",
    "\n",
    "word看着好累，没事熟悉下notebook呗。\n",
    "#### 评卷：David"
   ]
  }
 ],
 "metadata": {
  "kernelspec": {
   "display_name": "Python 3",
   "language": "python",
   "name": "python3"
  },
  "language_info": {
   "codemirror_mode": {
    "name": "ipython",
    "version": 3
   },
   "file_extension": ".py",
   "mimetype": "text/x-python",
   "name": "python",
   "nbconvert_exporter": "python",
   "pygments_lexer": "ipython3",
   "version": "3.5.2"
  }
 },
 "nbformat": 4,
 "nbformat_minor": 2
}
