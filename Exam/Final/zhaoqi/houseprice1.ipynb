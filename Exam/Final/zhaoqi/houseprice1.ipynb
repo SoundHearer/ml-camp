{
 "cells": [
  {
   "cell_type": "markdown",
   "metadata": {},
   "source": [
    "#### 本次成绩:65\n",
    "\n",
    "### 评卷标准:\n",
    "- 分析，理顺，项目要求并落实在文档中   √\n",
    "- 比较不同结果 ，思考，改进，总结。   √\n",
    "- 成绩提交并截图成绩   ？\n",
    "- 最终结论，报告。    ？\n",
    "\n",
    "看得出完成这个作业，是不容易的。和那些基础好，学习能力强的同学相比，已经是很不容易 了。继续坚持下去\n",
    "\n",
    "#### 评卷：David"
   ]
  },
  {
   "cell_type": "markdown",
   "metadata": {},
   "source": [
    "本文的主要思想是：\n",
    "1）先看看数据的样子，是否有空缺值，数据的类型除了数值型，是否还有其他类型？\n",
    "    如果有空缺值分组填充，数值型的空缺值，则填均值，非空缺填none;\n",
    "    对于非数值的特征需要采用编码方式将其表示成向量的形式；\n",
    "    当然如果能提前删除以下不需要的特征，则在计算速度和数据处理上都是不错的，所以接下来通过一些EDA的统计方法探寻特征与目标之间的关系；   \n",
    "2）先使用EDA的统计方法，对目标函数进行统计分析。并做相关性检测，筛选掉一些特征。\n",
    "    通过目标函数的分布概率图可以看出，形状类似于正态分布，因此会用标准正态分布拟合target数据。通过skew函数看拟合的偏离情况，发现偏离结果为1.88，通过查资料发现，可以通过两种方式解决上述情形，一种方式是分析特征之间的相关性，找更有用的特征；另一种方式的替换变量。本文采用的是替换变量。这样拟合比较好的结果，用于特征与替换后的变量做相关性等操作。\n",
    "3）填空缺值\n",
    "4）使用三种模型做融合，可以到数据集的大小，数据的稀疏性，特征的离散型等因素选择了鲁棒性和抗过拟合能力都很强的随机森林，xgboost，岭回归（参考别人的kernal）.然后对这些模型的进行融合，使用网格搜索交叉验证的方式寻找最优模型，及参数。评价指标，我采用看R2,cv_score两种。\n",
    "5）模型融合，是权值的融合。这里构造了一个函数来确定选择各个模型的比例是多少。这个函数是求解三个模型预测均方误差的和值，加入L2正则化，可以采用随机梯度下降优化权值。（这一步由于时间原因，代码没写完，接下来的有的做了，有的思路，但目前还没做。）\n",
    "6）可以对特征值的重要度进行排序，我做了，采用的是对最优化随机森林这个模型的特征重要度排序，我发现有一定数据的特征对结果的贡献度为0，这样的话，是可以筛选的。另外，通过四则运算组合重要度排在前几名的的特征，产生一些新的有价值的特征，也可以通过其他方式等，再运行一次模型，看看结果如何。\n",
    "7）其实也可以通过迁徙学习处理该问题。LSTM，DNN等模型均可。\n",
    "8）可以通过调参优化模型。"
   ]
  },
  {
   "cell_type": "code",
   "execution_count": 3,
   "metadata": {
    "collapsed": true
   },
   "outputs": [],
   "source": [
    "# importing Python libraries \n",
    "import numpy as np\n",
    "import pandas as pd\n",
    "import matplotlib.pyplot as plt\n",
    "% matplotlib inline\n",
    "import seaborn as sns\n",
    "from scipy import stats\n",
    "from scipy.stats import norm, skew"
   ]
  },
  {
   "cell_type": "code",
   "execution_count": 4,
   "metadata": {},
   "outputs": [
    {
     "name": "stdout",
     "output_type": "stream",
     "text": [
      "['train.csv', '.ipynb_checkpoints', 'test.csv', 'houseprice1.ipynb', 'sample_submission.csv']\n"
     ]
    }
   ],
   "source": [
    "# Input data files are available in the \"../input/\" directory.\n",
    "import os\n",
    "print(os.listdir(\"../zhaoqi\"))\n",
    "# Any results written to the current directory are saved as output."
   ]
  },
  {
   "cell_type": "code",
   "execution_count": 5,
   "metadata": {
    "collapsed": true
   },
   "outputs": [],
   "source": [
    "# importing the supplied dataset and storing it in a dataframe\n",
    "training = pd.read_csv('../zhaoqi/train.csv')\n",
    "test = pd.read_csv('../zhaoqi/test.csv')\n",
    "# making copies of original datasets for rest of this kernel\n",
    "df_train = training.copy()\n",
    "df_test = test.copy()"
   ]
  },
  {
   "cell_type": "code",
   "execution_count": 6,
   "metadata": {
    "collapsed": true
   },
   "outputs": [],
   "source": [
    "target = df_train['SalePrice']  #target variable\n",
    "df_train = df_train.drop('SalePrice', axis=1) #drop target variable from training dataset\n",
    "df_train['training_set'] = True #assing an extra variable to training and testing dataset before joining them\n",
    "df_test['training_set'] = False\n",
    "df_full = pd.concat([df_train, df_test]) #concatenate both dataframes prior to EDA"
   ]
  },
  {
   "cell_type": "code",
   "execution_count": 7,
   "metadata": {},
   "outputs": [
    {
     "data": {
      "text/html": [
       "<div>\n",
       "<style>\n",
       "    .dataframe thead tr:only-child th {\n",
       "        text-align: right;\n",
       "    }\n",
       "\n",
       "    .dataframe thead th {\n",
       "        text-align: left;\n",
       "    }\n",
       "\n",
       "    .dataframe tbody tr th {\n",
       "        vertical-align: top;\n",
       "    }\n",
       "</style>\n",
       "<table border=\"1\" class=\"dataframe\">\n",
       "  <thead>\n",
       "    <tr style=\"text-align: right;\">\n",
       "      <th></th>\n",
       "      <th>Id</th>\n",
       "      <th>MSSubClass</th>\n",
       "      <th>MSZoning</th>\n",
       "      <th>LotFrontage</th>\n",
       "      <th>LotArea</th>\n",
       "      <th>Street</th>\n",
       "      <th>Alley</th>\n",
       "      <th>LotShape</th>\n",
       "      <th>LandContour</th>\n",
       "      <th>Utilities</th>\n",
       "      <th>...</th>\n",
       "      <th>PoolArea</th>\n",
       "      <th>PoolQC</th>\n",
       "      <th>Fence</th>\n",
       "      <th>MiscFeature</th>\n",
       "      <th>MiscVal</th>\n",
       "      <th>MoSold</th>\n",
       "      <th>YrSold</th>\n",
       "      <th>SaleType</th>\n",
       "      <th>SaleCondition</th>\n",
       "      <th>training_set</th>\n",
       "    </tr>\n",
       "  </thead>\n",
       "  <tbody>\n",
       "    <tr>\n",
       "      <th>0</th>\n",
       "      <td>1</td>\n",
       "      <td>60</td>\n",
       "      <td>RL</td>\n",
       "      <td>65.0</td>\n",
       "      <td>8450</td>\n",
       "      <td>Pave</td>\n",
       "      <td>NaN</td>\n",
       "      <td>Reg</td>\n",
       "      <td>Lvl</td>\n",
       "      <td>AllPub</td>\n",
       "      <td>...</td>\n",
       "      <td>0</td>\n",
       "      <td>NaN</td>\n",
       "      <td>NaN</td>\n",
       "      <td>NaN</td>\n",
       "      <td>0</td>\n",
       "      <td>2</td>\n",
       "      <td>2008</td>\n",
       "      <td>WD</td>\n",
       "      <td>Normal</td>\n",
       "      <td>True</td>\n",
       "    </tr>\n",
       "    <tr>\n",
       "      <th>1</th>\n",
       "      <td>2</td>\n",
       "      <td>20</td>\n",
       "      <td>RL</td>\n",
       "      <td>80.0</td>\n",
       "      <td>9600</td>\n",
       "      <td>Pave</td>\n",
       "      <td>NaN</td>\n",
       "      <td>Reg</td>\n",
       "      <td>Lvl</td>\n",
       "      <td>AllPub</td>\n",
       "      <td>...</td>\n",
       "      <td>0</td>\n",
       "      <td>NaN</td>\n",
       "      <td>NaN</td>\n",
       "      <td>NaN</td>\n",
       "      <td>0</td>\n",
       "      <td>5</td>\n",
       "      <td>2007</td>\n",
       "      <td>WD</td>\n",
       "      <td>Normal</td>\n",
       "      <td>True</td>\n",
       "    </tr>\n",
       "    <tr>\n",
       "      <th>2</th>\n",
       "      <td>3</td>\n",
       "      <td>60</td>\n",
       "      <td>RL</td>\n",
       "      <td>68.0</td>\n",
       "      <td>11250</td>\n",
       "      <td>Pave</td>\n",
       "      <td>NaN</td>\n",
       "      <td>IR1</td>\n",
       "      <td>Lvl</td>\n",
       "      <td>AllPub</td>\n",
       "      <td>...</td>\n",
       "      <td>0</td>\n",
       "      <td>NaN</td>\n",
       "      <td>NaN</td>\n",
       "      <td>NaN</td>\n",
       "      <td>0</td>\n",
       "      <td>9</td>\n",
       "      <td>2008</td>\n",
       "      <td>WD</td>\n",
       "      <td>Normal</td>\n",
       "      <td>True</td>\n",
       "    </tr>\n",
       "    <tr>\n",
       "      <th>3</th>\n",
       "      <td>4</td>\n",
       "      <td>70</td>\n",
       "      <td>RL</td>\n",
       "      <td>60.0</td>\n",
       "      <td>9550</td>\n",
       "      <td>Pave</td>\n",
       "      <td>NaN</td>\n",
       "      <td>IR1</td>\n",
       "      <td>Lvl</td>\n",
       "      <td>AllPub</td>\n",
       "      <td>...</td>\n",
       "      <td>0</td>\n",
       "      <td>NaN</td>\n",
       "      <td>NaN</td>\n",
       "      <td>NaN</td>\n",
       "      <td>0</td>\n",
       "      <td>2</td>\n",
       "      <td>2006</td>\n",
       "      <td>WD</td>\n",
       "      <td>Abnorml</td>\n",
       "      <td>True</td>\n",
       "    </tr>\n",
       "    <tr>\n",
       "      <th>4</th>\n",
       "      <td>5</td>\n",
       "      <td>60</td>\n",
       "      <td>RL</td>\n",
       "      <td>84.0</td>\n",
       "      <td>14260</td>\n",
       "      <td>Pave</td>\n",
       "      <td>NaN</td>\n",
       "      <td>IR1</td>\n",
       "      <td>Lvl</td>\n",
       "      <td>AllPub</td>\n",
       "      <td>...</td>\n",
       "      <td>0</td>\n",
       "      <td>NaN</td>\n",
       "      <td>NaN</td>\n",
       "      <td>NaN</td>\n",
       "      <td>0</td>\n",
       "      <td>12</td>\n",
       "      <td>2008</td>\n",
       "      <td>WD</td>\n",
       "      <td>Normal</td>\n",
       "      <td>True</td>\n",
       "    </tr>\n",
       "  </tbody>\n",
       "</table>\n",
       "<p>5 rows × 81 columns</p>\n",
       "</div>"
      ],
      "text/plain": [
       "   Id  MSSubClass MSZoning  LotFrontage  LotArea Street Alley LotShape  \\\n",
       "0   1          60       RL         65.0     8450   Pave   NaN      Reg   \n",
       "1   2          20       RL         80.0     9600   Pave   NaN      Reg   \n",
       "2   3          60       RL         68.0    11250   Pave   NaN      IR1   \n",
       "3   4          70       RL         60.0     9550   Pave   NaN      IR1   \n",
       "4   5          60       RL         84.0    14260   Pave   NaN      IR1   \n",
       "\n",
       "  LandContour Utilities      ...      PoolArea PoolQC Fence MiscFeature  \\\n",
       "0         Lvl    AllPub      ...             0    NaN   NaN         NaN   \n",
       "1         Lvl    AllPub      ...             0    NaN   NaN         NaN   \n",
       "2         Lvl    AllPub      ...             0    NaN   NaN         NaN   \n",
       "3         Lvl    AllPub      ...             0    NaN   NaN         NaN   \n",
       "4         Lvl    AllPub      ...             0    NaN   NaN         NaN   \n",
       "\n",
       "  MiscVal MoSold YrSold  SaleType  SaleCondition  training_set  \n",
       "0       0      2   2008        WD         Normal          True  \n",
       "1       0      5   2007        WD         Normal          True  \n",
       "2       0      9   2008        WD         Normal          True  \n",
       "3       0      2   2006        WD        Abnorml          True  \n",
       "4       0     12   2008        WD         Normal          True  \n",
       "\n",
       "[5 rows x 81 columns]"
      ]
     },
     "execution_count": 7,
     "metadata": {},
     "output_type": "execute_result"
    }
   ],
   "source": [
    "df_full.head()"
   ]
  },
  {
   "cell_type": "code",
   "execution_count": 8,
   "metadata": {},
   "outputs": [
    {
     "name": "stdout",
     "output_type": "stream",
     "text": [
      "<class 'pandas.core.frame.DataFrame'>\n",
      "Int64Index: 2919 entries, 0 to 1458\n",
      "Data columns (total 81 columns):\n",
      "Id               2919 non-null int64\n",
      "MSSubClass       2919 non-null int64\n",
      "MSZoning         2915 non-null object\n",
      "LotFrontage      2433 non-null float64\n",
      "LotArea          2919 non-null int64\n",
      "Street           2919 non-null object\n",
      "Alley            198 non-null object\n",
      "LotShape         2919 non-null object\n",
      "LandContour      2919 non-null object\n",
      "Utilities        2917 non-null object\n",
      "LotConfig        2919 non-null object\n",
      "LandSlope        2919 non-null object\n",
      "Neighborhood     2919 non-null object\n",
      "Condition1       2919 non-null object\n",
      "Condition2       2919 non-null object\n",
      "BldgType         2919 non-null object\n",
      "HouseStyle       2919 non-null object\n",
      "OverallQual      2919 non-null int64\n",
      "OverallCond      2919 non-null int64\n",
      "YearBuilt        2919 non-null int64\n",
      "YearRemodAdd     2919 non-null int64\n",
      "RoofStyle        2919 non-null object\n",
      "RoofMatl         2919 non-null object\n",
      "Exterior1st      2918 non-null object\n",
      "Exterior2nd      2918 non-null object\n",
      "MasVnrType       2895 non-null object\n",
      "MasVnrArea       2896 non-null float64\n",
      "ExterQual        2919 non-null object\n",
      "ExterCond        2919 non-null object\n",
      "Foundation       2919 non-null object\n",
      "BsmtQual         2838 non-null object\n",
      "BsmtCond         2837 non-null object\n",
      "BsmtExposure     2837 non-null object\n",
      "BsmtFinType1     2840 non-null object\n",
      "BsmtFinSF1       2918 non-null float64\n",
      "BsmtFinType2     2839 non-null object\n",
      "BsmtFinSF2       2918 non-null float64\n",
      "BsmtUnfSF        2918 non-null float64\n",
      "TotalBsmtSF      2918 non-null float64\n",
      "Heating          2919 non-null object\n",
      "HeatingQC        2919 non-null object\n",
      "CentralAir       2919 non-null object\n",
      "Electrical       2918 non-null object\n",
      "1stFlrSF         2919 non-null int64\n",
      "2ndFlrSF         2919 non-null int64\n",
      "LowQualFinSF     2919 non-null int64\n",
      "GrLivArea        2919 non-null int64\n",
      "BsmtFullBath     2917 non-null float64\n",
      "BsmtHalfBath     2917 non-null float64\n",
      "FullBath         2919 non-null int64\n",
      "HalfBath         2919 non-null int64\n",
      "BedroomAbvGr     2919 non-null int64\n",
      "KitchenAbvGr     2919 non-null int64\n",
      "KitchenQual      2918 non-null object\n",
      "TotRmsAbvGrd     2919 non-null int64\n",
      "Functional       2917 non-null object\n",
      "Fireplaces       2919 non-null int64\n",
      "FireplaceQu      1499 non-null object\n",
      "GarageType       2762 non-null object\n",
      "GarageYrBlt      2760 non-null float64\n",
      "GarageFinish     2760 non-null object\n",
      "GarageCars       2918 non-null float64\n",
      "GarageArea       2918 non-null float64\n",
      "GarageQual       2760 non-null object\n",
      "GarageCond       2760 non-null object\n",
      "PavedDrive       2919 non-null object\n",
      "WoodDeckSF       2919 non-null int64\n",
      "OpenPorchSF      2919 non-null int64\n",
      "EnclosedPorch    2919 non-null int64\n",
      "3SsnPorch        2919 non-null int64\n",
      "ScreenPorch      2919 non-null int64\n",
      "PoolArea         2919 non-null int64\n",
      "PoolQC           10 non-null object\n",
      "Fence            571 non-null object\n",
      "MiscFeature      105 non-null object\n",
      "MiscVal          2919 non-null int64\n",
      "MoSold           2919 non-null int64\n",
      "YrSold           2919 non-null int64\n",
      "SaleType         2918 non-null object\n",
      "SaleCondition    2919 non-null object\n",
      "training_set     2919 non-null bool\n",
      "dtypes: bool(1), float64(11), int64(26), object(43)\n",
      "memory usage: 1.8+ MB\n"
     ]
    }
   ],
   "source": [
    "df_full.info()#可以看出有不少值为空，有多种不同的数据类型.可以在填缺失值时，按照数据类型填"
   ]
  },
  {
   "cell_type": "code",
   "execution_count": 9,
   "metadata": {},
   "outputs": [
    {
     "data": {
      "text/plain": [
       "Id                  0\n",
       "MSSubClass          0\n",
       "MSZoning            4\n",
       "LotFrontage       486\n",
       "LotArea             0\n",
       "Street              0\n",
       "Alley            2721\n",
       "LotShape            0\n",
       "LandContour         0\n",
       "Utilities           2\n",
       "LotConfig           0\n",
       "LandSlope           0\n",
       "Neighborhood        0\n",
       "Condition1          0\n",
       "Condition2          0\n",
       "BldgType            0\n",
       "HouseStyle          0\n",
       "OverallQual         0\n",
       "OverallCond         0\n",
       "YearBuilt           0\n",
       "YearRemodAdd        0\n",
       "RoofStyle           0\n",
       "RoofMatl            0\n",
       "Exterior1st         1\n",
       "Exterior2nd         1\n",
       "MasVnrType         24\n",
       "MasVnrArea         23\n",
       "ExterQual           0\n",
       "ExterCond           0\n",
       "Foundation          0\n",
       "                 ... \n",
       "BedroomAbvGr        0\n",
       "KitchenAbvGr        0\n",
       "KitchenQual         1\n",
       "TotRmsAbvGrd        0\n",
       "Functional          2\n",
       "Fireplaces          0\n",
       "FireplaceQu      1420\n",
       "GarageType        157\n",
       "GarageYrBlt       159\n",
       "GarageFinish      159\n",
       "GarageCars          1\n",
       "GarageArea          1\n",
       "GarageQual        159\n",
       "GarageCond        159\n",
       "PavedDrive          0\n",
       "WoodDeckSF          0\n",
       "OpenPorchSF         0\n",
       "EnclosedPorch       0\n",
       "3SsnPorch           0\n",
       "ScreenPorch         0\n",
       "PoolArea            0\n",
       "PoolQC           2909\n",
       "Fence            2348\n",
       "MiscFeature      2814\n",
       "MiscVal             0\n",
       "MoSold              0\n",
       "YrSold              0\n",
       "SaleType            1\n",
       "SaleCondition       0\n",
       "training_set        0\n",
       "Length: 81, dtype: int64"
      ]
     },
     "execution_count": 9,
     "metadata": {},
     "output_type": "execute_result"
    }
   ],
   "source": [
    "df_full.isnull().sum()"
   ]
  },
  {
   "cell_type": "code",
   "execution_count": 10,
   "metadata": {},
   "outputs": [
    {
     "data": {
      "text/plain": [
       "Index([u'LotFrontage', u'Alley', u'FireplaceQu', u'PoolQC', u'Fence',\n",
       "       u'MiscFeature'],\n",
       "      dtype='object')"
      ]
     },
     "execution_count": 10,
     "metadata": {},
     "output_type": "execute_result"
    }
   ],
   "source": [
    "df_full.columns[df_full.isnull().sum()>200]"
   ]
  },
  {
   "cell_type": "code",
   "execution_count": 11,
   "metadata": {
    "collapsed": true
   },
   "outputs": [],
   "source": [
    "df_full.drop(df_full.columns[df_full.isnull().sum()>200],axis=1,inplace=True)\n",
    "#df_full.drop('Id',axis=1,inplace=True)"
   ]
  },
  {
   "cell_type": "code",
   "execution_count": 12,
   "metadata": {},
   "outputs": [
    {
     "data": {
      "text/plain": [
       "(2919, 75)"
      ]
     },
     "execution_count": 12,
     "metadata": {},
     "output_type": "execute_result"
    }
   ],
   "source": [
    "df_full.shape#将缺失值较高的列删除了，其实直接删除的话，对后面的数据处理稍简单些，但是有可能会丢失数据，这一点需要注意。"
   ]
  },
  {
   "cell_type": "markdown",
   "metadata": {},
   "source": [
    "现在看看目标函数的样子，以及统计特征"
   ]
  },
  {
   "cell_type": "code",
   "execution_count": 13,
   "metadata": {},
   "outputs": [
    {
     "name": "stdout",
     "output_type": "stream",
     "text": [
      "There are 0 NA values in 'SalePrice'\n"
     ]
    }
   ],
   "source": [
    "print(\"There are {} NA values in 'SalePrice'\".format(target.isnull().values.sum()))"
   ]
  },
  {
   "cell_type": "code",
   "execution_count": 14,
   "metadata": {},
   "outputs": [
    {
     "name": "stdout",
     "output_type": "stream",
     "text": [
      "Statistics for the supplied house prices training dataset:\n",
      "Minimum price: $34,900.00\n",
      "Maximum price: $755,000.00\n",
      "Mean price: $180,921.20\n",
      "Median price $163,000.00\n",
      "Standard deviation of prices: $79,415.29\n"
     ]
    }
   ],
   "source": [
    "# let's get some stats on the 'SalePrice' variable\n",
    "minimum_price = np.min(target)\n",
    "maximum_price = np.max(target)\n",
    "mean_price = np.mean(target)\n",
    "median_price = np.median(target)\n",
    "std_price = np.std(target)\n",
    "\n",
    "# Show the calculated statistics\n",
    "print(\"Statistics for the supplied house prices training dataset:\")\n",
    "print(\"Minimum price: ${:,.2f}\".format(minimum_price))\n",
    "print(\"Maximum price: ${:,.2f}\".format(maximum_price))\n",
    "print(\"Mean price: ${:,.2f}\".format(mean_price))\n",
    "print(\"Median price ${:,.2f}\".format(median_price))\n",
    "print(\"Standard deviation of prices: ${:,.2f}\".format(std_price))"
   ]
  },
  {
   "cell_type": "code",
   "execution_count": 15,
   "metadata": {},
   "outputs": [
    {
     "data": {
      "image/png": "[encoded data removed]",
      "text/plain": [
       "<matplotlib.figure.Figure at 0x7f8974b27a10>"
      ]
     },
     "metadata": {},
     "output_type": "display_data"
    }
   ],
   "source": [
    "sns.distplot(target , fit=norm);\n",
    "# get mean and standard deviation\n",
    "(mu, sigma) = norm.fit(target)#拟合出最好的参数\n",
    "# add legends to the plot\n",
    "plt.legend(['Normal dist. ($\\mu=$ {:.2f} and $\\sigma=$ {:.2f} )'.format(mu, sigma)],\n",
    "            loc='best')\n",
    "plt.ylabel('Frequency')\n",
    "plt.title('Price');"
   ]
  },
  {
   "cell_type": "code",
   "execution_count": 16,
   "metadata": {},
   "outputs": [
    {
     "data": {
      "text/plain": [
       "1.8828757597682129"
      ]
     },
     "execution_count": 16,
     "metadata": {},
     "output_type": "execute_result"
    }
   ],
   "source": [
    "target.skew()"
   ]
  },
  {
   "cell_type": "code",
   "execution_count": 17,
   "metadata": {
    "collapsed": true
   },
   "outputs": [],
   "source": [
    "#上图中的偏差，对于这种情况有两种方法，一种是去除异常值的方式；另一种是转换变量方式。对于异常值处理，无法有一个评价指标判断"
   ]
  },
  {
   "cell_type": "code",
   "execution_count": 18,
   "metadata": {},
   "outputs": [
    {
     "data": {
      "image/png": "[encoded data removed]",
      "text/plain": [
       "<matplotlib.figure.Figure at 0x7f893773d5d0>"
      ]
     },
     "metadata": {},
     "output_type": "display_data"
    }
   ],
   "source": [
    "target1 = np.log(target)\n",
    "sns.distplot(target1, fit=norm)\n",
    "plt.legend(['Normal dist. ($\\mu=$ {:.2f} and $\\sigma=$ {:.2f} )'.format(mu, sigma)],\n",
    "            loc='best')\n",
    "plt.ylabel('Frequency')\n",
    "plt.title('Price');"
   ]
  },
  {
   "cell_type": "code",
   "execution_count": 19,
   "metadata": {},
   "outputs": [
    {
     "data": {
      "text/plain": [
       "0.12133506220520406"
      ]
     },
     "execution_count": 19,
     "metadata": {},
     "output_type": "execute_result"
    }
   ],
   "source": [
    "target1.skew()#拟合的偏差"
   ]
  },
  {
   "cell_type": "markdown",
   "metadata": {},
   "source": [
    "#填充缺失值，并对非数值型数据进行onehotencoding"
   ]
  },
  {
   "cell_type": "code",
   "execution_count": 20,
   "metadata": {},
   "outputs": [
    {
     "data": {
      "text/plain": [
       "{dtype('bool'): Index([u'training_set'], dtype='object'),\n",
       " dtype('int64'): Index([u'Id', u'MSSubClass', u'LotArea', u'OverallQual', u'OverallCond',\n",
       "        u'YearBuilt', u'YearRemodAdd', u'1stFlrSF', u'2ndFlrSF',\n",
       "        u'LowQualFinSF', u'GrLivArea', u'FullBath', u'HalfBath',\n",
       "        u'BedroomAbvGr', u'KitchenAbvGr', u'TotRmsAbvGrd', u'Fireplaces',\n",
       "        u'WoodDeckSF', u'OpenPorchSF', u'EnclosedPorch', u'3SsnPorch',\n",
       "        u'ScreenPorch', u'PoolArea', u'MiscVal', u'MoSold', u'YrSold'],\n",
       "       dtype='object'),\n",
       " dtype('float64'): Index([u'MasVnrArea', u'BsmtFinSF1', u'BsmtFinSF2', u'BsmtUnfSF',\n",
       "        u'TotalBsmtSF', u'BsmtFullBath', u'BsmtHalfBath', u'GarageYrBlt',\n",
       "        u'GarageCars', u'GarageArea'],\n",
       "       dtype='object'),\n",
       " dtype('O'): Index([u'MSZoning', u'Street', u'LotShape', u'LandContour', u'Utilities',\n",
       "        u'LotConfig', u'LandSlope', u'Neighborhood', u'Condition1',\n",
       "        u'Condition2', u'BldgType', u'HouseStyle', u'RoofStyle', u'RoofMatl',\n",
       "        u'Exterior1st', u'Exterior2nd', u'MasVnrType', u'ExterQual',\n",
       "        u'ExterCond', u'Foundation', u'BsmtQual', u'BsmtCond', u'BsmtExposure',\n",
       "        u'BsmtFinType1', u'BsmtFinType2', u'Heating', u'HeatingQC',\n",
       "        u'CentralAir', u'Electrical', u'KitchenQual', u'Functional',\n",
       "        u'GarageType', u'GarageFinish', u'GarageQual', u'GarageCond',\n",
       "        u'PavedDrive', u'SaleType', u'SaleCondition'],\n",
       "       dtype='object')}"
      ]
     },
     "execution_count": 20,
     "metadata": {},
     "output_type": "execute_result"
    }
   ],
   "source": [
    "df_full.columns.to_series().groupby(df_full.dtypes).groups#对df_full列的分组"
   ]
  },
  {
   "cell_type": "code",
   "execution_count": 21,
   "metadata": {
    "collapsed": true
   },
   "outputs": [],
   "source": [
    "# let's list all the numeric columns from df_training\n",
    "numeric_variables = list(df_full.select_dtypes(include=['int64', 'float64']).columns.values)\n",
    "# Apply per-column median of that columns and fill with that value\n",
    "df_full[numeric_variables] = df_full[numeric_variables].apply(lambda x: x.fillna(x.median()),axis=0)"
   ]
  },
  {
   "cell_type": "code",
   "execution_count": 22,
   "metadata": {
    "collapsed": true
   },
   "outputs": [],
   "source": [
    "# let's list all the non-numerical columns from df_training\n",
    "categorial_variables = list(df_full.select_dtypes(exclude=['int64', 'float64', 'bool']).columns.values)\n",
    "# Apply per-column median of that columns and fill with that value\n",
    "df_full[categorial_variables] = df_full[categorial_variables].apply(lambda x: x.fillna(\"None\"),axis=0)"
   ]
  },
  {
   "cell_type": "code",
   "execution_count": 23,
   "metadata": {},
   "outputs": [
    {
     "data": {
      "text/plain": [
       "0"
      ]
     },
     "execution_count": 23,
     "metadata": {},
     "output_type": "execute_result"
    }
   ],
   "source": [
    "df_full.isnull().sum().sum()#表明无空值"
   ]
  },
  {
   "cell_type": "code",
   "execution_count": 24,
   "metadata": {
    "collapsed": true
   },
   "outputs": [],
   "source": [
    "df_full = pd.get_dummies(df_full)"
   ]
  },
  {
   "cell_type": "code",
   "execution_count": 25,
   "metadata": {},
   "outputs": [
    {
     "data": {
      "text/plain": [
       "(2919, 288)"
      ]
     },
     "execution_count": 25,
     "metadata": {},
     "output_type": "execute_result"
    }
   ],
   "source": [
    "df_full.shape"
   ]
  },
  {
   "cell_type": "markdown",
   "metadata": {},
   "source": [
    "以上数据集已经准备好，之后划分train/test，进行模型的训练，测试"
   ]
  },
  {
   "cell_type": "code",
   "execution_count": 26,
   "metadata": {
    "collapsed": true
   },
   "outputs": [],
   "source": [
    "from sklearn.model_selection import train_test_split # import 'train_test_split'\n",
    "from sklearn.ensemble import RandomForestRegressor # import RandomForestRegressor\n",
    "from sklearn.metrics import r2_score, make_scorer, mean_squared_error # import metrics from sklearn\n",
    "from time import time"
   ]
  },
  {
   "cell_type": "code",
   "execution_count": 27,
   "metadata": {
    "collapsed": true
   },
   "outputs": [],
   "source": [
    "#这一步，不理解\n",
    "df_train = df_full[df_full['training_set']==True]\n",
    "df_train = df_train.drop('training_set', axis=1)\n",
    "df_test = df_full[df_full['training_set']==False]\n",
    "df_test = df_test.drop('training_set', axis=1)"
   ]
  },
  {
   "cell_type": "code",
   "execution_count": 28,
   "metadata": {
    "collapsed": true
   },
   "outputs": [],
   "source": [
    "X_train, X_test, y_train, y_test = train_test_split(df_train, target, random_state=42)"
   ]
  },
  {
   "cell_type": "code",
   "execution_count": 29,
   "metadata": {},
   "outputs": [
    {
     "data": {
      "text/plain": [
       "(1460, 287)"
      ]
     },
     "execution_count": 29,
     "metadata": {},
     "output_type": "execute_result"
    }
   ],
   "source": [
    "df_train.shape"
   ]
  },
  {
   "cell_type": "code",
   "execution_count": 30,
   "metadata": {},
   "outputs": [
    {
     "data": {
      "text/plain": [
       "(1459, 287)"
      ]
     },
     "execution_count": 30,
     "metadata": {},
     "output_type": "execute_result"
    }
   ],
   "source": [
    "df_test.shape"
   ]
  },
  {
   "cell_type": "code",
   "execution_count": 31,
   "metadata": {
    "collapsed": true
   },
   "outputs": [],
   "source": [
    "rf=RandomForestRegressor()\n",
    "rf.fit(X_train,y_train)\n",
    "rf_pre=rf.predict(X_test)"
   ]
  },
  {
   "cell_type": "code",
   "execution_count": 32,
   "metadata": {
    "collapsed": true
   },
   "outputs": [],
   "source": [
    "#使用教材验证寻找随机森林的超参数\n",
    "from sklearn.model_selection import GridSearchCV # Search over specified parameter values for an estimator.\n",
    "from sklearn.model_selection import RandomizedSearchCV # Search over specified parameter values for an estimator.\n",
    "from sklearn.model_selection import ShuffleSplit # Random permutation cross-validator"
   ]
  },
  {
   "cell_type": "code",
   "execution_count": 33,
   "metadata": {},
   "outputs": [
    {
     "name": "stdout",
     "output_type": "stream",
     "text": [
      "It took 3.96 minutes for RandomSearchCV to converge to optimised parameters for the RF model\n"
     ]
    }
   ],
   "source": [
    "start = time() # Get start time\n",
    "\n",
    "rf_regressor = RandomForestRegressor(random_state=42)\n",
    "cv_sets = ShuffleSplit(random_state = 4) # shuffling our data for cross-validation,一般表示几折交叉验证\n",
    "parameters = {'n_estimators':[100, 120, 140], \n",
    "              'min_samples_leaf':[1, 2, 3], \n",
    "              'max_depth':[10,15,20]}\n",
    "scorer = make_scorer(r2_score)\n",
    "n_iter_search = 10\n",
    "grid_obj = RandomizedSearchCV(rf_regressor, \n",
    "                              parameters, \n",
    "                              n_iter = n_iter_search, \n",
    "                              scoring = scorer, \n",
    "                              cv = cv_sets,\n",
    "                              random_state= 99)\n",
    "grid_fit = grid_obj.fit(X_train, y_train)\n",
    "rf_opt = grid_fit.best_estimator_\n",
    "\n",
    "end = time() # Get end time\n",
    "# Calculate training time\n",
    "rf_time = (end-start)/60\n",
    "print('It took {0:.2f} minutes for RandomSearchCV to converge to optimised parameters for the RF model'.format(rf_time))"
   ]
  },
  {
   "cell_type": "code",
   "execution_count": 34,
   "metadata": {},
   "outputs": [
    {
     "data": {
      "text/plain": [
       "{'max_depth': 15, 'min_samples_leaf': 2, 'n_estimators': 100}"
      ]
     },
     "execution_count": 34,
     "metadata": {},
     "output_type": "execute_result"
    }
   ],
   "source": [
    "# parameters={'max_depth':[6,10],'min_samples_leaf':[1,2,3]}\n",
    "# rf_cv=GridSearchCV(rf,parameters,cv=5)\n",
    "grid_fit.best_params_"
   ]
  },
  {
   "cell_type": "code",
   "execution_count": 35,
   "metadata": {},
   "outputs": [
    {
     "ename": "NameError",
     "evalue": "name 'rf_opt_preds' is not defined",
     "output_type": "error",
     "traceback": [
      "\u001b[0;31m\u001b[0m",
      "\u001b[0;31mNameError\u001b[0mTraceback (most recent call last)",
      "\u001b[0;32m<ipython-input-35-66c89508d04b>\u001b[0m in \u001b[0;36m<module>\u001b[0;34m()\u001b[0m\n\u001b[1;32m      1\u001b[0m \u001b[0;31m#第一种评价指标\u001b[0m\u001b[0;34m\u001b[0m\u001b[0;34m\u001b[0m\u001b[0m\n\u001b[1;32m      2\u001b[0m \u001b[0;32mfrom\u001b[0m \u001b[0msklearn\u001b[0m\u001b[0;34m.\u001b[0m\u001b[0mmetrics\u001b[0m \u001b[0;32mimport\u001b[0m \u001b[0mr2_score\u001b[0m\u001b[0;34m\u001b[0m\u001b[0m\n\u001b[0;32m----> 3\u001b[0;31m \u001b[0mr2_score\u001b[0m\u001b[0;34m(\u001b[0m\u001b[0mrf_opt_preds\u001b[0m\u001b[0;34m,\u001b[0m\u001b[0my_test\u001b[0m\u001b[0;34m)\u001b[0m\u001b[0;34m\u001b[0m\u001b[0m\n\u001b[0m",
      "\u001b[0;31mNameError\u001b[0m: name 'rf_opt_preds' is not defined"
     ]
    }
   ],
   "source": [
    "#第一种评价指标\n",
    "from sklearn.metrics import r2_score\n",
    "r2_score(rf_opt_preds,y_test)"
   ]
  },
  {
   "cell_type": "code",
   "execution_count": null,
   "metadata": {
    "collapsed": true
   },
   "outputs": [],
   "source": [
    "#第二种评价指标\n",
    "from sklearn.model_selection import KFold\n",
    "cv=cross_val_score(rf_opt,X_test,y_test)\n"
   ]
  },
  {
   "cell_type": "code",
   "execution_count": null,
   "metadata": {
    "collapsed": true
   },
   "outputs": [],
   "source": [
    "##第二个模型\n",
    "from sklearn.linear_model import  LogisticRegression\n",
    "from sklearn.tree import DecisionTreeRegressor\n",
    "from sklearn.ensemble import RandomForestRegressor\n",
    "from sklearn.svm import SVC\n",
    "import xgboost as xgb\n",
    "from xgboost import XGBRegressor"
   ]
  },
  {
   "cell_type": "code",
   "execution_count": null,
   "metadata": {
    "collapsed": true
   },
   "outputs": [],
   "source": [
    "#help(XGBRegressor)"
   ]
  },
  {
   "cell_type": "code",
   "execution_count": null,
   "metadata": {
    "collapsed": true
   },
   "outputs": [],
   "source": [
    "import xgboost as xgb\n",
    "xgb_regressor = xgb.XGBRegressor(seed=42)\n",
    "xgb_opt = xgb.XGBRegressor(\n",
    "    learning_rate = 0.05,\n",
    "    max_depth = 5,\n",
    "    min_child_weight = 1.5,\n",
    "    n_estimators = 7500,                                                                  \n",
    "    seed = 42,\n",
    "    silent = 1)\n",
    "xgb_fit=xgb_opt.fit(X_train,y_train)\n",
    "xgb_preds=xgb_opt.predict(X_test)\n"
   ]
  },
  {
   "cell_type": "code",
   "execution_count": null,
   "metadata": {
    "collapsed": true
   },
   "outputs": [],
   "source": [
    "r2_score(y_test,xgb_preds)"
   ]
  },
  {
   "cell_type": "code",
   "execution_count": null,
   "metadata": {
    "collapsed": true
   },
   "outputs": [],
   "source": []
  },
  {
   "cell_type": "markdown",
   "metadata": {},
   "source": [
    "#模型三"
   ]
  },
  {
   "cell_type": "code",
   "execution_count": null,
   "metadata": {
    "collapsed": true
   },
   "outputs": [],
   "source": [
    "from sklearn import linear_model\n",
    "from sklearn import cross_validation\n",
    "from sklearn import svm\n",
    "from sklearn.ensemble import RandomForestRegressor\n",
    "from sklearn.learning_curve import learning_curve\n",
    "from sklearn.grid_search import GridSearchCV\n",
    "from sklearn.metrics import explained_variance_score"
   ]
  },
  {
   "cell_type": "code",
   "execution_count": null,
   "metadata": {
    "collapsed": true
   },
   "outputs": [],
   "source": [
    "# 总得切分一下数据咯（训练集和测试集）\n",
    "cv = cross_validation.ShuffleSplit(len(df_train), n_iter=5, test_size=0.2,\n",
    "    random_state=0)\n",
    "\n",
    "# 各种模型来一圈\n",
    "\n",
    "print \"岭回归\"    \n",
    "for train, test in cv:    \n",
    "    svc = linear_model.Ridge().fit(X_train, y_train)\n",
    "    print(\"train score: {0:.3f}, test score: {1:.3f}\\n\".format(\n",
    "        svc.score(X_train, y_train), svc.score(X_test,y_test)))   \n",
    "# print  \"支持向量回归/SVR(kernel='rbf',C=10,gamma=.001)\"\n",
    "# for train, test in cv:\n",
    "#     svc = svm.SVR(kernel ='rbf', C = 10, gamma = .001).fit((X_train, y_train)\n",
    "#     print(\"train score: {0:.3f}, test score: {1:.3f}\\n\".format(\n",
    "#         svc.score(X_train, y_train), svc.score(X_test,y_test)))    \n",
    "#     print  \"随机森林回归/Random Forest(n_estimators = 100)\"    \n",
    "# for train, test in cv:    \n",
    "#     svc = RandomForestRegressor(n_estimators = 100).fit((X_train, y_train)\n",
    "#     print(\"train score: {0:.3f}, test score: {1:.3f}\\n\".format(svc.scoreX_train, y_train), svc.score(X_test,y_test)))"
   ]
  },
  {
   "cell_type": "markdown",
   "metadata": {},
   "source": [
    "#模型的融合，可以采用系数加权，相当于弱回归转强回归。\n",
    "可以构造关于三个模型的线性模型，均方误差最小，构造随机梯度下降"
   ]
  },
  {
   "cell_type": "code",
   "execution_count": null,
   "metadata": {
    "collapsed": true
   },
   "outputs": [],
   "source": [
    "#用以上三种模型预测\n",
    "rf_opt_preds = rf_opt.predict(X_test) # RF predictions\n",
    "rf_mse = mean_squared_error(y_test, rf_opt_preds)\n",
    "\n",
    "xgb_preds=xgb_opt.predict(X_test)\n",
    "xgb_mse = mean_squared_error(y_test, xgb_preds)\n",
    "ridge_preds=svc .predict(X_test)\n",
    "ridge_mse = mean_squared_error(y_test, ridge_preds)\n"
   ]
  },
  {
   "cell_type": "code",
   "execution_count": null,
   "metadata": {
    "collapsed": true
   },
   "outputs": [],
   "source": [
    "model=[re_mse,xgb_mse,ridge_mse]"
   ]
  },
  {
   "cell_type": "code",
   "execution_count": null,
   "metadata": {
    "collapsed": true
   },
   "outputs": [],
   "source": [
    "predict=(rf_opt_preds+xgb_preds+ridge_preds)/3.0"
   ]
  },
  {
   "cell_type": "code",
   "execution_count": null,
   "metadata": {
    "collapsed": true
   },
   "outputs": [],
   "source": [
    "predict"
   ]
  },
  {
   "cell_type": "code",
   "execution_count": null,
   "metadata": {
    "collapsed": true
   },
   "outputs": [],
   "source": [
    "# #模型的参数融合,主要是最小化标准差\n",
    "# clfs = [xgb_opt,rf_opt] # let's focus on our top two performers: XGBoost (Boosting Method) & Lasso (Linear Regression method)\n",
    "# predictions = []\n",
    "# for clf in clfs:\n",
    "#     predictions.append(clf.predict(X_test)) # listing all our predictions\n",
    "# #predictions"
   ]
  },
  {
   "cell_type": "code",
   "execution_count": null,
   "metadata": {
    "collapsed": true
   },
   "outputs": [],
   "source": [
    "# from scipy.optimize import minimize"
   ]
  },
  {
   "cell_type": "code",
   "execution_count": null,
   "metadata": {
    "collapsed": true
   },
   "outputs": [],
   "source": [
    "# def mse_func(weights):\n",
    "#     # scipy minimize will pass the weights as a numpy array\n",
    "#     final_prediction = 0\n",
    "#     for weight, prediction in zip(weights, predictions):\n",
    "#             final_prediction += weight*prediction\n",
    "#     return mean_squared_error(y_test, final_prediction)"
   ]
  },
  {
   "cell_type": "code",
   "execution_count": null,
   "metadata": {
    "collapsed": true
   },
   "outputs": [],
   "source": [
    "# starting_values = [0.5]*len(predictions) # minimize need a starting value\n",
    "# bounds = [(0,1)]*len(predictions) # weights are bound between 0 and 1\n",
    "# res = minimize(mse_func, \n",
    "#                starting_values,\n",
    "#                bounds = bounds, \n",
    "#                method='SLSQP'\n",
    "#               )\n",
    "# #print('Result Assessment: {message_algo}'.format(message_algo = res['message']))\n",
    "# print('Ensemble Score: {best_score}'.format(best_score = res['fun']))\n",
    "# print('Best Weights: {weights}'.format(weights = res['x']))"
   ]
  },
  {
   "cell_type": "code",
   "execution_count": null,
   "metadata": {
    "collapsed": true
   },
   "outputs": [],
   "source": []
  },
  {
   "cell_type": "code",
   "execution_count": null,
   "metadata": {
    "collapsed": true
   },
   "outputs": [],
   "source": [
    "# y_pred_xgb = xgb_opt.predict(df_test)\n",
    "# y_pred_rf = rf_opt.predict(df_test)\n",
    "# # Blend the results of the three regressors using our model weights\n",
    "# y_pred = (xgb_opt_weight*y_pred_xgb + rf_opt_weight*y_pred_rf)\n",
    "# # Lets not forget to apply the exponential functions to our results as we applied log earlier in our data prep\n",
    "# y_pred_final\n"
   ]
  },
  {
   "cell_type": "code",
   "execution_count": null,
   "metadata": {
    "collapsed": true
   },
   "outputs": [],
   "source": []
  },
  {
   "cell_type": "markdown",
   "metadata": {},
   "source": [
    "#模型误差，看是否是数据引起的"
   ]
  },
  {
   "cell_type": "code",
   "execution_count": null,
   "metadata": {
    "collapsed": true
   },
   "outputs": [],
   "source": [
    "#根据特征的重要度，对数据进行阶段，并根据重要特征进行组合产生新的数据\n",
    "# print sorted(zip(map(lambda x: round(x, 4), rf_opt.feature_importances_), df_full.columns), \n",
    "#             reverse=True)\n",
    "importances = rf_opt.feature_importances_\n",
    "X_train.columns.values[(np.argsort(importances)[::-1])[:5]] # the top 5 features"
   ]
  },
  {
   "cell_type": "code",
   "execution_count": null,
   "metadata": {
    "collapsed": true
   },
   "outputs": [],
   "source": [
    "print len(X_train.columns.values[(np.argsort(importances)[::-1])])\n",
    "print X_train.shape\n",
    "sorted(zip(map(lambda x: round(x, 4), rf_opt.feature_importances_), df_full.columns), \n",
    "            reverse=True)"
   ]
  },
  {
   "cell_type": "code",
   "execution_count": null,
   "metadata": {
    "collapsed": true
   },
   "outputs": [],
   "source": [
    "#加入重要的高的特征的组合，再执行本模型看看效果"
   ]
  }
 ],
 "metadata": {
  "kernelspec": {
   "display_name": "Python 2",
   "language": "python",
   "name": "python2"
  },
  "language_info": {
   "codemirror_mode": {
    "name": "ipython",
    "version": 2
   },
   "file_extension": ".py",
   "mimetype": "text/x-python",
   "name": "python",
   "nbconvert_exporter": "python",
   "pygments_lexer": "ipython2",
   "version": "2.7.12"
  }
 },
 "nbformat": 4,
 "nbformat_minor": 2
}
