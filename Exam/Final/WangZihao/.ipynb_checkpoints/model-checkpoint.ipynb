{
 "cells": [
  {
   "cell_type": "code",
   "execution_count": 1,
   "metadata": {
    "collapsed": true
   },
   "outputs": [],
   "source": [
    "%matplotlib inline\n",
    "import numpy as np\n",
    "import pandas as pd\n",
    "import scipy.sparse\n",
    "import pickle\n",
    "import xgboost as xgb\n",
    "from scipy import stats, integrate\n",
    "import matplotlib.pyplot as plt\n",
    "import seaborn as sns\n",
    "sns.set(color_codes=True)\n",
    "#from random import choice\n",
    "from sklearn.model_selection import train_test_split\n",
    "from sklearn.metrics import mean_squared_error\n",
    "from sklearn.ensemble import RandomForestRegressor\n",
    "from sklearn.model_selection import GridSearchCV\n",
    "from sklearn.svm import SVR\n",
    "#from sklearn.preprocessing import OneHotEncoder"
   ]
  },
  {
   "cell_type": "code",
   "execution_count": 2,
   "metadata": {
    "collapsed": true
   },
   "outputs": [],
   "source": [
    "data = pd.read_csv('train_new.csv',encoding='utf8')\n",
    "del data['Id']\n",
    "#data.info()"
   ]
  },
  {
   "cell_type": "code",
   "execution_count": 3,
   "metadata": {
    "collapsed": true
   },
   "outputs": [],
   "source": [
    "x = data.iloc[:,:-1]\n",
    "y = data.iloc[:,-1]\n",
    "y = np.log(y)"
   ]
  },
  {
   "cell_type": "code",
   "execution_count": 4,
   "metadata": {},
   "outputs": [
    {
     "name": "stdout",
     "output_type": "stream",
     "text": [
      "{'max_depth': 6, 'n_estimators': 1001}\n"
     ]
    }
   ],
   "source": [
    "#使用随机森林筛选变量\n",
    "forest = RandomForestRegressor(criterion='mse', random_state=1, n_jobs=-1)\n",
    "para = {'n_estimators':[501,1001],'max_depth':[3,4,5,6]}\n",
    "clf = GridSearchCV(forest, para ,cv=5,n_jobs=-1)\n",
    "clf.fit(x,y)\n",
    "print(clf.best_params_)"
   ]
  },
  {
   "cell_type": "code",
   "execution_count": 5,
   "metadata": {
    "collapsed": true
   },
   "outputs": [],
   "source": [
    "X_train, X_test, y_train, y_test = train_test_split(x, y, test_size=0.25, random_state=42)"
   ]
  },
  {
   "cell_type": "code",
   "execution_count": 6,
   "metadata": {},
   "outputs": [
    {
     "data": {
      "text/plain": [
       "RandomForestRegressor(bootstrap=True, criterion='mse', max_depth=6,\n",
       "           max_features='auto', max_leaf_nodes=None,\n",
       "           min_impurity_decrease=0.0, min_impurity_split=None,\n",
       "           min_samples_leaf=1, min_samples_split=2,\n",
       "           min_weight_fraction_leaf=0.0, n_estimators=1001, n_jobs=-1,\n",
       "           oob_score=False, random_state=1, verbose=0, warm_start=False)"
      ]
     },
     "execution_count": 6,
     "metadata": {},
     "output_type": "execute_result"
    }
   ],
   "source": [
    "#regr = RandomForestClassifier(n_estimators=501,max_depth=4,criterion='entropy',random_state=0)\n",
    "forest = RandomForestRegressor(n_estimators=1001, max_depth=6,\n",
    "                               criterion='mse', \n",
    "                               random_state=1, \n",
    "                               n_jobs=-1)\n",
    "forest.fit(X_train, y_train)"
   ]
  },
  {
   "cell_type": "code",
   "execution_count": 7,
   "metadata": {},
   "outputs": [
    {
     "name": "stdout",
     "output_type": "stream",
     "text": [
      "MSE train: 191282.464, test: 186777.536\n"
     ]
    }
   ],
   "source": [
    "y_train_pred = np.e**forest.predict(X_train)\n",
    "y_test_pred = np.e**forest.predict(X_test)\n",
    "\n",
    "print('MSE train: %.3f, test: %.3f' % (\n",
    "        pow(mean_squared_error(y_train, y_train_pred),0.5),\n",
    "        pow(mean_squared_error(y_test, y_test_pred),0.5)))#这的公式好像错了，不过好在趋势是一致的。。。"
   ]
  },
  {
   "cell_type": "code",
   "execution_count": 8,
   "metadata": {
    "collapsed": true
   },
   "outputs": [],
   "source": [
    "columns_imports = pd.DataFrame()\n",
    "columns_imports['columns_imports'] = x.columns\n",
    "columns_imports['importances'] = forest.feature_importances_ \n",
    "#columns_imports.sort_values(by='importances',ascending=False)#.head()#特征重要性分析"
   ]
  },
  {
   "cell_type": "code",
   "execution_count": 9,
   "metadata": {
    "collapsed": true
   },
   "outputs": [],
   "source": [
    "#筛选特征重要性大于零的特征\n",
    "columns_imports = columns_imports[columns_imports['importances']>0]"
   ]
  },
  {
   "cell_type": "code",
   "execution_count": 10,
   "metadata": {
    "collapsed": true
   },
   "outputs": [],
   "source": [
    "#生成新变量\n",
    "x_new = x[columns_imports['columns_imports'].values]\n",
    "X_train, X_test, y_train, y_test = train_test_split(x_new, y, test_size=0.25, random_state=42)"
   ]
  },
  {
   "cell_type": "code",
   "execution_count": 27,
   "metadata": {
    "scrolled": true
   },
   "outputs": [
    {
     "name": "stdout",
     "output_type": "stream",
     "text": [
      "{'colsample_bytree': 0.4, 'gamma': 0.01, 'max_depth': 3, 'n_estimators': 2000}\n"
     ]
    }
   ],
   "source": [
    "xgb_model = xgb.XGBRegressor()\n",
    "para = {'max_depth': [3,4], 'n_estimators': [2000,2200],'colsample_bytree':[0.4,0.5],'gamma':[0.001,0.01,0.1]}\n",
    "clf = GridSearchCV(xgb_model, para ,cv=5,n_jobs=-1)\n",
    "clf.fit(x,y)\n",
    "print(clf.best_params_)"
   ]
  },
  {
   "cell_type": "code",
   "execution_count": 11,
   "metadata": {
    "collapsed": true
   },
   "outputs": [],
   "source": [
    "xgb_model = xgb.XGBRegressor(colsample_bytree=0.4603, gamma=0.0468, \n",
    "                             learning_rate=0.05, max_depth=3, \n",
    "                             min_child_weight=1.7817, n_estimators=2000,\n",
    "                             reg_alpha=0.4640, reg_lambda=0.8571,\n",
    "                             subsample=0.5213, silent=1,\n",
    "                             random_state =7, nthread = -1)\n",
    "#这里的参数有参考kaggle比赛kernal，电脑跑的比较慢，还没有挨个去做网格搜索。"
   ]
  },
  {
   "cell_type": "code",
   "execution_count": 12,
   "metadata": {},
   "outputs": [
    {
     "data": {
      "text/plain": [
       "XGBRegressor(base_score=0.5, booster='gbtree', colsample_bylevel=1,\n",
       "       colsample_bytree=0.4603, gamma=0.0468, learning_rate=0.05,\n",
       "       max_delta_step=0, max_depth=3, min_child_weight=1.7817,\n",
       "       missing=None, n_estimators=2200, n_jobs=1, nthread=-1,\n",
       "       objective='reg:linear', random_state=7, reg_alpha=0.464,\n",
       "       reg_lambda=0.8571, scale_pos_weight=1, seed=None, silent=1,\n",
       "       subsample=0.5213)"
      ]
     },
     "execution_count": 12,
     "metadata": {},
     "output_type": "execute_result"
    }
   ],
   "source": [
    "#xgb_model = xgb.XGBRegressor(n_jobs=-1,max_depth=3,n_estimators=1000)\n",
    "xgb_model.fit(X_train,y_train)"
   ]
  },
  {
   "cell_type": "code",
   "execution_count": 13,
   "metadata": {},
   "outputs": [
    {
     "name": "stdout",
     "output_type": "stream",
     "text": [
      "MSE train: 194938.464, test: 191021.275\n"
     ]
    }
   ],
   "source": [
    "y_train_pred = np.e**xgb_model.predict(X_train)\n",
    "y_test_pred = np.e**xgb_model.predict(X_test)\n",
    "\n",
    "print('RMSE train: %.3f, test: %.3f' % (\n",
    "        pow(mean_squared_error(y_train, y_train_pred),0.5),\n",
    "        pow(mean_squared_error(y_test, y_test_pred),0.5)))"
   ]
  },
  {
   "cell_type": "code",
   "execution_count": 163,
   "metadata": {},
   "outputs": [
    {
     "name": "stdout",
     "output_type": "stream",
     "text": [
      "{'C': 10, 'kernel': 'rbf'}\n"
     ]
    }
   ],
   "source": [
    "###使用SVM\n",
    "SVR_model = SVR()\n",
    "para = {'kernel':['rbf','linear','sigmoid','poly'],'C':[1,10,100]}\n",
    "clf_svr = GridSearchCV(SVR_model, para ,cv=5,n_jobs=-1)\n",
    "clf_svr.fit(x,y)\n",
    "print(clf_svr.best_params_)"
   ]
  },
  {
   "cell_type": "code",
   "execution_count": 164,
   "metadata": {},
   "outputs": [
    {
     "data": {
      "text/plain": [
       "SVR(C=10, cache_size=200, coef0=0.0, degree=3, epsilon=0.1, gamma='auto',\n",
       "  kernel='rbf', max_iter=-1, shrinking=True, tol=0.001, verbose=False)"
      ]
     },
     "execution_count": 164,
     "metadata": {},
     "output_type": "execute_result"
    }
   ],
   "source": [
    "SVR_model = SVR(kernel='rbf',C=10)\n",
    "SVR_model.fit(X_train,y_train)"
   ]
  },
  {
   "cell_type": "code",
   "execution_count": 165,
   "metadata": {},
   "outputs": [
    {
     "name": "stdout",
     "output_type": "stream",
     "text": [
      "MSE train: 181848.366, test: 179789.129\n"
     ]
    }
   ],
   "source": [
    "y_svr_train_pred = np.e**SVR_model.predict(X_train)\n",
    "y_svr_test_pred = np.e**SVR_model.predict(X_test)\n",
    "\n",
    "print('MSE train: %.3f, test: %.3f' % (\n",
    "        pow(mean_squared_error(y_train, y_svr_train_pred),0.5),\n",
    "        pow(mean_squared_error(y_test, y_svr_test_pred),0.5)))"
   ]
  },
  {
   "cell_type": "code",
   "execution_count": null,
   "metadata": {
    "collapsed": true
   },
   "outputs": [],
   "source": [
    "#多分类使用\n",
    "# def appendmax(sr):#对每一行处理的函数  \n",
    "#     one = sr.idxmax()#得到最大值的index名  \n",
    "#     maxindex = pd.Series(one)  \n",
    "#     #sr = sr.append(maxindex)#添加  \n",
    "#     return maxindex  "
   ]
  },
  {
   "cell_type": "code",
   "execution_count": null,
   "metadata": {
    "collapsed": true
   },
   "outputs": [],
   "source": [
    "# pd.DataFrame(y_train_pred,columns=y.columns).apply(lambda x:appendmax(x),axis=1)"
   ]
  },
  {
   "cell_type": "code",
   "execution_count": null,
   "metadata": {
    "collapsed": true
   },
   "outputs": [],
   "source": [
    "# print(pow(mean_squared_error(y_train,y_train_pred),0.5))\n",
    "# print(pow(mean_squared_error(y_test,y_test_pred),0.5))"
   ]
  },
  {
   "cell_type": "code",
   "execution_count": 48,
   "metadata": {
    "collapsed": true
   },
   "outputs": [],
   "source": [
    "# 保存模型\n",
    "filename = 'forest.sav'\n",
    "pickle.dump(forest, open(filename, 'wb'))"
   ]
  },
  {
   "cell_type": "markdown",
   "metadata": {},
   "source": [
    "# 结果"
   ]
  },
  {
   "cell_type": "code",
   "execution_count": 17,
   "metadata": {
    "collapsed": true
   },
   "outputs": [],
   "source": [
    "result = pd.read_csv('test_new.csv',encoding='utf8')\n",
    "data_test = result.drop('Id',axis=1)\n",
    "data_test = pd.get_dummies(data_test)"
   ]
  },
  {
   "cell_type": "code",
   "execution_count": 18,
   "metadata": {
    "collapsed": true
   },
   "outputs": [],
   "source": [
    "#这两个function是为了当有新数据进来的时候把维度补全。\n",
    "def filter_traincolumns(x):\n",
    "    if x in x_dummies.columns:\n",
    "        return False\n",
    "    else:\n",
    "        return True\n",
    "def filter_testcolumns(x):\n",
    "    if x in data_test.columns:\n",
    "        return False\n",
    "    else:\n",
    "        return True"
   ]
  },
  {
   "cell_type": "code",
   "execution_count": 19,
   "metadata": {
    "collapsed": true
   },
   "outputs": [],
   "source": [
    "data_test = pd.concat([data_test, pd.DataFrame(columns=list(filter(filter_testcolumns,x.columns)))])#使用上面的function补全特征\n",
    "data_test = data_test.fillna(0)"
   ]
  },
  {
   "cell_type": "code",
   "execution_count": 20,
   "metadata": {
    "collapsed": true
   },
   "outputs": [],
   "source": [
    "data_test = data_test[columns_imports['columns_imports'].values] #使用筛选后的变量测试"
   ]
  },
  {
   "cell_type": "code",
   "execution_count": 21,
   "metadata": {},
   "outputs": [
    {
     "name": "stdout",
     "output_type": "stream",
     "text": [
      "<class 'pandas.core.frame.DataFrame'>\n",
      "Int64Index: 1459 entries, 0 to 1458\n",
      "Columns: 290 entries, LotFrontage to SaleCondition_Partial\n",
      "dtypes: float64(32), int64(258)\n",
      "memory usage: 3.2 MB\n"
     ]
    }
   ],
   "source": [
    "data_test.info()"
   ]
  },
  {
   "cell_type": "markdown",
   "metadata": {},
   "source": [
    "## xgboost"
   ]
  },
  {
   "cell_type": "code",
   "execution_count": 22,
   "metadata": {
    "collapsed": true
   },
   "outputs": [],
   "source": [
    "result['SalePrice'] = xgb_model.predict(data_test)\n",
    "#result['SalePrice'] = pd.DataFrame(result_pre,columns=y.columns).apply(lambda x:appendmax(x),axis=1)\n",
    "\n",
    "result = result[['Id','SalePrice']]\n",
    "\n",
    "result['Id'] = result['Id'].astype('int')\n",
    "result['SalePrice'] = result[['SalePrice']].apply(lambda x: np.e**x,axis=1)\n",
    "result_xgb = result.copy()"
   ]
  },
  {
   "cell_type": "code",
   "execution_count": 23,
   "metadata": {
    "collapsed": true
   },
   "outputs": [],
   "source": [
    "result.to_csv('submission.csv',index=False,encoding='utf8')"
   ]
  },
  {
   "cell_type": "markdown",
   "metadata": {},
   "source": [
    "## svr"
   ]
  },
  {
   "cell_type": "code",
   "execution_count": 177,
   "metadata": {
    "collapsed": true
   },
   "outputs": [],
   "source": [
    "result['SalePrice'] = SVR_model.predict(data_test)\n",
    "#result['SalePrice'] = pd.DataFrame(result_pre,columns=y.columns).apply(lambda x:appendmax(x),axis=1)\n",
    "\n",
    "result = result[['Id','SalePrice']]\n",
    "\n",
    "result['Id'] = result['Id'].astype('int')\n",
    "result['SalePrice'] = result[['SalePrice']].apply(lambda x: np.e**x,axis=1)\n",
    "result_svr = result.copy()"
   ]
  },
  {
   "cell_type": "code",
   "execution_count": 172,
   "metadata": {
    "collapsed": true
   },
   "outputs": [],
   "source": [
    "result.to_csv('submission.csv',index=False,encoding='utf8')"
   ]
  },
  {
   "cell_type": "markdown",
   "metadata": {},
   "source": [
    "## 两个模型求平均"
   ]
  },
  {
   "cell_type": "code",
   "execution_count": 182,
   "metadata": {},
   "outputs": [
    {
     "data": {
      "text/html": [
       "<div>\n",
       "<style scoped>\n",
       "    .dataframe tbody tr th:only-of-type {\n",
       "        vertical-align: middle;\n",
       "    }\n",
       "\n",
       "    .dataframe tbody tr th {\n",
       "        vertical-align: top;\n",
       "    }\n",
       "\n",
       "    .dataframe thead th {\n",
       "        text-align: right;\n",
       "    }\n",
       "</style>\n",
       "<table border=\"1\" class=\"dataframe\">\n",
       "  <thead>\n",
       "    <tr style=\"text-align: right;\">\n",
       "      <th></th>\n",
       "      <th>Id</th>\n",
       "      <th>SalePrice_x</th>\n",
       "      <th>SalePrice_y</th>\n",
       "    </tr>\n",
       "  </thead>\n",
       "  <tbody>\n",
       "    <tr>\n",
       "      <th>0</th>\n",
       "      <td>1461</td>\n",
       "      <td>118677.117188</td>\n",
       "      <td>114548.688081</td>\n",
       "    </tr>\n",
       "    <tr>\n",
       "      <th>1</th>\n",
       "      <td>1462</td>\n",
       "      <td>148592.343750</td>\n",
       "      <td>147928.757995</td>\n",
       "    </tr>\n",
       "    <tr>\n",
       "      <th>2</th>\n",
       "      <td>1463</td>\n",
       "      <td>179035.843750</td>\n",
       "      <td>177781.001241</td>\n",
       "    </tr>\n",
       "    <tr>\n",
       "      <th>3</th>\n",
       "      <td>1464</td>\n",
       "      <td>181278.296875</td>\n",
       "      <td>190208.556243</td>\n",
       "    </tr>\n",
       "    <tr>\n",
       "      <th>4</th>\n",
       "      <td>1465</td>\n",
       "      <td>190123.203125</td>\n",
       "      <td>198570.832119</td>\n",
       "    </tr>\n",
       "  </tbody>\n",
       "</table>\n",
       "</div>"
      ],
      "text/plain": [
       "     Id    SalePrice_x    SalePrice_y\n",
       "0  1461  118677.117188  114548.688081\n",
       "1  1462  148592.343750  147928.757995\n",
       "2  1463  179035.843750  177781.001241\n",
       "3  1464  181278.296875  190208.556243\n",
       "4  1465  190123.203125  198570.832119"
      ]
     },
     "execution_count": 182,
     "metadata": {},
     "output_type": "execute_result"
    }
   ],
   "source": [
    "result_blending = result_xgb.merge(result_svr,how='left',on='Id')\n",
    "result_blending.head()\n",
    "\n",
    "result_blending['SalePrice'] = result_blending.apply(lambda x: (x[1]+x[2])/2,axis=1)\n",
    "del result_blending['SalePrice_x']\n",
    "del result_blending['SalePrice_y']\n",
    "\n",
    "result.to_csv('submission.csv',index=False,encoding='utf8')"
   ]
  }
 ],
 "metadata": {
  "kernelspec": {
   "display_name": "Python 3",
   "language": "python",
   "name": "python3"
  },
  "language_info": {
   "codemirror_mode": {
    "name": "ipython",
    "version": 3
   },
   "file_extension": ".py",
   "mimetype": "text/x-python",
   "name": "python",
   "nbconvert_exporter": "python",
   "pygments_lexer": "ipython3",
   "version": "3.6.3"
  },
  "toc": {
   "nav_menu": {},
   "number_sections": true,
   "sideBar": true,
   "skip_h1_title": false,
   "toc_cell": false,
   "toc_position": {},
   "toc_section_display": "block",
   "toc_window_display": false
  }
 },
 "nbformat": 4,
 "nbformat_minor": 2
}
