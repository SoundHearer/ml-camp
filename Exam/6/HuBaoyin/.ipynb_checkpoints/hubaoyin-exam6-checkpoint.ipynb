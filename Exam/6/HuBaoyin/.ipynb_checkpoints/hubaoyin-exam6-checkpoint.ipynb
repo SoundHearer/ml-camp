{
 "cells": [
  {
   "cell_type": "markdown",
   "metadata": {},
   "source": [
    "## 七月在线机器学习实训营三期第六周(机器学习)考试\n",
    "#### 考试说明:\n",
    "- 起止时间：请同学在2018年3月16日至3月18日期间完成，最晚提交时间本周日（3月18日24时之前）结束，<b>逾期不接受补考,该考试分数计入平时成绩</b>\n",
    "- 考试方式：请同学<font color=red><b>拷贝</b></font>该试卷至自己姓名的目录后，将文件更名为同学姓名拼音-exam6后，进行作答。例如wangwei-exam6\n",
    "- 提交格式：请同学新建自己姓名全拼的文件夹，将该试卷，数据文件，zip文件等相关考试文件，放置此目录下。将该目录<b>移动</b>至/0.Teacher/Exam/4/目录下\n",
    "- 注意事项：为确保同学们真正了解自身对本周课程的掌握程度，<font color=red><b>请勿翻阅，移动，更改</b></font>其它同学试卷。如发现按0分处理\n",
    "- 请同学在下方同学姓名处填写自己的姓名，批改人和最终得分不用填写"
   ]
  },
  {
   "cell_type": "markdown",
   "metadata": {},
   "source": [
    "- 同学姓名:<u>胡宝银</u>  \n",
    "- 批改人： David\n",
    "- 最终得分:100"
   ]
  },
  {
   "cell_type": "markdown",
   "metadata": {},
   "source": [
    "<center><h1>####答卷开始####</h1></center>\n",
    "<hr>"
   ]
  },
  {
   "cell_type": "markdown",
   "metadata": {},
   "source": [
    "## 简答题(共4题，每题5分，共计20分)"
   ]
  },
  {
   "cell_type": "markdown",
   "metadata": {},
   "source": [
    "#### 1. 请写出你了解的机器学习特征工程操作，以及它的意义（面试题）\n",
    "- note: 20"
   ]
  },
  {
   "cell_type": "markdown",
   "metadata": {
    "collapsed": true
   },
   "source": [
    "#### 答：\n",
    "- 一、特征处理\n",
    "- 1.缺失值处理（填充、丢弃）  意义：缺失值较多我们认为数据不可信，直接丢弃，防止其对模型产生不良影响；少量缺失值填充后，使得模型能够正确处理该样本。\n",
    "- 2.异常值、噪声处理   意义：防止噪声把模型带偏，降低异常数据对模型预测的负面影响\n",
    "- 3.类别型的变量进行独热向量编码，类别标签进行类别编码  意义：让计算机能够读懂类别型特征\n",
    "- 4.对数值型特征进行幅度缩放、统计特征、高次特征、交叉特征、离散化/分箱/分桶   意义：幅度缩放能够使不同规格的数据转换到同一规格，让他们有同等的比较基础；统计特征、高次特征、交叉特征能够产出更多的特征帮助模型提高复杂度，提高其预测能力；离散化/分箱/分桶后，模型对异常数据有很强的鲁棒性，降低了模型过拟合的风险。\n",
    "- 5.时间型特征抽取年、月、日、星期几、季节等信息 意义：让模型充分理解时间型特征，产出更多特征，帮助模型提升表达能力。\n",
    "- 二、特征选择\n",
    "- 1.过滤型\n",
    "- 2.包裹型\n",
    "- 3.嵌入型\n",
    "- 特征选择的意义：去重对于样本区分无用或者和目前关联性很低的特征，精简模型，提高模型训练效率，降低过拟合风险"
   ]
  },
  {
   "cell_type": "markdown",
   "metadata": {},
   "source": [
    "#### 2.请写出上述特征工程操作的sklearn或者pandas实现方式\n"
   ]
  },
  {
   "cell_type": "markdown",
   "metadata": {
    "collapsed": true
   },
   "source": [
    "#### 答：\n",
    "- 1.缺失值处理pd.DataFrame.dropna()丢弃确实值，可以通过axis、how、subset、thresh等参数调整丢弃缺失值的条件；使用pd.DataFrame.fillna()或者sklearn.preprocessing.Imputer填充缺失值；\n",
    "- 2.使用sklearn.preprocessing.LabelEncoder对目标类别进行编码，使用pandas.get_dummies()或者sklearn.preprocessing.OneHotEncoder对类别型变量进行独热向量编码。\n",
    "- 3.使用sklearn.preprocessing.MinMaxScaler或者sklearn.preprocessing.StandardScaler对连续型的数据进行幅度缩放；使用sklearn.preprocessing.PolynomialFeatures产出交叉特征和高次特征；使用pandas 的min、max、std、mean、median等函数进行统计特征产出；使用pandas进行离散化操作。\n",
    "- 4.使用pandas.datetime提取year、month、day、day_of_week等信息\n",
    "- 5.通过sklearn.feature_selection.SelectKBest实现过滤型特征选择；通过sklearn.feature_selection.RFE实现包裹型特征选择；通过l1正则化实现嵌入型特征选择。"
   ]
  },
  {
   "cell_type": "markdown",
   "metadata": {},
   "source": [
    "#### 3.模型评估中的留一法，留出法，交叉验证分别是什么操作？"
   ]
  },
  {
   "cell_type": "markdown",
   "metadata": {
    "collapsed": true
   },
   "source": [
    "#### 答：\n",
    "- 1.留一法：循环每个样本做测试样本，其他样本整体作为测试集，如果有m个样本，就需要进行m次拟合和预测，用模型m次的平均结果来评价模型优劣；\n",
    "- 2.留出法：选定一部分样本做训练集，留出另一部分样本做测试集，使用训练集对样本进行拟合，得到模型对测试集进行预测，一次操作得到的结果最终的结果。\n",
    "- 3.交叉验证：将样本切分成k个等份，每个一份有一次机会用作测试集，共进行k次拟合和预测，用模型k次的平均结果来评价模型优劣；"
   ]
  },
  {
   "cell_type": "markdown",
   "metadata": {},
   "source": [
    "#### 4.如何理解模型的过拟合与欠拟合，以及如何解决？（面试题）"
   ]
  },
  {
   "cell_type": "markdown",
   "metadata": {
    "collapsed": true
   },
   "source": [
    "#### 答：\n",
    "- 1.欠拟合：欠拟合就是模型没有很好地捕捉到数据特征，模型表达能力差，不能够很好地拟合数据； \n",
    "-  解决方法：在原有特征的基础上使用交叉特征或者高次特征；分析业务产出更多特征；降低正则化强度；\n",
    "- 2.过拟合：过拟合就是模型把数据学习的太彻底，以至于把噪声数据的特征也学习到了，这样就会导致在后期测试的时候不能够很好地识别数据，即不能正确的分类，模型泛化能力太差。往往表现在，模型训练集效果很好，放在测试集表现太差。\n",
    "- 解决办法：进一步数据处理，降低噪声多模型的影响；增大训练数据；添加正则化强度；神经网络的话还可以应用dropout。"
   ]
  },
  {
   "cell_type": "markdown",
   "metadata": {},
   "source": [
    "## 操作题(共1题，共计80分)"
   ]
  },
  {
   "cell_type": "markdown",
   "metadata": {},
   "source": [
    "### 信用卡欺诈项目(共7项，前5项每题10分，6，7题每题15分)"
   ]
  },
  {
   "cell_type": "markdown",
   "metadata": {},
   "source": [
    "- 前期数据导入,预览及处理(此部分勿修改，涉及的数据文件无需复制移动)"
   ]
  },
  {
   "cell_type": "code",
   "execution_count": 1,
   "metadata": {},
   "outputs": [
    {
     "data": {
      "text/html": [
       "<div>\n",
       "<style scoped>\n",
       "    .dataframe tbody tr th:only-of-type {\n",
       "        vertical-align: middle;\n",
       "    }\n",
       "\n",
       "    .dataframe tbody tr th {\n",
       "        vertical-align: top;\n",
       "    }\n",
       "\n",
       "    .dataframe thead th {\n",
       "        text-align: right;\n",
       "    }\n",
       "</style>\n",
       "<table border=\"1\" class=\"dataframe\">\n",
       "  <thead>\n",
       "    <tr style=\"text-align: right;\">\n",
       "      <th></th>\n",
       "      <th>SeriousDlqin2yrs</th>\n",
       "      <th>RevolvingUtilizationOfUnsecuredLines</th>\n",
       "      <th>age</th>\n",
       "      <th>NumberOfTime30-59DaysPastDueNotWorse</th>\n",
       "      <th>DebtRatio</th>\n",
       "      <th>MonthlyIncome</th>\n",
       "      <th>NumberOfOpenCreditLinesAndLoans</th>\n",
       "      <th>NumberOfTimes90DaysLate</th>\n",
       "      <th>NumberRealEstateLoansOrLines</th>\n",
       "      <th>NumberOfTime60-89DaysPastDueNotWorse</th>\n",
       "      <th>NumberOfDependents</th>\n",
       "    </tr>\n",
       "  </thead>\n",
       "  <tbody>\n",
       "    <tr>\n",
       "      <th>0</th>\n",
       "      <td>1</td>\n",
       "      <td>0.766127</td>\n",
       "      <td>45.0</td>\n",
       "      <td>2.0</td>\n",
       "      <td>0.802982</td>\n",
       "      <td>9120.0</td>\n",
       "      <td>13.0</td>\n",
       "      <td>0.0</td>\n",
       "      <td>6.0</td>\n",
       "      <td>0.0</td>\n",
       "      <td>2.0</td>\n",
       "    </tr>\n",
       "    <tr>\n",
       "      <th>1</th>\n",
       "      <td>0</td>\n",
       "      <td>0.957151</td>\n",
       "      <td>40.0</td>\n",
       "      <td>0.0</td>\n",
       "      <td>0.121876</td>\n",
       "      <td>2600.0</td>\n",
       "      <td>4.0</td>\n",
       "      <td>0.0</td>\n",
       "      <td>0.0</td>\n",
       "      <td>0.0</td>\n",
       "      <td>1.0</td>\n",
       "    </tr>\n",
       "    <tr>\n",
       "      <th>2</th>\n",
       "      <td>0</td>\n",
       "      <td>0.658180</td>\n",
       "      <td>38.0</td>\n",
       "      <td>1.0</td>\n",
       "      <td>0.085113</td>\n",
       "      <td>3042.0</td>\n",
       "      <td>2.0</td>\n",
       "      <td>1.0</td>\n",
       "      <td>0.0</td>\n",
       "      <td>0.0</td>\n",
       "      <td>0.0</td>\n",
       "    </tr>\n",
       "    <tr>\n",
       "      <th>3</th>\n",
       "      <td>0</td>\n",
       "      <td>0.233810</td>\n",
       "      <td>30.0</td>\n",
       "      <td>0.0</td>\n",
       "      <td>0.036050</td>\n",
       "      <td>3300.0</td>\n",
       "      <td>5.0</td>\n",
       "      <td>0.0</td>\n",
       "      <td>0.0</td>\n",
       "      <td>0.0</td>\n",
       "      <td>0.0</td>\n",
       "    </tr>\n",
       "    <tr>\n",
       "      <th>4</th>\n",
       "      <td>0</td>\n",
       "      <td>0.907239</td>\n",
       "      <td>49.0</td>\n",
       "      <td>1.0</td>\n",
       "      <td>0.024926</td>\n",
       "      <td>63588.0</td>\n",
       "      <td>7.0</td>\n",
       "      <td>0.0</td>\n",
       "      <td>1.0</td>\n",
       "      <td>0.0</td>\n",
       "      <td>0.0</td>\n",
       "    </tr>\n",
       "  </tbody>\n",
       "</table>\n",
       "</div>"
      ],
      "text/plain": [
       "   SeriousDlqin2yrs  RevolvingUtilizationOfUnsecuredLines   age  \\\n",
       "0                 1                              0.766127  45.0   \n",
       "1                 0                              0.957151  40.0   \n",
       "2                 0                              0.658180  38.0   \n",
       "3                 0                              0.233810  30.0   \n",
       "4                 0                              0.907239  49.0   \n",
       "\n",
       "   NumberOfTime30-59DaysPastDueNotWorse  DebtRatio  MonthlyIncome  \\\n",
       "0                                   2.0   0.802982         9120.0   \n",
       "1                                   0.0   0.121876         2600.0   \n",
       "2                                   1.0   0.085113         3042.0   \n",
       "3                                   0.0   0.036050         3300.0   \n",
       "4                                   1.0   0.024926        63588.0   \n",
       "\n",
       "   NumberOfOpenCreditLinesAndLoans  NumberOfTimes90DaysLate  \\\n",
       "0                             13.0                      0.0   \n",
       "1                              4.0                      0.0   \n",
       "2                              2.0                      1.0   \n",
       "3                              5.0                      0.0   \n",
       "4                              7.0                      0.0   \n",
       "\n",
       "   NumberRealEstateLoansOrLines  NumberOfTime60-89DaysPastDueNotWorse  \\\n",
       "0                           6.0                                   0.0   \n",
       "1                           0.0                                   0.0   \n",
       "2                           0.0                                   0.0   \n",
       "3                           0.0                                   0.0   \n",
       "4                           1.0                                   0.0   \n",
       "\n",
       "   NumberOfDependents  \n",
       "0                 2.0  \n",
       "1                 1.0  \n",
       "2                 0.0  \n",
       "3                 0.0  \n",
       "4                 0.0  "
      ]
     },
     "execution_count": 1,
     "metadata": {},
     "output_type": "execute_result"
    }
   ],
   "source": [
    "import pandas as pd\n",
    "pd.set_option('display.max_columns', 500)\n",
    "import zipfile\n",
    "with zipfile.ZipFile('./input/KaggleCredit2.csv.zip', 'r') as z:\n",
    "    f = z.open('KaggleCredit2.csv')\n",
    "    data = pd.read_csv(f, index_col=0)\n",
    "data.head()"
   ]
  },
  {
   "cell_type": "code",
   "execution_count": 2,
   "metadata": {},
   "outputs": [
    {
     "data": {
      "text/plain": [
       "(112915, 11)"
      ]
     },
     "execution_count": 2,
     "metadata": {},
     "output_type": "execute_result"
    }
   ],
   "source": [
    "data.shape"
   ]
  },
  {
   "cell_type": "code",
   "execution_count": 3,
   "metadata": {
    "scrolled": true
   },
   "outputs": [
    {
     "data": {
      "text/plain": [
       "SeriousDlqin2yrs                           0\n",
       "RevolvingUtilizationOfUnsecuredLines       0\n",
       "age                                     4267\n",
       "NumberOfTime30-59DaysPastDueNotWorse       0\n",
       "DebtRatio                                  0\n",
       "MonthlyIncome                              0\n",
       "NumberOfOpenCreditLinesAndLoans            0\n",
       "NumberOfTimes90DaysLate                    0\n",
       "NumberRealEstateLoansOrLines               0\n",
       "NumberOfTime60-89DaysPastDueNotWorse       0\n",
       "NumberOfDependents                      4267\n",
       "dtype: int64"
      ]
     },
     "execution_count": 3,
     "metadata": {},
     "output_type": "execute_result"
    }
   ],
   "source": [
    "data.isnull().sum(axis=0)"
   ]
  },
  {
   "cell_type": "code",
   "execution_count": 4,
   "metadata": {},
   "outputs": [
    {
     "data": {
      "text/plain": [
       "(108648, 11)"
      ]
     },
     "execution_count": 4,
     "metadata": {},
     "output_type": "execute_result"
    }
   ],
   "source": [
    "data.dropna(inplace=True)\n",
    "data.shape"
   ]
  },
  {
   "cell_type": "code",
   "execution_count": 5,
   "metadata": {},
   "outputs": [
    {
     "data": {
      "text/plain": [
       "0.06742876076872101"
      ]
     },
     "execution_count": 5,
     "metadata": {},
     "output_type": "execute_result"
    }
   ],
   "source": [
    "y = data['SeriousDlqin2yrs']\n",
    "X = data.drop('SeriousDlqin2yrs', axis=1)\n",
    "y.mean()"
   ]
  },
  {
   "cell_type": "markdown",
   "metadata": {
    "collapsed": true
   },
   "source": [
    "- 1.把数据切分成训练集和测试集"
   ]
  },
  {
   "cell_type": "code",
   "execution_count": 6,
   "metadata": {},
   "outputs": [
    {
     "name": "stdout",
     "output_type": "stream",
     "text": [
      "Index(['RevolvingUtilizationOfUnsecuredLines', 'age',\n",
      "       'NumberOfTime30-59DaysPastDueNotWorse', 'DebtRatio', 'MonthlyIncome',\n",
      "       'NumberOfOpenCreditLinesAndLoans', 'NumberOfTimes90DaysLate',\n",
      "       'NumberRealEstateLoansOrLines', 'NumberOfTime60-89DaysPastDueNotWorse',\n",
      "       'NumberOfDependents'],\n",
      "      dtype='object')\n",
      "(76053, 10)\n",
      "(32595, 10)\n",
      "(76053,)\n",
      "(32595,)\n"
     ]
    }
   ],
   "source": [
    "from sklearn.model_selection import train_test_split\n",
    "X_train, X_test, y_train, y_test = train_test_split(X, y, test_size = 0.3, random_state = 0)\n",
    "print(X_train.columns)\n",
    "print(X_train.shape)\n",
    "print(X_test.shape)\n",
    "print(y_train.shape)\n",
    "print(y_test.shape)"
   ]
  },
  {
   "cell_type": "markdown",
   "metadata": {},
   "source": [
    "- 2.使用logistic regression建模，并且输出一下系数，分析重要度。   "
   ]
  },
  {
   "cell_type": "code",
   "execution_count": 7,
   "metadata": {},
   "outputs": [
    {
     "data": {
      "text/plain": [
       "LogisticRegression(C=0.1, class_weight=None, dual=False, fit_intercept=True,\n",
       "          intercept_scaling=1, max_iter=100, multi_class='ovr', n_jobs=1,\n",
       "          penalty='l1', random_state=None, solver='liblinear', tol=0.0001,\n",
       "          verbose=0, warm_start=False)"
      ]
     },
     "execution_count": 7,
     "metadata": {},
     "output_type": "execute_result"
    }
   ],
   "source": [
    "from sklearn.linear_model import LogisticRegression\n",
    "lr = LogisticRegression(penalty='l1', C=0.1)\n",
    "lr.fit(X_train, y_train)"
   ]
  },
  {
   "cell_type": "code",
   "execution_count": 8,
   "metadata": {},
   "outputs": [
    {
     "name": "stdout",
     "output_type": "stream",
     "text": [
      "[[-5.27388005e-05 -2.59644560e-02  4.74740356e-01  1.30965368e+00\n",
      "  -9.38398285e-06 -1.75834555e-02  4.47671667e-01 -1.68411273e-01\n",
      "  -8.83041666e-01  9.87051142e-02]]\n",
      "[-1.72300377]\n"
     ]
    }
   ],
   "source": [
    "print(lr.coef_)\n",
    "print(lr.intercept_)"
   ]
  },
  {
   "cell_type": "markdown",
   "metadata": {},
   "source": [
    "- 3.使用决策树/SVM/KNN...等sklearn分类算法进行分类，尝试了解参数含义，调整不同的参数。"
   ]
  },
  {
   "cell_type": "code",
   "execution_count": 9,
   "metadata": {},
   "outputs": [
    {
     "data": {
      "text/plain": [
       "DecisionTreeClassifier(class_weight=None, criterion='entropy', max_depth=3,\n",
       "            max_features=None, max_leaf_nodes=None,\n",
       "            min_impurity_decrease=0.0, min_impurity_split=None,\n",
       "            min_samples_leaf=1, min_samples_split=2,\n",
       "            min_weight_fraction_leaf=0.0, presort=False, random_state=0,\n",
       "            splitter='best')"
      ]
     },
     "execution_count": 9,
     "metadata": {},
     "output_type": "execute_result"
    }
   ],
   "source": [
    "#使用决策树建模\n",
    "from sklearn.tree import DecisionTreeClassifier\n",
    "dtc = DecisionTreeClassifier(criterion='entropy', max_depth=3, random_state=0)\n",
    "dtc.fit(X_train,y_train)"
   ]
  },
  {
   "cell_type": "code",
   "execution_count": 10,
   "metadata": {},
   "outputs": [
    {
     "data": {
      "text/plain": [
       "SVC(C=1.0, cache_size=200, class_weight=None, coef0=0.0,\n",
       "  decision_function_shape='ovr', degree=3, gamma='auto', kernel='rbf',\n",
       "  max_iter=-1, probability=False, random_state=0, shrinking=True,\n",
       "  tol=0.001, verbose=False)"
      ]
     },
     "execution_count": 10,
     "metadata": {},
     "output_type": "execute_result"
    }
   ],
   "source": [
    "#使用SVM建模\n",
    "#经测试，这个例子的SVM运行较慢，运行时间大概在15-30之间！！！，建议老师阅卷执行程序的时候略过这一步！\n",
    "from sklearn.svm import SVC\n",
    "svm = SVC(kernel='rbf', C=1.0, random_state=0)\n",
    "svm.fit(X_train, y_train)"
   ]
  },
  {
   "cell_type": "code",
   "execution_count": 11,
   "metadata": {},
   "outputs": [
    {
     "data": {
      "text/plain": [
       "KNeighborsClassifier(algorithm='auto', leaf_size=30, metric='minkowski',\n",
       "           metric_params=None, n_jobs=1, n_neighbors=2, p=2,\n",
       "           weights='uniform')"
      ]
     },
     "execution_count": 11,
     "metadata": {},
     "output_type": "execute_result"
    }
   ],
   "source": [
    "#使用KNN建模\n",
    "from sklearn.neighbors import KNeighborsClassifier\n",
    "knn = KNeighborsClassifier(n_neighbors=2)\n",
    "knn.fit(X_train, y_train)"
   ]
  },
  {
   "cell_type": "code",
   "execution_count": 12,
   "metadata": {},
   "outputs": [
    {
     "data": {
      "text/plain": [
       "RandomForestClassifier(bootstrap=True, class_weight=None, criterion='entropy',\n",
       "            max_depth=None, max_features='auto', max_leaf_nodes=None,\n",
       "            min_impurity_decrease=0.0, min_impurity_split=None,\n",
       "            min_samples_leaf=1, min_samples_split=2,\n",
       "            min_weight_fraction_leaf=0.0, n_estimators=10, n_jobs=2,\n",
       "            oob_score=False, random_state=1, verbose=0, warm_start=False)"
      ]
     },
     "execution_count": 12,
     "metadata": {},
     "output_type": "execute_result"
    }
   ],
   "source": [
    "#使用随机森林建模\n",
    "from sklearn.ensemble import RandomForestClassifier\n",
    "forest = RandomForestClassifier(criterion='entropy',\n",
    "                                n_estimators=10, \n",
    "                                random_state=1,\n",
    "                                n_jobs=2)\n",
    "forest.fit(X_train, y_train)"
   ]
  },
  {
   "cell_type": "markdown",
   "metadata": {},
   "source": [
    "- 4.在测试集上进行预测，计算准确度"
   ]
  },
  {
   "cell_type": "code",
   "execution_count": 13,
   "metadata": {
    "collapsed": true
   },
   "outputs": [],
   "source": [
    "from sklearn.metrics import accuracy_score"
   ]
  },
  {
   "cell_type": "code",
   "execution_count": 14,
   "metadata": {},
   "outputs": [
    {
     "name": "stdout",
     "output_type": "stream",
     "text": [
      "Accuracy: 0.93\n"
     ]
    }
   ],
   "source": [
    "#使用lr进行预测\n",
    "y_lr_pred = lr.predict(X_test)\n",
    "print('Accuracy: %.2f' % accuracy_score(y_test, y_lr_pred))"
   ]
  },
  {
   "cell_type": "code",
   "execution_count": 15,
   "metadata": {},
   "outputs": [
    {
     "name": "stdout",
     "output_type": "stream",
     "text": [
      "Accuracy: 0.94\n"
     ]
    }
   ],
   "source": [
    "#使用决策树进行预测\n",
    "y_dtc_pred = dtc.predict(X_test)\n",
    "print('Accuracy: %.2f' % accuracy_score(y_test, y_dtc_pred))"
   ]
  },
  {
   "cell_type": "code",
   "execution_count": 16,
   "metadata": {},
   "outputs": [
    {
     "name": "stdout",
     "output_type": "stream",
     "text": [
      "Accuracy: 0.93\n"
     ]
    }
   ],
   "source": [
    "#如在SVM建模的时候略过的话，此处执行会报错，如果上面的svm建模略过建议此处也略过！！\n",
    "#使用SVM进行预测\n",
    "y_svm_pred = svm.predict(X_test)\n",
    "print('Accuracy: %.2f' % accuracy_score(y_test, y_svm_pred))"
   ]
  },
  {
   "cell_type": "code",
   "execution_count": 17,
   "metadata": {},
   "outputs": [
    {
     "name": "stdout",
     "output_type": "stream",
     "text": [
      "Accuracy: 0.93\n"
     ]
    }
   ],
   "source": [
    "#使用KNN进行预测\n",
    "y_knn_pred = knn.predict(X_test)\n",
    "print('Accuracy: %.2f' % accuracy_score(y_test, y_knn_pred))"
   ]
  },
  {
   "cell_type": "code",
   "execution_count": 18,
   "metadata": {},
   "outputs": [
    {
     "name": "stdout",
     "output_type": "stream",
     "text": [
      "Accuracy: 0.93\n"
     ]
    }
   ],
   "source": [
    "#使用随机森林进行预测\n",
    "y_forest_pred = forest.predict(X_test)\n",
    "print('Accuracy: %.2f' % accuracy_score(y_test, y_forest_pred))"
   ]
  },
  {
   "cell_type": "markdown",
   "metadata": {},
   "source": [
    "- 5.查看sklearn的官方说明，了解混淆矩阵等评估标准，并对此例进行评估。"
   ]
  },
  {
   "cell_type": "code",
   "execution_count": 19,
   "metadata": {
    "collapsed": true
   },
   "outputs": [],
   "source": [
    "from sklearn.metrics import confusion_matrix\n",
    "from sklearn.metrics import classification_report\n",
    "def confusion_matrix_output(y_true, y_pred):\n",
    "    labels = list(set(y_true))  \n",
    "    conf_mat = confusion_matrix(y_true, y_pred, labels = labels)\n",
    "    out_put = \"\"\n",
    "    out_put += \"confusion_matrix(left labels: y_true, up labels: y_pred):\\n\"\n",
    "    out_put += \"labels\\t\"\n",
    "    for i in range(len(labels)):  \n",
    "        out_put += str(labels[i])\n",
    "        out_put += \"\\t\"\n",
    "    out_put += \"\\n\" \n",
    "    for i in range(len(conf_mat)):  \n",
    "        out_put += str(i)\n",
    "        out_put += \"\\t\"\n",
    "        for j in range(len(conf_mat[i])):  \n",
    "            out_put += str(conf_mat[i][j])\n",
    "            out_put += \"\\t\"\n",
    "        out_put += \"\\n\" \n",
    "    print(out_put)   "
   ]
  },
  {
   "cell_type": "code",
   "execution_count": 20,
   "metadata": {},
   "outputs": [
    {
     "name": "stdout",
     "output_type": "stream",
     "text": [
      "confusion_matrix(left labels: y_true, up labels: y_pred):\n",
      "labels\t0\t1\t\n",
      "0\t30356\t68\t\n",
      "1\t2092\t79\t\n",
      "\n",
      "             precision    recall  f1-score   support\n",
      "\n",
      "          0       0.94      1.00      0.97     30424\n",
      "          1       0.54      0.04      0.07      2171\n",
      "\n",
      "avg / total       0.91      0.93      0.91     32595\n",
      "\n"
     ]
    }
   ],
   "source": [
    "#使用混淆矩阵对LR算法预测结果进行评估\n",
    "confusion_matrix_output(y_test, y_lr_pred)\n",
    "#使用precision、recall 、f1-score、support对LR算法预测结果进行评估\n",
    "print(classification_report(y_test, y_lr_pred))"
   ]
  },
  {
   "cell_type": "markdown",
   "metadata": {},
   "source": [
    "* confusion matrix结果解读：\n",
    "    - 正样本总数：2171，模型预测为正个数：45，模型预测为负个数：2126\n",
    "    - 负样本总数：30424，模型预测为正个数：44，模型预测为负个数：30380\n",
    "* classification report结果解读：\n",
    "    - 正样本精确率：51%， 召回率：2%， f1-score：4%\n",
    "    - 负样本精确率：93%， 召回率：100%， f1-score：97%\n",
    "* 综合解读：\n",
    "    - LR模型对负样本预测效果较好，对正样本预测效果较差"
   ]
  },
  {
   "cell_type": "code",
   "execution_count": 21,
   "metadata": {},
   "outputs": [
    {
     "name": "stdout",
     "output_type": "stream",
     "text": [
      "confusion_matrix(left labels: y_true, up labels: y_pred):\n",
      "labels\t0\t1\t\n",
      "0\t30104\t320\t\n",
      "1\t1798\t373\t\n",
      "\n",
      "             precision    recall  f1-score   support\n",
      "\n",
      "          0       0.94      0.99      0.97     30424\n",
      "          1       0.54      0.17      0.26      2171\n",
      "\n",
      "avg / total       0.92      0.94      0.92     32595\n",
      "\n"
     ]
    }
   ],
   "source": [
    "#使用混淆矩阵对决策树算法预测结果进行评估\n",
    "confusion_matrix_output(y_test, y_dtc_pred)\n",
    "#使用precision、recall 、f1-score、support对决策树算法预测结果进行评估\n",
    "print(classification_report(y_test, y_dtc_pred))"
   ]
  },
  {
   "cell_type": "markdown",
   "metadata": {},
   "source": [
    "* confusion matrix结果解读：\n",
    "    - 正样本总数：2171，模型预测为正个数：373，模型预测为负个数：1798\n",
    "    - 负样本总数：30424，模型预测为正个数：320，模型预测为负个数：30104\n",
    "* classification report结果解读：\n",
    "    - 正样本精确率：54%， 召回率：17%， f1-score：26%\n",
    "    - 负样本精确率：94%， 召回率：99%， f1-score：97%\n",
    "* 综合解读：\n",
    "    - 决策树模型对负样本预测效果较好，对正样本预测效果较差，总体效果较LR稍好一点"
   ]
  },
  {
   "cell_type": "code",
   "execution_count": 22,
   "metadata": {},
   "outputs": [
    {
     "name": "stdout",
     "output_type": "stream",
     "text": [
      "confusion_matrix(left labels: y_true, up labels: y_pred):\n",
      "labels\t0\t1\t\n",
      "0\t30419\t5\t\n",
      "1\t2168\t3\t\n",
      "\n",
      "             precision    recall  f1-score   support\n",
      "\n",
      "          0       0.93      1.00      0.97     30424\n",
      "          1       0.38      0.00      0.00      2171\n",
      "\n",
      "avg / total       0.90      0.93      0.90     32595\n",
      "\n"
     ]
    }
   ],
   "source": [
    "#如在SVM建模的时候略过的话，此处执行会报错，如果上面的svm建模略过建议此处也略过！！\n",
    "#使用混淆矩阵对SVM算法预测结果进行评估\n",
    "confusion_matrix_output(y_test, y_svm_pred)\n",
    "#使用precision、recall 、f1-score、support对SVM算法预测结果进行评估\n",
    "print(classification_report(y_test, y_svm_pred))"
   ]
  },
  {
   "cell_type": "markdown",
   "metadata": {},
   "source": [
    "* confusion matrix结果解读：\n",
    "    - 正样本总数：2171，模型预测为正个数：3，模型预测为负个数：2168\n",
    "    - 负样本总数：30424，模型预测为正个数：5，模型预测为负个数：30419\n",
    "* classification report结果解读：\n",
    "    - 正样本精确率：38%， 召回率：0%， f1-score：0%\n",
    "    - 负样本精确率：93%， 召回率：100%， f1-score：97%\n",
    "* 综合解读：\n",
    "    - SVM模型对负样本预测效果较好，对正样本预测效果较差,正样本的recall和f1-score几乎为0"
   ]
  },
  {
   "cell_type": "code",
   "execution_count": 23,
   "metadata": {},
   "outputs": [
    {
     "name": "stdout",
     "output_type": "stream",
     "text": [
      "confusion_matrix(left labels: y_true, up labels: y_pred):\n",
      "labels\t0\t1\t\n",
      "0\t30321\t103\t\n",
      "1\t2130\t41\t\n",
      "\n",
      "             precision    recall  f1-score   support\n",
      "\n",
      "          0       0.93      1.00      0.96     30424\n",
      "          1       0.28      0.02      0.04      2171\n",
      "\n",
      "avg / total       0.89      0.93      0.90     32595\n",
      "\n"
     ]
    }
   ],
   "source": [
    "#使用混淆矩阵对KNN算法预测结果进行评估\n",
    "confusion_matrix_output(y_test, y_knn_pred)\n",
    "#使用precision、recall 、f1-score、support对KNN算法预测结果进行评估\n",
    "print(classification_report(y_test, y_knn_pred))"
   ]
  },
  {
   "cell_type": "markdown",
   "metadata": {},
   "source": [
    "* confusion matrix结果解读：\n",
    "    - 正样本总数：2171，模型预测为正个数：41，模型预测为负个数：2130\n",
    "    - 负样本总数：30424，模型预测为正个数：103，模型预测为负个数：30321\n",
    "* classification report结果解读：\n",
    "    - 正样本精确率：28%， 召回率：2%， f1-score：4%\n",
    "    - 负样本精确率：93%， 召回率：100%， f1-score：96%\n",
    "* 综合解读：\n",
    "    - K近邻模型对负样本预测效果较好，对正样本预测效果较差"
   ]
  },
  {
   "cell_type": "code",
   "execution_count": 24,
   "metadata": {},
   "outputs": [
    {
     "name": "stdout",
     "output_type": "stream",
     "text": [
      "confusion_matrix(left labels: y_true, up labels: y_pred):\n",
      "labels\t0\t1\t\n",
      "0\t30077\t347\t\n",
      "1\t1846\t325\t\n",
      "\n",
      "             precision    recall  f1-score   support\n",
      "\n",
      "          0       0.94      0.99      0.96     30424\n",
      "          1       0.48      0.15      0.23      2171\n",
      "\n",
      "avg / total       0.91      0.93      0.92     32595\n",
      "\n"
     ]
    }
   ],
   "source": [
    "#使用混淆矩阵对RandomForest算法预测结果进行评估\n",
    "confusion_matrix_output(y_test, y_forest_pred)\n",
    "#使用precision、recall 、f1-score、support对RandomForest算法预测结果进行评估\n",
    "print(classification_report(y_test, y_forest_pred))"
   ]
  },
  {
   "cell_type": "markdown",
   "metadata": {},
   "source": [
    "* confusion matrix结果解读：\n",
    "    - 正样本总数：2171，模型预测为正个数：325，模型预测为负个数：1846\n",
    "    - 负样本总数：30424，模型预测为正个数：347，模型预测为负个数：30077\n",
    "* classification report结果解读：\n",
    "    - 正样本精确率：48%， 召回率：15%， f1-score：23%\n",
    "    - 负样本精确率：94%， 召回率：99%， f1-score：96%\n",
    "* 综合解读：\n",
    "    - 随机森林模型对负样本预测效果较好，对正样本预测效果较差"
   ]
  },
  {
   "cell_type": "markdown",
   "metadata": {},
   "source": [
    "- 6.银行通常会有更严格的要求，因为fraud带来的后果通常比较严重，一般我们会调整模型的标准。   \n",
    "比如在logistic regression当中，一般我们的概率判定边界为0.5，但是我们可以把阈值设定低一些，来提高模型的“敏感度”   \n",
    "试试看把阈值设定为0.3，再看看这个时候的混淆矩阵等评估指标。"
   ]
  },
  {
   "cell_type": "code",
   "execution_count": 25,
   "metadata": {
    "collapsed": true
   },
   "outputs": [],
   "source": [
    "threshold = .3\n",
    "#阈值设定为0.3，使用LR进行预测\n",
    "y_pred_prob = lr.predict_proba(X_test)\n",
    "y_lr3_pred = y_pred_prob[:,1] > threshold"
   ]
  },
  {
   "cell_type": "code",
   "execution_count": 26,
   "metadata": {},
   "outputs": [
    {
     "name": "stdout",
     "output_type": "stream",
     "text": [
      "confusion_matrix(left labels: y_true, up labels: y_pred):\n",
      "labels\t0\t1\t\n",
      "0\t30212\t212\t\n",
      "1\t1950\t221\t\n",
      "\n",
      "             precision    recall  f1-score   support\n",
      "\n",
      "          0       0.94      0.99      0.97     30424\n",
      "          1       0.51      0.10      0.17      2171\n",
      "\n",
      "avg / total       0.91      0.93      0.91     32595\n",
      "\n"
     ]
    }
   ],
   "source": [
    "#使用混淆矩阵对LR算法预测结果进行评估\n",
    "confusion_matrix_output(y_test, y_lr3_pred)\n",
    "#使用precision、recall 、f1-score、support对LR算法预测结果进行评估\n",
    "print(classification_report(y_test, y_lr3_pred))"
   ]
  },
  {
   "cell_type": "markdown",
   "metadata": {},
   "source": [
    "#### 修改threshold以后...\n",
    "* confusion matrix结果解读：\n",
    "    - 正样本总数：2171，模型预测为正个数：152，模型预测为负个数：2019\n",
    "    - 负样本总数：30424，模型预测为正个数：144，模型预测为负个数：30280\n",
    "* classification report结果解读：\n",
    "    - 正样本精确率：51%， 召回率：7%， f1-score：12%\n",
    "    - 负样本精确率：94%， 召回率：100%， f1-score：97%\n",
    "* 综合解读：\n",
    "    - LR模型对负样本预测效果较好，对正样本预测效果较差,对比修改threshold之前正样本recall略有提高（2%->7%）"
   ]
  },
  {
   "cell_type": "code",
   "execution_count": 27,
   "metadata": {
    "collapsed": true
   },
   "outputs": [],
   "source": [
    "#阈值设定为0.3，使用决策树进行预测\n",
    "y_pred_prob = dtc.predict_proba(X_test)\n",
    "y_dtc3_pred = y_pred_prob[:,1] > threshold"
   ]
  },
  {
   "cell_type": "code",
   "execution_count": 28,
   "metadata": {},
   "outputs": [
    {
     "name": "stdout",
     "output_type": "stream",
     "text": [
      "confusion_matrix(left labels: y_true, up labels: y_pred):\n",
      "labels\t0\t1\t\n",
      "0\t29948\t476\t\n",
      "1\t1660\t511\t\n",
      "\n",
      "             precision    recall  f1-score   support\n",
      "\n",
      "          0       0.95      0.98      0.97     30424\n",
      "          1       0.52      0.24      0.32      2171\n",
      "\n",
      "avg / total       0.92      0.93      0.92     32595\n",
      "\n"
     ]
    }
   ],
   "source": [
    "#使用混淆矩阵对决策树算法预测结果进行评估\n",
    "confusion_matrix_output(y_test, y_dtc3_pred)\n",
    "#使用precision、recall 、f1-score、support对决策树算法预测结果进行评估\n",
    "print(classification_report(y_test, y_dtc3_pred))"
   ]
  },
  {
   "cell_type": "markdown",
   "metadata": {},
   "source": [
    "#### 修改threshold以后...\n",
    "* confusion matrix结果解读：\n",
    "    - 正样本总数：2171，模型预测为正个数：511，模型预测为负个数：1660\n",
    "    - 负样本总数：30424，模型预测为正个数：476，模型预测为负个数：29948\n",
    "* classification report结果解读：\n",
    "    - 正样本精确率：52%， 召回率：24%， f1-score：32%\n",
    "    - 负样本精确率：95%， 召回率：98%， f1-score：97%\n",
    "* 综合解读：\n",
    "    - 决策树模型对负样本预测效果较好，对正样本预测效果较差,对比修改threshold之前正样本recall略有提高（17%->24%），f1-score略有提高（26%->32%）"
   ]
  },
  {
   "cell_type": "code",
   "execution_count": 29,
   "metadata": {
    "collapsed": true
   },
   "outputs": [],
   "source": [
    "#阈值设定为0.3，使用K近邻进行预测\n",
    "y_pred_prob = knn.predict_proba(X_test)\n",
    "y_knn3_pred = y_pred_prob[:,1] > threshold"
   ]
  },
  {
   "cell_type": "code",
   "execution_count": 30,
   "metadata": {},
   "outputs": [
    {
     "name": "stdout",
     "output_type": "stream",
     "text": [
      "confusion_matrix(left labels: y_true, up labels: y_pred):\n",
      "labels\t0\t1\t\n",
      "0\t27763\t2661\t\n",
      "1\t1789\t382\t\n",
      "\n",
      "             precision    recall  f1-score   support\n",
      "\n",
      "          0       0.94      0.91      0.93     30424\n",
      "          1       0.13      0.18      0.15      2171\n",
      "\n",
      "avg / total       0.89      0.86      0.87     32595\n",
      "\n"
     ]
    }
   ],
   "source": [
    "#使用混淆矩阵对K近邻算法预测结果进行评估\n",
    "confusion_matrix_output(y_test, y_knn3_pred)\n",
    "#使用precision、recall 、f1-score、support对K近邻算法预测结果进行评估\n",
    "print(classification_report(y_test, y_knn3_pred))"
   ]
  },
  {
   "cell_type": "markdown",
   "metadata": {},
   "source": [
    "#### 修改threshold以后...\n",
    "* confusion matrix结果解读：\n",
    "    - 正样本总数：2171，模型预测为正个数：382，模型预测为负个数：1789\n",
    "    - 负样本总数：30424，模型预测为正个数：2661，模型预测为负个数：27763\n",
    "* classification report结果解读：\n",
    "    - 正样本精确率：13%， 召回率: 18%， f1-score：15%\n",
    "    - 负样本精确率：94%， 召回率：91%， f1-score：93%\n",
    "* 综合解读：\n",
    "    - K近邻模型对负样本预测效果较好，对正样本预测效果较差,对比修改threshold之前正样本precision略有下降（28%->13%）,recall略有提高（2%->18%）,f1-score略有提高（4%-15%），负样本recall略有下降（100%->91%）,f1-score略有下降（96%->93%）"
   ]
  },
  {
   "cell_type": "code",
   "execution_count": 31,
   "metadata": {
    "collapsed": true
   },
   "outputs": [],
   "source": [
    "#阈值设定为0.3，使用RandomForest进行预测\n",
    "y_pred_prob = forest.predict_proba(X_test)\n",
    "y_forest3_pred = y_pred_prob[:,1] > threshold"
   ]
  },
  {
   "cell_type": "code",
   "execution_count": 32,
   "metadata": {},
   "outputs": [
    {
     "name": "stdout",
     "output_type": "stream",
     "text": [
      "confusion_matrix(left labels: y_true, up labels: y_pred):\n",
      "labels\t0\t1\t\n",
      "0\t29272\t1152\t\n",
      "1\t1435\t736\t\n",
      "\n",
      "             precision    recall  f1-score   support\n",
      "\n",
      "          0       0.95      0.96      0.96     30424\n",
      "          1       0.39      0.34      0.36      2171\n",
      "\n",
      "avg / total       0.92      0.92      0.92     32595\n",
      "\n"
     ]
    }
   ],
   "source": [
    "#使用混淆矩阵对RandomForest算法预测结果进行评估\n",
    "confusion_matrix_output(y_test, y_forest3_pred)\n",
    "#使用precision、recall 、f1-score、support对RandomForest算法预测结果进行评估\n",
    "print(classification_report(y_test, y_forest3_pred))"
   ]
  },
  {
   "cell_type": "markdown",
   "metadata": {},
   "source": [
    "#### 修改threshold以后...\n",
    "* confusion matrix结果解读：\n",
    "    - 正样本总数：2171，模型预测为正个数：736，模型预测为负个数：1435\n",
    "    - 负样本总数：30424，模型预测为正个数：1152，模型预测为负个数：29272\n",
    "* classification report结果解读：\n",
    "    - 正样本精确率：39%， 召回率：34%， f1-score：36%\n",
    "    - 负样本精确率：95%， 召回率：96%， f1-score：96%\n",
    "* 综合解读：\n",
    "    - 随机森林模型对负样本预测效果较好，对正样本预测效果较差,对比修改threshold之前正样本precision略有下降（48%->39%）,recall略有提高（15%->34%）,f1-score略有提高（23%-36%），负样本recall略有下降（99%->96%）"
   ]
  },
  {
   "cell_type": "markdown",
   "metadata": {},
   "source": [
    "- 7.尝试对不同特征的重要度进行排序，通过特征选择的方式，对特征进行筛选。并重新建模，观察此时的模型准确率等评估指标。"
   ]
  },
  {
   "cell_type": "code",
   "execution_count": 33,
   "metadata": {},
   "outputs": [
    {
     "name": "stdout",
     "output_type": "stream",
     "text": [
      " 1) RevolvingUtilizationOfUnsecuredLines 0.214828\n",
      " 2) DebtRatio                      0.162073\n",
      " 3) MonthlyIncome                  0.154871\n",
      " 4) age                            0.121862\n",
      " 5) NumberOfOpenCreditLinesAndLoans 0.088135\n",
      " 6) NumberOfTimes90DaysLate        0.085355\n",
      " 7) NumberOfTime30-59DaysPastDueNotWorse 0.063033\n",
      " 8) NumberOfDependents             0.041405\n",
      " 9) NumberOfTime60-89DaysPastDueNotWorse 0.037884\n",
      "10) NumberRealEstateLoansOrLines   0.030555\n"
     ]
    },
    {
     "data": {
      "image/png": "[encoded data removed]",
      "text/plain": [
       "<matplotlib.figure.Figure at 0x7f6dc8c8ef28>"
      ]
     },
     "metadata": {},
     "output_type": "display_data"
    }
   ],
   "source": [
    "import numpy as np\n",
    "import matplotlib.pyplot as plt\n",
    "%matplotlib inline\n",
    "feat_labels = data.columns[1:]\n",
    "\n",
    "importances = forest.feature_importances_\n",
    "indices = np.argsort(importances)[::-1]\n",
    "\n",
    "sorted_feat = []\n",
    "train_features_len = X_train.shape[1]\n",
    "\n",
    "for f in range(train_features_len):\n",
    "    sorted_feat.append(feat_labels[indices[f]])\n",
    "    print(\"%2d) %-*s %f\" % (f + 1, 30, \n",
    "                            feat_labels[indices[f]], \n",
    "                            importances[indices[f]]))\n",
    "\n",
    "plt.figure(figsize=(15,8))\n",
    "plt.title('Feature Importances', fontsize=15)\n",
    "plt.bar(range(train_features_len), \n",
    "        importances[indices],\n",
    "        color='lightblue', \n",
    "        align='center')\n",
    "\n",
    "plt.xticks(range(train_features_len), \n",
    "           feat_labels[indices], rotation=90, fontsize=15)\n",
    "plt.yticks(fontsize=15)\n",
    "plt.xlim([-1, train_features_len])\n",
    "plt.tight_layout()\n",
    "#plt.savefig('./random_forest.png', dpi=300)\n",
    "plt.show()"
   ]
  },
  {
   "cell_type": "code",
   "execution_count": 34,
   "metadata": {
    "collapsed": true
   },
   "outputs": [],
   "source": [
    "#使用RFE自动进行特征选择\n",
    "from sklearn.feature_selection import RFE\n",
    "from sklearn.ensemble import RandomForestClassifier\n",
    "#forest是上面已经建好的模型\n",
    "rfe = RFE(estimator=forest, n_features_to_select=8)\n",
    "rfe.fit(X_train,y_train)\n",
    "y_rfe_pred = rfe.predict(X_test)"
   ]
  },
  {
   "cell_type": "code",
   "execution_count": 35,
   "metadata": {},
   "outputs": [
    {
     "name": "stdout",
     "output_type": "stream",
     "text": [
      "confusion_matrix(left labels: y_true, up labels: y_pred):\n",
      "labels\t0\t1\t\n",
      "0\t30091\t333\t\n",
      "1\t1866\t305\t\n",
      "\n",
      "             precision    recall  f1-score   support\n",
      "\n",
      "          0       0.94      0.99      0.96     30424\n",
      "          1       0.48      0.14      0.22      2171\n",
      "\n",
      "avg / total       0.91      0.93      0.91     32595\n",
      "\n"
     ]
    }
   ],
   "source": [
    "#使用混淆矩阵对RandomForest算法预测结果进行评估\n",
    "confusion_matrix_output(y_test, y_rfe_pred)\n",
    "#使用precision、recall 、f1-score、support对RandomForest算法预测结果进行评估\n",
    "print(classification_report(y_test, y_rfe_pred))"
   ]
  },
  {
   "cell_type": "markdown",
   "metadata": {},
   "source": [
    "#### 进行特征筛选以后...\n",
    "* confusion matrix结果解读：\n",
    "    - 正样本总数：2171，模型预测为正个数：1866，模型预测为负个数：305\n",
    "    - 负样本总数：30424，模型预测为正个数：333，模型预测为负个数：30091\n",
    "* classification report结果解读：\n",
    "    - 正样本精确率：48%， 召回率：14%， f1-score：22%\n",
    "    - 负样本精确率：94%， 召回率：99%， f1-score：96%\n",
    "* 综合解读：\n",
    "    - 进行特征筛选以后，随机森林模型对负样本预测效果较好，对正样本预测效果较差,对比特征筛选之前，正负样本precision，recall，f1-score没有特别明显的变化"
   ]
  },
  {
   "cell_type": "code",
   "execution_count": 36,
   "metadata": {
    "collapsed": true
   },
   "outputs": [],
   "source": [
    "rfe_thresh = 0.3\n",
    "y_rfe_pred_prob = rfe.predict_proba(X_test)\n",
    "y_rfe3_pred = y_rfe_pred_prob[:,1] > threshold"
   ]
  },
  {
   "cell_type": "code",
   "execution_count": 37,
   "metadata": {},
   "outputs": [
    {
     "name": "stdout",
     "output_type": "stream",
     "text": [
      "confusion_matrix(left labels: y_true, up labels: y_pred):\n",
      "labels\t0\t1\t\n",
      "0\t29314\t1110\t\n",
      "1\t1470\t701\t\n",
      "\n",
      "             precision    recall  f1-score   support\n",
      "\n",
      "          0       0.95      0.96      0.96     30424\n",
      "          1       0.39      0.32      0.35      2171\n",
      "\n",
      "avg / total       0.91      0.92      0.92     32595\n",
      "\n"
     ]
    }
   ],
   "source": [
    "#使用混淆矩阵对RandomForest算法预测结果进行评估\n",
    "confusion_matrix_output(y_test, y_rfe3_pred)\n",
    "#使用precision、recall 、f1-score、support对RandomForest算法预测结果进行评估\n",
    "print(classification_report(y_test, y_rfe3_pred))"
   ]
  },
  {
   "cell_type": "markdown",
   "metadata": {},
   "source": [
    "#### 进行特征筛选，修改threshold为0.3以后...\n",
    "* confusion matrix结果解读：\n",
    "    - 正样本总数：2171，模型预测为正个数：1470，模型预测为负个数：701\n",
    "    - 负样本总数：30424，模型预测为正个数：1110，模型预测为负个数：29314\n",
    "* classification report结果解读：\n",
    "    - 正样本精确率：39%， 召回率：32%， f1-score：35%\n",
    "    - 负样本精确率：95%， 召回率：96%， f1-score：96%\n",
    "* 综合解读：\n",
    "    - 进行特征筛选以后，随机森林模型对负样本预测效果较好，对正样本预测效果较差,对比修改threshold为0.3之前，正负样本precision略有下降（48%->39%），recall略有上升（14%->32%），f1-score略有上升（22%->35%）,负样本precision略有上升（94%-95%）recall略有下降（99%->96%）"
   ]
  },
  {
   "cell_type": "markdown",
   "metadata": {},
   "source": [
    "### 本阶段课程意见反馈题(5分送分项，非必答)\n",
    "#### 请同学围绕以下两点进行回答：\n",
    "- 自身总结：请您对您自己在本周课程的学习，收获，技能掌握等方面进行一次总结 ，也包括有哪些方面存在哪些不足，欠缺，困惑。作为将来回顾学习路径时的依据。\n"
   ]
  },
  {
   "cell_type": "markdown",
   "metadata": {
    "collapsed": true
   },
   "source": [
    "### 答：通过本周课程我学到了如下内容：\n",
    "- 1.机器学习建模基本流程：数据处理|特征工程->建模|调参->模型评估；\n",
    "- 2.掌握了多种类型数据的常见特征处理手段，掌握了常见的特征选择方法；\n",
    "- 3.掌握了sklearn机器学习库的常见模块的使用；\n",
    "- 4.掌握的LogisticRegression、SVM、KNN、决策树、随机森林等常见模型的建模、调参；\n",
    "- 5.掌握了训练集测试集数据拆分方法（train_test_split）,掌握了交叉验证工具GridSearchCV和cross_validation\n",
    "- 6.掌握了常见的模型评估指标：   \n",
    "    * 回归评估指标：\n",
    "        * MSE: Mean Squared Error，均方误差是指样本真实值与预测值之差平方的期望值; MSE可以评价数据的变化程度，MSE的值越小，说明预测模型描述实验数据具有更好的精确度。\n",
    "        * RMSE :均方根误差是均方误差的算术平方根\n",
    "        * MAE :Mean Absolute Error ，平均绝对误差是样本真实值与预测值差值的绝对值的平均值 ，平均绝对误差能更好地反映预测值误差的实际情况.\n",
    "        * MAPE：相对百分误差绝对值的平均值MAPE(mean absolute percentage error):可以用来衡量一个模型预测结果的好坏，计算公式如下：MAPE=sum（|y*-y|*100 / y ） /n ，其中n是样本量，y是实际值，y*是预测值。\n",
    "        * R方：反映回归直线的拟合程度；取值范围在 [ 0 , 1 ] 之间R²越趋近于1，说明回归方程拟合的越好；R²越趋近于0，说明回归方程拟合的越差。公式：回归平方和/总平方和\n",
    "\n",
    "    * 分类评估指标：\n",
    "        * AUC:ROC曲线下方的面积，AUC值是一个概率值，当你随机挑选一个正样本以及一个负样本，当前的分类算法根据计算得到的Score值将这个正样本排在负样本前面的概率就是AUC值。当然，AUC值越大，当前的分类算法越有可能将正样本排在负样本前面，即能够更好的分类。AUC能够更好的抵抗正负样本不均衡的干扰。\n",
    "\n",
    "        * ROC:横轴FPR,纵轴TPR，模型在测试集上得到每个样本属于正样本的score值（概率），将“Score”值作为阈值threshold，当测试样本属于正样本的概率大于或等于这个threshold时，我们认为它为正样本，否则为负样本。\n",
    "\n",
    "        * Accuracy: (TP+TN)/(TP+TN+FP+FN)\n",
    "        * precision： TP/(TP+FP) \n",
    "        * recall： TP/(TP+FN)\n",
    "        * F1-score =  2*(precision*recall)/(precision+recall) =  2*TP/(2*TP + FP + FN)\n",
    "        * F1-score兼顾精确率和召回率，是精确率和召回率的调和平均数。"
   ]
  },
  {
   "cell_type": "markdown",
   "metadata": {},
   "source": [
    "- 课程反馈：请就知识点，进度，难易度，教学方式，考试方式及难易度等方面向我们反馈，督促我们进行更有效的改进。"
   ]
  },
  {
   "cell_type": "markdown",
   "metadata": {
    "collapsed": true
   },
   "source": [
    "暂无"
   ]
  },
  {
   "cell_type": "markdown",
   "metadata": {},
   "source": [
    "<hr>\n",
    "<center><h1>####答卷结束####</h1></center>"
   ]
  }
 ],
 "metadata": {
  "kernelspec": {
   "display_name": "Python 3",
   "language": "python",
   "name": "python3"
  },
  "language_info": {
   "codemirror_mode": {
    "name": "ipython",
    "version": 3
   },
   "file_extension": ".py",
   "mimetype": "text/x-python",
   "name": "python",
   "nbconvert_exporter": "python",
   "pygments_lexer": "ipython3",
   "version": "3.5.2"
  }
 },
 "nbformat": 4,
 "nbformat_minor": 2
}
