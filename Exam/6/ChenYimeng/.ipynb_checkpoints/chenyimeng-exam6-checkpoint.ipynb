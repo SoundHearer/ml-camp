{
 "cells": [
  {
   "cell_type": "markdown",
   "metadata": {},
   "source": [
    "## 七月在线机器学习实训营三期第六周(机器学习)考试\n",
    "#### 考试说明:\n",
    "- 起止时间：请同学在2018年3月16日至3月18日期间完成，最晚提交时间本周日（3月18日24时之前）结束，<b>逾期不接受补考,该考试分数计入平时成绩</b>\n",
    "- 考试方式：请同学<font color=red><b>拷贝</b></font>该试卷至自己姓名的目录后，将文件更名为同学姓名拼音-exam6后，进行作答。例如wangwei-exam6\n",
    "- 提交格式：请同学新建自己姓名全拼的文件夹，将该试卷，数据文件，zip文件等相关考试文件，放置此目录下。将该目录<b>移动</b>至/0.Teacher/Exam/4/目录下\n",
    "- 注意事项：为确保同学们真正了解自身对本周课程的掌握程度，<font color=red><b>请勿翻阅，移动，更改</b></font>其它同学试卷。如发现按0分处理\n",
    "- 请同学在下方同学姓名处填写自己的姓名，批改人和最终得分不用填写"
   ]
  },
  {
   "cell_type": "markdown",
   "metadata": {},
   "source": [
    "- 同学姓名:<u>陈益梦</u>  \n",
    "- 批改人： David\n",
    "- 最终得分:100"
   ]
  },
  {
   "cell_type": "markdown",
   "metadata": {},
   "source": [
    "<center><h1>####答卷开始####</h1></center>\n",
    "<hr>"
   ]
  },
  {
   "cell_type": "markdown",
   "metadata": {},
   "source": [
    "## 简答题(共4题，每题5分，共计20分)\n",
    "\n",
    "- note: 20"
   ]
  },
  {
   "cell_type": "markdown",
   "metadata": {},
   "source": [
    "#### 1. 请写出你了解的机器学习特征工程操作，以及它的意义（面试题）"
   ]
  },
  {
   "cell_type": "markdown",
   "metadata": {
    "collapsed": true
   },
   "source": [
    "** 0、数据缺失**<br>\n",
    "意义：丢弃大量缺失数据，大量缺失的数据不可信；填充少量缺失数据，不同方式的填充数据可以让模型进行训练以达到好的模型效果。<br>\n",
    "** 1、幅度缩放（数值型）**<br>\n",
    "意义：将数字型数据缩放到一致的水平，便于算法做特征权重的计算，过大或者过小的特征都会影响算法的参数计算。<br>\n",
    "** 2、统计结果，四则运算，高次特征和交叉特征**<br>\n",
    "有些场景增加统计等新的特征，增加算法的可靠性<br>\n",
    "** 3、离散化/分箱/分桶**<br>\n",
    "连续性或者种类很多的数据在算法中可以分隔开进行计算，使得到的模型泛化性更好<br>\n",
    "** 4、独热向量编码**<br>\n",
    "线性回归，LR，SVM，神经网络等算法无法直接使用类别型数据，将其展开为哑变量的向量模式便于运算。<br>\n",
    "** 7、时间型**<br>\n",
    "将时间型数据转换为时间，可以获取时间的各种维度的数据作为特征，增加模型的泛化能力。<br>"
   ]
  },
  {
   "cell_type": "markdown",
   "metadata": {},
   "source": [
    "#### 2.请写出上述特征工程操作的sklearn或者pandas实现方式\n"
   ]
  },
  {
   "cell_type": "markdown",
   "metadata": {},
   "source": [
    "- 0、数据缺失<br>\n",
    "pandas的fillna函数 ；可以使用sklearn当中的Imputer,填充的类\n",
    "- 1、幅度缩放（数值型）<br>\n",
    "取log；MinMaxScaler；StandardScaler\n",
    "- 2、统计结果（数值型）<br>\n",
    "quantile（百分位数，例如：上四分位数）；max；min；mean\n",
    "- 3、四则运算（数据型）<br>\n",
    "特征之间或者特征与数字之间的四则运算\n",
    "- 4、高次特征和交叉特征<br>\n",
    "sklearn.preprocessing.PolynomialFeatures（高次特征）<br>\n",
    "专门产生多项式的，并且多项式包含的是相互影响的特征集。比如：一个输入样本是２维的。形式如[a,b] ,则二阶多项式的特征集如下[1,a,b,a^2,ab,b^2]<br>\n",
    "interaction_only=True（交互）<br>\n",
    "只找交互作用的多项式输出矩阵。例如[a,b]的多项式交互式输出[1,a,b,ab]。不存在自己与自己交互的情况如;a^2或者ab^2之类的<br>\n",
    "- 5、离散化/分箱/分桶<br>\n",
    "pandas：cut(等距切分)；pcut(等频切分)\n",
    "- 6、独热向量编码<br>\n",
    "pd.get_dummies\n",
    "- 7、时间型<br>\n",
    "pd.to_datetime；month；dayofyear；dayofweek"
   ]
  },
  {
   "cell_type": "markdown",
   "metadata": {},
   "source": [
    "#### 3.模型评估中的留一法，留出法，交叉验证分别是什么操作？"
   ]
  },
  {
   "cell_type": "markdown",
   "metadata": {},
   "source": [
    "**留一法** <br>\n",
    "留一法就是每次只留下一个样本做测试集，其它样本做训练集，如果有k个样本，则需要训练k次，测试k次。<br>\n",
    "留一发计算最繁琐，但样本利用率最高。适合于小样本的情况。<br>\n",
    "\n",
    "**留出法**<br>\n",
    "（1）从全部的训练数据 S中随机选择s的样例作为训练集 train，剩余的 作为测试集 test。<br>\n",
    "（2）通过对训练集训练 ，得到假设函数或者模型 。<br>\n",
    "（3）在测试集对每一个样本根据假设函数或者模型，得到训练集的类标，求出分类正确率。<br>\n",
    "（4）选择具有最大分类正确率的模型或者假设。<br>\n",
    "大多情形下，难以得到合适的测试集，此时一般多次重复划分-训练-测试求误差的步骤，取误差的平均值。\n",
    "\n",
    "**交叉验证**<br>\n",
    "（1）将全部训练集 S平均分成 k个不相交的子集。<br>\n",
    "（2）每次从分好的子集中里面，拿出一个作为验证集，其它k-1个作为训练集。<br>\n",
    "（3）根据训练训练出模型或者假设函数。<br>\n",
    "（4）把这个模型放到测试集上，得到分类准确率。<br>\n",
    "（5）计算k次求得的分类率的平均值，作为该模型或者假设函数的真实分类准确率。<br>\n",
    "这个方法充分利用了所有样本。但计算比较繁琐，需要训练k次，测试k次。<br>"
   ]
  },
  {
   "cell_type": "markdown",
   "metadata": {},
   "source": [
    "#### 4.如何理解模型的过拟合与欠拟合，以及如何解决？（面试题）\n",
    "##### 如何判断模型是欠拟合/过拟合？\n",
    "过拟合:在训练数据上表现良好，在未知数据上表现差。<br>\n",
    "欠拟合:在训练数据和未知数据上表现都很差<br>\n",
    "\n",
    "##### 在欠拟合和过拟合的情形下，怎么去调整和优化模型？\n",
    "###### 过拟合：\n",
    "1、交叉检验，通过交叉检验得到较优的模型参数;<br>\n",
    "2、特征选择，减少特征数或使用较少的特征组合，对于按区间离散化的特征，增大划分的区间;<br>\n",
    "3、正则化，常用的有 L1、L2 正则。而且 L1正则还可以自动进行特征选择;<br>\n",
    "4、如果有正则项则可以考虑增大正则项参数 lambda;<br>\n",
    "5、增加训练数据可以有限的避免过拟合;<br>\n",
    "6、Bagging ,将多个弱学习器Bagging 一下效果会好很多，比如随机森林等.<br>\n",
    "\n",
    "###### 欠拟合：\n",
    "1、增加新特征，可以考虑加入进特征组合、高次特征，来增大假设空间;<br>\n",
    "2、尝试非线性模型，比如核SVM 、决策树、DNN等模型;<br>\n",
    "3、如果有正则项可以较小正则项参数 $\\lambda$;<br>\n",
    "4、Boosting ,Boosting 往往会有较小的 Bias，比如 Gradient Boosting 等."
   ]
  },
  {
   "cell_type": "markdown",
   "metadata": {},
   "source": [
    "## 操作题(共1题，共计80分)\n",
    "\n",
    "- 80"
   ]
  },
  {
   "cell_type": "markdown",
   "metadata": {},
   "source": [
    "### 信用卡欺诈项目(共7项，前5项每题10分，6，7题每题15分)"
   ]
  },
  {
   "cell_type": "markdown",
   "metadata": {},
   "source": [
    "- 前期数据导入,预览及处理(此部分勿修改，涉及的数据文件无需复制移动)"
   ]
  },
  {
   "cell_type": "code",
   "execution_count": 1,
   "metadata": {},
   "outputs": [
    {
     "data": {
      "text/html": [
       "<div>\n",
       "<style>\n",
       "    .dataframe thead tr:only-child th {\n",
       "        text-align: right;\n",
       "    }\n",
       "\n",
       "    .dataframe thead th {\n",
       "        text-align: left;\n",
       "    }\n",
       "\n",
       "    .dataframe tbody tr th {\n",
       "        vertical-align: top;\n",
       "    }\n",
       "</style>\n",
       "<table border=\"1\" class=\"dataframe\">\n",
       "  <thead>\n",
       "    <tr style=\"text-align: right;\">\n",
       "      <th></th>\n",
       "      <th>SeriousDlqin2yrs</th>\n",
       "      <th>RevolvingUtilizationOfUnsecuredLines</th>\n",
       "      <th>age</th>\n",
       "      <th>NumberOfTime30-59DaysPastDueNotWorse</th>\n",
       "      <th>DebtRatio</th>\n",
       "      <th>MonthlyIncome</th>\n",
       "      <th>NumberOfOpenCreditLinesAndLoans</th>\n",
       "      <th>NumberOfTimes90DaysLate</th>\n",
       "      <th>NumberRealEstateLoansOrLines</th>\n",
       "      <th>NumberOfTime60-89DaysPastDueNotWorse</th>\n",
       "      <th>NumberOfDependents</th>\n",
       "    </tr>\n",
       "  </thead>\n",
       "  <tbody>\n",
       "    <tr>\n",
       "      <th>0</th>\n",
       "      <td>1</td>\n",
       "      <td>0.766127</td>\n",
       "      <td>45.0</td>\n",
       "      <td>2.0</td>\n",
       "      <td>0.802982</td>\n",
       "      <td>9120.0</td>\n",
       "      <td>13.0</td>\n",
       "      <td>0.0</td>\n",
       "      <td>6.0</td>\n",
       "      <td>0.0</td>\n",
       "      <td>2.0</td>\n",
       "    </tr>\n",
       "    <tr>\n",
       "      <th>1</th>\n",
       "      <td>0</td>\n",
       "      <td>0.957151</td>\n",
       "      <td>40.0</td>\n",
       "      <td>0.0</td>\n",
       "      <td>0.121876</td>\n",
       "      <td>2600.0</td>\n",
       "      <td>4.0</td>\n",
       "      <td>0.0</td>\n",
       "      <td>0.0</td>\n",
       "      <td>0.0</td>\n",
       "      <td>1.0</td>\n",
       "    </tr>\n",
       "    <tr>\n",
       "      <th>2</th>\n",
       "      <td>0</td>\n",
       "      <td>0.658180</td>\n",
       "      <td>38.0</td>\n",
       "      <td>1.0</td>\n",
       "      <td>0.085113</td>\n",
       "      <td>3042.0</td>\n",
       "      <td>2.0</td>\n",
       "      <td>1.0</td>\n",
       "      <td>0.0</td>\n",
       "      <td>0.0</td>\n",
       "      <td>0.0</td>\n",
       "    </tr>\n",
       "    <tr>\n",
       "      <th>3</th>\n",
       "      <td>0</td>\n",
       "      <td>0.233810</td>\n",
       "      <td>30.0</td>\n",
       "      <td>0.0</td>\n",
       "      <td>0.036050</td>\n",
       "      <td>3300.0</td>\n",
       "      <td>5.0</td>\n",
       "      <td>0.0</td>\n",
       "      <td>0.0</td>\n",
       "      <td>0.0</td>\n",
       "      <td>0.0</td>\n",
       "    </tr>\n",
       "    <tr>\n",
       "      <th>4</th>\n",
       "      <td>0</td>\n",
       "      <td>0.907239</td>\n",
       "      <td>49.0</td>\n",
       "      <td>1.0</td>\n",
       "      <td>0.024926</td>\n",
       "      <td>63588.0</td>\n",
       "      <td>7.0</td>\n",
       "      <td>0.0</td>\n",
       "      <td>1.0</td>\n",
       "      <td>0.0</td>\n",
       "      <td>0.0</td>\n",
       "    </tr>\n",
       "  </tbody>\n",
       "</table>\n",
       "</div>"
      ],
      "text/plain": [
       "   SeriousDlqin2yrs  RevolvingUtilizationOfUnsecuredLines   age  \\\n",
       "0                 1                              0.766127  45.0   \n",
       "1                 0                              0.957151  40.0   \n",
       "2                 0                              0.658180  38.0   \n",
       "3                 0                              0.233810  30.0   \n",
       "4                 0                              0.907239  49.0   \n",
       "\n",
       "   NumberOfTime30-59DaysPastDueNotWorse  DebtRatio  MonthlyIncome  \\\n",
       "0                                   2.0   0.802982         9120.0   \n",
       "1                                   0.0   0.121876         2600.0   \n",
       "2                                   1.0   0.085113         3042.0   \n",
       "3                                   0.0   0.036050         3300.0   \n",
       "4                                   1.0   0.024926        63588.0   \n",
       "\n",
       "   NumberOfOpenCreditLinesAndLoans  NumberOfTimes90DaysLate  \\\n",
       "0                             13.0                      0.0   \n",
       "1                              4.0                      0.0   \n",
       "2                              2.0                      1.0   \n",
       "3                              5.0                      0.0   \n",
       "4                              7.0                      0.0   \n",
       "\n",
       "   NumberRealEstateLoansOrLines  NumberOfTime60-89DaysPastDueNotWorse  \\\n",
       "0                           6.0                                   0.0   \n",
       "1                           0.0                                   0.0   \n",
       "2                           0.0                                   0.0   \n",
       "3                           0.0                                   0.0   \n",
       "4                           1.0                                   0.0   \n",
       "\n",
       "   NumberOfDependents  \n",
       "0                 2.0  \n",
       "1                 1.0  \n",
       "2                 0.0  \n",
       "3                 0.0  \n",
       "4                 0.0  "
      ]
     },
     "execution_count": 1,
     "metadata": {},
     "output_type": "execute_result"
    }
   ],
   "source": [
    "import pandas as pd\n",
    "pd.set_option('display.max_columns', 500)\n",
    "import zipfile\n",
    "with zipfile.ZipFile('/home/sxy-s3/0.Teacher/Exam/KaggleCredit2.csv.zip', 'r') as z:\n",
    "# with zipfile.ZipFile('E:/AI/WorkSpace/machine_learning/06_Week/Exam/KaggleCredit2.csv.zip', 'r') as z:\n",
    "    f = z.open('KaggleCredit2.csv')\n",
    "    data = pd.read_csv(f, index_col=0)\n",
    "data.head()"
   ]
  },
  {
   "cell_type": "code",
   "execution_count": 2,
   "metadata": {},
   "outputs": [
    {
     "data": {
      "text/plain": [
       "(112915, 11)"
      ]
     },
     "execution_count": 2,
     "metadata": {},
     "output_type": "execute_result"
    }
   ],
   "source": [
    "data.shape"
   ]
  },
  {
   "cell_type": "code",
   "execution_count": 3,
   "metadata": {
    "scrolled": true
   },
   "outputs": [
    {
     "data": {
      "text/plain": [
       "SeriousDlqin2yrs                           0\n",
       "RevolvingUtilizationOfUnsecuredLines       0\n",
       "age                                     4267\n",
       "NumberOfTime30-59DaysPastDueNotWorse       0\n",
       "DebtRatio                                  0\n",
       "MonthlyIncome                              0\n",
       "NumberOfOpenCreditLinesAndLoans            0\n",
       "NumberOfTimes90DaysLate                    0\n",
       "NumberRealEstateLoansOrLines               0\n",
       "NumberOfTime60-89DaysPastDueNotWorse       0\n",
       "NumberOfDependents                      4267\n",
       "dtype: int64"
      ]
     },
     "execution_count": 3,
     "metadata": {},
     "output_type": "execute_result"
    }
   ],
   "source": [
    "data.isnull().sum(axis=0)"
   ]
  },
  {
   "cell_type": "code",
   "execution_count": 4,
   "metadata": {
    "collapsed": true
   },
   "outputs": [],
   "source": [
    "data.dropna(inplace=True)\n",
    "data.shapey = data['SeriousDlqin2yrs']\n",
    "X = data.drop('SeriousDlqin2yrs', axis=1)"
   ]
  },
  {
   "cell_type": "code",
   "execution_count": 5,
   "metadata": {},
   "outputs": [
    {
     "data": {
      "text/plain": [
       "0.06742876076872101"
      ]
     },
     "execution_count": 5,
     "metadata": {},
     "output_type": "execute_result"
    }
   ],
   "source": [
    "y = data['SeriousDlqin2yrs']\n",
    "X = data.drop('SeriousDlqin2yrs', axis=1)\n",
    "y.mean()"
   ]
  },
  {
   "cell_type": "markdown",
   "metadata": {
    "collapsed": true
   },
   "source": [
    "- 1.把数据切分成训练集和测试集"
   ]
  },
  {
   "cell_type": "code",
   "execution_count": 6,
   "metadata": {
    "collapsed": true
   },
   "outputs": [],
   "source": [
    "from sklearn.model_selection import train_test_split"
   ]
  },
  {
   "cell_type": "code",
   "execution_count": 7,
   "metadata": {
    "collapsed": true
   },
   "outputs": [],
   "source": [
    "X_train, X_test, y_train, y_test = train_test_split(X, y, random_state=0)"
   ]
  },
  {
   "cell_type": "code",
   "execution_count": 8,
   "metadata": {},
   "outputs": [
    {
     "data": {
      "text/html": [
       "<div>\n",
       "<style>\n",
       "    .dataframe thead tr:only-child th {\n",
       "        text-align: right;\n",
       "    }\n",
       "\n",
       "    .dataframe thead th {\n",
       "        text-align: left;\n",
       "    }\n",
       "\n",
       "    .dataframe tbody tr th {\n",
       "        vertical-align: top;\n",
       "    }\n",
       "</style>\n",
       "<table border=\"1\" class=\"dataframe\">\n",
       "  <thead>\n",
       "    <tr style=\"text-align: right;\">\n",
       "      <th></th>\n",
       "      <th>RevolvingUtilizationOfUnsecuredLines</th>\n",
       "      <th>age</th>\n",
       "      <th>NumberOfTime30-59DaysPastDueNotWorse</th>\n",
       "      <th>DebtRatio</th>\n",
       "      <th>MonthlyIncome</th>\n",
       "      <th>NumberOfOpenCreditLinesAndLoans</th>\n",
       "      <th>NumberOfTimes90DaysLate</th>\n",
       "      <th>NumberRealEstateLoansOrLines</th>\n",
       "      <th>NumberOfTime60-89DaysPastDueNotWorse</th>\n",
       "      <th>NumberOfDependents</th>\n",
       "    </tr>\n",
       "  </thead>\n",
       "  <tbody>\n",
       "    <tr>\n",
       "      <th>59234</th>\n",
       "      <td>0.054696</td>\n",
       "      <td>64.0</td>\n",
       "      <td>0.0</td>\n",
       "      <td>0.200834</td>\n",
       "      <td>13916.0</td>\n",
       "      <td>17.0</td>\n",
       "      <td>0.0</td>\n",
       "      <td>1.0</td>\n",
       "      <td>0.0</td>\n",
       "      <td>0.0</td>\n",
       "    </tr>\n",
       "    <tr>\n",
       "      <th>50080</th>\n",
       "      <td>0.184363</td>\n",
       "      <td>27.0</td>\n",
       "      <td>0.0</td>\n",
       "      <td>0.011995</td>\n",
       "      <td>2250.0</td>\n",
       "      <td>2.0</td>\n",
       "      <td>0.0</td>\n",
       "      <td>0.0</td>\n",
       "      <td>0.0</td>\n",
       "      <td>0.0</td>\n",
       "    </tr>\n",
       "    <tr>\n",
       "      <th>25812</th>\n",
       "      <td>1.000000</td>\n",
       "      <td>29.0</td>\n",
       "      <td>98.0</td>\n",
       "      <td>0.000000</td>\n",
       "      <td>1600.0</td>\n",
       "      <td>0.0</td>\n",
       "      <td>98.0</td>\n",
       "      <td>0.0</td>\n",
       "      <td>98.0</td>\n",
       "      <td>0.0</td>\n",
       "    </tr>\n",
       "    <tr>\n",
       "      <th>84234</th>\n",
       "      <td>0.002232</td>\n",
       "      <td>36.0</td>\n",
       "      <td>1.0</td>\n",
       "      <td>0.000454</td>\n",
       "      <td>2202.0</td>\n",
       "      <td>3.0</td>\n",
       "      <td>0.0</td>\n",
       "      <td>0.0</td>\n",
       "      <td>0.0</td>\n",
       "      <td>4.0</td>\n",
       "    </tr>\n",
       "    <tr>\n",
       "      <th>30889</th>\n",
       "      <td>0.204527</td>\n",
       "      <td>55.0</td>\n",
       "      <td>0.0</td>\n",
       "      <td>0.164647</td>\n",
       "      <td>8168.0</td>\n",
       "      <td>8.0</td>\n",
       "      <td>0.0</td>\n",
       "      <td>1.0</td>\n",
       "      <td>0.0</td>\n",
       "      <td>0.0</td>\n",
       "    </tr>\n",
       "  </tbody>\n",
       "</table>\n",
       "</div>"
      ],
      "text/plain": [
       "       RevolvingUtilizationOfUnsecuredLines   age  \\\n",
       "59234                              0.054696  64.0   \n",
       "50080                              0.184363  27.0   \n",
       "25812                              1.000000  29.0   \n",
       "84234                              0.002232  36.0   \n",
       "30889                              0.204527  55.0   \n",
       "\n",
       "       NumberOfTime30-59DaysPastDueNotWorse  DebtRatio  MonthlyIncome  \\\n",
       "59234                                   0.0   0.200834        13916.0   \n",
       "50080                                   0.0   0.011995         2250.0   \n",
       "25812                                  98.0   0.000000         1600.0   \n",
       "84234                                   1.0   0.000454         2202.0   \n",
       "30889                                   0.0   0.164647         8168.0   \n",
       "\n",
       "       NumberOfOpenCreditLinesAndLoans  NumberOfTimes90DaysLate  \\\n",
       "59234                             17.0                      0.0   \n",
       "50080                              2.0                      0.0   \n",
       "25812                              0.0                     98.0   \n",
       "84234                              3.0                      0.0   \n",
       "30889                              8.0                      0.0   \n",
       "\n",
       "       NumberRealEstateLoansOrLines  NumberOfTime60-89DaysPastDueNotWorse  \\\n",
       "59234                           1.0                                   0.0   \n",
       "50080                           0.0                                   0.0   \n",
       "25812                           0.0                                  98.0   \n",
       "84234                           0.0                                   0.0   \n",
       "30889                           1.0                                   0.0   \n",
       "\n",
       "       NumberOfDependents  \n",
       "59234                 0.0  \n",
       "50080                 0.0  \n",
       "25812                 0.0  \n",
       "84234                 4.0  \n",
       "30889                 0.0  "
      ]
     },
     "execution_count": 8,
     "metadata": {},
     "output_type": "execute_result"
    }
   ],
   "source": [
    "X_train.head()"
   ]
  },
  {
   "cell_type": "markdown",
   "metadata": {},
   "source": [
    "- 2.使用logistic regression建模，并且输出一下系数，分析重要度。   "
   ]
  },
  {
   "cell_type": "code",
   "execution_count": 9,
   "metadata": {
    "collapsed": true
   },
   "outputs": [],
   "source": [
    "from sklearn.linear_model import LogisticRegression"
   ]
  },
  {
   "cell_type": "code",
   "execution_count": 10,
   "metadata": {
    "collapsed": true,
    "scrolled": true
   },
   "outputs": [],
   "source": [
    "logreg = LogisticRegression().fit(X_train, y_train)"
   ]
  },
  {
   "cell_type": "code",
   "execution_count": 11,
   "metadata": {},
   "outputs": [
    {
     "data": {
      "text/plain": [
       "array([[ -5.49973673e-05,  -3.87016142e-02,   4.55817917e-01,\n",
       "          2.43782980e-01,  -4.38713882e-05,  -1.30109296e-02,\n",
       "          5.24280029e-01,   3.33293408e-04,  -9.44753190e-01,\n",
       "          1.28709053e-01]])"
      ]
     },
     "execution_count": 11,
     "metadata": {},
     "output_type": "execute_result"
    }
   ],
   "source": [
    "logreg.coef_\n",
    "#参数的每一个值表示对应的每个特征的权重，复数表示负相关，值越大相关性越强，此处应该考虑到特征的缩放"
   ]
  },
  {
   "cell_type": "code",
   "execution_count": 12,
   "metadata": {},
   "outputs": [
    {
     "data": {
      "text/plain": [
       "0.93490906413371622"
      ]
     },
     "execution_count": 12,
     "metadata": {},
     "output_type": "execute_result"
    }
   ],
   "source": [
    "logreg.score(X_test, y_test)"
   ]
  },
  {
   "cell_type": "code",
   "execution_count": 13,
   "metadata": {
    "collapsed": true
   },
   "outputs": [],
   "source": [
    "#缩放特征之后\n",
    "import sklearn.preprocessing as preprocessing\n",
    "scaler = preprocessing.StandardScaler()\n",
    "X_tmp = X.copy()\n",
    "y_tmp = y.copy()"
   ]
  },
  {
   "cell_type": "code",
   "execution_count": 14,
   "metadata": {
    "collapsed": true
   },
   "outputs": [],
   "source": [
    "age_params = scaler.fit(X_tmp['age'].values.reshape(-1, 1))\n",
    "MonthlyIncome_params = scaler.fit(X_tmp['MonthlyIncome'].values.reshape(-1, 1))\n",
    "X_tmp['age_scaled'] = scaler.fit_transform(X_tmp['age'].values.reshape(-1, 1), age_params)\n",
    "X_tmp['MonthlyIncome_scaled'] = scaler.fit_transform(X_tmp['MonthlyIncome'].values.reshape(-1, 1), MonthlyIncome_params)\n",
    "X_tmp.drop(['age', 'MonthlyIncome'], axis=1, inplace=True)"
   ]
  },
  {
   "cell_type": "code",
   "execution_count": 15,
   "metadata": {
    "collapsed": true
   },
   "outputs": [],
   "source": [
    "X_tmp_train, X_tmp_test, y_tmp_train, y_tmp_test = train_test_split(X_tmp, y_tmp, random_state=0)"
   ]
  },
  {
   "cell_type": "code",
   "execution_count": 16,
   "metadata": {
    "collapsed": true
   },
   "outputs": [],
   "source": [
    "logreg_tmp = LogisticRegression().fit(X_tmp_train, y_tmp_train)"
   ]
  },
  {
   "cell_type": "code",
   "execution_count": 17,
   "metadata": {
    "scrolled": true
   },
   "outputs": [
    {
     "data": {
      "text/plain": [
       "array([[ -5.37496276e-05,   4.74895909e-01,   1.37517561e+00,\n",
       "         -1.87876318e-02,   4.69934711e-01,  -1.74334804e-01,\n",
       "         -9.05217509e-01,   1.02933620e-01,  -3.61925683e-01,\n",
       "         -1.22685164e-01]])"
      ]
     },
     "execution_count": 17,
     "metadata": {},
     "output_type": "execute_result"
    }
   ],
   "source": [
    "logreg_tmp.coef_"
   ]
  },
  {
   "cell_type": "code",
   "execution_count": 18,
   "metadata": {},
   "outputs": [
    {
     "data": {
      "text/plain": [
       "0.93501951255430382"
      ]
     },
     "execution_count": 18,
     "metadata": {},
     "output_type": "execute_result"
    }
   ],
   "source": [
    "logreg_tmp.score(X_tmp_test, y_tmp_test)\n",
    "#缩放之后貌似提高了正确率(所防之前为 0.93490906413371622)"
   ]
  },
  {
   "cell_type": "markdown",
   "metadata": {},
   "source": [
    "- 3.使用决策树/SVM/KNN...等sklearn分类算法进行分类，尝试了解参数含义，调整不同的参数。"
   ]
  },
  {
   "cell_type": "code",
   "execution_count": 19,
   "metadata": {
    "collapsed": true
   },
   "outputs": [],
   "source": [
    "#决策树\n",
    "from sklearn.tree import DecisionTreeClassifier"
   ]
  },
  {
   "cell_type": "code",
   "execution_count": 20,
   "metadata": {},
   "outputs": [
    {
     "data": {
      "text/plain": [
       "0.93549812237685004"
      ]
     },
     "execution_count": 20,
     "metadata": {},
     "output_type": "execute_result"
    }
   ],
   "source": [
    "''' criterion:string类型，可选（默认为\"gini\"）\n",
    "    衡量分类的质量。支持的标准有\"gini\"代表的是Gini impurity(不纯度)与\"entropy\"代表的是information gain（信息增益）。\n",
    "    \n",
    "    max_depth:int or None,可选（默认为\"None\"）\n",
    "    表示树的最大深度。如果是\"None\",则节点会一直扩展直到所有的叶子都是纯的或者所有的叶子节点都包含少于min_samples_split个样本点。忽视max_leaf_nodes是不是为None。\n",
    "    \n",
    "    random_state:int,RandomState instance or None\n",
    "    如果是int,random_state 是随机数字发生器的种子；如果是RandomState，random_state是随机数字发生器，如果是None，随机数字发生器是np.random使用的RandomState instance.\n",
    "'''\n",
    "tree = DecisionTreeClassifier(criterion='entropy', max_depth=3, random_state=0)\n",
    "tree_model1 = tree.fit(X_train, y_train)\n",
    "tree_model1.score(X_test, y_test)"
   ]
  },
  {
   "cell_type": "code",
   "execution_count": 21,
   "metadata": {},
   "outputs": [
    {
     "data": {
      "text/plain": [
       "0.93549812237685004"
      ]
     },
     "execution_count": 21,
     "metadata": {},
     "output_type": "execute_result"
    }
   ],
   "source": [
    "tree_model2 = tree.fit(X_tmp_train, y_tmp_train)\n",
    "tree_model2.score(X_tmp_test, y_tmp_test)\n",
    "#树模型不需要缩放，缩放之后预测分数没有变化"
   ]
  },
  {
   "cell_type": "code",
   "execution_count": 22,
   "metadata": {
    "scrolled": false
   },
   "outputs": [
    {
     "data": {
      "text/plain": [
       "RandomForestClassifier(bootstrap=True, class_weight=None, criterion='entropy',\n",
       "            max_depth=None, max_features='auto', max_leaf_nodes=None,\n",
       "            min_impurity_decrease=0.0, min_impurity_split=None,\n",
       "            min_samples_leaf=1, min_samples_split=2,\n",
       "            min_weight_fraction_leaf=0.0, n_estimators=10, n_jobs=2,\n",
       "            oob_score=False, random_state=1, verbose=0, warm_start=False)"
      ]
     },
     "execution_count": 22,
     "metadata": {},
     "output_type": "execute_result"
    }
   ],
   "source": [
    "#随机森林\n",
    "from sklearn.ensemble import RandomForestClassifier\n",
    "forest = RandomForestClassifier(criterion='entropy', n_estimators=10, random_state=1, n_jobs=2)\n",
    "forest.fit(X_train, y_train)"
   ]
  },
  {
   "cell_type": "code",
   "execution_count": 23,
   "metadata": {
    "collapsed": true
   },
   "outputs": [],
   "source": [
    "# forest.score(X_test, y_test)"
   ]
  },
  {
   "cell_type": "code",
   "execution_count": 24,
   "metadata": {
    "collapsed": true
   },
   "outputs": [],
   "source": [
    "#SVM\n",
    "from sklearn.svm import SVC\n",
    "# svm = SVC(C=1.0, kernel='rbf', random_state=0, degree=3, max_iter = 500, probability=True)  #迭代次数做了限制，此处模型跑不动。。。。。\n",
    "#禁止跑此处模型，特别特别慢\n",
    "svm = SVC(C=1.0, kernel='rbf', random_state=0, degree=3, probability=True)\n",
    "svm_model1 = svm.fit(X_train, y_train)"
   ]
  },
  {
   "cell_type": "code",
   "execution_count": 25,
   "metadata": {},
   "outputs": [
    {
     "data": {
      "text/plain": [
       "0.93439363817097421"
      ]
     },
     "execution_count": 25,
     "metadata": {},
     "output_type": "execute_result"
    }
   ],
   "source": [
    "svm_model1.score(X_test, y_test)"
   ]
  },
  {
   "cell_type": "code",
   "execution_count": 26,
   "metadata": {
    "collapsed": true,
    "scrolled": true
   },
   "outputs": [],
   "source": [
    "# KNN\n",
    "from sklearn.neighbors import KNeighborsClassifier\n",
    "knn = KNeighborsClassifier(n_neighbors=5, p=2, metric='minkowski')\n",
    "knn_model1 = knn.fit(X_train, y_train)"
   ]
  },
  {
   "cell_type": "code",
   "execution_count": 27,
   "metadata": {},
   "outputs": [
    {
     "data": {
      "text/plain": [
       "0.93295780870333556"
      ]
     },
     "execution_count": 27,
     "metadata": {},
     "output_type": "execute_result"
    }
   ],
   "source": [
    "knn_model1.score(X_test, y_test)"
   ]
  },
  {
   "cell_type": "code",
   "execution_count": 28,
   "metadata": {},
   "outputs": [
    {
     "data": {
      "text/plain": [
       "0.9312642662543259"
      ]
     },
     "execution_count": 28,
     "metadata": {},
     "output_type": "execute_result"
    }
   ],
   "source": [
    "knn_model2 = knn.fit(X_tmp_train, y_tmp_train)\n",
    "knn_model2.score(X_tmp_test, y_tmp_test)\n",
    "#缩放居然降低了一点准确度"
   ]
  },
  {
   "cell_type": "markdown",
   "metadata": {},
   "source": [
    "- 4.在测试集上进行预测，计算准确度"
   ]
  },
  {
   "cell_type": "code",
   "execution_count": 29,
   "metadata": {
    "collapsed": true
   },
   "outputs": [],
   "source": [
    "from sklearn.metrics import accuracy_score"
   ]
  },
  {
   "cell_type": "code",
   "execution_count": 30,
   "metadata": {},
   "outputs": [
    {
     "name": "stdout",
     "output_type": "stream",
     "text": [
      "逻辑回归未缩放测试分数： 0.934909064134\n"
     ]
    }
   ],
   "source": [
    "print('逻辑回归未缩放测试分数：', accuracy_score(y_test, logreg.predict(X_test)))"
   ]
  },
  {
   "cell_type": "code",
   "execution_count": 31,
   "metadata": {},
   "outputs": [
    {
     "data": {
      "text/plain": [
       "0.93490906413371622"
      ]
     },
     "execution_count": 31,
     "metadata": {},
     "output_type": "execute_result"
    }
   ],
   "source": [
    "#测试分数和自带的分数是同样的计算方式\n",
    "logreg.score(X_test, y_test)"
   ]
  },
  {
   "cell_type": "code",
   "execution_count": 32,
   "metadata": {},
   "outputs": [
    {
     "name": "stdout",
     "output_type": "stream",
     "text": [
      "逻辑回归缩放测试分数： 0.935019512554\n"
     ]
    }
   ],
   "source": [
    "print('逻辑回归缩放测试分数：', logreg_tmp.score(X_tmp_test, y_tmp_test))"
   ]
  },
  {
   "cell_type": "code",
   "execution_count": 33,
   "metadata": {},
   "outputs": [
    {
     "name": "stdout",
     "output_type": "stream",
     "text": [
      "DT测试分数： 0.0660481555114\n"
     ]
    }
   ],
   "source": [
    "print('DT测试分数：', tree_model1.score(X_test, y_test))"
   ]
  },
  {
   "cell_type": "code",
   "execution_count": 34,
   "metadata": {},
   "outputs": [
    {
     "name": "stdout",
     "output_type": "stream",
     "text": [
      "forest测试分数： 0.934835431853\n"
     ]
    }
   ],
   "source": [
    "print('forest测试分数：', forest.score(X_test, y_test))"
   ]
  },
  {
   "cell_type": "code",
   "execution_count": 35,
   "metadata": {},
   "outputs": [
    {
     "name": "stdout",
     "output_type": "stream",
     "text": [
      "SVM测试分数 C=1.0, kernel=\"rbf\", random_state=0, degree=3, max_iter = 1000： 0.934393638171\n"
     ]
    }
   ],
   "source": [
    "print('SVM测试分数 C=1.0, kernel=\"rbf\", random_state=0, degree=3, max_iter = 1000：', svm_model1.score(X_test, y_test))"
   ]
  },
  {
   "cell_type": "code",
   "execution_count": 36,
   "metadata": {},
   "outputs": [
    {
     "name": "stdout",
     "output_type": "stream",
     "text": [
      "KNN测试分数： 0.657057654076\n"
     ]
    }
   ],
   "source": [
    "print('KNN测试分数：', knn_model1.score(X_test, y_test))"
   ]
  },
  {
   "cell_type": "markdown",
   "metadata": {},
   "source": [
    "- 5.查看sklearn的官方说明，了解混淆矩阵等评估标准，并对此例进行评估。"
   ]
  },
  {
   "cell_type": "code",
   "execution_count": 37,
   "metadata": {
    "collapsed": true
   },
   "outputs": [],
   "source": [
    "import pandas as pd\n",
    "def confusion_matrix(model, X_test, y_test, pre_model, threshold=0.5):\n",
    "    # 获取预测为1 的概率\n",
    "#     print(pre_model.predict(X_test))\n",
    "    try:\n",
    "#         y_pre_pro = pre_model.predict_proba(X_test)[:,1]\n",
    "#         pre = pd.DataFrame({'y_test': y_test, 'y_pre': y_pre_pro})\n",
    "        pre = pd.DataFrame({'y_test': y_test, 'y_pre': re_logreg1.predict_proba(X_test)[:,1]})\n",
    "        pre['y_pre'] = [0 if x<threshold else 1 for x in pre['y_pre']]\n",
    "#         pre.loc[pre['y_pre'] <threshold,'y_pre'] = 0\n",
    "#         pre.loc[pre['y_pre'] >=threshold,'y_pre'] = 1\n",
    "#         pre['y_pre'] = pre['y_pre'].astype(int)\n",
    "        TPN = pre[pre['y_pre'] == pre['y_test']]\n",
    "        FPN = pre[pre['y_pre'] != pre['y_test']]\n",
    "        TP = TPN[TPN['y_test'] == 1]\n",
    "        FP = FPN[FPN['y_pre'] == 1]\n",
    "        # TN = TPN - TP\n",
    "        # FN = FPN - FP\n",
    "        all_num = pre.shape[0]\n",
    "        tpn = TPN.shape[0]\n",
    "        fpn = all_num - tpn\n",
    "        tp = TP.shape[0]\n",
    "        tn = tpn - tp\n",
    "        fp = FP.shape[0]\n",
    "        fn = fpn - fp\n",
    "        P = round(tp/(tp + fp), 4)\n",
    "        ACC = round(tpn/all_num, 4)\n",
    "        R = round(tp/(tp + fn), 4)\n",
    "        F1 = round(2*tp/(2*tp + fp + fn), 4)\n",
    "        print('阈值为：{}'.format(threshold))\n",
    "        print('{}模型，精确率 P ：{}'.format(model, P))\n",
    "        print('{}模型，准确率 ACC ：{}'.format(model, ACC))\n",
    "        print('{}模型，召回率 R ：{}'.format(model, R))\n",
    "        print('{}模型，调和均值 F1：{}'.format(model, F1))\n",
    "        print('\\n\\n')\n",
    "    except:\n",
    "        print('分母为0 的异常')\n"
   ]
  },
  {
   "cell_type": "code",
   "execution_count": 38,
   "metadata": {},
   "outputs": [
    {
     "name": "stdout",
     "output_type": "stream",
     "text": [
      "阈值为：0.5\n",
      "逻辑回归模型，精确率 P ：0.5533\n",
      "逻辑回归模型，准确率 ACC ：0.9349\n",
      "逻辑回归模型，召回率 R ：0.0465\n",
      "逻辑回归模型，调和均值 F1：0.0858\n",
      "\n",
      "\n",
      "\n",
      "阈值为：0.5\n",
      "决策树模型，精确率 P ：0.0657\n",
      "决策树模型，准确率 ACC ：0.066\n",
      "决策树模型，召回率 R ：1.0\n",
      "决策树模型，调和均值 F1：0.1233\n",
      "\n",
      "\n",
      "\n",
      "阈值为：0.5\n",
      "随机森林模型，精确率 P ：0.4367\n",
      "随机森林模型，准确率 ACC ：0.93\n",
      "随机森林模型，召回率 R ：0.2281\n",
      "随机森林模型，调和均值 F1：0.2997\n",
      "\n",
      "\n",
      "\n",
      "分母为0 的异常\n",
      "阈值为：0.5\n",
      "KNN模型，精确率 P ：0.0967\n",
      "KNN模型，准确率 ACC ：0.6571\n",
      "KNN模型，召回率 R ：0.5062\n",
      "KNN模型，调和均值 F1：0.1624\n",
      "\n",
      "\n",
      "\n"
     ]
    }
   ],
   "source": [
    "confusion_matrix('逻辑回归', X_test, y_test, logreg)\n",
    "confusion_matrix('决策树', X_test, y_test, tree_model1)\n",
    "confusion_matrix('随机森林', X_test, y_test, forest)\n",
    "confusion_matrix('SVM', X_test, y_test, svm_model1)\n",
    "confusion_matrix('KNN', X_test, y_test, knn_model1)\n",
    "#F1值比较高的时候会预测的比较好，觉得在相同特征条件下，还是随机森林稍微靠谱些\n",
    "#阈值比较高的时候，SVM的 R抛出异常，预测为正的样本为0 个"
   ]
  },
  {
   "cell_type": "markdown",
   "metadata": {},
   "source": [
    "- 6.银行通常会有更严格的要求，因为fraud带来的后果通常比较严重，一般我们会调整模型的标准。   \n",
    "比如在logistic regression当中，一般我们的概率判定边界为0.5，但是我们可以把阈值设定低一些，来提高模型的“敏感度”   \n",
    "试试看把阈值设定为0.3，再看看这个时候的混淆矩阵等评估指标。"
   ]
  },
  {
   "cell_type": "code",
   "execution_count": 39,
   "metadata": {},
   "outputs": [
    {
     "name": "stdout",
     "output_type": "stream",
     "text": [
      "阈值为：0.3\n",
      "逻辑回归模型，精确率 P ：0.5036\n",
      "逻辑回归模型，准确率 ACC ：0.9344\n",
      "逻辑回归模型，召回率 R ：0.1177\n",
      "逻辑回归模型，调和均值 F1：0.1908\n",
      "\n",
      "\n",
      "\n",
      "阈值为：0.3\n",
      "决策树模型，精确率 P ：0.0657\n",
      "决策树模型，准确率 ACC ：0.066\n",
      "决策树模型，召回率 R ：1.0\n",
      "决策树模型，调和均值 F1：0.1233\n",
      "\n",
      "\n",
      "\n",
      "阈值为：0.3\n",
      "随机森林模型，精确率 P ：0.3137\n",
      "随机森林模型，准确率 ACC ：0.9001\n",
      "随机森林模型，召回率 R ：0.4389\n",
      "随机森林模型，调和均值 F1：0.3659\n",
      "\n",
      "\n",
      "\n",
      "阈值为：0.3\n",
      "SVM模型，精确率 P ：0.0\n",
      "SVM模型，准确率 ACC ：0.9343\n",
      "SVM模型，召回率 R ：0.0\n",
      "SVM模型，调和均值 F1：0.0\n",
      "\n",
      "\n",
      "\n",
      "阈值为：0.3\n",
      "KNN模型，精确率 P ：0.0715\n",
      "KNN模型，准确率 ACC ：0.2276\n",
      "KNN模型，召回率 R ：0.898\n",
      "KNN模型，调和均值 F1：0.1325\n",
      "\n",
      "\n",
      "\n"
     ]
    }
   ],
   "source": [
    "confusion_matrix('逻辑回归', X_test, y_test, logreg, 0.3)\n",
    "confusion_matrix('决策树', X_test, y_test, tree_model1, 0.3)\n",
    "confusion_matrix('随机森林', X_test, y_test, forest, 0.3)\n",
    "confusion_matrix('SVM', X_test, y_test, svm_model1, 0.3)\n",
    "confusion_matrix('KNN', X_test, y_test, knn_model1, 0.3)"
   ]
  },
  {
   "cell_type": "markdown",
   "metadata": {},
   "source": [
    "- 7.尝试对不同特征的重要度进行排序，通过特征选择的方式，对特征进行筛选。并重新建模，观察此时的模型准确率等评估指标。"
   ]
  },
  {
   "cell_type": "code",
   "execution_count": 40,
   "metadata": {
    "collapsed": true
   },
   "outputs": [],
   "source": [
    "#包裹式（随机森林选取特征）\n",
    "from sklearn.feature_selection import RFE\n",
    "from sklearn.ensemble import RandomForestClassifier\n",
    "rf = RandomForestClassifier()\n",
    "rfe = RFE(estimator=rf, n_features_to_select=6)\n",
    "X_rfe = rfe.fit_transform(X,y)"
   ]
  },
  {
   "cell_type": "code",
   "execution_count": 41,
   "metadata": {
    "collapsed": true
   },
   "outputs": [],
   "source": [
    "X_train, X_test, y_train, y_test = train_test_split(X_rfe, y, random_state=0)"
   ]
  },
  {
   "cell_type": "code",
   "execution_count": 42,
   "metadata": {},
   "outputs": [
    {
     "data": {
      "text/plain": [
       "0.93432000589058239"
      ]
     },
     "execution_count": 42,
     "metadata": {},
     "output_type": "execute_result"
    }
   ],
   "source": [
    "re_logreg = LogisticRegression().fit(X_train, y_train)\n",
    "re_logreg.score(X_test, y_test)"
   ]
  },
  {
   "cell_type": "code",
   "execution_count": 43,
   "metadata": {},
   "outputs": [
    {
     "data": {
      "text/plain": [
       "0.93549812237685004"
      ]
     },
     "execution_count": 43,
     "metadata": {},
     "output_type": "execute_result"
    }
   ],
   "source": [
    "re_tree = DecisionTreeClassifier(criterion='entropy', max_depth=3, random_state=0)\n",
    "re_tree = tree.fit(X_train, y_train)\n",
    "re_tree.score(X_test, y_test)"
   ]
  },
  {
   "cell_type": "code",
   "execution_count": 44,
   "metadata": {},
   "outputs": [
    {
     "data": {
      "text/plain": [
       "0.93432000589058239"
      ]
     },
     "execution_count": 44,
     "metadata": {},
     "output_type": "execute_result"
    }
   ],
   "source": [
    "# re_svm = SVC(C=1.0, kernel='rbf', random_state=0, degree=3, max_iter = 500, probability=True) #迭代次数做了限制，此处模型跑不动。。。。。\n",
    "#禁止跑此处模型，特别特别慢\n",
    "re_svm = SVC(C=1.0, kernel='rbf', random_state=0, degree=3, probability=True)\n",
    "re_svm = svm.fit(X_train, y_train)\n",
    "re_svm.score(X_test, y_test)\n"
   ]
  },
  {
   "cell_type": "code",
   "execution_count": 45,
   "metadata": {},
   "outputs": [
    {
     "data": {
      "text/plain": [
       "0.93409910904940729"
      ]
     },
     "execution_count": 45,
     "metadata": {},
     "output_type": "execute_result"
    }
   ],
   "source": [
    "re_forest = RandomForestClassifier(criterion='entropy', n_estimators=10, random_state=1, n_jobs=2)\n",
    "re_forest.fit(X_train, y_train)\n",
    "re_forest.score(X_test, y_test)"
   ]
  },
  {
   "cell_type": "code",
   "execution_count": 46,
   "metadata": {},
   "outputs": [
    {
     "data": {
      "text/plain": [
       "0.93258964730137694"
      ]
     },
     "execution_count": 46,
     "metadata": {},
     "output_type": "execute_result"
    }
   ],
   "source": [
    "re_knn = KNeighborsClassifier(n_neighbors=5, p=2, metric='minkowski')\n",
    "re_knn = knn.fit(X_train, y_train)\n",
    "re_knn.score(X_test, y_test)"
   ]
  },
  {
   "cell_type": "code",
   "execution_count": 47,
   "metadata": {},
   "outputs": [
    {
     "name": "stdout",
     "output_type": "stream",
     "text": [
      "阈值为：0.5\n",
      "逻辑回归模型，精确率 P ：0.5\n",
      "逻辑回归模型，准确率 ACC ：0.9343\n",
      "逻辑回归模型，召回率 R ：0.009\n",
      "逻辑回归模型，调和均值 F1：0.0176\n",
      "\n",
      "\n",
      "\n",
      "阈值为：0.5\n",
      "决策树模型，精确率 P ：0.5276\n",
      "决策树模型，准确率 ACC ：0.9355\n",
      "决策树模型，召回率 R ：0.1715\n",
      "决策树模型，调和均值 F1：0.2589\n",
      "\n",
      "\n",
      "\n",
      "阈值为：0.5\n",
      "随机森林模型，精确率 P ：0.4286\n",
      "随机森林模型，准确率 ACC ：0.9298\n",
      "随机森林模型，召回率 R ：0.2052\n",
      "随机森林模型，调和均值 F1：0.2775\n",
      "\n",
      "\n",
      "\n",
      "分母为0 的异常\n",
      "阈值为：0.5\n",
      "KNN模型，精确率 P ：0.2626\n",
      "KNN模型，准确率 ACC ：0.9326\n",
      "KNN模型，召回率 R ：0.0146\n",
      "KNN模型，调和均值 F1：0.0276\n",
      "\n",
      "\n",
      "\n"
     ]
    }
   ],
   "source": [
    "confusion_matrix('逻辑回归', X_test, y_test, re_logreg)\n",
    "confusion_matrix('决策树', X_test, y_test, re_tree)\n",
    "confusion_matrix('随机森林', X_test, y_test, re_forest)\n",
    "confusion_matrix('SVM', X_test, y_test, re_svm)\n",
    "confusion_matrix('KNN', X_test, y_test, re_knn)"
   ]
  },
  {
   "cell_type": "code",
   "execution_count": 48,
   "metadata": {
    "collapsed": true
   },
   "outputs": [],
   "source": [
    "#根据逻辑回归找到权重排序\n",
    "features = pd.DataFrame({'features':list(X.columns) , 'weight': list(logreg.coef_.T) , 'abs_weight': list(abs(logreg.coef_.flat.copy().T))})\n",
    "features = features.sort_values(by='abs_weight')\n",
    "f = features.nlargest(5, 'abs_weight')['features']"
   ]
  },
  {
   "cell_type": "code",
   "execution_count": 49,
   "metadata": {
    "collapsed": true
   },
   "outputs": [],
   "source": [
    "X_train, X_test, y_train, y_test = train_test_split(X[list(f)], y, random_state=0)"
   ]
  },
  {
   "cell_type": "code",
   "execution_count": 50,
   "metadata": {},
   "outputs": [
    {
     "data": {
      "text/plain": [
       "0.93512996097489143"
      ]
     },
     "execution_count": 50,
     "metadata": {},
     "output_type": "execute_result"
    }
   ],
   "source": [
    "re_logreg1 = LogisticRegression().fit(X_train, y_train)\n",
    "re_logreg1.score(X_test, y_test)"
   ]
  },
  {
   "cell_type": "code",
   "execution_count": 51,
   "metadata": {},
   "outputs": [
    {
     "data": {
      "text/plain": [
       "0.93549812237685004"
      ]
     },
     "execution_count": 51,
     "metadata": {},
     "output_type": "execute_result"
    }
   ],
   "source": [
    "re_tree1 = DecisionTreeClassifier(criterion='entropy', max_depth=3, random_state=0)\n",
    "re_tree1 = tree.fit(X_train, y_train)\n",
    "re_tree1.score(X_test, y_test)"
   ]
  },
  {
   "cell_type": "code",
   "execution_count": 52,
   "metadata": {},
   "outputs": [
    {
     "data": {
      "text/plain": [
       "0.90737059126721153"
      ]
     },
     "execution_count": 52,
     "metadata": {},
     "output_type": "execute_result"
    }
   ],
   "source": [
    "re_forest1 = RandomForestClassifier(criterion='entropy', n_estimators=10, random_state=1, n_jobs=2)\n",
    "re_forest1.fit(X_train, y_train)\n",
    "re_forest1.score(X_test, y_test)"
   ]
  },
  {
   "cell_type": "code",
   "execution_count": 53,
   "metadata": {},
   "outputs": [
    {
     "data": {
      "text/plain": [
       "0.937375745526839"
      ]
     },
     "execution_count": 53,
     "metadata": {},
     "output_type": "execute_result"
    }
   ],
   "source": [
    "# re_svm1 = SVC(C=1.0, kernel='rbf', random_state=0, degree=3, max_iter = 500, probability=True) #迭代次数做了限制，此处模型跑不动。。。。。\n",
    "#禁止跑此处模型，特别特别慢\n",
    "re_svm1 = SVC(C=1.0, kernel='rbf', random_state=0, degree=3, probability=True)\n",
    "re_svm1 = svm.fit(X_train, y_train)\n",
    "re_svm1.score(X_test, y_test)"
   ]
  },
  {
   "cell_type": "code",
   "execution_count": 54,
   "metadata": {},
   "outputs": [
    {
     "data": {
      "text/plain": [
       "0.93030704660923347"
      ]
     },
     "execution_count": 54,
     "metadata": {},
     "output_type": "execute_result"
    }
   ],
   "source": [
    "re_knn1 = KNeighborsClassifier(n_neighbors=5, p=2, metric='minkowski')\n",
    "re_knn1 = knn.fit(X_train, y_train)\n",
    "re_knn1.score(X_test, y_test)"
   ]
  },
  {
   "cell_type": "code",
   "execution_count": 55,
   "metadata": {},
   "outputs": [
    {
     "name": "stdout",
     "output_type": "stream",
     "text": [
      "阈值为：0.5\n",
      "逻辑回归模型，精确率 P ：0.5859\n",
      "逻辑回归模型，准确率 ACC ：0.9351\n",
      "逻辑回归模型，召回率 R ：0.042\n",
      "逻辑回归模型，调和均值 F1：0.0785\n",
      "\n",
      "\n",
      "\n",
      "阈值为：0.5\n",
      "决策树模型，精确率 P ：0.5276\n",
      "决策树模型，准确率 ACC ：0.9355\n",
      "决策树模型，召回率 R ：0.1715\n",
      "决策树模型，调和均值 F1：0.2589\n",
      "\n",
      "\n",
      "\n",
      "阈值为：0.5\n",
      "随机森林模型，精确率 P ：0.2486\n",
      "随机森林模型，准确率 ACC ：0.9004\n",
      "随机森林模型，召回率 R ：0.2556\n",
      "随机森林模型，调和均值 F1：0.2521\n",
      "\n",
      "\n",
      "\n",
      "阈值为：0.5\n",
      "SVM模型，精确率 P ：0.6043\n",
      "SVM模型，准确率 ACC ：0.9354\n",
      "SVM模型，召回率 R ：0.0471\n",
      "SVM模型，调和均值 F1：0.0874\n",
      "\n",
      "\n",
      "\n",
      "阈值为：0.5\n",
      "KNN模型，精确率 P ：0.4268\n",
      "KNN模型，准确率 ACC ：0.9303\n",
      "KNN模型，召回率 R ：0.1783\n",
      "KNN模型，调和均值 F1：0.2515\n",
      "\n",
      "\n",
      "\n"
     ]
    }
   ],
   "source": [
    "confusion_matrix('逻辑回归', X_test, y_test, re_logreg1)\n",
    "confusion_matrix('决策树', X_test, y_test, re_tree1)\n",
    "confusion_matrix('随机森林', X_test, y_test, re_forest1)\n",
    "confusion_matrix('SVM', X_test, y_test, re_svm1)\n",
    "confusion_matrix('KNN', X_test, y_test, re_knn1)"
   ]
  },
  {
   "cell_type": "markdown",
   "metadata": {},
   "source": [
    "### 本阶段课程意见反馈题(5分送分项，非必答)\n",
    "#### 请同学围绕以下两点进行回答：\n",
    "- 自身总结：请您对您自己在本周课程的学习，收获，技能掌握等方面进行一次总结 ，也包括有哪些方面存在哪些不足，欠缺，困惑。作为将来回顾学习路径时的依据。\n"
   ]
  },
  {
   "cell_type": "markdown",
   "metadata": {
    "collapsed": true
   },
   "source": [
    "** 自身总结 **\n",
    "（1）学习过程中发现基础太差，很多地方不会，学习进度跟不上\n",
    "（2）掌握了部分机器学习算法的流程和大致使用方式\n",
    "（3）在机器学习中最重要的  ** 表示，评价，优化 **  是最核心的地方，在课后需要继续研究和整理"
   ]
  },
  {
   "cell_type": "markdown",
   "metadata": {},
   "source": [
    "- 课程反馈：请就知识点，进度，难易度，教学方式，考试方式及难易度等方面向我们反馈，督促我们进行更有效的改进。"
   ]
  },
  {
   "cell_type": "code",
   "execution_count": 56,
   "metadata": {
    "collapsed": true
   },
   "outputs": [],
   "source": [
    "# 寒老师的线下课特别特别特别的重要。革命尚未成功,我还仍需努力！！！老师辛苦了！"
   ]
  },
  {
   "cell_type": "markdown",
   "metadata": {},
   "source": [
    "<hr>\n",
    "<center><h1>####答卷结束####</h1></center>"
   ]
  }
 ],
 "metadata": {
  "kernelspec": {
   "display_name": "Python 3",
   "language": "python",
   "name": "python3"
  },
  "language_info": {
   "codemirror_mode": {
    "name": "ipython",
    "version": 3
   },
   "file_extension": ".py",
   "mimetype": "text/x-python",
   "name": "python",
   "nbconvert_exporter": "python",
   "pygments_lexer": "ipython3",
   "version": "3.5.2"
  }
 },
 "nbformat": 4,
 "nbformat_minor": 2
}
