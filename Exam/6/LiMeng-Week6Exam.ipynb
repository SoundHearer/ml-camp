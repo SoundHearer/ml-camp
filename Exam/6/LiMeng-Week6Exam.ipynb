{
 "cells": [
  {
   "cell_type": "markdown",
   "metadata": {},
   "source": [
    "## 七月在线机器学习实训营三期第六周(机器学习)考试\n",
    "#### 考试说明:\n",
    "- 起止时间：请同学在2018年3月16日至3月18日期间完成，最晚提交时间本周日（3月18日24时之前）结束，<b>逾期不接受补考,该考试分数计入平时成绩</b>\n",
    "- 考试方式：请同学<font color=red><b>拷贝</b></font>该试卷至自己姓名的目录后，将文件更名为同学姓名拼音-exam6后，进行作答。例如wangwei-exam6\n",
    "- 提交格式：请同学新建自己姓名全拼的文件夹，将该试卷，数据文件，zip文件等相关考试文件，放置此目录下。将该目录<b>移动</b>至/0.Teacher/Exam/4/目录下\n",
    "- 注意事项：为确保同学们真正了解自身对本周课程的掌握程度，<font color=red><b>请勿翻阅，移动，更改</b></font>其它同学试卷。如发现按0分处理\n",
    "- 请同学在下方同学姓名处填写自己的姓名，批改人和最终得分不用填写"
   ]
  },
  {
   "cell_type": "markdown",
   "metadata": {},
   "source": [
    "- 同学姓名:<u>__李猛___</u>  \n",
    "- 批改人： David\n",
    "- 最终得分:98"
   ]
  },
  {
   "cell_type": "markdown",
   "metadata": {},
   "source": [
    "<center><h1>####答卷开始####</h1></center>\n",
    "<hr>"
   ]
  },
  {
   "cell_type": "markdown",
   "metadata": {},
   "source": [
    "## 简答题(共4题，每题5分，共计20分)\n",
    "- note:18"
   ]
  },
  {
   "cell_type": "markdown",
   "metadata": {},
   "source": [
    "#### 1. 请写出你了解的机器学习特征工程操作，以及它的意义（面试题）\n",
    "\n",
    "- note: 等频qcut和高次项特征是学很认真\n",
    "- note: 可整体意义好像忘写了？"
   ]
  },
  {
   "cell_type": "markdown",
   "metadata": {
    "collapsed": true
   },
   "source": [
    "特征工程\n",
    "\n",
    "0.幅度缩放\n",
    "log\n",
    "MinMax 缩放\n",
    "Z-score标准化\n",
    "\n",
    "1.统计结果作为特征\n",
    "2.缺失值处理\n",
    "3.高次特征和交叉特征\n",
    "通过生成高次项特征增加维度\n",
    "PolynomialFeatures专门产生多项式的，并且多项式包含的是相互影响的特征集。比如：一个输入样本是２维的。形式如[a,b] ,则二阶多项式的特征集如下[1,a,b,a^2,ab,b^2]\n",
    "\n",
    "4.离散化、分箱、分桶\n",
    "等距离cut：按等间距切分\n",
    "等频qcut：百分比切分\n",
    "\n",
    "5.独热向量编码\n",
    "\n",
    "6.时间型\n",
    "可以得到其他维度的时间\n",
    "\n",
    "\n",
    "特征选择\n",
    "1.过滤式/Filter（较少使用）\n",
    "根据每一列与target的相关性选择\n",
    "\n",
    "\n",
    "2.包裹式/wrapper\n",
    "RFE,递归去除列评估结果\n",
    "\n",
    "select.fit(X_train, y_train)\n",
    "3.嵌入式/Embedded\n"
   ]
  },
  {
   "cell_type": "markdown",
   "metadata": {},
   "source": [
    "#### 2.请写出上述特征工程操作的sklearn或者pandas实现方式\n"
   ]
  },
  {
   "cell_type": "markdown",
   "metadata": {
    "collapsed": true
   },
   "source": [
    "#### 0.幅度缩放 log\n",
    "df_train.Age.apply(np.log)\n",
    " \n",
    "MinMax 缩放\n",
    "from sklearn.preprocessing import MinMaxScaler\n",
    "minmaxScal = MinMaxScaler()\n",
    "df_train['Fare'] = minmaxScal.fit_transform(df_train[['Fare']])\n",
    "\n",
    "#### 1.统计结果作为特征：\n",
    "df_train.loc[:,'FamilySize'] = df_train['SibSp'] + df_train['Parch'] + 1 \n",
    "df_train.sample(10)\n",
    "\n",
    "#### 2.缺失值处理\n",
    "df_train['Age'] = df_train['Age'].fillna(df_train['Age'].mean())\n",
    "#### 3.高次特征和交叉特征\n",
    "from sklearn.preprocessing import PolynomialFeatures\n",
    "poly = PolynomialFeatures(degree=2)\n",
    "poly.fit_transform(df_train[['SibSp','Parch']])\n",
    "#### 4.归一化\n",
    "Normalizer()\n",
    "#### 5.独热向量编码\n",
    "pandas.get_dummies()\n",
    "或\n",
    "from sklearn.preprocessing import OneHotEncoder\n",
    "encoder = OneHotEncoder(sparse=False)\n",
    "encoder.fit(which_bin)\n",
    "X_binned = encoder.transform(which_bin)\n",
    "\n",
    "#### 特征选择：\n",
    "#### 1.过滤式/Filter（较少使用）\n",
    "根据每一列与target的相关性选择\n",
    "from sklearn.feature_selection import SelectPercentile\n",
    "import numpy as np\n",
    "select = SelectPercentile(percentile=70)\n",
    "#### 2.包裹式/wrapper\n",
    "RFE,递归去除列评估结果\n",
    "from sklearn.feature_selection import RFE\n",
    "select = RFE(RandomForestClassifier(n_estimators=100, random_state=42), n_features_to_select=40)\n",
    "#select = RFE(LogisticRegression(penalty=\"l1\"), n_features_to_select=40)\n",
    "\n",
    "#### 3.嵌入式/Embedded\n",
    "from sklearn.feature_selection import SelectFromModel\n",
    "select = SelectFromModel(RandomForestClassifier(n_estimators=100, random_state=42), threshold=\"median\")"
   ]
  },
  {
   "cell_type": "markdown",
   "metadata": {},
   "source": [
    "#### 3.模型评估中的留一法，留出法，交叉验证分别是什么操作？"
   ]
  },
  {
   "cell_type": "markdown",
   "metadata": {
    "collapsed": true
   },
   "source": [
    "答：\n",
    "留一法：就是每次只留下一个样本做测试集，其它样本做训练集，如果有k个样本，则需要训练k次，测试k次。\n",
    "留出法：把D划分为两部分：训练集S和测试集T，在S上训练，在T上做测试。\n",
    "交叉验证:将训练集划分为K折，取一部分作为测试集，其他K-1部分作为训练集，对训练集训练后，然后切换训练集-测试集，从K-1的部分中选取一个测试机，剩下的作为训练集，然后在训练模型，这样循环完毕K折，得到的结果求平均。\n",
    "步骤：\n",
    "1、 将全部训练集 S分成 k个不相交的子集，假设 S中的训练样例个数为 m，那么每一个子 集有 m/k 个训练样例，，相应的子集称作 {s1,s2,…,sk}。\n",
    "2、每次从分好的子集中里面，拿出一个作为测试集，其它k-1个作为训练集\n",
    "3、根据训练训练出模型或者假设函数。\n",
    "4、 把这个模型放到测试集上，得到分类率。\n",
    "5、计算k次求得的分类率的平均值，作为该模型或者假设函数的真实分类率。\n"
   ]
  },
  {
   "cell_type": "markdown",
   "metadata": {},
   "source": [
    "#### 4.如何理解模型的过拟合与欠拟合，以及如何解决？（面试题）"
   ]
  },
  {
   "cell_type": "markdown",
   "metadata": {
    "collapsed": true
   },
   "source": [
    "欠拟合：模型表达能力若，不能完全拟合数据集。\n",
    "解决欠拟合：增加维度特征，可以通过多项式高次特征、统计等方式增加新的维度\n",
    "\n",
    "过拟合：模型过于拟合训练集，导致对于一些噪声误差数据也进行了拟合，这样的模型泛化能力较差。说直白就是对训练集进行了”死记硬背“，会导致到了测试集上无法拟合。\n",
    "解决过拟合：降低维度，增加训练集数据量，添加正则化惩罚项。"
   ]
  },
  {
   "cell_type": "markdown",
   "metadata": {},
   "source": [
    "## 操作题(共1题，共计80分)\n",
    "- note:80"
   ]
  },
  {
   "cell_type": "markdown",
   "metadata": {},
   "source": [
    "### 信用卡欺诈项目(共7项，前5项每题10分，6，7题每题15分)"
   ]
  },
  {
   "cell_type": "markdown",
   "metadata": {},
   "source": [
    "- 前期数据导入,预览及处理(此部分勿修改，涉及的数据文件无需复制移动)"
   ]
  },
  {
   "cell_type": "code",
   "execution_count": 1,
   "metadata": {},
   "outputs": [
    {
     "data": {
      "text/html": [
       "<div>\n",
       "<style scoped>\n",
       "    .dataframe tbody tr th:only-of-type {\n",
       "        vertical-align: middle;\n",
       "    }\n",
       "\n",
       "    .dataframe tbody tr th {\n",
       "        vertical-align: top;\n",
       "    }\n",
       "\n",
       "    .dataframe thead th {\n",
       "        text-align: right;\n",
       "    }\n",
       "</style>\n",
       "<table border=\"1\" class=\"dataframe\">\n",
       "  <thead>\n",
       "    <tr style=\"text-align: right;\">\n",
       "      <th></th>\n",
       "      <th>SeriousDlqin2yrs</th>\n",
       "      <th>RevolvingUtilizationOfUnsecuredLines</th>\n",
       "      <th>age</th>\n",
       "      <th>NumberOfTime30-59DaysPastDueNotWorse</th>\n",
       "      <th>DebtRatio</th>\n",
       "      <th>MonthlyIncome</th>\n",
       "      <th>NumberOfOpenCreditLinesAndLoans</th>\n",
       "      <th>NumberOfTimes90DaysLate</th>\n",
       "      <th>NumberRealEstateLoansOrLines</th>\n",
       "      <th>NumberOfTime60-89DaysPastDueNotWorse</th>\n",
       "      <th>NumberOfDependents</th>\n",
       "    </tr>\n",
       "  </thead>\n",
       "  <tbody>\n",
       "    <tr>\n",
       "      <th>0</th>\n",
       "      <td>1</td>\n",
       "      <td>0.766127</td>\n",
       "      <td>45.0</td>\n",
       "      <td>2.0</td>\n",
       "      <td>0.802982</td>\n",
       "      <td>9120.0</td>\n",
       "      <td>13.0</td>\n",
       "      <td>0.0</td>\n",
       "      <td>6.0</td>\n",
       "      <td>0.0</td>\n",
       "      <td>2.0</td>\n",
       "    </tr>\n",
       "    <tr>\n",
       "      <th>1</th>\n",
       "      <td>0</td>\n",
       "      <td>0.957151</td>\n",
       "      <td>40.0</td>\n",
       "      <td>0.0</td>\n",
       "      <td>0.121876</td>\n",
       "      <td>2600.0</td>\n",
       "      <td>4.0</td>\n",
       "      <td>0.0</td>\n",
       "      <td>0.0</td>\n",
       "      <td>0.0</td>\n",
       "      <td>1.0</td>\n",
       "    </tr>\n",
       "    <tr>\n",
       "      <th>2</th>\n",
       "      <td>0</td>\n",
       "      <td>0.658180</td>\n",
       "      <td>38.0</td>\n",
       "      <td>1.0</td>\n",
       "      <td>0.085113</td>\n",
       "      <td>3042.0</td>\n",
       "      <td>2.0</td>\n",
       "      <td>1.0</td>\n",
       "      <td>0.0</td>\n",
       "      <td>0.0</td>\n",
       "      <td>0.0</td>\n",
       "    </tr>\n",
       "    <tr>\n",
       "      <th>3</th>\n",
       "      <td>0</td>\n",
       "      <td>0.233810</td>\n",
       "      <td>30.0</td>\n",
       "      <td>0.0</td>\n",
       "      <td>0.036050</td>\n",
       "      <td>3300.0</td>\n",
       "      <td>5.0</td>\n",
       "      <td>0.0</td>\n",
       "      <td>0.0</td>\n",
       "      <td>0.0</td>\n",
       "      <td>0.0</td>\n",
       "    </tr>\n",
       "    <tr>\n",
       "      <th>4</th>\n",
       "      <td>0</td>\n",
       "      <td>0.907239</td>\n",
       "      <td>49.0</td>\n",
       "      <td>1.0</td>\n",
       "      <td>0.024926</td>\n",
       "      <td>63588.0</td>\n",
       "      <td>7.0</td>\n",
       "      <td>0.0</td>\n",
       "      <td>1.0</td>\n",
       "      <td>0.0</td>\n",
       "      <td>0.0</td>\n",
       "    </tr>\n",
       "  </tbody>\n",
       "</table>\n",
       "</div>"
      ],
      "text/plain": [
       "   SeriousDlqin2yrs  RevolvingUtilizationOfUnsecuredLines   age  \\\n",
       "0                 1                              0.766127  45.0   \n",
       "1                 0                              0.957151  40.0   \n",
       "2                 0                              0.658180  38.0   \n",
       "3                 0                              0.233810  30.0   \n",
       "4                 0                              0.907239  49.0   \n",
       "\n",
       "   NumberOfTime30-59DaysPastDueNotWorse  DebtRatio  MonthlyIncome  \\\n",
       "0                                   2.0   0.802982         9120.0   \n",
       "1                                   0.0   0.121876         2600.0   \n",
       "2                                   1.0   0.085113         3042.0   \n",
       "3                                   0.0   0.036050         3300.0   \n",
       "4                                   1.0   0.024926        63588.0   \n",
       "\n",
       "   NumberOfOpenCreditLinesAndLoans  NumberOfTimes90DaysLate  \\\n",
       "0                             13.0                      0.0   \n",
       "1                              4.0                      0.0   \n",
       "2                              2.0                      1.0   \n",
       "3                              5.0                      0.0   \n",
       "4                              7.0                      0.0   \n",
       "\n",
       "   NumberRealEstateLoansOrLines  NumberOfTime60-89DaysPastDueNotWorse  \\\n",
       "0                           6.0                                   0.0   \n",
       "1                           0.0                                   0.0   \n",
       "2                           0.0                                   0.0   \n",
       "3                           0.0                                   0.0   \n",
       "4                           1.0                                   0.0   \n",
       "\n",
       "   NumberOfDependents  \n",
       "0                 2.0  \n",
       "1                 1.0  \n",
       "2                 0.0  \n",
       "3                 0.0  \n",
       "4                 0.0  "
      ]
     },
     "execution_count": 1,
     "metadata": {},
     "output_type": "execute_result"
    }
   ],
   "source": [
    "import pandas as pd\n",
    "pd.set_option('display.max_columns', 500)\n",
    "import zipfile\n",
    "with zipfile.ZipFile('/home/sxy-s3/0.Teacher/Exam/KaggleCredit2.csv.zip', 'r') as z:\n",
    "#with zipfile.ZipFile('KaggleCredit2.csv.zip', 'r') as z:\n",
    "    f = z.open('KaggleCredit2.csv')\n",
    "    data = pd.read_csv(f, index_col=0)\n",
    "data.head()"
   ]
  },
  {
   "cell_type": "code",
   "execution_count": 2,
   "metadata": {},
   "outputs": [
    {
     "data": {
      "text/plain": [
       "(112915, 11)"
      ]
     },
     "execution_count": 2,
     "metadata": {},
     "output_type": "execute_result"
    }
   ],
   "source": [
    "data.shape"
   ]
  },
  {
   "cell_type": "code",
   "execution_count": 3,
   "metadata": {
    "scrolled": true
   },
   "outputs": [
    {
     "data": {
      "text/plain": [
       "SeriousDlqin2yrs                           0\n",
       "RevolvingUtilizationOfUnsecuredLines       0\n",
       "age                                     4267\n",
       "NumberOfTime30-59DaysPastDueNotWorse       0\n",
       "DebtRatio                                  0\n",
       "MonthlyIncome                              0\n",
       "NumberOfOpenCreditLinesAndLoans            0\n",
       "NumberOfTimes90DaysLate                    0\n",
       "NumberRealEstateLoansOrLines               0\n",
       "NumberOfTime60-89DaysPastDueNotWorse       0\n",
       "NumberOfDependents                      4267\n",
       "dtype: int64"
      ]
     },
     "execution_count": 3,
     "metadata": {},
     "output_type": "execute_result"
    }
   ],
   "source": [
    "data.isnull().sum(axis=0)"
   ]
  },
  {
   "cell_type": "code",
   "execution_count": 4,
   "metadata": {},
   "outputs": [
    {
     "name": "stderr",
     "output_type": "stream",
     "text": [
      "/Users/limeng/anaconda3/lib/python3.6/site-packages/ipykernel_launcher.py:2: UserWarning: Pandas doesn't allow columns to be created via a new attribute name - see https://pandas.pydata.org/pandas-docs/stable/indexing.html#attribute-access\n",
      "  \n"
     ]
    }
   ],
   "source": [
    "data.dropna(inplace=True)\n",
    "data.shapey = data['SeriousDlqin2yrs']\n",
    "X = data.drop('SeriousDlqin2yrs', axis=1)"
   ]
  },
  {
   "cell_type": "code",
   "execution_count": 5,
   "metadata": {},
   "outputs": [
    {
     "data": {
      "text/plain": [
       "0.06742876076872101"
      ]
     },
     "execution_count": 5,
     "metadata": {},
     "output_type": "execute_result"
    }
   ],
   "source": [
    "y = data['SeriousDlqin2yrs']\n",
    "X = data.drop('SeriousDlqin2yrs', axis=1)\n",
    "y.mean()"
   ]
  },
  {
   "cell_type": "markdown",
   "metadata": {
    "collapsed": true
   },
   "source": [
    "- 1.把数据切分成训练集和测试集"
   ]
  },
  {
   "cell_type": "code",
   "execution_count": 6,
   "metadata": {
    "collapsed": true
   },
   "outputs": [],
   "source": [
    "from sklearn.model_selection import train_test_split \n",
    "\n",
    "train_x,test_x,train_y,test_y  = train_test_split(X,y,test_size=0.3)"
   ]
  },
  {
   "cell_type": "code",
   "execution_count": 7,
   "metadata": {},
   "outputs": [
    {
     "name": "stdout",
     "output_type": "stream",
     "text": [
      "(76053, 10) (32595, 10) (76053,) (32595,)\n"
     ]
    }
   ],
   "source": [
    "print(train_x.shape,test_x.shape,train_y.shape,test_y.shape,)"
   ]
  },
  {
   "cell_type": "markdown",
   "metadata": {},
   "source": [
    "- 2.使用logistic regression建模，并且输出一下系数，分析重要度。   \n",
    "\n",
    "- note: 分析应该有？"
   ]
  },
  {
   "cell_type": "code",
   "execution_count": 56,
   "metadata": {},
   "outputs": [
    {
     "name": "stdout",
     "output_type": "stream",
     "text": [
      "<bound method BaseEstimator.get_params of LogisticRegression(C=1.0, class_weight=None, dual=False, fit_intercept=True,\n",
      "          intercept_scaling=1, max_iter=100, multi_class='ovr', n_jobs=1,\n",
      "          penalty='l2', random_state=None, solver='liblinear', tol=0.0001,\n",
      "          verbose=0, warm_start=False)> [[ -7.07203891e-05  -3.30799821e-02   4.69220672e-01   3.62348187e-01\n",
      "   -3.69008216e-05  -1.21898155e-02   4.93176466e-01  -5.14363063e-02\n",
      "   -9.29090840e-01   9.16404892e-02]] [-1.03664714]\n"
     ]
    }
   ],
   "source": [
    "from sklearn.linear_model import LogisticRegression\n",
    "lr = LogisticRegression()\n",
    "lr.fit(train_x,train_y)\n",
    "lr.predict(test_x)\n",
    "print(lr.get_params,lr.coef_,lr.intercept_)"
   ]
  },
  {
   "cell_type": "markdown",
   "metadata": {},
   "source": [
    "- 3.使用决策树/SVM/KNN...等sklearn分类算法进行分类，尝试了解参数含义，调整不同的参数。"
   ]
  },
  {
   "cell_type": "code",
   "execution_count": 104,
   "metadata": {},
   "outputs": [
    {
     "data": {
      "text/plain": [
       "DecisionTreeClassifier(class_weight=None, criterion='gini', max_depth=5,\n",
       "            max_features=None, max_leaf_nodes=None,\n",
       "            min_impurity_decrease=0.0, min_impurity_split=None,\n",
       "            min_samples_leaf=1, min_samples_split=2,\n",
       "            min_weight_fraction_leaf=0.0, presort=False, random_state=0,\n",
       "            splitter='best')"
      ]
     },
     "execution_count": 104,
     "metadata": {},
     "output_type": "execute_result"
    }
   ],
   "source": [
    "# 决策树\n",
    "from sklearn.tree import DecisionTreeClassifier\n",
    "# 参数 \n",
    "#  criterion：树结点分裂标准，可选Gini/entropy\n",
    "#  max_depth：树的最大深度\n",
    "#  random_state：The minimum number of samples required to split an internal node\n",
    "tree = DecisionTreeClassifier(criterion='entropy', max_depth=3, random_state=0)\n",
    "tree.fit(train_x, train_y)\n",
    "\n",
    "#default CART\n",
    "tree_Gini = DecisionTreeClassifier(max_depth=5, random_state=0)\n",
    "tree_Gini.fit(train_x, train_y)\n"
   ]
  },
  {
   "cell_type": "code",
   "execution_count": 28,
   "metadata": {},
   "outputs": [
    {
     "data": {
      "text/plain": [
       "SVC(C=2.0, cache_size=200, class_weight=None, coef0=0.0,\n",
       "  decision_function_shape='ovr', degree=3, gamma='auto', kernel='rbf',\n",
       "  max_iter=-1, probability=False, random_state=0, shrinking=True,\n",
       "  tol=0.001, verbose=False)"
      ]
     },
     "execution_count": 28,
     "metadata": {},
     "output_type": "execute_result"
    }
   ],
   "source": [
    "# SVM\n",
    "from sklearn.svm import SVC\n",
    "# C:误差项的惩罚参数c\n",
    "# kernel:核函数\n",
    "svm = SVC(kernel='linear', C=1.0, random_state=0)\n",
    "svm.fit(train_x.head(10), train_y.head(10))\n",
    "\n",
    "svm_rbf = SVC(kernel='rbf', C=2.0, random_state=0)\n",
    "svm_rbf.fit(train_x.head(10), train_y.head(10)) # 全量数据跑的实在太慢。。。\n"
   ]
  },
  {
   "cell_type": "code",
   "execution_count": 52,
   "metadata": {},
   "outputs": [
    {
     "data": {
      "text/plain": [
       "KNeighborsClassifier(algorithm='auto', leaf_size=30, metric='minkowski',\n",
       "           metric_params=None, n_jobs=1, n_neighbors=5, p=2,\n",
       "           weights='uniform')"
      ]
     },
     "execution_count": 52,
     "metadata": {},
     "output_type": "execute_result"
    }
   ],
   "source": [
    "# KNN\n",
    "from sklearn.neighbors import KNeighborsClassifier\n",
    "# n_neighbors ：分组\n",
    "# p：Power parameter for the Minkowski metric.\n",
    "# metric：the distance metric to use for the tree.\n",
    "knn = KNeighborsClassifier(n_neighbors=5, p=2, metric='minkowski')\n",
    "knn.fit(train_x, train_y)"
   ]
  },
  {
   "cell_type": "markdown",
   "metadata": {},
   "source": [
    "- 4.在测试集上进行预测，计算准确度"
   ]
  },
  {
   "cell_type": "code",
   "execution_count": 109,
   "metadata": {},
   "outputs": [
    {
     "name": "stdout",
     "output_type": "stream",
     "text": [
      "LR: 0.93\n",
      "DT: 0.93\n",
      "CART: 0.93\n",
      "SVM: 0.83\n",
      "svm_rbf: 0.93\n",
      "KNN: 0.93\n"
     ]
    }
   ],
   "source": [
    "from sklearn.metrics import accuracy_score\n",
    "# 逻辑回归\n",
    "pred_y_LR = lr.predict(test_x)\n",
    "print('LR: %.2f' % accuracy_score(test_y, pred_y_LR))\n",
    "\n",
    "# 决策树\n",
    "pred_y_DT = tree.predict(test_x)\n",
    "print('DT: %.2f' % accuracy_score(test_y, pred_y_DT))\n",
    "\n",
    "# 决策树CART\n",
    "pred_y_CART = tree_Gini.predict(test_x)\n",
    "print('CART: %.2f' % accuracy_score(test_y, pred_y_CART))\n",
    "\n",
    "\n",
    "# SVM\n",
    "pred_y_SVM = svm.predict(test_x)\n",
    "print('SVM: %.2f' % accuracy_score(test_y, pred_y_SVM))\n",
    "\n",
    "pred_y_SVM_rbf = svm_rbf.predict(test_x)\n",
    "print('svm_rbf: %.2f' % accuracy_score(test_y, pred_y_SVM_rbf))\n",
    "\n",
    "#KNN\n",
    "pred_y_KNN = knn.predict(test_x)\n",
    "print('KNN: %.2f' % accuracy_score(test_y, pred_y_KNN))\n",
    "\n"
   ]
  },
  {
   "cell_type": "markdown",
   "metadata": {},
   "source": [
    "- 5.查看sklearn的官方说明，了解混淆矩阵等评估标准，并对此例进行评估。"
   ]
  },
  {
   "cell_type": "code",
   "execution_count": 31,
   "metadata": {
    "collapsed": true
   },
   "outputs": [],
   "source": [
    "# 混淆矩阵是预测值与实际值得交叉情况。列代表预测的数据类别，行代表实际的类别"
   ]
  },
  {
   "cell_type": "code",
   "execution_count": 58,
   "metadata": {},
   "outputs": [
    {
     "name": "stdout",
     "output_type": "stream",
     "text": [
      "混淆矩阵：\n",
      " [[30328    65]\n",
      " [ 2099   103]]\n"
     ]
    }
   ],
   "source": [
    "from sklearn.metrics import confusion_matrix\n",
    "from sklearn import metrics\n",
    "\n",
    "matrix = confusion_matrix(test_y, pred_y_LR)\n",
    "TP = matrix[0,0]\n",
    "FP = matrix[0,1]\n",
    "FN = matrix[1,0]\n",
    "TN = matrix[1,1]\n",
    "print('混淆矩阵：\\n',matrix)\n",
    "# 结果中，30318表示预测为正样本并且实际为正样本的数量。第一行第二列表示预测为负样本，实际为正样本的数量是75\n",
    "# 第二行第一列表示实际为负样本预测为正样本的数量是2094，第二行第二列表示实际为负样本预测为负样本的数量为108"
   ]
  },
  {
   "cell_type": "code",
   "execution_count": 110,
   "metadata": {},
   "outputs": [
    {
     "name": "stdout",
     "output_type": "stream",
     "text": [
      "LR:\n",
      "              precision    recall  f1-score   support\n",
      "\n",
      "          0       0.94      1.00      0.97     30393\n",
      "          1       0.61      0.05      0.08      2202\n",
      "\n",
      "avg / total       0.91      0.93      0.91     32595\n",
      "\n",
      "DT:\n",
      "              precision    recall  f1-score   support\n",
      "\n",
      "          0       0.94      0.99      0.97     30393\n",
      "          1       0.56      0.10      0.17      2202\n",
      "\n",
      "avg / total       0.91      0.93      0.91     32595\n",
      "\n",
      "CART:\n",
      "              precision    recall  f1-score   support\n",
      "\n",
      "          0       0.94      0.99      0.97     30393\n",
      "          1       0.57      0.14      0.23      2202\n",
      "\n",
      "avg / total       0.92      0.93      0.92     32595\n",
      "\n",
      "SVM:\n",
      "              precision    recall  f1-score   support\n",
      "\n",
      "          0       0.94      0.87      0.90     30393\n",
      "          1       0.12      0.24      0.16      2202\n",
      "\n",
      "avg / total       0.88      0.83      0.85     32595\n",
      "\n",
      "SVM_rbf:\n",
      "              precision    recall  f1-score   support\n",
      "\n",
      "          0       0.93      1.00      0.97     30393\n",
      "          1       0.00      0.00      0.00      2202\n",
      "\n",
      "avg / total       0.87      0.93      0.90     32595\n",
      "\n",
      "KNN:\n",
      "              precision    recall  f1-score   support\n",
      "\n",
      "          0       0.93      1.00      0.96     30393\n",
      "          1       0.33      0.02      0.03      2202\n",
      "\n",
      "avg / total       0.89      0.93      0.90     32595\n",
      "\n"
     ]
    },
    {
     "name": "stderr",
     "output_type": "stream",
     "text": [
      "/Users/limeng/anaconda3/lib/python3.6/site-packages/sklearn/metrics/classification.py:1135: UndefinedMetricWarning: Precision and F-score are ill-defined and being set to 0.0 in labels with no predicted samples.\n",
      "  'precision', 'predicted', average, warn_for)\n"
     ]
    }
   ],
   "source": [
    "from sklearn.metrics import classification_report\n",
    "print(\"LR:\\n\",classification_report(test_y, pred_y_LR))\n",
    "print(\"DT:\\n\",classification_report(test_y, pred_y_DT))\n",
    "\n",
    "print(\"CART:\\n\",classification_report(test_y, pred_y_CART))\n",
    "\n",
    "print(\"SVM:\\n\",classification_report(test_y, pred_y_SVM))\n",
    "\n",
    "print(\"SVM_rbf:\\n\",classification_report(test_y, pred_y_SVM_rbf))\n",
    "\n",
    "print(\"KNN:\\n\",classification_report(test_y, pred_y_KNN))\n",
    "\n"
   ]
  },
  {
   "cell_type": "markdown",
   "metadata": {},
   "source": [
    "- 6.银行通常会有更严格的要求，因为fraud带来的后果通常比较严重，一般我们会调整模型的标准。   \n",
    "比如在logistic regression当中，一般我们的概率判定边界为0.5，但是我们可以把阈值设定低一些，来提高模型的“敏感度”   \n",
    "试试看把阈值设定为0.3，再看看这个时候的混淆矩阵等评估指标。"
   ]
  },
  {
   "cell_type": "code",
   "execution_count": 102,
   "metadata": {},
   "outputs": [
    {
     "name": "stdout",
     "output_type": "stream",
     "text": [
      "thredhold = 0.3 LR:\n",
      "              precision    recall  f1-score   support\n",
      "\n",
      "          0       0.94      0.99      0.96     30393\n",
      "          1       0.50      0.11      0.18      2202\n",
      "\n",
      "avg / total       0.91      0.93      0.91     32595\n",
      "\n"
     ]
    }
   ],
   "source": [
    "from sklearn.linear_model import LogisticRegression\n",
    "\n",
    "lr_proba = lr.predict_proba(test_x)\n",
    "proba = lr_proba[:,1] > 0.3\n",
    "print(\"thredhold = 0.3 LR:\\n\",classification_report(test_y, proba))"
   ]
  },
  {
   "cell_type": "code",
   "execution_count": 106,
   "metadata": {},
   "outputs": [
    {
     "name": "stdout",
     "output_type": "stream",
     "text": [
      "thredhold = 0.3 DT:\n",
      "              precision    recall  f1-score   support\n",
      "\n",
      "          0       0.95      0.97      0.96     30393\n",
      "          1       0.46      0.31      0.37      2202\n",
      "\n",
      "avg / total       0.92      0.93      0.92     32595\n",
      "\n"
     ]
    }
   ],
   "source": [
    "tree_proba = tree.predict_proba(test_x)\n",
    "tree_proba = tree_proba[:,1] > 0.3\n",
    "print(\"thredhold = 0.3 DT:\\n\",classification_report(test_y, tree_proba))"
   ]
  },
  {
   "cell_type": "markdown",
   "metadata": {},
   "source": [
    "- 7.尝试对不同特征的重要度进行排序，通过特征选择的方式，对特征进行筛选。并重新建模，观察此时的模型准确率等评估指标。"
   ]
  },
  {
   "cell_type": "code",
   "execution_count": 163,
   "metadata": {},
   "outputs": [
    {
     "name": "stdout",
     "output_type": "stream",
     "text": [
      "特征得分： [  5.18717697e-01   9.01060850e+02   1.06627157e+03   2.42228921e+02\n",
      "   5.35862761e+01   1.20349001e+02   8.86083712e+02   7.78063739e+01\n",
      "   6.07541612e+02   2.02965232e+02]\n",
      "筛选前的维度： (76053, 10)\n",
      "筛选后的维度： (76053, 7)\n"
     ]
    },
    {
     "data": {
      "text/plain": [
       "array([0, 4, 7, 5, 9, 3, 8, 6, 1, 2])"
      ]
     },
     "execution_count": 163,
     "metadata": {},
     "output_type": "execute_result"
    }
   ],
   "source": [
    "# filter \n",
    "from sklearn.feature_selection import SelectPercentile\n",
    "import numpy as np\n",
    "select = SelectPercentile(percentile=70)\n",
    "select.fit(train_x, train_y)\n",
    "# transform training set:\n",
    "X_train_selected = select.transform(train_x)\n",
    "print('特征得分：',select.scores_)\n",
    "print('筛选前的维度：',train_x.shape)\n",
    "print('筛选后的维度：',X_train_selected.shape)\n",
    "np.argsort(select.scores_)"
   ]
  },
  {
   "cell_type": "code",
   "execution_count": 165,
   "metadata": {},
   "outputs": [
    {
     "name": "stdout",
     "output_type": "stream",
     "text": [
      "LR:\n",
      "              precision    recall  f1-score   support\n",
      "\n",
      "          0       0.92      0.00      0.00     30393\n",
      "          1       0.07      1.00      0.13      2202\n",
      "\n",
      "avg / total       0.86      0.07      0.01     32595\n",
      "\n"
     ]
    }
   ],
   "source": [
    "# 基于以上筛选，对筛选后的特征进行建模并评估\n",
    "from sklearn.linear_model import LogisticRegression\n",
    "\n",
    "# 整理测试集，手动过滤特征集0, 4, 7, 5, 9, 3, 8\n",
    "X_test_selected = test_x.drop([test_x.columns[6],test_x.columns[1],test_x.columns[2]],axis=1)\n",
    "    \n",
    "lr_selected = LogisticRegression()\n",
    "\n",
    "lr_selected.fit(X_train_selected,train_y)\n",
    "pred = lr_selected.predict(X_test_selected)\n",
    "print(\"LR:\\n\",classification_report(test_y, pred))"
   ]
  },
  {
   "cell_type": "markdown",
   "metadata": {},
   "source": [
    "\n",
    "### 本阶段课程意见反馈题(5分送分项，非必答)\n",
    "#### 请同学围绕以下两点进行回答：\n",
    "- 自身总结：请您对您自己在本周课程的学习，收获，技能掌握等方面进行一次总结 ，也包括有哪些方面存在哪些不足，欠缺，困惑。作为将来回顾学习路径时的依据。\n"
   ]
  },
  {
   "cell_type": "markdown",
   "metadata": {
    "collapsed": true
   },
   "source": [
    "本周学习了机器学习中问题的整体处理流程，从特征处理到结果评估。时间较紧促，细节还需要深入，接下来的学习中通过更多的练习来提升自己，\n",
    "如参加天池比赛"
   ]
  },
  {
   "cell_type": "markdown",
   "metadata": {},
   "source": [
    "- 课程反馈：请就知识点，进度，难易度，教学方式，考试方式及难易度等方面向我们反馈，督促我们进行更有效的改进。"
   ]
  },
  {
   "cell_type": "markdown",
   "metadata": {
    "collapsed": true
   },
   "source": [
    "课程难度适中，希望加大就业指导（简历，面试）。"
   ]
  },
  {
   "cell_type": "markdown",
   "metadata": {},
   "source": [
    "<hr>\n",
    "<center><h1>####答卷结束####</h1></center>"
   ]
  }
 ],
 "metadata": {
  "kernelspec": {
   "display_name": "Python 3",
   "language": "python",
   "name": "python3"
  },
  "language_info": {
   "codemirror_mode": {
    "name": "ipython",
    "version": 3
   },
   "file_extension": ".py",
   "mimetype": "text/x-python",
   "name": "python",
   "nbconvert_exporter": "python",
   "pygments_lexer": "ipython3",
   "version": "3.5.2"
  }
 },
 "nbformat": 4,
 "nbformat_minor": 2
}
