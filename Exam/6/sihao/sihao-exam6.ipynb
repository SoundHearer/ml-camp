{
 "cells": [
  {
   "cell_type": "markdown",
   "metadata": {},
   "source": [
    "## 七月在线机器学习实训营三期第六周(机器学习)考试\n",
    "#### 考试说明:\n",
    "- 起止时间：请同学在2018年3月16日至3月18日期间完成，最晚提交时间本周日（3月18日24时之前）结束，<b>逾期不接受补考,该考试分数计入平时成绩</b>\n",
    "- 考试方式：请同学<font color=red><b>拷贝</b></font>该试卷至自己姓名的目录后，将文件更名为同学姓名拼音-exam6后，进行作答。例如wangwei-exam6\n",
    "- 提交格式：请同学新建自己姓名全拼的文件夹，将该试卷，数据文件，zip文件等相关考试文件，放置此目录下。将该目录<b>移动</b>至/0.Teacher/Exam/6/目录下\n",
    "- 注意事项：为确保同学们真正了解自身对本周课程的掌握程度，<font color=red><b>请勿翻阅，移动，更改</b></font>其它同学试卷。如发现按0分处理\n",
    "- 请同学在下方同学姓名处填写自己的姓名，批改人和最终得分不用填写"
   ]
  },
  {
   "cell_type": "markdown",
   "metadata": {},
   "source": [
    "- 同学姓名:<u>_思浩____</u>  \n",
    "- 批改人： David\n",
    "- 最终得分:94"
   ]
  },
  {
   "cell_type": "markdown",
   "metadata": {},
   "source": [
    "<center><h1>####答卷开始####</h1></center>\n",
    "<hr>"
   ]
  },
  {
   "cell_type": "markdown",
   "metadata": {},
   "source": [
    "## 简答题(共4题，每题5分，共计20分)\n",
    "- note: 18"
   ]
  },
  {
   "cell_type": "markdown",
   "metadata": {},
   "source": [
    "#### 1. 请写出你了解的机器学习特征工程操作，以及它的意义（面试题）"
   ]
  },
  {
   "cell_type": "markdown",
   "metadata": {
    "collapsed": true
   },
   "source": [
    "意义：减少过拟合，减少噪声干扰。特征工程决定了最后模型能训练的极限高度，模型训练只是逼近这个极限而已。\n",
    "操作：\n",
    "      数据处理：删除有空行或列，填补空值，map序列替换映射，最大最小缩放，标准化，\n",
    "      特征抽取：类别型one-hot扩充，连续值频率或数值分桶，时间特征提取，四则运算，高次特征和交叉特征扩充，按行业知识理解组合表示\n",
    "      特征选择：过滤型，包装型，嵌入型。"
   ]
  },
  {
   "cell_type": "markdown",
   "metadata": {},
   "source": [
    "#### 2.请写出上述特征工程操作的sklearn或者pandas实现方式\n"
   ]
  },
  {
   "cell_type": "markdown",
   "metadata": {
    "collapsed": true
   },
   "source": [
    "数据处理：drop，fillna，Imputer，map做映射，MinMaxScaler()\n",
    "特征抽取：OneHotEncoder，pd.qcut（pd.cut），PolynomialFeatures，pd.to_datetime    fit与transform\n",
    "特征选择：SelectKBest，（rf = RandomForestClassifier()；rfe = RFE(estimator=rf, n_features_to_select=2)）\n",
    "          lsvc = LinearSVC(C=0.01, penalty='l1', dual=False).fit(X,y) L1截断型，将一些w置0\n"
   ]
  },
  {
   "cell_type": "markdown",
   "metadata": {},
   "source": [
    "#### 3.模型评估中的留一法，留出法，交叉验证分别是什么操作？\n",
    "留出法：将数据切一次性分成测试集和训练集。\n",
    "留一法：每次都只一下一个样本测试，其他的用来训练，循环训练。\n",
    "交叉验证：按一定规律每次都取部分数据当做测试集，剩下的当做验证集，用所有的训练结果一起评估模型。"
   ]
  },
  {
   "cell_type": "markdown",
   "metadata": {},
   "source": [
    "#### 4.如何理解模型的过拟合与欠拟合，以及如何解决？（面试题）"
   ]
  },
  {
   "cell_type": "markdown",
   "metadata": {
    "collapsed": true
   },
   "source": [
    "过拟合：学习能力太强，模型过于复杂，把噪声也当做正常情况考虑进去了，导致模型泛化能力差。\n",
    "    解决：增大训练集，降低模型复杂度，增大正则化比重，通过特征选择减少特征。\n",
    "欠拟合：学习能力太弱，模型过于简单，在训练集和测试集上的准确度都比较低。\n",
    "    解决：构建更多特征，减小正则化项，增加模型参数。\n"
   ]
  },
  {
   "cell_type": "markdown",
   "metadata": {},
   "source": [
    "## 操作题(共1题，共计80分)\n",
    "- note: 76分"
   ]
  },
  {
   "cell_type": "markdown",
   "metadata": {},
   "source": [
    "### 信用卡欺诈项目(共7项，前5项每题10分，6，7题每题15分)"
   ]
  },
  {
   "cell_type": "markdown",
   "metadata": {},
   "source": [
    "- 前期数据导入,预览及处理(此部分勿修改，涉及的数据文件无需复制移动)"
   ]
  },
  {
   "cell_type": "code",
   "execution_count": 2,
   "metadata": {},
   "outputs": [
    {
     "data": {
      "text/html": [
       "<div>\n",
       "<style scoped>\n",
       "    .dataframe tbody tr th:only-of-type {\n",
       "        vertical-align: middle;\n",
       "    }\n",
       "\n",
       "    .dataframe tbody tr th {\n",
       "        vertical-align: top;\n",
       "    }\n",
       "\n",
       "    .dataframe thead th {\n",
       "        text-align: right;\n",
       "    }\n",
       "</style>\n",
       "<table border=\"1\" class=\"dataframe\">\n",
       "  <thead>\n",
       "    <tr style=\"text-align: right;\">\n",
       "      <th></th>\n",
       "      <th>SeriousDlqin2yrs</th>\n",
       "      <th>RevolvingUtilizationOfUnsecuredLines</th>\n",
       "      <th>age</th>\n",
       "      <th>NumberOfTime30-59DaysPastDueNotWorse</th>\n",
       "      <th>DebtRatio</th>\n",
       "      <th>MonthlyIncome</th>\n",
       "      <th>NumberOfOpenCreditLinesAndLoans</th>\n",
       "      <th>NumberOfTimes90DaysLate</th>\n",
       "      <th>NumberRealEstateLoansOrLines</th>\n",
       "      <th>NumberOfTime60-89DaysPastDueNotWorse</th>\n",
       "      <th>NumberOfDependents</th>\n",
       "    </tr>\n",
       "  </thead>\n",
       "  <tbody>\n",
       "    <tr>\n",
       "      <th>0</th>\n",
       "      <td>1</td>\n",
       "      <td>0.766127</td>\n",
       "      <td>45.0</td>\n",
       "      <td>2.0</td>\n",
       "      <td>0.802982</td>\n",
       "      <td>9120.0</td>\n",
       "      <td>13.0</td>\n",
       "      <td>0.0</td>\n",
       "      <td>6.0</td>\n",
       "      <td>0.0</td>\n",
       "      <td>2.0</td>\n",
       "    </tr>\n",
       "    <tr>\n",
       "      <th>1</th>\n",
       "      <td>0</td>\n",
       "      <td>0.957151</td>\n",
       "      <td>40.0</td>\n",
       "      <td>0.0</td>\n",
       "      <td>0.121876</td>\n",
       "      <td>2600.0</td>\n",
       "      <td>4.0</td>\n",
       "      <td>0.0</td>\n",
       "      <td>0.0</td>\n",
       "      <td>0.0</td>\n",
       "      <td>1.0</td>\n",
       "    </tr>\n",
       "    <tr>\n",
       "      <th>2</th>\n",
       "      <td>0</td>\n",
       "      <td>0.658180</td>\n",
       "      <td>38.0</td>\n",
       "      <td>1.0</td>\n",
       "      <td>0.085113</td>\n",
       "      <td>3042.0</td>\n",
       "      <td>2.0</td>\n",
       "      <td>1.0</td>\n",
       "      <td>0.0</td>\n",
       "      <td>0.0</td>\n",
       "      <td>0.0</td>\n",
       "    </tr>\n",
       "    <tr>\n",
       "      <th>3</th>\n",
       "      <td>0</td>\n",
       "      <td>0.233810</td>\n",
       "      <td>30.0</td>\n",
       "      <td>0.0</td>\n",
       "      <td>0.036050</td>\n",
       "      <td>3300.0</td>\n",
       "      <td>5.0</td>\n",
       "      <td>0.0</td>\n",
       "      <td>0.0</td>\n",
       "      <td>0.0</td>\n",
       "      <td>0.0</td>\n",
       "    </tr>\n",
       "    <tr>\n",
       "      <th>4</th>\n",
       "      <td>0</td>\n",
       "      <td>0.907239</td>\n",
       "      <td>49.0</td>\n",
       "      <td>1.0</td>\n",
       "      <td>0.024926</td>\n",
       "      <td>63588.0</td>\n",
       "      <td>7.0</td>\n",
       "      <td>0.0</td>\n",
       "      <td>1.0</td>\n",
       "      <td>0.0</td>\n",
       "      <td>0.0</td>\n",
       "    </tr>\n",
       "  </tbody>\n",
       "</table>\n",
       "</div>"
      ],
      "text/plain": [
       "   SeriousDlqin2yrs  RevolvingUtilizationOfUnsecuredLines   age  \\\n",
       "0                 1                              0.766127  45.0   \n",
       "1                 0                              0.957151  40.0   \n",
       "2                 0                              0.658180  38.0   \n",
       "3                 0                              0.233810  30.0   \n",
       "4                 0                              0.907239  49.0   \n",
       "\n",
       "   NumberOfTime30-59DaysPastDueNotWorse  DebtRatio  MonthlyIncome  \\\n",
       "0                                   2.0   0.802982         9120.0   \n",
       "1                                   0.0   0.121876         2600.0   \n",
       "2                                   1.0   0.085113         3042.0   \n",
       "3                                   0.0   0.036050         3300.0   \n",
       "4                                   1.0   0.024926        63588.0   \n",
       "\n",
       "   NumberOfOpenCreditLinesAndLoans  NumberOfTimes90DaysLate  \\\n",
       "0                             13.0                      0.0   \n",
       "1                              4.0                      0.0   \n",
       "2                              2.0                      1.0   \n",
       "3                              5.0                      0.0   \n",
       "4                              7.0                      0.0   \n",
       "\n",
       "   NumberRealEstateLoansOrLines  NumberOfTime60-89DaysPastDueNotWorse  \\\n",
       "0                           6.0                                   0.0   \n",
       "1                           0.0                                   0.0   \n",
       "2                           0.0                                   0.0   \n",
       "3                           0.0                                   0.0   \n",
       "4                           1.0                                   0.0   \n",
       "\n",
       "   NumberOfDependents  \n",
       "0                 2.0  \n",
       "1                 1.0  \n",
       "2                 0.0  \n",
       "3                 0.0  \n",
       "4                 0.0  "
      ]
     },
     "execution_count": 2,
     "metadata": {},
     "output_type": "execute_result"
    }
   ],
   "source": [
    "import pandas as pd\n",
    "pd.set_option('display.max_columns', 500)\n",
    "import zipfile\n",
    "with zipfile.ZipFile('/home/sxy-s3/0.Teacher/Exam/KaggleCredit2.csv.zip', 'r') as z:\n",
    "    f = z.open('KaggleCredit2.csv')\n",
    "    data = pd.read_csv(f, index_col=0)\n",
    "data.head()"
   ]
  },
  {
   "cell_type": "code",
   "execution_count": 3,
   "metadata": {},
   "outputs": [
    {
     "data": {
      "text/plain": [
       "(112915, 11)"
      ]
     },
     "execution_count": 3,
     "metadata": {},
     "output_type": "execute_result"
    }
   ],
   "source": [
    "data.shape"
   ]
  },
  {
   "cell_type": "code",
   "execution_count": 4,
   "metadata": {
    "scrolled": true
   },
   "outputs": [
    {
     "data": {
      "text/plain": [
       "SeriousDlqin2yrs                           0\n",
       "RevolvingUtilizationOfUnsecuredLines       0\n",
       "age                                     4267\n",
       "NumberOfTime30-59DaysPastDueNotWorse       0\n",
       "DebtRatio                                  0\n",
       "MonthlyIncome                              0\n",
       "NumberOfOpenCreditLinesAndLoans            0\n",
       "NumberOfTimes90DaysLate                    0\n",
       "NumberRealEstateLoansOrLines               0\n",
       "NumberOfTime60-89DaysPastDueNotWorse       0\n",
       "NumberOfDependents                      4267\n",
       "dtype: int64"
      ]
     },
     "execution_count": 4,
     "metadata": {},
     "output_type": "execute_result"
    }
   ],
   "source": [
    "data.isnull().sum(axis=0)"
   ]
  },
  {
   "cell_type": "code",
   "execution_count": 5,
   "metadata": {},
   "outputs": [
    {
     "name": "stderr",
     "output_type": "stream",
     "text": [
      "/usr/local/lib/python3.5/dist-packages/ipykernel_launcher.py:2: UserWarning: Pandas doesn't allow columns to be created via a new attribute name - see https://pandas.pydata.org/pandas-docs/stable/indexing.html#attribute-access\n",
      "  \n"
     ]
    }
   ],
   "source": [
    "data.dropna(inplace=True)\n",
    "data.shapey = data['SeriousDlqin2yrs']\n",
    "X = data.drop('SeriousDlqin2yrs', axis=1)"
   ]
  },
  {
   "cell_type": "code",
   "execution_count": 6,
   "metadata": {},
   "outputs": [
    {
     "data": {
      "text/plain": [
       "0.06742876076872101"
      ]
     },
     "execution_count": 6,
     "metadata": {},
     "output_type": "execute_result"
    }
   ],
   "source": [
    "y = data['SeriousDlqin2yrs']\n",
    "X = data.drop('SeriousDlqin2yrs', axis=1)\n",
    "y.mean()"
   ]
  },
  {
   "cell_type": "markdown",
   "metadata": {
    "collapsed": true
   },
   "source": [
    "- 1.把数据切分成训练集和测试集"
   ]
  },
  {
   "cell_type": "code",
   "execution_count": 7,
   "metadata": {},
   "outputs": [
    {
     "data": {
      "text/plain": [
       "(81486, 10)"
      ]
     },
     "execution_count": 7,
     "metadata": {},
     "output_type": "execute_result"
    }
   ],
   "source": [
    "from sklearn.model_selection import train_test_split\n",
    "X_train, X_test, y_train, y_test = train_test_split(X, y, test_size=0.25, random_state=0)#随机选择25%作为测试集，剩余作为训练集\n",
    "X_train.shape"
   ]
  },
  {
   "cell_type": "markdown",
   "metadata": {},
   "source": [
    "- 2.使用logistic regression建模，并且输出一下系数，分析重要度。   "
   ]
  },
  {
   "cell_type": "code",
   "execution_count": 8,
   "metadata": {},
   "outputs": [
    {
     "data": {
      "text/plain": [
       "LogisticRegression(C=200.0, class_weight=None, dual=False, fit_intercept=True,\n",
       "          intercept_scaling=1, max_iter=100, multi_class='ovr', n_jobs=1,\n",
       "          penalty='l2', random_state=0, solver='liblinear', tol=0.0001,\n",
       "          verbose=0, warm_start=False)"
      ]
     },
     "execution_count": 8,
     "metadata": {},
     "output_type": "execute_result"
    }
   ],
   "source": [
    "from sklearn.preprocessing import StandardScaler\n",
    "sc = StandardScaler()\n",
    "sc.fit(X_train)\n",
    "X_train_std = sc.transform(X_train)\n",
    "X_test_std = sc.transform(X_test)\n",
    "from sklearn.linear_model import LogisticRegression\n",
    "from sklearn.metrics import precision_score\n",
    "import sklearn\n",
    "lr = LogisticRegression(C=200.0, random_state=0)\n",
    "lr.fit(X_train_std, y_train)"
   ]
  },
  {
   "cell_type": "markdown",
   "metadata": {},
   "source": [
    "- note:为什么要借助numpy输出结果呢？"
   ]
  },
  {
   "cell_type": "code",
   "execution_count": 9,
   "metadata": {},
   "outputs": [
    {
     "name": "stdout",
     "output_type": "stream",
     "text": [
      "[[-0.01414279 -0.36192199  1.69063278  0.30859874 -0.12781269 -0.09545615\n",
      "   1.66048541 -0.18865952 -3.18131028  0.11895831]]\n",
      "DebtRatio\n",
      "[2 6 3 9 0 5 4 7 1 8]\n",
      " 1) NumberOfTime30-59DaysPastDueNotWorse 1.690633\n",
      " 2) NumberOfTimes90DaysLate        1.660485\n",
      " 3) DebtRatio                      0.308599\n",
      " 4) NumberOfDependents             0.118958\n",
      " 5) RevolvingUtilizationOfUnsecuredLines -0.014143\n",
      " 6) NumberOfOpenCreditLinesAndLoans -0.095456\n",
      " 7) MonthlyIncome                  -0.127813\n",
      " 8) NumberRealEstateLoansOrLines   -0.188660\n",
      " 9) age                            -0.361922\n",
      "10) NumberOfTime60-89DaysPastDueNotWorse -3.181310\n"
     ]
    }
   ],
   "source": [
    "import numpy as np\n",
    "coefs=lr.coef_\n",
    "print(coefs)\n",
    "feat_labels=data.columns[1:]\n",
    "print(feat_labels[3])\n",
    "indices=np.argsort(coefs[0])[::-1]#按大小排序后得到的角标\n",
    "print(indices)\n",
    "X_train.shape[1]\n",
    "for c in range(X_train.shape[1]):\n",
    "    print ('%2d) %-*s %f'%(c+1,30,feat_labels[indices[c]],coefs[0][indices[c]]))"
   ]
  },
  {
   "cell_type": "markdown",
   "metadata": {},
   "source": [
    "- 3.使用决策树/SVM/KNN...等sklearn分类算法进行分类，尝试了解参数含义，调整不同的参数。"
   ]
  },
  {
   "cell_type": "code",
   "execution_count": 10,
   "metadata": {},
   "outputs": [
    {
     "name": "stdout",
     "output_type": "stream",
     "text": [
      "TREE测试集准确度：0.935498\n"
     ]
    }
   ],
   "source": [
    "#决策树\n",
    "from sklearn.tree import DecisionTreeClassifier\n",
    "tree = DecisionTreeClassifier(criterion='entropy', max_depth=3, random_state=0)\n",
    "tree.fit(X_train_std, y_train)\n",
    "ypred_tree=tree.predict(X_test_std)\n",
    "print ('TREE测试集准确度：%f'%tree.score(X_test_std,y_test))"
   ]
  },
  {
   "cell_type": "code",
   "execution_count": null,
   "metadata": {
    "collapsed": true
   },
   "outputs": [],
   "source": [
    "#SVM 卡住了\n",
    "from sklearn.svm import SVC\n",
    "svm = SVC()\n",
    "svm.fit(X_train_std, y_train)\n",
    "print('start')\n",
    "print ('测试集准确度：%f'%svm.score(X_test_std,y_test))\n",
    "print('finish')"
   ]
  },
  {
   "cell_type": "code",
   "execution_count": 11,
   "metadata": {},
   "outputs": [
    {
     "name": "stdout",
     "output_type": "stream",
     "text": [
      "KNN测试集准确度：0.932626\n"
     ]
    }
   ],
   "source": [
    "#KNN\n",
    "from sklearn.neighbors import KNeighborsClassifier\n",
    "knn= KNeighborsClassifier(n_neighbors=2)\n",
    "knn.fit(X_train_std, y_train) \n",
    "ypred_knn=knn.predict(X_test_std)\n",
    "print ('KNN测试集准确度：%f'%knn.score(X_test_std,y_test))"
   ]
  },
  {
   "cell_type": "markdown",
   "metadata": {},
   "source": [
    "- 4.在测试集上进行预测，计算准确度"
   ]
  },
  {
   "cell_type": "code",
   "execution_count": 12,
   "metadata": {},
   "outputs": [
    {
     "name": "stdout",
     "output_type": "stream",
     "text": [
      "0.9350195125543038 0.5725190839694656 0.04204035874439462\n",
      "Accuracy-LOG: 0.9350\n",
      "Accuracy-tree: 0.9355\n",
      "Accuracy-knn: 0.9326\n"
     ]
    }
   ],
   "source": [
    "#\n",
    "ypred =lr.predict(X_test_std)\n",
    "auc=lr.score(X_test_std, y_test)\n",
    "pre=sklearn.metrics.precision_score( y_test, ypred)#\tCompute the precision\n",
    "recall=sklearn.metrics.recall_score( y_test, ypred)#\tCompute the recall\n",
    "print(auc,pre,recall)\n",
    "print('Accuracy-LOG: %.4f' % sklearn.metrics.accuracy_score(y_test, ypred))\n",
    "print('Accuracy-tree: %.4f' % sklearn.metrics.accuracy_score(y_test, ypred_tree))\n",
    "print('Accuracy-knn: %.4f' % sklearn.metrics.accuracy_score(y_test, ypred_knn))"
   ]
  },
  {
   "cell_type": "markdown",
   "metadata": {},
   "source": [
    "- 5.查看sklearn的官方说明，了解混淆矩阵等评估标准，并对此例进行评估。\n",
    "\n",
    "- note: 对结果的评估可以有？"
   ]
  },
  {
   "cell_type": "code",
   "execution_count": 13,
   "metadata": {},
   "outputs": [
    {
     "data": {
      "text/plain": [
       "array([[25322,    56],\n",
       "       [ 1709,    75]])"
      ]
     },
     "execution_count": 13,
     "metadata": {},
     "output_type": "execute_result"
    }
   ],
   "source": [
    "from sklearn.metrics import confusion_matrix\n",
    "cnf_matrix_lr=confusion_matrix(y_test, ypred)\n",
    "cnf_matrix_lr\n",
    "#第一行第一个为0被预测为0的数量，第二个为0被预测为1的数量；第二行第一个为1被预测为0的数量，第二个为1被预测为1的数量；"
   ]
  },
  {
   "cell_type": "markdown",
   "metadata": {},
   "source": [
    "- 6.银行通常会有更严格的要求，因为fraud带来的后果通常比较严重，一般我们会调整模型的标准。   \n",
    "比如在logistic regression当中，一般我们的概率判定边界为0.5，但是我们可以把阈值设定低一些，来提高模型的“敏感度”   \n",
    "试试看把阈值设定为0.3，再看看这个时候的混淆矩阵等评估指标。"
   ]
  },
  {
   "cell_type": "code",
   "execution_count": 14,
   "metadata": {},
   "outputs": [
    {
     "name": "stdout",
     "output_type": "stream",
     "text": [
      "Accuracy-LOG: 0.9345\n"
     ]
    },
    {
     "data": {
      "text/plain": [
       "array([[25352,    26],\n",
       "       [ 1753,    31]])"
      ]
     },
     "execution_count": 14,
     "metadata": {},
     "output_type": "execute_result"
    }
   ],
   "source": [
    "f=lr.predict_proba(X_test_std)\n",
    "def th(self0,self1):\n",
    "    #a=np.reshape(len(self0),1)\n",
    "    a=np.zeros((len(f),1))\n",
    "    for i in range(len(self0)):\n",
    "        if self0[i][0]>=self1:\n",
    "            a[i][0]=0\n",
    "        else:\n",
    "            a[i][0]=1 \n",
    "    return a             \n",
    "b=th(f,0.3)\n",
    "print('Accuracy-LOG: %.4f' % sklearn.metrics.accuracy_score(y_test, b))\n",
    "cnf_matrix_lr=confusion_matrix(y_test, b)\n",
    "cnf_matrix_lr"
   ]
  },
  {
   "cell_type": "markdown",
   "metadata": {},
   "source": [
    "- 7.尝试对不同特征的重要度进行排序，通过特征选择的方式，对特征进行筛选。并重新建模，观察此时的模型准确率等评估指标。"
   ]
  },
  {
   "cell_type": "code",
   "execution_count": 15,
   "metadata": {
    "scrolled": true
   },
   "outputs": [
    {
     "name": "stdout",
     "output_type": "stream",
     "text": [
      " 1) RevolvingUtilizationOfUnsecuredLines 0.187720\n",
      " 2) DebtRatio                      0.172393\n",
      " 3) MonthlyIncome                  0.163618\n",
      " 4) age                            0.123271\n",
      " 5) NumberOfTimes90DaysLate        0.101479\n",
      " 6) NumberOfOpenCreditLinesAndLoans 0.090015\n",
      " 7) NumberOfDependents             0.045881\n",
      " 8) NumberOfTime30-59DaysPastDueNotWorse 0.045554\n",
      " 9) NumberOfTime60-89DaysPastDueNotWorse 0.038475\n",
      "10) NumberRealEstateLoansOrLines   0.031595\n"
     ]
    }
   ],
   "source": [
    "#用随机森林进行特征排序与选择\n",
    "from sklearn.ensemble import RandomForestClassifier\n",
    "\n",
    "#feat_labels = data.columns[1:]  \n",
    "\n",
    "forest = RandomForestClassifier(n_estimators=20,\n",
    "                                random_state=0,\n",
    "                                n_jobs=-1)\n",
    "\n",
    "forest.fit(X_train_std, y_train)\n",
    "importances = forest.feature_importances_\n",
    "\n",
    "indices = np.argsort(importances)[::-1]\n",
    "\n",
    "for f in range(X_train_std.shape[1]):\n",
    "    print(\"%2d) %-*s %f\" % (f + 1, 30, \n",
    "                            feat_labels[indices[f]], \n",
    "                            importances[indices[f]]))\n",
    "\n",
    "#plt.title('Feature Importances')\n",
    "#plt.bar(range(X_train_std.shape[1]), \n",
    "#        importances[indices],\n",
    "#        color='lightblue', \n",
    "#        align='center')\n",
    "\n",
    "#plt.xticks(range(X_train_std.shape[1]), \n",
    "#           feat_labels[indices], rotation=90)\n",
    "#plt.xlim([-1, X_train_std.shape[1]])\n",
    "#plt.tight_layout()\n",
    "#plt.savefig('./random_forest.png', dpi=300)\n",
    "#plt.show()\n"
   ]
  },
  {
   "cell_type": "code",
   "execution_count": null,
   "metadata": {
    "collapsed": true
   },
   "outputs": [],
   "source": [
    "#结合上面的线性和随机森林两个排序，去掉NumberRealEstateLoansOrLines\n",
    "#rfe = RFE(estimator=rf, n_features_to_select=9) 也可以利用该api直接选择\n",
    "#X_rfe = rfe.fit_transform(X,y)\n",
    "X = X_train.drop('SeriousDlqin2yrs', axis=1) \n",
    "X_test = X_test.drop('SeriousDlqin2yrs', axis=1) \n",
    "\n",
    "sc.fit(X)\n",
    "X_train_std = sc.transform(X)\n",
    "X_test_std = sc.transform(X_test)\n",
    "\n",
    "\n",
    "lr = LogisticRegression(C=200.0, random_state=0)\n",
    "lr.fit(X, y_train)\n",
    "ypred_new =lr.predict(X_test)\n",
    "print('Accuracy-LOG-NEW: %.4f' % sklearn.metrics.accuracy_score(y_test, ypred_new))\n",
    "cnf_matrix_lr=confusion_matrix(y_test, ypred_new)\n",
    "cnf_matrix_lr\n",
    "#晚上平台卡住了，没跑出来"
   ]
  },
  {
   "cell_type": "markdown",
   "metadata": {},
   "source": [
    "### 本阶段课程意见反馈题(5分送分项，非必答)\n",
    "#### 请同学围绕以下两点进行回答：\n",
    "- 自身总结：请您对您自己在本周课程的学习，收获，技能掌握等方面进行一次总结 ，也包括有哪些方面存在哪些不足，欠缺，困惑。作为将来回顾学习路径时的依据。\n"
   ]
  },
  {
   "cell_type": "code",
   "execution_count": null,
   "metadata": {
    "collapsed": true
   },
   "outputs": [],
   "source": [
    "本周开始学习机器学习\n",
    "收获如下：对机器学习的整体流程有了清晰的认识，该怎样进行特征抽取与特征选择，认识了过拟合与欠拟合和意义和处理方式，对基本算法的api函数有了了解。"
   ]
  },
  {
   "cell_type": "code",
   "execution_count": null,
   "metadata": {
    "collapsed": true
   },
   "outputs": [],
   "source": [
    "不足：对特征处理的理解不够，需要在实践中积累；对api的各个接口参数认识不准确，公式理解不充分，需要仔细学习。"
   ]
  },
  {
   "cell_type": "markdown",
   "metadata": {},
   "source": [
    "- 课程反馈：请就知识点，进度，难易度，教学方式，考试方式及难易度等方面向我们反馈，督促我们进行更有效的改进。"
   ]
  },
  {
   "cell_type": "code",
   "execution_count": null,
   "metadata": {
    "collapsed": true
   },
   "outputs": [],
   "source": [
    "课程教学条例清晰，在遇到具体算法时希望再能清晰的讲解一两个公式，否则自学较困难。"
   ]
  },
  {
   "cell_type": "markdown",
   "metadata": {},
   "source": [
    "<hr>\n",
    "<center><h1>####答卷结束####</h1></center>"
   ]
  }
 ],
 "metadata": {
  "kernelspec": {
   "display_name": "Python 3",
   "language": "python",
   "name": "python3"
  },
  "language_info": {
   "codemirror_mode": {
    "name": "ipython",
    "version": 3
   },
   "file_extension": ".py",
   "mimetype": "text/x-python",
   "name": "python",
   "nbconvert_exporter": "python",
   "pygments_lexer": "ipython3",
   "version": "3.5.2"
  }
 },
 "nbformat": 4,
 "nbformat_minor": 2
}
