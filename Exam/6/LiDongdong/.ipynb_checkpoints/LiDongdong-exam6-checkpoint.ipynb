{
 "cells": [
  {
   "cell_type": "markdown",
   "metadata": {},
   "source": [
    "## 七月在线机器学习实训营三期第六周(机器学习)考试\n",
    "#### 考试说明:\n",
    "- 起止时间：请同学在2018年3月16日至3月18日期间完成，最晚提交时间本周日（3月18日24时之前）结束，<b>逾期不接受补考,该考试分数计入平时成绩</b>\n",
    "- 考试方式：请同学<font color=red><b>拷贝</b></font>该试卷至自己姓名的目录后，将文件更名为同学姓名拼音-exam6后，进行作答。例如wangwei-exam6\n",
    "- 提交格式：请同学新建自己姓名全拼的文件夹，将该试卷，数据文件，zip文件等相关考试文件，放置此目录下。将该目录<b>移动</b>至/0.Teacher/Exam/4/目录下\n",
    "- 注意事项：为确保同学们真正了解自身对本周课程的掌握程度，<font color=red><b>请勿翻阅，移动，更改</b></font>其它同学试卷。如发现按0分处理\n",
    "- 请同学在下方同学姓名处填写自己的姓名，批改人和最终得分不用填写"
   ]
  },
  {
   "cell_type": "markdown",
   "metadata": {},
   "source": [
    "- 同学姓名:<u>__李栋栋__</u>  \n",
    "- 批改人： David\n",
    "- 最终得分:100"
   ]
  },
  {
   "cell_type": "markdown",
   "metadata": {},
   "source": [
    "<center><h1>####答卷开始####</h1></center>\n",
    "<hr>"
   ]
  },
  {
   "cell_type": "markdown",
   "metadata": {},
   "source": [
    "## 简答题(共4题，每题5分，共计20分)\n",
    "\n",
    "- note:20"
   ]
  },
  {
   "cell_type": "markdown",
   "metadata": {},
   "source": [
    "#### 1. 请写出你了解的机器学习特征工程操作，以及它的意义（面试题）"
   ]
  },
  {
   "cell_type": "markdown",
   "metadata": {
    "collapsed": true
   },
   "source": [
    "一、特征工程的含义\n",
    "1、机器学习中的特征：机器学习中的特征是指数据中抽取出来的对结果预测有用的信息，可以是文本或者数据。  \n",
    "2、机器学习中的特征工程：机器学习中的特征工程是使用专业背景知识和技巧处理数据，使得特征能在机器学习算法上发挥更好的作用的过程。过程包含了特征提取、特征构建、特征选择等模块。  \n",
    "3、机器学习中特征工程的意义：特征工程的意义是把数据集中对预测结果有用的信息提取出来，无用的信息过滤掉，找到相关特征，剔除无关特征，得到更纯净的数据，尽量少的引入噪声数据，从而在建模过程中构建出更加准确的模型。  \n",
    "二、特征处理的基本方法  \n",
    "1、缺失值处理：对于缺失值的处理有多种办法，如果数据集的数据量很大，可以直接删除带有缺失值的数据，也可以用该属性数据的均值、中位数、众数或者是前面的值或者后面的值去填充  \n",
    "2、类别型数据：对于类别型的数据在建模的时候需要进行独热向量编码，可以把该属性变成类别  \n",
    "3、归一化、离散化等：归一化和离散化均是把特征进行了转换，这些方法的好处是可以把特征进行简化，便于算法的迭代，对于异常值具有较好的鲁棒性，且可以形成交叉特征提高模型的拟合能力  \n",
    "三、特征选择：  \n",
    "1、过滤式：这种方法的关键就是找到一种能度量特征重要性的方法，比如pearson相关系数，信息论理论中的互信息等。  \n",
    "2、包裹式：包裹式特征选择直接把最终要使用的学习器的性能作为特征子集的评价准则。  \n",
    "3、嵌入式：嵌入式特征选择方法是将特征选择过程与学习器训练过程融为一体，两者在同一个优化过程中完成，即在学习器训练过程中自动完成了特征选择。"
   ]
  },
  {
   "cell_type": "markdown",
   "metadata": {},
   "source": [
    "#### 2.请写出上述特征工程操作的sklearn或者pandas实现方式\n"
   ]
  },
  {
   "cell_type": "markdown",
   "metadata": {
    "collapsed": true
   },
   "source": [
    "#### 答：\n",
    "1.缺失值处理方法：使用pd.DataFrame.dropna()可以处理缺失值，其中通过axis、how等方法可以对缺失值进行处理；另外，使用pd.DataFrame.fillna()可以填充缺失值，里面的参数可以选择mean、ffill、bfill等方式来进行填充，还有就是sklearn.preprocessing.Imputer也可以对缺失值进行处理  \n",
    "2.独热向量编码：不但可以使用sklearn.preprocessing.LabelEncoder对目标类别进行编码，也可以使用pandas.get_dummies()等方式进行独热向量编码  \n",
    "3.归一化、标准化或者离散化：一般标准化是通过缩放的方式进行，比如利用sklearn.preprocessing.MinMaxScaler或者使用    sklearn.preprocessing.StandardScaler对连续型的数据进行缩放或者标准化；使用sklearn.preprocessing.PolynomialFeatures产出交叉特征和高次特征；在实际工作中，往往可以使用pandas 的min、max、std、mean、median等函数进行离散化  \n",
    "4.特征选择的方法：通过sklearn.feature_selection.SelectKBest实现过滤型特征选择；通过sklearn.feature_selection.RFE实现包裹型特征选择；通过l1正则化实现嵌入型特征选择。  "
   ]
  },
  {
   "cell_type": "markdown",
   "metadata": {},
   "source": [
    "#### 3.模型评估中的留一法，留出法，交叉验证分别是什么操作？"
   ]
  },
  {
   "cell_type": "markdown",
   "metadata": {
    "collapsed": true
   },
   "source": [
    "1、留一法：假设样本数据集中有N个样本数据。将每个样本单独作为测试集，其余N-1个样本作为训练集，然后用这N个分类器或模型的分类准确率的平均数作为此分类器的性能指标。该方法优点是每个模型都是用几乎所有的样本来训练模型，最接近样本，这样评估所得的结果比较可靠。实验没有随机因素，整个过程是可重复的。缺点是计算成本高，耗时。  \n",
    "2、留出法：将数据集D划分为两个互斥的集合，其中一个集合用作训练集S，另一个作为测试集T，即D=S并T，S交T=∅。在S上训练出的模型，用T来评估其测试误差，作为对泛化误差的近似估计。这种方法用起来简单但是最后验证准确性的高低受原始数据分类影响很大，不是很有说服力。  \n",
    "3、交叉验证：将数据集D划分为k个大小相似的互斥子集，即D=D1UD2U…UDk，Di∩Dj=∅（i≠j）；每个子集Di都尽可能保持数据分布的一致性，即从D中通过分层采样所得。训练时，每次用k-1个子集的并集作为训练集，余下的一个子集作为测试集；如此，可获得k组训练集和测试集，从而进行k次训练和测试，最终返回k次测试结果的均值。k值决定了交叉验证法评估结果的稳定性和保真性，因此也称为k折交叉验证或k倍交叉验证。  "
   ]
  },
  {
   "cell_type": "markdown",
   "metadata": {},
   "source": [
    "#### 4.如何理解模型的过拟合与欠拟合，以及如何解决？（面试题）"
   ]
  },
  {
   "cell_type": "markdown",
   "metadata": {
    "collapsed": true
   },
   "source": [
    "1.欠拟合：欠拟合就是模型没有把数据的特征学好，模型的判别能力差，对于最基本的情况都难以判断，不能够很好地拟合数据； \n",
    "解决方法：在原来的数据上使用交叉特征或者高次特征，或者引入更好的数据，通过调节模型参数如迭代次数等来更好的学习数据的细节特征  \n",
    "2.过拟合：过拟合就是模型把数据学的太过了，以至于把数据中与分类结果无关的特征都给学到了，比如对叶子进行区分的时候，如果训练数据中只有黄色叶子，它就认为黄色的才是叶子，实际上颜色是不能作为叶子判别特征的，模型泛化能力太差。最终结果是模型训练集效果很好，放在测试集表现太差。\n",
    "解决办法：进一步对数据进行处理，加入更多的数据来避免对特殊情况的过拟合，降低噪声多模型的影响；增大训练数据；添加正则化项和惩罚系数等"
   ]
  },
  {
   "cell_type": "markdown",
   "metadata": {},
   "source": [
    "## 操作题(共1题，共计80分)\n",
    "\n",
    "- note: 80 解读得很棒"
   ]
  },
  {
   "cell_type": "markdown",
   "metadata": {},
   "source": [
    "### 信用卡欺诈项目(共7项，前5项每题10分，6，7题每题15分)"
   ]
  },
  {
   "cell_type": "markdown",
   "metadata": {},
   "source": [
    "- 前期数据导入,预览及处理(此部分勿修改，涉及的数据文件无需复制移动)"
   ]
  },
  {
   "cell_type": "code",
   "execution_count": 4,
   "metadata": {},
   "outputs": [
    {
     "data": {
      "text/html": [
       "<div>\n",
       "<style scoped>\n",
       "    .dataframe tbody tr th:only-of-type {\n",
       "        vertical-align: middle;\n",
       "    }\n",
       "\n",
       "    .dataframe tbody tr th {\n",
       "        vertical-align: top;\n",
       "    }\n",
       "\n",
       "    .dataframe thead th {\n",
       "        text-align: right;\n",
       "    }\n",
       "</style>\n",
       "<table border=\"1\" class=\"dataframe\">\n",
       "  <thead>\n",
       "    <tr style=\"text-align: right;\">\n",
       "      <th></th>\n",
       "      <th>SeriousDlqin2yrs</th>\n",
       "      <th>RevolvingUtilizationOfUnsecuredLines</th>\n",
       "      <th>age</th>\n",
       "      <th>NumberOfTime30-59DaysPastDueNotWorse</th>\n",
       "      <th>DebtRatio</th>\n",
       "      <th>MonthlyIncome</th>\n",
       "      <th>NumberOfOpenCreditLinesAndLoans</th>\n",
       "      <th>NumberOfTimes90DaysLate</th>\n",
       "      <th>NumberRealEstateLoansOrLines</th>\n",
       "      <th>NumberOfTime60-89DaysPastDueNotWorse</th>\n",
       "      <th>NumberOfDependents</th>\n",
       "    </tr>\n",
       "  </thead>\n",
       "  <tbody>\n",
       "    <tr>\n",
       "      <th>0</th>\n",
       "      <td>1</td>\n",
       "      <td>0.766127</td>\n",
       "      <td>45.0</td>\n",
       "      <td>2.0</td>\n",
       "      <td>0.802982</td>\n",
       "      <td>9120.0</td>\n",
       "      <td>13.0</td>\n",
       "      <td>0.0</td>\n",
       "      <td>6.0</td>\n",
       "      <td>0.0</td>\n",
       "      <td>2.0</td>\n",
       "    </tr>\n",
       "    <tr>\n",
       "      <th>1</th>\n",
       "      <td>0</td>\n",
       "      <td>0.957151</td>\n",
       "      <td>40.0</td>\n",
       "      <td>0.0</td>\n",
       "      <td>0.121876</td>\n",
       "      <td>2600.0</td>\n",
       "      <td>4.0</td>\n",
       "      <td>0.0</td>\n",
       "      <td>0.0</td>\n",
       "      <td>0.0</td>\n",
       "      <td>1.0</td>\n",
       "    </tr>\n",
       "    <tr>\n",
       "      <th>2</th>\n",
       "      <td>0</td>\n",
       "      <td>0.658180</td>\n",
       "      <td>38.0</td>\n",
       "      <td>1.0</td>\n",
       "      <td>0.085113</td>\n",
       "      <td>3042.0</td>\n",
       "      <td>2.0</td>\n",
       "      <td>1.0</td>\n",
       "      <td>0.0</td>\n",
       "      <td>0.0</td>\n",
       "      <td>0.0</td>\n",
       "    </tr>\n",
       "    <tr>\n",
       "      <th>3</th>\n",
       "      <td>0</td>\n",
       "      <td>0.233810</td>\n",
       "      <td>30.0</td>\n",
       "      <td>0.0</td>\n",
       "      <td>0.036050</td>\n",
       "      <td>3300.0</td>\n",
       "      <td>5.0</td>\n",
       "      <td>0.0</td>\n",
       "      <td>0.0</td>\n",
       "      <td>0.0</td>\n",
       "      <td>0.0</td>\n",
       "    </tr>\n",
       "    <tr>\n",
       "      <th>4</th>\n",
       "      <td>0</td>\n",
       "      <td>0.907239</td>\n",
       "      <td>49.0</td>\n",
       "      <td>1.0</td>\n",
       "      <td>0.024926</td>\n",
       "      <td>63588.0</td>\n",
       "      <td>7.0</td>\n",
       "      <td>0.0</td>\n",
       "      <td>1.0</td>\n",
       "      <td>0.0</td>\n",
       "      <td>0.0</td>\n",
       "    </tr>\n",
       "  </tbody>\n",
       "</table>\n",
       "</div>"
      ],
      "text/plain": [
       "   SeriousDlqin2yrs  RevolvingUtilizationOfUnsecuredLines   age  \\\n",
       "0                 1                              0.766127  45.0   \n",
       "1                 0                              0.957151  40.0   \n",
       "2                 0                              0.658180  38.0   \n",
       "3                 0                              0.233810  30.0   \n",
       "4                 0                              0.907239  49.0   \n",
       "\n",
       "   NumberOfTime30-59DaysPastDueNotWorse  DebtRatio  MonthlyIncome  \\\n",
       "0                                   2.0   0.802982         9120.0   \n",
       "1                                   0.0   0.121876         2600.0   \n",
       "2                                   1.0   0.085113         3042.0   \n",
       "3                                   0.0   0.036050         3300.0   \n",
       "4                                   1.0   0.024926        63588.0   \n",
       "\n",
       "   NumberOfOpenCreditLinesAndLoans  NumberOfTimes90DaysLate  \\\n",
       "0                             13.0                      0.0   \n",
       "1                              4.0                      0.0   \n",
       "2                              2.0                      1.0   \n",
       "3                              5.0                      0.0   \n",
       "4                              7.0                      0.0   \n",
       "\n",
       "   NumberRealEstateLoansOrLines  NumberOfTime60-89DaysPastDueNotWorse  \\\n",
       "0                           6.0                                   0.0   \n",
       "1                           0.0                                   0.0   \n",
       "2                           0.0                                   0.0   \n",
       "3                           0.0                                   0.0   \n",
       "4                           1.0                                   0.0   \n",
       "\n",
       "   NumberOfDependents  \n",
       "0                 2.0  \n",
       "1                 1.0  \n",
       "2                 0.0  \n",
       "3                 0.0  \n",
       "4                 0.0  "
      ]
     },
     "execution_count": 4,
     "metadata": {},
     "output_type": "execute_result"
    }
   ],
   "source": [
    "import pandas as pd\n",
    "pd.set_option('display.max_columns', 500)\n",
    "import zipfile\n",
    "with zipfile.ZipFile('/home/sxy-s3/0.Teacher/Exam/KaggleCredit2.csv.zip', 'r') as z:\n",
    "    f = z.open('KaggleCredit2.csv')\n",
    "    data = pd.read_csv(f, index_col=0)\n",
    "data.head()"
   ]
  },
  {
   "cell_type": "code",
   "execution_count": 5,
   "metadata": {},
   "outputs": [
    {
     "data": {
      "text/plain": [
       "(112915, 11)"
      ]
     },
     "execution_count": 5,
     "metadata": {},
     "output_type": "execute_result"
    }
   ],
   "source": [
    "data.shape"
   ]
  },
  {
   "cell_type": "code",
   "execution_count": 6,
   "metadata": {
    "scrolled": true
   },
   "outputs": [
    {
     "data": {
      "text/plain": [
       "SeriousDlqin2yrs                           0\n",
       "RevolvingUtilizationOfUnsecuredLines       0\n",
       "age                                     4267\n",
       "NumberOfTime30-59DaysPastDueNotWorse       0\n",
       "DebtRatio                                  0\n",
       "MonthlyIncome                              0\n",
       "NumberOfOpenCreditLinesAndLoans            0\n",
       "NumberOfTimes90DaysLate                    0\n",
       "NumberRealEstateLoansOrLines               0\n",
       "NumberOfTime60-89DaysPastDueNotWorse       0\n",
       "NumberOfDependents                      4267\n",
       "dtype: int64"
      ]
     },
     "execution_count": 6,
     "metadata": {},
     "output_type": "execute_result"
    }
   ],
   "source": [
    "data.isnull().sum(axis=0)"
   ]
  },
  {
   "cell_type": "code",
   "execution_count": 7,
   "metadata": {},
   "outputs": [
    {
     "name": "stderr",
     "output_type": "stream",
     "text": [
      "/usr/local/lib/python3.5/dist-packages/ipykernel_launcher.py:2: UserWarning: Pandas doesn't allow columns to be created via a new attribute name - see https://pandas.pydata.org/pandas-docs/stable/indexing.html#attribute-access\n",
      "  \n"
     ]
    }
   ],
   "source": [
    "data.dropna(inplace=True)\n",
    "data.shapey = data['SeriousDlqin2yrs']\n",
    "X = data.drop('SeriousDlqin2yrs', axis=1)"
   ]
  },
  {
   "cell_type": "code",
   "execution_count": 8,
   "metadata": {},
   "outputs": [
    {
     "name": "stdout",
     "output_type": "stream",
     "text": [
      "0.06742876076872101 [0 1]\n"
     ]
    }
   ],
   "source": [
    "import numpy as np\n",
    "y = data['SeriousDlqin2yrs']\n",
    "X = data.drop('SeriousDlqin2yrs', axis=1)\n",
    "print(y.mean(),np.unique(y))"
   ]
  },
  {
   "cell_type": "markdown",
   "metadata": {
    "collapsed": true
   },
   "source": [
    "- 1.把数据切分成训练集和测试集"
   ]
  },
  {
   "cell_type": "code",
   "execution_count": 9,
   "metadata": {
    "collapsed": true
   },
   "outputs": [],
   "source": [
    "from sklearn.model_selection import train_test_split\n",
    "X_train,X_test,y_train,y_test = train_test_split(X, y, random_state=0)"
   ]
  },
  {
   "cell_type": "markdown",
   "metadata": {},
   "source": [
    "- 2.使用logistic regression建模，并且输出一下系数，分析重要度。   "
   ]
  },
  {
   "cell_type": "code",
   "execution_count": 10,
   "metadata": {},
   "outputs": [
    {
     "data": {
      "text/plain": [
       "([-5.5989233700193206e-05,\n",
       "  -0.0371442165392128,\n",
       "  0.4768247214383903,\n",
       "  0.2678736424030877,\n",
       "  -3.487495632609662e-05,\n",
       "  -0.013043728911332021,\n",
       "  0.49431230716554125,\n",
       "  -0.005472516350770645,\n",
       "  -0.9354659813745647,\n",
       "  0.05056049118918188],\n",
       " {'DebtRatio': 0.2678736424030877,\n",
       "  'MonthlyIncome': -3.487495632609662e-05,\n",
       "  'NumberOfDependents': 0.05056049118918188,\n",
       "  'NumberOfOpenCreditLinesAndLoans': -0.013043728911332021,\n",
       "  'NumberOfTime30-59DaysPastDueNotWorse': 0.4768247214383903,\n",
       "  'NumberOfTime60-89DaysPastDueNotWorse': -0.9354659813745647,\n",
       "  'NumberOfTimes90DaysLate': 0.49431230716554125,\n",
       "  'NumberRealEstateLoansOrLines': -0.005472516350770645,\n",
       "  'RevolvingUtilizationOfUnsecuredLines': -5.5989233700193206e-05,\n",
       "  'age': -0.0371442165392128},\n",
       " [-0.9354659813745647,\n",
       "  -0.0371442165392128,\n",
       "  -0.013043728911332021,\n",
       "  -0.005472516350770645,\n",
       "  -5.5989233700193206e-05,\n",
       "  -3.487495632609662e-05,\n",
       "  0.05056049118918188,\n",
       "  0.2678736424030877,\n",
       "  0.4768247214383903,\n",
       "  0.49431230716554125])"
      ]
     },
     "execution_count": 10,
     "metadata": {},
     "output_type": "execute_result"
    }
   ],
   "source": [
    "import numpy as np\n",
    "from sklearn.linear_model import LogisticRegression\n",
    "lr  = LogisticRegression(C=1000,random_state=0)\n",
    "lr.fit(X_train, y_train)\n",
    "lr.coef_.tolist()[0],dict(zip(list(X_train.columns),lr.coef_.tolist()[0])),np.sort(lr.coef_).tolist()[0]"
   ]
  },
  {
   "cell_type": "markdown",
   "metadata": {},
   "source": [
    "###### 特征重要度分析\n",
    "从上面生成的回归系数中可以看出，每个特征都对应了其对应的系数，系数的重要度如下：  \n",
    "NumberOfTimes90DaysLate:0.49431230716554125,重要度最高，且与类别成正相关性  \n",
    "NumberOfTime30-59DaysPastDueNotWorse:0.4768247214383903，重要度次之，且与类别成正相关性  \n",
    "DebtRatio:0.2678736424030877，重要度第三，且与类别成正相关    \n",
    "NumberOfDependents:0.05056049118918188，重要度第四，且与类别成正相关  \n",
    "NumberOfTime60-89DaysPastDueNotWorse:-0.9354659813745647，重要度第五，且与类别成负相关性  \n",
    "age:-0.0371442165392128，重要度第六，且与类别成负相关性  \n",
    "NumberOfOpenCreditLinesAndLoans:-0.005472516350770645,重要度第七，且与类别成负相关性  \n",
    "RevolvingUtilizationOfUnsecuredLines:-5.5989233700193206e-05，重要度第八，且与类别成负相关性  \n",
    "MonthlyIncome:-3.487495632609662e-05，重要度第九，且与类别成负相关性  "
   ]
  },
  {
   "cell_type": "markdown",
   "metadata": {},
   "source": [
    "- 3.使用决策树/SVM/KNN...等sklearn分类算法进行分类，尝试了解参数含义，调整不同的参数。"
   ]
  },
  {
   "cell_type": "code",
   "execution_count": 11,
   "metadata": {},
   "outputs": [
    {
     "data": {
      "text/plain": [
       "LinearSVC(C=1.0, class_weight=None, dual=True, fit_intercept=True,\n",
       "     intercept_scaling=1, loss='squared_hinge', max_iter=1000,\n",
       "     multi_class='ovr', penalty='l2', random_state=0, tol=0.0001,\n",
       "     verbose=0)"
      ]
     },
     "execution_count": 11,
     "metadata": {},
     "output_type": "execute_result"
    }
   ],
   "source": [
    "#使用SVM算法进行分类\n",
    "from sklearn.svm import LinearSVC\n",
    "svmclf = LinearSVC(random_state=0)\n",
    "svmclf.fit(X_train,y_train)"
   ]
  },
  {
   "cell_type": "code",
   "execution_count": 12,
   "metadata": {},
   "outputs": [
    {
     "data": {
      "text/plain": [
       "array([[-3.44353882e-05, -4.18028731e-03,  1.25889367e-01,\n",
       "         1.08670397e-01,  3.10328951e-05, -3.51300060e-02,\n",
       "         6.27640234e-02,  3.13385300e-02, -1.80939538e-01,\n",
       "         2.56504874e-02]])"
      ]
     },
     "execution_count": 12,
     "metadata": {},
     "output_type": "execute_result"
    }
   ],
   "source": [
    "svmclf.coef_"
   ]
  },
  {
   "cell_type": "code",
   "execution_count": 13,
   "metadata": {},
   "outputs": [
    {
     "data": {
      "text/plain": [
       "DecisionTreeClassifier(class_weight=None, criterion='gini', max_depth=None,\n",
       "            max_features=None, max_leaf_nodes=None,\n",
       "            min_impurity_decrease=0.0, min_impurity_split=None,\n",
       "            min_samples_leaf=1, min_samples_split=2,\n",
       "            min_weight_fraction_leaf=0.0, presort=False, random_state=0,\n",
       "            splitter='best')"
      ]
     },
     "execution_count": 13,
     "metadata": {},
     "output_type": "execute_result"
    }
   ],
   "source": [
    "#使用决策树进行分类\n",
    "from sklearn.tree import DecisionTreeClassifier\n",
    "dtclf = DecisionTreeClassifier(random_state=0)\n",
    "dtclf.fit(X_train,y_train)"
   ]
  },
  {
   "cell_type": "code",
   "execution_count": 14,
   "metadata": {},
   "outputs": [
    {
     "data": {
      "text/plain": [
       "array([0.18530567, 0.11568208, 0.03560189, 0.19402746, 0.17392675,\n",
       "       0.08117959, 0.12132445, 0.0266479 , 0.02433594, 0.04196826])"
      ]
     },
     "execution_count": 14,
     "metadata": {},
     "output_type": "execute_result"
    }
   ],
   "source": [
    "dtclf.feature_importances_"
   ]
  },
  {
   "cell_type": "code",
   "execution_count": 15,
   "metadata": {},
   "outputs": [
    {
     "data": {
      "text/plain": [
       "0.9297179883660996"
      ]
     },
     "execution_count": 15,
     "metadata": {},
     "output_type": "execute_result"
    }
   ],
   "source": [
    "#使用KNN进行分类\n",
    "from sklearn.neighbors import KNeighborsClassifier\n",
    "knnclf = KNeighborsClassifier(n_neighbors=3)\n",
    "knnclf.fit(X_train,y_train)\n",
    "knnclf.score(X_test,y_test)"
   ]
  },
  {
   "cell_type": "code",
   "execution_count": 16,
   "metadata": {},
   "outputs": [
    {
     "data": {
      "text/plain": [
       "0.9329578087033356"
      ]
     },
     "execution_count": 16,
     "metadata": {},
     "output_type": "execute_result"
    }
   ],
   "source": [
    "knnclf2 = KNeighborsClassifier(n_neighbors=5)\n",
    "knnclf2.fit(X_train,y_train)\n",
    "knnclf2.score(X_test,y_test)"
   ]
  },
  {
   "cell_type": "markdown",
   "metadata": {},
   "source": [
    "- 4.在测试集上进行预测，计算准确度"
   ]
  },
  {
   "cell_type": "code",
   "execution_count": 17,
   "metadata": {},
   "outputs": [
    {
     "data": {
      "text/plain": [
       "0.9348354318533245"
      ]
     },
     "execution_count": 17,
     "metadata": {},
     "output_type": "execute_result"
    }
   ],
   "source": [
    "#在逻辑回归算法上预测\n",
    "lr.score(X_test,y_test)"
   ]
  },
  {
   "cell_type": "code",
   "execution_count": 18,
   "metadata": {},
   "outputs": [
    {
     "data": {
      "text/plain": [
       "0.9300861497680584"
      ]
     },
     "execution_count": 18,
     "metadata": {},
     "output_type": "execute_result"
    }
   ],
   "source": [
    "#在SVM算法上预测\n",
    "svmclf.score(X_test,y_test)"
   ]
  },
  {
   "cell_type": "code",
   "execution_count": 19,
   "metadata": {},
   "outputs": [
    {
     "data": {
      "text/plain": [
       "0.8943376776378764"
      ]
     },
     "execution_count": 19,
     "metadata": {},
     "output_type": "execute_result"
    }
   ],
   "source": [
    "#在决策树算法上计算准确度\n",
    "dtclf.score(X_test,y_test)"
   ]
  },
  {
   "cell_type": "code",
   "execution_count": null,
   "metadata": {
    "collapsed": true
   },
   "outputs": [],
   "source": [
    "- 5.查看sklearn的官方说明，了解混淆矩阵等评估标准，并对此例进行评估。"
   ]
  },
  {
   "cell_type": "raw",
   "metadata": {
    "collapsed": true
   },
   "source": [
    "混淆矩阵的形式可以表示为：  \n",
    "|      |      |   Predicted   |  \n",
    "|      |      |N         P  |      \n",
    "| Actual |N     |a         b  |  \n",
    "|      |      |            |  \n",
    "|      |P     |c         d  |  "
   ]
  },
  {
   "cell_type": "markdown",
   "metadata": {},
   "source": [
    "a表示原来是负样本，预测也为负样本的数目  \n",
    "b表示原来是负样本，预测变成正样本的数目  \n",
    "c表示原来是正样本，预测变成负样本的数目  \n",
    "d表示原来是正样本，预测也为正样本的数目  "
   ]
  },
  {
   "cell_type": "code",
   "execution_count": 20,
   "metadata": {
    "collapsed": true
   },
   "outputs": [],
   "source": [
    "from sklearn.metrics import confusion_matrix"
   ]
  },
  {
   "cell_type": "code",
   "execution_count": 21,
   "metadata": {
    "collapsed": true
   },
   "outputs": [],
   "source": [
    "#逻辑回归模型的混淆矩阵评价\n",
    "lr_test_pred = lr.predict(X_test)\n",
    "lr_matrix = confusion_matrix(y_test,lr_test_pred).ravel()\n",
    "tn,fp,fn,tp = lr_matrix"
   ]
  },
  {
   "cell_type": "code",
   "execution_count": 22,
   "metadata": {},
   "outputs": [
    {
     "name": "stdout",
     "output_type": "stream",
     "text": [
      "Thre accuracy is 0.934835\n",
      "Thre positive precision is 0.554688\n",
      "Thre postive recall is 0.039798\n",
      "Thre negtive f-m is 0.074268\n",
      "Thre negtive precision is 0.936635\n",
      "Thre negtive recall is 0.997754\n",
      "Thre negtive f-m is 0.966229\n"
     ]
    }
   ],
   "source": [
    "#逻辑回归算法的准确率，召回率和F指数\n",
    "lr_accuracy = (tn+tp)/(tn+tp+fn+fp)\n",
    "lr_pospre = (tp)/(tp+fp)\n",
    "lr_posre = (tp)/(fn+tp)\n",
    "lr_posfm = 2*(lr_pospre*lr_posre)/(lr_pospre+lr_posre)\n",
    "lr_nepre = (tn)/(tn+fn)\n",
    "lr_nere = (tn)/(fp+tn)\n",
    "lr_nefm = 2*(lr_nepre*lr_nere)/(lr_nepre+lr_nere)\n",
    "print('Thre accuracy is %f' %(lr_accuracy))\n",
    "print('Thre positive precision is %f' %(lr_pospre))\n",
    "print('Thre postive recall is %f' %(lr_posre))\n",
    "print('Thre negtive f-m is %f' %(lr_posfm))\n",
    "print('Thre negtive precision is %f' %(lr_nepre))\n",
    "print('Thre negtive recall is %f' %(lr_nere))\n",
    "print('Thre negtive f-m is %f' %(lr_nefm))"
   ]
  },
  {
   "cell_type": "markdown",
   "metadata": {},
   "source": [
    "### 逻辑回归混淆矩阵结果分析\n",
    "从上述结果中可以看出，使用逻辑回归输出的混淆矩阵的分析结果显示，此分类结果在正例和反例上差别较大，总准确率为93%，正例精确率为55%，召回率为4%，反例精确率为94%，召回率为99%， \n",
    "从这个结果来看，该分类模型存在较大的正负样本不平衡的问题，导致了该模型把多数结果判断为反例就有较好的总准确率，如果想要获得更好的建模结果，应该调整该数据集合的正负样本比例  。"
   ]
  },
  {
   "cell_type": "markdown",
   "metadata": {},
   "source": [
    "- 6.银行通常会有更严格的要求，因为fraud带来的后果通常比较严重，一般我们会调整模型的标准。   \n",
    "比如在logistic regression当中，一般我们的概率判定边界为0.5，但是我们可以把阈值设定低一些，来提高模型的“敏感度”   \n",
    "试试看把阈值设定为0.3，再看看这个时候的混淆矩阵等评估指标。"
   ]
  },
  {
   "cell_type": "code",
   "execution_count": 35,
   "metadata": {},
   "outputs": [
    {
     "name": "stdout",
     "output_type": "stream",
     "text": [
      "Thre accuracy is 0.934762\n",
      "Thre positive precision is 0.515075\n",
      "Thre postive recall is 0.114910\n",
      "Thre negtive f-m is 0.074268\n",
      "Thre negtive precision is 0.941003\n",
      "Thre negtive recall is 0.992395\n",
      "Thre negtive f-m is 0.966229\n"
     ]
    }
   ],
   "source": [
    "#设置阈值为0.3\n",
    "lr2_threshold = 0.3\n",
    "lr2_test_pred = lr.predict_proba(X_test)\n",
    "lr2_test_pred = lr2_test_pred[:,1]\n",
    "lr2_test_pred[lr2_test_pred>=lr2_threshold]=1\n",
    "lr2_test_pred[lr2_test_pred<lr2_threshold]=0\n",
    "lr2_test_pred\n",
    "lr2_matrix = confusion_matrix(y_test,lr2_test_pred).ravel()\n",
    "tn,fp,fn,tp = lr2_matrix\n",
    "#逻辑回归算法的准确率，召回率和F指数\n",
    "lr2_accuracy = (tn+tp)/(tn+tp+fn+fp)\n",
    "lr2_pospre = (tp)/(tp+fp)\n",
    "lr2_posre = (tp)/(fn+tp)\n",
    "lr2_posfm = 2*(lr_pospre*lr_posre)/(lr_pospre+lr_posre)\n",
    "lr2_nepre = (tn)/(tn+fn)\n",
    "lr2_nere = (tn)/(fp+tn)\n",
    "lr2_nefm = 2*(lr_nepre*lr_nere)/(lr_nepre+lr_nere)\n",
    "print('Thre accuracy is %f' %(lr2_accuracy))\n",
    "print('Thre positive precision is %f' %(lr2_pospre))\n",
    "print('Thre postive recall is %f' %(lr2_posre))\n",
    "print('Thre negtive f-m is %f' %(lr2_posfm))\n",
    "print('Thre negtive precision is %f' %(lr2_nepre))\n",
    "print('Thre negtive recall is %f' %(lr2_nere))\n",
    "print('Thre negtive f-m is %f' %(lr2_nefm))"
   ]
  },
  {
   "cell_type": "markdown",
   "metadata": {},
   "source": [
    "#### 从上面的结果中可以看出，对LR模型的预测阈值进行调整后，预测结果明显变好，正例预测效果提升到了50%以上，召回率提高到了11%，负样本的精确率和召回率都在90%以上"
   ]
  },
  {
   "cell_type": "markdown",
   "metadata": {},
   "source": [
    "- 7.尝试对不同特征的重要度进行排序，通过特征选择的方式，对特征进行筛选。并重新建模，观察此时的模型准确率等评估指标。"
   ]
  },
  {
   "cell_type": "code",
   "execution_count": 37,
   "metadata": {},
   "outputs": [
    {
     "name": "stdout",
     "output_type": "stream",
     "text": [
      " 0) RevolvingUtilizationOfUnsecuredLines 0.183782\n",
      " 1) DebtRatio                      0.171090\n",
      " 2) MonthlyIncome                  0.165430\n",
      " 3) age                            0.123087\n",
      " 4) NumberOfTimes90DaysLate        0.107861\n",
      " 5) NumberOfOpenCreditLinesAndLoans 0.087778\n",
      " 6) NumberOfDependents             0.046438\n",
      " 7) NumberOfTime30-59DaysPastDueNotWorse 0.044987\n",
      " 8) NumberOfTime60-89DaysPastDueNotWorse 0.035824\n",
      " 9) NumberRealEstateLoansOrLines   0.033725\n"
     ]
    }
   ],
   "source": [
    "from sklearn.ensemble import RandomForestClassifier\n",
    "feat_labels = data.columns[1:]\n",
    "forest=RandomForestClassifier(random_state=0,n_jobs=-1)\n",
    "forest.fit(X_train,y_train)\n",
    "importances=forest.feature_importances_\n",
    "import numpy as np\n",
    "feat_labels=data.columns[1:]\n",
    "indices=np.argsort(importances)[::-1]\n",
    "for f in range(X_train.shape[1]):\n",
    "    print ('%2d) %-*s %f'%(f,30,feat_labels[indices[f]],importances[indices[f]]))"
   ]
  },
  {
   "cell_type": "code",
   "execution_count": 79,
   "metadata": {},
   "outputs": [
    {
     "data": {
      "text/plain": [
       "LogisticRegression(C=1.0, class_weight=None, dual=False, fit_intercept=True,\n",
       "          intercept_scaling=1, max_iter=100, multi_class='ovr', n_jobs=1,\n",
       "          penalty='l2', random_state=0, solver='liblinear', tol=0.0001,\n",
       "          verbose=0, warm_start=False)"
      ]
     },
     "execution_count": 79,
     "metadata": {},
     "output_type": "execute_result"
    }
   ],
   "source": [
    "newX_train=X_train[['DebtRatio','MonthlyIncome','NumberOfTime30-59DaysPastDueNotWorse','NumberOfTime60-89DaysPastDueNotWorse']]\n",
    "newX_test=X_test[['DebtRatio','MonthlyIncome','NumberOfTime30-59DaysPastDueNotWorse','NumberOfTime60-89DaysPastDueNotWorse']]\n",
    "\n",
    "from sklearn.linear_model import LogisticRegression\n",
    "\n",
    "lr_part = LogisticRegression(random_state=0)\n",
    "lr_part.fit(newX_train, y_train)\n"
   ]
  },
  {
   "cell_type": "code",
   "execution_count": 77,
   "metadata": {},
   "outputs": [
    {
     "data": {
      "text/plain": [
       "(25378, 0, 1784, 0)"
      ]
     },
     "execution_count": 77,
     "metadata": {},
     "output_type": "execute_result"
    }
   ],
   "source": [
    "tn,fp,fn,tp"
   ]
  },
  {
   "cell_type": "code",
   "execution_count": 90,
   "metadata": {},
   "outputs": [
    {
     "name": "stdout",
     "output_type": "stream",
     "text": [
      "Thre accuracy is 0.934394\n",
      "Thre positive precision is 0.533333\n",
      "Thre postive recall is 0.008969\n",
      "Thre negtive f-m is 0.074268\n",
      "Thre negtive precision is 0.934837\n",
      "Thre negtive recall is 0.999448\n",
      "Thre negtive f-m is 0.966229\n"
     ]
    }
   ],
   "source": [
    "\n",
    "#逻辑回归模型的混淆矩阵评价\n",
    "lr_test_pred_part = lr_part.predict_proba(newX_test)\n",
    "lrp_threshold = 0.63\n",
    "lr_test_pred_part = lr_test_pred_part[:,1]\n",
    "lr_test_pred_part[lr_test_pred_part>=lrp_threshold]=1\n",
    "lr_test_pred_part[lr_test_pred_part<lrp_threshold]=0\n",
    "lr_matrix_part = confusion_matrix(y_test,lr_test_pred_part).ravel()\n",
    "tn,fp,fn,tp = lr_matrix_part\n",
    "#逻辑回归算法的准确率，召回率和F指数\n",
    "lr_accuracyp = (tn+tp)/(tn+tp+fn+fp)\n",
    "lr_posprep = (tp)/(tp+fp)\n",
    "lr_posrep = (tp)/(fn+tp)\n",
    "lr_posfmp = 2*(lr_pospre*lr_posre)/(lr_pospre+lr_posre)\n",
    "lr_neprep = (tn)/(tn+fn)\n",
    "lr_nerep = (tn)/(fp+tn)\n",
    "lr_nefmp = 2*(lr_nepre*lr_nere)/(lr_nepre+lr_nere)\n",
    "print('Thre accuracy is %f' %(lr_accuracyp))\n",
    "print('Thre positive precision is %f' %(lr_posprep))\n",
    "print('Thre postive recall is %f' %(lr_posrep))\n",
    "print('Thre negtive f-m is %f' %(lr_posfmp))\n",
    "print('Thre negtive precision is %f' %(lr_neprep))\n",
    "print('Thre negtive recall is %f' %(lr_nerep))\n",
    "print('Thre negtive f-m is %f' %(lr_nefmp))"
   ]
  },
  {
   "cell_type": "markdown",
   "metadata": {},
   "source": [
    "##### 从上面的结果中可以看出，对LR模型对重要特征进行筛选后，预测结果部分变好，正例预测效果提升到了53%以上，召回率有所下降，负样本的精确率和召回率都在90%以上"
   ]
  },
  {
   "cell_type": "markdown",
   "metadata": {},
   "source": [
    "### 本阶段课程意见反馈题(5分送分项，非必答)\n",
    "#### 请同学围绕以下两点进行回答：\n",
    "- 自身总结：请您对您自己在本周课程的学习，收获，技能掌握等方面进行一次总结 ，也包括有哪些方面存在哪些不足，欠缺，困惑。作为将来回顾学习路径时的依据。\n"
   ]
  },
  {
   "cell_type": "markdown",
   "metadata": {
    "collapsed": true
   },
   "source": [
    "-1、学习了很多知识，但是学习的时间和质量还没完全跟上，希望继续学习"
   ]
  },
  {
   "cell_type": "markdown",
   "metadata": {
    "collapsed": true
   },
   "source": [
    "-2、下一步抽时间多练练项目"
   ]
  },
  {
   "cell_type": "markdown",
   "metadata": {},
   "source": [
    "- 课程反馈：请就知识点，进度，难易度，教学方式，考试方式及难易度等方面向我们反馈，督促我们进行更有效的改进。"
   ]
  },
  {
   "cell_type": "markdown",
   "metadata": {
    "collapsed": true
   },
   "source": [
    "-1、希望对于线下课程的部分能够有部分资料便于学习，对于有时候没有时间的情况，容易耽误课程  \n",
    "-2、建模学习感觉基本路子已经跑通了，但是在很多数据处理时不够熟练，希望能在课程中带着练练"
   ]
  },
  {
   "cell_type": "markdown",
   "metadata": {},
   "source": [
    "<hr>\n",
    "<center><h1>####答卷结束####</h1></center>"
   ]
  }
 ],
 "metadata": {
  "kernelspec": {
   "display_name": "Python 3",
   "language": "python",
   "name": "python3"
  },
  "language_info": {
   "codemirror_mode": {
    "name": "ipython",
    "version": 3
   },
   "file_extension": ".py",
   "mimetype": "text/x-python",
   "name": "python",
   "nbconvert_exporter": "python",
   "pygments_lexer": "ipython3",
   "version": "3.5.2"
  }
 },
 "nbformat": 4,
 "nbformat_minor": 2
}
