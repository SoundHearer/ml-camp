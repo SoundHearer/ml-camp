{
 "cells": [
  {
   "cell_type": "markdown",
   "metadata": {},
   "source": [
    "## 七月在线机器学习实训营三期第六周(机器学习)考试\n",
    "#### 考试说明:\n",
    "- 起止时间：请同学在2018年3月16日至3月18日期间完成，最晚提交时间本周日（3月18日24时之前）结束，<b>逾期不接受补考,该考试分数计入平时成绩</b>\n",
    "- 考试方式：请同学<font color=red><b>拷贝</b></font>该试卷至自己姓名的目录后，将文件更名为同学姓名拼音-exam6后，进行作答。例如wangwei-exam6\n",
    "- 提交格式：请同学新建自己姓名全拼的文件夹，将该试卷，数据文件，zip文件等相关考试文件，放置此目录下。将该目录<b>移动</b>至/0.Teacher/Exam/4/目录下\n",
    "- 注意事项：为确保同学们真正了解自身对本周课程的掌握程度，<font color=red><b>请勿翻阅，移动，更改</b></font>其它同学试卷。如发现按0分处理\n",
    "- 请同学在下方同学姓名处填写自己的姓名，批改人和最终得分不用填写"
   ]
  },
  {
   "cell_type": "markdown",
   "metadata": {},
   "source": [
    "- 同学姓名:<u>李建其</u>  \n",
    "- 批改人： David\n",
    "- 最终得分:90"
   ]
  },
  {
   "cell_type": "markdown",
   "metadata": {},
   "source": [
    "<center><h1>####答卷开始####</h1></center>\n",
    "<hr>"
   ]
  },
  {
   "cell_type": "markdown",
   "metadata": {},
   "source": [
    "## 简答题(共4题，每题5分，共计20分)\n",
    "\n",
    "- note:15"
   ]
  },
  {
   "cell_type": "markdown",
   "metadata": {},
   "source": [
    "#### 1. 请写出你了解的机器学习特征工程操作，以及它的意义（面试题）\n",
    "#### 2.请写出上述特征工程操作的sklearn或者pandas实现方式"
   ]
  },
  {
   "cell_type": "markdown",
   "metadata": {
    "collapsed": true
   },
   "source": [
    "- 1.特征归一化\n",
    " - 主要是将数据缩放到一定范围内, 并将各个特征的数量级和范围进行统一, 可以避免激活函数饱和, 增加模型收敛性和精度等\n",
    "- 2.One-hot Enconding\n",
    " - 将多类别的label进行编码，n各类别对应(n,)的向量，对应index上的值为1\n",
    " "
   ]
  },
  {
   "cell_type": "markdown",
   "metadata": {},
   "source": [
    "- 3.处理缺失值 特征清洗\n",
    "    - 通过pandas中DataFrame的fillna函数，参数可以使用values或者method\n",
    "    - 使用sklearn中的Imputer\n",
    "- 4.常用的特征处理方式\n",
    "    - 幅度缩放，作为新的特征，比如取log，sklearn.preprocessing 中的MinMaxScaler、StandardScaler    \n",
    "    - 统计结果，作为新的特征，比如 min，max，DataFrame的quantile(0.25)方法等   \n",
    "    - 四则运算，作为新的特征\n",
    "    - 高次特征和交叉特征，作为新的特征， 比如sklearn.preprocessing 中的PolynomialFeatures(degree=2)   \n",
    "    - 离散化/分箱/分桶，作为新的特征，比如pandas中的函数cut，qcut\n",
    "    - 独热向量编码，作为新的特征，比如pandas中的get_dummies函数，注意参数    \n",
    "    - 时间型特征，作为新的特征， 比如使用pandas中的to_datetime函数，得到DateTime型变量后，可以使用属性 month，dayofyear，dayofweek等    \n",
    "    - 多个特征时，使用降维\n",
    "- 5.特征选择\n",
    "    - Filter 过滤型\n",
    "        - 思路：自变量和目标变量之间的关联\n",
    "        - 相关系数 \n",
    "            - SelectKBest：返回k个最佳特征\n",
    "            - VarianceThreshold：删除特征值的方差达不到最低标准的特征\n",
    "            - SelectPercentile：返回表现最佳的前r%个特征\n",
    "        - 卡方校验\n",
    "        - 信息增益、互信息\n",
    "    - Wrapper 包裹型\n",
    "        - 思路：通过目标函数（AUC/MSE）来决定是否加入一个变量\n",
    "        - 迭代：产生特征子集，评价。方式有完全搜索、启发式搜索、随机搜索（GA SA）\n",
    "            - RFE(递归特征消除Recursive feature elimination)\n",
    "                - 对初始特征集合中每个特征赋予一个初始权重\n",
    "                - 训练，将权重最小的特征消除\n",
    "                - 不断迭代，直到特征集合的数目达到预定值\n",
    "                - RFE的稳定性很大程度上取决于在迭代的时候底层用哪种模型\n",
    "            - RFECV 在RFE训练时，增加交叉验证\n",
    "    - Embededd 嵌入型\n",
    "        - 思路：学习器本身自动选择特征\n",
    "        - 正则化 L1（Lasso）、L2（Ridge）\n",
    "        - 决策树 熵、信息增益\n",
    "        - 深度学习"
   ]
  },
  {
   "cell_type": "markdown",
   "metadata": {},
   "source": [
    "#### 3.模型评估中的留一法，留出法，交叉验证分别是什么操作？"
   ]
  },
  {
   "cell_type": "markdown",
   "metadata": {},
   "source": [
    "- 留一法：取N个样本中的一个样本作为验证样本，其他N-1个样本作为训练样本，分别进行训练  得到N个分类器（或者回归模型），用这N分类器验证结果的平均值来评估模型参数的性能。\n",
    "- 留出法：将N个样本分为训练集和验证集，按照一定的规则来区分，比如取P个样本点作为训练  集，N-P个样本点作为验证集，需要做Cnp个分类器（回归模型），对这些分类器的元整结果做平均，评估模型的性能。留出法的时间复杂度非常高。\n",
    "- 交叉验证法：将样本D划分为k个大小相似的子集，每个子集尽量保持样本的分布的一致性，    \n",
    "然后每次用k-1个子集做训练集，剩下的那一个子集做验证集，这样就可以获得k组训练/验证集， 分别训练模型，得到k个模型参数，对这些模型的参数的验证结果做平均，来评估模型的性能。"
   ]
  },
  {
   "cell_type": "markdown",
   "metadata": {},
   "source": [
    "#### 4.如何理解模型的过拟合与欠拟合，以及如何解决？（面试题）"
   ]
  },
  {
   "cell_type": "markdown",
   "metadata": {},
   "source": [
    "- 欠拟合是模型的参数学习不到位，模型的参数不足以表达当前的数据样本信息，已经不能根据样本的特征，良好的对样本指进行预测。主要原因是数据量太少，模型选择不合适等导致。\n",
    "\n",
    "- 过拟合是在当前训练集的基础上，训练模型，为了尽可能的覆盖到每一个样本点的特征值，尤其是和样本整体的偏差较大的样本点、甚至噪声的特征，也当做有效特征来处理，最终得到一组参数，而该模型的泛化能力是比较低，或者说模型的参数对样本的特征极其敏感。而该模型由于特别的照顾每一个样本点，所以当测试集的数据和训练集不一样时，模型会出现预测不正确的情况。"
   ]
  },
  {
   "cell_type": "markdown",
   "metadata": {},
   "source": [
    "## 操作题(共1题，共计80分)\n",
    "\n",
    "- note:75"
   ]
  },
  {
   "cell_type": "markdown",
   "metadata": {},
   "source": [
    "### 信用卡欺诈项目(共7项，前5项每题10分，6，7题每题15分)"
   ]
  },
  {
   "cell_type": "markdown",
   "metadata": {},
   "source": [
    "- 前期数据导入,预览及处理(此部分勿修改，涉及的数据文件无需复制移动)"
   ]
  },
  {
   "cell_type": "code",
   "execution_count": 1,
   "metadata": {},
   "outputs": [
    {
     "data": {
      "text/html": [
       "<div>\n",
       "<style scoped>\n",
       "    .dataframe tbody tr th:only-of-type {\n",
       "        vertical-align: middle;\n",
       "    }\n",
       "\n",
       "    .dataframe tbody tr th {\n",
       "        vertical-align: top;\n",
       "    }\n",
       "\n",
       "    .dataframe thead th {\n",
       "        text-align: right;\n",
       "    }\n",
       "</style>\n",
       "<table border=\"1\" class=\"dataframe\">\n",
       "  <thead>\n",
       "    <tr style=\"text-align: right;\">\n",
       "      <th></th>\n",
       "      <th>SeriousDlqin2yrs</th>\n",
       "      <th>RevolvingUtilizationOfUnsecuredLines</th>\n",
       "      <th>age</th>\n",
       "      <th>NumberOfTime30-59DaysPastDueNotWorse</th>\n",
       "      <th>DebtRatio</th>\n",
       "      <th>MonthlyIncome</th>\n",
       "      <th>NumberOfOpenCreditLinesAndLoans</th>\n",
       "      <th>NumberOfTimes90DaysLate</th>\n",
       "      <th>NumberRealEstateLoansOrLines</th>\n",
       "      <th>NumberOfTime60-89DaysPastDueNotWorse</th>\n",
       "      <th>NumberOfDependents</th>\n",
       "    </tr>\n",
       "  </thead>\n",
       "  <tbody>\n",
       "    <tr>\n",
       "      <th>0</th>\n",
       "      <td>1</td>\n",
       "      <td>0.766127</td>\n",
       "      <td>45.0</td>\n",
       "      <td>2.0</td>\n",
       "      <td>0.802982</td>\n",
       "      <td>9120.0</td>\n",
       "      <td>13.0</td>\n",
       "      <td>0.0</td>\n",
       "      <td>6.0</td>\n",
       "      <td>0.0</td>\n",
       "      <td>2.0</td>\n",
       "    </tr>\n",
       "    <tr>\n",
       "      <th>1</th>\n",
       "      <td>0</td>\n",
       "      <td>0.957151</td>\n",
       "      <td>40.0</td>\n",
       "      <td>0.0</td>\n",
       "      <td>0.121876</td>\n",
       "      <td>2600.0</td>\n",
       "      <td>4.0</td>\n",
       "      <td>0.0</td>\n",
       "      <td>0.0</td>\n",
       "      <td>0.0</td>\n",
       "      <td>1.0</td>\n",
       "    </tr>\n",
       "    <tr>\n",
       "      <th>2</th>\n",
       "      <td>0</td>\n",
       "      <td>0.658180</td>\n",
       "      <td>38.0</td>\n",
       "      <td>1.0</td>\n",
       "      <td>0.085113</td>\n",
       "      <td>3042.0</td>\n",
       "      <td>2.0</td>\n",
       "      <td>1.0</td>\n",
       "      <td>0.0</td>\n",
       "      <td>0.0</td>\n",
       "      <td>0.0</td>\n",
       "    </tr>\n",
       "    <tr>\n",
       "      <th>3</th>\n",
       "      <td>0</td>\n",
       "      <td>0.233810</td>\n",
       "      <td>30.0</td>\n",
       "      <td>0.0</td>\n",
       "      <td>0.036050</td>\n",
       "      <td>3300.0</td>\n",
       "      <td>5.0</td>\n",
       "      <td>0.0</td>\n",
       "      <td>0.0</td>\n",
       "      <td>0.0</td>\n",
       "      <td>0.0</td>\n",
       "    </tr>\n",
       "    <tr>\n",
       "      <th>4</th>\n",
       "      <td>0</td>\n",
       "      <td>0.907239</td>\n",
       "      <td>49.0</td>\n",
       "      <td>1.0</td>\n",
       "      <td>0.024926</td>\n",
       "      <td>63588.0</td>\n",
       "      <td>7.0</td>\n",
       "      <td>0.0</td>\n",
       "      <td>1.0</td>\n",
       "      <td>0.0</td>\n",
       "      <td>0.0</td>\n",
       "    </tr>\n",
       "  </tbody>\n",
       "</table>\n",
       "</div>"
      ],
      "text/plain": [
       "   SeriousDlqin2yrs  RevolvingUtilizationOfUnsecuredLines   age  \\\n",
       "0                 1                              0.766127  45.0   \n",
       "1                 0                              0.957151  40.0   \n",
       "2                 0                              0.658180  38.0   \n",
       "3                 0                              0.233810  30.0   \n",
       "4                 0                              0.907239  49.0   \n",
       "\n",
       "   NumberOfTime30-59DaysPastDueNotWorse  DebtRatio  MonthlyIncome  \\\n",
       "0                                   2.0   0.802982         9120.0   \n",
       "1                                   0.0   0.121876         2600.0   \n",
       "2                                   1.0   0.085113         3042.0   \n",
       "3                                   0.0   0.036050         3300.0   \n",
       "4                                   1.0   0.024926        63588.0   \n",
       "\n",
       "   NumberOfOpenCreditLinesAndLoans  NumberOfTimes90DaysLate  \\\n",
       "0                             13.0                      0.0   \n",
       "1                              4.0                      0.0   \n",
       "2                              2.0                      1.0   \n",
       "3                              5.0                      0.0   \n",
       "4                              7.0                      0.0   \n",
       "\n",
       "   NumberRealEstateLoansOrLines  NumberOfTime60-89DaysPastDueNotWorse  \\\n",
       "0                           6.0                                   0.0   \n",
       "1                           0.0                                   0.0   \n",
       "2                           0.0                                   0.0   \n",
       "3                           0.0                                   0.0   \n",
       "4                           1.0                                   0.0   \n",
       "\n",
       "   NumberOfDependents  \n",
       "0                 2.0  \n",
       "1                 1.0  \n",
       "2                 0.0  \n",
       "3                 0.0  \n",
       "4                 0.0  "
      ]
     },
     "execution_count": 1,
     "metadata": {},
     "output_type": "execute_result"
    }
   ],
   "source": [
    "import pandas as pd\n",
    "pd.set_option('display.max_columns', 500)\n",
    "import zipfile\n",
    "with zipfile.ZipFile('/home/sxy-s3/0.Teacher/Exam/KaggleCredit2.csv.zip', 'r') as z:\n",
    "    f = z.open('KaggleCredit2.csv')\n",
    "    data = pd.read_csv(f, index_col=0)\n",
    "data.head()"
   ]
  },
  {
   "cell_type": "code",
   "execution_count": 2,
   "metadata": {},
   "outputs": [
    {
     "data": {
      "text/plain": [
       "(112915, 11)"
      ]
     },
     "execution_count": 2,
     "metadata": {},
     "output_type": "execute_result"
    }
   ],
   "source": [
    "data.shape"
   ]
  },
  {
   "cell_type": "code",
   "execution_count": 3,
   "metadata": {
    "scrolled": true
   },
   "outputs": [
    {
     "data": {
      "text/plain": [
       "SeriousDlqin2yrs                           0\n",
       "RevolvingUtilizationOfUnsecuredLines       0\n",
       "age                                     4267\n",
       "NumberOfTime30-59DaysPastDueNotWorse       0\n",
       "DebtRatio                                  0\n",
       "MonthlyIncome                              0\n",
       "NumberOfOpenCreditLinesAndLoans            0\n",
       "NumberOfTimes90DaysLate                    0\n",
       "NumberRealEstateLoansOrLines               0\n",
       "NumberOfTime60-89DaysPastDueNotWorse       0\n",
       "NumberOfDependents                      4267\n",
       "dtype: int64"
      ]
     },
     "execution_count": 3,
     "metadata": {},
     "output_type": "execute_result"
    }
   ],
   "source": [
    "data.isnull().sum(axis=0)"
   ]
  },
  {
   "cell_type": "code",
   "execution_count": 4,
   "metadata": {},
   "outputs": [
    {
     "data": {
      "text/plain": [
       "0.06744896603639906"
      ]
     },
     "execution_count": 4,
     "metadata": {},
     "output_type": "execute_result"
    }
   ],
   "source": [
    "y = data['SeriousDlqin2yrs']\n",
    "X = data.drop('SeriousDlqin2yrs', axis=1)\n",
    "y.mean()"
   ]
  },
  {
   "cell_type": "code",
   "execution_count": 5,
   "metadata": {},
   "outputs": [
    {
     "data": {
      "text/plain": [
       "(112915, 10)"
      ]
     },
     "execution_count": 5,
     "metadata": {},
     "output_type": "execute_result"
    }
   ],
   "source": [
    "X.shape"
   ]
  },
  {
   "cell_type": "code",
   "execution_count": 6,
   "metadata": {},
   "outputs": [
    {
     "data": {
      "text/plain": [
       "(112915,)"
      ]
     },
     "execution_count": 6,
     "metadata": {},
     "output_type": "execute_result"
    }
   ],
   "source": [
    "y.shape"
   ]
  },
  {
   "cell_type": "markdown",
   "metadata": {},
   "source": [
    "### 特征处理"
   ]
  },
  {
   "cell_type": "code",
   "execution_count": 7,
   "metadata": {},
   "outputs": [
    {
     "data": {
      "text/plain": [
       "RevolvingUtilizationOfUnsecuredLines    0\n",
       "age                                     0\n",
       "NumberOfTime30-59DaysPastDueNotWorse    0\n",
       "DebtRatio                               0\n",
       "MonthlyIncome                           0\n",
       "NumberOfOpenCreditLinesAndLoans         0\n",
       "NumberOfTimes90DaysLate                 0\n",
       "NumberRealEstateLoansOrLines            0\n",
       "NumberOfTime60-89DaysPastDueNotWorse    0\n",
       "NumberOfDependents                      0\n",
       "dtype: int64"
      ]
     },
     "execution_count": 7,
     "metadata": {},
     "output_type": "execute_result"
    }
   ],
   "source": [
    "# 缺失值填充\n",
    "X['age'].fillna(value=X['age'].median(),inplace=True)\n",
    "X['NumberOfDependents'].ffill(inplace=True)\n",
    "X.isnull().sum()"
   ]
  },
  {
   "cell_type": "code",
   "execution_count": 8,
   "metadata": {},
   "outputs": [
    {
     "data": {
      "text/html": [
       "<div>\n",
       "<style scoped>\n",
       "    .dataframe tbody tr th:only-of-type {\n",
       "        vertical-align: middle;\n",
       "    }\n",
       "\n",
       "    .dataframe tbody tr th {\n",
       "        vertical-align: top;\n",
       "    }\n",
       "\n",
       "    .dataframe thead th {\n",
       "        text-align: right;\n",
       "    }\n",
       "</style>\n",
       "<table border=\"1\" class=\"dataframe\">\n",
       "  <thead>\n",
       "    <tr style=\"text-align: right;\">\n",
       "      <th></th>\n",
       "      <th>RevolvingUtilizationOfUnsecuredLines</th>\n",
       "      <th>age</th>\n",
       "      <th>NumberOfTime30-59DaysPastDueNotWorse</th>\n",
       "      <th>DebtRatio</th>\n",
       "      <th>MonthlyIncome</th>\n",
       "      <th>NumberOfOpenCreditLinesAndLoans</th>\n",
       "      <th>NumberOfTimes90DaysLate</th>\n",
       "      <th>NumberRealEstateLoansOrLines</th>\n",
       "      <th>NumberOfTime60-89DaysPastDueNotWorse</th>\n",
       "      <th>NumberOfDependents</th>\n",
       "      <th>RUOU_std</th>\n",
       "      <th>MI_std</th>\n",
       "      <th>age_mms</th>\n",
       "      <th>NOT30DPDNW_mms</th>\n",
       "      <th>NOOCLAL_mms</th>\n",
       "      <th>NOTDL_mms</th>\n",
       "      <th>NRELOL_mms</th>\n",
       "      <th>NOT60DPDNW_mms</th>\n",
       "      <th>NOD_mms</th>\n",
       "    </tr>\n",
       "  </thead>\n",
       "  <tbody>\n",
       "    <tr>\n",
       "      <th>0</th>\n",
       "      <td>0.766127</td>\n",
       "      <td>45.0</td>\n",
       "      <td>2.0</td>\n",
       "      <td>0.802982</td>\n",
       "      <td>9120.0</td>\n",
       "      <td>13.0</td>\n",
       "      <td>0.0</td>\n",
       "      <td>6.0</td>\n",
       "      <td>0.0</td>\n",
       "      <td>2.0</td>\n",
       "      <td>-0.019841</td>\n",
       "      <td>0.146138</td>\n",
       "      <td>0.436893</td>\n",
       "      <td>0.020408</td>\n",
       "      <td>0.228070</td>\n",
       "      <td>0.000000</td>\n",
       "      <td>0.206897</td>\n",
       "      <td>0.0</td>\n",
       "      <td>0.10</td>\n",
       "    </tr>\n",
       "    <tr>\n",
       "      <th>1</th>\n",
       "      <td>0.957151</td>\n",
       "      <td>40.0</td>\n",
       "      <td>0.0</td>\n",
       "      <td>0.121876</td>\n",
       "      <td>2600.0</td>\n",
       "      <td>4.0</td>\n",
       "      <td>0.0</td>\n",
       "      <td>0.0</td>\n",
       "      <td>0.0</td>\n",
       "      <td>1.0</td>\n",
       "      <td>-0.019092</td>\n",
       "      <td>-0.294943</td>\n",
       "      <td>0.388350</td>\n",
       "      <td>0.000000</td>\n",
       "      <td>0.070175</td>\n",
       "      <td>0.000000</td>\n",
       "      <td>0.000000</td>\n",
       "      <td>0.0</td>\n",
       "      <td>0.05</td>\n",
       "    </tr>\n",
       "    <tr>\n",
       "      <th>2</th>\n",
       "      <td>0.658180</td>\n",
       "      <td>38.0</td>\n",
       "      <td>1.0</td>\n",
       "      <td>0.085113</td>\n",
       "      <td>3042.0</td>\n",
       "      <td>2.0</td>\n",
       "      <td>1.0</td>\n",
       "      <td>0.0</td>\n",
       "      <td>0.0</td>\n",
       "      <td>0.0</td>\n",
       "      <td>-0.020264</td>\n",
       "      <td>-0.265042</td>\n",
       "      <td>0.368932</td>\n",
       "      <td>0.010204</td>\n",
       "      <td>0.035088</td>\n",
       "      <td>0.010204</td>\n",
       "      <td>0.000000</td>\n",
       "      <td>0.0</td>\n",
       "      <td>0.00</td>\n",
       "    </tr>\n",
       "    <tr>\n",
       "      <th>3</th>\n",
       "      <td>0.233810</td>\n",
       "      <td>30.0</td>\n",
       "      <td>0.0</td>\n",
       "      <td>0.036050</td>\n",
       "      <td>3300.0</td>\n",
       "      <td>5.0</td>\n",
       "      <td>0.0</td>\n",
       "      <td>0.0</td>\n",
       "      <td>0.0</td>\n",
       "      <td>0.0</td>\n",
       "      <td>-0.021929</td>\n",
       "      <td>-0.247588</td>\n",
       "      <td>0.291262</td>\n",
       "      <td>0.000000</td>\n",
       "      <td>0.087719</td>\n",
       "      <td>0.000000</td>\n",
       "      <td>0.000000</td>\n",
       "      <td>0.0</td>\n",
       "      <td>0.00</td>\n",
       "    </tr>\n",
       "    <tr>\n",
       "      <th>4</th>\n",
       "      <td>0.907239</td>\n",
       "      <td>49.0</td>\n",
       "      <td>1.0</td>\n",
       "      <td>0.024926</td>\n",
       "      <td>63588.0</td>\n",
       "      <td>7.0</td>\n",
       "      <td>0.0</td>\n",
       "      <td>1.0</td>\n",
       "      <td>0.0</td>\n",
       "      <td>0.0</td>\n",
       "      <td>-0.019287</td>\n",
       "      <td>3.830924</td>\n",
       "      <td>0.475728</td>\n",
       "      <td>0.010204</td>\n",
       "      <td>0.122807</td>\n",
       "      <td>0.000000</td>\n",
       "      <td>0.034483</td>\n",
       "      <td>0.0</td>\n",
       "      <td>0.00</td>\n",
       "    </tr>\n",
       "  </tbody>\n",
       "</table>\n",
       "</div>"
      ],
      "text/plain": [
       "   RevolvingUtilizationOfUnsecuredLines   age  \\\n",
       "0                              0.766127  45.0   \n",
       "1                              0.957151  40.0   \n",
       "2                              0.658180  38.0   \n",
       "3                              0.233810  30.0   \n",
       "4                              0.907239  49.0   \n",
       "\n",
       "   NumberOfTime30-59DaysPastDueNotWorse  DebtRatio  MonthlyIncome  \\\n",
       "0                                   2.0   0.802982         9120.0   \n",
       "1                                   0.0   0.121876         2600.0   \n",
       "2                                   1.0   0.085113         3042.0   \n",
       "3                                   0.0   0.036050         3300.0   \n",
       "4                                   1.0   0.024926        63588.0   \n",
       "\n",
       "   NumberOfOpenCreditLinesAndLoans  NumberOfTimes90DaysLate  \\\n",
       "0                             13.0                      0.0   \n",
       "1                              4.0                      0.0   \n",
       "2                              2.0                      1.0   \n",
       "3                              5.0                      0.0   \n",
       "4                              7.0                      0.0   \n",
       "\n",
       "   NumberRealEstateLoansOrLines  NumberOfTime60-89DaysPastDueNotWorse  \\\n",
       "0                           6.0                                   0.0   \n",
       "1                           0.0                                   0.0   \n",
       "2                           0.0                                   0.0   \n",
       "3                           0.0                                   0.0   \n",
       "4                           1.0                                   0.0   \n",
       "\n",
       "   NumberOfDependents  RUOU_std    MI_std   age_mms  NOT30DPDNW_mms  \\\n",
       "0                 2.0 -0.019841  0.146138  0.436893        0.020408   \n",
       "1                 1.0 -0.019092 -0.294943  0.388350        0.000000   \n",
       "2                 0.0 -0.020264 -0.265042  0.368932        0.010204   \n",
       "3                 0.0 -0.021929 -0.247588  0.291262        0.000000   \n",
       "4                 0.0 -0.019287  3.830924  0.475728        0.010204   \n",
       "\n",
       "   NOOCLAL_mms  NOTDL_mms  NRELOL_mms  NOT60DPDNW_mms  NOD_mms  \n",
       "0     0.228070   0.000000    0.206897             0.0     0.10  \n",
       "1     0.070175   0.000000    0.000000             0.0     0.05  \n",
       "2     0.035088   0.010204    0.000000             0.0     0.00  \n",
       "3     0.087719   0.000000    0.000000             0.0     0.00  \n",
       "4     0.122807   0.000000    0.034483             0.0     0.00  "
      ]
     },
     "execution_count": 8,
     "metadata": {},
     "output_type": "execute_result"
    }
   ],
   "source": [
    "# 对连续特征值做幅度缩放\n",
    "from sklearn.preprocessing import StandardScaler\n",
    "stdsc = StandardScaler()\n",
    "X['RUOU_std'] = stdsc.fit_transform(X[['RevolvingUtilizationOfUnsecuredLines']])\n",
    "X['MI_std'] = stdsc.fit_transform(X[['MonthlyIncome']])\n",
    "\n",
    "from sklearn.preprocessing import MinMaxScaler\n",
    "mms = MinMaxScaler()\n",
    "X['age_mms'] = mms.fit_transform(X[['age']])\n",
    "X['NOT30DPDNW_mms'] = mms.fit_transform(X[['NumberOfTime30-59DaysPastDueNotWorse']])\n",
    "X['NOOCLAL_mms'] = mms.fit_transform(X[['NumberOfOpenCreditLinesAndLoans']])\n",
    "X['NOTDL_mms'] = mms.fit_transform(X[['NumberOfTimes90DaysLate']])\n",
    "X['NRELOL_mms'] = mms.fit_transform(X[['NumberRealEstateLoansOrLines']])\n",
    "X['NOT60DPDNW_mms'] = mms.fit_transform(X[['NumberOfTime60-89DaysPastDueNotWorse']])\n",
    "X['NOD_mms'] = mms.fit_transform(X[['NumberOfDependents']])\n",
    "X.head()"
   ]
  },
  {
   "cell_type": "code",
   "execution_count": 9,
   "metadata": {},
   "outputs": [
    {
     "data": {
      "text/html": [
       "<div>\n",
       "<style scoped>\n",
       "    .dataframe tbody tr th:only-of-type {\n",
       "        vertical-align: middle;\n",
       "    }\n",
       "\n",
       "    .dataframe tbody tr th {\n",
       "        vertical-align: top;\n",
       "    }\n",
       "\n",
       "    .dataframe thead th {\n",
       "        text-align: right;\n",
       "    }\n",
       "</style>\n",
       "<table border=\"1\" class=\"dataframe\">\n",
       "  <thead>\n",
       "    <tr style=\"text-align: right;\">\n",
       "      <th></th>\n",
       "      <th>DebtRatio</th>\n",
       "      <th>RUOU_std</th>\n",
       "      <th>MI_std</th>\n",
       "      <th>age_mms</th>\n",
       "      <th>NOT30DPDNW_mms</th>\n",
       "      <th>NOOCLAL_mms</th>\n",
       "      <th>NOTDL_mms</th>\n",
       "      <th>NRELOL_mms</th>\n",
       "      <th>NOT60DPDNW_mms</th>\n",
       "      <th>NOD_mms</th>\n",
       "    </tr>\n",
       "  </thead>\n",
       "  <tbody>\n",
       "    <tr>\n",
       "      <th>0</th>\n",
       "      <td>0.802982</td>\n",
       "      <td>-0.019841</td>\n",
       "      <td>0.146138</td>\n",
       "      <td>0.436893</td>\n",
       "      <td>0.020408</td>\n",
       "      <td>0.228070</td>\n",
       "      <td>0.000000</td>\n",
       "      <td>0.206897</td>\n",
       "      <td>0.0</td>\n",
       "      <td>0.10</td>\n",
       "    </tr>\n",
       "    <tr>\n",
       "      <th>1</th>\n",
       "      <td>0.121876</td>\n",
       "      <td>-0.019092</td>\n",
       "      <td>-0.294943</td>\n",
       "      <td>0.388350</td>\n",
       "      <td>0.000000</td>\n",
       "      <td>0.070175</td>\n",
       "      <td>0.000000</td>\n",
       "      <td>0.000000</td>\n",
       "      <td>0.0</td>\n",
       "      <td>0.05</td>\n",
       "    </tr>\n",
       "    <tr>\n",
       "      <th>2</th>\n",
       "      <td>0.085113</td>\n",
       "      <td>-0.020264</td>\n",
       "      <td>-0.265042</td>\n",
       "      <td>0.368932</td>\n",
       "      <td>0.010204</td>\n",
       "      <td>0.035088</td>\n",
       "      <td>0.010204</td>\n",
       "      <td>0.000000</td>\n",
       "      <td>0.0</td>\n",
       "      <td>0.00</td>\n",
       "    </tr>\n",
       "    <tr>\n",
       "      <th>3</th>\n",
       "      <td>0.036050</td>\n",
       "      <td>-0.021929</td>\n",
       "      <td>-0.247588</td>\n",
       "      <td>0.291262</td>\n",
       "      <td>0.000000</td>\n",
       "      <td>0.087719</td>\n",
       "      <td>0.000000</td>\n",
       "      <td>0.000000</td>\n",
       "      <td>0.0</td>\n",
       "      <td>0.00</td>\n",
       "    </tr>\n",
       "    <tr>\n",
       "      <th>4</th>\n",
       "      <td>0.024926</td>\n",
       "      <td>-0.019287</td>\n",
       "      <td>3.830924</td>\n",
       "      <td>0.475728</td>\n",
       "      <td>0.010204</td>\n",
       "      <td>0.122807</td>\n",
       "      <td>0.000000</td>\n",
       "      <td>0.034483</td>\n",
       "      <td>0.0</td>\n",
       "      <td>0.00</td>\n",
       "    </tr>\n",
       "  </tbody>\n",
       "</table>\n",
       "</div>"
      ],
      "text/plain": [
       "   DebtRatio  RUOU_std    MI_std   age_mms  NOT30DPDNW_mms  NOOCLAL_mms  \\\n",
       "0   0.802982 -0.019841  0.146138  0.436893        0.020408     0.228070   \n",
       "1   0.121876 -0.019092 -0.294943  0.388350        0.000000     0.070175   \n",
       "2   0.085113 -0.020264 -0.265042  0.368932        0.010204     0.035088   \n",
       "3   0.036050 -0.021929 -0.247588  0.291262        0.000000     0.087719   \n",
       "4   0.024926 -0.019287  3.830924  0.475728        0.010204     0.122807   \n",
       "\n",
       "   NOTDL_mms  NRELOL_mms  NOT60DPDNW_mms  NOD_mms  \n",
       "0   0.000000    0.206897             0.0     0.10  \n",
       "1   0.000000    0.000000             0.0     0.05  \n",
       "2   0.010204    0.000000             0.0     0.00  \n",
       "3   0.000000    0.000000             0.0     0.00  \n",
       "4   0.000000    0.034483             0.0     0.00  "
      ]
     },
     "execution_count": 9,
     "metadata": {},
     "output_type": "execute_result"
    }
   ],
   "source": [
    "X_scale = X.drop(['RevolvingUtilizationOfUnsecuredLines',\n",
    "                   'MonthlyIncome','age','NumberOfTime30-59DaysPastDueNotWorse',\n",
    "                  'NumberOfOpenCreditLinesAndLoans','NumberOfTimes90DaysLate',\n",
    "                  'NumberRealEstateLoansOrLines',\n",
    "                   'NumberOfTime60-89DaysPastDueNotWorse','NumberOfDependents'],axis=1)\n",
    "X_scale.head()"
   ]
  },
  {
   "cell_type": "code",
   "execution_count": 10,
   "metadata": {},
   "outputs": [
    {
     "data": {
      "text/plain": [
       "(112915, 10)"
      ]
     },
     "execution_count": 10,
     "metadata": {},
     "output_type": "execute_result"
    }
   ],
   "source": [
    "X_scale.shape"
   ]
  },
  {
   "cell_type": "markdown",
   "metadata": {
    "collapsed": true
   },
   "source": [
    "- 1.把数据切分成训练集和测试集"
   ]
  },
  {
   "cell_type": "code",
   "execution_count": 11,
   "metadata": {
    "collapsed": true
   },
   "outputs": [],
   "source": [
    "from distutils.version import LooseVersion as Version\n",
    "from sklearn import __version__ as sklearn_version\n",
    "\n",
    "if Version(sklearn_version) < '0.18':\n",
    "    from sklearn.cross_validation import train_test_split\n",
    "else:\n",
    "    from sklearn.model_selection import train_test_split\n",
    "    \n",
    "X_train,X_test,y_train,y_test = train_test_split(X_scale,y,test_size=0.3,random_state=42)"
   ]
  },
  {
   "cell_type": "markdown",
   "metadata": {},
   "source": [
    "- 2.使用logistic regression建模，并且输出一下系数，分析重要度。   "
   ]
  },
  {
   "cell_type": "code",
   "execution_count": 12,
   "metadata": {},
   "outputs": [
    {
     "data": {
      "text/plain": [
       "LogisticRegression(C=1.0, class_weight=None, dual=False, fit_intercept=True,\n",
       "          intercept_scaling=1, max_iter=100, multi_class='ovr', n_jobs=1,\n",
       "          penalty='l2', random_state=None, solver='liblinear', tol=0.0001,\n",
       "          verbose=0, warm_start=False)"
      ]
     },
     "execution_count": 12,
     "metadata": {},
     "output_type": "execute_result"
    }
   ],
   "source": [
    "from sklearn.linear_model import LogisticRegression\n",
    "log_reg = LogisticRegression()\n",
    "# log_reg = LogisticRegression(C=0.1)\n",
    "log_reg.fit(X_train,y_train)"
   ]
  },
  {
   "cell_type": "code",
   "execution_count": 13,
   "metadata": {},
   "outputs": [
    {
     "data": {
      "text/plain": [
       "array([[ 1.43539004, -0.02313205, -0.15142919, -2.63755828,  8.89298272,\n",
       "        -1.38629688,  3.65358123, -4.01189881, -8.55685841,  1.9578994 ]])"
      ]
     },
     "execution_count": 13,
     "metadata": {},
     "output_type": "execute_result"
    }
   ],
   "source": [
    "log_reg.coef_"
   ]
  },
  {
   "cell_type": "code",
   "execution_count": 14,
   "metadata": {},
   "outputs": [
    {
     "data": {
      "text/plain": [
       "array([-1.63613529])"
      ]
     },
     "execution_count": 14,
     "metadata": {},
     "output_type": "execute_result"
    }
   ],
   "source": [
    "log_reg.intercept_"
   ]
  },
  {
   "cell_type": "markdown",
   "metadata": {},
   "source": [
    "- 3.使用决策树/SVM/KNN...等sklearn分类算法进行分类，尝试了解参数含义，调整不同的参数。"
   ]
  },
  {
   "cell_type": "code",
   "execution_count": 15,
   "metadata": {},
   "outputs": [
    {
     "name": "stdout",
     "output_type": "stream",
     "text": [
      "MAE train: 0.068, test: 0.065\n",
      "MSE train: 0.068, test: 0.065\n",
      "R^2 train: -0.070, test: -0.066\n",
      "accuracy train: 0.932, test: 0.935\n"
     ]
    }
   ],
   "source": [
    "from sklearn.metrics import r2_score\n",
    "from sklearn.metrics import mean_squared_error\n",
    "from sklearn.metrics import mean_absolute_error\n",
    "from sklearn.metrics import accuracy_score\n",
    "\n",
    "y_test_pred = log_reg.predict(X_test)\n",
    "y_train_pred = log_reg.predict(X_train)\n",
    "\n",
    "print('MAE train: %.3f, test: %.3f' % (\n",
    "        mean_absolute_error(y_train, y_train_pred),\n",
    "        mean_absolute_error(y_test, y_test_pred)))\n",
    "print('MSE train: %.3f, test: %.3f' % (\n",
    "        mean_squared_error(y_train, y_train_pred),\n",
    "        mean_squared_error(y_test, y_test_pred)))\n",
    "print('R^2 train: %.3f, test: %.3f' % (\n",
    "        r2_score(y_train, y_train_pred),\n",
    "        r2_score(y_test, y_test_pred)))\n",
    "print('accuracy train: %.3f, test: %.3f' % (\n",
    "        accuracy_score(y_train, y_train_pred),\n",
    "        accuracy_score(y_test, y_test_pred)))"
   ]
  },
  {
   "cell_type": "markdown",
   "metadata": {},
   "source": [
    "- 4.在测试集上进行预测，计算准确度"
   ]
  },
  {
   "cell_type": "code",
   "execution_count": 16,
   "metadata": {},
   "outputs": [
    {
     "name": "stdout",
     "output_type": "stream",
     "text": [
      "MSE train: 0.065, test: 0.064\n",
      "R^2 train: -0.029, test: -0.040\n",
      "accuracy train: 0.935, test: 0.936\n"
     ]
    }
   ],
   "source": [
    "#决策树\n",
    "from sklearn.tree import DecisionTreeClassifier\n",
    "\n",
    "tree = DecisionTreeClassifier(criterion='entropy',max_depth=3,random_state=0)\n",
    "tree.fit(X_train,y_train)\n",
    "\n",
    "y_test_pred = tree.predict(X_test)\n",
    "y_train_pred = tree.predict(X_train)\n",
    "\n",
    "print('MSE train: %.3f, test: %.3f' % (\n",
    "        mean_squared_error(y_train, y_train_pred),\n",
    "        mean_squared_error(y_test, y_test_pred)))\n",
    "print('R^2 train: %.3f, test: %.3f' % (\n",
    "        r2_score(y_train, y_train_pred),\n",
    "        r2_score(y_test, y_test_pred)))\n",
    "print('accuracy train: %.3f, test: %.3f' % (\n",
    "        accuracy_score(y_train, y_train_pred),\n",
    "        accuracy_score(y_test, y_test_pred)))"
   ]
  },
  {
   "cell_type": "code",
   "execution_count": 17,
   "metadata": {},
   "outputs": [
    {
     "name": "stdout",
     "output_type": "stream",
     "text": [
      "MSE train: 0.057, test: 0.066\n",
      "R^2 train: 0.104, test: -0.081\n",
      "accuracy train: 0.943, test: 0.934\n"
     ]
    }
   ],
   "source": [
    "#决策树\n",
    "from sklearn.tree import DecisionTreeClassifier\n",
    "\n",
    "tree = DecisionTreeClassifier(criterion='entropy',max_depth=10,random_state=0)\n",
    "tree.fit(X_train,y_train)\n",
    "\n",
    "y_test_pred = tree.predict(X_test)\n",
    "y_train_pred = tree.predict(X_train)\n",
    "\n",
    "print('MSE train: %.3f, test: %.3f' % (\n",
    "        mean_squared_error(y_train, y_train_pred),\n",
    "        mean_squared_error(y_test, y_test_pred)))\n",
    "print('R^2 train: %.3f, test: %.3f' % (\n",
    "        r2_score(y_train, y_train_pred),\n",
    "        r2_score(y_test, y_test_pred)))\n",
    "print('accuracy train: %.3f, test: %.3f' % (\n",
    "        accuracy_score(y_train, y_train_pred),\n",
    "        accuracy_score(y_test, y_test_pred)))"
   ]
  },
  {
   "cell_type": "code",
   "execution_count": null,
   "metadata": {
    "collapsed": true
   },
   "outputs": [],
   "source": [
    "#SVM\n",
    "from sklearn.svm import SVC\n",
    "\n",
    "svm = SVC(kernel='rbf', random_state=0, gamma=0.2, C=1.0)\n",
    "svm.fit(X_train, y_train)\n",
    "\n",
    "y_test_pred = svm.predict(X_test)\n",
    "y_train_pred = svm.predict(X_train)\n",
    "\n",
    "print('MSE train: %.3f, test: %.3f' % (\n",
    "        mean_squared_error(y_train, y_train_pred),\n",
    "        mean_squared_error(y_test, y_test_pred)))\n",
    "print('R^2 train: %.3f, test: %.3f' % (\n",
    "        r2_score(y_train, y_train_pred),\n",
    "        r2_score(y_test, y_test_pred)))\n",
    "print('accuracy train: %.3f, test: %.3f' % (\n",
    "        accuracy_score(y_train, y_train_pred),\n",
    "        accuracy_score(y_test, y_test_pred)))"
   ]
  },
  {
   "cell_type": "code",
   "execution_count": 115,
   "metadata": {},
   "outputs": [
    {
     "name": "stdout",
     "output_type": "stream",
     "text": [
      "MSE train: 0.068, test: 0.066\n",
      "R^2 train: -0.073, test: -0.070\n"
     ]
    }
   ],
   "source": [
    "#SVM\n",
    "from sklearn.svm import SVC\n",
    "\n",
    "svm = SVC(kernel='rbf', random_state=0, gamma=0.2, C=0.01)\n",
    "svm.fit(X_train, y_train)\n",
    "\n",
    "y_test_pred = svm.predict(X_test)\n",
    "y_train_pred = svm.predict(X_train)\n",
    "\n",
    "print('MSE train: %.3f, test: %.3f' % (\n",
    "        mean_squared_error(y_train, y_train_pred),\n",
    "        mean_squared_error(y_test, y_test_pred)))\n",
    "print('R^2 train: %.3f, test: %.3f' % (\n",
    "        r2_score(y_train, y_train_pred),\n",
    "        r2_score(y_test, y_test_pred)))"
   ]
  },
  {
   "cell_type": "code",
   "execution_count": 113,
   "metadata": {},
   "outputs": [
    {
     "name": "stdout",
     "output_type": "stream",
     "text": [
      "MSE train: 0.068, test: 0.066\n",
      "R^2 train: -0.073, test: -0.070\n",
      "accuracy train: 0.932, test: 0.934\n"
     ]
    }
   ],
   "source": [
    "#SVM\n",
    "from sklearn.svm import SVC\n",
    "\n",
    "svm = SVC(kernel='rbf', random_state=0, gamma=0.2, C=0.001)\n",
    "svm.fit(X_train, y_train)\n",
    "\n",
    "y_test_pred = svm.predict(X_test)\n",
    "y_train_pred = svm.predict(X_train)\n",
    "\n",
    "print('MSE train: %.3f, test: %.3f' % (\n",
    "        mean_squared_error(y_train, y_train_pred),\n",
    "        mean_squared_error(y_test, y_test_pred)))\n",
    "print('R^2 train: %.3f, test: %.3f' % (\n",
    "        r2_score(y_train, y_train_pred),\n",
    "        r2_score(y_test, y_test_pred)))\n",
    "print('accuracy train: %.3f, test: %.3f' % (\n",
    "        accuracy_score(y_train, y_train_pred),\n",
    "        accuracy_score(y_test, y_test_pred)))"
   ]
  },
  {
   "cell_type": "code",
   "execution_count": 112,
   "metadata": {},
   "outputs": [
    {
     "name": "stdout",
     "output_type": "stream",
     "text": [
      "MSE train: 0.065, test: 0.068\n",
      "R^2 train: -0.022, test: -0.104\n",
      "accuracy train: 0.935, test: 0.932\n"
     ]
    }
   ],
   "source": [
    "#KNN\n",
    "from sklearn.neighbors import KNeighborsClassifier\n",
    "\n",
    "knn = KNeighborsClassifier(n_neighbors=5,p=2,metric='minkowski')\n",
    "knn.fit(X_train,y_train)\n",
    "\n",
    "y_test_pred = knn.predict(X_test)\n",
    "y_train_pred = knn.predict(X_train)\n",
    "\n",
    "print('MSE train: %.3f, test: %.3f' % (\n",
    "        mean_squared_error(y_train, y_train_pred),\n",
    "        mean_squared_error(y_test, y_test_pred)))\n",
    "print('R^2 train: %.3f, test: %.3f' % (\n",
    "        r2_score(y_train, y_train_pred),\n",
    "        r2_score(y_test, y_test_pred)))\n",
    "print('accuracy train: %.3f, test: %.3f' % (\n",
    "        accuracy_score(y_train, y_train_pred),\n",
    "        accuracy_score(y_test, y_test_pred)))"
   ]
  },
  {
   "cell_type": "code",
   "execution_count": 111,
   "metadata": {},
   "outputs": [
    {
     "name": "stdout",
     "output_type": "stream",
     "text": [
      "MSE train: 0.065, test: 0.068\n",
      "R^2 train: -0.018, test: -0.115\n",
      "accuracy train: 0.935, test: 0.932\n"
     ]
    }
   ],
   "source": [
    "#KNN\n",
    "from sklearn.neighbors import KNeighborsClassifier\n",
    "\n",
    "knn = KNeighborsClassifier(n_neighbors=5,p=3,metric='minkowski')\n",
    "knn.fit(X_train,y_train)\n",
    "\n",
    "y_test_pred = knn.predict(X_test)\n",
    "y_train_pred = knn.predict(X_train)\n",
    "\n",
    "print('MSE train: %.3f, test: %.3f' % (\n",
    "        mean_squared_error(y_train, y_train_pred),\n",
    "        mean_squared_error(y_test, y_test_pred)))\n",
    "print('R^2 train: %.3f, test: %.3f' % (\n",
    "        r2_score(y_train, y_train_pred),\n",
    "        r2_score(y_test, y_test_pred)))\n",
    "print('accuracy train: %.3f, test: %.3f' % (\n",
    "        accuracy_score(y_train, y_train_pred),\n",
    "        accuracy_score(y_test, y_test_pred)))"
   ]
  },
  {
   "cell_type": "code",
   "execution_count": 110,
   "metadata": {},
   "outputs": [
    {
     "name": "stdout",
     "output_type": "stream",
     "text": [
      "MSE train: 0.060, test: 0.068\n",
      "R^2 train: 0.051, test: -0.115\n",
      "accuracy train: 0.940, test: 0.932\n"
     ]
    }
   ],
   "source": [
    "#KNN\n",
    "from sklearn.neighbors import KNeighborsClassifier\n",
    "\n",
    "knn = KNeighborsClassifier(n_neighbors=2,p=2,metric='minkowski')\n",
    "knn.fit(X_train,y_train)\n",
    "\n",
    "y_test_pred = knn.predict(X_test)\n",
    "y_train_pred = knn.predict(X_train)\n",
    "\n",
    "print('MSE train: %.3f, test: %.3f' % (\n",
    "        mean_squared_error(y_train, y_train_pred),\n",
    "        mean_squared_error(y_test, y_test_pred)))\n",
    "print('R^2 train: %.3f, test: %.3f' % (\n",
    "        r2_score(y_train, y_train_pred),\n",
    "        r2_score(y_test, y_test_pred)))\n",
    "print('accuracy train: %.3f, test: %.3f' % (\n",
    "        accuracy_score(y_train, y_train_pred),\n",
    "        accuracy_score(y_test, y_test_pred)))"
   ]
  },
  {
   "cell_type": "markdown",
   "metadata": {},
   "source": [
    "- 5.查看sklearn的官方说明，了解混淆矩阵等评估标准，并对此例进行评估。"
   ]
  },
  {
   "cell_type": "code",
   "execution_count": 18,
   "metadata": {},
   "outputs": [
    {
     "name": "stdout",
     "output_type": "stream",
     "text": [
      "accuracy train: 0.932, test: 0.935\n"
     ]
    },
    {
     "data": {
      "text/plain": [
       "array([[31637,    14],\n",
       "       [ 2201,    23]])"
      ]
     },
     "execution_count": 18,
     "metadata": {},
     "output_type": "execute_result"
    }
   ],
   "source": [
    "'''\n",
    "混淆矩阵  可以直观表现在正例和反例上的表现，\n",
    "包括真正例个数，假正例个数，假反例个数，真反例个数\n",
    "以及可以计算准确率，召回率。假反例的个数为2201，偏高，\n",
    "真反例的个数很低。\n",
    "'''\n",
    "from sklearn.metrics import confusion_matrix\n",
    "\n",
    "\n",
    "y_test_pred = log_reg.predict(X_test)\n",
    "y_train_pred = log_reg.predict(X_train)\n",
    "\n",
    "print('accuracy train: %.3f, test: %.3f' % (\n",
    "        accuracy_score(y_train, y_train_pred),\n",
    "        accuracy_score(y_test, y_test_pred)))\n",
    "\n",
    "confusion_matrix(y_test, y_test_pred)"
   ]
  },
  {
   "cell_type": "markdown",
   "metadata": {},
   "source": [
    "- 6.银行通常会有更严格的要求，因为fraud带来的后果通常比较严重，一般我们会调整模型的标准。   \n",
    "比如在logistic regression当中，一般我们的概率判定边界为0.5，但是我们可以把阈值设定低一些，来提高模型的“敏感度”   \n",
    "试试看把阈值设定为0.3，再看看这个时候的混淆矩阵等评估指标。"
   ]
  },
  {
   "cell_type": "code",
   "execution_count": 19,
   "metadata": {},
   "outputs": [
    {
     "data": {
      "text/plain": [
       "LogisticRegression(C=1.0, class_weight={0: 0.7, 1: 0.3}, dual=False,\n",
       "          fit_intercept=True, intercept_scaling=1, max_iter=100,\n",
       "          multi_class='ovr', n_jobs=1, penalty='l2', random_state=None,\n",
       "          solver='liblinear', tol=0.0001, verbose=0, warm_start=False)"
      ]
     },
     "execution_count": 19,
     "metadata": {},
     "output_type": "execute_result"
    }
   ],
   "source": [
    "log_reg = LogisticRegression(class_weight={0:0.7,1:0.3})\n",
    "log_reg.fit(X_train,y_train)"
   ]
  },
  {
   "cell_type": "code",
   "execution_count": 20,
   "metadata": {},
   "outputs": [
    {
     "name": "stdout",
     "output_type": "stream",
     "text": [
      "accuracy train: 0.932, test: 0.934\n"
     ]
    },
    {
     "data": {
      "text/plain": [
       "array([[31640,    11],\n",
       "       [ 2211,    13]])"
      ]
     },
     "execution_count": 20,
     "metadata": {},
     "output_type": "execute_result"
    }
   ],
   "source": [
    "# 修改敏感度之后，假反例的个数升高，\n",
    "# 真反例的个数降低，准确度基本不变。\n",
    "y_test_pred = log_reg.predict(X_test)\n",
    "y_train_pred = log_reg.predict(X_train)\n",
    "print('accuracy train: %.3f, test: %.3f' % (\n",
    "        accuracy_score(y_train, y_train_pred),\n",
    "        accuracy_score(y_test, y_test_pred)))\n",
    "\n",
    "confusion_matrix(y_test, y_test_pred)"
   ]
  },
  {
   "cell_type": "markdown",
   "metadata": {},
   "source": [
    "- 7.尝试对不同特征的重要度进行排序，通过特征选择的方式，对特征进行筛选。并重新建模，观察此时的模型准确率等评估指标。"
   ]
  },
  {
   "cell_type": "code",
   "execution_count": 23,
   "metadata": {},
   "outputs": [
    {
     "data": {
      "text/plain": [
       "RandomForestClassifier(bootstrap=True, class_weight=None, criterion='gini',\n",
       "            max_depth=None, max_features='auto', max_leaf_nodes=None,\n",
       "            min_impurity_split=1e-07, min_samples_leaf=1,\n",
       "            min_samples_split=2, min_weight_fraction_leaf=0.0,\n",
       "            n_estimators=10, n_jobs=-1, oob_score=False, random_state=0,\n",
       "            verbose=0, warm_start=False)"
      ]
     },
     "execution_count": 23,
     "metadata": {},
     "output_type": "execute_result"
    }
   ],
   "source": [
    "from sklearn.ensemble import RandomForestClassifier\n",
    "\n",
    "feat_labels = X_train.columns\n",
    "forest = RandomForestClassifier(n_estimators=10,\n",
    "                               random_state=0,\n",
    "                               n_jobs=-1)\n",
    "forest.fit(X_train,y_train)"
   ]
  },
  {
   "cell_type": "code",
   "execution_count": 22,
   "metadata": {},
   "outputs": [
    {
     "data": {
      "text/plain": [
       "array([ 0.17196004,  0.18949931,  0.16155268,  0.11889458,  0.04857167,\n",
       "        0.08869302,  0.11064335,  0.031732  ,  0.03192375,  0.04652961])"
      ]
     },
     "execution_count": 22,
     "metadata": {},
     "output_type": "execute_result"
    }
   ],
   "source": [
    "forest.feature_importances_"
   ]
  },
  {
   "cell_type": "code",
   "execution_count": 25,
   "metadata": {},
   "outputs": [
    {
     "name": "stdout",
     "output_type": "stream",
     "text": [
      " 1) RUOU_std                       0.189499\n",
      " 2) DebtRatio                      0.171960\n",
      " 3) MI_std                         0.161553\n",
      " 4) age_mms                        0.118895\n",
      " 5) NOTDL_mms                      0.110643\n",
      " 6) NOOCLAL_mms                    0.088693\n",
      " 7) NOT30DPDNW_mms                 0.048572\n",
      " 8) NOD_mms                        0.046530\n",
      " 9) NOT60DPDNW_mms                 0.031924\n",
      "10) NRELOL_mms                     0.031732\n"
     ]
    }
   ],
   "source": [
    "import numpy as np\n",
    "importances = forest.feature_importances_\n",
    "indices = np.argsort(importances)[::-1]# np.argsort返回从小到大排列所对应的索引值，对索引值逆序\n",
    "for f in range(X_train.shape[1]):\n",
    "    print('%2d) %-*s %f' % (f+1, 30, \n",
    "                            feat_labels[indices[f]],\n",
    "                            importances[indices[f]]))"
   ]
  },
  {
   "cell_type": "code",
   "execution_count": 38,
   "metadata": {},
   "outputs": [
    {
     "name": "stdout",
     "output_type": "stream",
     "text": [
      "accuracy train: 0.932, test: 0.935\n"
     ]
    },
    {
     "data": {
      "text/plain": [
       "array([[31637,    14],\n",
       "       [ 2201,    23]])"
      ]
     },
     "execution_count": 38,
     "metadata": {},
     "output_type": "execute_result"
    }
   ],
   "source": [
    "# 根据重要度排序 挑选排名前5的特征来进行训练\n",
    "X_sort6 = X_scale[['RUOU_std','DebtRatio','MI_std','age_mms','NOTDL_mms','NOOCLAL_mms']]\n",
    "X_train,X_test,y_train,y_test = train_test_split(X_sort6,y,test_size=0.3,random_state=42)\n",
    "\n",
    "log_reg=LogisticRegression()\n",
    "log_reg.fit(X_train,y_train)\n",
    "\n",
    "y_train_pred = log_reg.predict(X_train)\n",
    "y_test_pred = log_reg.predict(X_test)\n",
    "\n",
    "print('accuracy train: %.3f, test: %.3f' % (\n",
    "        accuracy_score(y_train, y_train_pred),\n",
    "        accuracy_score(y_test, y_test_pred)))\n",
    "\n",
    "confusion_matrix(y_test, y_test_pred)"
   ]
  },
  {
   "cell_type": "markdown",
   "metadata": {},
   "source": [
    "### 本阶段课程意见反馈题(5分送分项，非必答)\n",
    "#### 请同学围绕以下两点进行回答：\n",
    "- 自身总结：请您对您自己在本周课程的学习，收获，技能掌握等方面进行一次总结 ，也包括有哪些方面存在哪些不足，欠缺，困惑。作为将来回顾学习路径时的依据。\n"
   ]
  },
  {
   "cell_type": "markdown",
   "metadata": {
    "collapsed": true
   },
   "source": [
    "- 答：这次对使用sklearn包完成机器学习任务的流程有整体的了解，熟悉一些基本的函数使用。   但是对算法各个参数意义，以及使用场景不太明确，需要花时间搞清楚这些事情。"
   ]
  },
  {
   "cell_type": "markdown",
   "metadata": {},
   "source": [
    "- 课程反馈：请就知识点，进度，难易度，教学方式，考试方式及难易度等方面向我们反馈，督促我们进行更有效的改进。"
   ]
  },
  {
   "cell_type": "markdown",
   "metadata": {
    "collapsed": true
   },
   "source": [
    "- 答：课程感觉有点紧张，学习起来有点吃力，有可能是算法知识功底不足的原因，这周的课程明显感觉在强度和难度上拔升了一个level。"
   ]
  },
  {
   "cell_type": "markdown",
   "metadata": {},
   "source": [
    "<hr>\n",
    "<center><h1>####答卷结束####</h1></center>"
   ]
  }
 ],
 "metadata": {
  "kernelspec": {
   "display_name": "Python 3",
   "language": "python",
   "name": "python3"
  },
  "language_info": {
   "codemirror_mode": {
    "name": "ipython",
    "version": 3
   },
   "file_extension": ".py",
   "mimetype": "text/x-python",
   "name": "python",
   "nbconvert_exporter": "python",
   "pygments_lexer": "ipython3",
   "version": "3.5.2"
  }
 },
 "nbformat": 4,
 "nbformat_minor": 2
}
