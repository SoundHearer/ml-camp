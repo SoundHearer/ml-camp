{
 "cells": [
  {
   "cell_type": "markdown",
   "metadata": {},
   "source": [
    "## 七月在线机器学习实训营三期第五周(大数据Hadoop&Spark)考试\n",
    "#### 考试说明:\n",
    "- 起止时间：请同学在2018年3月9日至3月11日期间完成，最晚提交时间本周日（3月11日24时之前）结束，<b>逾期不接受补考,该考试分数计入平时成绩</b>\n",
    "- 考试方式：请同学<font color=red><b>拷贝</b></font>该试卷至自己姓名的目录后，将文件更名为同学姓名拼音-exam5后，进行作答。例如wangwei-exam5\n",
    "- 提交格式：请同学新建自己姓名全拼的文件夹，将该试卷，数据文件，zip文件等相关考试文件，放置此目录下。将该目录<b>移动</b>至/0.Teacher/Exam/4/目录下\n",
    "- 注意事项：为确保同学们真正了解自身对本周课程的掌握程度，<font color=red><b>请勿翻阅，移动，更改</b></font>其它同学试卷。如发现按0分处理\n",
    "- 请同学在下方同学姓名处填写自己的姓名，批改人和最终得分不用填写"
   ]
  },
  {
   "cell_type": "markdown",
   "metadata": {},
   "source": [
    "- 同学姓名:<u>沈福利</u>  \n",
    "- 批改人： David\n",
    "- 最终得分:97"
   ]
  },
  {
   "cell_type": "markdown",
   "metadata": {},
   "source": [
    "<center><h1>####答卷开始####</h1></center>\n",
    "<hr>"
   ]
  },
  {
   "cell_type": "markdown",
   "metadata": {},
   "source": [
    "## 问答题(共4题，每题5分，共计20分)\n",
    "- note: 17分"
   ]
  },
  {
   "cell_type": "markdown",
   "metadata": {},
   "source": [
    "#### 1.简述Hadoop的优点有哪些？而Spark与之相比又有哪些优点？"
   ]
  },
  {
   "cell_type": "code",
   "execution_count": null,
   "metadata": {
    "collapsed": true
   },
   "outputs": [],
   "source": [
    "Hadoop 主要包括HDFS和MapReduce。 HDFS 解决了文件的分布式存储问题;MapReduce 采用一种“分而治之”的思想，把原本大数据的计算，拆分成多个\n",
    "小任务分别并行处理。\n",
    "\n",
    "Spark 相比于Hadoop来说，可以认为在计算方面优于Hadoop的MapReduce，引入RDD可以把数据放到内存，速度更快。但文件的存储仍然依赖Hadoop中的HDFS。\n"
   ]
  },
  {
   "cell_type": "markdown",
   "metadata": {},
   "source": [
    "#### 2.请简述您对MAP-REDUCE这一编程模型的理解 "
   ]
  },
  {
   "cell_type": "code",
   "execution_count": null,
   "metadata": {
    "collapsed": true
   },
   "outputs": [],
   "source": [
    "把一件事情拆分成不同的部分，然后每个部分分别并行处理，处理完的结果，然后在进行相关的聚合。 例如： Spark 这种分布式的计算扔采用了MapReduce\n",
    "的这种思想。"
   ]
  },
  {
   "cell_type": "markdown",
   "metadata": {},
   "source": [
    "#### 3.请简述RDD的含义，并写出针对RDD的不少于三种操作。"
   ]
  },
  {
   "cell_type": "code",
   "execution_count": null,
   "metadata": {
    "collapsed": true
   },
   "outputs": [],
   "source": [
    "RDD： 是弹性分布式数据集合，每个RDD由多个Partition组成，RDD可以存储磁盘和内存\n",
    "RDD的算子：Transformation和Action两种操作，其中：转换操作包括map、filter、flatMap等，action操作包括saveAsTextFile、reduce、reduceByKey等"
   ]
  },
  {
   "cell_type": "markdown",
   "metadata": {},
   "source": [
    "#### 4.Spark内置了机器学习库mllib，请写出使用该库完成一项机器学习任务的通用步骤\n",
    "- （注意：仅步骤即可，如对该库不了解，可GOOGLE）"
   ]
  },
  {
   "cell_type": "code",
   "execution_count": null,
   "metadata": {
    "collapsed": true
   },
   "outputs": [],
   "source": [
    "1. 加载原始日志数据\n",
    "2. 对日志数据进行格式处理，例如： 转为成libsvm的数据格式\n",
    "3. 对libsvm的数据格式，传入到spark的model的算法中，并且设置相关参数\n",
    "4. 进行model 的train，并且经过多次的train的迭代后，找到一个最优的模型\n",
    "5. 最优模型存储内存或者外部存储系统，供后续预测调用\n"
   ]
  },
  {
   "cell_type": "markdown",
   "metadata": {},
   "source": [
    "## 实验题(共2题，每题40分，共计80分)"
   ]
  },
  {
   "cell_type": "markdown",
   "metadata": {},
   "source": [
    "### 1.HDFS实验题\n",
    "- note：35分\n",
    "#### 请写出完成以下任务的HDFS对应的文件(夹)操作命令\n",
    "* 在hdfs根目录下新建/sxy-new文件夹  \n",
    "hadoop fs -mkdir /sxy-new  \n",
    "\n",
    "* 把本地文件test.txt test2.txt放入该文件夹  \n",
    "hadoop fs -put -f test* /sxy-new \n",
    "\n",
    "* 从hdfs上取下文件old.txt(假定在/sxy-new下有该文件)  \n",
    "hadoop fs -get /sxy-news/old.txt . \n",
    "\n",
    "* 从hdfs上取下/sxy-new中所有内容，并合成一个本地文件  \n",
    "hadoop fs -getmerge /sxy-news/*  ./a.txt  \n",
    " \n",
    "* 把/sxy-new拷贝到/tmp下  \n",
    "hadoop fs -cp /sxy-new /tmp  \n",
    "* 删除/sxy-new文件夹  \n",
    "hadoop fs -rmr /sxy-new  "
   ]
  },
  {
   "cell_type": "markdown",
   "metadata": {},
   "source": [
    "### 2.PySpark实验题\n",
    "在服务器上执行pyspark命令可以启动，请把data.csv文件放置在服务器上\n",
    "- note: 45"
   ]
  },
  {
   "cell_type": "markdown",
   "metadata": {},
   "source": [
    "下面的操作均在pyspark 的单机版本下完成"
   ]
  },
  {
   "cell_type": "markdown",
   "metadata": {},
   "source": [
    "##### 0.环境准备与启动"
   ]
  },
  {
   "cell_type": "code",
   "execution_count": null,
   "metadata": {
    "collapsed": true
   },
   "outputs": [],
   "source": [
    "from pyspark import SparkContext\n",
    "sc = SparkContext('local', 'pyspark')"
   ]
  },
  {
   "cell_type": "markdown",
   "metadata": {},
   "source": [
    "##### 1.载入数据与了解基本信息"
   ]
  },
  {
   "cell_type": "code",
   "execution_count": 4,
   "metadata": {
    "collapsed": true
   },
   "outputs": [],
   "source": [
    "# 读入数据到raw_content这个RDD之中\n",
    "import os\n",
    "cwd = os.getcwd()   \n",
    "\n",
    "raw_content=sc.textFile(\"file://\" + cwd + \"/data.csv\")       \n",
    "\n"
   ]
  },
  {
   "cell_type": "code",
   "execution_count": 5,
   "metadata": {
    "collapsed": true
   },
   "outputs": [],
   "source": [
    "# 通过命令统计raw_content中的记录条数\n",
    "raw_content.count() # 421970"
   ]
  },
  {
   "cell_type": "code",
   "execution_count": 6,
   "metadata": {
    "collapsed": true
   },
   "outputs": [],
   "source": [
    "# 从raw_content这个RDD中取出前5条记录输出\n",
    "raw_content.take(5)\n",
    "# [u'\"date\",\"time\",\"size\",\"r_version\",\"r_arch\",\"r_os\",\"package\",\"version\",\"country\",\"ip_id\"', u'\"2015-12-12\",\"13:42:10\",257886,\"3.2.2\",\"i386\",\"mingw32\",\"HistData\",\"0.7-6\",\"CZ\",1', u'\"2015-12-12\",\"13:24:37\",1236751,\"3.2.2\",\"x86_64\",\"mingw32\",\"RJSONIO\",\"1.3-0\",\"DE\",2', u'\"2015-12-12\",\"13:42:35\",2077876,\"3.2.2\",\"i386\",\"mingw32\",\"UsingR\",\"2.0-5\",\"CZ\",1', u'\"2015-12-12\",\"13:42:01\",266724,\"3.2.2\",\"i386\",\"mingw32\",\"gridExtra\",\"2.0.0\",\"CZ\",1']\n"
   ]
  },
  {
   "cell_type": "code",
   "execution_count": 7,
   "metadata": {
    "collapsed": true
   },
   "outputs": [],
   "source": [
    "# 从raw_content中采样出3条记录输出\n",
    "# 语法： takeSample(withReplacement, size, seed=None)\n",
    "raw_content.takeSample(True,3,80)\n",
    "\n",
    "#[\n",
    "# u'\"2015-12-12\",\"01:44:37\",128193,\"3.2.3\",\"x86_64\",\"mingw32\",\"reshape\",\"0.8.5\",\"CN\",15983',\n",
    "# u'\"2015-12-12\",\"23:19:21\",1318984,\"3.2.2\",\"x86_64\",\"linux-gnu\",\"rmarkdown\",\"0.8.1\",\"RU\",6337', \n",
    "# u'\"2015-12-12\",\"16:55:04\",180760,\"3.2.2\",\"x86_64\",\"mingw32\",\"sybilcycleFreeFlux\",\"1.0.1\",\"AE\",556'\n",
    "#]\n"
   ]
  },
  {
   "cell_type": "markdown",
   "metadata": {},
   "source": [
    "提示：你将看到类似如下的结果：\n",
    "```\n",
    "[\n",
    "[u'\"date\"', u'\"time\"', u'\"size\"', u'\"r_version\"', u'\"r_arch\"', u'\"r_os\"', u'\"package\"', u'\"version\"', u'\"country\"', u'\"ip_id\"'], \n",
    "[u'\"2015-12-12\"', u'\"13:42:10\"', u'257886', u'\"3.2.2\"', u'\"i386\"', u'\"mingw32\"', u'\"HistData\"', u'\"0.7-6\"', u'\"CZ\"', u'1'], \n",
    "[u'\"2015-12-12\"', u'\"13:24:37\"', u'1236751', u'\"3.2.2\"', u'\"x86_64\"', u'\"mingw32\"', u'\"RJSONIO\"', u'\"1.3-0\"', u'\"DE\"', u'2']\n",
    "]\n",
    "```"
   ]
  },
  {
   "cell_type": "markdown",
   "metadata": {},
   "source": [
    "##### 2.数据处理"
   ]
  },
  {
   "cell_type": "code",
   "execution_count": 1,
   "metadata": {
    "collapsed": true
   },
   "outputs": [],
   "source": [
    "# 移除引号的函数\n",
    "# line='\"2015-12-12\",\"13:42:10\",257886,\"3.2.2\",\"i386\",\"mingw32\",\"HistData\",\"0.7-6\",\"CZ\",1'\n",
    "# print(line)\n",
    "# line=line.replace('\\\"','')\n",
    "# print(line)\n",
    "def remove_quotes(x):\n",
    "    return x.replace('\\\"','') # \"号这里需要转移处理"
   ]
  },
  {
   "cell_type": "code",
   "execution_count": null,
   "metadata": {
    "collapsed": true
   },
   "outputs": [],
   "source": [
    "# 对以上数据进行清洗，把记录中带的引号去除掉，得到content_rdd\n",
    "# tip：参考map函数的用法\n",
    "content_rdd=raw_content.map(lambda x:remove_quotes(x))\n",
    " content_rdd.take(4)"
   ]
  },
  {
   "cell_type": "markdown",
   "metadata": {},
   "source": [
    "你将得到类似以下结果的RDD：\n",
    "```\n",
    "[\n",
    "[u'date', u'time', u'size', u'r_version', u'r_arch', u'r_os', u'package', u'version', u'country', u'ip_id'], \n",
    "[u'2015-12-12', u'13:42:10', u'257886', u'3.2.2', u'i386', u'mingw32', u'HistData', u'0.7-6', u'CZ', u'1'], \n",
    "[u'2015-12-12', u'13:24:37', u'1236751', u'3.2.2', u'x86_64', u'mingw32', u'RJSONIO', u'1.3-0', u'DE', u'2'], \n",
    "[u'2015-12-12', u'13:42:35', u'2077876', u'3.2.2', u'i386', u'mingw32', u'UsingR', u'2.0-5', u'CZ', u'1']\n",
    "]\n",
    "```"
   ]
  },
  {
   "cell_type": "code",
   "execution_count": 8,
   "metadata": {
    "collapsed": true
   },
   "outputs": [],
   "source": [
    "# 有如下的text，请使用flatmap得到包含所有字幕的list\n",
    "# tip：请参考课程flatmap的使用，特别注意这里不同分割符的处理\n",
    "text=[\"a b c\", \"d e\", \"f#g#h\", \"m n q\", \"r,q,w\", \"j%r%q\"]\n",
    "text_rdd=sc.parallelize(text)\n",
    "wordsRDD=text_rdd.map(lambda line:line.replace(\"#\",\" \").replace(\"%\",\" \").replace(\",\",\" \")).flatMap(lambda line:line.split(\" \"))\n",
    "wordsRDD.collect()\n",
    "['a', 'b', 'c', 'd', 'e', 'f', 'g', 'h', 'm', 'n', 'q', 'r', 'q', 'w', 'j', 'r', 'q']\n",
    "# 我们可以按字母进行排序\n",
    "# wordsRDD.sortBy(lambda x:x).collect()\n",
    "# ['a', 'b', 'c', 'd', 'e', 'f', 'g', 'h', 'j', 'm', 'n', 'q', 'q', 'q', 'r', 'r', 'w']"
   ]
  },
  {
   "cell_type": "markdown",
   "metadata": {},
   "source": [
    "你将得到如下结果的RDD：\n",
    "```\n",
    "[a, b, c, d, e, f, g, h, m, n, q, r, q, w, j, r, q]\n",
    "```"
   ]
  },
  {
   "cell_type": "code",
   "execution_count": 9,
   "metadata": {
    "collapsed": true
   },
   "outputs": [],
   "source": [
    "# 从刚才的content_rdd中取出第7列，对不同的package类别进行统计计数\n",
    "# tip：可以使用map reduce或者pair-rdd reduceByKey\n",
    "\n",
    " resultRDD=content_rdd.map(lambda line:(line.split(\",\")[6],1)).reduceByKey(lambda x,y:x+y)\n",
    "#resultRDD.take(10)\n",
    "#[(u'SIS', 24), (u'StatMethRank', 15), (u'dbmss', 54), (u'searchable', 14), (u'RcmdrPlugin.TextMining', 3), (u'bear', 11), (u'SunterSampling', 18), (u'pcadapt', 17), (u'glmdm', 20), (u'ProfileLikelihood', 19)]"
   ]
  },
  {
   "cell_type": "markdown",
   "metadata": {},
   "source": [
    "##### 3.排序"
   ]
  },
  {
   "cell_type": "code",
   "execution_count": 11,
   "metadata": {
    "collapsed": true
   },
   "outputs": [],
   "source": [
    "# 取出数量最多的10个package和出现的频次\n",
    "# tip：注意sortbykey的使用\n",
    "\n",
    "# 1. <word,count> 变成<count,word> ，然后在进行排序 即可得出结果\n",
    "resultRDD.map(lambda words:(words[1],words[0])).sortByKey(ascending=False).take(10)\n",
    "# [(4783, u'Rcpp'), (3913, u'ggplot2'), (3748, u'stringi'), (3449, u'stringr'), (3436, u'plyr'), (3265, u'magrittr'), (3223, u'digest'), (3205, u'reshape2'), (3046, u'RColorBrewer'), (3007, u'scales')]\n",
    "\n",
    "\n",
    "# 2. 我们可以形成<word,count> 方式进行输出\n",
    "# 通过map 再一次进行变化即可\n",
    "#>>> resultRDD.map(lambda words:(words[1],words[0])).sortByKey(ascending=False).map(lambda words:(words[1],words[0])).take(10)\n",
    "# [(u'Rcpp', 4783), (u'ggplot2', 3913), (u'stringi', 3748), (u'stringr', 3449), (u'plyr', 3436), (u'magrittr', 3265), (u'digest', 3223), (u'reshape2', 3205), (u'RColorBrewer', 3046), (u'scales', 3007)]\n",
    "\n"
   ]
  },
  {
   "cell_type": "markdown",
   "metadata": {},
   "source": [
    "你将看到类似如下的结果：\n",
    "```\n",
    "[(4783, u'Rcpp'),\n",
    " (3913, u'ggplot2'),\n",
    " (3748, u'stringi'),\n",
    " (3449, u'stringr'),\n",
    " (3436, u'plyr'),\n",
    " (3265, u'magrittr'),\n",
    " (3223, u'digest'),\n",
    " (3205, u'reshape2'),\n",
    " (3046, u'RColorBrewer'),\n",
    " (3007, u'scales')]\n",
    "```"
   ]
  },
  {
   "cell_type": "markdown",
   "metadata": {},
   "source": [
    "##### 4.过滤"
   ]
  },
  {
   "cell_type": "code",
   "execution_count": null,
   "metadata": {
    "collapsed": true
   },
   "outputs": [],
   "source": [
    "# 取出top5的package对应的数据记录\n",
    "# tip：注意filter的使用\n",
    "\n",
    "\n",
    "#  本项目自己的理解，获取package 中词频最多的关键词中包含的数据记录，按照这个思路进行数据处理的。。\n",
    "\n",
    "# 1. 获取所有\n",
    "wordCountRankRDD=resultRDD.map(lambda words:(words[1],words[0])).sortByKey(ascending=False).map(lambda words:(words[1],words[0]))\n",
    "# 2. 获取前5 的package 的名字\n",
    "top5PackNameDict = dict(wordCountRankRDD.take(5))\n",
    "\n",
    "#>>> top5PackNameDict\n",
    "#{u'Rcpp': 4783, u'plyr': 3436, u'ggplot2': 3913, u'stringr': 3449, u'stringi': 3748}\n",
    "# 3. 这里显示data.csv 中package 排名靠前的5 条记录\n",
    "def contain_top5_keywords(line):\n",
    "    packageName = line.split(\",\")[6]\n",
    "    value = top5PackNameDict.get(packageName,None)\n",
    "    return value is not None\n",
    "\n",
    "# 4. 使用filter 过滤\n",
    "content_rdd.filter(lambda line: contain_top5_keywords(line)) \n",
    "\n",
    "\n",
    "# 5. 验证\n",
    "content_rdd.filter(lambda line: contain_top5_keywords(line)).take(5)\n",
    "# [u'2015-12-12,20:56:29,392860,3.1.3,x86_64,mingw32,plyr,1.8.3,US,10', \n",
    "# u'2015-12-12,20:55:19,512,NA,NA,NA,plyr,1.6,CN,23',\n",
    "# u'2015-12-12,20:56:29,35401,3.2.2,x86_64,mingw32,stringr,1.0.0,US,10', \n",
    "# u'2015-12-12,20:56:28,2370487,3.2.2,i386,mingw32,Rcpp,0.12.2,US,10', \n",
    "# u'2015-12-12,20:56:27,3643527,3.2.1,x86_64,linux-gnu,stringi,1.0-1,US,10'\n",
    "# ]"
   ]
  },
  {
   "cell_type": "markdown",
   "metadata": {},
   "source": [
    "### 本阶段课程意见反馈题(5分送分项，非必答)\n",
    "#### 请同学围绕以下两点进行回答：\n",
    "- 自身总结：请您对您自己在本周课程的学习，收获，技能掌握等方面进行一次总结 ，也包括有哪些方面存在哪些不足，欠缺，困惑。作为将来回顾学习路径时的依据。\n"
   ]
  },
  {
   "cell_type": "code",
   "execution_count": null,
   "metadata": {
    "collapsed": true
   },
   "outputs": [],
   "source": []
  },
  {
   "cell_type": "markdown",
   "metadata": {},
   "source": [
    "- 课程反馈：请就知识点，进度，难易度，教学方式，考试方式及难易度等方面向我们反馈，督促我们进行更有效的改进。"
   ]
  },
  {
   "cell_type": "code",
   "execution_count": null,
   "metadata": {
    "collapsed": true
   },
   "outputs": [],
   "source": []
  },
  {
   "cell_type": "markdown",
   "metadata": {},
   "source": [
    "<hr>\n",
    "<center><h1>####答卷结束####</h1></center>"
   ]
  }
 ],
 "metadata": {
  "kernelspec": {
   "display_name": "Python 3",
   "language": "python",
   "name": "python3"
  },
  "language_info": {
   "codemirror_mode": {
    "name": "ipython",
    "version": 3
   },
   "file_extension": ".py",
   "mimetype": "text/x-python",
   "name": "python",
   "nbconvert_exporter": "python",
   "pygments_lexer": "ipython3",
   "version": "3.5.2"
  }
 },
 "nbformat": 4,
 "nbformat_minor": 2
}
