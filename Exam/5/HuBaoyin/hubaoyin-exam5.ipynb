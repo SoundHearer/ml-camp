{
 "cells": [
  {
   "cell_type": "markdown",
   "metadata": {},
   "source": [
    "## 七月在线机器学习实训营三期第五周(大数据Hadoop&Spark)考试\n",
    "#### 考试说明:\n",
    "- 起止时间：请同学在2018年3月9日至3月11日期间完成，最晚提交时间本周日（3月11日24时之前）结束，<b>逾期不接受补考,该考试分数计入平时成绩</b>\n",
    "- 考试方式：请同学<font color=red><b>拷贝</b></font>该试卷至自己姓名的目录后，将文件更名为同学姓名拼音-exam5后，进行作答。例如wangwei-exam5\n",
    "- 提交格式：请同学新建自己姓名全拼的文件夹，将该试卷，数据文件，zip文件等相关考试文件，放置此目录下。将该目录<b>移动</b>至/0.Teacher/Exam/5/目录下\n",
    "- 注意事项：为确保同学们真正了解自身对本周课程的掌握程度，<font color=red><b>请勿翻阅，移动，更改</b></font>其它同学试卷。如发现按0分处理\n",
    "- 请同学在下方同学姓名处填写自己的姓名，批改人和最终得分不用填写"
   ]
  },
  {
   "cell_type": "markdown",
   "metadata": {},
   "source": [
    "- 同学姓名:<u>胡宝银</u>  \n",
    "- 批改人： David\n",
    "- 最终得分:93"
   ]
  },
  {
   "cell_type": "markdown",
   "metadata": {},
   "source": [
    "<center><h1>####答卷开始####</h1></center>\n",
    "<hr>"
   ]
  },
  {
   "cell_type": "markdown",
   "metadata": {},
   "source": [
    "## 问答题(共4题，每题5分，共计20分)\n",
    "\n",
    "- note: 18分"
   ]
  },
  {
   "cell_type": "markdown",
   "metadata": {},
   "source": [
    "#### 1.简述Hadoop的优点有哪些？而Spark与之相比又有哪些优点？"
   ]
  },
  {
   "cell_type": "markdown",
   "metadata": {
    "collapsed": true
   },
   "source": [
    "```\n",
    "答：\n",
    "一、Hadoop优点\n",
    "1. 高可靠性：Hadoop按位存储，数据处理能力强；\n",
    "2.易于扩展：Hadoop多个节点的集群间分配数据并完成计算任务的，这些集群可以方便地横向扩展；\n",
    "3.高效：Hadoop能够在节点之间动态地移动数据，多个节点并行处理请求，并保证各个节点的动态平衡，因此处理速度非常快；\n",
    "4.容错性好：Hadoop能够自动保存数据的多个副本，并且能够自动将失败的任务重新分配。\n",
    "二、Spark与Hadoop相比的优点\n",
    "1.Spark充分利用内存资源，操作处理速度极快；\n",
    "2.Spark易用性强，执行各种操作简单直观；\n",
    "3.功能强大，Spark提供了丰富基于RDD transform和action接口，能够适应各种复杂的应用场景；\n",
    "4.Spark内置基本的机器学习模块，我们能够使用spark快速进行特征抽取、建模、调参等工作。\n",
    "```"
   ]
  },
  {
   "cell_type": "markdown",
   "metadata": {},
   "source": [
    "#### 2.请简述您对MAP-REDUCE这一编程模型的理解 "
   ]
  },
  {
   "cell_type": "markdown",
   "metadata": {
    "collapsed": true
   },
   "source": [
    "```\n",
    "答：\n",
    "MapReduce将要执行的任务分为两个阶段：Map阶段和Reduce阶段\n",
    "    一、Map阶段由一组Map Task组成：\n",
    "        1. 输入数据解析；\n",
    "        2. 输入数据处理（过滤或者转换）；\n",
    "        3. 数据分组。\n",
    "    二、Reduce阶段由一定数量的Reduce Task组成：\n",
    "        1. 数据远程拷贝；\n",
    "        2. 数据按照key排序；\n",
    "        3. 数据处理（Reducer）；\n",
    "        4. 数据输出；\n",
    "```"
   ]
  },
  {
   "cell_type": "markdown",
   "metadata": {},
   "source": [
    "#### 3.请简述RDD的含义，并写出针对RDD的两类操作（transformation与action),每类下至少三种的操作。"
   ]
  },
  {
   "cell_type": "markdown",
   "metadata": {
    "collapsed": true
   },
   "source": [
    "```\n",
    "答：\n",
    "1. 含义：Resilient Distributed Dataset，弹性分布式数据集\n",
    "2. transformation操作：map、flatMap、filter、distinct、sample、sortBy\n",
    "3. action操作：collect、count、first、take、top、reduce\n",
    "```"
   ]
  },
  {
   "cell_type": "markdown",
   "metadata": {},
   "source": [
    "#### 4.Spark内置了机器学习库mllib，请写出使用该库完成一项机器学习任务的通用步骤\n",
    "- （注意：仅步骤即可，如对该库不了解，可GOOGLE）"
   ]
  },
  {
   "cell_type": "markdown",
   "metadata": {
    "collapsed": true
   },
   "source": [
    "```\n",
    "答：\n",
    "1. 加载数据\n",
    "2. 抽取特征\n",
    "3. 训练模型\n",
    "4. 模型评估\n",
    "```"
   ]
  },
  {
   "cell_type": "markdown",
   "metadata": {},
   "source": [
    "## 实验题(共2题，共计80分)"
   ]
  },
  {
   "cell_type": "markdown",
   "metadata": {},
   "source": [
    "### 1.HDFS实验题(35分)\n",
    "- note: 35分\n",
    "#### 请写出完成以下任务的HDFS对应的文件(夹)操作命令\n",
    "* 在hdfs根目录下新建/sxy-new文件夹\n",
    "\n",
    "\n",
    "* 把本地文件test.txt test2.txt放入该文件夹\n",
    "\n",
    "\n",
    "* 从hdfs上取下文件old.txt(假定在/sxy-new下有该文件)\n",
    "\n",
    "\n",
    "* 从hdfs上取下/sxy-new中所有内容，并合成一个本地文件\n",
    "\n",
    "\n",
    "* 把/sxy-new拷贝到/tmp下\n",
    "\n",
    "\n",
    "* 删除/sxy-new文件夹"
   ]
  },
  {
   "cell_type": "markdown",
   "metadata": {
    "collapsed": true
   },
   "source": [
    "```\n",
    "答：\n",
    "1. hadoop fs -mkdir /sxy-new\n",
    "2. hadoop fs -put test.txt test2.txt /sxy-new/\n",
    "3. hadoop fs -get /sxy-new/old.txt ./\n",
    "4. hadoop fs -getmerge /sxy-new sxy-new_files.txt\n",
    "5. hadoop fs -cp -f /sxy-new /tmp\n",
    "6. hadoop fs -rm -r -f /sxy-new\n",
    "```"
   ]
  },
  {
   "cell_type": "markdown",
   "metadata": {},
   "source": [
    "### 2.PySpark实验题(45分)\n",
    "在服务器上执行pyspark命令可以启动，请把data.csv文件放置在服务器上\n",
    "\n",
    "- note: 35分"
   ]
  },
  {
   "cell_type": "markdown",
   "metadata": {},
   "source": [
    "##### 0.环境准备与启动"
   ]
  },
  {
   "cell_type": "markdown",
   "metadata": {
    "collapsed": true
   },
   "source": [
    "```\n",
    "答：\n",
    "pysaprk\n",
    "from pyspark import SparkContext\n",
    "sc = SparkContext('local', 'pyspark')\n",
    "```"
   ]
  },
  {
   "cell_type": "markdown",
   "metadata": {},
   "source": [
    "##### 1.载入数据与了解基本信息\n",
    "\n",
    "- note: 这里也可以将文件放置于HDFS文件系统 上，数据量大时推荐"
   ]
  },
  {
   "cell_type": "markdown",
   "metadata": {
    "collapsed": true
   },
   "source": [
    "```\n",
    "答：\n",
    "import os \n",
    "cwd = os.getcwd()\n",
    "raw_content = sc.textFile(\"file://\" + cwd + \"/hadoop_mapreduce/hadoop_Andy/exam/data/data.csv\")\n",
    "```"
   ]
  },
  {
   "cell_type": "markdown",
   "metadata": {
    "collapsed": true
   },
   "source": [
    "#### 获取raw_content记录条数\n",
    "```\n",
    "答：\n",
    "raw_content.count()\n",
    "```"
   ]
  },
  {
   "cell_type": "markdown",
   "metadata": {
    "collapsed": true
   },
   "source": [
    "#### 从raw_content这个RDD中取出前5条记录输出\n",
    "```\n",
    "答：\n",
    "raw_content.top(5)\n",
    "```"
   ]
  },
  {
   "cell_type": "markdown",
   "metadata": {
    "collapsed": true
   },
   "source": [
    "#### 从raw_content中采样出3条记录输出\n",
    "```\n",
    "答：\n",
    "raw_content.takeSample(True, 3,111)\n",
    "```"
   ]
  },
  {
   "cell_type": "markdown",
   "metadata": {},
   "source": [
    "提示：你将看到类似如下的结果：\n",
    "```\n",
    "[\n",
    "[u'\"date\"', u'\"time\"', u'\"size\"', u'\"r_version\"', u'\"r_arch\"', u'\"r_os\"', u'\"package\"', u'\"version\"', u'\"country\"', u'\"ip_id\"'], \n",
    "[u'\"2015-12-12\"', u'\"13:42:10\"', u'257886', u'\"3.2.2\"', u'\"i386\"', u'\"mingw32\"', u'\"HistData\"', u'\"0.7-6\"', u'\"CZ\"', u'1'], \n",
    "[u'\"2015-12-12\"', u'\"13:24:37\"', u'1236751', u'\"3.2.2\"', u'\"x86_64\"', u'\"mingw32\"', u'\"RJSONIO\"', u'\"1.3-0\"', u'\"DE\"', u'2']\n",
    "]\n",
    "```"
   ]
  },
  {
   "cell_type": "markdown",
   "metadata": {},
   "source": [
    "##### 2.数据处理"
   ]
  },
  {
   "cell_type": "markdown",
   "metadata": {
    "collapsed": true
   },
   "source": [
    "#### 对以上数据进行清洗，把记录中带的引号去除掉，得到content_rdd(tip：参考map函数的用法)\n",
    "```\n",
    "答：\n",
    "content_rdd = raw_content.map(lambda x: x.replace(\"\\\"\",\"\"))\n",
    "content_rdd.cache()\n",
    "```"
   ]
  },
  {
   "cell_type": "markdown",
   "metadata": {},
   "source": [
    "你将得到类似以下结果的RDD：\n",
    "```\n",
    "[\n",
    "[u'date', u'time', u'size', u'r_version', u'r_arch', u'r_os', u'package', u'version', u'country', u'ip_id'], \n",
    "[u'2015-12-12', u'13:42:10', u'257886', u'3.2.2', u'i386', u'mingw32', u'HistData', u'0.7-6', u'CZ', u'1'], \n",
    "[u'2015-12-12', u'13:24:37', u'1236751', u'3.2.2', u'x86_64', u'mingw32', u'RJSONIO', u'1.3-0', u'DE', u'2'], \n",
    "[u'2015-12-12', u'13:42:35', u'2077876', u'3.2.2', u'i386', u'mingw32', u'UsingR', u'2.0-5', u'CZ', u'1']\n",
    "]\n",
    "```"
   ]
  },
  {
   "cell_type": "markdown",
   "metadata": {
    "collapsed": true
   },
   "source": [
    "#### 有如下的text，请使用flatmap得到包含所有字幕的list(tip：请参考课程flatmap的使用，特别注意这里不同分割符的处理)\n",
    "- note:此处执行错误\n",
    "```\n",
    "答：\n",
    "import re\n",
    "text=[\"a b c\", \"d e\", \"f#g#h\", \"m n q\", \"r,q,w\", \"j%r%q\"]\n",
    "sc.parallelize(text)\n",
    "text_rdd.flatMap(lambda x:re.sub('[^a-zA-Z]','',x)).collect()\n",
    "```"
   ]
  },
  {
   "cell_type": "markdown",
   "metadata": {},
   "source": [
    "你将得到如下结果的RDD：\n",
    "```\n",
    "[a, b, c, d, e, f, g, h, m, n, q, r, q, w, j, r, q]\n",
    "```"
   ]
  },
  {
   "cell_type": "markdown",
   "metadata": {
    "collapsed": true
   },
   "source": [
    "#### 从刚才的content_rdd中取出第7列，对不同的package类别进行统计计数(tip：可以使用map reduce或者pair-rdd reduceByKey)\n",
    "```\n",
    "答：\n",
    "package_stat_rdd = (\n",
    "    content_rdd\n",
    "    .filter(lambda x: x.find('version,country') < 0)\n",
    "    .map(lambda x: (x.split(',')[6], 1))\n",
    "    .reduceByKey(lambda x, y: x + y)\n",
    ")\n",
    "package_stat_rdd.cache()\n",
    "package_stat_rdd.collectAsMap()\n",
    "```"
   ]
  },
  {
   "cell_type": "markdown",
   "metadata": {},
   "source": [
    "##### 3.排序"
   ]
  },
  {
   "cell_type": "markdown",
   "metadata": {
    "collapsed": true
   },
   "source": [
    "#### 取出数量最多的10个package和出现的频次(tip：注意sortbykey的使用)\n",
    "```\n",
    "答：\n",
    "sorted_package_stat_rdd = package_stat_rdd.sortBy(lambda x:x[1],ascending=False)\n",
    "sorted_package_stat_rdd.cache()\n",
    "sorted_package_stat_rdd.take(10)\n",
    "```"
   ]
  },
  {
   "cell_type": "markdown",
   "metadata": {},
   "source": [
    "你将看到类似如下的结果：\n",
    "```\n",
    "[(4783, u'Rcpp'),\n",
    " (3913, u'ggplot2'),\n",
    " (3748, u'stringi'),\n",
    " (3449, u'stringr'),\n",
    " (3436, u'plyr'),\n",
    " (3265, u'magrittr'),\n",
    " (3223, u'digest'),\n",
    " (3205, u'reshape2'),\n",
    " (3046, u'RColorBrewer'),\n",
    " (3007, u'scales')]\n",
    "```"
   ]
  },
  {
   "cell_type": "markdown",
   "metadata": {},
   "source": [
    "##### 4.过滤"
   ]
  },
  {
   "cell_type": "markdown",
   "metadata": {
    "collapsed": true
   },
   "source": [
    "#### 取出top5的package对应的数据记录(tip：注意filter的使用)\n",
    "```\n",
    "答：\n",
    "top5_packages = sorted_package_stat_rdd.take(5)\n",
    "content_rdd.filter(lambda x:x.split(',')[6] in [pkg[0] for pkg in top5_packages]).collect()\n",
    "```"
   ]
  },
  {
   "cell_type": "markdown",
   "metadata": {},
   "source": [
    "### 本阶段课程意见反馈题(5分送分项，非必答)\n",
    "#### 请同学围绕以下两点进行回答：\n",
    "- 自身总结：请您对您自己在本周课程的学习，收获，技能掌握等方面进行一次总结 ，也包括有哪些方面存在哪些不足，欠缺，困惑。作为将来回顾学习路径时的依据。\n"
   ]
  },
  {
   "cell_type": "markdown",
   "metadata": {
    "collapsed": true
   },
   "source": [
    "```\n",
    "答：\n",
    "在本周的课程中，我学到了：\n",
    "1. 掌握hadoop（map-reduce、hdfs）理论知识及基本操作，能够使用hadoop fs对hdfs执行上传、下载、创建目录、删除文件/目录、查看目录等基本的操作；\n",
    "2. 理解spark框架结构及driver、executor、RDD等核心概念，掌握了RDD基本初始化方法、RDD trandform和action基本操作；\n",
    "3. 了解hadoop、spark在实际机器学习项目的基本应用场景，能够利用所学知识完成简单的机器学习任务，如特征工程，建模、模型评估等。\n",
    "4. 不足之处在于，对我我个人而言大数据这部分内容是比较新的知识，很多操作不是特别熟练，今后还需要多动手实践，以达到能够熟练应用到实际项目中的程度。\n",
    "```"
   ]
  },
  {
   "cell_type": "markdown",
   "metadata": {},
   "source": [
    "- 课程反馈：请就知识点，进度，难易度，教学方式，考试方式及难易度等方面向我们反馈，督促我们进行更有效的改进。"
   ]
  },
  {
   "cell_type": "markdown",
   "metadata": {
    "collapsed": true
   },
   "source": [
    "```\n",
    "暂无\n",
    "```"
   ]
  },
  {
   "cell_type": "markdown",
   "metadata": {},
   "source": [
    "<hr>\n",
    "<center><h1>####答卷结束####</h1></center>"
   ]
  }
 ],
 "metadata": {
  "kernelspec": {
   "display_name": "Python 3",
   "language": "python",
   "name": "python3"
  },
  "language_info": {
   "codemirror_mode": {
    "name": "ipython",
    "version": 3
   },
   "file_extension": ".py",
   "mimetype": "text/x-python",
   "name": "python",
   "nbconvert_exporter": "python",
   "pygments_lexer": "ipython3",
   "version": "3.5.2"
  }
 },
 "nbformat": 4,
 "nbformat_minor": 2
}
