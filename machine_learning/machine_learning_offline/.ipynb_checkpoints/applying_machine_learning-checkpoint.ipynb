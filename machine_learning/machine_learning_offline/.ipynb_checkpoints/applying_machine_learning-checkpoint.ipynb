{
 "cells": [
  {
   "cell_type": "markdown",
   "metadata": {},
   "source": [
    "## 机器学习"
   ]
  },
  {
   "cell_type": "markdown",
   "metadata": {},
   "source": [
    "### 1.监督学习算法\n",
    "X(数据/特征) => Y(标签)  f(X)=Y<br>\n",
    "1）**分类**<br>\n",
    "* 电商搜索排序，ranking => 是否会发生购买 => 买、不买 => 二分类的分类器 => 概率结果值\n",
    "* NMT(基于神经网络的翻译系统)，seq2seq，输入一个文本序列(中文)，输出一个对应的文本序列(英文) => 每一个结果词，输出的时候，都可以视作一个分类<br>\n",
    "我 爱 中国<br>\n",
    "I like China<br>\n",
    "\n",
    "2）回归<br>\n",
    "\n",
    "评判标准\n",
    "\n",
    "### 2.无监督学习算法\n",
    "X(数据/特征) => pattern(聚类抱团的数据分布信息、PCA主成分信息...)<br>\n",
    "1）聚类<br>\n",
    "2）降维 PCA<br>\n",
    "3）关联规则<br>\n",
    "\n",
    "### 3.强化学习"
   ]
  },
  {
   "cell_type": "markdown",
   "metadata": {},
   "source": [
    "## 数据驱动的方法"
   ]
  },
  {
   "cell_type": "markdown",
   "metadata": {},
   "source": [
    "### 数据 => 模式"
   ]
  },
  {
   "cell_type": "markdown",
   "metadata": {},
   "source": [
    "### **数据** + **算法** = 解决方案"
   ]
  },
  {
   "cell_type": "markdown",
   "metadata": {},
   "source": [
    "### 1）数据"
   ]
  },
  {
   "cell_type": "markdown",
   "metadata": {},
   "source": [
    "#### 业务层面\n",
    "数据处理/特征工程方式\n",
    "\n",
    "#### 工具层面\n",
    "数据分析处理(pandas groupby agg describe info / pyspark) => 了解数据分布<br>\n",
    "数据可视化(matplotlib seaborn)"
   ]
  },
  {
   "cell_type": "markdown",
   "metadata": {},
   "source": [
    "### 2）算法"
   ]
  },
  {
   "cell_type": "markdown",
   "metadata": {},
   "source": [
    "### 表示 + 优化"
   ]
  },
  {
   "cell_type": "markdown",
   "metadata": {},
   "source": [
    "#### 2.1 表示"
   ]
  },
  {
   "cell_type": "markdown",
   "metadata": {},
   "source": [
    "X => Y  <br>\n",
    "LR:f(X) = sigmoid(WX+b)<br>"
   ]
  },
  {
   "cell_type": "markdown",
   "metadata": {},
   "source": [
    "#### 2.2 优化"
   ]
  },
  {
   "cell_type": "markdown",
   "metadata": {},
   "source": [
    "* 损失函数 MSE sum((y-y_pre)^2)/样本量\n",
    "* 优化方法 梯度下降(一阶优化算法) 牛顿法(二阶优化算法) 拟牛顿法 L-BFGS"
   ]
  },
  {
   "cell_type": "markdown",
   "metadata": {},
   "source": [
    "# 算法应用"
   ]
  },
  {
   "cell_type": "markdown",
   "metadata": {},
   "source": [
    "#### 分类\n",
    "1）逻辑回归 => softmax => MLP/DNN (WX+b形式)<br>\n",
    "2）决策树 => 随机森林/GBDT(集成模型) (一种规则)"
   ]
  },
  {
   "cell_type": "code",
   "execution_count": null,
   "metadata": {
    "collapsed": true
   },
   "outputs": [],
   "source": []
  }
 ],
 "metadata": {
  "kernelspec": {
   "display_name": "Python 3",
   "language": "python",
   "name": "python3"
  },
  "language_info": {
   "codemirror_mode": {
    "name": "ipython",
    "version": 3
   },
   "file_extension": ".py",
   "mimetype": "text/x-python",
   "name": "python",
   "nbconvert_exporter": "python",
   "pygments_lexer": "ipython3",
   "version": "3.5.2"
  }
 },
 "nbformat": 4,
 "nbformat_minor": 2
}
