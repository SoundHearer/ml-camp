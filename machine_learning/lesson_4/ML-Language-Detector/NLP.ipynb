{
 "cells": [
  {
   "cell_type": "markdown",
   "metadata": {},
   "source": [
    "## NLP 自然语言处理"
   ]
  },
  {
   "cell_type": "markdown",
   "metadata": {},
   "source": [
    "### 背景介绍"
   ]
  },
  {
   "cell_type": "markdown",
   "metadata": {},
   "source": [
    "和文本打交道的一类算法应用\n",
    "\n",
    "资讯类/社交网络 公司：今日头条 新浪微博 腾讯<br>\n",
    "电商：淘宝、京东、拼多多 （商铺信息、商品信息、检索词）<br>\n",
    "金融应用：有 新闻、舆论 分析"
   ]
  },
  {
   "cell_type": "markdown",
   "metadata": {},
   "source": [
    "* 分类 （文本情感分析:喜怒哀乐，正向/负向、新闻分类:财经/体育/政治/社会...）\n",
    "* 打标签（今日头条 推荐新闻，给新闻打上tags，给用户打上tags，进行tags的匹配）"
   ]
  },
  {
   "cell_type": "markdown",
   "metadata": {},
   "source": [
    "### 分类"
   ]
  },
  {
   "cell_type": "markdown",
   "metadata": {},
   "source": [
    "* 把文本转换成计算机能读得懂的数据表示 (词袋、N-gram、TF-IDF、hash-representation、word2vec/word embedding)\n",
    "* 利用机器学习/深度学习算法进行训练学习 (朴素贝叶斯、LR/softmax、svm、GBDT、text-cnn、rnn/LSTM)"
   ]
  },
  {
   "cell_type": "code",
   "execution_count": null,
   "metadata": {
    "collapsed": true
   },
   "outputs": [],
   "source": []
  }
 ],
 "metadata": {
  "kernelspec": {
   "display_name": "Python 3",
   "language": "python",
   "name": "python3"
  },
  "language_info": {
   "codemirror_mode": {
    "name": "ipython",
    "version": 3
   },
   "file_extension": ".py",
   "mimetype": "text/x-python",
   "name": "python",
   "nbconvert_exporter": "python",
   "pygments_lexer": "ipython3",
   "version": "3.5.2"
  }
 },
 "nbformat": 4,
 "nbformat_minor": 2
}
